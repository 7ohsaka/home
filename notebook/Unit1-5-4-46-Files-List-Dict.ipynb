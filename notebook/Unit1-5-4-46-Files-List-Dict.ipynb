{
 "cells": [
  {
   "cell_type": "markdown",
   "metadata": {},
   "source": [
    "## 4.6 Files\n",
    "\n",
    "Every computer system uses files to save things from one computation to the next.\n",
    "\n",
    "Python provides many facilities for creating and accessing files.\n",
    "\n",
    "\n",
    "<b style=\"color:blue\">open()</b> returns a file object, and is most commonly used with two arguments:`open(filename, mode)`.\n",
    "\n",
    "```python\n",
    "f = open('workfile', 'w')\n",
    "```    \n",
    "\n",
    "* The first argument is a string containing the filename. \n",
    "\n",
    "\n",
    "* The second argument is another string containing a few characters describing the way in which the file will be used. \n",
    "\n",
    "\n",
    "  * **Writing** : 'w' for only writing (an existing file with the same name will be erased)\n",
    "\n",
    "  * **Reading** :'r' when the file will only be read \n",
    "  \n",
    "    * **Reading and writing**: 'r+' opens the file for both reading and writing.\n",
    "\n",
    "  * **Appending** :'a' opens the file for appending; any data written to the file is automatically added to the end.\n",
    "  \n",
    "Here we illustrate some of the basic ones:"
   ]
  },
  {
   "cell_type": "markdown",
   "metadata": {},
   "source": [
    "### 4.6.1  writing \n",
    "\n",
    "\n",
    "<b style=\"color:blue\">open</b>  create a file with the name **kids.txt** ,\n",
    "\n",
    "using the argument <b style=\"color:blue\">w</b> to indicate that the file is to be opened for **writing**.\n",
    "\n",
    " * an existing file with the same name will be erased"
   ]
  },
  {
   "cell_type": "code",
   "execution_count": null,
   "metadata": {},
   "outputs": [],
   "source": [
    "nameHandle = open('kids.txt', 'w')\n",
    "\n",
    "for i in range(2):\n",
    "    name = input('Enter name: ')\n",
    "\n",
    "    nameHandle.write(name + '\\n') # the string '\\n' indicates a new line character.\n",
    "\n",
    "nameHandle.close()"
   ]
  },
  {
   "cell_type": "markdown",
   "metadata": {},
   "source": [
    "**name + '\\n'**: the string **'\\n'** indicates a **new line** character."
   ]
  },
  {
   "cell_type": "code",
   "execution_count": 6,
   "metadata": {},
   "outputs": [],
   "source": [
    "nameHandle = open('kids.txt', 'w')\n",
    "\n",
    "for i in range(2):\n",
    "    if i==0:\n",
    "        name='David'\n",
    "    elif i==1:\n",
    "        name='Andrea'\n",
    "        \n",
    "    nameHandle.write(name + '\\n') # the string '\\n' indicates a new line character.\n",
    "\n",
    "nameHandle.close()"
   ]
  },
  {
   "cell_type": "code",
   "execution_count": 7,
   "metadata": {},
   "outputs": [
    {
     "name": "stdout",
     "output_type": "stream",
     "text": [
      " 驱动器 F 中的卷是 cmh\n",
      " 卷的序列号是 9C25-3306\n",
      "\n",
      " F:\\SEU\\SEE\\PySEE\\home\\notebook 的目录\n",
      "\n",
      "2019/03/21  09:52                15 kids.txt\n",
      "               1 个文件             15 字节\n",
      "               0 个目录 103,862,226,944 可用字节\n"
     ]
    }
   ],
   "source": [
    "!dir kids.txt"
   ]
  },
  {
   "cell_type": "code",
   "execution_count": null,
   "metadata": {},
   "outputs": [],
   "source": [
    "%load kids.txt"
   ]
  },
  {
   "cell_type": "markdown",
   "metadata": {
    "collapsed": true
   },
   "source": [
    "### 4.6.2 Reading\n",
    "\n",
    "<b style=\"color:blue\">open</b> the file for **reading**,using the argument <b style=\"color:blue\">r</b>\n",
    "\n",
    "'r' will be assumed if it’s omitted."
   ]
  },
  {
   "cell_type": "code",
   "execution_count": 11,
   "metadata": {},
   "outputs": [
    {
     "name": "stdout",
     "output_type": "stream",
     "text": [
      "David\n",
      "\n",
      "Andrea\n",
      "\n"
     ]
    }
   ],
   "source": [
    "nameHandle = open('kids.txt', 'r')\n",
    "#nameHandle = open('kids.txt', 'r') #'r' will be assumed if it’s omitted.\n",
    "\n",
    "for line in nameHandle:\n",
    "    print(line)\n",
    "    \n",
    "nameHandle.close()"
   ]
  },
  {
   "cell_type": "markdown",
   "metadata": {
    "collapsed": true
   },
   "source": [
    "you see **new line** between each name. Because\n",
    "\n",
    "```python \n",
    "`\\n`  # one  line\n",
    "```\n",
    "**ADD**\n",
    "\n",
    "```python\n",
    "print # one line\n",
    "```\n",
    "\n",
    "We could have avoided printing that(**new line**) by writing print\n",
    "```python\n",
    "  line[:-1]\n",
    "```\n",
    "**slicing** line to delete **'\\n'** in each line for file. "
   ]
  },
  {
   "cell_type": "code",
   "execution_count": 5,
   "metadata": {},
   "outputs": [
    {
     "name": "stdout",
     "output_type": "stream",
     "text": [
      "David\n",
      "Andrea\n"
     ]
    }
   ],
   "source": [
    "nameHandle = open('kids.txt', 'r')\n",
    "for line in nameHandle:\n",
    "    print(line[:-1])  # print(line[:len(line)-1] \\n\n",
    "nameHandle.close()"
   ]
  },
  {
   "cell_type": "markdown",
   "metadata": {},
   "source": [
    "#### Writing and Reading"
   ]
  },
  {
   "cell_type": "code",
   "execution_count": 16,
   "metadata": {},
   "outputs": [
    {
     "name": "stdout",
     "output_type": "stream",
     "text": [
      "Michael\n",
      "Mark\n"
     ]
    }
   ],
   "source": [
    "nameHandle = open('kids.txt', 'w')\n",
    "nameHandle.write('Michael\\n')\n",
    "nameHandle.write('Mark\\n')\n",
    "nameHandle.close()\n",
    "\n",
    "nameHandle = open('kids.txt', 'r')\n",
    "for line in nameHandle:\n",
    "    print(line[:-1])\n",
    "nameHandle.close()"
   ]
  },
  {
   "cell_type": "code",
   "execution_count": null,
   "metadata": {},
   "outputs": [],
   "source": [
    "# %load kids.txt\n",
    "Michael\n",
    "Mark"
   ]
  },
  {
   "cell_type": "markdown",
   "metadata": {},
   "source": [
    "#### Reading and writing\n",
    "\n",
    "'r+' opens the file for both reading and writing."
   ]
  },
  {
   "cell_type": "code",
   "execution_count": 13,
   "metadata": {},
   "outputs": [],
   "source": [
    "nameHandle = open('kids.txt', 'r+')\n",
    "nameHandle.write('David\\n')\n",
    "nameHandle.close()"
   ]
  },
  {
   "cell_type": "code",
   "execution_count": null,
   "metadata": {},
   "outputs": [],
   "source": [
    "%load kids.txt"
   ]
  },
  {
   "cell_type": "markdown",
   "metadata": {
    "collapsed": true
   },
   "source": [
    "### 4.6.3 Appending\n",
    "\n",
    "<b style=\"color:blue\">open</b> the file for **appending** (instead of writing) by using the argument  <b style=\"color:blue\">a</b>"
   ]
  },
  {
   "cell_type": "code",
   "execution_count": null,
   "metadata": {},
   "outputs": [],
   "source": [
    "nameHandle = open('kids.txt', 'a') # argument 'a' -  appending\n",
    "\n",
    "nameHandle.write('David\\n')\n",
    "nameHandle.write('Andrea\\n')\n",
    "\n",
    "nameHandle.close()\n",
    "\n",
    "nameHandle = open('kids.txt', 'r')\n",
    "for line in nameHandle:\n",
    "    print(line[:-1])\n",
    "nameHandle.close()"
   ]
  },
  {
   "cell_type": "markdown",
   "metadata": {},
   "source": [
    "Some of the common operations on files are summarized\n",
    "\n",
    "![Figure412](./img/figure412.jpg)"
   ]
  },
  {
   "cell_type": "markdown",
   "metadata": {},
   "source": [
    "### 4.6.4  Files in a specific `encoding`\n",
    "\n",
    "`Text encoding` is a sufficiently complex topic that there’s no one size fits all answer - the right answer for a given application will depend on factors like:\n",
    "\n",
    "* how much control you have over the text encodings used\n",
    "\n",
    "* whether avoiding program failure is more important than avoiding data corruption or vice-versa\n",
    "\n",
    "* how common encoding errors are expected to be, and whether they need to be handled gracefully or can simply be rejected as invalid input\n"
   ]
  },
  {
   "cell_type": "markdown",
   "metadata": {},
   "source": [
    "#### 1 gbk\n",
    "\n",
    "GBK: 汉字内码扩展规范(Chinese Internal Code Specification)"
   ]
  },
  {
   "cell_type": "code",
   "execution_count": null,
   "metadata": {},
   "outputs": [],
   "source": [
    "fname=\"./code/python/gbk.txt\"\n",
    "f = open(fname,'w',encoding=\"gbk\")\n",
    "f.write('中文-gbk')\n",
    "f.close()"
   ]
  },
  {
   "cell_type": "markdown",
   "metadata": {},
   "source": [
    "Open GBK with UTF-8 encoding"
   ]
  },
  {
   "cell_type": "code",
   "execution_count": null,
   "metadata": {},
   "outputs": [],
   "source": [
    "f = open(fname,'r',encoding=\"utf-8\")\n",
    "line=f.readline()\n",
    "print(line)\n",
    "f.close()"
   ]
  },
  {
   "cell_type": "markdown",
   "metadata": {},
   "source": [
    "Open GBK with GBK encoding"
   ]
  },
  {
   "cell_type": "code",
   "execution_count": null,
   "metadata": {},
   "outputs": [],
   "source": [
    "f = open(fname,'r',encoding=\"gbk\")\n",
    "line=f.readline()\n",
    "print(line)\n",
    "f.close()"
   ]
  },
  {
   "cell_type": "markdown",
   "metadata": {},
   "source": [
    "#### 2 utf-8"
   ]
  },
  {
   "cell_type": "code",
   "execution_count": null,
   "metadata": {},
   "outputs": [],
   "source": [
    "fname=\"./code/python/utf-8.txt\"\n",
    "f = open(fname,'w',encoding=\"utf-8\")\n",
    "f.write('中文-utf-8')\n",
    "f.close()"
   ]
  },
  {
   "cell_type": "markdown",
   "metadata": {},
   "source": [
    "Open UTF-8 with GBK encoding"
   ]
  },
  {
   "cell_type": "code",
   "execution_count": null,
   "metadata": {},
   "outputs": [],
   "source": [
    "f = open(fname,'r',encoding=\"gbk\")\n",
    "line=f.readline()\n",
    "print(line)\n",
    "f.close()"
   ]
  },
  {
   "cell_type": "markdown",
   "metadata": {},
   "source": [
    "Open UTF-8 with UTF-8 encoding"
   ]
  },
  {
   "cell_type": "code",
   "execution_count": null,
   "metadata": {},
   "outputs": [],
   "source": [
    "f = open(fname,'r',encoding=\"utf-8\")\n",
    "line=f.readline()\n",
    "print(line)\n",
    "f.close()"
   ]
  },
  {
   "cell_type": "markdown",
   "metadata": {},
   "source": [
    "#### 3 The default encoding：UTF-8\n"
   ]
  },
  {
   "cell_type": "code",
   "execution_count": null,
   "metadata": {},
   "outputs": [],
   "source": [
    "fname=\"./code/python/default.txt\"\n",
    "f = open(fname,'w')\n",
    "f.write('中文default')\n",
    "f.close()"
   ]
  },
  {
   "cell_type": "code",
   "execution_count": null,
   "metadata": {},
   "outputs": [],
   "source": [
    "f = open(fname,'r')\n",
    "line=f.readline()\n",
    "print(line)\n",
    "f.close()"
   ]
  },
  {
   "cell_type": "markdown",
   "metadata": {},
   "source": [
    "### Further Reading\n",
    "\n",
    "**Python Tutorial 7.2**. Reading and Writing Files  \n",
    "\n",
    " * https://docs.python.org/tutorial/inputoutput.html#reading-and-writing-files\n",
    "  \n",
    " \n",
    "**Processing Text Files in Python 3**\n",
    "\n",
    "  * http://python-notes.curiousefficiency.org/en/latest/python3/text_file_processing.html\n",
    "  \n",
    "\n",
    "### Binary Data Files\n",
    "\n",
    "**J. M. Hughes. Real World Instrumentation with Python: CHAPTER 12 Reading and Writing Data Files**\n",
    "\n",
    "  *  [UnitA-2: Reading-and-Writing-Data-Files-Binary-Data-Files](./UnitA-2-Reading-and-Writing-Data-Files-Binary-Data-Files.ipynb)\n",
    " \n",
    "\n",
    "  \n",
    "    \n"
   ]
  },
  {
   "cell_type": "markdown",
   "metadata": {},
   "source": [
    "#   Table Data(File), Dictionary and List\n",
    "\n",
    "|name      |  age   |   city|\n",
    "|---------:|------:|-------:|\n",
    "|zhangsan  |  28    |  nanjing|\n",
    "\n",
    "```python\n",
    "data table  -> dict\n",
    "     colmun -> key(string)\n",
    "       row  -> value(list)\n",
    "```\n",
    "In the concept of Relation Database\n",
    "\n",
    "```python\n",
    "data table  -> Relation Database's Table\n",
    "     colmun -> field\n",
    "       row  -> record\n",
    "```\n",
    "\n",
    "## Creating data table dicts from sequences\n",
    "\n",
    "```\n",
    "dict {field1:[],field2:[]....}\n",
    "```\n",
    "data table is dict"
   ]
  },
  {
   "cell_type": "code",
   "execution_count": null,
   "metadata": {},
   "outputs": [],
   "source": [
    "fields=['name','age','city']\n",
    "rows=[['Zhangsan',28,'Nanjing'],['Lishi',18,'Beijing']]\n",
    "datatable={}\n",
    "\n",
    "# 1 create the dict of  data table\n",
    "for key in fields:\n",
    "    datatable[key] = []\n",
    "print(datatable)  \n",
    "\n",
    "# 2 set the value list of key\n",
    "for r in rows:\n",
    "    for i in range(len(fields)):\n",
    "        datatable[fields[i]].append(r[i])\n",
    "print(datatable)\n",
    "\n",
    "print(\"\\n\",fields)\n",
    "for r in range(len(rows)):\n",
    "    currow=[]\n",
    "    for i in range(len(fields)):\n",
    "        currow.append(datatable[fields[i]][r])\n",
    "    print(currow)\n"
   ]
  },
  {
   "cell_type": "markdown",
   "metadata": {},
   "source": [
    "## Creating dicts from the file of table data\n",
    "\n",
    "dict {field1:[],field2:[]....}\n",
    "\n",
    "datatable is a dict"
   ]
  },
  {
   "cell_type": "code",
   "execution_count": 20,
   "metadata": {},
   "outputs": [
    {
     "name": "stdout",
     "output_type": "stream",
     "text": [
      "Overwriting ./data/personrecords.txt\n"
     ]
    }
   ],
   "source": [
    "%%file ./data/personrecords.txt\n",
    "name        age\n",
    "zhangsan    28\n",
    "lishi       18 "
   ]
  },
  {
   "cell_type": "code",
   "execution_count": 21,
   "metadata": {},
   "outputs": [
    {
     "name": "stdout",
     "output_type": "stream",
     "text": [
      "['name', 'age']\n",
      "dict for datatable:{field1:[],field2:[]....}\n",
      "{'name': [], 'age': []}\n",
      "{'name': ['zhangsan', 'lishi'], 'age': ['28', '18']}\n",
      "\n",
      " ['name', 'age']\n",
      "['zhangsan', '28']\n",
      "['lishi', '18']\n"
     ]
    }
   ],
   "source": [
    "fields=[]\n",
    "datatable={}\n",
    "\n",
    "personrecords=open('./data/personrecords.txt','r')\n",
    "\n",
    "# 1 get string of field(column)\n",
    "fields=personrecords.readline().split()\n",
    "print(fields)\n",
    "\n",
    "# 2 create the dict of  data table\n",
    "for key in fields:\n",
    "    datatable[key] = []\n",
    "print(\"dict for datatable:{field1:[],field2:[]....}\")\n",
    "print(datatable)\n",
    "\n",
    "# 2 read each record into the value list of key \n",
    "for line in personrecords:\n",
    "    currowrecord=line.split()\n",
    "    for i in range(len(fields)):\n",
    "         datatable[fields[i]].append(currowrecord[i])\n",
    "\n",
    "personrecords.close()\n",
    "\n",
    "print(datatable)\n",
    "\n",
    "recordCount=len(datatable[fields[0]])\n",
    "print(\"\\n\",fields)\n",
    "for r in range(recordCount):\n",
    "    currow=[]\n",
    "    for i in range(len(fields)):\n",
    "        currow.append(datatable[fields[i]][r])\n",
    "    print(currow)    "
   ]
  },
  {
   "cell_type": "markdown",
   "metadata": {},
   "source": [
    "### add `field city` to the table file\n",
    "\n",
    "```python\n",
    "list[dict]: [{field1:value,field2:value,*:*},{field1:value,field2:value,*.*},...]\n",
    "```\n",
    "data table is a list, each row is dict"
   ]
  },
  {
   "cell_type": "code",
   "execution_count": null,
   "metadata": {},
   "outputs": [],
   "source": [
    "%%file ./data/personrecords.txt\n",
    "name        age      city\n",
    "zhangsan    28      nanjing\n",
    "lishi       18      shanghai"
   ]
  },
  {
   "cell_type": "code",
   "execution_count": 23,
   "metadata": {},
   "outputs": [
    {
     "name": "stdout",
     "output_type": "stream",
     "text": [
      "['name', 'age']\n",
      "{'name': 'zhangsan', 'age': '28'}\n",
      "{'name': 'lishi', 'age': '18'}\n",
      "zhangsan\n",
      "lishi\n"
     ]
    }
   ],
   "source": [
    "records=[]\n",
    "fields=[]\n",
    "\n",
    "datatable=[] \n",
    "\n",
    "personrecordsfile=open('./data/personrecords.txt','r')\n",
    "\n",
    "# 1 get string of field(column)\n",
    "fields=personrecordsfile.readline().split()\n",
    "print(fields)\n",
    "\n",
    "# 2 read each record into dict：key is field string\n",
    "for line in personrecordsfile:\n",
    "    currowrecord=line.split()\n",
    "    # 2.1 init dict\n",
    "    rowrecord={}\n",
    "    for i in range(len(fields)):\n",
    "        # 2.2 add key:value to dict\n",
    "        rowrecord[fields[i]]=currowrecord[i]\n",
    "    # 2.3 add dict to list:records\n",
    "    datatable.append(rowrecord)\n",
    "\n",
    "personrecordsfile.close()\n",
    "\n",
    "for item in datatable:\n",
    "    print(item)\n",
    "    \n",
    "for item in datatable:\n",
    "    print(item['name'])    "
   ]
  },
  {
   "cell_type": "markdown",
   "metadata": {},
   "source": [
    "## csv.DictReader\n",
    "\n",
    "The csv module implements classes to read and write tabular data in CSV format.\n",
    "\n",
    "https://docs.python.org/3.7/library/csv.html"
   ]
  },
  {
   "cell_type": "code",
   "execution_count": 25,
   "metadata": {},
   "outputs": [
    {
     "name": "stdout",
     "output_type": "stream",
     "text": [
      "Overwriting ./data/personrecords.csv\n"
     ]
    }
   ],
   "source": [
    "%%file ./data/personrecords.csv\n",
    "name,age\n",
    "zhangsan,28\n",
    "lishi,18 "
   ]
  },
  {
   "cell_type": "code",
   "execution_count": 26,
   "metadata": {},
   "outputs": [
    {
     "name": "stdout",
     "output_type": "stream",
     "text": [
      "zhangsan 28\n",
      "lishi 18 \n"
     ]
    }
   ],
   "source": [
    "import  csv\n",
    "filename=\"./data/personrecords.csv\"\n",
    "csvfile = open(filename, 'r')\n",
    "reader = csv.DictReader(csvfile)\n",
    "for line in reader:\n",
    "    name = line['name']\n",
    "    age=line['age']\n",
    "    print(name,age)  "
   ]
  },
  {
   "cell_type": "markdown",
   "metadata": {},
   "source": [
    "### our DictReader"
   ]
  },
  {
   "cell_type": "code",
   "execution_count": 27,
   "metadata": {},
   "outputs": [
    {
     "name": "stdout",
     "output_type": "stream",
     "text": [
      "['name', 'age']\n",
      "{'name': 'zhangsan', 'age': '28\\n'}\n",
      "zhangsan 28\n",
      "\n",
      "{'name': 'lishi', 'age': '18 \\n'}\n",
      "lishi 18 \n",
      "\n"
     ]
    }
   ],
   "source": [
    "def ourDictReader(file):\n",
    "    records=[]\n",
    "    fields=file.readline()[:-1].split(',')\n",
    "    print(fields)\n",
    "\n",
    "    for line in file:\n",
    "        currowrecord=line.split(',')\n",
    "        rowrecord={}\n",
    "        for i in range(len(fields)):\n",
    "            rowrecord[fields[i]]=currowrecord[i]\n",
    "        records.append(rowrecord)\n",
    "    return records\n",
    "\n",
    "filerecords=open('./data/personrecords.csv','r')\n",
    "reader=ourDictReader(filerecords)\n",
    "for line in reader:\n",
    "    print(line)\n",
    "    print(line['name'],line['age'])\n"
   ]
  },
  {
   "cell_type": "code",
   "execution_count": null,
   "metadata": {},
   "outputs": [],
   "source": []
  }
 ],
 "metadata": {
  "kernelspec": {
   "display_name": "Python 3",
   "language": "python",
   "name": "python3"
  },
  "language_info": {
   "codemirror_mode": {
    "name": "ipython",
    "version": 3
   },
   "file_extension": ".py",
   "mimetype": "text/x-python",
   "name": "python",
   "nbconvert_exporter": "python",
   "pygments_lexer": "ipython3",
   "version": "3.7.2"
  },
  "toc": {
   "base_numbering": 1,
   "nav_menu": {},
   "number_sections": false,
   "sideBar": true,
   "skip_h1_title": false,
   "title_cell": "Table of Contents",
   "title_sidebar": "Contents",
   "toc_cell": false,
   "toc_position": {},
   "toc_section_display": true,
   "toc_window_display": true
  }
 },
 "nbformat": 4,
 "nbformat_minor": 1
}
