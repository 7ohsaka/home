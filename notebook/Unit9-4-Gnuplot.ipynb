{
 "cells": [
  {
   "cell_type": "markdown",
   "metadata": {},
   "source": [
    "#  Gnuplot\n",
    "\n",
    "[Gnuplot](http://gnuplot.info/) is a portable command-line driven graphing utility for Linux, OS/2, MS Windows, OSX, VMS, and many other platforms.\n",
    "\n",
    "The source code is copyrighted but freely distributed (i.e., you don't have to pay for it). It was originally created to allow scientists and students to visualize mathematical functions and data interactively, but has grown to support many non-interactive uses such as web scripting. \n",
    "\n",
    "It is also used as a plotting engine by third-party applications like Octave. Gnuplot has been supported and under active development since 1986.\n",
    "\n",
    ">**Does gnuplot have anything to do with the FSF and the GNU project?**\n",
    ">\n",
    ">Gnuplot is neither written nor maintained by the FSF. Gnuplot as a whole is `not` covered by the GNU General Public License (GPL). \n",
    ">Gnuplot is freeware in the sense that you don’t have to pay for it.However it is `not freeware` in the sense that you would be allowed to `distribute a modified version` of your gnuplot freely. \n",
    "\n",
    "> Copyright (C) 1986 - 1993, 1998, 2004, 2007  Thomas Williams, Colin Kelley\n",
    ">\n",
    ">Permission to modify the software is granted, but `not the right to distribute the complete modified source code`. Modifications are to be distributed as `patches to the released version`. \n",
    "\n",
    "\n",
    "## 1 Installing\n",
    "\n",
    "**Installing GNUPLOT for Windows**\n",
    "\n",
    "Goto http://www.tatsuromatsuoka.com/gnuplot/Eng/winbin/ download Gnuplot for windows compiled with MinGW-W64，then unzip and run.\n",
    " \n",
    "After installed, add the path of gnuplot.exe to the system environment variable **Path**，e.g: `\"C:\\Program Files\\gnuplot\\bin\\\"`\n",
    "\n",
    "**Installing under Debian/Ubuntu**\n",
    "\n",
    "```\n",
    "$sudo apt install gnuplot\n",
    "```"
   ]
  },
  {
   "cell_type": "markdown",
   "metadata": {},
   "source": [
    "## 2 Plotting  \n",
    "\n",
    "* Plotting **Functions**\n",
    "\n",
    "* Plotting **Data file**\n",
    "\n",
    "### 2.1 Plotting Functions\n",
    "\n",
    "#### 2.1.1 Plotting with shell\n",
    "\n",
    "If `gnuplot` is installed on your system, it can usually be invoked by issuing the command\n",
    "\n",
    "```\n",
    "shell> gnuplot\n",
    "```\n",
    "at the shell prompt. Once launched, `gnuplot` displays a welcome message and then replaces the shell prompt with a `gnuplot>` prompt. Anything entered at this prompt is interpreted as gnuplot commands until you issue an exit or quit command.\n",
    "\n",
    "\n",
    "Probably the simplest plotting command you can issue is\n",
    "```\n",
    "set term wx\n",
    "plot sin(x)\n",
    "```\n",
    "\n",
    "Firstly we have to tell gnuplot the output terminal we want to use. The most ... `set terminal wx`. The `wx` terminal device generates output in a separate window. \n",
    "\n",
    "The `plot` is the primary command for drawing plots with gnuplot. It offers many different graphical representations for functions and data. plot is used to draw 2D functions and data. splot draws 2D projections of 3D surfaces and data. \n",
    "\n",
    "Syntax: \n",
    "```\n",
    "      plot {<ranges>} <plot-element> {, <plot-element>, <plot-element>}\n",
    "```\n",
    "\n",
    "To plot functions: \n",
    "```\n",
    "plot [function]  \n",
    "```\n",
    "\n",
    "![gnuplot-shell](./img/gnuplot-shell.jpg)\n",
    "\n",
    "\n",
    "#### 2.1.2 Plotting  with GUI\n",
    "\n",
    "```\n",
    "![gnuplot-shell](./img/gnuplot-gui.jpg)\n",
    "\n",
    "#### 2.2.1.3 Plotting  with script\n",
    "\n",
    "Sometimes, several commands are typed to create a particular plot, and it is easy to make a typographical error when entering a command. To stream-line your plotting operations, `several Gnuplot commands` may be combined into `a single script file`. \n",
    "\n",
    "For example, the following script file plot sin: \n"
   ]
  },
  {
   "cell_type": "code",
   "execution_count": null,
   "metadata": {
    "scrolled": true
   },
   "outputs": [],
   "source": [
    "%%file ./demo/gnuplot/gnuplot_sin.plt\n",
    "set term wx\n",
    "set size 1,1\n",
    "set xlabel 'x'\n",
    "set ylabel 'sin(x)'\n",
    "plot sin(x) notitle"
   ]
  },
  {
   "cell_type": "markdown",
   "metadata": {},
   "source": [
    "##### running script with shell\n",
    "\n",
    "The `persist` option tells gnuplot to leave these windows open when the main program exits"
   ]
  },
  {
   "cell_type": "code",
   "execution_count": null,
   "metadata": {},
   "outputs": [],
   "source": [
    "!gnuplot -persist ./demo/gnuplot/gnuplot_sin.plt"
   ]
  },
  {
   "cell_type": "markdown",
   "metadata": {},
   "source": [
    "##### running script through GUI"
   ]
  },
  {
   "cell_type": "markdown",
   "metadata": {},
   "source": [
    "![gnuplot-gui-script](./img/gnuplot-gui-script.jpg)"
   ]
  },
  {
   "cell_type": "markdown",
   "metadata": {},
   "source": [
    "#### 2.2.2 Plotting data file\n",
    "\n",
    "Discrete data contained in a file can be displayed by specifying the name of the data file (enclosed in quotes) on the plot or splot command line. \n",
    "\n",
    "Data files should have the data arranged in **columns of numbers**. \n",
    "\n",
    "Columns should be `separated` by datafile separator.\n",
    "\n",
    "Lines beginning with a **`#`** character are treated as **comments** and are ignored by Gnuplot. \n",
    "\n",
    "A blank line in the data file results in a break in the line connecting data points.\n",
    "\n",
    "##### 2.2.2.1 springData\n",
    "\n",
    "[18 UNDERSTANDING EXPERIMENTAL DATA](./Unit5-2-18_UNDERSTANDING_EXPERIMENTAL_DATA.ipynb)\n",
    "\n",
    "* 18.1 The Behavior of Springs：$k = -(m*g)/x$"
   ]
  },
  {
   "cell_type": "code",
   "execution_count": null,
   "metadata": {},
   "outputs": [],
   "source": [
    "%%file ./demo/data/springData.csv\n",
    "#Distance(m),Mass(kg)\n",
    "0.0865,0.1\n",
    "0.1015,0.15\n",
    "0.1106,0.2\n",
    "0.1279,0.25\n",
    "0.1892,0.3\n",
    "0.2695,0.35\n",
    "0.2888,0.4\n",
    "0.2425,0.45\n",
    "0.3465,0.5\n",
    "0.3225,0.55\n",
    "0.3764,0.6\n",
    "0.4263,0.65\n",
    "0.4562,0.7\n",
    "0.4502,0.75\n",
    "0.4499,0.8\n",
    "0.4534,0.85\n",
    "0.4416,0.9\n",
    "0.4304,0.95\n",
    "0.437,1.0"
   ]
  },
  {
   "cell_type": "markdown",
   "metadata": {},
   "source": [
    "#####  `using` Keyword\n",
    "\n",
    "We use **`using`** to designate the `columns` we want to plot. If we want to plot \n",
    "\n",
    "* x: Force = 9.81*Mass-> `column 2` * 9.81\n",
    "\n",
    "* y : Distance ->  `column 1`\n",
    "\n",
    "```\n",
    "plot './demo/data/springData.csv' using ($2*9.81):1 title ''\n",
    "```"
   ]
  },
  {
   "cell_type": "code",
   "execution_count": null,
   "metadata": {},
   "outputs": [],
   "source": [
    "%%file ./demo/gnuplot/gnuplot-springdata.plt\n",
    "set term wx                # set the terminal               \n",
    "set datafile separator ',' # datafile separator ','\n",
    "set xlabel '|Force| (Newtons)'\n",
    "set ylabel 'Distance (meters)'\n",
    "set title 'Measured Displacement of Spring'\n",
    "plot './demo/data/springData.csv' using ($2*9.81):1 title \"\""
   ]
  },
  {
   "cell_type": "code",
   "execution_count": null,
   "metadata": {},
   "outputs": [],
   "source": [
    "!gnuplot -persist ./demo/gnuplot/gnuplot-springdata.plt"
   ]
  },
  {
   "cell_type": "markdown",
   "metadata": {},
   "source": [
    "#### Curve Fitting \n",
    "\n",
    "Now that we’ve covered the basics, we can start discussing how to fit functions. Fortunately, it’s pretty easy now that we’ve gotten this far.\n",
    "\n",
    "Two step process\n",
    "\n",
    "* Define a function with **unknown** parameters\n",
    "\n",
    "* **Fit the parameters** with specified data\n",
    "\n",
    "Suppose I know the model I wish to fit to the data is `a straight line`. Given that we’ve looked at the data (and I’ve told you it’s linear), that model makes sense. \n",
    "\n",
    "The functional form: `k = F/x -> F=(1/k)*x`. \n",
    "\n",
    "We’d have to `do the fit to estimate them`. We can proceed in Gnuplot.\n",
    "\n"
   ]
  },
  {
   "cell_type": "code",
   "execution_count": null,
   "metadata": {},
   "outputs": [],
   "source": [
    "%%file ./demo/gnuplot/gnuplot-spring-fit.plt\n",
    "\n",
    "# 1 Define a function with unknown parameters\n",
    "#  k = F/x -> F=(1/k)*x, F=mass*9.81\n",
    "\n",
    "d(x) = (1/k)*x\n",
    "\n",
    "# 2 Fit the parameters with specified data\n",
    "set datafile separator ',' # datafile separator ','\n",
    "fit d(x) './demo/data/springData.csv' using ($2*9.81):1 via k    \n",
    "\n",
    "set term wx    \n",
    "set xlabel '|Force| (Newtons)'\n",
    "set ylabel 'Distance (meters)'\n",
    "set title 'Measured Displacement of Spring'\n",
    "plot './demo/data/springData.csv' using  ($2*9.81):1 title '(Force,Distance)',\\\n",
    "     './demo/data/springData.csv' using ($2*9.81):(d($2*9.81)) title '',\\\n",
    "     './demo/data/springData.csv' using ($2*9.81):(d($2*9.81))  title 'Force=f(Distance)' with line ls 12"
   ]
  },
  {
   "cell_type": "code",
   "execution_count": null,
   "metadata": {},
   "outputs": [],
   "source": [
    "!gnuplot -persist ./demo/gnuplot/gnuplot-spring-fit.plt"
   ]
  },
  {
   "cell_type": "markdown",
   "metadata": {},
   "source": [
    "#### 2.2.2 The Behavior of Projectiles\n",
    "\n",
    "[18 UNDERSTANDING EXPERIMENTAL DATA](./Unit5-2-18_UNDERSTANDING_EXPERIMENTAL_DATA.ipynb)\n",
    "\n",
    "We decided to use one of our springs to build a device capable of launching a projectile. We measured the height of the projectile at various distances from the launch point. The data was stored in a file `./data/projectileData.txt` with the contents"
   ]
  },
  {
   "cell_type": "code",
   "execution_count": null,
   "metadata": {},
   "outputs": [],
   "source": [
    "%%file ./demo/data/projectileData.txt\n",
    "#Distance  \ttrial1\ttrial2\ttrial3\ttrial3\n",
    "1080\t  \t0.0\t    0.0\t\t0.0\t\t0.0\n",
    "1044\t\t2.25\t3.25\t4.5\t\t6.5\t\n",
    "1008\t\t5.25\t6.5\t\t6.5\t\t8.75\n",
    "972\t\t\t7.5\t\t7.75\t8.25\t9.25\n",
    "936\t\t\t8.75\t9.25\t9.5\t\t10.5\n",
    "900\t\t\t12.0\t12.25\t12.5\t14.75\n",
    "864\t\t\t13.75\t16.0\t16.6\t16.5\n",
    "828\t\t\t14.75\t15.25\t15.5\t17.5\n",
    "792\t\t\t15.5\t16.0\t16.6\t16.75\n",
    "756\t\t\t17.0\t17.0\t17.5\t19.25\n",
    "720\t\t\t17.5\t18.5\t18.5\t19.0\n",
    "540\t\t\t19.5\t18.5\t19.0\t19.0\n",
    "360\t\t\t18.5\t18.5\t19.0\t19.0\n",
    "180\t\t\t13.0\t13.0\t13.0\t13.0\n",
    "0\t\t\t0.0\t\t0.0\t\t0.0\t\t0.0"
   ]
  },
  {
   "cell_type": "markdown",
   "metadata": {},
   "source": [
    "###### with\n",
    "\n",
    "Functions and data may be `displayed` in one of a large number of `styles`. The with keyword provides the means of selection. \n",
    "Syntax: \n",
    "```\n",
    "     with <style> \n",
    "```\n",
    "##### Smooth interpolation\n",
    "\n",
    "Gnuplot can construct a variety of smooth curves as representations of a data set. You can invoke this feature using the `smooth` directive to the plot command, followed by `an additional keyword` that selects the specific `interpolation method`.\n",
    "\n",
    "For example。 smooth curves using `Approximate cubic spline`：acsplines \n",
    "```\n",
    "smooth acsplines\n",
    "\n",
    "```\n",
    "\n",
    "##### replot\n",
    "The `replot` command without arguments repeats the last `plot` command. This can be useful for viewing a plot with different set options, or when generating the same plot for several devices. \n",
    "\n",
    "Arguments specified after a `replot` command will be added onto the last `plot` command (with **an implied `','` separator**) before it is repeated.\n",
    "\n",
    "##### set style line\n",
    "\n",
    "```\n",
    "linecolor | lc <colorspec>\n",
    "                             \n",
    "linewidth | lw <line_width>\n",
    "```\n",
    "#####  set point types and shapes\n",
    "\n",
    "Each terminal provides a set of shapes or points that can be used to represent a single data point.\n",
    "\n",
    "The sequence of shapes has been unified across all (contemporary) terminals\n",
    "\n",
    "![point-symbols](./img/gnuplot-point-symbols.jpg)\n",
    "\n",
    "you can modify its `size`, line `width`, and `color` using the pointsize (or `ps`), linewidth (or `lw`), and linecolor (or `lc`) properties.\n",
    " \n",
    "For example:\n",
    "\n",
    "```\n",
    "pt 15 lc rgb \"red\"\n",
    "```\n"
   ]
  },
  {
   "cell_type": "code",
   "execution_count": null,
   "metadata": {},
   "outputs": [],
   "source": [
    "%%file ./demo/gnuplot/gnuplot-projectiledata.plt\n",
    "set term wx                # set the terminal               \n",
    "set xlabel 'Distance from Launch Point(inches)'\n",
    "set ylabel 'Altitude of the Projectile(inches)'\n",
    "set title 'Trajectory of Projectile'\n",
    "plot './demo/data/projectileData.txt' using 1:2 title \"trial1\", \\\n",
    "     './demo/data/projectileData.txt' using 1:3 title \"trial2\", \\\n",
    "     './demo/data/projectileData.txt' using 1:4 title \"trial3\", \\\n",
    "     './demo/data/projectileData.txt' using 1:5 title \"trial3\"\n",
    "\n",
    "replot './demo/data/projectileData.txt' using 1:($2+$3+$4+$5)/4 title \"mean\" with points pt 15 lc rgb \"red\" ,\\\n",
    "       './demo/data/projectileData.txt' using 1:($2+$3+$4+$5)/4 title \"smooth\" smooth acsplines lw 2 lc 1"
   ]
  },
  {
   "cell_type": "code",
   "execution_count": null,
   "metadata": {},
   "outputs": [],
   "source": [
    "!gnuplot -persist ./demo/gnuplot/gnuplot-projectiledata.plt"
   ]
  },
  {
   "cell_type": "markdown",
   "metadata": {},
   "source": [
    "#### Multiple graphs - panels \n",
    "\n",
    "**multiplot**\n",
    "\n",
    "The command set `multiplot` places gnuplot in the multiplot mode, in which several plots are placed next to each other on the same page or screen window. \n",
    "\n",
    "Syntax: \n",
    "\n",
    "```\n",
    "set multiplot layout <rows>,<cols> margins <left>,<right>,<bottom>,<top> spacing <xspacing>{,<yspacing>\n",
    "\n",
    "unset multiplot\n",
    "```\n",
    "\n",
    "[21 LIES DAMNED LIES AND STATISTICS](./Unit5-3-21_LIES_DAMNED_LIES_AND_STATISTICS.ipynb)\n",
    "\n",
    "* 21.5 Statistical Measures Don't, Tell the Whole Story（Page411-412） : F.J. Anscombe's data Table"
   ]
  },
  {
   "cell_type": "code",
   "execution_count": null,
   "metadata": {},
   "outputs": [],
   "source": [
    "%%file ./demo/data/Anscombe.csv\n",
    "#x0,y0,x1,y1,x2,y2,x3,y3\n",
    "10.00 ,8.04 ,10.00 ,9.14 ,10.00 ,7.46 ,8.00 ,6.58 \n",
    "8.00 ,6.95 ,8.00 ,8.14 ,8.00 ,6.77 ,8.00 ,5.76 \n",
    "13.00 ,7.58 ,13.00 ,8.74 ,13.00 ,12.74 ,8.00 ,7.71 \n",
    "9.00 ,8.81 ,9.00 ,8.77 ,9.00 ,7.11 ,8.00 ,8.84 \n",
    "11.00 ,8.33 ,11.00 ,9.26 ,11.00 ,7.81 ,8.00 ,8.47 \n",
    "14.00 ,9.96 ,14.00 ,8.10 ,14.00 ,8.84 ,8.00 ,7.04 \n",
    "6.00 ,7.24 ,6.00 ,6.13 ,6.00 ,6.08 ,8.00 ,5.25 \n",
    "4.00 ,4.26 ,4.00 ,3.10 ,4.00 ,5.39 ,19.00 ,12.50 \n",
    "12.00 ,10.84 ,12.00 ,9.13 ,12.00 ,8.15 ,8.00 ,5.56 \n",
    "7.00 ,4.82 ,7.00 ,7.26 ,7.00 ,6.42 ,8.00 ,7.91 \n",
    "5.00 ,5.68 ,5.00 ,4.74 ,5.00 ,5.73 ,8.00 ,6.89"
   ]
  },
  {
   "cell_type": "code",
   "execution_count": null,
   "metadata": {},
   "outputs": [],
   "source": [
    "%%file ./demo/gnuplot/gnuplot-Anscombe.plt\n",
    "set term wx   # set the terminal \n",
    "set datafile separator ',' # datafile separator ','\n",
    "set multiplot layout 2,2 margins 0.1, 0.9, 0.1, 0.9 spacing .2\n",
    "set xrange [0:20]\n",
    "set yrange [2:14]\n",
    "\n",
    "f(x) =a*x+b\n",
    "\n",
    "set title \"Anscombe1\"\n",
    "fit f(x) './demo/data/Anscombe.csv' using 1:2 via a,b\n",
    "plot './demo/data/Anscombe.csv' using 1:2 title \"\" with points pt 7  lc rgb \"blue\",f(x) title \"\" lw 1 lc rgb \"orange\"\n",
    "unset title\n",
    "\n",
    "\n",
    "fit f(x) './demo/data/Anscombe.csv' using 3:4 via a,b\n",
    "set title \"Anscombe2\"\n",
    "plot './demo/data/Anscombe.csv' using 3:4 title \"\" with points pt 7  lc rgb \"blue\",f(x) title \"\" lw 1 lc rgb \"orange\"\n",
    "unset title\n",
    "\n",
    "\n",
    "fit f(x) './demo/data/Anscombe.csv' using 5:6 via a,b\n",
    "set title \"Anscombe3\"    \n",
    "plot './demo/data/Anscombe.csv' using 5:6 title \"\" with points pt 7  lc rgb \"blue\",f(x) title \"\" lw 1 lc rgb \"orange\"\n",
    "unset title\n",
    "\n",
    "b=3\n",
    "fit f(x) './demo/data/Anscombe.csv' using 7:8 via a  # non b\n",
    "set title \"Anscombe4\"\n",
    "plot './demo/data/Anscombe.csv' using 7:8 title \"\" with points pt 7  lc rgb \"blue\",f(x) title \"\" lw 1 lc rgb \"orange\"\n",
    "unset multiplot"
   ]
  },
  {
   "cell_type": "code",
   "execution_count": null,
   "metadata": {},
   "outputs": [],
   "source": [
    "!gnuplot -persist ./demo/gnuplot/gnuplot-Anscombe.plt"
   ]
  },
  {
   "cell_type": "markdown",
   "metadata": {},
   "source": [
    "##### Further Readintg\n",
    "\n",
    "If you wish to read more, the help documentation for Gnuplot is very useful, and the online manual is also very informative http://gnuplot.info/. \n",
    "\n",
    "The `demo` and `manual` is available in your installation:\n",
    "\n",
    "![gnuplot](./img/gnuplot.jpg)\n"
   ]
  },
  {
   "cell_type": "markdown",
   "metadata": {},
   "source": [
    "## 3 C/C++ Plotting with Pipe \n",
    "\n",
    "### 3.1 Pipe to a Subprocess\n",
    "\n",
    "**process,subprocess**\n",
    "\n",
    "A Linux **process** is a program running in the Linux system.\n",
    "\n",
    "A **subprocess** is a child process, i.e. a process that has been launched by its parent to which it is a subprocess.\n",
    "\n",
    "**pipe**\n",
    "\n",
    "A pipe is a mechanism for `interprocess communication`; data written to the pipe by one process can be read by another process.\n",
    "\n",
    "The pipe is used to **transfer** the **results** from **one command to another**.\n",
    "\n",
    "**15.2 Pipe to a Subprocess**\n",
    "\n",
    "Using a **pipe** to **communicate** with a **child** process\n",
    "\n",
    "https://www.gnu.org/software/libc/manual/html_node/Pipe-to-a-Subprocess.html\n",
    "\n",
    "**popen**\n",
    "\n",
    "```c\n",
    "#include <stdio.h>\n",
    "FILE *popen(const char *command, const char *mode); \n",
    "```\n",
    "\n",
    "DESCRIPTION\n",
    "\n",
    "The `popen()` function shall execute the command specified by the string command. It shall create a pipe between the calling program and the executed command, and shall return a pointer to a stream that can be used to either read from or write to the pipe.\n",
    "\n",
    "\n",
    "### 3.2 Examples \n",
    "\n",
    "#### 3.2.1  Example 1: plotting data file\n",
    "\n",
    "./demo/data/springData.csv"
   ]
  },
  {
   "cell_type": "code",
   "execution_count": null,
   "metadata": {},
   "outputs": [],
   "source": [
    "%%file ./demo/src/gnuplot_pipe_datafile.c\n",
    "\n",
    "#include <stdio.h>\n",
    "\n",
    "int main (void)\n",
    "{\n",
    "\n",
    "    FILE *pipe = popen(\"gnuplot -persist\", \"w\");  // Open a pipe to gnuplot\n",
    "\n",
    "    if (pipe) {   // If gnuplot is found\n",
    "      fprintf(pipe, \"set term wx\\n\");         // set the terminal               \n",
    "      fprintf(pipe, \"set datafile separator ','\\n\"); //datafile separator ','\n",
    "      fprintf(pipe, \"set xlabel '|Force| (Newtons)'\\n\");\n",
    "      fprintf(pipe, \"set ylabel 'Distance (meters)'\\n\");\n",
    "      fprintf(pipe, \"set title 'Measured Displacement of Spring'\\n\");\n",
    "      fprintf(pipe, \"plot './demo/data/springData.csv' using  ($2*9.81):1 title '(Force,Distance)'\\n\");\n",
    "      \n",
    "      fflush(pipe); //flush pipe\n",
    "      fprintf(pipe,\"exit \\n\");   // exit gnuplot\n",
    "      pclose(pipe);    //close pipe\n",
    "    }\n",
    "    return 0;\n",
    "};"
   ]
  },
  {
   "cell_type": "code",
   "execution_count": null,
   "metadata": {},
   "outputs": [],
   "source": [
    "!gcc  -o ./demo/bin/gnuplot_pipe_datafile ./demo/src/gnuplot_pipe_datafile.c"
   ]
  },
  {
   "cell_type": "markdown",
   "metadata": {},
   "source": [
    "###### Windows"
   ]
  },
  {
   "cell_type": "code",
   "execution_count": null,
   "metadata": {},
   "outputs": [],
   "source": [
    "!.\\demo\\bin\\gnuplot_pipe_datafile"
   ]
  },
  {
   "cell_type": "markdown",
   "metadata": {},
   "source": [
    "###### Linux"
   ]
  },
  {
   "cell_type": "code",
   "execution_count": null,
   "metadata": {},
   "outputs": [],
   "source": [
    "!./demo/bin/gnuplot_pipe_datafile"
   ]
  },
  {
   "cell_type": "markdown",
   "metadata": {},
   "source": [
    "#### 3.2.2 Example 2  : plotting  data array \n",
    "\n",
    "[21 LIES DAMNED LIES AND STATISTICS](./Unit2-4-LIES_DAMNED_LIES_AND_STATISTICS.ipynb)\n",
    "\n",
    "* 21.5 Statistical Measures Don't, Tell the Whole Story（Page411-412） : F.J. Anscombe's data Table <x0, y0>"
   ]
  },
  {
   "cell_type": "markdown",
   "metadata": {},
   "source": [
    "#### gnuplot_pipe_array"
   ]
  },
  {
   "cell_type": "code",
   "execution_count": 10,
   "metadata": {},
   "outputs": [
    {
     "name": "stdout",
     "output_type": "stream",
     "text": [
      "Overwriting ./demo/src/gnuplot_pipe_array.c\n"
     ]
    }
   ],
   "source": [
    "%%file ./demo/src/gnuplot_pipe_array.c\n",
    "\n",
    "#include <stdio.h>\n",
    "#include <gsl/gsl_fit.h>\n",
    "\n",
    "// Unit9-2-ctypes:Polynomial Regression\n",
    "void PolynomialFit(double x[], double y[], int size, int n, double a[]);\n",
    "\n",
    "int main (void)\n",
    "{\n",
    "  double x[11] = {10.0, 8.0, 13.0, 9.0, 11.0,\n",
    "                  14.0 ,6.0, 4.0 , 12.0,7.0,5.0};\n",
    "  double y[11] = {8.04, 6.95,7.68, 8.81, 8.33,\n",
    "                  9.96, 7.24,4.26,10.84, 4.82,5.68 };\n",
    "\n",
    "  int n = 1; // n is the degree of Polynomial\n",
    "  double a[n + 1];\n",
    "  int size = sizeof(x) / sizeof(double);\n",
    "  PolynomialFit(x, y, size, n, a);\n",
    "  printf (\"best fit: Y = %g + %g X\\n\", a[0], a[1]);\n",
    "  // plot\n",
    "  FILE *pipe = popen(\"gnuplot -persist\", \"w\"); // Open a pipe to gnuplot\n",
    "  if (pipe) // If gnuplot is found\n",
    "  { \n",
    "     fprintf(pipe, \"set term wx\\n\");         // set the terminal\n",
    "     fprintf(pipe, \"set xlabel 'X'\\n\");\n",
    "     fprintf(pipe, \"set ylabel 'Y'\\n\");\n",
    "     fprintf(pipe, \"set xrange [0:20]\\n\");\n",
    "     fprintf(pipe, \"set yrange [2:14]\\n\");\n",
    "     fprintf(pipe, \"set title '<X,Y> and Linear fit:y=%.4f*x+%.4f'\\n\",a[0],a[1]);\n",
    "      \n",
    "     /* In this case, the datafile is written directly to the gnuplot pipe with no need for a temporary file.\n",
    "           The special filename '-' specifies that the data are inline; i.e., they follow the command.\n",
    "        1 sending gnuplot the plot '-' command \n",
    "        2 followed by data points \n",
    "        3 followed by the letter \"e\" \n",
    "     */\n",
    "     \n",
    "     // 1 sending gnuplot the plot '-' command\n",
    "     fprintf(pipe, \"plot '-' title '<x,y>' with points  pt 7 lc rgb 'blue',\\\n",
    "                         '-' title 'Line' with  linespoints  pt  6 lc rgb 'red'\\n\");\n",
    "     \n",
    "     // 2 followed by data points: <x,y>\n",
    "     for (int i = 0; i <size; i++)\n",
    "     {\n",
    "        fprintf(pipe, \"%lf %lf\\n\", x[i], y[i]);\n",
    "     }\n",
    "     // 3 followed by the letter \"e\" \n",
    "     fprintf(pipe, \"e\");\n",
    "     \n",
    "     // linear fit\n",
    "     fprintf(pipe,\"\\n\"); // start a new draw item\n",
    "     fprintf(pipe, \"%lf %lf\\n\", 0.0, a[0]+a[1]*0.0);\n",
    "     for (int i = 0; i < size; i++)\n",
    "     {\n",
    "        fprintf(pipe, \"%lf %lf\\n\", x[i], a[0]+a[1]*x[i]);\n",
    "     }\n",
    "     fprintf(pipe, \"%lf %lf\\n\", 20.0,a[0]+a[1]*20.0);\n",
    "     fprintf(pipe, \"e\");\n",
    "      \n",
    "     fflush(pipe);\n",
    "     fprintf(pipe, \"exit \\n\"); // exit gnuplot\n",
    "     pclose(pipe);             //close pipe\n",
    "  }\n",
    "  \n",
    "  return 0;\n",
    "}"
   ]
  },
  {
   "cell_type": "markdown",
   "metadata": {},
   "source": [
    "###### Windows"
   ]
  },
  {
   "cell_type": "code",
   "execution_count": 11,
   "metadata": {},
   "outputs": [],
   "source": [
    "!gcc  -o ./demo/bin/gnuplot_pipe_array ./demo/src/gnuplot_pipe_array.c ./demo/src/PolynomialFit.c"
   ]
  },
  {
   "cell_type": "code",
   "execution_count": 12,
   "metadata": {},
   "outputs": [
    {
     "name": "stdout",
     "output_type": "stream",
     "text": [
      "best fit: Y = 2.97645 + 0.503727 X\n"
     ]
    }
   ],
   "source": [
    "!.\\demo\\bin\\gnuplot_pipe_array"
   ]
  },
  {
   "cell_type": "markdown",
   "metadata": {},
   "source": [
    "###### Linux"
   ]
  },
  {
   "cell_type": "code",
   "execution_count": null,
   "metadata": {},
   "outputs": [],
   "source": [
    "!gcc  -o ./demo/bin/gnuplot_pipe_array ./demo/src/gnuplot_pipe_array.c -lgsl -lgslcblas -lm "
   ]
  },
  {
   "cell_type": "code",
   "execution_count": null,
   "metadata": {},
   "outputs": [],
   "source": [
    "!./demo/bin/gnuplot_pipe_array"
   ]
  },
  {
   "cell_type": "markdown",
   "metadata": {},
   "source": [
    "##### 2.3.2.3 Example 2 : H-S(Mollier) Diagram of Steam Turbine Expansion\n",
    "\n",
    "**SEUIF97 Library**\n",
    "\n",
    "* **Windows**：C:/Windows/system/libseuif97.dll \n",
    "\n",
    "* **Linux:**   /usr/lib/libseuif97.so\n",
    "\n",
    "* ./demo/src/seuif97.h"
   ]
  },
  {
   "cell_type": "code",
   "execution_count": null,
   "metadata": {},
   "outputs": [],
   "source": [
    "%%file ./demo/src/gnuplot_pipe_turbine.cpp\n",
    "\n",
    "/*\n",
    " H-S(Mollier) Diagram of Steam Turbine Expansion\n",
    "\n",
    " 4 lines:\n",
    "\n",
    "    1  Isobar line:p inlet\n",
    "    2  Isobar line:p outlet\n",
    "    3  isentropic line:  (p inlet ,t inlet h inlet,s inlet), (p outlet,s inlet)\n",
    "    4  Expansion line: inlet,outlet\n",
    "*/\n",
    "\n",
    "#include <iostream>\n",
    "#include <iomanip>\n",
    "#include \"seuif97.h\"\n",
    "\n",
    "using namespace std;\n",
    "\n",
    "struct wmstatus\n",
    "{\n",
    "    double p, t, h, s;\n",
    "};\n",
    "\n",
    "class Turbine\n",
    "{\n",
    "  private:\n",
    "    double his;\n",
    "\n",
    "  public:\n",
    "    wmstatus win, wex;\n",
    "    double ef;\n",
    "\n",
    "    Turbine(double pin, double tin, double pex, double tex);\n",
    "    void analysis(void);\n",
    "    void output(void);\n",
    "    void expansionline(void);\n",
    "};\n",
    "\n",
    "Turbine::Turbine(double pin, double tin, double pex, double tex)\n",
    "{\n",
    "    win.p = pin;\n",
    "    win.t = tin;\n",
    "    wex.p = pex;\n",
    "    wex.t = tex;\n",
    "}\n",
    "\n",
    "void Turbine::analysis(void)\n",
    "{\n",
    "    ef = seuief(win.p, win.t, wex.p, wex.t);\n",
    "    his = seuishd(win.p, win.t, wex.p);\n",
    "\n",
    "    win.h = seupt(win.p, win.t, 4);\n",
    "    win.s = seupt(win.p, win.t, 5);\n",
    "\n",
    "    wex.h = seupt(wex.p, wex.t, 4);\n",
    "    wex.s = seupt(wex.p, wex.t, 5);\n",
    "};\n",
    "\n",
    "void Turbine::output(void)\n",
    "{\n",
    "    cout << \"(Pin,Tin) = (\" << win.p << \",\" << win.t << \")\" << endl;\n",
    "    cout << \"(Pex,Tex) = (\" << wex.p << \",\" << wex.t << \")\" << endl;\n",
    "    cout << \"The isentropic efficiency = \" << setiosflags(ios::fixed) << setprecision (2)<< ef << \"%\" << endl;\n",
    "};\n",
    "\n",
    "void Turbine::expansionline(void)\n",
    "{\n",
    "    double sdelta = 0.01;\n",
    "\n",
    "    // 1 Isobar pin\n",
    "    double s_isopin[2] = {win.s - sdelta, win.s + sdelta};\n",
    "    double h_isopin[2] = {seups(win.p, s_isopin[0], 4), seups(win.p, s_isopin[1], 4)};\n",
    "\n",
    "    // 2 Isobar pex\n",
    "    double s_isopex[2] = {s_isopin[0], wex.s + sdelta};\n",
    "    double h_isopex[2] = {seups(wex.p, s_isopex[0], 4), seups(wex.p, s_isopex[1], 4)};\n",
    "     \n",
    "    // 3 isentropic lines\n",
    "    double h_isos[2] = {win.h,  win.h-his};\n",
    "    double s_isos[2] = {win.s, win.s};\n",
    "\n",
    "    // 4 expansion Line\n",
    "    double h_expL[2] = {win.h, wex.h};\n",
    "    double s_expL[2] = {win.s, wex.s};\n",
    "\n",
    "    // plot lines with gnuplot\n",
    "\n",
    "    FILE *pipe = popen(\"gnuplot -persist\", \"w\"); // Open a pipe to gnuplot\n",
    "    if (pipe)                                    // If gnuplot is found\n",
    "    {\n",
    "        fprintf(pipe, \"set term wx\\n\"); // set the terminal\n",
    "        fprintf(pipe, \"set termoption enhanced\\n\"); //  set enhanced text mode \n",
    "        fprintf(pipe, \"set xlabel 's(kJ/(kg.K))'\\n\");\n",
    "        fprintf(pipe, \"set ylabel 'h(kJ/kg)'\\n\");\n",
    "        fprintf(pipe, \"set title 'H-S(Mollier) Diagram of Steam Turbine Expansion'\\n\");\n",
    "        fprintf(pipe, \"set yrange [%lf:%lf]\\n\", h_isopex[0]-20, h_isopin[1]+20);\n",
    "        fprintf(pipe, \"set xrange [%lf:%lf]\\n\", s_isopex[0]-0.01,s_isopex[1]+0.01);\n",
    "        fprintf(pipe, \"set label 'The isentropic efficiency=(h_1-h_2)/(h_1-h_{2s})= %.2f%%' at %lf,%lf left\\n\", ef, s_isopin[1] + 0.01, h_isopin[1] - 50);\n",
    "\n",
    "        fprintf(pipe, \"plot '-' title '' with line lc rgb 'blue', \\\n",
    "                       '-' title '' with line lc rgb 'blue',\\\n",
    "                       '-' title '' with linespoints lc rgb 'orange',\\\n",
    "                       '-' title 'Expansion Line' with linespoints lc rgb 'red'\\n\");\n",
    "      \n",
    "        // 1 Isobar line : pin\n",
    "        for (int i = 0; i < 2; i++)\n",
    "        {\n",
    "            fprintf(pipe, \"%lf %lf\\n\", s_isopin[i], h_isopin[i]);\n",
    "        }\n",
    "        fprintf(pipe, \"e\");\n",
    "\n",
    "        // 2 Isobar line : pex\n",
    "        fprintf(pipe, \"\\n\");// start a new draw item\n",
    "        for (int i = 0; i < 2; i++)\n",
    "        {\n",
    "            fprintf(pipe, \"%lf %lf\\n\", s_isopex[i], h_isopex[i]);\n",
    "        }\n",
    "        fprintf(pipe, \"e\");\n",
    "\n",
    "        // 3 isentropic lines\n",
    "        fprintf(pipe, \"\\n\");// start a new draw item\n",
    "        for (int i = 0; i < 2; i++)\n",
    "        {\n",
    "            fprintf(pipe, \"%lf %lf\\n\", s_isos[i], h_isos[i]);\n",
    "        }\n",
    "        fprintf(pipe, \"e\");\n",
    "\n",
    "        // 4 Expansion Line\n",
    "        fprintf(pipe, \"\\n\");// start a new draw item\n",
    "        for (int i = 0; i < 2; i++)\n",
    "        {\n",
    "            fprintf(pipe, \"%lf %lf\\n\", s_expL[i], h_expL[i]);\n",
    "        }\n",
    "        fprintf(pipe, \"e\");\n",
    "\n",
    "        fflush(pipe);\n",
    "        fprintf(pipe, \"exit\\n\"); // exit gnuplot\n",
    "        pclose(pipe);            //close pipe\n",
    "    };                           // end of if\n",
    "};\n",
    "\n",
    "int main(void)\n",
    "{\n",
    "    double pin = 16.0;\n",
    "    double tin = 535.0;\n",
    "    double pex = 3.56;\n",
    "    double tex = 315.0;\n",
    "    Turbine tb1 = Turbine(pin, tin, pex, tex);\n",
    "    tb1.analysis();\n",
    "    tb1.output();\n",
    "    tb1.expansionline();\n",
    "    return 0;\n",
    "}\n"
   ]
  },
  {
   "cell_type": "markdown",
   "metadata": {},
   "source": [
    "###### Windows"
   ]
  },
  {
   "cell_type": "code",
   "execution_count": null,
   "metadata": {},
   "outputs": [],
   "source": [
    "!g++ -o ./demo/bin/turbine ./demo/src/gnuplot_pipe_turbine.cpp -LC:/Windows/system/  -lseuif97"
   ]
  },
  {
   "cell_type": "code",
   "execution_count": null,
   "metadata": {},
   "outputs": [],
   "source": [
    "!.\\demo\\bin\\turbine"
   ]
  },
  {
   "cell_type": "markdown",
   "metadata": {},
   "source": [
    "###### Linux"
   ]
  },
  {
   "cell_type": "code",
   "execution_count": null,
   "metadata": {},
   "outputs": [],
   "source": [
    "!g++ -o ./demo/bin/turbine ./demo/src/gnuplot_pipe_turbine.cpp -L/usr/lib/  -lseuif97 -lm"
   ]
  },
  {
   "cell_type": "code",
   "execution_count": null,
   "metadata": {},
   "outputs": [],
   "source": [
    "!./demo/bin/turbine"
   ]
  },
  {
   "cell_type": "markdown",
   "metadata": {},
   "source": [
    "# Reference\n",
    "\n",
    "* Gnuplot homepage http://gnuplot.info/\n",
    "\n",
    "    * Nishanth Sastry. [Visualize your data with gnuplot](http://fitzkee.chemistry.msstate.edu/sites/default/files/ch8990/ibm-gnuplot.pdf)\n",
    "  \n",
    "      * [中文版:gnuplot让您的数据可视化](https://www.ibm.com/developerworks/cn/linux/l-gnuplot/))\n",
    "    \n",
    "    * Henri Gavin. [GNUPLOT 4.2 - A Brief Manual and Tutorial](http://people.duke.edu/~hpgavin/gnuplot.html)\n",
    "\n",
    "    * Philipp K. Janert. Gnuplot in Action:Understanding data with graphs(2nd Edition). Manning Publications Co.2016\n"
   ]
  },
  {
   "cell_type": "code",
   "execution_count": null,
   "metadata": {},
   "outputs": [],
   "source": []
  }
 ],
 "metadata": {
  "kernelspec": {
   "display_name": "Python 3",
   "language": "python",
   "name": "python3"
  },
  "language_info": {
   "codemirror_mode": {
    "name": "ipython",
    "version": 3
   },
   "file_extension": ".py",
   "mimetype": "text/x-python",
   "name": "python",
   "nbconvert_exporter": "python",
   "pygments_lexer": "ipython3",
   "version": "3.7.0"
  },
  "toc": {
   "base_numbering": 1,
   "nav_menu": {},
   "number_sections": false,
   "sideBar": true,
   "skip_h1_title": false,
   "title_cell": "Table of Contents",
   "title_sidebar": "Contents",
   "toc_cell": false,
   "toc_position": {
    "height": "calc(100% - 180px)",
    "left": "10px",
    "top": "150px",
    "width": "307.2px"
   },
   "toc_section_display": true,
   "toc_window_display": false
  },
  "widgets": {
   "state": {},
   "version": "1.1.2"
  }
 },
 "nbformat": 4,
 "nbformat_minor": 2
}
