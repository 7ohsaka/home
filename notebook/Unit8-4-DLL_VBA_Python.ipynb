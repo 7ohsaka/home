{
 "cells": [
  {
   "cell_type": "markdown",
   "metadata": {},
   "source": [
    "# C/C++ DLL, Unit Test for C/C++, Excel VBA, Python\n",
    "\n",
    "## 1 C/C++ __stdcall DLL \n",
    "\n",
    "  For `Visual Basic` applications (or applications in other languages such as Pascal or Fortran) to call functions in a C/C++ DLL, the functions must be exported using the correct calling convention without any name decoration done by the compiler.\n",
    "  \n",
    "VBA can **only** call `__stdcall` functions, not `__cdecl` functions. \n",
    "  \n",
    "*  `__stdcall` creates the correct calling convention for the function (the called function cleans up the stack and parameters are passed from right to left)\n",
    "\n",
    "* ` __declspec(dllexport)` is used on an `exported` function in a DLL\n",
    "\n",
    "Below is the example of techniques which facilitate the use of use of MinGW to create DLLs, exporting functions which may be called from Visual Basic Application with Excel. \n",
    "\n",
    "Example: Equations for Region4 of [IAPWS-IF97](http://www.iapws.org/relguide/IF97-Rev.pdf)\n",
    "\n",
    "* 8 Equations for Region 4 \n",
    "\n",
    "  * 8.1 The Saturation-Pressure Equation (Basic Equation) P33,Eq30\n",
    "  \n",
    "  * 8.2 The Saturation-Temperature Equation (Backward Equation) P35, Eq31\n"
   ]
  },
  {
   "cell_type": "markdown",
   "metadata": {},
   "source": [
    "### 1.1 Create your DLL with `__stdcall` calling convention\n",
    "\n",
    "Create a DLL with the following code:\n",
    "\n",
    "* region4.h\n",
    "\n",
    "* region4.c\n",
    "\n",
    "For Windows,export all functions as `__stdcall`.\n",
    "\n",
    "```c\n",
    "#define DLLPORT __declspec(dllexport) __stdcall \n",
    "```\n",
    "**NOTE**： The following header `region4.h`  declares the interface for \n",
    "\n",
    "* building the **Windows/Linux shared library  \n",
    "\n",
    "* building an executable that uses the  shared library.\n"
   ]
  },
  {
   "cell_type": "code",
   "execution_count": 1,
   "metadata": {},
   "outputs": [
    {
     "name": "stdout",
     "output_type": "stream",
     "text": [
      "Overwriting ./demo/src/region4.h\n"
     ]
    }
   ],
   "source": [
    "%%file ./demo/src/region4.h\n",
    "\n",
    "#pragma once\n",
    "\n",
    "#ifdef __cplusplus\n",
    "extern \"C\" {\n",
    "#endif\n",
    "\n",
    "#ifdef BUILD_DLL\n",
    "\n",
    "    #ifdef WIN32\n",
    "        #define DLLPORT __declspec(dllexport) __stdcall \n",
    "    #else\n",
    "        #define DLLPORT \n",
    "    #endif    \n",
    "\n",
    "#else\n",
    "\n",
    "    #ifdef WIN32\n",
    "        #define DLLPORT __declspec(dllimport) __stdcall   \n",
    "    #else\n",
    "        #define DLLPORT \n",
    "    #endif    \n",
    "\n",
    "#endif\n",
    "\n",
    "DLLPORT  double pSat(double T);\n",
    "DLLPORT  double TSat(double p);\n",
    "        \n",
    "#ifdef __cplusplus\n",
    "\t}\n",
    "#endif        "
   ]
  },
  {
   "cell_type": "markdown",
   "metadata": {},
   "source": [
    "When you create header files for your DLLs, use\n",
    "\n",
    "* ` __declspec(dllexport) ` adds the `export` directive to the object fileworks\n",
    "\n",
    "* ` __declspec(dllimport)`  on the declarations of the public symbols"
   ]
  },
  {
   "cell_type": "code",
   "execution_count": 3,
   "metadata": {},
   "outputs": [
    {
     "name": "stdout",
     "output_type": "stream",
     "text": [
      "Overwriting ./demo/src/region4.c\n"
     ]
    }
   ],
   "source": [
    "%%file ./demo/src/region4.c\n",
    "#include <math.h>\n",
    "#include \"region4.h\"\n",
    "\n",
    "//\n",
    "//  Initialize coefficients for region 4\n",
    "//\n",
    "static double n[11] = {0, 0.11670521452767E+04, -0.72421316703206E+06, -0.17073846940092E+02,\n",
    "                          0.12020824702470E+05, -0.32325550322333E+07, 0.14915108613530E+02,\n",
    "                         -0.48232657361591E+04, 0.40511340542057E+06, -0.23855557567849E+00,\n",
    "                          0.65017534844798E+03};\n",
    "\n",
    "double pSat(double T)\n",
    "// saturation pressure of water\n",
    "// pSat in MPa\n",
    "// T :temperaturein K\n",
    "//\n",
    "// pSat = -1: temperature outside range\n",
    "//\n",
    "{\n",
    "    double pS;\n",
    "    if (T < 273.15 || T > 647.096) // tc_water=647.096\n",
    "        pS = -1.0;\n",
    "    else\n",
    "    {\n",
    "        double del = T + n[9] / (T - n[10]);\n",
    "        double aco = del * (del + n[1]) + n[2];\n",
    "        double bco = del * (n[3] * del + n[4]) + n[5];\n",
    "        double cco = del * (n[6] * del + n[7]) + n[8];\n",
    "        pS = pow(2 * cco / (-bco + sqrt(bco * bco - 4 * aco * cco)), 4);\n",
    "    }\n",
    "    return pS;\n",
    "}\n",
    "\n",
    "double TSat(double p)\n",
    "// saturation temperature of water\n",
    "// TSat in K\n",
    "// p :pressure MPa\n",
    "//\n",
    "// TSat=-1: pressure outside range\n",
    "//\n",
    "{\n",
    "    double TS;\n",
    "    if (p < 0.000611212677 || p > 22.064)\n",
    "        TS = -1.0;\n",
    "    else\n",
    "    {\n",
    "        double bet = pow(p, 0.25);\n",
    "        double eco = bet * (bet + n[3]) + n[6];\n",
    "        double fco = bet * (n[1] * bet + n[4]) + n[7];\n",
    "        double gco = bet * (n[2] * bet + n[5]) + n[8];\n",
    "        double dco = 2.0 * gco / (-fco - sqrt(fco * fco - 4.0 * eco * gco));\n",
    "        TS = 0.5 * (n[10] + dco - sqrt((n[10] + dco) * (n[10] + dco) - 4.0 * (n[9] + n[10] * dco)));\n",
    "    }\n",
    "    return TS;\n",
    "}"
   ]
  },
  {
   "cell_type": "code",
   "execution_count": 4,
   "metadata": {},
   "outputs": [],
   "source": [
    "!gcc -c -DBUILD_DLL -o ./demo/obj/region4.o ./demo/src/region4.c -I./demo/src\n",
    "!gcc -shared -o ./demo/bin/libregion4.dll ./demo/obj/region4.o  -Wl,--add-stdcall-alias"
   ]
  },
  {
   "cell_type": "markdown",
   "metadata": {},
   "source": [
    "* -DBUILD_DLL:\n",
    "   \n",
    "  * -Dname: `Predefine name as a macro`, with definition \n",
    "  \n",
    "\n",
    "*  -Wl,option \n",
    "\n",
    "   Pass **option** as an option to the **linker**. If option contains commas, it is split into multiple options at the commas.\n",
    "\n",
    "\n",
    "* --add-stdcall-alias:\n",
    "   \n",
    "   This adds an undecorated alias for the `exported function names` that is simply **the name of the function** "
   ]
  },
  {
   "cell_type": "markdown",
   "metadata": {},
   "source": [
    "### 1.2  Add -static-libgcc ,-output-def=libregion4.def\n",
    "\n",
    " Links the GNU `libgcc` library `statically`"
   ]
  },
  {
   "cell_type": "code",
   "execution_count": 6,
   "metadata": {},
   "outputs": [],
   "source": [
    "!gcc -c -DBUILD_DLL -o ./demo/obj/region4.o ./demo/src/region4.c -I./demo/src\n",
    "!gcc -shared -o ./demo/bin/libregion4.dll -static-libgcc ./demo/obj/region4.o -Wl,--add-stdcall-alias,-output-def=./demo/bin/libregion4.def"
   ]
  },
  {
   "cell_type": "markdown",
   "metadata": {},
   "source": [
    "* -static-libgcc\n",
    "\n",
    "   This option links the GNU `libgcc` library **statically** \n",
    "   \n",
    "\n",
    "* -output-def=libregion4.def\n",
    "\n",
    "    Name of `.def` file to be created.\n",
    "    \n",
    "    **def:** A module-definition  file is a text file containing one or more module statements that describe various attributes of a DLL"
   ]
  },
  {
   "cell_type": "code",
   "execution_count": null,
   "metadata": {},
   "outputs": [],
   "source": [
    "%load ./demo/bin/libregion4.def"
   ]
  },
  {
   "cell_type": "code",
   "execution_count": 8,
   "metadata": {},
   "outputs": [
    {
     "name": "stdout",
     "output_type": "stream",
     "text": [
      "Writing ./demo/makefile-region4\n"
     ]
    }
   ],
   "source": [
    "%%file ./demo/makefile-region4\n",
    "\n",
    "CC=gcc\n",
    "CFLAGS=-DBUILD_DLL\n",
    "\n",
    "SRCDIR= ./demo/src/\n",
    "OBJDIR= ./demo/obj/\n",
    "BINDIR= ./demo/bin/\n",
    "\n",
    "all: libregion4.dll\n",
    "\n",
    "libregion4.dll: obj\n",
    "\t $(CC) -shared -o $(BINDIR)libregion4.dll -static-libgcc $(OBJDIR)region4.o -Wl,--add-stdcall-alias,-output-def=libregion4.def\n",
    "\t del .\\demo\\obj\\region4.o\n",
    "    \n",
    "obj: \n",
    "\t $(CC) -c $(CFLAGS) -o $(OBJDIR)region4.o $(SRCDIR)region4.c\n",
    "     \n",
    "clean:\n",
    "\t del .\\demo\\bin\\libregion4.dll"
   ]
  },
  {
   "cell_type": "code",
   "execution_count": 9,
   "metadata": {},
   "outputs": [
    {
     "name": "stdout",
     "output_type": "stream",
     "text": [
      "gcc -c -DBUILD_DLL -o ./demo/obj/region4.o ./demo/src/region4.c\n",
      "gcc -shared -o ./demo/bin/libregion4.dll -static-libgcc ./demo/obj/region4.o -Wl,--add-stdcall-alias,-output-def=libregion4.def\n",
      "del .\\demo\\obj\\region4.o\n"
     ]
    }
   ],
   "source": [
    "!make -f ./demo/makefile-region4"
   ]
  },
  {
   "cell_type": "markdown",
   "metadata": {},
   "source": [
    "### 1.3 Call Dll from C/C++"
   ]
  },
  {
   "cell_type": "code",
   "execution_count": 5,
   "metadata": {},
   "outputs": [
    {
     "name": "stdout",
     "output_type": "stream",
     "text": [
      "Overwriting ./demo/src/mainReg4.c\n"
     ]
    }
   ],
   "source": [
    "%%file ./demo/src/mainReg4.c\n",
    "\n",
    "#include <stdio.h> \n",
    "#include \"region4.h\"\n",
    "\n",
    "int main() {\n",
    "     double T=300.0;\n",
    "     printf(\"Saturation P is %f\\n\", pSat(T));  \n",
    "     return 0;\n",
    "}"
   ]
  },
  {
   "cell_type": "code",
   "execution_count": 6,
   "metadata": {},
   "outputs": [],
   "source": [
    "!gcc -c -o ./demo/obj/mainReg4.o ./demo/src/mainReg4.c \n",
    "!gcc -o  ./demo/bin/mainReg4 ./demo/obj/mainReg4.o -I./demo/src/ -L./demo/bin/ -lregion4"
   ]
  },
  {
   "cell_type": "code",
   "execution_count": 7,
   "metadata": {},
   "outputs": [
    {
     "name": "stdout",
     "output_type": "stream",
     "text": [
      "Saturation P is 0.003537\n"
     ]
    }
   ],
   "source": [
    "!.\\demo\\bin\\mainReg4"
   ]
  },
  {
   "cell_type": "markdown",
   "metadata": {},
   "source": [
    "## 2 Unit Test for C/C++\n",
    "\n",
    "Unit testing frameworks for C/C++ are most often **third-party products** that are `not distributed as part of the compiler suite`. They help simplify the process of unit testing,\n",
    "\n",
    "* Microsoft Unit Testing Framework for C++\n",
    "\n",
    "* [Google Test](https://github.com/abseil/googletest/blob/master/googletest/docs/primer.md)\n",
    "\n",
    "* Boost.Test\n",
    "\n",
    "* CTest\n",
    "\n",
    "* [ThrowTheSwitch Unity：Unit Testing for C](https://github.com/ThrowTheSwitch/Unity)\n",
    "\n",
    "### 2.1 ThrowTheSwitch Unity：Unit Testing for C\n",
    "\n",
    "The Simple Unit Testing of Region4 by ThrowTheSwitch Unity\n",
    "\n",
    "![Unity](./img/unity.jpg)"
   ]
  },
  {
   "cell_type": "code",
   "execution_count": null,
   "metadata": {},
   "outputs": [],
   "source": [
    "%%file ./demo/src/test4_unity.c\n",
    "\n",
    "#include \"region4.h\"\n",
    "#include \"unity.h\"\n",
    "\n",
    "//  T,p\n",
    "static const double tab35[3][2] = {\n",
    "    {300, 0.00353658941},\n",
    "    {500, 2.63889776},\n",
    "    {600, 12.3443146}};\n",
    "\n",
    "// p,T\n",
    "static const double tab36[3][2] = {\n",
    "    {0.1, 372.755919},\n",
    "    {1, 453.035632},\n",
    "    {10, 584.149488}};\n",
    "\n",
    "void setUp(void) {}\n",
    "\n",
    "void tearDown(void) {}\n",
    "\n",
    "\n",
    "void test_SaturationP(void)\n",
    "{\n",
    "  //  Saturation P line\n",
    "  for (int i = 0; i < 3; i++)\n",
    "  {\n",
    "    double T = tab35[i][0];\n",
    "    TEST_ASSERT_EQUAL_FLOAT(tab35[i][1], pSat(T));\n",
    "  }\n",
    "}\n",
    "\n",
    "void test_SaturationT(void)\n",
    "{\n",
    "  //  Saturation T line\n",
    "  for (int i = 0; i < 3; i++)\n",
    "  {\n",
    "    double p = tab36[i][0];\n",
    "    TEST_ASSERT_EQUAL_FLOAT(tab36[i][1], TSat(p));\n",
    "  }\n",
    "}\n",
    " \n",
    "int main(void)\n",
    "{\n",
    "  UNITY_BEGIN();\n",
    "  RUN_TEST(test_SaturationP);\n",
    "  RUN_TEST(test_SaturationT);\n",
    "  return UNITY_END();\n",
    "}"
   ]
  },
  {
   "cell_type": "code",
   "execution_count": 10,
   "metadata": {},
   "outputs": [],
   "source": [
    "!gcc -c -o ./demo/obj/unity.o  ./demo/Unity/unity.c -I./demo/Unity/\n",
    "!gcc -c -o ./demo/obj/test4_unity.o ./demo/src/test4_unity.c -I./demo/src/ -I./demo/Unity/\n",
    "!gcc -o  ./demo/bin/test4_unity.exe ./demo/obj/test4_unity.o ./demo/obj/unity.o -L./demo/bin/ -lregion4"
   ]
  },
  {
   "cell_type": "code",
   "execution_count": 11,
   "metadata": {},
   "outputs": [
    {
     "name": "stdout",
     "output_type": "stream",
     "text": [
      "./demo/src/test4_unity.c:45:test_SaturationP:PASS\n",
      "./demo/src/test4_unity.c:46:test_SaturationT:PASS\n",
      "\n",
      "-----------------------\n",
      "2 Tests 0 Failures 0 Ignored \n",
      "OK\n"
     ]
    }
   ],
   "source": [
    "!.\\demo\\bin\\test4_unity.exe"
   ]
  },
  {
   "cell_type": "markdown",
   "metadata": {},
   "source": [
    "### 2.2 Googletest\n",
    "\n",
    "The Simple Unit Testing of Region4 by  Googletest\n",
    "\n",
    "https://github.com/google/googletest/blob/master/googletest/docs/primer.md\n",
    "    \n",
    "googletest helps you write better C++ tests.\n",
    "\n",
    "googletest is a testing framework developed by the Testing Technology team with Google's specific requirements and constraints in mind. No matter whether you work on Linux, Windows, or a Mac, if you write C++ code, googletest can help you. And it supports any kind of tests, not just unit tests.    \n",
    "\n",
    "#### 2.2.1 To create a test\n",
    "\n",
    "Use the **TEST()** macro to define and name a test function, These are ordinary C++ functions that don't return a value.\n",
    "\n",
    "* In this function,use the various **googletest assertions** to check values.\n",
    "\n",
    "* The test's result is determined by the **assertions**\n",
    "\n",
    "if any assertion in the test fails (either fatally or non-fatally), or if the test crashes, the entire test fails. Otherwise, it succeeds.\n",
    "\n",
    "```cpp\n",
    "TEST(TestCaseName, TestName) {\n",
    "  ... test body ...\n",
    "}\n",
    "```\n",
    "\n",
    "**TEST()** arguments go from general to specific. \n",
    "\n",
    "* The first argument is **the name of the test case** \n",
    "\n",
    "* the second argument is the **test's name within the test case**\n",
    "\n",
    "Both names must be valid C++ identifiers, and they should not contain underscore (_). A test's full name consists of its containing test case and its individual name. Tests from different test cases can have the same individual name.\n",
    "\n",
    "\n",
    "#### 2.2.2  Invoking the Tests\n",
    "\n",
    "**TEST()** implicitly **register** their tests with googletest. So, unlike with many other C++ testing frameworks, you don't have to re-list all your defined tests in order to run them.\n",
    "\n",
    "After defining your tests, you can run them with **RUN_ALL_TESTS()** , which returns 0 if all the tests are successful, or 1 otherwise. \n",
    "\n",
    "Note：`RUN_ALL_TESTS()` runs **all tests** in your link unit -- they can be from different test cases, or even different source files.\n",
    "\n",
    "The `::testing::InitGoogleTest()` function parses the command line for googletest flags, and removes all recognized flags. This allows the user to control a test program's behavior via various flags, which we'll cover in [AdvancedGuide](https://github.com/google/googletest/blob/master/googletest/docs/advanced.md). You must call this function before calling `RUN_ALL_TESTS()`, or the flags won't be properly initialized."
   ]
  },
  {
   "cell_type": "code",
   "execution_count": 12,
   "metadata": {},
   "outputs": [
    {
     "name": "stdout",
     "output_type": "stream",
     "text": [
      "Overwriting ./demo/src/test4_googletest.cpp\n"
     ]
    }
   ],
   "source": [
    "%%file ./demo/src/test4_googletest.cpp\n",
    "\n",
    "#include \"region4.h\"\n",
    "#include <gtest/gtest.h>\n",
    "\n",
    "//  T,p\n",
    "double tab35[3][2] = {{300, 0.00353658941},\n",
    "                      {500, 2.63889776},\n",
    "                      {600, 12.3443146}};\n",
    "// p,T\n",
    "double tab36[3][2] = {{0.1, 372.755919},\n",
    "                      {1, 453.035632},\n",
    "                      {10, 584.149488}};\n",
    "\n",
    "// Test Region4:  Saturation P\n",
    "TEST(Region4Test, SaturationPTest)\n",
    "{\n",
    "  for (int i = 0; i < 3; i++)\n",
    "  {\n",
    "    double T = tab35[i][0];\n",
    "    EXPECT_NEAR(tab35[i][1], pSat(T), 1.0e-6);\n",
    "  }\n",
    "}\n",
    "\n",
    "// Test Region4: Saturation T\n",
    "TEST(Region4Test, SaturationTTest)\n",
    "{\n",
    "  for (int i = 0; i < 3; i++)\n",
    "  {\n",
    "    double p = tab36[i][0];\n",
    "    EXPECT_NEAR(tab36[i][1], TSat(p), 1.0e-6);\n",
    "  }\n",
    "}\n",
    "\n",
    "int main(int argc, char **argv)\n",
    "{\n",
    "  ::testing::InitGoogleTest(&argc, argv);\n",
    "  return RUN_ALL_TESTS();\n",
    "}"
   ]
  },
  {
   "cell_type": "code",
   "execution_count": 13,
   "metadata": {},
   "outputs": [],
   "source": [
    "!g++ -o  ./demo/bin/test4_googletest.exe ./demo/src/test4_googletest.cpp -L./demo/bin/  -lregion4 -lgtest"
   ]
  },
  {
   "cell_type": "code",
   "execution_count": 14,
   "metadata": {},
   "outputs": [
    {
     "name": "stdout",
     "output_type": "stream",
     "text": [
      "[==========] Running 2 tests from 1 test suite.\n",
      "[----------] Global test environment set-up.\n",
      "[----------] 2 tests from Region4Test\n",
      "[ RUN      ] Region4Test.SaturationPTest\n",
      "[       OK ] Region4Test.SaturationPTest (0 ms)\n",
      "[ RUN      ] Region4Test.SaturationTTest\n",
      "[       OK ] Region4Test.SaturationTTest (0 ms)\n",
      "[----------] 2 tests from Region4Test (0 ms total)\n",
      "\n",
      "[----------] Global test environment tear-down\n",
      "[==========] 2 tests from 1 test suite ran. (1 ms total)\n",
      "[  PASSED  ] 2 tests.\n"
     ]
    }
   ],
   "source": [
    "!.\\demo\\bin\\test4_googletest.exe"
   ]
  },
  {
   "cell_type": "markdown",
   "metadata": {},
   "source": [
    "#### 2.2.3  Invoking with gtest_main\n",
    "\n",
    "But maybe you think that writing all those **main()** functions is too much work? \n",
    "\n",
    "We agree with you completely and that's why Google Test provides a basic implementation of **main()** \n",
    "\n",
    "If it fits your needs, then just **link** your test with **gtest_main** library and you are good to go\n",
    "\n",
    "```bash\n",
    " -lgtest_main\n",
    "```\n",
    "\n",
    "```bash\n",
    "!g++ -o  ./demo/bin/test4_gtest.exe ./demo/src/test4_gtest_main.cpp -L./demo/bin/  -lregion4 -lgtest -lgtest_main\n",
    "```"
   ]
  },
  {
   "cell_type": "code",
   "execution_count": null,
   "metadata": {},
   "outputs": [],
   "source": [
    "%%file ./demo/src/test4_gtest_main.cpp\n",
    "\n",
    "#include \"region4.h\"\n",
    "#include <gtest/gtest.h>\n",
    "\n",
    "//  T,p\n",
    "double tab35[3][2] = {{300, 0.00353658941},\n",
    "                      {500, 2.63889776},\n",
    "                      {600, 12.3443146}};\n",
    "// p,T\n",
    "double tab36[3][2] = {{0.1, 372.755919},\n",
    "                      {1, 453.035632},\n",
    "                      {10, 584.149488}};\n",
    "\n",
    "// Test Region4:  Saturation P\n",
    "TEST(Region4Test, SaturationPTest)\n",
    "{\n",
    "  for (int i = 0; i < 3; i++)\n",
    "  {\n",
    "    double T = tab35[i][0];\n",
    "    EXPECT_NEAR(tab35[i][1], pSat(T), 1.0e-6);\n",
    "  }\n",
    "}\n",
    "\n",
    "// Test Region4: Saturation T\n",
    "TEST(Region4Test, SaturationTTest)\n",
    "{\n",
    "  for (int i = 0; i < 3; i++)\n",
    "  {\n",
    "    double p = tab36[i][0];\n",
    "    EXPECT_NEAR(tab36[i][1], TSat(p), 1.0e-6);\n",
    "  }\n",
    "}"
   ]
  },
  {
   "cell_type": "code",
   "execution_count": null,
   "metadata": {},
   "outputs": [],
   "source": [
    "!g++ -o  ./demo/bin/test4_gtest.exe ./demo/src/test4_gtest_main.cpp -L./demo/bin/  -lregion4 -lgtest -lgtest_main"
   ]
  },
  {
   "cell_type": "code",
   "execution_count": null,
   "metadata": {},
   "outputs": [],
   "source": [
    "!.\\demo\\bin\\test4_gtest.exe"
   ]
  },
  {
   "cell_type": "markdown",
   "metadata": {},
   "source": [
    "## 3 Call DLL from Excel VBA(64bits)\n",
    "\n",
    "Do as the following steps:\n",
    "\n",
    "**1** `libregion4.dll` in the default path of windows'dll `C:\\windows\\system`\n",
    "\n",
    "\n",
    "**2** `demo-r4.xlsm` in `./demo/src/`\n",
    "\n",
    "\n",
    "**3**  create the `VBA modules` to call the DLL.\n",
    "\n",
    "Into **VBA**, then， create the module **mathfuns** to call library:\n",
    "\n",
    "```vba\n",
    "Declare PtrSafe Function pSat Lib \"libregion4\" (ByVal T As Double) As Double\n",
    "Declare PtrSafe Function TSat Lib \"libregion4\" (ByVal p As Double) As Double\n",
    "\n",
    "Public Function CalpSat(ByVal T As Double) As Double\n",
    "    CalpSat = region4.pSat(T)\n",
    "End Function\n",
    " \n",
    "Public Function  CalTSat(ByVal p As Double) As Double\n",
    "    CalTSat = region4.TSat(p)\n",
    "End Function\n",
    "```\n",
    "**4**  call VBA methods in cells\n",
    "\n",
    "![demo-r4](./img/demo-r4.jpg)"
   ]
  },
  {
   "cell_type": "markdown",
   "metadata": {},
   "source": [
    "## 4 call_stdcall DLL from Python\n",
    "\n",
    "```python\n",
    " windll.LoadLibrary\n",
    "```"
   ]
  },
  {
   "cell_type": "code",
   "execution_count": null,
   "metadata": {},
   "outputs": [],
   "source": [
    "%%file ./demo/src/region4.py\n",
    "\n",
    "from ctypes import windll,c_double\n",
    "\n",
    "flib = windll.LoadLibrary('./demo/bin/libregion4.dll')\n",
    "\n",
    "def pSat(T):\n",
    "    flib.pSat.argtypes = [c_double]\n",
    "    flib.pSat.restype  = c_double\n",
    "    return flib.pSat(T)\n",
    "\n",
    "def TSat(p):\n",
    "    flib.TSat.argtypes = [c_double]\n",
    "    flib.TSat.restype  = c_double\n",
    "    return flib.TSat(p)"
   ]
  },
  {
   "cell_type": "markdown",
   "metadata": {},
   "source": [
    "**add `mathfuns.py` into the interperte search path**"
   ]
  },
  {
   "cell_type": "code",
   "execution_count": null,
   "metadata": {},
   "outputs": [],
   "source": [
    "import sys\n",
    "sys.path.append('./demo/src')"
   ]
  },
  {
   "cell_type": "code",
   "execution_count": null,
   "metadata": {},
   "outputs": [],
   "source": [
    "%%file ./demo/src/test4.py\n",
    "\n",
    "import unittest\n",
    "from region4 import *\n",
    "\n",
    "class Region4Test (unittest.TestCase):\n",
    "\n",
    "    def setUp(self):\n",
    "        # IF97-dev,Table35 Page 34 : T(K) p(MPa)\n",
    "        self.tab35=[[300, 0.353658941e-2],\n",
    "                    [500, 0.263889776e1],\n",
    "                    [600, 0.123443146e2]]\n",
    "\n",
    "        # IF97-dev, Table 36 Page 36 :  p(MPa) T(K)\n",
    "        self.tab36=[[0.1, 0.372755919e3],\n",
    "                    [  1, 0.453035632e3],\n",
    "                    [ 10, 0.584149488e3]]\n",
    "\n",
    "    def test_pSat(self):\n",
    "        places = 6\n",
    "        for item in  self.tab35:\n",
    "             self.assertAlmostEqual(pSat(item[0]),item[1],places)\n",
    "\n",
    "    def test_TSat(self):\n",
    "        places = 6\n",
    "        for item in  self.tab36:\n",
    "             self.assertAlmostEqual(TSat(item[0]),item[1],places)\n",
    "     \n",
    "\n",
    "if __name__ == '__main__':\n",
    "    unittest.main()       "
   ]
  },
  {
   "cell_type": "code",
   "execution_count": null,
   "metadata": {},
   "outputs": [],
   "source": [
    "%run ./demo/src/test4.py"
   ]
  },
  {
   "cell_type": "markdown",
   "metadata": {},
   "source": [
    "## Reference\n",
    "\n",
    "###  C/C++\n",
    "\n",
    "* ctypes http://docs.python.org/3/library/ctypes.html\n",
    "\n",
    "* Unit Test for C/C++\n",
    "\n",
    "    * Simple Unit Testing for C：https://github.com/ThrowTheSwitch/Unity\n",
    "\n",
    "    * Write unit tests for C/C++ in Visual Studio https://docs.microsoft.com/en-us/visualstudio/test/writing-unit-tests-for-c-cpp?view=vs-2017'\n",
    "\n",
    "    * Googletest - Google Testing and Mocking Framework https://github.com/google/googletest\n",
    "\n",
    "    * Arpan Sen. [A quick introduction to the Google C++ Testing Framework](https://www.ibm.com/developerworks/aix/library/au-googletestingframework.html)\n",
    "    \n",
    "    \n",
    "###  Microsoft Excel\n",
    "\n",
    "* Excel VBA Programming:  http://www.homeandlearn.org/the_excel_vba_editor.html\n",
    "\n",
    "* [Language reference for Visual Basic for Applications(VBA)](https://docs.microsoft.com/en-us/office/vba/api/overview/language-reference)\n",
    "\n",
    "* [Excel VBA reference](https://docs.microsoft.com/en-us/office/vba/api/overview/excel)\n",
    "\n",
    "* [Excel add-in tutorial](https://docs.microsoft.com/en-us/office/dev/add-ins/tutorials/excel-tutorial)\n",
    "\n",
    "* DLLs in Visual C++ https://msdn.microsoft.com/en-us/library/1ez7dh12.aspx\n",
    "\n",
    "* Calling DLL Functions from Visual Basic Applications https://msdn.microsoft.com/en-us/library/dt232c9t.aspx\n",
    "   "
   ]
  },
  {
   "cell_type": "code",
   "execution_count": null,
   "metadata": {},
   "outputs": [],
   "source": []
  }
 ],
 "metadata": {
  "kernelspec": {
   "display_name": "Python 3",
   "language": "python",
   "name": "python3"
  },
  "language_info": {
   "codemirror_mode": {
    "name": "ipython",
    "version": 3
   },
   "file_extension": ".py",
   "mimetype": "text/x-python",
   "name": "python",
   "nbconvert_exporter": "python",
   "pygments_lexer": "ipython3",
   "version": "3.7.2"
  },
  "toc": {
   "base_numbering": 1,
   "nav_menu": {},
   "number_sections": false,
   "sideBar": true,
   "skip_h1_title": false,
   "title_cell": "Table of Contents",
   "title_sidebar": "Contents",
   "toc_cell": false,
   "toc_position": {
    "height": "calc(100% - 180px)",
    "left": "10px",
    "top": "150px",
    "width": "307.2px"
   },
   "toc_section_display": true,
   "toc_window_display": false
  },
  "widgets": {
   "state": {},
   "version": "1.1.2"
  }
 },
 "nbformat": 4,
 "nbformat_minor": 1
}
