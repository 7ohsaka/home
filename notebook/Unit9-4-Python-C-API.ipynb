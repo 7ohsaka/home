{
 "cells": [
  {
   "cell_type": "markdown",
   "metadata": {},
   "source": [
    "#  Using Matplotlib through C/C++ API\n",
    "\n",
    "\n",
    "## 1 Python/C API\n",
    "\n",
    "The Application Programmer’s Interface to Python gives C and C++ programmers access to the Python interpreter at a variety of levels. The API is equally usable from C++, but for brevity it is generally referred to as the Python/C API. There are two fundamentally different reasons for using the Python/C API. The first reason is to write extension modules for specific purposes; these are C modules that extend the Python interpreter. This is probably the most common use. The second reason is to use Python as a component in a larger application; this technique is generally referred to as embedding Python in an application.\n",
    "\n",
    "https://docs.python.org/3/c-api/index.html\n",
    "\n",
    "## 2 Example: matplotlib-cpp\n",
    "\n",
    "https://github.com/lava/matplotlib-cpp\n",
    "\n",
    "Extremely simple yet powerful header-only C++ plotting library built on the popular matplotlib \n"
   ]
  },
  {
   "cell_type": "markdown",
   "metadata": {},
   "source": [
    "### 2.1 Header and lib for using  matplotlib-cpp\n",
    "\n",
    "**the header file only**\n",
    "\n",
    "* matplotlib-cpp.h: `./demo/include/matplotlib-cpp`\n",
    "\n",
    "**Python C API:**\n",
    "\n",
    "* include\n",
    "\n",
    "  * C:\\Python37\\include\n",
    "  \n",
    "  * C:\\Python37\\Lib\\site-packages\\numpy\\core\\include\\\n",
    "\n",
    "* Lib\n",
    "\n",
    " * C:\\Python37\n",
    "\n",
    "\n",
    "### 2.2  Complete minimal example"
   ]
  },
  {
   "cell_type": "code",
   "execution_count": null,
   "metadata": {},
   "outputs": [],
   "source": [
    "%matplotlib inline \n",
    "\n",
    "import matplotlib.pyplot as plt\n",
    "\n",
    "plt.figure(1) #create figure 1\n",
    "plt.plot([1,2,3,4], [1,7,3,5]) #draw on figure 1 <x,y> list/array\n",
    "plt.show() #show figure on screen"
   ]
  },
  {
   "cell_type": "code",
   "execution_count": null,
   "metadata": {},
   "outputs": [],
   "source": [
    "%%file ./demo/src/demo_matplotlib.cpp\n",
    "#include <iostream>\n",
    "#include \"../include/matplotlibcpp.h\"\n",
    "\n",
    "using namespace std;\n",
    "namespace plt = matplotlibcpp;\n",
    "\n",
    "int main() {\n",
    "    vector<int> x{1,2,3,4};\n",
    "    vector<double> y{1,7,3,5};\n",
    "    plt::plot(x,y);\n",
    "    plt::show();\n",
    "}"
   ]
  },
  {
   "cell_type": "code",
   "execution_count": null,
   "metadata": {},
   "outputs": [],
   "source": [
    "!g++ -std=c++11 -o ./demo/bin/demo.exe ./demo/src/demo_matplotlib.cpp  -IC:\\Python37\\include -IC:\\Python37\\Lib\\site-packages\\numpy\\core\\include\\ -LC:\\Python37\\ -lpython37"
   ]
  },
  {
   "cell_type": "markdown",
   "metadata": {},
   "source": [
    "* include: `-IC:\\Python37\\include -IC:\\Python37\\Lib\\site-packages\\numpy\\core\\include\\`\n",
    "        \n",
    "* link lib: `-LC:\\Python37\\ -lpython37`"
   ]
  },
  {
   "cell_type": "code",
   "execution_count": null,
   "metadata": {},
   "outputs": [],
   "source": [
    "%%file ./demo/makefile-demo_matplotlib.mk\n",
    "\n",
    "INC= -IC:/Python37/include \\\n",
    "    -IC:/Python37/Lib/site-packages/numpy/core/include\n",
    "        \n",
    "LIBDIR= C:/Python37/\n",
    "\n",
    "SRC= ./demo/src/demo_matplotlib.cpp \n",
    "            \n",
    "BIN= ./demo/bin/demo\n",
    "\n",
    "all: spring_matplotlib\n",
    "\n",
    "spring_matplotlib: \n",
    "\t g++ -o $(BIN) $(SRC) $(INC) -L$(LIBDIR) -lPython37\n"
   ]
  },
  {
   "cell_type": "code",
   "execution_count": null,
   "metadata": {},
   "outputs": [],
   "source": [
    "!make -f ./demo/makefile-demo_matplotlib.mk"
   ]
  },
  {
   "cell_type": "markdown",
   "metadata": {},
   "source": [
    "![](./img/matplotlib-cpp.jpg)"
   ]
  },
  {
   "cell_type": "markdown",
   "metadata": {},
   "source": [
    "### 2.3 The Behavior of Springs\n",
    "\n",
    "[UNDERSTANDING_EXPERIMENTAL_DATA:UNDERSTANDING_EXPERIMENTAL_DATA](./Unit2-3-UNDERSTANDING_EXPERIMENTAL_DATA.ipynb)"
   ]
  },
  {
   "cell_type": "code",
   "execution_count": 6,
   "metadata": {},
   "outputs": [
    {
     "name": "stdout",
     "output_type": "stream",
     "text": [
      "Overwriting ./demo/data/springData.csv\n"
     ]
    }
   ],
   "source": [
    "%%file ./demo/data/springData.csv\n",
    "Distance(m),Mass(kg)\n",
    "0.0865,0.1\n",
    "0.1015,0.15\n",
    "0.1106,0.2\n",
    "0.1279,0.25\n",
    "0.1892,0.3\n",
    "0.2695,0.35\n",
    "0.2888,0.4\n",
    "0.2425,0.45\n",
    "0.3465,0.5\n",
    "0.3225,0.55\n",
    "0.3764,0.6\n",
    "0.4263,0.65\n",
    "0.4562,0.7\n",
    "0.4502,0.75\n",
    "0.4499,0.8\n",
    "0.4534,0.85\n",
    "0.4416,0.9\n",
    "0.4304,0.95\n",
    "0.437,1.0"
   ]
  },
  {
   "cell_type": "code",
   "execution_count": 4,
   "metadata": {},
   "outputs": [
    {
     "name": "stdout",
     "output_type": "stream",
     "text": [
      "Overwriting ./demo/src/spring_matplotlib.cpp\n"
     ]
    }
   ],
   "source": [
    "%%file ./demo/src/spring_matplotlib.cpp\n",
    "\n",
    "#include <iostream>\n",
    "#include <fstream>\n",
    "#include <sstream>\n",
    "#include <string>\n",
    "#include <vector>\n",
    "#include \"../include/matplotlibcpp.h\"\n",
    "\n",
    "using namespace std;\n",
    "\n",
    "namespace plt = matplotlibcpp;\n",
    "\n",
    "// Unit9-2-ctypes:Polynomial Regression\n",
    "void PolynomialFit(double x[], double y[], int size, int n, double a[]);\n",
    "\n",
    "int main(void)\n",
    "{\n",
    "  vector<double> vecforces;  \n",
    "  vector<double> vecdistances; \n",
    "    \n",
    "  ifstream fin(\"../data/springData.csv\");\n",
    "  if(!fin) {\n",
    "     cerr<<\"failed to open file for reading\"<<endl;\n",
    "     return 1;\n",
    "  }\n",
    "  string line;\n",
    "  while(getline(fin, line))\n",
    "  {\n",
    "      istringstream sin(line);\n",
    "      vector<string> fields; \n",
    "      string field;\n",
    "      while (getline(sin, field, ','))\n",
    "         fields.push_back(field); \n",
    "      string d =fields[0];\n",
    "      string m =fields[1];\n",
    "      if (atof(d.c_str()) > 0)\n",
    "           vecdistances.push_back(atof(d.c_str()));\n",
    "      if (atof(m.c_str()) > 0)\n",
    "          vecforces.push_back(9.81*atof(m.c_str()));\n",
    "  };\n",
    "    \n",
    "  fin.close();\n",
    " \n",
    "  int n = 1; // n is the degree of Polynomial\n",
    "  double a[n + 1];\n",
    "  int size=vecdistances.size();\n",
    "  double forces[size];\n",
    "  double distances[size];\n",
    "  copy(vecforces.begin(), vecforces.end(),forces);\n",
    "  copy(vecdistances.begin(), vecdistances.end(),distances);\n",
    "  PolynomialFit(forces, distances, size - 6, n, a);\n",
    "  cout << \"PolynomialFit:k =\" << 1 / a[1] << std::endl;\n",
    "  \n",
    "  plt::plot(vecforces, vecdistances, \"r*\");\n",
    " \n",
    "  vector<double> vecpredictedDistances;\n",
    "  vector<double> vecprevarforces;\n",
    "  for (int i = 0; i < size-6; i++)\n",
    "  {  \n",
    "     vecprevarforces.push_back(forces[i]);\n",
    "     vecpredictedDistances.push_back(a[1]*forces[i] + a[0]);\n",
    "  }    \n",
    "  plt::plot(vecprevarforces, vecpredictedDistances,\"b+\");\n",
    "  plt::plot(vecprevarforces, vecpredictedDistances);\n",
    "    \n",
    "  plt::title(\"Spring Data\");\n",
    "  plt::show();\n",
    "}"
   ]
  },
  {
   "cell_type": "code",
   "execution_count": 2,
   "metadata": {},
   "outputs": [
    {
     "name": "stdout",
     "output_type": "stream",
     "text": [
      "Overwriting ./demo/makefile-spring_matplotlib.mk\n"
     ]
    }
   ],
   "source": [
    "%%file ./demo/makefile-spring_matplotlib.mk\n",
    "\n",
    "INC= -IC:/Python37/include \\\n",
    "    -IC:/Python37/Lib/site-packages/numpy/core/include\n",
    "        \n",
    "LIBDIR= C:/Python37/\n",
    "\n",
    "SRC= ./demo/src/spring_matplotlib.cpp \\\n",
    "    ./demo/src/PolynomialFit.c \n",
    "            \n",
    "BIN= ./demo/bin/demo\n",
    "\n",
    "all: spring_matplotlib\n",
    "\n",
    "spring_matplotlib: \n",
    "\t g++ -o $(BIN) $(SRC) $(INC) -L$(LIBDIR) -lPython37 "
   ]
  },
  {
   "cell_type": "code",
   "execution_count": 5,
   "metadata": {},
   "outputs": [
    {
     "name": "stdout",
     "output_type": "stream",
     "text": [
      "g++ -o ./demo/bin/demo ./demo/src/spring_matplotlib.cpp ./demo/src/PolynomialFit.c  -IC:/Python37/include -IC:/Python37/Lib/site-packages/numpy/core/include -LC:/Python37/ -lPython37 \n"
     ]
    }
   ],
   "source": [
    "!make -f ./demo/makefile-spring_matplotlib.mk"
   ]
  },
  {
   "cell_type": "markdown",
   "metadata": {},
   "source": [
    "![](./img/spring_matplotlib_cpp.jpg)"
   ]
  },
  {
   "cell_type": "code",
   "execution_count": null,
   "metadata": {},
   "outputs": [],
   "source": []
  }
 ],
 "metadata": {
  "kernelspec": {
   "display_name": "Python 3",
   "language": "python",
   "name": "python3"
  },
  "language_info": {
   "codemirror_mode": {
    "name": "ipython",
    "version": 3
   },
   "file_extension": ".py",
   "mimetype": "text/x-python",
   "name": "python",
   "nbconvert_exporter": "python",
   "pygments_lexer": "ipython3",
   "version": "3.7.0"
  },
  "toc": {
   "base_numbering": 1,
   "nav_menu": {},
   "number_sections": false,
   "sideBar": true,
   "skip_h1_title": false,
   "title_cell": "Table of Contents",
   "title_sidebar": "Contents",
   "toc_cell": false,
   "toc_position": {
    "height": "calc(100% - 180px)",
    "left": "10px",
    "top": "150px",
    "width": "307.2px"
   },
   "toc_section_display": true,
   "toc_window_display": true
  },
  "widgets": {
   "state": {},
   "version": "1.1.2"
  }
 },
 "nbformat": 4,
 "nbformat_minor": 2
}
