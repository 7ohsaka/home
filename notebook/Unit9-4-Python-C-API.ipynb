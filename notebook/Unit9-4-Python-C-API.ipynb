{
 "cells": [
  {
   "cell_type": "markdown",
   "metadata": {},
   "source": [
    "#  Using Matplotlib through C/C++ API\n",
    "\n",
    "\n",
    "## Python/C API\n",
    "\n",
    "The Application Programmer’s Interface to Python gives C and C++ programmers access to the Python interpreter at a variety of levels. The API is equally usable from C++, but for brevity it is generally referred to as the Python/C API. There are two fundamentally different reasons for using the Python/C API. The first reason is to write extension modules for specific purposes; these are C modules that extend the Python interpreter. This is probably the most common use. The second reason is to use Python as a component in a larger application; this technique is generally referred to as embedding Python in an application.\n",
    "\n",
    "https://docs.python.org/3/c-api/index.html\n",
    "\n",
    "## Example: matplotlib-cpp\n",
    "\n",
    "https://github.com/lava/matplotlib-cpp\n",
    "\n",
    "Extremely simple yet powerful header-only C++ plotting library built on the popular matplotlib \n"
   ]
  },
  {
   "cell_type": "markdown",
   "metadata": {},
   "source": [
    "## Using matplotlib-cpp\n",
    "\n",
    "**the header file only**\n",
    "\n",
    "* matplotlib-cpp.h: `./demo/include/matplotlib-cpp`\n",
    "\n",
    "**Python C API:**\n",
    "\n",
    "* include\n",
    "\n",
    "  * C:\\Python37\\include\n",
    "  \n",
    "  * C:\\Python37\\Lib\\site-packages\\numpy\\core\\include\\\n",
    "\n",
    "* Lib\n",
    "\n",
    " * C:\\Python37\n",
    "\n",
    "\n",
    "**Complete minimal example:**"
   ]
  },
  {
   "cell_type": "code",
   "execution_count": null,
   "metadata": {},
   "outputs": [],
   "source": [
    "%matplotlib inline \n",
    "\n",
    "import matplotlib.pyplot as plt\n",
    "\n",
    "plt.figure(1) #create figure 1\n",
    "plt.plot([1,2,3,4], [1,7,3,5]) #draw on figure 1 <x,y> list/array\n",
    "plt.show() #show figure on screen"
   ]
  },
  {
   "cell_type": "code",
   "execution_count": null,
   "metadata": {},
   "outputs": [],
   "source": [
    "%%file ./demo/src/demo_matplotlib.cpp\n",
    "#include <iostream>\n",
    "#include \"../include/matplotlibcpp.h\"\n",
    "\n",
    "using namespace std;\n",
    "namespace plt = matplotlibcpp;\n",
    "\n",
    "int main() {\n",
    "    vector<int> x{1,2,3,4};\n",
    "    vector<double> y{1,7,3,5};\n",
    "    plt::plot(x,y);\n",
    "    plt::show();\n",
    "}"
   ]
  },
  {
   "cell_type": "code",
   "execution_count": null,
   "metadata": {},
   "outputs": [],
   "source": [
    "!g++ -std=c++11 -o ./demo/bin/demo.exe ./demo/src/demo_matplotlib.cpp  -IC:\\Python37\\include -IC:\\Python37\\Lib\\site-packages\\numpy\\core\\include\\ -LC:\\Python37\\ -lpython37"
   ]
  },
  {
   "cell_type": "markdown",
   "metadata": {},
   "source": [
    "* include: `-IC:\\Python37\\include -IC:\\Python37\\Lib\\site-packages\\numpy\\core\\include\\`\n",
    "        \n",
    "* link lib: `-LC:\\Python37\\ -lpython37`"
   ]
  },
  {
   "cell_type": "code",
   "execution_count": 1,
   "metadata": {},
   "outputs": [
    {
     "name": "stdout",
     "output_type": "stream",
     "text": [
      "Overwriting ./demo/makefile-demo_matplotlib.mk\n"
     ]
    }
   ],
   "source": [
    "%%file ./demo/makefile-demo_matplotlib.mk\n",
    "\n",
    "INC= -IC:/Python37/include \\\n",
    "    -IC:/Python37/Lib/site-packages/numpy/core/include\n",
    "        \n",
    "LIBDIR= C:/Python37/\n",
    "\n",
    "SRC= ./demo/src/demo_matplotlib.cpp \n",
    "            \n",
    "BIN= ./demo/bin/demo\n",
    "\n",
    "all: spring_matplotlib\n",
    "\n",
    "spring_matplotlib: \n",
    "\t g++ -o $(BIN) $(SRC) $(INC) -L$(LIBDIR) -lPython37\n"
   ]
  },
  {
   "cell_type": "code",
   "execution_count": 2,
   "metadata": {},
   "outputs": [
    {
     "name": "stdout",
     "output_type": "stream",
     "text": [
      "g++ -o ./demo/bin/demo ./demo/src/demo_matplotlib.cpp  -IC:/Python37/include -IC:/Python37/Lib/site-packages/numpy/core/include -LC:/Python37/ -lPython37\n"
     ]
    }
   ],
   "source": [
    "!make -f ./demo/makefile-demo_matplotlib.mk"
   ]
  },
  {
   "cell_type": "markdown",
   "metadata": {},
   "source": [
    "![](./img/matplotlib-cpp.jpg)"
   ]
  },
  {
   "cell_type": "code",
   "execution_count": null,
   "metadata": {},
   "outputs": [],
   "source": [
    "%%file ./demo/src/spring_matplotlib.cpp\n",
    "#include <iostream>\n",
    "#include \"../include/matplotlibcpp.h\"\n",
    "\n",
    "using namespace std;\n",
    "\n",
    "namespace plt = matplotlibcpp;\n",
    "\n",
    "// Unit9-2-ctypes:Polynomial Regression\n",
    "void PolynomialFit(double x[], double y[], int size, int n, double a[]);\n",
    "\n",
    "int main(void)\n",
    "{\n",
    "  double distances[] = {0.0865, 0.1015, 0.1106, 0.1279, 0.1892,\n",
    "                        0.2695, 0.2888, 0.2425, 0.3465, 0.3225,\n",
    "                        0.3764, 0.4263, 0.4562, 0.4502, 0.4499,\n",
    "                        0.4534, 0.4416, 0.4304, 0.437};\n",
    "  double masses[] = {0.10, 0.15, 0.20, 0.25, 0.30,\n",
    "                     0.35, 0.40, 0.45, 0.50, 0.55,\n",
    "                     0.60, 0.65, 0.70, 0.75, 0.80,\n",
    "                     0.85, 0.90, 0.95, 1.00};\n",
    "\n",
    "  int n = 1; // n is the degree of Polynomial\n",
    "  double a[n + 1];\n",
    "\n",
    "  int size = (sizeof(masses) / sizeof(double));\n",
    "  double forces[size];\n",
    "  for (int i = 0; i < size; i++)\n",
    "    forces[i] = masses[i] * 9.81;\n",
    "  PolynomialFit(forces, distances, size - 6, n, a);\n",
    "  cout << \"PolynomialFit:k =\" << 1 / a[1] << std::endl;\n",
    "  //plot\n",
    "  vector<double> vecforces(forces, forces+sizeof(forces)/sizeof(double)-6);  \n",
    "  vector<double> vecdistances(distances, distances+sizeof(distances)/sizeof(double)-6); \n",
    "  plt::plot(vecforces, vecdistances, \"r*\");\n",
    "  \n",
    "  vector<double> vecpredictedDistances;\n",
    "  for (int i = 0; i < size-6; i++)\n",
    "      vecpredictedDistances.push_back(a[1]*forces[i] + a[0]);\n",
    "  plt::plot(vecforces, vecpredictedDistances,\"b+\");\n",
    "  plt::plot(vecforces, vecpredictedDistances);\n",
    "  \n",
    "  plt::title(\"Sample figure\");\n",
    "  plt::show();\n",
    "}"
   ]
  },
  {
   "cell_type": "code",
   "execution_count": null,
   "metadata": {},
   "outputs": [],
   "source": [
    "%%file ./demo/makefile-spring_matplotlib.mk\n",
    "\n",
    "INC= -IC:/Python37/include \\\n",
    "    -IC:/Python37/Lib/site-packages/numpy/core/include\n",
    "        \n",
    "LIBDIR= C:/Python37/\n",
    "\n",
    "SRC= ./demo/src/spring_matplotlib.cpp \\\n",
    "    ./demo/src/PolynomialFit.c \n",
    "            \n",
    "BIN= ./demo/bin/demo\n",
    "\n",
    "all: spring_matplotlib\n",
    "\n",
    "spring_matplotlib: \n",
    "\t g++ -o $(BIN) $(SRC) $(INC) -L$(LIBDIR) -lPython37\n",
    "\n",
    "   \n"
   ]
  },
  {
   "cell_type": "code",
   "execution_count": null,
   "metadata": {},
   "outputs": [],
   "source": [
    "!make -f ./demo/makefile-spring_matplotlib.mk"
   ]
  }
 ],
 "metadata": {
  "kernelspec": {
   "display_name": "Python 3",
   "language": "python",
   "name": "python3"
  },
  "language_info": {
   "codemirror_mode": {
    "name": "ipython",
    "version": 3
   },
   "file_extension": ".py",
   "mimetype": "text/x-python",
   "name": "python",
   "nbconvert_exporter": "python",
   "pygments_lexer": "ipython3",
   "version": "3.7.0"
  },
  "toc": {
   "base_numbering": 1,
   "nav_menu": {},
   "number_sections": false,
   "sideBar": true,
   "skip_h1_title": false,
   "title_cell": "Table of Contents",
   "title_sidebar": "Contents",
   "toc_cell": false,
   "toc_position": {
    "height": "calc(100% - 180px)",
    "left": "10px",
    "top": "150px",
    "width": "307.2px"
   },
   "toc_section_display": true,
   "toc_window_display": false
  },
  "widgets": {
   "state": {},
   "version": "1.1.2"
  }
 },
 "nbformat": 4,
 "nbformat_minor": 2
}
