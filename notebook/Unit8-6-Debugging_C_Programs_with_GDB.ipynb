{
 "cells": [
  {
   "cell_type": "markdown",
   "metadata": {},
   "source": [
    "# Debugging C Programs with GDB\n",
    "\n",
    "An important part of software development is testing and troubleshooting.\n",
    "\n",
    "In a large program, programming errors — or **bugs** — are practically inevitable. Programs can deliver wrong results, get hung up in infinite loops, or crash due to illegal memory operations. \n",
    "\n",
    "The task of finding and eliminating such errors is called **debugging** a program.\n",
    "\n",
    "Many bugs are not apparent by simply **studying the source code**.\n",
    "\n",
    "Extra output provided by a testing version of the program is one helpful diagnostic technique. You can **add statements to display the contents** of variables and other information during runtime.\n",
    "\n",
    "However, you can generally perform runtime diagnostics much more efficiently by using a **debugger.**\n",
    "\n",
    "A **debugger** is a program that runs another program in a finely **controlled** environment. \n",
    "\n",
    "For example, a debugger allows you to run the program `step by step`, `observing the contents` of  variables, `memory locations`, and `CPU registers（寄存器)` after each statement.\n",
    "\n",
    "You can also analyze the sequence of function calls that lead to a given point in the program.\n",
    "\n",
    "This chapter is an introduction to one powerful and widely used debugger, the **GNU debugger (GDB)**. The sections that follow describe GDB’s basic options and commands.\n",
    "\n",
    "## Installing GDB\n",
    "\n",
    "If the GNU C compiler, GCC, is available on your system, then GDB is probably **already** installed as well. You can tell by running the following command, which displays the debugger’s version and copyright information:"
   ]
  },
  {
   "cell_type": "code",
   "execution_count": null,
   "metadata": {},
   "outputs": [],
   "source": [
    "!gdb --version"
   ]
  },
  {
   "cell_type": "markdown",
   "metadata": {},
   "source": [
    "## A Sample Debugging Session\n",
    "\n",
    "This section describes a sample GDB session to illustrate the basic operation of the debugger.\n",
    "\n",
    "Many problems in C programs can be pinpointed using just a handful of debugger commands. \n",
    "\n",
    "The program `gdb_example.c`, contains a logical error. We’ll use this program in the following subsections to show how GDB can be used\n",
    "to track down such errors."
   ]
  },
  {
   "cell_type": "code",
   "execution_count": null,
   "metadata": {},
   "outputs": [],
   "source": [
    "%%file ./demo/src/gdb_example.c\n",
    "// -------------------------------------------------------------\n",
    "// A program to be debugged in a GDB session\n",
    "//     gdb_example.c:\n",
    "// Test the swap() function, which exchanges the contents of two int variables.\n",
    "// -------------------------------------------------------------\n",
    "\n",
    "#include <stdio.h>\n",
    "void swap( int *p1, int *p2 ); // Exchange *p1 and *p2\n",
    "\n",
    "int main()\n",
    "{\n",
    "    int a = 10, b = 20;\n",
    "    /* ... */\n",
    "    printf( \"The old values: a = %d; b = %d.\\n\", a, b );\n",
    "    swap( &a, &b );\n",
    "    printf( \"The new values: a = %d; b = %d.\\n\", a, b );\n",
    "    /* ... */\n",
    "    return 0;\n",
    "}\n",
    "\n",
    "void swap(int *p1, int *p2) // Exchange *p1 and *p2\n",
    "{\n",
    "    int *p = p1;\n",
    "    p1 = p2;\n",
    "    p2 = p;\n",
    "}"
   ]
  },
  {
   "cell_type": "markdown",
   "metadata": {},
   "source": [
    "## Symbol Information\n",
    "\n",
    "GDB is a **symbolic** command-line debugger. \n",
    "\n",
    "**Symbolic** here means that you can refer to variables and functions in the **running** program by the names you gave them in your C\n",
    "source code. \n",
    "\n",
    "In order to display and interpret these names, the **debugger**  requires  **information** about the types of the variables and functions in the program, and about which instructions in the **executable file** correspond to which lines in the source files. \n",
    "\n",
    "Such information takes the form of a **symbol table**(符号表）, which the compiler and linker **in the executable file** when you run GCC with the **`-g`** option.\n",
    "\n",
    "In a large program consisting of several source files, you **must compile each module with the `-g` option.**\n",
    "\n",
    ">**Compiling for debugging** \n",
    ">\n",
    ">Normally, an executable file does not contain any references to the original program source code, such as variable names or line-numbers—the executable file is simply the sequence of machine code instructions produced by the compiler. This is insufficient for debugging, since there is no easy way to find the cause of an error if the program crashes.\n",
    ">\n",
    ">GCC provides the **`-g`** debug option to store additional debugging information in object files and executables. This debugging information allows errors to be traced back from a specific machine instruction to the corresponding line in the original source file. It also allows the execution of a program to be traced in a debugger, such as the GNU Debugger gdb\n",
    "\n"
   ]
  },
  {
   "cell_type": "code",
   "execution_count": null,
   "metadata": {},
   "outputs": [],
   "source": [
    "!gcc -g ./demo/src/gdb_example.c"
   ]
  },
  {
   "cell_type": "markdown",
   "metadata": {},
   "source": [
    "the default name executable file: `a.exe`(Windows),`a.out`(Linux)"
   ]
  },
  {
   "cell_type": "code",
   "execution_count": null,
   "metadata": {},
   "outputs": [],
   "source": [
    "!dir a.*"
   ]
  },
  {
   "cell_type": "markdown",
   "metadata": {},
   "source": [
    "## Finding a Bug\n",
    "\n",
    "The following command runs the program from `./demo/src/gdb_example.c`"
   ]
  },
  {
   "cell_type": "code",
   "execution_count": null,
   "metadata": {},
   "outputs": [],
   "source": [
    "!.\\a.exe"
   ]
  },
  {
   "cell_type": "markdown",
   "metadata": {},
   "source": [
    "The program produces the following output:\n",
    "```    \n",
    "The old values: a = 10; b = 20.\n",
    "The new values: a = 10; b = 20.\n",
    "```\n",
    "\n",
    "Although the **swap()** function call is `plain` to see in the source code, the contents of the variables `a and b have not been swapped`. \n",
    "\n",
    "We can look for the reason using **GDB**. \n",
    "\n",
    "###  start GDB\n",
    "To begin the debugging session, start **GDB** from the shell, specifying the name of the executable file as a command-line argument to the debugger.\n",
    "```\n",
    ">gdb a.exe\n",
    "```\n",
    "The **debugger** loads the program executable but **waits** for your instructions before running it. \n",
    "\n",
    "GDB prints **(gdb)** at the beginning of a new line to **prompt** you for a debugging command.\n",
    "\n",
    "![gdb](./img/gdb.jpg)"
   ]
  },
  {
   "cell_type": "markdown",
   "metadata": {},
   "source": [
    "### list\n",
    "\n",
    "You can start by entering the command **list**, or just its initial **l** for short, to **list a few lines of source code** of the program you are debugging. By default, the listing shows 10 lines, centered on the source line that is ready to be executed next. \n",
    "\n",
    "In our example, the program has just been started, and the next line is line 10, where the function **main()** begins:\n",
    "\n",
    "![gdb-list](./img/gdb-list.jpg)\n",
    "\n",
    "If you follow one **list** command with another, **GDB** prints the next few lines of source code.\n",
    "\n",
    "![gdb-list](./img/gdb-list-list.jpg)\n",
    "\n",
    "### breakpoint\n",
    "\n",
    "Before you instruct GDB to run the program, you should tell it **where you want it to stop**. You can do this by setting a **breakpoint**. \n",
    "\n",
    "When the debugger reaches the breakpoint, it interrupts the execution of your program\n",
    "\n",
    "* giving you an opportunity to examine the program’s state at that point.\n",
    "\n",
    "* you can continue execution line by line, observing the state of program objects as you go.\n",
    "\n",
    "To set a breakpoint, enter the command **break**, or `b` for short. \n",
    "\n",
    "Breakpoints are usually set at a **specific** line of source code or at the **beginning** of a function.\n",
    "\n",
    "The following command sets a breakpoint at line 15 of the current source file, which is the line containing the **swap()** function call:\n",
    "\n",
    "![gdb-breakpoint](./img/gdb-breakpoint.jpg)\n",
    "\n",
    "### run\n",
    "\n",
    "The command **run**, or `r`, starts the program:\n",
    "\n",
    "\n",
    "![gdb-run](./img/gdb-run.jpg)\n",
    "\n",
    "Upon reaching the `breakpoint`, the debugger **interrupts*8 the execution of the program and **displays the line** containing the next statement to be executed.\n",
    "\n",
    "Because we suspect the bug in our example is in the **swap()** function, we want to execute that function **step by step.**\n",
    "\n",
    "### execute `step by step`\n",
    "\n",
    "GDB provides the commands `next`, or `n`, and `step`, or `s`.\n",
    "\n",
    "The `next` and `step` commands behave differently if the next line to be executed **contains** a function call.\n",
    "\n",
    "The `next` command executes the next line, **including** all function calls, and interrupts the program again at the following line.\n",
    "\n",
    "The `step` command, on the other hand, executes a **jump** to the function called in the line, provided that the debugging symbols are available for that function, and interrupts the program again at the **first statement in the function** body.\n",
    "\n",
    "In our example session, the command `step` takes us to the first statement in the **swap()** function:\n",
    "\n",
    "![gdb-s](./img/gdb-s.jpg)\n",
    "\n",
    "The debugger displays the values of the function arguments (here, these are the addresses of the variables `a` and `b`), and once again the next line to be executed. \n",
    "\n",
    "At this point, we can **check** to see whether **the values of the variables** referenced by the function’s pointer arguments are correct.\n",
    "\n",
    "### print\n",
    "\n",
    "We can do this using the **print** command (`p` for short), which displays the value of a given expression:\n",
    "\n",
    "![gdb-p](./img/gdb-p.jpg)\n",
    "\n",
    "The expression `*p1` has the value `10`, and `*p2` has the value `20`. \n",
    "\n",
    "The output of GDB’s `print` command has the form `$number = value`, where `$number` is a GDB variable that the debugger creates so that you can refer to this result later."
   ]
  },
  {
   "attachments": {},
   "cell_type": "markdown",
   "metadata": {},
   "source": [
    "### next\n",
    "\n",
    "If we now type n (for next) three times, the debugger executes lines 23, 24, and 25:\n",
    "\n",
    "![gdb-n](./img/gdb-n.jpg)\n",
    "\n",
    "As long as the program flow **has not yet returned from the swap()** function to `main(`), we can use the `print` command to display the contents of the local variables\n",
    "\n",
    "![gdb-np](./img/gdb-np.jpg)\n",
    "\n",
    "Now `*p1` has the value `20`, and `*p2` has the value `10`, which **seems** correct. \n",
    "\n",
    "We can continue the examination of the program state with two more **print** commands\n",
    "\n",
    "![gdb-npp](./img/gdb-npp.jpg)\n",
    "\n",
    "As these `print` commands show, the values of the **pointers** `p1` and `p2` have been swapped — not the **contents** of the memory locations referenced as `*p1` and `*p2`. \n",
    "\n",
    "\n",
    "![gdb-s](./img/gdb-s.jpg)\n",
    "\n",
    "That was the bug in **swap()**\n",
    "\n",
    "The function needs to be amended so that it exchanges the int **values** addressed as `*p1` and `*p2`, rather than the **pointer values** stored in `p1` and `p2`. \n",
    "\n",
    "A correct version would be the following:\n",
    "```c\n",
    "void swap( int *p1, int *p2 ) // Exchange *p1 and *p2\n",
    "{\n",
    "    int tmp = *p1;\n",
    "    *p1 = *p2;\n",
    "    *p2 = tmp;\n",
    "}\n",
    "```\n",
    "### continue\n",
    "\n",
    "The command `continue`, abbreviated `c`, lets program execution continue until it reaches the next breakpoint or the end of the program:\n",
    "\n",
    "![gdb-c](./img/gdb-c.jpg)\n",
    "\n",
    "### quit\n",
    "\n",
    "As the `(gdb)` prompt indicates, the debugger is still **running**. To stop it, enter the command `quit` or `q`. \n",
    "\n",
    "![gdb-q](./img/gdb-q.jpg)\n",
    "\n",
    "The `quit` command terminates the debugger even if the program you are debugging is still running. However, GDB does prompt you for confirmation in this case:"
   ]
  },
  {
   "cell_type": "code",
   "execution_count": 2,
   "metadata": {},
   "outputs": [
    {
     "name": "stdout",
     "output_type": "stream",
     "text": [
      "Overwriting ./demo/src/gdb_example_correct.c\n"
     ]
    }
   ],
   "source": [
    "%%file ./demo/src/gdb_example_correct.c\n",
    "// -------------------------------------------------------------\n",
    "// A program to be debugged in a GDB session\n",
    "//     gdb_example.c:\n",
    "// Test the swap() function, which exchanges the contents of two int variables.\n",
    "// -------------------------------------------------------------\n",
    "\n",
    "#include <stdio.h>\n",
    "void swap( int *p1, int *p2 ); // Exchange *p1 and *p2\n",
    "\n",
    "int main()\n",
    "{\n",
    "    int a = 10, b = 20;\n",
    "    /* ... */\n",
    "    printf( \"The old values: a = %d; b = %d.\\n\", a, b );\n",
    "    swap( &a, &b );\n",
    "    printf( \"The new values: a = %d; b = %d.\\n\", a, b );\n",
    "    /* ... */\n",
    "    return 0;\n",
    "}\n",
    "\n",
    "void swap(int *p1, int *p2) // Exchange *p1 and *p2\n",
    "{\n",
    "    //int *p = p1;\n",
    "    //p1 = p2;\n",
    "   //p2 = p;\n",
    "    \n",
    "    int tmp = *p1;\n",
    "    *p1 = *p2;\n",
    "    *p2 = tmp;\n",
    "}"
   ]
  },
  {
   "cell_type": "code",
   "execution_count": 4,
   "metadata": {},
   "outputs": [],
   "source": [
    "!gcc ./demo/src/gdb_example_correct.c"
   ]
  },
  {
   "cell_type": "code",
   "execution_count": 6,
   "metadata": {},
   "outputs": [
    {
     "name": "stdout",
     "output_type": "stream",
     "text": [
      " 驱动器 F 中的卷是 cmh\n",
      " 卷的序列号是 9C25-3306\n",
      "\n",
      " F:\\SEU\\SEE\\PySEE\\home\\notebook 的目录\n",
      "\n",
      "2019/05/16  20:37            54,064 a.exe\n",
      "               1 个文件         54,064 字节\n",
      "               0 个目录 103,348,776,960 可用字节\n"
     ]
    }
   ],
   "source": [
    "!dir a.*"
   ]
  },
  {
   "cell_type": "code",
   "execution_count": 8,
   "metadata": {},
   "outputs": [
    {
     "name": "stdout",
     "output_type": "stream",
     "text": [
      "The old values: a = 10; b = 20.\n",
      "The new values: a = 20; b = 10.\n"
     ]
    }
   ],
   "source": [
    "!.\\a.exe"
   ]
  },
  {
   "cell_type": "markdown",
   "metadata": {},
   "source": [
    "## Reference \n",
    "\n",
    "Peter Prinz,Tony Crawford: C in a Nutshell(Second Edition),O’Reilly Media, Inc. 2016\n",
    "\n",
    "\n",
    "Brian J. Gough. [An Introduction to GCC -  for the GNU Compilers gcc and g++](http://www.network-theory.co.uk/gcc/intro/)\n",
    "\n",
    "* 5 Compiling for debugging\n",
    "\n",
    "\n",
    "[GDB: The GNU Project Debugger](https://www.gnu.org/software/gdb/documentation/)"
   ]
  },
  {
   "cell_type": "code",
   "execution_count": null,
   "metadata": {},
   "outputs": [],
   "source": []
  }
 ],
 "metadata": {
  "kernelspec": {
   "display_name": "Python 3",
   "language": "python",
   "name": "python3"
  },
  "language_info": {
   "codemirror_mode": {
    "name": "ipython",
    "version": 3
   },
   "file_extension": ".py",
   "mimetype": "text/x-python",
   "name": "python",
   "nbconvert_exporter": "python",
   "pygments_lexer": "ipython3",
   "version": "3.7.2"
  },
  "toc": {
   "base_numbering": 1,
   "nav_menu": {},
   "number_sections": false,
   "sideBar": true,
   "skip_h1_title": false,
   "title_cell": "Table of Contents",
   "title_sidebar": "Contents",
   "toc_cell": false,
   "toc_position": {},
   "toc_section_display": true,
   "toc_window_display": true
  }
 },
 "nbformat": 4,
 "nbformat_minor": 2
}
