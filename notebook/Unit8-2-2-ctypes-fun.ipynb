{
 "cells": [
  {
   "cell_type": "markdown",
   "metadata": {},
   "source": [
    "# ctypes: C library call python function \n",
    "\n",
    "\n",
    "* Change the current working directory into `./demo`"
   ]
  },
  {
   "cell_type": "code",
   "execution_count": 1,
   "metadata": {},
   "outputs": [
    {
     "name": "stdout",
     "output_type": "stream",
     "text": [
      "F:\\SEU\\SEE\\PySEE\\home\\notebook\\demo\n"
     ]
    }
   ],
   "source": [
    "%cd demo"
   ]
  },
  {
   "cell_type": "code",
   "execution_count": null,
   "metadata": {},
   "outputs": [],
   "source": [
    "%pwd"
   ]
  },
  {
   "cell_type": "markdown",
   "metadata": {},
   "source": [
    "## 1 Bisection Methon Shared Library in C\n",
    "\n",
    "* using `__cdecl`calling convention\n",
    "\n"
   ]
  },
  {
   "cell_type": "code",
   "execution_count": 2,
   "metadata": {},
   "outputs": [
    {
     "name": "stdout",
     "output_type": "stream",
     "text": [
      "Overwriting ./include/ourmath.h\n"
     ]
    }
   ],
   "source": [
    "%%file ./include/ourmath.h\n",
    "#include <math.h>\n",
    "// function definition\n",
    "typedef double (*Fun)(double x);\n",
    "\n",
    "double sign(double, double);\n",
    "void bisect(Fun f, double, double, double, double *, int *);"
   ]
  },
  {
   "cell_type": "code",
   "execution_count": 3,
   "metadata": {},
   "outputs": [
    {
     "name": "stdout",
     "output_type": "stream",
     "text": [
      "Overwriting ./src/ourmath.c\n"
     ]
    }
   ],
   "source": [
    "%%file ./src/ourmath.c\n",
    "/*\n",
    "  Numerical Recipes http://numerical.recipes\n",
    "*/ \n",
    "#include <math.h>\n",
    "#include \"ourmath.h\"\n",
    "\n",
    "double sign(double a, double b)\n",
    "{\n",
    "\tif (b < 0.0)\n",
    "\t\treturn (-fabs(a));\n",
    "\telse\n",
    "\t\treturn (fabs(a));\n",
    "}\n",
    "\n",
    "void bisect(Fun f, double a, double b, double eps, double *root, int *ier)\n",
    "{\n",
    "\t/*\n",
    "\tThe program uses the bisection method to solve \tthe equation\n",
    "\t\tf(x) = 0.\n",
    "\tThe solution is to be in [a,b] and it is assumed \tthat\n",
    "\t\tf(a)*f(b) <= 0.\n",
    "\tThe solution is returned in root, and it is to\tbe in error by at most eps.\n",
    "\t\n",
    "\tier is an error indicator.\n",
    "\t  If ier=0 on completion of the routine, then the \tsolution has been computed satisfactorily.\n",
    "\t  If ier=1, then f(a)*f(b) was greater than 0, contrary to assumption.\n",
    "*/\n",
    "\n",
    "\tconst double zero = 0.0, one = 1.0, two = 2.0;\n",
    "\tdouble c, fa, fb, fc, sfa, sfb, sfc;\n",
    "\n",
    "\t// Initialize\n",
    "\tfa = (*f)(a);\n",
    "\tfb = (*f)(b);\n",
    "\tsfa = sign(one, fa);\n",
    "\tsfb = sign(one, fb);\n",
    "\tif (sfa * sfb > 0.0)\n",
    "\t{\n",
    "\t\t// The choice of a and b is in error\n",
    "\t\t*ier = 1;\n",
    "\t\treturn;\n",
    "\t}\n",
    "\n",
    "\t// Create a new value of c, the midpoint of [a,b]\n",
    "\twhile (1)\n",
    "\t{\n",
    "\t\tc = (a + b) / two;\n",
    "\t\tif (fabs(b - c) <= eps)\n",
    "\t\t{\n",
    "\t\t\t// c is an acceptable solution of f(x)=0\n",
    "\t\t\t*root = c;\n",
    "\t\t\t*ier = 0;\n",
    "\t\t\treturn;\n",
    "\t\t}\n",
    "\t\t/* The value of c was not sufficiently accurate. \n",
    "\t\t\tBegin a new iteration  */\n",
    "\t\tfc = (*f)(c);\n",
    "\t\tif (fc == zero)\n",
    "\t\t{\n",
    "\t\t\t// c is an acceptable solution of f(x)=0\n",
    "\t\t\t*root = c;\n",
    "\t\t\t*ier = 0;\n",
    "\t\t\treturn;\n",
    "\t\t}\n",
    "\t\tsfc = sign(one, fc);\n",
    "\t\tif (sfb * sfc > zero)\n",
    "\t\t{\n",
    "\t\t\t//  The solution is in [a,c]\n",
    "\t\t\tb = c;\n",
    "\t\t\tsfb = sfc;\n",
    "\t\t}\n",
    "\t\telse\n",
    "\t\t{\n",
    "\t\t\t//  The solution is in [c,b]\n",
    "\t\t\ta = c;\n",
    "\t\t\tsfa = sfc;\n",
    "\t\t}\n",
    "\t}\n",
    "}"
   ]
  },
  {
   "cell_type": "code",
   "execution_count": 4,
   "metadata": {},
   "outputs": [],
   "source": [
    "!gcc -c -O3 -Wall -fPIC -o ./obj/ourmath.o  ./src/ourmath.c -I./include\n",
    "!gcc -shared -o ./bin/libourmath.dll  ./obj/ourmath.o"
   ]
  },
  {
   "cell_type": "markdown",
   "metadata": {},
   "source": [
    "## 2 Caller in C"
   ]
  },
  {
   "cell_type": "code",
   "execution_count": 5,
   "metadata": {},
   "outputs": [
    {
     "name": "stdout",
     "output_type": "stream",
     "text": [
      "Overwriting ./src/bisectApp.c\n"
     ]
    }
   ],
   "source": [
    "%%file ./src/bisectApp.c\n",
    "\n",
    "#include <stdio.h>\n",
    "#include <string.h>\n",
    "#include <stdlib.h>\n",
    "#include \"ourmath.h\"\n",
    "\n",
    "double fcn(double x)\n",
    "{\n",
    "\tdouble result;\n",
    "\tresult = x * x - 4;\n",
    "\treturn (result);\n",
    "}\n",
    "\n",
    "int main()\n",
    "{\n",
    "\tdouble xl, xr, epsilon, root;\n",
    "\tint ier;\n",
    "\txl = 0.1;\n",
    "\txr = 3.2;\n",
    "\tepsilon = 0.001;\n",
    "\t// Calculate root\n",
    "\tbisect(fcn, xl, xr, epsilon, &root, &ier);\n",
    "\t// Print answers\n",
    "\tprintf(\"root = %14.7e  ier = %1d\", root, ier);\n",
    "\treturn 0;\n",
    "}"
   ]
  },
  {
   "cell_type": "code",
   "execution_count": 6,
   "metadata": {},
   "outputs": [],
   "source": [
    "!gcc -o  ./bin/bisectApp ./src/bisectApp.c -L./bin/ -lourmath -I./include"
   ]
  },
  {
   "cell_type": "code",
   "execution_count": 7,
   "metadata": {},
   "outputs": [
    {
     "name": "stdout",
     "output_type": "stream",
     "text": [
      "root = 2.0004150e+000  ier = 0\n"
     ]
    }
   ],
   "source": [
    "!.\\bin\\bisectApp "
   ]
  },
  {
   "cell_type": "markdown",
   "metadata": {},
   "source": [
    "## 3 Python API \n",
    "\n",
    "There are several ways to load shared libraries into the Python process. \n",
    "\n",
    "**One way is to instantiate one of the following classes:**\n",
    "\n",
    "**CDLL**\n",
    "\n",
    "* Instances of this class represent loaded shared libraries. Functions in these libraries use the standard `C calling convention`, and are assumed to return int.\n",
    "  \n",
    "**WinDLL**\n",
    "\n",
    "* Windows only: Instances of this class represent loaded shared libraries, functions in these libraries use the `stdcall calling convention`, and are assumed to return int by default"
   ]
  },
  {
   "cell_type": "code",
   "execution_count": 8,
   "metadata": {},
   "outputs": [],
   "source": [
    "from ctypes import * \n",
    "\n",
    "api = CDLL('.\\\\bin\\\\libourmath.dll')\n",
    "Fun = CFUNCTYPE(c_double, c_double)\n",
    "\n",
    "bisect = api.bisect\n",
    "bisect.argtypes = [Fun, c_double,c_double,c_double,POINTER(c_double),POINTER(c_int)]\n",
    "bisect.restype = c_void_p\n",
    "\n",
    "def findroot(fn,xl,xr,eps): \n",
    "    root=c_double()\n",
    "    ier=c_int()\n",
    "    bisect(fn,xl,xr,eps,byref(root),byref(ier))\n",
    "    \n",
    "    return root,ier"
   ]
  },
  {
   "cell_type": "code",
   "execution_count": 11,
   "metadata": {},
   "outputs": [
    {
     "name": "stdout",
     "output_type": "stream",
     "text": [
      "1.99990234375 0\n"
     ]
    }
   ],
   "source": [
    "def fn(x):        \n",
    "    return x**2-4\n",
    "\n",
    "_fn = Fun(fn)\n",
    "xl = c_double(0.2) \n",
    "xr = c_double(3)\n",
    "eps=0.001\n",
    "\n",
    "rt,ier=findroot(_fn,xl,xr,eps)\n",
    "print(rt.value,ier.value)"
   ]
  },
  {
   "cell_type": "markdown",
   "metadata": {},
   "source": [
    "##  Reference\n",
    "\n",
    "* [Numerical Recipes](http://numerical.recipes)\n",
    "\n",
    "* [GSL - GNU Scientific Library](https://www.gnu.org/software/gsl/)\n",
    "\n",
    "* [Intel Math Kernel Library](https://software.intel.com/en-us/mkl)"
   ]
  },
  {
   "cell_type": "code",
   "execution_count": null,
   "metadata": {},
   "outputs": [],
   "source": []
  }
 ],
 "metadata": {
  "kernelspec": {
   "display_name": "Python 3.8.0 64-bit",
   "language": "python",
   "name": "python38064bit5570982c25a64c48a6a4b0fe352ce77d"
  },
  "language_info": {
   "codemirror_mode": {
    "name": "ipython",
    "version": 3
   },
   "file_extension": ".py",
   "mimetype": "text/x-python",
   "name": "python",
   "nbconvert_exporter": "python",
   "pygments_lexer": "ipython3",
   "version": "3.8.0"
  },
  "toc": {
   "base_numbering": 1,
   "nav_menu": {},
   "number_sections": false,
   "sideBar": true,
   "skip_h1_title": false,
   "title_cell": "Table of Contents",
   "title_sidebar": "Contents",
   "toc_cell": false,
   "toc_position": {
    "height": "calc(100% - 180px)",
    "left": "10px",
    "top": "150px",
    "width": "165px"
   },
   "toc_section_display": true,
   "toc_window_display": true
  }
 },
 "nbformat": 4,
 "nbformat_minor": 4
}
