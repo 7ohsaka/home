{
 "cells": [
  {
   "cell_type": "markdown",
   "metadata": {},
   "source": [
    "# Polynomial Regression Library with Python \n",
    "\n",
    "* Change the current working directory into `./demo`"
   ]
  },
  {
   "cell_type": "code",
   "execution_count": 2,
   "metadata": {},
   "outputs": [
    {
     "name": "stdout",
     "output_type": "stream",
     "text": [
      "F:\\SEU\\SEE\\PySEE\\home\\notebook\\demo\n"
     ]
    }
   ],
   "source": [
    "%cd demo"
   ]
  },
  {
   "cell_type": "code",
   "execution_count": null,
   "metadata": {},
   "outputs": [],
   "source": [
    "%pwd"
   ]
  },
  {
   "cell_type": "markdown",
   "metadata": {},
   "source": [
    "## 3 Polynomial Regression Library \n",
    "\n",
    "**Polynomial Regression** \n",
    "\n",
    "https://en.wikipedia.org/wiki/Polynomial_regression\n",
    "    \n",
    "### 3.1   Polynomial regression：Matrix form and calculation of estimates\n",
    "\n",
    "#### 3.1.1 The polynomial regression model\n",
    "\n",
    "$${\\displaystyle y_{i}\\,=\\,\\beta _{0}+\\beta _{1}x_{i}+\\beta _{2}x_{i}^{2}+\\cdots +\\beta _{m}x_{i}^{m}+\\varepsilon _{i}\\ (i=1,2,\\dots ,n)}$$\n",
    "\n",
    "can be expressed in matrix form in terms of a design matrix ${\\displaystyle \\mathbf {X}}$ , a response vector ${\\displaystyle ${\\vec {y}}}$, a parameter vector ${\\displaystyle {\\vec {\\beta }}}$, and a vector ${\\displaystyle {\\vec {\\varepsilon }}}$ of random errors. \n",
    "\n",
    "The i-th row of ${\\displaystyle \\mathbf {X} }$  and ${\\displaystyle {\\vec {y}}}$ will contain the x and y value for the $i$-th data sample. Then the model can be written as a system of linear equations:\n",
    "\n",
    "$${\\displaystyle {\\begin{bmatrix}y_{1}\\\\y_{2}\\\\y_{3}\\\\\\vdots \\\\y_{n}\\end{bmatrix}}={\\begin{bmatrix}1&x_{1}&x_{1}^{2}&\\dots &x_{1}^{m}\\\\1&x_{2}&x_{2}^{2}&\\dots &x_{2}^{m}\\\\1&x_{3}&x_{3}^{2}&\\dots &x_{3}^{m}\\\\\\vdots &\\vdots &\\vdots &\\ddots &\\vdots \\\\1&x_{n}&x_{n}^{2}&\\dots &x_{n}^{m}\\end{bmatrix}}{\\begin{bmatrix}\\beta _{0}\\\\\\beta _{1}\\\\\\beta _{2}\\\\\\vdots \\\\\\beta _{m}\\end{bmatrix}}+{\\begin{bmatrix}\\varepsilon _{1}\\\\\\varepsilon _{2}\\\\\\varepsilon _{3}\\\\\\vdots \\\\\\varepsilon _{n}\\end{bmatrix}},}$$\n",
    "\n",
    "which when using pure matrix notation is written as\n",
    "$${\\displaystyle {\\vec {y}}=\\mathbf {X} {\\vec {\\beta }}+{\\vec {\\varepsilon }}.\\,}$$\n",
    "\n",
    "The vector of estimated polynomial regression coefficients (using [ordinary least squares estimation](https://en.wikipedia.org/wiki/Estimation)) is\n",
    "\n",
    "$${\\displaystyle {\\widehat {\\vec {\\beta }}}=(\\mathbf {X} ^{\\mathsf {T}}\\mathbf {X} )^{-1}\\;\\mathbf {X} ^{\\mathsf {T}}{\\vec {y}},\\,}$$\n",
    "\n",
    "assuming $m < n$ which is required for the matrix to be invertible; then since ${\\displaystyle \\mathbf {X} }$  is a [Vandermonde matrix](https://en.wikipedia.org/wiki/Vandermonde_matrix), the invertibility condition is guaranteed to hold if all the ${\\displaystyle x_{i}}$ values are distinct. This is the unique **least-squares solution**.\n",
    "\n",
    "#### 3.1.2 Least-squares solution\n",
    " \n",
    "The model function has the form ${\\displaystyle f(x,\\beta )}f(x,\\beta )$, where $m$ adjustable parameters are held in the vector ${\\boldsymbol {\\beta }}$. \n",
    "\n",
    "The goal is to find the parameter values for the model that \"best\" fits the data. The fit of a model to a data point is measured by its residual, defined as the difference between the actual value of the dependent variable and the value predicted by the model:\n",
    "\n",
    "$$r_{i}=y_{i}-f(x_{i},{\\boldsymbol  \\beta })$$\n",
    "\n",
    "The least-squares method finds the optimal parameter values by **minimizing** the sum, ${\\displaystyle S}$ of squared residuals:\n",
    "\n",
    "$${\\displaystyle S=\\sum _{i=1}^{n}{r_{i}}^{2}}$$\n",
    "\n",
    "**Reference** \n",
    "\n",
    "* 周建华，陈建龙，张小向编：《几何于代数》 科学出版社，2012\n",
    "  \n",
    "  * 4.6 线性方程组的最小二乘解 "
   ]
  },
  {
   "cell_type": "markdown",
   "metadata": {},
   "source": [
    "\n",
    "### 3.2 The shared library\n",
    "\n",
    "#### 3.2.1 The C code\n"
   ]
  },
  {
   "cell_type": "code",
   "execution_count": 3,
   "metadata": {},
   "outputs": [
    {
     "name": "stdout",
     "output_type": "stream",
     "text": [
      "Overwriting ./include/curvefit.h\n"
     ]
    }
   ],
   "source": [
    "%%file ./include/curvefit.h\n",
    "#ifndef CURVEFIT_H\n",
    "#define CURVEFIT_H\n",
    "\n",
    "#ifdef __cplusplus\n",
    "extern \"C\"\n",
    "{\n",
    "#endif\n",
    " \n",
    "void c_polyfit(double x[], double y[], int size, int n, double a[]);\n",
    "\n",
    "#ifdef __cplusplus\n",
    "} // extern \"C\"\n",
    "#endif\n",
    "\n",
    "#endif /* !CURVEFIT_H */\n"
   ]
  },
  {
   "cell_type": "markdown",
   "metadata": {},
   "source": [
    "> **extern \"C\"**\n",
    ">\n",
    ">If we need to use some `C library` in `C++`\n",
    ">\n",
    ">* `extern \"C\"` specifies that the function is defined elsewhere and uses the `C-language calling convention`. \n",
    ">\n",
    ">* The `extern \"C\"` modifier may also be applied to multiple function declarations in a block.\n"
   ]
  },
  {
   "cell_type": "markdown",
   "metadata": {},
   "source": [
    "## Using Gauss lib\n",
    "\n",
    "### C"
   ]
  },
  {
   "cell_type": "code",
   "execution_count": 15,
   "metadata": {},
   "outputs": [
    {
     "name": "stdout",
     "output_type": "stream",
     "text": [
      "Overwriting ./src/curvefit.c\n"
     ]
    }
   ],
   "source": [
    "%%file ./src/curvefit.c\n",
    "/*\n",
    "   x[size], y[size]\n",
    "   n is the degree of Polynomial \n",
    "   a[n+1] is the polynomial regression coefficients (\n",
    "*/\n",
    "\n",
    "#include <math.h>\n",
    "#include<stdlib.h> \n",
    "#include \"curvefit.h\"\n",
    "#include \"eqlinear.h\"\n",
    "\n",
    "void c_polyfit(double x[], double y[], int size, int n, double a[])\n",
    "{\n",
    "    int i, j;\n",
    "    double X[2 * n + 1]; //Array that will store the values of sigma(xi),sigma(xi^2),....sigma(xi^2n)\n",
    "    double **B;\n",
    "    B=(double**)malloc(sizeof(double)*(n+1)); \n",
    "    for(i=0;i<(n+1);i++)  \n",
    "        B[i]=(double*)malloc(sizeof(double)*(n+2));\n",
    "    double Y[n+1];  // Array to store the values of sigma(yi),sigma(xi*yi),sigma(xi^2*yi)...sigma(xi^n*yi)\n",
    "  \n",
    "    for (i = 0; i < 2 * n + 1; i++)\n",
    "    {\n",
    "        X[i] = 0;\n",
    "        for (j = 0; j < size; j++)\n",
    "            X[i] = X[i] + pow(x[j], i); //consecutive positions of the array will store N,sigma(xi),sigma(xi^2),....sigma(xi^2n)\n",
    "    }\n",
    "   \n",
    "     \n",
    "    for (i = 0; i <= n; i++)\n",
    "        for (j = 0; j <= n; j++)\n",
    "            B[i][j] = X[i + j]; // Build the Normal matrix by storing the corresponding coefficients at the right positions except the last column of the matrix\n",
    "     \n",
    "    for (i = 0; i < n+1; i++)\n",
    "    {\n",
    "        Y[i] = 0;\n",
    "        for (j = 0; j < size; j++)\n",
    "           Y[i] = Y[i] + pow(x[j], i) * y[j]; //consecutive positions will store sigma(yi),sigma(xi*yi),sigma(xi^2*yi)...sigma(xi^n*yi)\n",
    "   }\n",
    "   for (i = 0; i <= n; i++)\n",
    "        B[i][n + 1] = Y[i]; // load the values of Y as the last column of B(Normal Matrix but augmented)\n",
    "   \n",
    " \n",
    "   gauss_am_pivoting(n+1,B,a);\n",
    "    \n",
    "   for(i=0;i<(n+1);i++)  \n",
    "       free(B[i]);\n",
    "   free(B); \n",
    "    \n",
    "}"
   ]
  },
  {
   "cell_type": "markdown",
   "metadata": {},
   "source": [
    "### makefile-"
   ]
  },
  {
   "cell_type": "code",
   "execution_count": 5,
   "metadata": {},
   "outputs": [
    {
     "name": "stdout",
     "output_type": "stream",
     "text": [
      "Overwriting ./makefile-libcurvefit.mk\n"
     ]
    }
   ],
   "source": [
    "%%file ./makefile-libcurvefit.mk\n",
    "CC=gcc\n",
    "CFLAGS=-O3 -Wall -fPIC\n",
    "\n",
    "SRCDIR= ./src/\n",
    "OBJDIR= ./obj/\n",
    "BINDIR= ./bin/\n",
    "INCDIR= ./include/\n",
    "\n",
    "# Linux\n",
    "# LIB=libcurvefit.so \n",
    "LIB=libcurvefit.dll\n",
    "\n",
    "SRCS=$(SRCDIR)curvefit.c  \n",
    "\n",
    "# non-path filename\n",
    "filename=$(notdir $(SRCS))\n",
    "\n",
    "# the obj target of a source code using the pattern rule\n",
    "OBJS=$(patsubst %.c,$(OBJDIR)%.o,$(filename))\n",
    "\n",
    "all:$(LIB)\n",
    "    \n",
    "$(LIB): $(OBJS)  \n",
    "\t$(CC) -shared -o $(BINDIR)$@ $(OBJS) -L./bin/ -leqlin\n",
    "\n",
    "# the pattern rule: one step rule for multiple source files\n",
    "$(OBJS):$(SRCS)\n",
    "\t$(CC) $(CFLAGS) -o $(OBJDIR)$(notdir $@) -c $(patsubst  %.o,$(SRCDIR)%.c,$(notdir $@))  -I$(INCDIR) "
   ]
  },
  {
   "cell_type": "code",
   "execution_count": 6,
   "metadata": {},
   "outputs": [
    {
     "name": "stdout",
     "output_type": "stream",
     "text": [
      "gcc -O3 -Wall -fPIC -o ./obj/curvefit.o -c ./src/curvefit.c  -I./include/ \n",
      "gcc -shared -o ./bin/libcurvefit.dll ./obj/curvefit.o -L./bin/ -leqlin\n"
     ]
    }
   ],
   "source": [
    "!make -f makefile-libcurvefit.mk"
   ]
  },
  {
   "cell_type": "markdown",
   "metadata": {},
   "source": [
    "##  Call Library in C"
   ]
  },
  {
   "cell_type": "code",
   "execution_count": 7,
   "metadata": {},
   "outputs": [
    {
     "name": "stdout",
     "output_type": "stream",
     "text": [
      "Overwriting ./data/springData.csv\n"
     ]
    }
   ],
   "source": [
    "%%file ./data/springData.csv\n",
    "Distance(m),Mass(kg)\n",
    "0.0865,0.1\n",
    "0.1015,0.15\n",
    "0.1106,0.2\n",
    "0.1279,0.25\n",
    "0.1892,0.3\n",
    "0.2695,0.35\n",
    "0.2888,0.4\n",
    "0.2425,0.45\n",
    "0.3465,0.5\n",
    "0.3225,0.55\n",
    "0.3764,0.6\n",
    "0.4263,0.65\n",
    "0.4562,0.7\n",
    "0.4502,0.75\n",
    "0.4499,0.8\n",
    "0.4534,0.85\n",
    "0.4416,0.9\n",
    "0.4304,0.95\n",
    "0.437,1.0"
   ]
  },
  {
   "cell_type": "markdown",
   "metadata": {},
   "source": [
    "#####  strtok_r()\n",
    "\n",
    "C provides the functions `strtok_r()` for splitting a string by some delimiter\n",
    "\n",
    "```c\n",
    "char *strtok_r(char *str, const char *delim, char **saveptr);\n",
    "```\n",
    "\n",
    "*  The third argument `saveptr` is a pointer to a `char *` variable that is used internally by `strtok_r()` in  order to maintain context between `successive calls`\n",
    "\n",
    "* On the `first` call to `strtok_r()`, `str` should point to `the string to be parsed`, and the value of `saveptr` is ignored.\n",
    "\n",
    "* In `subsequent calls`, `str` should be `NULL`, and `saveptr` should be unchanged since the previous call.\n"
   ]
  },
  {
   "cell_type": "code",
   "execution_count": 14,
   "metadata": {},
   "outputs": [
    {
     "name": "stdout",
     "output_type": "stream",
     "text": [
      "Overwriting ./src/DemoPolyFit.c\n"
     ]
    }
   ],
   "source": [
    "%%file ./src/DemoPolyFit.c\n",
    "/*\n",
    "   The Demo of Simple PolyFit \n",
    "*/\n",
    "\n",
    "#include <stdio.h>\n",
    "#include <string.h>\n",
    "#include <stdlib.h>\n",
    "#include \"curvefit.h\"\n",
    "\n",
    "\n",
    "int main()\n",
    "{\n",
    "\n",
    "   int size = 19;\n",
    "   double distances[size];\n",
    "   double forces[size];\n",
    "\n",
    "   FILE *fp = fopen(\"./data/springData.csv\", \"r\");\n",
    "   if (fp == NULL)\n",
    "   {\n",
    "      fprintf(stderr, \"failed to open file for reading\\n\");\n",
    "      return 1;\n",
    "   }\n",
    "\n",
    "   char line[1024];\n",
    "   fgets(line, sizeof(line), fp);\n",
    "   int i = 0;\n",
    "   while (fgets(line, sizeof(line), fp))\n",
    "   {\n",
    "      char *save_ptr;\n",
    "      // The first call to strtok_r(), str point to the string to be parsed line\n",
    "      char *d = strtok_r(line, \",\", &save_ptr);\n",
    "      // In subsequent calls, str is NULL, and saveptr is unchanged since the previous call.\n",
    "      char *m = strtok_r(NULL, \",\", &save_ptr);\n",
    "      distances[i] = atof(d);\n",
    "      forces[i] = atof(m) * 9.81;\n",
    "      i++;\n",
    "   };\n",
    "   fclose(fp);\n",
    "\n",
    "   int n = 1; // n is the degree of Polynomial\n",
    "   double a[n + 1];\n",
    "   c_polyfit(forces, distances, size - 6, n, a);\n",
    "   printf(\" PolynomialFit: k = %.6f \", 1/a[1]);\n",
    "   return 0;\n",
    "}"
   ]
  },
  {
   "cell_type": "markdown",
   "metadata": {},
   "source": [
    "**Windows**"
   ]
  },
  {
   "cell_type": "code",
   "execution_count": 16,
   "metadata": {},
   "outputs": [],
   "source": [
    "!gcc -o  ./bin/DemoPolyFit ./src/DemoPolyFit.c -L./bin/ -lcurvefit -I./include"
   ]
  },
  {
   "cell_type": "code",
   "execution_count": 17,
   "metadata": {},
   "outputs": [
    {
     "name": "stdout",
     "output_type": "stream",
     "text": [
      " PolynomialFit: k = 15.453365 \n"
     ]
    }
   ],
   "source": [
    "!.\\bin\\DemoPolyFit"
   ]
  },
  {
   "cell_type": "markdown",
   "metadata": {},
   "source": [
    "#### 3.2.4 Call in Python\n",
    "\n",
    "[UNDERSTANDING_EXPERIMENTAL_DATA:The Behavior of Springs](Unit2-3-UNDERSTANDING_EXPERIMENTAL_DATA.ipynb)"
   ]
  },
  {
   "cell_type": "code",
   "execution_count": 25,
   "metadata": {},
   "outputs": [
    {
     "name": "stdout",
     "output_type": "stream",
     "text": [
      "Linear Fit:\n",
      "\tPolynomialFit:k = 15.453365184877422\n",
      "\tnp.polyfit: k = 15.453365184877441\n"
     ]
    }
   ],
   "source": [
    "import numpy as np\n",
    "from ctypes import *\n",
    "\n",
    "\n",
    "def getData(fileName):\n",
    "    dataFile = open(fileName, 'r')\n",
    "    distances = []\n",
    "    forces = []\n",
    "    discardHeader = dataFile.readline() # Distance(m),Mass(kg)\n",
    "    for line in dataFile:\n",
    "        d, m = line.split(',')\n",
    "        distances.append(float(d))\n",
    "        forces.append(float(m)*9.81) # m*9.81 -> force\n",
    "    dataFile.close()\n",
    "    return (forces, distances)\n",
    "\n",
    "inputFile='./data/springData.csv'\n",
    "forces, distances = getData(inputFile)\n",
    "\n",
    "forces=forces[:-6]\n",
    "distances=distances[:-6]\n",
    "\n",
    "# call the PolynomialFit Library by ctypes\n",
    "flib=cdll.LoadLibrary(\"./bin/libcurvefit.dll\")\n",
    "\n",
    "size=len(forces)\n",
    "y=(c_double*size)(*distances)\n",
    "x=(c_double*size)(*forces)\n",
    "n=1\n",
    "c=(c_double*(n+1))()\n",
    "\n",
    "flib.c_polyfit(byref(x), byref(y), size, n, byref(c));\n",
    "\n",
    "print(\"Linear Fit:\")\n",
    "print(\"\\tPolynomialFit:k =\",1/c[1]);\n",
    "# np.polyfit\n",
    "a,b= np.polyfit(forces,distances, 1)    \n",
    "print(\"\\tnp.polyfit: k =\",1/a);\n"
   ]
  },
  {
   "cell_type": "markdown",
   "metadata": {},
   "source": [
    "## Reference\n",
    "\n",
    "Python ctypes http://docs.python.org/3/library/ctypes.html\n",
    "\n"
   ]
  },
  {
   "cell_type": "code",
   "execution_count": null,
   "metadata": {},
   "outputs": [],
   "source": []
  }
 ],
 "metadata": {
  "kernelspec": {
   "display_name": "Python 3",
   "language": "python",
   "name": "python3"
  },
  "language_info": {
   "codemirror_mode": {
    "name": "ipython",
    "version": 3
   },
   "file_extension": ".py",
   "mimetype": "text/x-python",
   "name": "python",
   "nbconvert_exporter": "python",
   "pygments_lexer": "ipython3",
   "version": "3.8.0"
  },
  "toc": {
   "base_numbering": 1,
   "nav_menu": {},
   "number_sections": false,
   "sideBar": true,
   "skip_h1_title": false,
   "title_cell": "Table of Contents",
   "title_sidebar": "Contents",
   "toc_cell": false,
   "toc_position": {
    "height": "calc(100% - 180px)",
    "left": "10px",
    "top": "150px",
    "width": "203.395px"
   },
   "toc_section_display": true,
   "toc_window_display": true
  },
  "widgets": {
   "state": {},
   "version": "1.1.2"
  }
 },
 "nbformat": 4,
 "nbformat_minor": 1
}
