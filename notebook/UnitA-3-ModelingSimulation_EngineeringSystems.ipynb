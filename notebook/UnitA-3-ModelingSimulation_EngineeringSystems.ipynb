{
 "cells": [
  {
   "cell_type": "markdown",
   "metadata": {},
   "source": [
    "# Modeling and Simulation Methods of Engineering Systems\n",
    "\n",
    "## 1 Introduction\n",
    "\n",
    "R Sinha, Christiaan J. J. Paredis. etc. Modeling and Simulation Methods for Design of Engineering Systems. Transactions of the ASME[J]. 2001.03(1):84-91\n",
    "\n",
    "Modeling and simulation enables designers to test whether design specifications are met by using virtual rather than physical\n",
    "experiments. The use of virtual prototypes significantly shortens the design cycle and reduces the cost of design. It further provides\n",
    "the designer with immediate feedback on design decisions which,in turn, promises a more comprehensive exploration of design\n",
    "alternatives and a better performing final design. Simulation is particularly important for the design of multidisciplinary systems\n",
    "in which components in different disciplines (mechanical, electrical,embedded control, etc.) are tightly coupled to achieve optimal\n",
    "system performance.\n",
    "\n",
    "Several general-purpose simulation modeling paradigms and languages have been developed. \n",
    "\n",
    "They can be classified according to the following criteria:\n",
    "\n",
    "* `graph-based versus language-based` paradigms, \n",
    "\n",
    "* `procedural versus declarative` models, \n",
    "\n",
    "* `multi-domain versus single-domain` models, \n",
    "\n",
    "* `continuous versus discrete` models, and \n",
    "\n",
    "*  `functional versus object-oriented` paradigms.\n"
   ]
  },
  {
   "cell_type": "markdown",
   "metadata": {},
   "source": [
    "## 2 Modeling and Simulation Software\n",
    "\n",
    "**MATLAB**：Simscape https://cn.mathworks.com/products/simscape.html\n",
    "\n",
    "**[Apros](http://www.apros.fi/en/)** : the commercial dynamic simulation software for modelling and simulation of various types of power plant processes, energy systems and networks including automation. Developed by **Fortum and VTT** Technical Research Centre of **Finland** Ltd since 1986.\n",
    "\n",
    "**[Aspen Plus](https://www.aspentech.com/en/products/engineering/aspen-plus):**  The software package designed to allow a user to build a process model and then simulate the model without tedious calculations. The Chemical Industry's Leading Process Simulation Software. AspenTech,USA\n",
    "\n",
    "**[Dymola](https://www.3ds.com/products-services/catia/products/dymola)**: the commercial modeling and simulation environment based on the open  **Modelica** modeling language.Developed by the **Dassault** Systèmes,**France**\n",
    "\n",
    "**[OpenModelica](https://openmodelica.org/)**: An open-source **Modelica**-based modeling and simulation environment.by  Open Source Modelica Consortium(OSMC), the OSMC is run as a project of the [SICS East Swedish ICT institute](https://www.sics.se/groups/sics-east-swedish-ict) which cooperates closely with [Linköpings University(林雪平大学)](https://liu.se/en)\n",
    "\n",
    "**[MWorks](http://www.tongyuan.cc/)**: 立足于多领域物理统一建模国际规范Modelica,形成完全自主知识产权的面向复杂机电产品开发的建模、分析、仿真、优化一体化的工程计算平台MWorks。 苏州同元软控信息技术有限公司\n",
    "\n",
    "**Electronic Circuit Simulator** \n",
    "\n",
    "**[Multisim](http://www.ni.com/zh-cn/shop/electronic-test-instrumentation/application-software-for-electronic-test-and-instrumentation-category/what-is-multisim.html)**: the industry standard **SPICE** simulation and circuit design software for analog, digital, and power electronics in education and research.National Instruments,USA\n",
    "\n",
    "* SPICE: https://en.wikipedia.org/wiki/SPICE\n",
    "\n",
    "* Jan M. Rabaey: SPICE http://bwrcs.eecs.berkeley.edu/Classes/IcBook/SPICE/\n",
    "\n",
    "**Thermal Engineering**\n",
    "\n",
    "* **Ebsilon Professional**:the simulation system for thermodynamic cycle processes that is used for plant design and optimization,STEAG SYSTEM TECHNOLOGIES,**Germany**. \n",
    "\n",
    "* **Thermoflow**: the thermal engineering software for the power and cogeneration industries,Thermoflow Inc.USA"
   ]
  },
  {
   "cell_type": "markdown",
   "metadata": {},
   "source": [
    "## 3 中兴事件\n",
    "\n",
    "2018年4月16日晚，美国商务部发布公告称，美国政府在未来7年内禁止中兴通讯向美国企业购买敏感产品。\n",
    "\n",
    "EDA(Electronics Design Automation)软件是工业软件的尖端，代表了一个国家真正的研发创新，没有EDA软件的支持，再先进的芯片也会变成硅土。\n",
    "\n",
    "电子电路设计领域里世界上三大EDA软件是Cadence、Mentor和Synopsys。这三个软件全都是美国的\n",
    "\n",
    "中国的芯片设计严重依赖西方国家开发的EDA软件."
   ]
  },
  {
   "cell_type": "markdown",
   "metadata": {},
   "source": [
    "## 4 Modelica\n",
    "\n",
    "### 4.1 The Modelica Association \n",
    "\n",
    "The Modelica Association https://www.modelica.org/\n",
    "\n",
    "The Modelica Association is a non-profit organization with members from Europe, U.S.A., Canada and Asia. Since 1996, it develops coordinated, open access standards and `open source` software in the area of `cyber physical` systems.\n",
    "\n",
    "> Modelica(法语):模型\n",
    "\n",
    "**Modelica Language** \n",
    "\n",
    "The Modelica Language is a non-proprietary, object-oriented, equation based language to conveniently **model complex physical systems** containing, e.g., mechanical, electrical, electronic, hydraulic, thermal, control, electric power or process-oriented subcomponents\n",
    "\n",
    "* Projects of the Modelica Association https://github.com/modelica\n",
    "\n",
    "* [Modelica By Example](http://modelicabyexample.globalcrown.com.cn/)\n",
    "\n",
    "###  4.2 OpenModelica\n",
    "\n",
    "https://openmodelica.org/\n",
    "\n",
    "OPENMODELICA is an open-source Modelica-based modeling and simulation environment intended for industrial and academic usage. Its long-term development is supported by a non-profit organization – the Open Source Modelica Consortium (OSMC).\n",
    "\n",
    "The goal with the OpenModelica effort is to create a comprehensive Open Source Modelica modeling, compilation and simulation environment based on free software distributed in binary and source code form for research, teaching, and industrial usage. We invite researchers and students, or any interested developer to participate in the project and cooperate around OpenModelica, tools, and applications\n",
    "\n",
    "https://github.com/OpenModelica\n",
    "\n",
    "**ThermoSysPro**\n",
    "\n",
    "https://build.openmodelica.org/Documentation/ThermoSysPro.html\n",
    "\n",
    "* Daniel Bouskela and Baligh El Hefni,France\n",
    "\n",
    "ThermoSysPro is a library for the modelling and simulation of power plants and energy systems. It is developed with the Modelica language from the Modelica Association. It provides components in various disciplines related to the modelling of power plants and energy systems.\n",
    "\n",
    "![ThermoSysPro](./img/thermosyspro.jpg)\n",
    "\n"
   ]
  },
  {
   "cell_type": "markdown",
   "metadata": {},
   "source": [
    "## 5 Jupyter OpenModelica Kernel\n",
    "\n",
    "https://github.com/OpenModelica/jupyter-openmodelica\n",
    "\n",
    "An OpenModelica Kernel for Jupyter Notebook. All commands are interpreted by OMPython which communicates with OpenModelica Compiler and the result is presented to user.\n",
    "\n",
    "This requires [Jupyter Notebook](https://jupyter.readthedocs.org/en/latest/install.html), [OpenModelica](https://openmodelica.org), and [OMPython](https://github.com/OpenModelica/OMPython) to be installed.\n",
    "\n",
    "### 5.1 Install for Windows\n",
    "\n",
    "#### 5.1.1 Install OpenModelica \n",
    "\n",
    "Download the latest [OpenModelica](https://openmodelica.org),then install\n",
    "\n",
    "#### 5.1.2 Make sure the environment variable for OpenModelica \n",
    "\n",
    "Make sure the environment variable for OpenModelica is set e.g.:\n",
    "\n",
    "`OPENMODELICAHOME=C:/OpenModelica1.13.264bit/` or similar.\n",
    "\n",
    "![OpenModelica](./img/openmodelica-variable.jpg)\n",
    "\n",
    "#### 5.1.3 Install OMPython \n",
    "\n",
    "Install the version as packaged with your OpenModelica installation by running:\n",
    "```\n",
    "cd %OPENMODELICAHOME%\\share\\omc\\scripts\\PythonInterface\n",
    "python -m pip install -U .\n",
    "```\n",
    "\n",
    "#### 5.1.4 Iinstall Jupyter OpenModelica Kernel\n",
    "\n",
    "1. clone the project\n",
    "\n",
    "2. cd jupyter-openmodelica\n",
    "\n",
    "3. python setup.py install\n",
    "\n",
    "#### 5.1.5 Using  OpenModelica Kernel\n",
    "\n",
    "To use it, run:\n",
    "```\n",
    ">jupyter notebook\n",
    "```\n",
    "In the notebook interface, select` OpenModelica` from the `New` menu"
   ]
  },
  {
   "cell_type": "markdown",
   "metadata": {},
   "source": [
    "## 5.2 An example interaction of OpenModelica \n",
    "\n",
    "The example **Planar Pendulum(平面摆)** is a mathematical model of a physical system which shows how you can write a model that contains several differential equations and one algebraic equation.\n",
    "\n",
    "Its example interaction of OpenModelica in Jupyter Notebook is presented below."
   ]
  },
  {
   "cell_type": "code",
   "execution_count": null,
   "metadata": {},
   "outputs": [],
   "source": [
    "class Pendulum \"Planar Pendulum\"\n",
    "   constant Real PI=3.141592653589793;\n",
    "   parameter Real m=1, g=9.81, L=0.5;\n",
    "   Real F;\n",
    "   output Real x(start=0.5),y(start=0);\n",
    "   output Real vx,vy;\n",
    "equation\n",
    "   m*der(vx)=-(x/L)*F;\n",
    "   m*der(vy)=-(y/L)*F-m*g;\n",
    "   der(x)=vx;\n",
    "   der(y)=vy;\n",
    "   x^2+y^2=L^2;\n",
    "end Pendulum;"
   ]
  },
  {
   "cell_type": "code",
   "execution_count": null,
   "metadata": {},
   "outputs": [],
   "source": [
    "simulate(Pendulum)"
   ]
  },
  {
   "cell_type": "code",
   "execution_count": null,
   "metadata": {},
   "outputs": [],
   "source": [
    "plot(der(x),der(y),m)"
   ]
  },
  {
   "cell_type": "code",
   "execution_count": null,
   "metadata": {},
   "outputs": [],
   "source": [
    "type GreenClass = Real(unit = \"green\");"
   ]
  },
  {
   "cell_type": "code",
   "execution_count": null,
   "metadata": {},
   "outputs": [],
   "source": [
    "type YellowClass = Real(unit = \"yellow\");"
   ]
  },
  {
   "cell_type": "code",
   "execution_count": null,
   "metadata": {},
   "outputs": [],
   "source": [
    "class C\n",
    "  replaceable GreenClass  obj1(p1=5);\n",
    "  replaceable YellowClass obj2;\n",
    "  replaceable GreenClass  obj3;\n",
    "end C;"
   ]
  },
  {
   "cell_type": "code",
   "execution_count": null,
   "metadata": {},
   "outputs": [],
   "source": [
    "class C2 = C(redeclare RedClass obj1, redeclare GreenClass obj2);"
   ]
  },
  {
   "cell_type": "code",
   "execution_count": null,
   "metadata": {},
   "outputs": [],
   "source": [
    "class C2b\n",
    "  RedClass obj1(p1=5);    //type\n",
    "  GreenClass obj2;\n",
    "  GreenClass obj3;\n",
    "end C2b;  "
   ]
  },
  {
   "cell_type": "code",
   "execution_count": null,
   "metadata": {},
   "outputs": [],
   "source": [
    "type BlueClass = Real(unit = \"blue\");"
   ]
  },
  {
   "cell_type": "code",
   "execution_count": null,
   "metadata": {},
   "outputs": [],
   "source": [
    "class C\n",
    "  replaceable class ColoredClass = GreenClass;  //type parameter\n",
    "  ColoredClass         obj1(p1 = 5);\n",
    "  replaceable YellowClass obj2;\n",
    "  ColoredClass         obj3;\n",
    "end C;"
   ]
  },
  {
   "cell_type": "code",
   "execution_count": null,
   "metadata": {},
   "outputs": [],
   "source": [
    "package SmallPack\n",
    "\n",
    "  constant Real mypi = 3.14159;\n",
    "\n",
    "  connector Pin\n",
    "    Voltage v;\n",
    "    flow Current i;\n",
    "  end Pin;\n",
    "\n",
    "  function multiply\n",
    "    input Real x;\n",
    "    input Real y = 0;\n",
    "    output Real result;\n",
    "  algorithm\n",
    "    result := x*y;\n",
    "  end multiply;\n",
    "\n",
    "end SmallPack;\n"
   ]
  },
  {
   "cell_type": "code",
   "execution_count": null,
   "metadata": {},
   "outputs": [],
   "source": [
    "model Resistor \"Electrical resistor\"\n",
    "   Pin p, n \"positive and negative pins\";\n",
    "   Voltage v;\n",
    "   Current i;\n",
    "   parameter Real R(unit=\"Ohm\") \"Resistance\";\n",
    "equation\n",
    "   v = i*R;\n",
    "end Resistor; "
   ]
  },
  {
   "cell_type": "code",
   "execution_count": null,
   "metadata": {},
   "outputs": [],
   "source": [
    "loadModel(Modelica)"
   ]
  },
  {
   "cell_type": "code",
   "execution_count": null,
   "metadata": {},
   "outputs": [],
   "source": [
    "block Multiply\n",
    "  input Real x;\n",
    "  input Real y(start=0);\n",
    "  output Real result;\n",
    "equation\n",
    "  result = x*y;\n",
    "end Multiply;  "
   ]
  },
  {
   "cell_type": "markdown",
   "metadata": {},
   "source": [
    "## Reference\n",
    "\n",
    "[1] R Sinha, Christiaan J. J. Paredis. etc. Modeling and Simulation Methods for Design of Engineering Systems. Transactions of the ASME[J]. 2001.03(1):84-91\n",
    "\n",
    "[2] Rankine Cycle(Steam Turbine) http://cn.mathworks.com/help/physmod/simscape/examples/rankine-cycle-steam-turbine.html\n",
    "\n",
    "[3] OpenMDAO: An open-source MDAO framework written in Python  http://openmdao.org/"
   ]
  },
  {
   "cell_type": "code",
   "execution_count": null,
   "metadata": {},
   "outputs": [],
   "source": []
  }
 ],
 "metadata": {
  "kernelspec": {
   "display_name": "OpenModelica",
   "language": "OpenModelica",
   "name": "openmodelica"
  },
  "language_info": {
   "mimetype": "text/x-modelica",
   "name": "modelica",
   "version": "1.0"
  },
  "toc": {
   "base_numbering": 1,
   "nav_menu": {},
   "number_sections": false,
   "sideBar": true,
   "skip_h1_title": false,
   "title_cell": "Table of Contents",
   "title_sidebar": "Contents",
   "toc_cell": false,
   "toc_position": {},
   "toc_section_display": true,
   "toc_window_display": false
  }
 },
 "nbformat": 4,
 "nbformat_minor": 1
}
