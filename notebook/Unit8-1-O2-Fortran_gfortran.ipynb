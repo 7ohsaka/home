{
 "cells": [
  {
   "cell_type": "markdown",
   "metadata": {},
   "source": [
    "# Programming Fortran With GNU Fortran"
   ]
  },
  {
   "cell_type": "markdown",
   "metadata": {},
   "source": [
    "## 1. gfortran - the GNU Fortran compiler\n",
    "\n",
    "https://gcc.gnu.org/wiki/GFortran\n",
    "\n",
    "Gfortran is the name of the GNU Fortran project, developing a free Fortran 95/2003/2008 compiler for GCC, the GNU Compiler Collection. The gfortran development effort uses an open development environment in order to attract a larger team of developers and to ensure that gfortran can work on multiple architectures and diverse environments. \n",
    "\n"
   ]
  },
  {
   "cell_type": "markdown",
   "metadata": {},
   "source": [
    "#### Debian/Ubuntu"
   ]
  },
  {
   "cell_type": "code",
   "execution_count": null,
   "metadata": {},
   "outputs": [],
   "source": [
    "!sudo apt install gfortran"
   ]
  },
  {
   "cell_type": "markdown",
   "metadata": {},
   "source": [
    "#### Windows\n",
    "\n",
    "you have gfortran after install **MinGW-GW64**\n",
    "\n",
    "you may verify the Gfortran installation by listing the version of Gfortran: "
   ]
  },
  {
   "cell_type": "code",
   "execution_count": null,
   "metadata": {},
   "outputs": [],
   "source": [
    "!gfortran --version"
   ]
  },
  {
   "cell_type": "markdown",
   "metadata": {},
   "source": [
    "## 2  Getting Started\n",
    "\n",
    "Compile/Link a Simple Fortran Program - hello.f90\n",
    "\n",
    "> **NOTE**: .f90 for **free form source Fortran**"
   ]
  },
  {
   "cell_type": "code",
   "execution_count": null,
   "metadata": {},
   "outputs": [],
   "source": [
    "%%file ./code/gfortran/hello.f90\n",
    "\n",
    "program hello\n",
    "  write(*,*) 'Fortran says Hello, world!'\n",
    "end program hello"
   ]
  },
  {
   "cell_type": "markdown",
   "metadata": {},
   "source": [
    "Then,use **gfortran** to the compile Fortran program"
   ]
  },
  {
   "cell_type": "code",
   "execution_count": null,
   "metadata": {},
   "outputs": [],
   "source": [
    "!gfortran -c ./code/gfortran/hello.f90\n",
    "!gfortran -o ./code/gfortran/hello hello.o"
   ]
  },
  {
   "cell_type": "code",
   "execution_count": null,
   "metadata": {},
   "outputs": [],
   "source": [
    "!dir hell*.o\n",
    "!dir ./code/gfortran/hello.*"
   ]
  },
  {
   "cell_type": "code",
   "execution_count": null,
   "metadata": {},
   "outputs": [],
   "source": [
    "!./code/gfortran/hello"
   ]
  },
  {
   "cell_type": "markdown",
   "metadata": {},
   "source": [
    "## 3 Procedures\n",
    "\n",
    "`Subroutines` and `functions` are called procedures\n",
    "\n",
    "### 3.1 Subroutines\n",
    "\n",
    "* use the `call` statement, `call <sub name>(args...)`\n",
    "\n",
    "The subroutine is defined somewhere else:\n",
    "\n",
    "```\n",
    "subroutine <name>(args)\n",
    "use ...\n",
    "implicit none\n",
    "variable declarations\n",
    "executable statements\n",
    "end subroutine <name>\n",
    "```\n",
    "**Dummy Arguments**\n",
    "\n",
    "* Variable names in a procedure, only exist in that procedure\n",
    "\n",
    "* Fortran is `pass-by-reference`\n",
    "\n",
    "### 3.2 Functions\n",
    "\n",
    "Purpose is to return **only one** result\n",
    "\n",
    "The **function name** \n",
    "\n",
    "* defines the variable in the function\n",
    "\n",
    "* is returned at the end of a function\n",
    "\n",
    "\n",
    "### 3.3 Example Procedures\n",
    "```\n",
    " ./code/gfortran/bisect/\n",
    "```"
   ]
  },
  {
   "cell_type": "code",
   "execution_count": null,
   "metadata": {},
   "outputs": [],
   "source": [
    "%%file ./code/gfortran/bisect/bisect.f08\n",
    "subroutine bisect(fun,xl,xr,x,f,tol)\n",
    "\n",
    "implicit none\n",
    "\n",
    "  ! arguments\n",
    "  real(8),intent(inout) :: xl       ! left bound\n",
    "  real(8),intent(inout) :: xr       ! right bound\n",
    "  real(8),intent(inout) :: x        ! result\n",
    "  real(8),intent(out)   :: f        ! residual\n",
    "  real(8),intent(in)    :: tol      ! residual tolerance\n",
    "\n",
    "  ! function argument\n",
    "  real(8) :: fun\n",
    "  external fun\n",
    "\n",
    "  ! local varaibles\n",
    "  real(8) :: fl     ! residual for left  bound\n",
    "  real(8) :: fr     ! resdiual for right bound\n",
    "  integer :: i      ! loop counter\n",
    "\n",
    "  ! determine residual bounds\n",
    "  fl = fun(xl)\n",
    "  fr = fun(xr)\n",
    "\n",
    "  ! begin loop\n",
    "  do i = 1,100\n",
    "\n",
    "    ! get midpoint\n",
    "    x = 0.5_8*(xl + xr)\n",
    "\n",
    "    ! evaluate resdiual at midpoint\n",
    "    f = fun(x)\n",
    "\n",
    "    ! check for convergence\n",
    "    if (abs(f) < tol) exit\n",
    "\n",
    "    ! reset the bounds\n",
    "    if (f*fl < dble(0.0)) then\n",
    "\n",
    "      ! move right bound info to mid\n",
    "      xr = x\n",
    "      fr = f\n",
    "\n",
    "    else\n",
    "\n",
    "      ! move left bound info to mid\n",
    "      xl = x\n",
    "      fl = f\n",
    "\n",
    "    end if\n",
    "\n",
    "\n",
    "    ! print out information\n",
    "    print *,'Iteration:',i,' Residual:',f\n",
    "\n",
    "  end do\n",
    "\n",
    "end subroutine bisect\n"
   ]
  },
  {
   "cell_type": "markdown",
   "metadata": {},
   "source": [
    "### 3.4 Example Function"
   ]
  },
  {
   "cell_type": "code",
   "execution_count": null,
   "metadata": {},
   "outputs": [],
   "source": [
    "%%file ./code/gfortran/bisect/myfun.f08\n",
    "function myfun(x)\n",
    "\n",
    "  implicit none\n",
    "\n",
    "  ! formal variables\n",
    "  real(8) :: myfun   ! the function declaration, residual\n",
    "  real(8) :: x       ! the independent variable\n",
    "\n",
    "  myfun = x**2 - 4\n",
    "\n",
    "end function myfun"
   ]
  },
  {
   "cell_type": "markdown",
   "metadata": {},
   "source": [
    "### 3.5 Main demo"
   ]
  },
  {
   "cell_type": "code",
   "execution_count": null,
   "metadata": {},
   "outputs": [],
   "source": [
    "%%file ./code/gfortran/bisect/nonlinear.f08\n",
    "program nonlinear\n",
    "\n",
    "  implicit none\n",
    "\n",
    "  real(8) :: x   ! solution variable\n",
    "  real(8) :: xl  ! lower bound\n",
    "  real(8) :: xr  ! upper bound\n",
    "  real(8) :: f   ! final residual\n",
    "  real(8) :: tol ! tolerance\n",
    "\n",
    "  ! function declaration\n",
    "  external myfun\n",
    "\n",
    "  ! ask user for guess\n",
    "  x=1.2\n",
    "\n",
    "  ! ask for bounds\n",
    "  xl=0.1\n",
    "  xr=2.0\n",
    "\n",
    "  ! ask for tolerance\n",
    "  tol=0.01\n",
    "\n",
    "  ! solve by bisection\n",
    "  call bisect(myfun,xl,xr,x,f,tol)\n",
    "\n",
    "  ! print result\n",
    "  print *,'Solution is:',x,' with final residual:',f\n",
    "\n",
    "  ! terminate the program\n",
    "  stop\n",
    "\n",
    "end program nonlinear\n"
   ]
  },
  {
   "cell_type": "code",
   "execution_count": null,
   "metadata": {},
   "outputs": [],
   "source": [
    "%%file ./code/gfortran/bisect/makefile\n",
    "\n",
    "DIR= ./code/gfortran/bisect/\n",
    "program = nonlinear \n",
    "F08 = gfortran\n",
    "\n",
    "$(program):\n",
    "\t$(F08) -o $(DIR)bisect.o -c $(DIR)bisect.f08  \n",
    "\t$(F08) -o $(DIR)myfun.o -c $(DIR)myfun.f08 \n",
    "\t$(F08) -o $(DIR)nonlinear.o -c $(DIR)nonlinear.f08 \n",
    "\t$(F08) -o $(DIR)nonlinear.exe $(DIR)nonlinear.o  $(DIR)bisect.o  $(DIR)myfun.o  \n",
    "\tdel .\\code\\gfortran\\bisect\\*.o"
   ]
  },
  {
   "cell_type": "code",
   "execution_count": null,
   "metadata": {},
   "outputs": [],
   "source": [
    "!make -f ./code/gfortran/bisect/makefile"
   ]
  },
  {
   "cell_type": "code",
   "execution_count": null,
   "metadata": {},
   "outputs": [],
   "source": [
    "!.\\code\\gfortran\\bisect\\nonlinear.exe "
   ]
  },
  {
   "cell_type": "markdown",
   "metadata": {},
   "source": [
    "## 4 Modules\n",
    "\n",
    "Modules fulfill multiple purposes\n",
    "\n",
    "Used for shared declarations (similar to headers)\n",
    "\n",
    "Used for defining global data\n",
    "\n",
    "Used for defining procedure interfaces\n",
    "\n",
    "Think of them as a high-level interface in your code\n",
    "\n",
    "Structure of a Module\n",
    "\n",
    "```fortran\n",
    "module <name>\n",
    "use definitions\n",
    "implicit none\n",
    "static data definitions, global to the module\n",
    "contains\n",
    "procedure definitions and interfaces\n",
    "end module <name>\n",
    "```\n",
    "**Example module class_Circle**\n",
    "\n",
    "```\n",
    "./code/gfortran/circle/\n",
    "```"
   ]
  },
  {
   "cell_type": "code",
   "execution_count": null,
   "metadata": {},
   "outputs": [],
   "source": [
    "%%file ./code/gfortran/circle/class_Circle.f08\n",
    "module class_Circle\n",
    "\n",
    "  implicit none\n",
    "  private\n",
    "  public :: circle_print\n",
    "\n",
    "  real :: pi = 3.1415926535897931D0 ! module-wide private constant\n",
    "\n",
    "  type, public :: Circle\n",
    "\n",
    "    real :: radius ! the radius of a circle\n",
    "    real :: area   ! the area of a circle\n",
    "    real :: circum ! the circumference of a circle\n",
    "\n",
    "  end type Circle\n",
    "\n",
    "contains\n",
    "\n",
    "!==============================================================================\n",
    "! CIRCLE_AREA calculates the area of a circle\n",
    "!==============================================================================\n",
    "\n",
    "  function circle_area(this) result(area)\n",
    "\n",
    "    type(Circle), intent(in)  :: this ! circle instance\n",
    "    real                      :: area ! the area of the circle\n",
    "\n",
    "    ! calculate the area\n",
    "    area = pi * this%radius**2\n",
    "\n",
    "  end function circle_area\n",
    "\n",
    "!==============================================================================\n",
    "! CIRCLE_CIRCUM calculate the circumference of a circle\n",
    "!==============================================================================\n",
    "\n",
    "  function circle_circum(this) result(circum)\n",
    "\n",
    "    type(Circle), intent(in) :: this   ! circle instance\n",
    "    real                     :: circum ! the circumference\n",
    "\n",
    "    ! calculate circumference\n",
    "    circum = 2*pi*this%radius\n",
    "\n",
    "  end function circle_circum\n",
    "\n",
    "!==============================================================================\n",
    "! CIRCLE_PRINT prints information about the circle\n",
    "!==============================================================================\n",
    "\n",
    "  subroutine circle_print(this)\n",
    "\n",
    "    type(Circle), intent(inout) :: this ! circle instance\n",
    "\n",
    "    ! calculate area\n",
    "    this%area = circle_area(this)\n",
    "\n",
    "    ! calculate circumference\n",
    "    this%circum = circle_circum(this)\n",
    "\n",
    "    ! print results\n",
    "    write(*,'(\"The area is:\",T30,F0.4,/,\"The circumference is:\",T30,F0.4)')    &\n",
    "   &           this%area,this%circum\n",
    "\n",
    "  end subroutine circle_print\n",
    "\n",
    "end module class_Circle\n"
   ]
  },
  {
   "cell_type": "code",
   "execution_count": null,
   "metadata": {},
   "outputs": [],
   "source": [
    "%%file ./code/gfortran/circle/circle_test.f08\n",
    "program circle_test\n",
    "\n",
    "  use class_Circle, only: Circle,circle_print\n",
    "\n",
    "  implicit none\n",
    "\n",
    "  type(Circle) :: acircle  ! a circle instance\n",
    "\n",
    "  acircle%radius=3.2\n",
    " \n",
    "  write(*,'(\"The radius is:\",T30,F0.4)') acircle%radius\n",
    "  ! print out results\n",
    "  call circle_print(acircle)\n",
    "\n",
    "  ! terminate the program\n",
    "  stop\n",
    "\n",
    "end program circle_test\n"
   ]
  },
  {
   "cell_type": "code",
   "execution_count": null,
   "metadata": {},
   "outputs": [],
   "source": [
    "%%file ./code/gfortran/circle/makefile\n",
    "\n",
    "DIR= ./code/gfortran/circle/\n",
    "\n",
    "all: circle_test\n",
    "\n",
    "circle_test: obj\n",
    "\t gfortran -o $(DIR)circle_test.exe  $(DIR)circle_test.o $(DIR)class_Circle.mod\n",
    "\t del .\\code\\gfortran\\circle\\*.o\n",
    "\t del .\\code\\gfortran\\circle\\*.mod    \n",
    "    \n",
    "obj:\n",
    "\t gfortran -o $(DIR)class_Circle.mod -c  $(DIR)class_Circle.f08    \n",
    "\t gfortran -o $(DIR)circle_test.o  -c  $(DIR)circle_test.f08     \n"
   ]
  },
  {
   "cell_type": "code",
   "execution_count": null,
   "metadata": {},
   "outputs": [],
   "source": [
    "!make -f ./code/gfortran/circle/makefile"
   ]
  },
  {
   "cell_type": "code",
   "execution_count": null,
   "metadata": {},
   "outputs": [],
   "source": [
    "!.\\code\\gfortran\\circle\\circle_test"
   ]
  },
  {
   "cell_type": "markdown",
   "metadata": {},
   "source": [
    "## Reference\n",
    "\n",
    "1. MIT 22.901 Fortran Class https://github.com/bhermanmit/Fortran\n",
    "\n",
    "2. Awesome list of Fortran libs https://github.com/rabbiabram/awesome-fortran\n",
    "\n",
    "3. SEUIF97-API Fortran： https://github.com/PySEE/SEUIF97/tree/master/demo-fortran"
   ]
  },
  {
   "cell_type": "code",
   "execution_count": null,
   "metadata": {},
   "outputs": [],
   "source": []
  }
 ],
 "metadata": {
  "kernelspec": {
   "display_name": "Python 3",
   "language": "python",
   "name": "python3"
  },
  "language_info": {
   "codemirror_mode": {
    "name": "ipython",
    "version": 3
   },
   "file_extension": ".py",
   "mimetype": "text/x-python",
   "name": "python",
   "nbconvert_exporter": "python",
   "pygments_lexer": "ipython3",
   "version": "3.7.2"
  },
  "toc": {
   "base_numbering": 1,
   "nav_menu": {},
   "number_sections": false,
   "sideBar": true,
   "skip_h1_title": false,
   "title_cell": "Table of Contents",
   "title_sidebar": "Contents",
   "toc_cell": false,
   "toc_position": {},
   "toc_section_display": true,
   "toc_window_display": true
  },
  "widgets": {
   "state": {},
   "version": "1.1.2"
  }
 },
 "nbformat": 4,
 "nbformat_minor": 1
}
