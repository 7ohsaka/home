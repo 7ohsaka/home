{
 "cells": [
  {
   "cell_type": "markdown",
   "metadata": {},
   "source": [
    "#  The Shared Library with GCC\n",
    "\n",
    "When your program is linked against a shared library, only a small table is created in the executable. Before the executable starts running, **the operating system loads the machine code needed for the external functions** - a process known as **dynamic linking.** \n",
    "\n",
    "    \n",
    "* Dynamic linking makes executable files smaller and saves disk space, because `one` copy of a **library** can be **shared** between `multiple` programs. \n",
    "\n",
    "\n",
    "* Furthermore, most operating systems allows one copy of a shared library in memory to be used by all running programs, thus, saving memory. \n",
    "\n",
    "\n",
    "* The shared library codes can be upgraded without the need to recompile your program.\n",
    "\n",
    "\n",
    "A **shared library** has file extension of \n",
    "\n",
    "   * **`.so`** (shared objects) in `Linux(Unixes)`\n",
    "   \n",
    "   \n",
    "   * **`.dll** (dynamic link library) in `Windows`. \n"
   ]
  },
  {
   "cell_type": "markdown",
   "metadata": {},
   "source": [
    "## 1: Building the shared library\n",
    "\n",
    "The shared library we will build consist of a single source file: `SumArray.c/h`\n",
    "\n",
    "We will compile the C file with `Position Independent Code( PIC )` into a shared library。\n",
    "\n",
    "GCC assumes that all libraries \n",
    "   \n",
    "* `start` with `lib`\n",
    "\n",
    "* `end`  with `.dll`(windows) or `.so`(Linux)，\n",
    "\n",
    "so, we should name the  shared library begin with `lib prefix` and the `.so/.dll` extensions.\n",
    "\n",
    "* libSumArray.dll(Windows)\n",
    "\n",
    "* libSumArray.so(Linux)\n"
   ]
  },
  {
   "cell_type": "code",
   "execution_count": 1,
   "metadata": {},
   "outputs": [
    {
     "name": "stdout",
     "output_type": "stream",
     "text": [
      "Overwriting ./demo/src/SumArray.h\n"
     ]
    }
   ],
   "source": [
    "%%file ./demo/src/SumArray.h\n",
    "\n",
    "#ifndef SUMARRAY_H\n",
    "#define SUMARRAY_H\n",
    "\n",
    "int sum(int array[], int size);\n",
    "\n",
    "#endif"
   ]
  },
  {
   "cell_type": "code",
   "execution_count": 2,
   "metadata": {},
   "outputs": [
    {
     "name": "stdout",
     "output_type": "stream",
     "text": [
      "Overwriting ./demo/src/SumArray.c\n"
     ]
    }
   ],
   "source": [
    "%%file ./demo/src/SumArray.c\n",
    "\n",
    "#include \"SumArray.h\"\n",
    "\n",
    "/* Function definition\n",
    "   Return the sum of the given array\n",
    "*/\n",
    "\n",
    "int sum(int array[], int size)\n",
    "{\n",
    "    int sum = 0;\n",
    "    int i;\n",
    "    for (i = 0; i < size; ++i) {\n",
    "        sum += array[i];\n",
    "    }\n",
    "    return sum;\n",
    "}"
   ]
  },
  {
   "cell_type": "markdown",
   "metadata": {},
   "source": [
    "### 1.1 Building DLL for  Windows"
   ]
  },
  {
   "cell_type": "code",
   "execution_count": 3,
   "metadata": {},
   "outputs": [],
   "source": [
    "!gcc -c -O3 -Wall -fPIC -o ./demo/bin/SumArray.o  ./demo/src/SumArray.c\n",
    "!gcc -shared -o ./demo/bin/libSumArray.dll  ./demo/bin/SumArray.o"
   ]
  },
  {
   "cell_type": "markdown",
   "metadata": {},
   "source": [
    "**Makefile of Building DLL for Windows**"
   ]
  },
  {
   "cell_type": "code",
   "execution_count": 5,
   "metadata": {},
   "outputs": [
    {
     "name": "stdout",
     "output_type": "stream",
     "text": [
      "Writing ./demo/makefile-SumArray-dll\n"
     ]
    }
   ],
   "source": [
    "%%file ./demo/makefile-SumArray-dll\n",
    "\n",
    "CC=gcc\n",
    "CFLAGS=-O3 -Wall -fPIC \n",
    "\n",
    "SRCDIR= ./demo/src/\n",
    "OBJDIR= ./demo/obj/\n",
    "BINDIR= ./demo/bin/\n",
    "\n",
    "all: libdll\n",
    "\n",
    "libdll: obj\n",
    "\t $(CC) -shared -o $(BINDIR)libSumArray.dll $(OBJDIR)SumArray.o\n",
    "\t del .\\demo\\obj\\SumArray.o\n",
    "    \n",
    "obj: ./demo/src/SumArray.c\n",
    "\t $(CC) -c $(CFLAGS)  -o $(OBJDIR)SumArray.o $(SRCDIR)SumArray.c\n",
    "     \n",
    "clean:\n",
    "\t del .\\demo\\src\\libSumArray.dll"
   ]
  },
  {
   "cell_type": "code",
   "execution_count": 6,
   "metadata": {},
   "outputs": [
    {
     "name": "stdout",
     "output_type": "stream",
     "text": [
      "gcc -c -O3 -Wall -fPIC   -o ./demo/obj/SumArray.o ./demo/src/SumArray.c\n",
      "gcc -shared -o ./demo/bin/libSumArray.dll ./demo/obj/SumArray.o\n",
      "del .\\demo\\obj\\SumArray.o\n"
     ]
    }
   ],
   "source": [
    "!make -f ./demo/makefile-SumArray-dll"
   ]
  },
  {
   "cell_type": "code",
   "execution_count": 7,
   "metadata": {},
   "outputs": [
    {
     "name": "stdout",
     "output_type": "stream",
     "text": [
      " 驱动器 F 中的卷是 cmh\n",
      " 卷的序列号是 9C25-3306\n",
      "\n",
      " F:\\SEU\\SEE\\PySEE\\home\\notebook\\demo\\bin 的目录\n",
      "\n",
      "2019/04/28  21:23            47,790 libSumArray.dll\n",
      "               1 个文件         47,790 字节\n",
      "               0 个目录 103,468,867,584 可用字节\n"
     ]
    }
   ],
   "source": [
    "!dir .\\demo\\bin\\libSum*.dll"
   ]
  },
  {
   "cell_type": "markdown",
   "metadata": {},
   "source": [
    "### 1.2 Building SO for  Linux"
   ]
  },
  {
   "cell_type": "code",
   "execution_count": null,
   "metadata": {},
   "outputs": [],
   "source": [
    "!gcc -c -O3 -Wall -fPIC -o ./demo/obj/SumArray.o ./demo/gcc/SumArray.c\n",
    "!gcc -shared -o ./cdemo/bin/libSumArray  ./demo/obj/SumArray.o "
   ]
  },
  {
   "cell_type": "code",
   "execution_count": null,
   "metadata": {},
   "outputs": [],
   "source": [
    "!ls ./demo/bin/libSumArray.*"
   ]
  },
  {
   "cell_type": "markdown",
   "metadata": {},
   "source": [
    "\n",
    "* `-c`: compile into object file with default name : funs.o.\n",
    "\n",
    "      By default, the object file has the same name as the source file with extension of \".o\" \n",
    "  \n",
    "  \n",
    "* `-O3`: Optimize yet more.\n",
    "\n",
    "      turns on all optimizations specified by -O2 and also turns on the -finline-functions, -fweb, -frename-registers and -funswitch-loops optionsturns  on  all  optimizations   \n",
    "     \n",
    "  \n",
    "* `-Wall`: prints \"all\"  compiler's warning message. \n",
    "\n",
    "      This option should always be used, in order to generate better code.\n",
    "\n",
    "\n",
    "* **`-fPIC`** : stands for `Position Independent Code`(位置无关代码)\n",
    "   \n",
    "   the generated machine code is `not dependent` on being located at a `specific address` in order to `work`.\n",
    "   \n",
    "   Position-independent code can be `executed` at `any memory address`\n",
    "    \n",
    "     \n",
    "* **-shared:** creating a shared library\n"
   ]
  },
  {
   "cell_type": "markdown",
   "metadata": {},
   "source": [
    "**Makefile of Building SO for Linux**"
   ]
  },
  {
   "cell_type": "code",
   "execution_count": null,
   "metadata": {},
   "outputs": [],
   "source": [
    "%%file ./code/makefile-SumArray-so\n",
    "\n",
    "\n",
    "CC=gcc\n",
    "CFLAGS=-O3 -Wall -fPIC\n",
    "\n",
    "SRCDIR= ./demo/src/\n",
    "OBJDIR= ./demo/obj/\n",
    "BINDIR= ./demo/bin/\n",
    "\n",
    "all: libdll\n",
    "\n",
    "libdll: obj\n",
    "\t $(CC) -shared -o $(BINDIR)libSumArray.dll $(OBJDIR)SumArray.o\n",
    "\t rm -f ./demo/obj/SumArray.o\n",
    "    \n",
    "obj: ./demo/src/SumArray.c\n",
    "\t $(CC) -c $(CFLAGS)  -o $(OBJDIR)SumArray.o $(SRCDIR)SumArray.c\n",
    "     \n",
    "clean:\n",
    "\t rm -f ./demo/src/libSumArray.dll\n"
   ]
  },
  {
   "cell_type": "code",
   "execution_count": null,
   "metadata": {},
   "outputs": [],
   "source": [
    "!make -f ./code/makefile-SumArray-so"
   ]
  },
  {
   "cell_type": "code",
   "execution_count": null,
   "metadata": {},
   "outputs": [],
   "source": [
    "!ls ./code/bin/libSum*.so"
   ]
  },
  {
   "cell_type": "markdown",
   "metadata": {},
   "source": [
    "## 2 Building a Client Executable "
   ]
  },
  {
   "cell_type": "markdown",
   "metadata": {},
   "source": [
    "### 2.1 Header Files and Libraries \n",
    "\n",
    "* `Header File`: When compiling the program, the **compiler** needs the **header** files to compile the source codes;\n",
    "\n",
    "* `libraries`: the **linker** needs the **libraries** to resolve external references from other object files or libraries. \n",
    "\n",
    "The `compiler` and `linker` will not find the `headers/libraries` unless you set **the appropriate options**\n",
    "\n",
    "* **1 Searching for Header Files**\n",
    "\n",
    "   **`-Idir`:** The include-paths are specified via **-Idir** option (`uppercase` 'I' followed by the directory path or environment variable **CPATH**). \n",
    "   \n",
    "   \n",
    "* **2 Searching for libraries Files**\n",
    "\n",
    "   **`-Ldir`**: The library-path is specified via **-Ldir** option (`uppercase` 'L' followed by the directory path(or environment variable **LIBRARY_PATH**). \n",
    "\n",
    "\n",
    "* **3 Linking the library**\n",
    "\n",
    "   **`-llibname`**: Link with the library name **without** the `lib` prefix and the `.so/.dll` extensions.\n",
    "  \n",
    "        Windows\n",
    "    ```bash\n",
    "         -I./demo/src/ -L./demo/bin/ -lSumArray\n",
    "    ```\n",
    "        Linux\n",
    "    ```bash\n",
    "         -I./demo/src/ -L./demo/bin/ -lSumArray -Wl,-rpath=./demo/bin/  \n",
    "    ```\n",
    "\n",
    "   * **`-Wl,option`**\n",
    "\n",
    "    Pass option as an option to the **linker**. If option contains `commas`, it is split into multiple options at the commas. You can use this syntax to pass an argument to the option. For example, -Wl,-Map,output.map passes -Map output.map to the linker. When using the GNU linker, you can also get the same effect with `-Wl,-Map=output.map'.\n",
    "    \n",
    "   * **`-rpath=dir`** \n",
    "\n",
    "    **Add a directory to the runtime library search path**. This is used when linking an ELF executable with shared objects. All -rpath arguments are concatenated and passed to the runtime linker, which uses them to locate shared objects at runtime. The -rpath option is also used when locating shared objects which are needed by shared objects explicitly included in the link;\n",
    "   \n"
   ]
  },
  {
   "cell_type": "markdown",
   "metadata": {},
   "source": [
    "### 2.2 Calling the Shared Library\n",
    "\n",
    "The following source code `\"mainSum.c\"` demonstrates calling the DLL's functions: \n",
    "\n",
    "**NOTE:** `mainSum.c` is the **same** code in multi-source example"
   ]
  },
  {
   "cell_type": "code",
   "execution_count": null,
   "metadata": {},
   "outputs": [],
   "source": [
    "%%file ./demo/src/mainSum.c\n",
    "\n",
    "#include <stdio.h> \n",
    "#include \"SumArray.h\"\n",
    "\n",
    "int main() {\n",
    "    \n",
    "     int a1[] = {8, 4, 5, 3, 2};\n",
    "     printf(\"sum is %d\\n\", sum(a1, 5));  // sum is 22\n",
    "     return 0;\n",
    "}"
   ]
  },
  {
   "cell_type": "markdown",
   "metadata": {},
   "source": [
    "#### 2.2.1 Windows"
   ]
  },
  {
   "cell_type": "code",
   "execution_count": null,
   "metadata": {},
   "outputs": [],
   "source": [
    "!gcc -c -o ./demo/obj/mainSum.o ./demo/src/mainSum.c \n",
    "!gcc -o  ./demo/bin/mainSum ./demo/obj/mainSum.o -I./demo/src/ -L./demo/bin/ -lSumArray"
   ]
  },
  {
   "cell_type": "markdown",
   "metadata": {},
   "source": [
    "**Makefile under Windows**"
   ]
  },
  {
   "cell_type": "code",
   "execution_count": null,
   "metadata": {},
   "outputs": [],
   "source": [
    "%%file ./demo/makefile-call-dll\n",
    "\n",
    "SRCDIR= ./demo/src/\n",
    "OBJDIR= ./demo/obj/\n",
    "BINDIR= ./demo/bin/\n",
    "\n",
    "all: mainexe\n",
    "\n",
    "clean:\n",
    "\tdel .\\demo\\bin\\mainSum.exe\n",
    "\n",
    "mainexe: sumobj $(SRCDIR)SumArray.h \n",
    "\tgcc -o $(BINDIR)mainSum.exe $(OBJDIR)mainSum.o -I$(SRCDIR) -L$(BINDIR) -lSumArray\n",
    "\tdel .\\demo\\obj\\mainSum.o\n",
    "\n",
    "sumobj: $(SRCDIR)mainSum.c \n",
    "\tgcc -c -o $(OBJDIR)mainSum.o $(SRCDIR)mainSum.c "
   ]
  },
  {
   "cell_type": "code",
   "execution_count": null,
   "metadata": {},
   "outputs": [],
   "source": [
    "!make -f ./demo/makefile-call-dll"
   ]
  },
  {
   "cell_type": "code",
   "execution_count": null,
   "metadata": {},
   "outputs": [],
   "source": [
    "!.\\demo\\bin\\mainSum"
   ]
  },
  {
   "cell_type": "markdown",
   "metadata": {},
   "source": [
    "#### 2.2.2 Linux"
   ]
  },
  {
   "cell_type": "code",
   "execution_count": null,
   "metadata": {},
   "outputs": [],
   "source": [
    "!gcc -c -o ./demo/obj/mainSum.o ./demo/obj/mainSum.c \n",
    "!gcc -o  ./demo/bin/mainSum ./demo/obj/mainSum.o -I./demo/obj/ -L./demo/bin/ -lSumArray -Wl,-rpath=./demo/bin/"
   ]
  },
  {
   "cell_type": "markdown",
   "metadata": {},
   "source": [
    "**makefile under Linux**"
   ]
  },
  {
   "cell_type": "code",
   "execution_count": null,
   "metadata": {},
   "outputs": [],
   "source": [
    "%%file ./demo/makefile-call-so\n",
    "\n",
    "\n",
    "SRCDIR= ./demo/src/\n",
    "OBJDIR= ./demo/obj/\n",
    "BINDIR= ./demo/bin/\n",
    "\n",
    "all: main\n",
    "\n",
    "clean:\n",
    "\trm -f ./demo/bin/mainSum.exe\n",
    "\n",
    "main: sumobj $(SRCDIR)SumArray.h \n",
    "\tgcc -o $(BINDIR)mainSum.exe $(OBJDIR)mainSum.o -I$(SRCDIR) -L$(BINDIR) -lSumArray -Wl,-rpath=./code/bin/ \n",
    "\trm -f ./demo/obj/mainSum.o\n",
    "\n",
    "sumobj: $(SRCDIR)mainSum.c \n",
    "\tgcc -c -o $(OBJDIR)mainSum.o $(SRCDIR)mainSum.c    \n",
    "     "
   ]
  },
  {
   "cell_type": "code",
   "execution_count": null,
   "metadata": {},
   "outputs": [],
   "source": [
    "!make -f ./demo/makefile-call-so"
   ]
  },
  {
   "cell_type": "code",
   "execution_count": null,
   "metadata": {},
   "outputs": [],
   "source": [
    "!./demo/bin/mainSum"
   ]
  },
  {
   "cell_type": "markdown",
   "metadata": {},
   "source": [
    "## 3 Building  a Shared Library with Multi-source\n",
    "\n",
    "### 3.1  The multi-source files\n",
    "The shared library we will build consist of the multi-source files\n",
    "\n",
    "* funs.c/h\n",
    "\n",
    "* SumArray.c/h"
   ]
  },
  {
   "cell_type": "code",
   "execution_count": null,
   "metadata": {},
   "outputs": [],
   "source": [
    "%%file ./demo/src/funs.h\n",
    "\n",
    "#ifndef FUNS_H\n",
    "#define FUNS_H\n",
    "\n",
    "double dprod(double *x, int n);\n",
    "int factorial(int n);\n",
    "\n",
    "#endif"
   ]
  },
  {
   "cell_type": "code",
   "execution_count": null,
   "metadata": {},
   "outputs": [],
   "source": [
    "%%file ./demo/src/funs.c\n",
    "\n",
    "#include \"funs.h\"\n",
    "\n",
    "// x[0]*x[1]*...*x[n-1]\n",
    "double dprod(double *x, int n)\n",
    "{\n",
    "    double y = 1.0;\n",
    "    for (int i = 0; i < n; i++)\n",
    "    {\n",
    "        y *= x[i];\n",
    "    }\n",
    "    return y;\n",
    "}\n",
    "\n",
    "// The factorial of a positive integer n, denoted by n!, is the product of all positive integers less than or equal to n. \n",
    "//  For example,5!=5*4*3*2*1=120\n",
    "//  The value of 0! is 1 \n",
    "int factorial(int n)\n",
    "{\n",
    "    if (n == 0 ) {\n",
    "        return 1;\n",
    "    }\n",
    "    else \n",
    "    {\n",
    "        return n * factorial(n - 1);\n",
    "    }\n",
    "}"
   ]
  },
  {
   "cell_type": "markdown",
   "metadata": {},
   "source": [
    "### 3.2 Building  into One Shared Library\n",
    "\n",
    "#### 3.2.1 Windows's DLL"
   ]
  },
  {
   "cell_type": "code",
   "execution_count": null,
   "metadata": {},
   "outputs": [],
   "source": [
    "!gcc -c -O3 -Wall -fPIC -o ./demo/obj/funs.o ./demo/src/funs.c \n",
    "!gcc -c -O3 -Wall -fPIC -o ./demo/obj/SumArray.o  ./demo/src/SumArray.c\n",
    "!gcc -shared -o ./demo/bin/libmultifuns.dll  ./demo/obj/funs.o  ./demo/obj/SumArray.o"
   ]
  },
  {
   "cell_type": "code",
   "execution_count": null,
   "metadata": {},
   "outputs": [],
   "source": [
    "!dir .\\demo\\bin\\libmulti*.dll"
   ]
  },
  {
   "cell_type": "markdown",
   "metadata": {},
   "source": [
    "#### 3.2.2 Building with makefile\n"
   ]
  },
  {
   "cell_type": "code",
   "execution_count": null,
   "metadata": {},
   "outputs": [],
   "source": [
    "%%file ./demo/makefile-libmultifun\n",
    "\n",
    "CC=gcc\n",
    "CFLAGS=-O3 -Wall -fPIC\n",
    "\n",
    "SRCDIR= ./demo/src/\n",
    "OBJDIR= ./demo/obj/\n",
    "BINDIR= ./demo/bin/\n",
    "\n",
    "all: libmultifuns.dll\n",
    "\n",
    "libmultifuns.dll: multifunsobj\n",
    "\t $(CC) -shared -o $(BINDIR)libmultifuns.dll $(OBJDIR)funs.o $(OBJDIR)SumArray.o\n",
    "\t del .\\demo\\obj\\funs.o .\\demo\\obj\\SumArray.o\n",
    "    \n",
    "multifunsobj: $(SRCDIR)funs.c $(SRCDIR)SumArray.c\n",
    "\t$(CC) -c $(CFLAGS) -o $(OBJDIR)SumArray.o $(SRCDIR)SumArray.c\n",
    "\t$(CC) -c $(CFLAGS) -o $(OBJDIR)funs.o $(SRCDIR)funs.c \n",
    "     \n",
    "     \n",
    "clean:\n",
    "\t del .\\demo\\bin\\libmultifuns.dll"
   ]
  },
  {
   "cell_type": "code",
   "execution_count": null,
   "metadata": {},
   "outputs": [],
   "source": [
    "!make -f ./demo/makefile-libmultifun"
   ]
  },
  {
   "cell_type": "markdown",
   "metadata": {},
   "source": [
    "The result is a compiled shared library **`libmultifuns.dll`**"
   ]
  },
  {
   "cell_type": "markdown",
   "metadata": {},
   "source": [
    "#### 3.2.3  makefile with more vars"
   ]
  },
  {
   "cell_type": "code",
   "execution_count": null,
   "metadata": {},
   "outputs": [],
   "source": [
    "%%file ./code/makefile-libmultifun\n",
    "\n",
    "CC=gcc\n",
    "CFLAGS=-O3 -Wall -fPIC  \n",
    "\n",
    "SRCDIR= ./demo/src/\n",
    "OBJDIR= ./demo/obj/\n",
    "BINDIR= ./demo/bin/\n",
    "\n",
    "INC = -I$(SRCDIR) \n",
    "\n",
    "SRCS= $(SRCDIR)funs.c \\\n",
    "      $(SRCDIR)SumArray.c \n",
    "\n",
    "all: libmultifuns.dll\n",
    "\n",
    "libmultifuns.dll: multifunsobj\n",
    "\t $(CC)  -shared -o $(BINDIR)libmultifuns.dll funs.o SumArray.o\n",
    "\t del funs.o SumArray.o\n",
    "    \n",
    "multifunsobj: \n",
    "\t $(CC) -c $(CFLAGS) $(INC) $(SRCS) \n",
    "     \n",
    "clean:\n",
    "\t del .\\demo\\bin\\libmultifuns.dll"
   ]
  },
  {
   "cell_type": "code",
   "execution_count": null,
   "metadata": {},
   "outputs": [],
   "source": [
    "!make -f ./code/makefile-libmultifun"
   ]
  },
  {
   "cell_type": "markdown",
   "metadata": {},
   "source": [
    "### 3.3 Building a client executable \n",
    "\n",
    "The following source code `\"mainMultifuns.c\"` demonstrates calling the DLL's functions:\n"
   ]
  },
  {
   "cell_type": "code",
   "execution_count": null,
   "metadata": {},
   "outputs": [],
   "source": [
    "%%file ./demo/src/mainMultifuns.c\n",
    "\n",
    "#include <stdio.h> \n",
    "#include \"SumArray.h\"\n",
    "#include \"funs.h\"\n",
    "\n",
    "int main() {\n",
    "    \n",
    "     int a1[] = {8, 4, 5, 3, 2};\n",
    "     printf(\"sum is %d\\n\", sum(a1, 5));  // sum is 22\n",
    "    \n",
    "     double a2[] = {8.0, 4.0, 5.0, 3.0, 2.0};\n",
    "     printf(\"dprod is %f\\n\", dprod(a2, 5));  // dprod is 960\n",
    "    \n",
    "     int n =5;\n",
    "     printf(\"the factorial of  %d is %d\\n\",n,factorial(n));  // 5!=120\n",
    "     return 0;\n",
    "}"
   ]
  },
  {
   "cell_type": "code",
   "execution_count": null,
   "metadata": {},
   "outputs": [],
   "source": [
    "!gcc -c -o ./demo/obj/mainMultifuns.o ./demo/src/mainMultifuns.c \n",
    "!gcc -o  ./demo/bin/mainMultifuns ./demo/obj/mainMultifuns.o -I./demo/src/ -L./demo/bin/ -lmultifuns"
   ]
  },
  {
   "cell_type": "code",
   "execution_count": null,
   "metadata": {},
   "outputs": [],
   "source": [
    "!.\\demo\\bin\\mainMultifuns"
   ]
  },
  {
   "cell_type": "markdown",
   "metadata": {},
   "source": [
    "## Reference\n",
    "\n",
    "* GCC (GNU compilers) http://gcc.gnu.org\n",
    "\n",
    "  * GCC Manual  http://gcc.gnu.org/onlinedocs\n",
    "\n",
    "  * An Introduction to GCC  http://www.network-theory.co.uk/docs/gccintro/index.html.\n",
    "\n",
    "  * GCC and Make：Compiling, Linking and Building C/C++ Applications http://www3.ntu.edu.sg/home/ehchua/programming/cpp/gcc_make.html\n",
    "\n",
    "  * MinGW-W64 (GCC) Compiler Suite: http://www.mingw-w64.org/doku.php\n",
    "\n",
    "\n",
    "* C/C++ for VS Code https://code.visualstudio.com/docs/languages/cpp\n",
    "\n",
    "* C/C++ Preprocessor Directives http://www.cplusplus.com/doc/tutorial/preprocessor/\n",
    "\n",
    "\n",
    "* What is a DLL and How Do I Create or Use One? http://www.mingw.org/wiki/DLL\n",
    "\n"
   ]
  },
  {
   "cell_type": "code",
   "execution_count": null,
   "metadata": {},
   "outputs": [],
   "source": []
  }
 ],
 "metadata": {
  "kernelspec": {
   "display_name": "Python 3",
   "language": "python",
   "name": "python3"
  },
  "language_info": {
   "codemirror_mode": {
    "name": "ipython",
    "version": 3
   },
   "file_extension": ".py",
   "mimetype": "text/x-python",
   "name": "python",
   "nbconvert_exporter": "python",
   "pygments_lexer": "ipython3",
   "version": "3.7.2"
  },
  "toc": {
   "base_numbering": 1,
   "nav_menu": {},
   "number_sections": false,
   "sideBar": true,
   "skip_h1_title": false,
   "title_cell": "Table of Contents",
   "title_sidebar": "Contents",
   "toc_cell": false,
   "toc_position": {
    "height": "calc(100% - 180px)",
    "left": "10px",
    "top": "150px",
    "width": "307.2px"
   },
   "toc_section_display": true,
   "toc_window_display": true
  },
  "widgets": {
   "state": {},
   "version": "1.1.2"
  }
 },
 "nbformat": 4,
 "nbformat_minor": 2
}
