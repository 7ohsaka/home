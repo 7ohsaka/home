{
 "cells": [
  {
   "cell_type": "markdown",
   "metadata": {},
   "source": [
    "## 8.4 Generators（生成器）\n",
    "\n",
    "https://wiki.python.org/moin/Generators\n",
    "\n",
    "### Generators function\n",
    "**Generators function**: the <b style=\"color:blue\">function</b> definition containing a <b style=\"color:blue\">yield</b> statement is treated in a special way.\n",
    "\n",
    "* <b style=\"color:blue\">Generators</b> are typically used in conjunction with <b style=\"color:blue\">for</b>   or  <b style=\"color:blue\">while</b> statements\n",
    "\n",
    "```python\n",
    "def namefunction(formal_parameters):\n",
    "    ...\n",
    "    for statements   \n",
    "       yield item\n",
    "    ...\n",
    "```\n",
    "####  yield ：\n",
    "\n",
    "**1 The `first iteration`**\n",
    "\n",
    "At the start of the `first iteration` of a for loop, \n",
    "\n",
    "the interpreter starts executing the code in the body of the generator. \n",
    "\n",
    "It runs until the `first time` a `yield` statement is executed, at which point \n",
    "    \n",
    "it returns `the value of the expression in the yield statement`. \n",
    "\n",
    "**2 On the `next iteration`**\n",
    "\n",
    "the generator `resumes` execution immediately following the yield, \n",
    "    \n",
    "with all local variables bound to the objects to which they were bound \n",
    "    \n",
    "when the yield statement was executed, and again runs until a `yield` statement is executed. \n",
    "\n",
    "**3 It continues to do this** \n",
    "\n",
    "until it runs out of code to execute or executes a return statement, at which point the loop is exited.\n",
    "\n",
    "####  yield 运行机制：\n",
    "  \n",
    "* 1 当向生成器`要一个数`时，生成器会执行，直至出现` yield` 语句，生成器返回` yield` 语句表达式的数值，之后生成器不往下继续运行。\n",
    "\n",
    "* 2 当需要`下一个数`时，会从**上次状态**开始运行，直至出现`yield`语句，返回其表达式的数值。\n",
    "    \n",
    "* 3 如此反复,直至退出函数 "
   ]
  },
  {
   "cell_type": "markdown",
   "metadata": {},
   "source": [
    "The code is quite simple and straightforward, but its builds the **`full` list in `memory`**"
   ]
  },
  {
   "cell_type": "code",
   "execution_count": 2,
   "metadata": {},
   "outputs": [
    {
     "name": "stdout",
     "output_type": "stream",
     "text": [
      "[0, 1, 2, 3, 4, 5, 6, 7, 8, 9, 10, 11, 12, 13, 14, 15, 16, 17, 18, 19, 20, 21, 22, 23, 24, 25, 26, 27, 28, 29, 30, 31, 32, 33, 34, 35, 36, 37, 38, 39, 40, 41, 42, 43, 44, 45, 46, 47, 48, 49, 50, 51, 52, 53, 54, 55, 56, 57, 58, 59, 60, 61, 62, 63, 64, 65, 66, 67, 68, 69, 70, 71, 72, 73, 74, 75, 76, 77, 78, 79, 80, 81, 82, 83, 84, 85, 86, 87, 88, 89, 90, 91, 92, 93, 94, 95, 96, 97, 98, 99]\n"
     ]
    }
   ],
   "source": [
    "def firstn(n):\n",
    "    \"\"\" Build and return a full list in memory\"\"\"\n",
    "    num, nums = 0, []\n",
    "\n",
    "    while num < n:\n",
    "\n",
    "        nums.append(num)\n",
    "\n",
    "        num += 1\n",
    "\n",
    "    return nums\n",
    "\n",
    "# 1 call the function\n",
    "print(firstn(100))     \n",
    "\n",
    "# 2 call the function\n",
    "sum_of_first_n = sum(firstn(100))\n",
    "sum_of_first_n \n",
    "\n",
    "sum_of_first_n=0\n",
    "for s in firstn(100):\n",
    "\n",
    "    sum_of_first_n=sum_of_first_n+s"
   ]
  },
  {
   "cell_type": "markdown",
   "metadata": {},
   "source": [
    "The generator function(`def firstn(n)`)that `yields` **items** instead of returning a `list`\n",
    "\n",
    "\n",
    "\n",
    "```python\n",
    "def firstn(n):\n",
    "     ...\n",
    "    while \n",
    "       yield num\n",
    "      ...\n",
    "```\n",
    "\n"
   ]
  },
  {
   "cell_type": "code",
   "execution_count": null,
   "metadata": {},
   "outputs": [],
   "source": [
    "def firstn(n):\n",
    "    \"\"\" the generator that yields items instead of returning a list\"\"\"\n",
    "    num = 0\n",
    "    while num < n:\n",
    "        \n",
    "        yield num\n",
    "        \n",
    "        num += 1\n",
    "        \n",
    "# 1 create generator object \n",
    "print(firstn(100))\n",
    "\n",
    "# 2 call the generator\n",
    "sum_of_first_n = sum(firstn(100))\n",
    "print(sum_of_first_n)"
   ]
  },
  {
   "cell_type": "markdown",
   "metadata": {},
   "source": [
    "**Generator can save memory, but Generator can sometimes save time also**\n",
    "\n",
    "*  without Generator: the full list in memory\n",
    "    \n",
    "*  Generator : yields items instead of returning a list as you need\n",
    "    "
   ]
  },
  {
   "cell_type": "markdown",
   "metadata": {},
   "source": [
    " ### Generator expressions\n",
    "    \n",
    "Generator expressions are a list `comprehension-like` syntax that allow us to make a generator object.\n",
    "    \n",
    "  \n",
    "We could create a `generator` instead of a `list,` by turning the square brackets[] of that comprehension into parenthesis{}: \n",
    "\n",
    "* [] : List Comprehension\n",
    "\n",
    "* {} : Generator expressions"
   ]
  },
  {
   "cell_type": "code",
   "execution_count": 3,
   "metadata": {},
   "outputs": [
    {
     "name": "stdout",
     "output_type": "stream",
     "text": [
      "[1, 4, 9, 16, 25, 36]\n"
     ]
    }
   ],
   "source": [
    "L = [x**2 for x in range(1,7)]\n",
    "print(L)"
   ]
  },
  {
   "cell_type": "code",
   "execution_count": 5,
   "metadata": {},
   "outputs": [
    {
     "data": {
      "text/plain": [
       "{1, 4, 9, 16, 25, 36}"
      ]
     },
     "execution_count": 5,
     "metadata": {},
     "output_type": "execute_result"
    }
   ],
   "source": [
    "GL={x**2 for x in range(1,7)}\n",
    "GL"
   ]
  },
  {
   "cell_type": "markdown",
   "metadata": {},
   "source": [
    "## 8.5 Grades and gradeReport\n",
    "\n",
    "As long as we are dealing with students, it would be a shame not to make them suffer through taking classes and getting grades.\n",
    "\n",
    "* The Class `Grades` class is used to keep track of the grades of collection of students.\n",
    "\n",
    "* The Function `gradeReport`  uses class `Grades` to produce a grade report for some students taking a course named `sixHundred`.\n",
    "\n",
    "### 8.5.1 The Class `Grades`\n",
    "\n",
    "*  `self.students: list` [student1,studen2,...] \n",
    "\n",
    "*  `self.grades: dict` {student1.IdNum:[grade1,grade2,...],student2.IdNum:[grade1,grade2,...],...}"
   ]
  },
  {
   "cell_type": "code",
   "execution_count": null,
   "metadata": {},
   "outputs": [],
   "source": [
    "class Grades(object):\n",
    "    \"\"\"A mapping from students to a list of grades\"\"\"\n",
    "\n",
    "    def __init__(self):\n",
    "        \"\"\"Create empty grade book\"\"\"\n",
    "        self.students = []  # list [student1,studen2,...]\n",
    "        # dict {student1.IdNum:[grade1,grade2,...],student2.IdNum:[grade1,grade2,...],...}\n",
    "        self.grades = {}\n",
    "        self.isSorted = True\n",
    "\n",
    "    def addStudent(self, student):\n",
    "        \"\"\"Assumes: student is of type Student\n",
    "           Add student to the grade book\"\"\"\n",
    "        if student in self.students:\n",
    "            raise ValueError('Duplicate student')\n",
    "        self.students.append(student)\n",
    "        self.grades[student.getIdNum()] = []\n",
    "        self.isSorted = False\n",
    "\n",
    "    def addGrade(self, student, grade):\n",
    "        \"\"\"Assumes: grade is a float\n",
    "           Add grade to the list of grades for student\"\"\"\n",
    "        try:\n",
    "            self.grades[student.getIdNum()].append(grade)\n",
    "        except:\n",
    "            raise ValueError('Student not in mapping')\n",
    "\n",
    "    def getGrades(self, student):\n",
    "        \"\"\"Return a list of grades for student\"\"\"\n",
    "        try:  # return copy of student's grades\n",
    "            return self.grades[student.getIdNum()][:]\n",
    "        except:\n",
    "            raise ValueError('Student not in mapping')\n",
    "\n",
    "    def getStudents(self):\n",
    "        \"\"\"Return a list of the students in the grade book\"\"\"\n",
    "        if not self.isSorted:\n",
    "            self.students.sort()\n",
    "            self.isSorted = True\n",
    "\n",
    "        # return copy of list of students\n",
    "        return self.students[:]"
   ]
  },
  {
   "cell_type": "markdown",
   "metadata": {},
   "source": [
    "### 8.5.2 The  Function `gradeReport` \n",
    "\n"
   ]
  },
  {
   "cell_type": "code",
   "execution_count": null,
   "metadata": {},
   "outputs": [],
   "source": [
    "def gradeReport(course):\n",
    "    \"\"\"Assumes course is of type Grades\"\"\"\n",
    "\n",
    "    report = ''\n",
    "    # the data be accessed only through the object's methods. information hiding.\n",
    "    for s in course.getStudents():\n",
    "        tot = 0.0\n",
    "        numGrades = 0\n",
    "        # the data be accessed only through the object's methods. information hiding.\n",
    "        for g in course.getGrades(s):\n",
    "            tot += g\n",
    "            numGrades += 1\n",
    "        try:\n",
    "            average = tot/numGrades\n",
    "            report = (report + '\\n'\n",
    "                      + str(s) + '\\'s mean grade is ' + str(average))\n",
    "        except ZeroDivisionError:\n",
    "            report = (report + '\\n'\n",
    "                      + str(s) + ' has no grades')\n",
    "    return report"
   ]
  },
  {
   "cell_type": "markdown",
   "metadata": {},
   "source": [
    "### 8.5.3 Use class `Grades` to produce a grade report \n",
    "\n",
    "A grade report for some students taking a course named `sixHundred`"
   ]
  },
  {
   "cell_type": "code",
   "execution_count": null,
   "metadata": {},
   "outputs": [],
   "source": [
    "ug1 = UG('Jane Doe', 2014)\n",
    "ug2 = UG('John Doe', 2015)\n",
    "g1 = Grad('Billy Buckner')\n",
    "g2 = Grad('Bucky F. Dent')\n",
    "\n",
    "# 1 creat the course named sixHundred\n",
    "sixHundred = Grades()\n",
    "\n",
    "# 2 some students taking a course named sixHundred\n",
    "sixHundred.addStudent(ug1)\n",
    "sixHundred.addStudent(ug2)\n",
    "sixHundred.addStudent(g1)\n",
    "sixHundred.addStudent(g2)\n",
    "\n",
    "# 3.1 add Grades of students\n",
    "for s in sixHundred.getStudents():\n",
    "    sixHundred.addGrade(s, 75)\n",
    "print('First:',sixHundred.grades)\n",
    "\n",
    "# 3.2 add Grades of students\n",
    "sixHundred.addGrade(g1, 25)\n",
    "sixHundred.addGrade(g2, 100)\n",
    "print('Second:',sixHundred.grades)\n",
    "\n",
    "# 4 add the new student\n",
    "ug3 = UG('David Henry', 2003)\n",
    "sixHundred.addStudent(ug3)\n",
    "print('Third:',sixHundred.grades)\n",
    "\n",
    "# 5  produce a grade report\n",
    "print(gradeReport(sixHundred))"
   ]
  },
  {
   "cell_type": "markdown",
   "metadata": {},
   "source": [
    "#### 1 Information hiding without efficiency:cloning list\n",
    "\n",
    "In the Class `gradeReport` ,the  data be accessed `only` through the Class `Grades` methods\n",
    "```python\n",
    "for s in course.getStudents(): .\n",
    "\n",
    "   for g in course.getGrades(s):\n",
    "\n",
    "```\n",
    "\n",
    "**In the method**\n",
    "\n",
    "```python\n",
    "def getStudents(self):\n",
    "        \"\"\"Return a list of the students in the grade book\"\"\"\n",
    "        if not self.isSorted:\n",
    "            self.students.sort()\n",
    "            self.isSorted = True\n",
    "        \n",
    "        return self.students[:] # return copy of list of students\n",
    "```            \n",
    "\n",
    "You see that **Cloning**:\n",
    "\n",
    "* **self.students[:]**  Creating a **new** list of that size when the list already exists\n",
    "\n",
    "`information hiding` is that `preventing` client programs from `directly` accessing critical data structures leads to a significant **inefficiency**\n",
    "\n",
    "<b style=\"color:blue\">The efficiency of an algorithm  or a computer program :</b>\n",
    "\n",
    "* time: [time complexity](https://en.wikipedia.org/wiki/Time_complexity)\n",
    "\n",
    "  * describes the amount of time it takes to run an algorithm.\n",
    "\n",
    "* memory:[space complexity](https://en.wikipedia.org/wiki/Space_complexity)\n",
    "\n",
    "  * the amount of memory space required to solve an instance of the computational problem as a function of the size of the input.\n",
    "\n",
    "The Information hiding with `cloning` -> `double` memory,`Slicing` -> `high` space complexity ,time complexity\n",
    "\n",
    "**It is a significant inefficiency in the space complexity and inefficiency time complexity**"
   ]
  },
  {
   "cell_type": "code",
   "execution_count": null,
   "metadata": {},
   "outputs": [],
   "source": [
    "course = Grades()\n",
    "for i in range(1000):\n",
    "    course.addStudent(Grad('Julie_'+str(i)))"
   ]
  },
  {
   "cell_type": "code",
   "execution_count": null,
   "metadata": {},
   "outputs": [],
   "source": [
    "%%timeit\n",
    "for s in course.getStudents():\n",
    "     pass "
   ]
  },
  {
   "cell_type": "markdown",
   "metadata": {},
   "source": [
    ">**%%timeit** - cell magic: time the rest of the call line and the body of the cell\n",
    ">  \n",
    "> Furher reading: [Unit6-4-DevTools_timeit.ipynb](./Unit6-4-DevTools_timeit.ipynb)"
   ]
  },
  {
   "cell_type": "markdown",
   "metadata": {},
   "source": [
    "#### 2 Efficiency without information hiding: directly access the instance variable\n",
    "\n",
    "One solution is to abandon the abstraction and allow `gradeReport` to <b>directly access</b> the instance variable `course.students`,but that would `violate` <b>information hiding</b>\n",
    "\n",
    "`directly` access without information hiding -> `none more` memory and computing -> `low` space complexity ,time complexity\n",
    "\n",
    "**It is the efficiency in space complexity and time complexity**"
   ]
  },
  {
   "cell_type": "code",
   "execution_count": null,
   "metadata": {},
   "outputs": [],
   "source": [
    "%%timeit\n",
    "for s in course.students:\n",
    "     pass"
   ]
  },
  {
   "cell_type": "markdown",
   "metadata": {},
   "source": [
    "#### 3 Improve Efficiency with information hiding :  generator\n",
    "\n",
    "The next code replaces the `getStudents` function in class `Grades` \n",
    "\n",
    "with a function that uses a kind of statement we have not yet used: a `yield` statement.\n",
    "\n",
    "```python\n",
    "  return self.students[:]\n",
    "``` \n",
    "\n",
    "to\n",
    "\n",
    "```python\n",
    "  for s in self.students:\n",
    "      yield s\n",
    "```\n",
    "\n",
    "The `generator` version of `getStudents` \n",
    "          \n",
    "```python\n",
    "    def getStudents(self):\n",
    "        \"\"\"Return a list of the students in the grade book\"\"\"\n",
    "        if not self.isSorted:\n",
    "            self.students.sort()\n",
    "            self.isSorted = True\n",
    "        for s in self.students:\n",
    "             yield s\n",
    "```            \n",
    "\n",
    "allows programmers to use:\n",
    "\n",
    "a `for` loop to iterate over the `students` in objects of type `Grades` in the same way to iterate over `list`.\n",
    "\n",
    "\n",
    "```python\n",
    " for s in book.getStudents():\n",
    "    print(s)\n",
    "```\n",
    "`Generating` one value at a time will be `more efficient`, because a `new` list containing the students `will not` be created.\n",
    "\n",
    "information hiding : generator -> `add small memery,yield`  -> low space complexity ,high time complexity\n",
    "\n",
    "**It is efficiency in space complexity and inefficiency in time complexity**"
   ]
  },
  {
   "cell_type": "code",
   "execution_count": null,
   "metadata": {},
   "outputs": [],
   "source": [
    "class Grades(object):\n",
    "    \"\"\"A mapping from students to a list of grades\"\"\"\n",
    "    def __init__(self):\n",
    "        \"\"\"Create empty grade book\"\"\"\n",
    "        self.students = []\n",
    "        self.grades = {}\n",
    "        self.isSorted = True\n",
    "\n",
    "    def addStudent(self, student):\n",
    "        \"\"\"Assumes: student is of type Student\n",
    "           Add student to the grade book\"\"\"\n",
    "        if student in self.students:\n",
    "            raise ValueError('Duplicate student')\n",
    "        self.students.append(student)\n",
    "        self.grades[student.getIdNum()] = []\n",
    "        self.isSorted = False\n",
    "\n",
    "    def addGrade(self, student, grade):\n",
    "        \"\"\"Assumes: grade is a float\n",
    "           Add grade to the list of grades for student\"\"\"\n",
    "        try:\n",
    "            self.grades[student.getIdNum()].append(grade)\n",
    "        except:\n",
    "            raise ValueError('Student not in mapping')\n",
    "\n",
    "    def getGrades(self, student):\n",
    "        \"\"\"Return a list of grades for student\"\"\"\n",
    "        try: #return copy of student's grades\n",
    "            return self.grades[student.getIdNum()][:]\n",
    "        except:\n",
    "            raise ValueError('Student not in mapping')\n",
    "\n",
    "    def getStudents(self):\n",
    "        \"\"\"Return a list of the students in the grade book\"\"\"\n",
    "        if not self.isSorted:\n",
    "            self.students.sort()\n",
    "            self.isSorted = True\n",
    "        \n",
    "        #return copy of list of students\n",
    "        #return self.students[:] \n",
    "        \n",
    "        # the better solution: generator\n",
    "        for s in self.students:\n",
    "            yield s"
   ]
  },
  {
   "cell_type": "code",
   "execution_count": null,
   "metadata": {},
   "outputs": [],
   "source": [
    "course = Grades()\n",
    "for i in range(1000):\n",
    "    course.addStudent(Grad('Julie_'+str(i)))"
   ]
  },
  {
   "cell_type": "code",
   "execution_count": null,
   "metadata": {},
   "outputs": [],
   "source": [
    "%%timeit\n",
    "for s in course.getStudents():\n",
    "     pass "
   ]
  },
  {
   "cell_type": "markdown",
   "metadata": {},
   "source": [
    "## Reference\n",
    "\n",
    "\n",
    "\n",
    "[Python Tutorial: Generators](https://docs.python.org/3/tutorial/classes.html#generators)"
   ]
  },
  {
   "cell_type": "code",
   "execution_count": null,
   "metadata": {},
   "outputs": [],
   "source": []
  }
 ],
 "metadata": {
  "kernelspec": {
   "display_name": "Python 3",
   "language": "python",
   "name": "python3"
  },
  "language_info": {
   "codemirror_mode": {
    "name": "ipython",
    "version": 3
   },
   "file_extension": ".py",
   "mimetype": "text/x-python",
   "name": "python",
   "nbconvert_exporter": "python",
   "pygments_lexer": "ipython3",
   "version": "3.8.0"
  },
  "toc": {
   "base_numbering": 1,
   "nav_menu": {},
   "number_sections": false,
   "sideBar": true,
   "skip_h1_title": false,
   "title_cell": "Table of Contents",
   "title_sidebar": "Contents",
   "toc_cell": false,
   "toc_position": {
    "height": "calc(100% - 180px)",
    "left": "10px",
    "top": "150px",
    "width": "189.2px"
   },
   "toc_section_display": true,
   "toc_window_display": true
  },
  "widgets": {
   "state": {},
   "version": "1.1.2"
  }
 },
 "nbformat": 4,
 "nbformat_minor": 1
}
