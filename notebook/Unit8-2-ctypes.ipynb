{
 "cells": [
  {
   "cell_type": "markdown",
   "metadata": {},
   "source": [
    "# C/C++ Library with Python \n",
    "\n",
    "The advantage of Python is that it is **flexible and easy** to program. The time it takes to setup a new calulation is therefore short. \n",
    "\n",
    "But for certain types of calculations Python (and any other interpreted language) can be **very slow**.\n",
    "\n",
    "Such calculations may be implemented in a compiled language such as C or Fortran."
   ]
  },
  {
   "cell_type": "code",
   "execution_count": null,
   "metadata": {},
   "outputs": [],
   "source": [
    "import seuif97\n",
    "%timeit seuif97.pt2h(15,535)"
   ]
  },
  {
   "cell_type": "code",
   "execution_count": null,
   "metadata": {},
   "outputs": [],
   "source": [
    "from iapws.iapws97 import IAPWS97\n",
    "%timeit IAPWS97(P=16.10,T=535.10).h"
   ]
  },
  {
   "cell_type": "markdown",
   "metadata": {},
   "source": [
    "## 1 ctypes - access the C library\n",
    "\n",
    "**ctypes** is a foreign function library for Python. It provides C compatible data types, and allows calling functions in DLLs or shared libraries. It can be used to wrap these libraries in pure Python.\n",
    "\n",
    "http://docs.python.org/3/library/ctypes.html\n",
    "\n",
    "We need to load the library and set properties such as the functions return and argument types using the **ctypes** package :\n",
    "\n",
    "1. **Loads the library** \n",
    "\n",
    "  **ctypes** exports the **cdll**, and on Windows **windll** objects, for loading dynamic link libraries.\n",
    "\n",
    "   * **cdll.LoadLibrary(name)** : loads the library  which export functions using standard `__cdecl` calling convention\n",
    "   * **windll.LoadLibrary(name)** : loads the library with `__stdcall` calling convention for the function \n",
    "\n",
    "\n",
    "2. **Specifying the required `argument` types:`argtypes`**  \n",
    "  \n",
    "  * It specify the required argument types of functions exported from DLLs by setting the argtypes attribute\n",
    "\n",
    "3. **Return types: `restype`**\n",
    "\n",
    "  * Return typescan be specified by setting the restype attribute of the function object.\n",
    "\n",
    "4. **Function prototypes**\n",
    " \n",
    " * **CFUNCTYPE** \n",
    " \n",
    "   The CFUNCTYPE factory function creates types for callback functions using the normal cdecl calling convention\n",
    "   \n",
    "```python\n",
    "ctypes.CFUNCTYPE(restype, *argtypes, use_errno=False, use_last_error=False)\n",
    "``` \n",
    " * **WINFUNCTYPE**\n",
    "  \n",
    "  Windows only: The returned function prototype creates functions that use the `__stdcall` calling convention\n",
    "```python\n",
    "ctypes.WINFUNCTYPE(restype, *argtypes, use_errno=False, use_last_error=False)\n",
    "```"
   ]
  },
  {
   "cell_type": "markdown",
   "metadata": {},
   "source": [
    "## 2 Call the Shared Library in from Python\n",
    "\n",
    "### 2.1 C Library: libdemodll.dll \n",
    " \n",
    "#### C code \n",
    "calling convention\n",
    "\n",
    "* `__cdecl` :\n",
    "\n",
    "```c\n",
    "int GetNumber(int *v)\n",
    "```\n",
    " \n",
    "* `__stdcall: \n",
    "\n",
    "```c\n",
    "__declspec(dllexport) int __stdcall  GetNumber(int *v)\n",
    "```"
   ]
  },
  {
   "cell_type": "code",
   "execution_count": null,
   "metadata": {},
   "outputs": [],
   "source": [
    "%%file ./demo/src/demodll.c\n",
    "\n",
    "int GetNumber(int *v); \n",
    "\n",
    "//__declspec(dllexport) int __stdcall  GetNumber(int *v); \n",
    "\n",
    "int GetNumber(int *v)\n",
    "{\n",
    "    int temp;\n",
    "\ttemp=*v+1;\n",
    "\t*v=temp;\n",
    "\treturn (*v)+1;\n",
    "}\n"
   ]
  },
  {
   "cell_type": "markdown",
   "metadata": {},
   "source": [
    "#### Build DLL "
   ]
  },
  {
   "cell_type": "code",
   "execution_count": null,
   "metadata": {},
   "outputs": [],
   "source": [
    "!gcc -c -O3 -Wall -fPIC -o ./demo/bin/demodll.o  ./demo/src//demodll.c\n",
    "!gcc -shared -o ./demo/bin/libdemodll.dll  ./demo/bin/demodll.o"
   ]
  },
  {
   "cell_type": "markdown",
   "metadata": {},
   "source": [
    "#### Call libdemodll.dll in C"
   ]
  },
  {
   "cell_type": "code",
   "execution_count": null,
   "metadata": {},
   "outputs": [],
   "source": [
    "%%file ./demo/src/calldemodll.c\n",
    "#include <stdio.h>\n",
    "#include <stdlib.h>\n",
    "\n",
    "int GetNumber(int *v);\n",
    "\n",
    "int main()\n",
    "{\n",
    "    int v=10;\n",
    "    int res=GetNumber(&v); // &v: the  address of the v \n",
    "    printf(\"%d %d\",v,res);\n",
    "\treturn 0;\n",
    "}"
   ]
  },
  {
   "cell_type": "code",
   "execution_count": null,
   "metadata": {},
   "outputs": [],
   "source": [
    "!gcc  -o ./demo/bin/calldemodll  ./demo/src/calldemodll.c -L./demo/bin/ -llibdemodll"
   ]
  },
  {
   "cell_type": "code",
   "execution_count": null,
   "metadata": {},
   "outputs": [],
   "source": [
    "!.\\demo\\bin\\calldemodll"
   ]
  },
  {
   "cell_type": "markdown",
   "metadata": {},
   "source": [
    "### 2.3  C compatible data types\n",
    "\n",
    "**Fundamental data types**\n",
    "\n",
    "ctypes defines a number of primitive C compatible data types:\n",
    "\n",
    "https://docs.python.org/3/library/ctypes.html#fundamental-data-types\n",
    "\n",
    "\n",
    "\n",
    "<table class=\"docutils\" border=\"1\">\n",
    "<colgroup>\n",
    "<col width=\"24%\">\n",
    "<col width=\"46%\">\n",
    "<col width=\"30%\">\n",
    "</colgroup>\n",
    "<thead valign=\"bottom\">\n",
    "<tr class=\"row-odd\"><th class=\"head\">ctypes type</th>\n",
    "<th class=\"head\">C type</th>\n",
    "<th class=\"head\">Python type</th>\n",
    "</tr>\n",
    "</thead>\n",
    "<tbody valign=\"top\">\n",
    "<tr class=\"row-even\"><td><a title=\"ctypes.c_bool\" class=\"reference internal\" href=\"#ctypes.c_bool\"><code class=\"xref py py-class docutils literal notranslate\"><span class=\"pre\">c_bool</span></code></a></td>\n",
    "<td><code class=\"xref c c-type docutils literal notranslate\"><span class=\"pre\">_Bool</span></code></td>\n",
    "<td>bool (1)</td>\n",
    "</tr>\n",
    "<tr class=\"row-odd\"><td><a title=\"ctypes.c_char\" class=\"reference internal\" href=\"#ctypes.c_char\"><code class=\"xref py py-class docutils literal notranslate\"><span class=\"pre\">c_char</span></code></a></td>\n",
    "<td><code class=\"xref c c-type docutils literal notranslate\"><span class=\"pre\">char</span></code></td>\n",
    "<td>1-character bytes object</td>\n",
    "</tr>\n",
    "<tr class=\"row-even\"><td><a title=\"ctypes.c_wchar\" class=\"reference internal\" href=\"#ctypes.c_wchar\"><code class=\"xref py py-class docutils literal notranslate\"><span class=\"pre\">c_wchar</span></code></a></td>\n",
    "<td><code class=\"xref c c-type docutils literal notranslate\"><span class=\"pre\">wchar_t</span></code></td>\n",
    "<td>1-character string</td>\n",
    "</tr>\n",
    "<tr class=\"row-odd\"><td><a title=\"ctypes.c_byte\" class=\"reference internal\" href=\"#ctypes.c_byte\"><code class=\"xref py py-class docutils literal notranslate\"><span class=\"pre\">c_byte</span></code></a></td>\n",
    "<td><code class=\"xref c c-type docutils literal notranslate\"><span class=\"pre\">char</span></code></td>\n",
    "<td>int</td>\n",
    "</tr>\n",
    "<tr class=\"row-even\"><td><a title=\"ctypes.c_ubyte\" class=\"reference internal\" href=\"#ctypes.c_ubyte\"><code class=\"xref py py-class docutils literal notranslate\"><span class=\"pre\">c_ubyte</span></code></a></td>\n",
    "<td><code class=\"xref c c-type docutils literal notranslate\"><span class=\"pre\">unsigned</span> <span class=\"pre\">char</span></code></td>\n",
    "<td>int</td>\n",
    "</tr>\n",
    "<tr class=\"row-odd\"><td><a title=\"ctypes.c_short\" class=\"reference internal\" href=\"#ctypes.c_short\"><code class=\"xref py py-class docutils literal notranslate\"><span class=\"pre\">c_short</span></code></a></td>\n",
    "<td><code class=\"xref c c-type docutils literal notranslate\"><span class=\"pre\">short</span></code></td>\n",
    "<td>int</td>\n",
    "</tr>\n",
    "<tr class=\"row-even\"><td><a title=\"ctypes.c_ushort\" class=\"reference internal\" href=\"#ctypes.c_ushort\"><code class=\"xref py py-class docutils literal notranslate\"><span class=\"pre\">c_ushort</span></code></a></td>\n",
    "<td><code class=\"xref c c-type docutils literal notranslate\"><span class=\"pre\">unsigned</span> <span class=\"pre\">short</span></code></td>\n",
    "<td>int</td>\n",
    "</tr>\n",
    "<tr class=\"row-odd\"><td><a title=\"ctypes.c_int\" class=\"reference internal\" href=\"#ctypes.c_int\"><code class=\"xref py py-class docutils literal notranslate\"><span class=\"pre\">c_int</span></code></a></td>\n",
    "<td><code class=\"xref c c-type docutils literal notranslate\"><span class=\"pre\">int</span></code></td>\n",
    "<td>int</td>\n",
    "</tr>\n",
    "<tr class=\"row-even\"><td><a title=\"ctypes.c_uint\" class=\"reference internal\" href=\"#ctypes.c_uint\"><code class=\"xref py py-class docutils literal notranslate\"><span class=\"pre\">c_uint</span></code></a></td>\n",
    "<td><code class=\"xref c c-type docutils literal notranslate\"><span class=\"pre\">unsigned</span> <span class=\"pre\">int</span></code></td>\n",
    "<td>int</td>\n",
    "</tr>\n",
    "<tr class=\"row-odd\"><td><a title=\"ctypes.c_long\" class=\"reference internal\" href=\"#ctypes.c_long\"><code class=\"xref py py-class docutils literal notranslate\"><span class=\"pre\">c_long</span></code></a></td>\n",
    "<td><code class=\"xref c c-type docutils literal notranslate\"><span class=\"pre\">long</span></code></td>\n",
    "<td>int</td>\n",
    "</tr>\n",
    "<tr class=\"row-even\"><td><a title=\"ctypes.c_ulong\" class=\"reference internal\" href=\"#ctypes.c_ulong\"><code class=\"xref py py-class docutils literal notranslate\"><span class=\"pre\">c_ulong</span></code></a></td>\n",
    "<td><code class=\"xref c c-type docutils literal notranslate\"><span class=\"pre\">unsigned</span> <span class=\"pre\">long</span></code></td>\n",
    "<td>int</td>\n",
    "</tr>\n",
    "<tr class=\"row-odd\"><td><a title=\"ctypes.c_longlong\" class=\"reference internal\" href=\"#ctypes.c_longlong\"><code class=\"xref py py-class docutils literal notranslate\"><span class=\"pre\">c_longlong</span></code></a></td>\n",
    "<td><code class=\"xref c c-type docutils literal notranslate\"><span class=\"pre\">__int64</span></code> or <code class=\"xref c c-type docutils literal notranslate\"><span class=\"pre\">long</span> <span class=\"pre\">long</span></code></td>\n",
    "<td>int</td>\n",
    "</tr>\n",
    "<tr class=\"row-even\"><td><a title=\"ctypes.c_ulonglong\" class=\"reference internal\" href=\"#ctypes.c_ulonglong\"><code class=\"xref py py-class docutils literal notranslate\"><span class=\"pre\">c_ulonglong</span></code></a></td>\n",
    "<td><code class=\"xref c c-type docutils literal notranslate\"><span class=\"pre\">unsigned</span> <span class=\"pre\">__int64</span></code> or\n",
    "<code class=\"xref c c-type docutils literal notranslate\"><span class=\"pre\">unsigned</span> <span class=\"pre\">long</span> <span class=\"pre\">long</span></code></td>\n",
    "<td>int</td>\n",
    "</tr>\n",
    "<tr class=\"row-odd\"><td><a title=\"ctypes.c_size_t\" class=\"reference internal\" href=\"#ctypes.c_size_t\"><code class=\"xref py py-class docutils literal notranslate\"><span class=\"pre\">c_size_t</span></code></a></td>\n",
    "<td><code class=\"xref c c-type docutils literal notranslate\"><span class=\"pre\">size_t</span></code></td>\n",
    "<td>int</td>\n",
    "</tr>\n",
    "<tr class=\"row-even\"><td><a title=\"ctypes.c_ssize_t\" class=\"reference internal\" href=\"#ctypes.c_ssize_t\"><code class=\"xref py py-class docutils literal notranslate\"><span class=\"pre\">c_ssize_t</span></code></a></td>\n",
    "<td><code class=\"xref c c-type docutils literal notranslate\"><span class=\"pre\">ssize_t</span></code> or\n",
    "<code class=\"xref c c-type docutils literal notranslate\"><span class=\"pre\">Py_ssize_t</span></code></td>\n",
    "<td>int</td>\n",
    "</tr>\n",
    "<tr class=\"row-odd\"><td><a title=\"ctypes.c_float\" class=\"reference internal\" href=\"#ctypes.c_float\"><code class=\"xref py py-class docutils literal notranslate\"><span class=\"pre\">c_float</span></code></a></td>\n",
    "<td><code class=\"xref c c-type docutils literal notranslate\"><span class=\"pre\">float</span></code></td>\n",
    "<td>float</td>\n",
    "</tr>\n",
    "<tr class=\"row-even\"><td><a title=\"ctypes.c_double\" class=\"reference internal\" href=\"#ctypes.c_double\"><code class=\"xref py py-class docutils literal notranslate\"><span class=\"pre\">c_double</span></code></a></td>\n",
    "<td><code class=\"xref c c-type docutils literal notranslate\"><span class=\"pre\">double</span></code></td>\n",
    "<td>float</td>\n",
    "</tr>\n",
    "<tr class=\"row-odd\"><td><a title=\"ctypes.c_longdouble\" class=\"reference internal\" href=\"#ctypes.c_longdouble\"><code class=\"xref py py-class docutils literal notranslate\"><span class=\"pre\">c_longdouble</span></code></a></td>\n",
    "<td><code class=\"xref c c-type docutils literal notranslate\"><span class=\"pre\">long</span> <span class=\"pre\">double</span></code></td>\n",
    "<td>float</td>\n",
    "</tr>\n",
    "<tr class=\"row-even\"><td><a title=\"ctypes.c_char_p\" class=\"reference internal\" href=\"#ctypes.c_char_p\"><code class=\"xref py py-class docutils literal notranslate\"><span class=\"pre\">c_char_p</span></code></a></td>\n",
    "<td><code class=\"xref c c-type docutils literal notranslate\"><span class=\"pre\">char</span> <span class=\"pre\">*</span></code> (NUL terminated)</td>\n",
    "<td>bytes object or <code class=\"docutils literal notranslate\"><span class=\"pre\">None</span></code></td>\n",
    "</tr>\n",
    "<tr class=\"row-odd\"><td><a title=\"ctypes.c_wchar_p\" class=\"reference internal\" href=\"#ctypes.c_wchar_p\"><code class=\"xref py py-class docutils literal notranslate\"><span class=\"pre\">c_wchar_p</span></code></a></td>\n",
    "<td><code class=\"xref c c-type docutils literal notranslate\"><span class=\"pre\">wchar_t</span> <span class=\"pre\">*</span></code> (NUL terminated)</td>\n",
    "<td>string or <code class=\"docutils literal notranslate\"><span class=\"pre\">None</span></code></td>\n",
    "</tr>\n",
    "<tr class=\"row-even\"><td><a title=\"ctypes.c_void_p\" class=\"reference internal\" href=\"#ctypes.c_void_p\"><code class=\"xref py py-class docutils literal notranslate\"><span class=\"pre\">c_void_p</span></code></a></td>\n",
    "<td><code class=\"xref c c-type docutils literal notranslate\"><span class=\"pre\">void</span> <span class=\"pre\">*</span></code></td>\n",
    "<td>int or <code class=\"docutils literal notranslate\"><span class=\"pre\">None</span></code></td>\n",
    "</tr>\n",
    "</tbody>\n",
    "</table>\n",
    " \n",
    "All these types can be created by calling them with an optional initializer of the correct type and value:"
   ]
  },
  {
   "cell_type": "code",
   "execution_count": null,
   "metadata": {},
   "outputs": [],
   "source": [
    "from ctypes import *\n",
    "v=c_int(10)\n",
    "print(v)\n",
    "print(v.value)\n",
    "print(pointer(v))"
   ]
  },
  {
   "cell_type": "markdown",
   "metadata": {},
   "source": [
    "###  2.4 Using C compatible data types to Call DLL\n",
    "\n",
    "`cdll` loads libraries which export functions using the `__cdecl` calling convention "
   ]
  },
  {
   "cell_type": "code",
   "execution_count": null,
   "metadata": {},
   "outputs": [],
   "source": [
    "from ctypes import *\n",
    "\n",
    "flib = cdll.LoadLibrary(\"./demo/bin/libdemodll.dll\")\n",
    "\n",
    "# flib = windll.LoadLibrary(\"./demo/bin/libdemodll.dll\")\n",
    "\n",
    "## 1 argtypes,restype\n",
    "flib.GetNumber.restype=c_int\n",
    "flib.GetNumber.argtypes= [POINTER(c_int)]\n",
    "v=c_int(10)\n",
    "pi = pointer(v)\n",
    "print(flib.GetNumber(pi))\n",
    "\n",
    "## 2 Function prototypes\n",
    "prototype = WINFUNCTYPE(c_int,POINTER(c_int))\n",
    "f = prototype((\"GetNumber\", flib),)\n",
    "print(f(pi))\n",
    "\n",
    "## 3 Type conversions\n",
    "f=flib.GetNumber\n",
    "v=c_int(10)\n",
    "print(f(byref(v)))"
   ]
  },
  {
   "cell_type": "markdown",
   "metadata": {},
   "source": [
    "### 2.5  Wrapper the Shared Library to the Python API \n",
    "\n",
    "SEUIF97.dll\n",
    "\n",
    "* `__stdcall` calling convention: **windll, WINFUNCTYPE**\n"
   ]
  },
  {
   "cell_type": "code",
   "execution_count": null,
   "metadata": {},
   "outputs": [],
   "source": [
    "from ctypes import *\n",
    "\n",
    "flib = windll.LoadLibrary('libseuif97.dll')\n",
    "prototype = WINFUNCTYPE(c_double, c_double, c_double, c_int)\n",
    "\n",
    "# ---(p,t) ----------------\n",
    "def pt(p, t, pid):\n",
    "    f = prototype((\"seupt\", flib),)\n",
    "    result = f(p, t, pid)\n",
    "    return result\n",
    "\n",
    "\n",
    "def pt2h(p, t):\n",
    "    f = prototype((\"seupt\", flib),)\n",
    "    result = f(p, t, 4)\n",
    "    return result"
   ]
  },
  {
   "cell_type": "code",
   "execution_count": null,
   "metadata": {},
   "outputs": [],
   "source": [
    "h=pt(16,535,4)\n",
    "h"
   ]
  },
  {
   "cell_type": "markdown",
   "metadata": {},
   "source": [
    "## 3 The Example:  Structure , Arrays \n",
    "\n",
    "The examples show that how to use **C compatible data type** to call functions in DLLs\n",
    "\n",
    "* Structure\n",
    "\n",
    "* Arrays(one/two-dimensional)"
   ]
  },
  {
   "cell_type": "markdown",
   "metadata": {},
   "source": [
    "### 3.1 The Functions in C"
   ]
  },
  {
   "cell_type": "code",
   "execution_count": null,
   "metadata": {},
   "outputs": [],
   "source": [
    "%%file ./demo/src/democtypes.c\n",
    "\n",
    "// 1 Struct\n",
    "typedef struct\n",
    "{\n",
    "    int nNo;\n",
    "    float fValue;\n",
    "} SimpleStruct;\n",
    "\n",
    "__declspec(dllexport)  void __stdcall  TestSimpleStruct(SimpleStruct v,SimpleStruct *res)\n",
    "{\n",
    "  res->fValue= v.fValue+2;\n",
    "  res->nNo=v.nNo+2;\n",
    "  // return res->nNo;\n",
    "}\n",
    "\n",
    "// 2 one-dimensional array :\n",
    "//    return: *narray: ith ,item =i\n",
    "__declspec(dllexport)  void  __stdcall  TestArray1(double *narray,int size)\n",
    "{\n",
    "  for(int i=0; i<size; i++)\n",
    "  {\n",
    "     narray[i]=i;  \n",
    "  }\n",
    "}\n",
    "\n",
    "// 3  two-dimensional array : double **ptr\n",
    "//       return:  2*item\n",
    "__declspec(dllexport)  void  __stdcall  TestArray22(double **ptr,int row, int col)\n",
    "{\n",
    "    int i, j;\n",
    "    for(i=0; i<row; i++)\n",
    "    {\n",
    "        for(j=0; j<col; j++)\n",
    "        {\n",
    "            ptr[i][j]=2*ptr[i][j];\n",
    "        }\n",
    "\t} \n",
    "}"
   ]
  },
  {
   "cell_type": "code",
   "execution_count": null,
   "metadata": {},
   "outputs": [],
   "source": [
    "!gcc -c -O3 -Wall -fPIC -o ./demo/obj/democtypes.o  ./demo/src/democtypes.c\n",
    "!gcc -shared -o ./demo/bin/libdemoctypes.dll ./demo/obj/democtypes.o\n",
    "!del .\\demo\\obj\\democtypes.o"
   ]
  },
  {
   "cell_type": "markdown",
   "metadata": {},
   "source": [
    "### 3.2  using ctypes to call DLL : Structures\n",
    "\n",
    "[Structures](https://docs.python.org/3/library/ctypes.html#structures-and-unions) must derive from the `Structure` base classes which are defined in the `ctypes` module.\n",
    "\n",
    "Each subclass must define a `_fields_` attribute.\n",
    "\n",
    "`_fields_` must be `a list of 2-tuples`, containing a field `name` and a field `type`: \n",
    "\n",
    "```python\n",
    "_fields_=[(a field name,a field `type`)]\n",
    "```"
   ]
  },
  {
   "cell_type": "code",
   "execution_count": null,
   "metadata": {},
   "outputs": [],
   "source": [
    "from ctypes import *\n",
    "\n",
    "flib=windll.LoadLibrary(\"./demo/bin/libdemoctypes.dll\")\n",
    "\n",
    "class SimpStruct(Structure):\n",
    "    _fields_ = [(\"nNo\", c_int),\n",
    "                (\"fValue\", c_float)]\n",
    "\n",
    "#  TestSimpleStruct\n",
    "f1=flib.TestSimpleStruct\n",
    "v = SimpStruct()\n",
    "v.nNo = 16\n",
    "v.fValue = 3.14\n",
    "\n",
    "result = SimpStruct()\n",
    "\n",
    "f1(v,byref(result))\n",
    "\n",
    "print(\"v.fValue =\" ,v.fValue)\n",
    "print(\"result.fValue =\",result.fValue)"
   ]
  },
  {
   "cell_type": "markdown",
   "metadata": {},
   "source": [
    "### 3.3  using ctypes to call DLL :one/two-dimensional Array\n",
    "\n",
    "[Arrays](https://docs.python.org/3/library/ctypes.html#arrays) are sequences, containing a fixed number of instances of the same type.\n",
    "\n",
    "**create array types**\n",
    "\n",
    "The recommended way to `create array types` is by\n",
    "\n",
    "* multiplying a data type with a positive integer:\n",
    "\n",
    "**one-dimensional array**"
   ]
  },
  {
   "cell_type": "code",
   "execution_count": null,
   "metadata": {},
   "outputs": [],
   "source": [
    "# c_double*10\n",
    "narray=(c_double*10)()  \n",
    "print(type(narray))\n",
    "print(narray[2])\n",
    "print(list(narray))"
   ]
  },
  {
   "cell_type": "code",
   "execution_count": null,
   "metadata": {},
   "outputs": [],
   "source": [
    "# c_double*len(list1)\n",
    "list1=[1,2,3]\n",
    "narray=(c_double*len(list1))(*list1)\n",
    "print(narray)\n",
    "print(narray[1])\n",
    "print(list(narray))"
   ]
  },
  {
   "cell_type": "markdown",
   "metadata": {},
   "source": [
    "**two-dimensional array**"
   ]
  },
  {
   "cell_type": "code",
   "execution_count": null,
   "metadata": {},
   "outputs": [],
   "source": [
    "list2=[[1,2,3],[4,5,6]]\n",
    "row=len(list2)\n",
    "col=len(list2[0])\n",
    "indata = (POINTER(c_double) * row)()\n",
    "for i in range(row):\n",
    "    indata[i] =(c_double*col)(*list2[i])\n",
    "    print([indata[i][j] for j in range(col)])"
   ]
  },
  {
   "cell_type": "code",
   "execution_count": null,
   "metadata": {},
   "outputs": [],
   "source": [
    "from ctypes import *\n",
    "\n",
    "flib=windll.LoadLibrary(\"./demo/bin/libdemoctypes.dll\")\n",
    "\n",
    "#  one-dimensional array\n",
    "# create one-dimensional array\n",
    "size=10\n",
    "narray=(c_double*size)()  \n",
    "# using the name of one-dimensional array,non byref\n",
    "# ith ,item =i\n",
    "f=flib.TestArray1\n",
    "f(narray,size)\n",
    "print('one-dimensional array:8th',narray[8])\n",
    "\n",
    "# two-dimensional array\n",
    "# create two-dimensional array: **ptr\n",
    "print(\"two-dimensional array,**ptr\")\n",
    "row=5\n",
    "col=6\n",
    "\n",
    "indata = (POINTER(c_double) * row)()\n",
    "for i in range(row):\n",
    "    # Allocate arrays of double\n",
    "    indata[i] = (c_double * col)()\n",
    "    for j in range(col):\n",
    "        indata[i][j] = i+j\n",
    "    ldata = [indata[i][j] for j in range(col)]\n",
    "    print(ldata)\n",
    "\n",
    "# using the name of two-dimensional array,byref\n",
    "f=flib.TestArray22\n",
    "# 2*item\n",
    "f(byref(indata),row,col)\n",
    "print(\"two-dimensional array,byref\")\n",
    "for i in range(row):\n",
    "    print([indata[i][j] for j in range(col)])  \n"
   ]
  },
  {
   "cell_type": "markdown",
   "metadata": {},
   "source": [
    "## 4 Example: Polynomial Regression Library \n",
    "\n",
    "**Polynomial Regression** \n",
    "\n",
    "https://en.wikipedia.org/wiki/Polynomial_regression\n",
    "    \n",
    "### 4.1   polynomial regression：Matrix form and calculation of estimates\n",
    "\n",
    "**The polynomial regression model**\n",
    "\n",
    "$${\\displaystyle y_{i}\\,=\\,\\beta _{0}+\\beta _{1}x_{i}+\\beta _{2}x_{i}^{2}+\\cdots +\\beta _{m}x_{i}^{m}+\\varepsilon _{i}\\ (i=1,2,\\dots ,n)}$$\n",
    "\n",
    "can be expressed in matrix form in terms of a design matrix ${\\displaystyle \\mathbf {X}}$ , a response vector ${\\displaystyle ${\\vec {y}}}$, a parameter vector ${\\displaystyle {\\vec {\\beta }}}$, and a vector ${\\displaystyle {\\vec {\\varepsilon }}}$ of random errors. \n",
    "\n",
    "The i-th row of ${\\displaystyle \\mathbf {X} }$  and ${\\displaystyle {\\vec {y}}}$ will contain the x and y value for the $i$-th data sample. Then the model can be written as a system of linear equations:\n",
    "\n",
    "$${\\displaystyle {\\begin{bmatrix}y_{1}\\\\y_{2}\\\\y_{3}\\\\\\vdots \\\\y_{n}\\end{bmatrix}}={\\begin{bmatrix}1&x_{1}&x_{1}^{2}&\\dots &x_{1}^{m}\\\\1&x_{2}&x_{2}^{2}&\\dots &x_{2}^{m}\\\\1&x_{3}&x_{3}^{2}&\\dots &x_{3}^{m}\\\\\\vdots &\\vdots &\\vdots &\\ddots &\\vdots \\\\1&x_{n}&x_{n}^{2}&\\dots &x_{n}^{m}\\end{bmatrix}}{\\begin{bmatrix}\\beta _{0}\\\\\\beta _{1}\\\\\\beta _{2}\\\\\\vdots \\\\\\beta _{m}\\end{bmatrix}}+{\\begin{bmatrix}\\varepsilon _{1}\\\\\\varepsilon _{2}\\\\\\varepsilon _{3}\\\\\\vdots \\\\\\varepsilon _{n}\\end{bmatrix}},}$$\n",
    "\n",
    "which when using pure matrix notation is written as\n",
    "$${\\displaystyle {\\vec {y}}=\\mathbf {X} {\\vec {\\beta }}+{\\vec {\\varepsilon }}.\\,}$$\n",
    "\n",
    "The vector of estimated polynomial regression coefficients (using [ordinary least squares estimation](https://en.wikipedia.org/wiki/Estimation)) is\n",
    "\n",
    "$${\\displaystyle {\\widehat {\\vec {\\beta }}}=(\\mathbf {X} ^{\\mathsf {T}}\\mathbf {X} )^{-1}\\;\\mathbf {X} ^{\\mathsf {T}}{\\vec {y}},\\,}$$\n",
    "\n",
    "assuming $m < n$ which is required for the matrix to be invertible; then since ${\\displaystyle \\mathbf {X} }$  is a [Vandermonde matrix](https://en.wikipedia.org/wiki/Vandermonde_matrix), the invertibility condition is guaranteed to hold if all the ${\\displaystyle x_{i}}$ values are distinct. This is the unique **least-squares solution**.\n",
    "\n",
    "#### 4.1.1 C code"
   ]
  },
  {
   "cell_type": "code",
   "execution_count": null,
   "metadata": {},
   "outputs": [],
   "source": [
    "%%file ./demo/src/PolynomialFit.c\n",
    "\n",
    "#include <math.h>\n",
    "\n",
    "void PolynomialFit(double x[], double y[], int size, int n, double a[])\n",
    "{\n",
    "    int i, j, k;\n",
    "    double X[2 * n + 1]; //Array that will store the values of sigma(xi),sigma(xi^2),....sigma(xi^2n)\n",
    "    for (i = 0; i < 2 * n + 1; i++)\n",
    "    {\n",
    "        X[i] = 0;\n",
    "        for (j = 0; j < size; j++)\n",
    "            X[i] = X[i] + pow(x[j], i); //consecutive positions of the array will store N,sigma(xi),sigma(xi^2),....sigma(xi^2n)\n",
    "    }\n",
    "    double B[n + 1][n + 2]; // B is the Normal matrix(augmented) that will store the equations,'a'is for value of the final coefficients\n",
    "    for (i = 0; i <= n; i++)\n",
    "        for (j = 0; j <= n; j++)\n",
    "            B[i][j] = X[i + j]; // Build the Normal matrix by storing the corresponding coefficients at the right positions except the last column of the matrix\n",
    "    double Y[n + 1];            // Array to store the values of sigma(yi),sigma(xi*yi),sigma(xi^2*yi)...sigma(xi^n*yi)\n",
    "    for (i = 0; i < n + 1; i++)\n",
    "    {\n",
    "        Y[i] = 0;\n",
    "        for (j = 0; j < size; j++)\n",
    "            Y[i] = Y[i] + pow(x[j], i) * y[j]; //consecutive positions will store sigma(yi),sigma(xi*yi),sigma(xi^2*yi)...sigma(xi^n*yi)\n",
    "    }\n",
    "    for (i = 0; i <= n; i++)\n",
    "        B[i][n + 1] = Y[i]; // load the values of Y as the last column of B(Normal Matrix but augmented)\n",
    "    n = n + 1;              // n is made n+1 because the Gaussian Elimination part below was for n equations, but here n is the degree of polynomial and for n degree we get n+1 equations\n",
    "    for (i = 0; i < n; i++) // From now Gaussian Elimination starts(can be ignored) to solve the set of linear equations (Pivotisation)\n",
    "        for (k = i + 1; k < n; k++)\n",
    "            if (B[i][i] < B[k][i])\n",
    "                for (j = 0; j <= n; j++)\n",
    "                {\n",
    "                    double temp = B[i][j];\n",
    "                    B[i][j] = B[k][j];\n",
    "                    B[k][j] = temp;\n",
    "                }\n",
    "\n",
    "    for (i = 0; i < n - 1; i++) // loop to perform the gauss elimination\n",
    "        for (k = i + 1; k < n; k++)\n",
    "        {\n",
    "            double t = B[k][i] / B[i][i];\n",
    "            for (j = 0; j <= n; j++)\n",
    "                B[k][j] = B[k][j] - t * B[i][j]; // make the elements below the pivot elements equal to zero or elimnate the variables\n",
    "        }\n",
    "    for (i = n - 1; i >= 0; i--) // back-substitution\n",
    "    {                            // x is an array whose values correspond to the values of x,y,z..\n",
    "        a[i] = B[i][n];          //make the variable to be calculated equal to the rhs of the last equation\n",
    "        for (j = 0; j < n; j++)\n",
    "            if (j != i) //then subtract all the lhs values except the coefficient of the variable whose value                                   is being calculated\n",
    "                a[i] = a[i] - B[i][j] * a[j];\n",
    "        a[i] = a[i] / B[i][i]; // now finally divide the rhs by the coefficient of the variable to be calculated\n",
    "    }\n",
    "};\n"
   ]
  },
  {
   "cell_type": "code",
   "execution_count": null,
   "metadata": {},
   "outputs": [],
   "source": [
    "!gcc -o  ./demo/bin/DemoPolynomialFit ./demo/src/DemoPolynomialFit.c ./demo/src/PolynomialFit.c"
   ]
  },
  {
   "cell_type": "code",
   "execution_count": null,
   "metadata": {},
   "outputs": [],
   "source": [
    "!.\\demo\\bin\\DemoPolynomialFit"
   ]
  },
  {
   "cell_type": "markdown",
   "metadata": {},
   "source": [
    "#### 4.1.2 Build the libPolynomialFit.dll"
   ]
  },
  {
   "cell_type": "code",
   "execution_count": null,
   "metadata": {},
   "outputs": [],
   "source": [
    "!gcc -c -O3 -Wall -fPIC -o ./demo/obj/PolynomialFit.o  ./demo/src/PolynomialFit.c\n",
    "!gcc -shared -o ./demo/bin/libPolynomialFit.dll ./demo/obj/PolynomialFit.o\n",
    "!del .\\demo\\obj\\PolynomialFit.o"
   ]
  },
  {
   "cell_type": "markdown",
   "metadata": {},
   "source": [
    "### 4.2 Call Library in C"
   ]
  },
  {
   "cell_type": "code",
   "execution_count": null,
   "metadata": {},
   "outputs": [],
   "source": [
    "%%file ./demo/data/springData.csv\n",
    "Distance(m),Mass(kg)\n",
    "0.0865,0.1\n",
    "0.1015,0.15\n",
    "0.1106,0.2\n",
    "0.1279,0.25\n",
    "0.1892,0.3\n",
    "0.2695,0.35\n",
    "0.2888,0.4\n",
    "0.2425,0.45\n",
    "0.3465,0.5\n",
    "0.3225,0.55\n",
    "0.3764,0.6\n",
    "0.4263,0.65\n",
    "0.4562,0.7\n",
    "0.4502,0.75\n",
    "0.4499,0.8\n",
    "0.4534,0.85\n",
    "0.4416,0.9\n",
    "0.4304,0.95\n",
    "0.437,1.0"
   ]
  },
  {
   "cell_type": "markdown",
   "metadata": {},
   "source": [
    "#####  `strtok_r()`\n",
    "C provides the functions `strtok_r()` for splitting a string by some delimiter\n",
    "\n",
    "```c\n",
    "char *strtok_r(char *str, const char *delim, char **saveptr);\n",
    "```\n",
    "\n",
    "*  The third argument `saveptr` is a pointer to a `char *` variable that is used internally by `strtok_r()` in  order to maintain context between `successive calls`\n",
    "\n",
    "* On the `first` call to `strtok_r()`, `str` should point to `the string to be parsed`, and the value of `saveptr` is ignored.\n",
    "\n",
    "* In `subsequent calls`, `str` should be `NULL`, and `saveptr` should be unchanged since the previous call.\n"
   ]
  },
  {
   "cell_type": "code",
   "execution_count": 1,
   "metadata": {},
   "outputs": [
    {
     "name": "stdout",
     "output_type": "stream",
     "text": [
      "Overwriting ./demo/src/DemoPolynomialFit.c\n"
     ]
    }
   ],
   "source": [
    "%%file ./demo/src/DemoPolynomialFit.c\n",
    "/*\n",
    "   The Demo of Simple PolynomialFit \n",
    "*/\n",
    "\n",
    "#include <stdio.h>\n",
    "#include <string.h>\n",
    "#include <stdlib.h>\n",
    "\n",
    "void PolynomialFit(double x[], double y[], int size, int n, double a[]);\n",
    "\n",
    "int main()\n",
    "{\n",
    "\n",
    "   int size = 19;\n",
    "   double distances[size];\n",
    "   double forces[size];\n",
    "\n",
    "   FILE *fp = fopen(\"./demo/data/springData.csv\", \"r\");\n",
    "   if (fp == NULL)\n",
    "   {\n",
    "      fprintf(stderr, \"failed to open file for reading\\n\");\n",
    "      return 1;\n",
    "   }\n",
    "\n",
    "   char line[1024];\n",
    "   fgets(line, sizeof(line), fp);\n",
    "   int i = 0;\n",
    "   while (fgets(line, sizeof(line), fp))\n",
    "   {\n",
    "      char *save_ptr;\n",
    "      // The first call to strtok_r(), str point to the string to be parsed\" line\n",
    "      char *d = strtok_r(line, \",\", &save_ptr);\n",
    "      // In subsequent calls, str is NULL, and saveptr is unchanged since the previous call.\n",
    "      char *m = strtok_r(NULL, \",\", &save_ptr);\n",
    "      distances[i] = atof(d);\n",
    "      forces[i] = atof(m) * 9.81;\n",
    "      i++;\n",
    "   };\n",
    "   fclose(fp);\n",
    "\n",
    "   int n = 1; // n is the degree of Polynomial\n",
    "   double a[n + 1];\n",
    "   PolynomialFit(forces, distances, size - 6, n, a);\n",
    "   printf(\" PolynomialFit: k = %.6f\", 1 / a[1]);\n",
    "   return 0;\n",
    "}"
   ]
  },
  {
   "cell_type": "code",
   "execution_count": 2,
   "metadata": {},
   "outputs": [],
   "source": [
    "!gcc -o  ./demo/bin/DemoPolynomialFit ./demo/src/DemoPolynomialFit.c -L./demo/bin/ -lPolynomialFit"
   ]
  },
  {
   "cell_type": "code",
   "execution_count": 3,
   "metadata": {},
   "outputs": [
    {
     "name": "stdout",
     "output_type": "stream",
     "text": [
      " PolynomialFit: k = 15.453365\n"
     ]
    }
   ],
   "source": [
    "!.\\demo\\bin\\DemoPolynomialFit"
   ]
  },
  {
   "cell_type": "markdown",
   "metadata": {},
   "source": [
    "### 4.3 Call in Python\n",
    "\n",
    "[UNDERSTANDING_EXPERIMENTAL_DATA:The Behavior of Springs](Unit2-3-UNDERSTANDING_EXPERIMENTAL_DATA.ipynb)"
   ]
  },
  {
   "cell_type": "code",
   "execution_count": null,
   "metadata": {},
   "outputs": [],
   "source": [
    "import numpy as np\n",
    "from ctypes import *\n",
    "\n",
    "\n",
    "def getData(fileName):\n",
    "    dataFile = open(fileName, 'r')\n",
    "    distances = []\n",
    "    forces = []\n",
    "    discardHeader = dataFile.readline() # Distance(m),Mass(kg)\n",
    "    for line in dataFile:\n",
    "        d, m = line.split(',')\n",
    "        distances.append(float(d))\n",
    "        forces.append(float(m)*9.81) # m*9.81 -> force\n",
    "    dataFile.close()\n",
    "    return (forces, distances)\n",
    "\n",
    "inputFile='./demo/data/springData.csv'\n",
    "forces, distances = getData(inputFile)\n",
    "\n",
    "forces=forces[:-6]\n",
    "distances=distances[:-6]\n",
    "\n",
    "# call the PolynomialFit Library by ctypes\n",
    "flib=cdll.LoadLibrary(\"./demo/bin/libPolynomialFit.dll\")\n",
    "size=len(forces)\n",
    "y=(c_double*size)(*distances)\n",
    "x=(c_double*size)(*forces)\n",
    "n=1\n",
    "c=(c_double*(n+1))()\n",
    "flib.PolynomialFit(byref(x), byref(y), size, n, byref(c));\n",
    "\n",
    "print(\"Linear Fit:\")\n",
    "print(\"\\tPolynomialFit:k =\",1/c[1]);\n",
    "# np.polyfit\n",
    "a,b= np.polyfit(forces,distances, 1)    \n",
    "print(\"\\tnp.polyfit: k =\",1/a);\n"
   ]
  },
  {
   "cell_type": "markdown",
   "metadata": {},
   "source": [
    "## Reference\n",
    "\n",
    "Python ctypes http://docs.python.org/3/library/ctypes.html\n",
    "\n"
   ]
  }
 ],
 "metadata": {
  "kernelspec": {
   "display_name": "Python 3",
   "language": "python",
   "name": "python3"
  },
  "language_info": {
   "codemirror_mode": {
    "name": "ipython",
    "version": 3
   },
   "file_extension": ".py",
   "mimetype": "text/x-python",
   "name": "python",
   "nbconvert_exporter": "python",
   "pygments_lexer": "ipython3",
   "version": "3.7.0"
  },
  "toc": {
   "base_numbering": 1,
   "nav_menu": {},
   "number_sections": false,
   "sideBar": true,
   "skip_h1_title": false,
   "title_cell": "Table of Contents",
   "title_sidebar": "Contents",
   "toc_cell": false,
   "toc_position": {},
   "toc_section_display": true,
   "toc_window_display": true
  },
  "widgets": {
   "state": {},
   "version": "1.1.2"
  }
 },
 "nbformat": 4,
 "nbformat_minor": 1
}
