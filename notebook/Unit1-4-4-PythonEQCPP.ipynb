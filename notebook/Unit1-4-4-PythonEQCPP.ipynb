{
 "cells": [
  {
   "cell_type": "markdown",
   "metadata": {},
   "source": [
    "# Supplementary： C++ Equivalent of Python Tuple，List,Dict\n",
    "\n",
    "## Tuple\n",
    "\n",
    "Python has had tuples pretty much since the beginning. \n",
    "\n",
    "C++ added tuples to the standard library in `C++11`. The proposal even mentions Python as an inspiration:"
   ]
  },
  {
   "cell_type": "code",
   "execution_count": 2,
   "metadata": {},
   "outputs": [
    {
     "name": "stdout",
     "output_type": "stream",
     "text": [
      "Overwriting ./demo/src/tuple.cpp\n"
     ]
    }
   ],
   "source": [
    "%%file ./demo/src/tuple.cpp\n",
    "#include <string>\n",
    "#include <iostream>\n",
    "#include <tuple>\n",
    "\n",
    "using namespace std;\n",
    "\n",
    "int main()\n",
    "{\n",
    "  auto triple = make_tuple(100, 200);\n",
    "  int x,y;\n",
    "  cout << get<0>(triple)<<\" \"<<get<1>(triple)<<endl;\n",
    "  // Python lets you unpack a tuple into separate variables:\n",
    "  // x, y = triple\n",
    "  tie(x, y) = triple;\n",
    "  cout <<x<<\" \"<<y<<endl;\n",
    "  return 0;\n",
    "}"
   ]
  },
  {
   "cell_type": "code",
   "execution_count": 3,
   "metadata": {},
   "outputs": [],
   "source": [
    "!g++ -std=c++11  -o ./demo/bin/tuple ./demo/src/tuple.cpp"
   ]
  },
  {
   "cell_type": "code",
   "execution_count": 4,
   "metadata": {},
   "outputs": [
    {
     "name": "stdout",
     "output_type": "stream",
     "text": [
      "100 200\n",
      "100 200\n"
     ]
    }
   ],
   "source": [
    "!.\\demo\\bin\\tuple"
   ]
  },
  {
   "cell_type": "markdown",
   "metadata": {},
   "source": [
    "## List \n",
    "\n",
    "`std::vectors`, `std::lists`, and `std::arrays` all have features similar to Python lists. Which data structure you want to choose depends on your requirements."
   ]
  },
  {
   "cell_type": "code",
   "execution_count": 5,
   "metadata": {},
   "outputs": [
    {
     "name": "stdout",
     "output_type": "stream",
     "text": [
      "Writing ./demo/src/vector.cpp\n"
     ]
    }
   ],
   "source": [
    "%%file ./demo/src/vector.cpp\n",
    "#include <iostream>\n",
    "#include <vector>\n",
    "\n",
    "using namespace std;\n",
    "\n",
    "int main()\n",
    "{\n",
    "    vector<int> myList;\n",
    "    for(int i = 0; i < 10; i++)\n",
    "        myList.push_back(i);\n",
    "    cout <<myList[2]<<endl; \n",
    "    \n",
    "    for (const int& item : myList)\n",
    "    {\n",
    "        cout << item << \" \";\n",
    "    }\n",
    "    cout << endl;\n",
    "}"
   ]
  },
  {
   "cell_type": "code",
   "execution_count": 6,
   "metadata": {},
   "outputs": [],
   "source": [
    "!g++ -std=c++11  -o ./demo/bin/vector ./demo/src/vector.cpp"
   ]
  },
  {
   "cell_type": "code",
   "execution_count": 7,
   "metadata": {},
   "outputs": [
    {
     "name": "stdout",
     "output_type": "stream",
     "text": [
      "2\n",
      "0 1 2 3 4 5 6 7 8 9 \n"
     ]
    }
   ],
   "source": [
    "!.\\demo\\bin\\vector"
   ]
  },
  {
   "cell_type": "markdown",
   "metadata": {},
   "source": [
    "## Dictionaries\n",
    "\n",
    "The closest match in `C++` would be an `std::unordered_map<key type, value type>`. This is a` hash` table mapping keys to values.\n",
    "\n",
    "#### C++11"
   ]
  },
  {
   "cell_type": "code",
   "execution_count": null,
   "metadata": {},
   "outputs": [],
   "source": [
    "%%file ./demo/src/dict.cpp\n",
    "#include <string>\n",
    "#include <iostream>\n",
    "#include <unordered_map>\n",
    "\n",
    "using namespace std;\n",
    "\n",
    "int main()\n",
    "{\n",
    "   unordered_map<string, int> dishes = {{\"eggs\",  2}, {\"sausage\", 1},{ \"bacon\", 1 }, {\"spam\", 500}};\n",
    "   cout << dishes[\"eggs\"] << endl; \n",
    "   typedef unordered_map<string,int> dictstrint;\n",
    "   for(  dictstrint::iterator it= dishes.begin();it!= dishes.end();it++ ){\n",
    "        cout<<\"key = \"<<it->first<<\" value = \"<<it->second<<endl;\n",
    "   }\n",
    "   return 0; \n",
    "}"
   ]
  },
  {
   "cell_type": "code",
   "execution_count": null,
   "metadata": {},
   "outputs": [],
   "source": [
    "!g++ -std=c++11 -o  ./demo/bin/dict ./demo/src/dict.cpp"
   ]
  },
  {
   "cell_type": "code",
   "execution_count": null,
   "metadata": {},
   "outputs": [],
   "source": [
    "!.\\demo\\bin\\dict"
   ]
  },
  {
   "cell_type": "markdown",
   "metadata": {},
   "source": [
    "##### C++17 any"
   ]
  },
  {
   "cell_type": "code",
   "execution_count": 4,
   "metadata": {},
   "outputs": [
    {
     "name": "stdout",
     "output_type": "stream",
     "text": [
      "Overwriting ./demo/src/dictany.cpp\n"
     ]
    }
   ],
   "source": [
    "%%file ./demo/src/dictany.cpp\n",
    "#include <string>\n",
    "#include <iostream>\n",
    "#include <unordered_map>\n",
    "#include <any>\n",
    "\n",
    "using namespace std;\n",
    "\n",
    "int main()\n",
    "{\n",
    "   unordered_map<string, any> student = {{\"name\", \"zhangshan\"}, {\"age\", 20}};\n",
    "   cout << any_cast<const char *>(student[\"name\"]) << endl;\n",
    "   cout << any_cast<int>(student[\"age\"]) << endl;\n",
    "   return 0;\n",
    "}\n"
   ]
  },
  {
   "cell_type": "code",
   "execution_count": 2,
   "metadata": {},
   "outputs": [],
   "source": [
    "!g++ -std=c++17 -o  ./demo/bin/dictany ./demo/src/dictany.cpp"
   ]
  },
  {
   "cell_type": "code",
   "execution_count": 3,
   "metadata": {},
   "outputs": [
    {
     "name": "stdout",
     "output_type": "stream",
     "text": [
      "zhangshan\n",
      "20\n"
     ]
    }
   ],
   "source": [
    "!.\\demo\\bin\\dictany"
   ]
  }
 ],
 "metadata": {
  "kernelspec": {
   "display_name": "Python 3",
   "language": "python",
   "name": "python3"
  },
  "language_info": {
   "codemirror_mode": {
    "name": "ipython",
    "version": 3
   },
   "file_extension": ".py",
   "mimetype": "text/x-python",
   "name": "python",
   "nbconvert_exporter": "python",
   "pygments_lexer": "ipython3",
   "version": "3.7.0"
  }
 },
 "nbformat": 4,
 "nbformat_minor": 2
}
