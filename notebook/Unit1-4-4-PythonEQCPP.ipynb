{
 "cells": [
  {
   "cell_type": "markdown",
   "metadata": {},
   "source": [
    "# C++ Equivalent of Python Tuple，List,Dict\n",
    "\n",
    "## Tuple\n",
    "\n",
    "Python has had tuples pretty much since the beginning. \n",
    "\n",
    "C++ added tuples to the standard library in `C++11`. The proposal even mentions Python as an inspiration:"
   ]
  },
  {
   "cell_type": "code",
   "execution_count": null,
   "metadata": {},
   "outputs": [],
   "source": [
    "%%file ./demo/src/tuple.cpp\n",
    "#include <string>\n",
    "#include <iostream>\n",
    "#include <tuple>\n",
    "\n",
    "using namespace std;\n",
    "\n",
    "int main()\n",
    "{\n",
    "  tuple<int,float,long> tup{1,2.0,3};\n",
    "  cout << get<0>(tup)<<\" \"<<get<1>(tup)<<endl;\n",
    "  // C++17, decompose a tuple into individual vars\n",
    "  auto [a, b, c] = tup;\n",
    "  std::cout << a << \", \" << b << \", \" << c << \"\\n\";\n",
    "  return 0;\n",
    "}"
   ]
  },
  {
   "cell_type": "code",
   "execution_count": null,
   "metadata": {},
   "outputs": [],
   "source": [
    "!g++ -std=c++17  -o ./demo/bin/tuple ./demo/src/tuple.cpp"
   ]
  },
  {
   "cell_type": "code",
   "execution_count": null,
   "metadata": {},
   "outputs": [],
   "source": [
    "!.\\demo\\bin\\tuple"
   ]
  },
  {
   "cell_type": "markdown",
   "metadata": {},
   "source": [
    "## List \n",
    "\n",
    "`std::vectors`, `std::lists`, and `std::arrays` all have features similar to Python lists. Which data structure you want to choose depends on your requirements."
   ]
  },
  {
   "cell_type": "code",
   "execution_count": null,
   "metadata": {},
   "outputs": [],
   "source": [
    "%%file ./demo/src/vector.cpp\n",
    "#include <iostream>\n",
    "#include <vector>\n",
    "\n",
    "using namespace std;\n",
    "\n",
    "int main()\n",
    "{\n",
    "    vector<int> myList;\n",
    "    for(int i = 0; i < 10; i++)\n",
    "        myList.push_back(i);\n",
    "    cout <<myList[2]<<endl; \n",
    "    \n",
    "    for (const int& item : myList)\n",
    "    {\n",
    "        cout << item << \" \";\n",
    "    }\n",
    "    cout << endl;\n",
    "}"
   ]
  },
  {
   "cell_type": "code",
   "execution_count": null,
   "metadata": {},
   "outputs": [],
   "source": [
    "!g++ -std=c++11  -o ./demo/bin/vector ./demo/src/vector.cpp"
   ]
  },
  {
   "cell_type": "code",
   "execution_count": null,
   "metadata": {},
   "outputs": [],
   "source": [
    "!.\\demo\\bin\\vector"
   ]
  },
  {
   "cell_type": "markdown",
   "metadata": {},
   "source": [
    "## Dictionaries\n",
    "\n",
    "The closest match in `C++` would be an `std::unordered_map<key type, value type>`. This is a` hash` table mapping keys to values.\n",
    "\n",
    "#### C++11"
   ]
  },
  {
   "cell_type": "code",
   "execution_count": null,
   "metadata": {},
   "outputs": [],
   "source": [
    "%%file ./demo/src/dict.cpp\n",
    "#include <string>\n",
    "#include <iostream>\n",
    "#include <unordered_map>\n",
    "\n",
    "using namespace std;\n",
    "\n",
    "int main()\n",
    "{\n",
    "   unordered_map<string, int> dishes = {{\"eggs\",  2}, {\"sausage\", 1},{ \"bacon\", 1 }, {\"spam\", 500}};\n",
    "   cout << dishes[\"eggs\"] << endl; \n",
    "   typedef unordered_map<string,int> dictstrint;\n",
    "   for(  dictstrint::iterator it= dishes.begin();it!= dishes.end();it++ ){\n",
    "        cout<<\"key = \"<<it->first<<\" value = \"<<it->second<<endl;\n",
    "   }\n",
    "   return 0; \n",
    "}"
   ]
  },
  {
   "cell_type": "code",
   "execution_count": null,
   "metadata": {},
   "outputs": [],
   "source": [
    "!g++ -std=c++11 -o  ./demo/bin/dict ./demo/src/dict.cpp"
   ]
  },
  {
   "cell_type": "code",
   "execution_count": null,
   "metadata": {},
   "outputs": [],
   "source": [
    "!.\\demo\\bin\\dict"
   ]
  },
  {
   "cell_type": "markdown",
   "metadata": {},
   "source": [
    "##### C++17 any"
   ]
  },
  {
   "cell_type": "code",
   "execution_count": null,
   "metadata": {},
   "outputs": [],
   "source": [
    "%%file ./demo/src/dictany.cpp\n",
    "#include <string>\n",
    "#include <iostream>\n",
    "#include <unordered_map>\n",
    "#include <any>\n",
    "\n",
    "using namespace std;\n",
    "\n",
    "int main()\n",
    "{\n",
    "   unordered_map<string, any> student = {{\"name\", \"zhangshan\"}, {\"age\", 20}};\n",
    "   cout << any_cast<const char *>(student[\"name\"]) << endl;\n",
    "   cout << any_cast<int>(student[\"age\"]) << endl;\n",
    "   return 0;\n",
    "}\n"
   ]
  },
  {
   "cell_type": "code",
   "execution_count": null,
   "metadata": {},
   "outputs": [],
   "source": [
    "!g++ -std=c++17 -o  ./demo/bin/dictany ./demo/src/dictany.cpp"
   ]
  },
  {
   "cell_type": "code",
   "execution_count": null,
   "metadata": {},
   "outputs": [],
   "source": [
    "!.\\demo\\bin\\dictany"
   ]
  },
  {
   "cell_type": "markdown",
   "metadata": {},
   "source": [
    "## Reference\n",
    "\n",
    "Ivor Horton,Peter Van Weert: Beginning C++17:From Novice to Professional(Fifth Edition),Ivor Horton and Peter Van Weert,,2018 \n",
    "\n",
    "* Code: https://github.com/Apress/beg-cplusplus17"
   ]
  },
  {
   "cell_type": "code",
   "execution_count": null,
   "metadata": {},
   "outputs": [],
   "source": []
  }
 ],
 "metadata": {
  "kernelspec": {
   "display_name": "Python 3",
   "language": "python",
   "name": "python3"
  },
  "language_info": {
   "codemirror_mode": {
    "name": "ipython",
    "version": 3
   },
   "file_extension": ".py",
   "mimetype": "text/x-python",
   "name": "python",
   "nbconvert_exporter": "python",
   "pygments_lexer": "ipython3",
   "version": "3.7.0"
  }
 },
 "nbformat": 4,
 "nbformat_minor": 2
}