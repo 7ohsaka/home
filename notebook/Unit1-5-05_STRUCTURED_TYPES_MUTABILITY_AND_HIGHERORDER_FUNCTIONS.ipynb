{
 "cells": [
  {
   "cell_type": "markdown",
   "metadata": {},
   "source": [
    "# 5 STRUCTURED TYPES, MUTABILITY, AND HIGHERORDER FUNCTIONS\n",
    "\n",
    "The programs we have looked at thus far have dealt with three types of objects: `int,float, and str`. \n",
    "\n",
    "The numeric types `int` and `float` are scalar(标量) types. That is to say, objects of these types have `no accessible internal structure`. \n",
    "\n",
    "In contrast, `str` can be thought of as a `structured, or non-scalar`, type. One can use indexing to extract individual characters from a string and slicing to extract substrings.\n",
    "\n",
    "In this chapter, we introduce `four additional structured types`. \n",
    "\n",
    "* One, <b style=\"color:blue\">tuple</b>(元组）, is a rather simple generalization of `str`. \n",
    "\n",
    "* The other three—<b style=\"color:blue\">list</b>(列表）\n",
    "\n",
    "* **range**</b>   and \n",
    "\n",
    "* <b style=\"color:blue\">dict</b>(字典） —are more **interesting**. \n",
    "\n",
    "We also return to the topic of <b style=\"color:blue\">functions</b> with some examples that illustrate the utility of being able to treat functions in the same way as other types of objects."
   ]
  },
  {
   "cell_type": "markdown",
   "metadata": {},
   "source": [
    "## 5.1 Tuples\n",
    "\n",
    "Like `strings`, tuples are <b style=\"color:blue\">immutable ordered sequences</b> of elements. \n",
    "\n",
    "The difference is that the elements of a tuple need <b style=\"color:blue\">not be characters</b>. The individual elements can be of\n",
    "<b style=\"color:blue\">any type</b>, and need <b style=\"color:blue\">not be of the same type</b> as each other\n",
    "\n",
    "\n",
    "Literals of type `tuple` are written by enclosing a <b style=\"color:blue\">comma-separated ,</b> list of elements <b style=\"color:blue\">within parentheses( )</b>"
   ]
  },
  {
   "cell_type": "code",
   "execution_count": null,
   "metadata": {
    "scrolled": true
   },
   "outputs": [],
   "source": [
    "t1 = () # empty tuple\n",
    "\n",
    "t2 = (1, 'two', 3) #  1 any type; 2 not be of the same type as each other.\n",
    "student=('Name',22)\n",
    "print(t1)\n",
    "print(t2)\n",
    "print(student)"
   ]
  },
  {
   "cell_type": "markdown",
   "metadata": {
    "collapsed": true
   },
   "source": [
    "Looking at this example, you might naturally be led to believe that the tuple containing the `single value 1` would be written `(1)`. But, to quote [Richard Nixon](https://en.wikipedia.org/wiki/Richard_Nixon), “that would be wrong.”\n",
    "\n",
    "Since parentheses`( )` are used to `group expressions`,<b  style=\"color:blue\">(1)</b> is `merely` a verbose way to write the `integer 1`. \n"
   ]
  },
  {
   "cell_type": "code",
   "execution_count": null,
   "metadata": {},
   "outputs": [],
   "source": [
    "a=(1)\n",
    "a"
   ]
  },
  {
   "cell_type": "code",
   "execution_count": null,
   "metadata": {},
   "outputs": [],
   "source": [
    "b=(a+2)\n",
    "b"
   ]
  },
  {
   "cell_type": "markdown",
   "metadata": {},
   "source": [
    "To denote <b  style=\"color:blue\">the singleton tuple</b> containing this value, we write <strong  style=\"color:red\">(1 ,)</strong>\n",
    "\n",
    "#### Almost everybody who uses Python has at one time or another accidentally omitted that annoying `comma`."
   ]
  },
  {
   "cell_type": "code",
   "execution_count": null,
   "metadata": {},
   "outputs": [],
   "source": [
    "only1=('10+1')\n",
    "\n",
    "tsingleton=('10+1',)  # comma-separated \n",
    "\n",
    "print(only1)\n",
    "print(type(only1))\n",
    "\n",
    "print('\\nThe singleton tuple containing this value')\n",
    "print(tsingleton)\n",
    "print(type(tsingleton))"
   ]
  },
  {
   "cell_type": "markdown",
   "metadata": {},
   "source": [
    "**Repetition** can be used on tuples. For example, the expression `3*('a', 2)` evaluates to `('a', 2, 'a', 2, 'a', 2).`"
   ]
  },
  {
   "cell_type": "code",
   "execution_count": null,
   "metadata": {},
   "outputs": [],
   "source": [
    "3*('a', 2)"
   ]
  },
  {
   "cell_type": "markdown",
   "metadata": {},
   "source": [
    "<b>Like string</b> ,Tuples can be <b style=\"color:blue\">concatenated</b>, <b style=\"color:blue\">indexed</b>, and <b style=\"color:blue\">sliced</b>.(indexing <strong style=\"color:blue\">starts at 0</strong>)"
   ]
  },
  {
   "cell_type": "code",
   "execution_count": null,
   "metadata": {},
   "outputs": [],
   "source": [
    "t1 = (1, 'two', 3)\n",
    "\n",
    "t2 = (t1, 3.25)   #  any type,tuples can contain tuples\n",
    "\n",
    "print('t2=',t2)\n",
    "\n",
    "print('t1+t2=',t1 + t2)  # + concatenated\n",
    "\n",
    "print('(t1 + t2)[3]=',(t1 + t2)[3]) # [3] indexed tuple :as always in Python, indexing starts at 0\n",
    "\n",
    "print('(t1 + t2)[2:5]=',(t1 + t2)[2:5]) # [2:5] sliced"
   ]
  },
  {
   "cell_type": "markdown",
   "metadata": {},
   "source": [
    "The second assignment statement binds the name t2 to a tuple that contains the tuple to which t1 is bound and the floating point number 3.25. This is possible because a tuple, like everything else in Python, is an object, so tuples can contain tuples.\n",
    "Therefore, the first print statement produces the output,\n",
    "```python\n",
    "((1, 'two', 3), 3.25)\n",
    "```\n",
    "\n",
    "The second print statement prints the value generated by concatenating the values bound to t1 and t2, which is a tuple with five elements. It produces the output\n",
    "```python\n",
    "(1, 'two', 3, (1, 'two', 3), 3.25)\n",
    "```\n",
    "The next statement selects and prints the fourth element of the concatenated tuple (as `always` in Python, `indexing starts at 0`), and the statement after that creates and prints a slice of that tuple, producing the output\n",
    "```python\n",
    "(1, 'two', 3)\n",
    "(3, (1, 'two', 3), 3.25)\n",
    "```"
   ]
  },
  {
   "cell_type": "markdown",
   "metadata": {},
   "source": [
    "A <b  style=\"color:blue\">for</b> statement can be used to <b style=\"color:blue\">iterate over the elements</b> of a `tuple`."
   ]
  },
  {
   "cell_type": "code",
   "execution_count": null,
   "metadata": {},
   "outputs": [],
   "source": [
    "t1 = (1, 'two', 3)\n",
    "for e in t1:\n",
    "    print(e) "
   ]
  },
  {
   "cell_type": "code",
   "execution_count": null,
   "metadata": {},
   "outputs": [],
   "source": [
    "def intersect(t1, t2):\n",
    "    \"\"\"Assumes t1 and t2 are tuples\n",
    "        Returns a tuple containing elements that are in\n",
    "        both t1 and t2\"\"\"\n",
    "    result = ()\n",
    "    for e in t1:\n",
    "        if e in t2:\n",
    "            result += (e,)\n",
    "    return result\n",
    "\n",
    "t1 = (1, 'two', 3)\n",
    "t2 = (1,2)\n",
    "result=intersect(t1, t2)\n",
    "print(result)"
   ]
  },
  {
   "cell_type": "code",
   "execution_count": null,
   "metadata": {},
   "outputs": [],
   "source": [
    "def findDivisors (n1, n2):\n",
    "    \"\"\"Assumes that n1 and n2 are positive ints\n",
    "       Returns a tuple containing all common divisors(公约数) of n1 & n2\"\"\"\n",
    "    \n",
    "    divisors = () #the empty tuple\n",
    "    \n",
    "    for i in range(1, min (n1, n2) + 1):\n",
    "        if n1%i == 0 and n2%i == 0:      # common divisors\n",
    "            divisors = divisors + (i,)  # Note：1) comma-（i,)-Tuple; 2) +  concatenated \n",
    "    \n",
    "    return divisors\n",
    "\n",
    "divisors = findDivisors(20, 100)\n",
    "print('common divisors:',divisors)\n",
    "\n",
    "total = 0\n",
    "#  iterate over the elements of a tuple :in \n",
    "for d  in  divisors:\n",
    "    total += d \n",
    "\n",
    "print('sum: ',total)"
   ]
  },
  {
   "cell_type": "markdown",
   "metadata": {},
   "source": [
    "##### Further reading: operate on tuples\n",
    "\n",
    "You can operate on tuples using (supposing that tup is a tuple):\n",
    "    \n",
    "* built-in functions such as len(tup);\n",
    "\n",
    "* built-in functions for tuple of numbers such as max(tup), min(tup) and sum(tup)\n",
    "\n",
    "Tuple methods: \n",
    "\n",
    "* count(e) : counts the number of occurrences of a value e\n",
    "\n",
    "* index(e): return the index of the first  occurrences of e in tup,or error"
   ]
  },
  {
   "cell_type": "code",
   "execution_count": null,
   "metadata": {},
   "outputs": [],
   "source": [
    "tup=(1,2,2,3)\n",
    "len(tup)"
   ]
  },
  {
   "cell_type": "code",
   "execution_count": null,
   "metadata": {},
   "outputs": [],
   "source": [
    "max(tup), min(tup), sum(tup)"
   ]
  },
  {
   "cell_type": "code",
   "execution_count": null,
   "metadata": {},
   "outputs": [],
   "source": [
    "tup.count(2)"
   ]
  },
  {
   "cell_type": "code",
   "execution_count": null,
   "metadata": {},
   "outputs": [],
   "source": [
    "tup.index(2)"
   ]
  },
  {
   "cell_type": "markdown",
   "metadata": {},
   "source": [
    "### 5.1.1 Sequences and Multiple Assignment\n",
    "\n",
    "If you know the <b>length of a sequence</b> (e.g., a tuple or a string),\n",
    "\n",
    "it can be convenient to use Python’s <b>multiple assignment</b> statement to extract the individual elements."
   ]
  },
  {
   "cell_type": "code",
   "execution_count": null,
   "metadata": {},
   "outputs": [],
   "source": [
    "x, y ,z= (3, 4,5)\n",
    "a, b, c = 'xyz'\n",
    "\n",
    "print('x=',x,' y=',y)\n",
    "print('a=',a,' b=',b,' c=',c)"
   ]
  },
  {
   "cell_type": "markdown",
   "metadata": {},
   "source": [
    "This mechanism is particularly convenient when used in <b>conjunction with functions that return `fixed-size` sequences</b>."
   ]
  },
  {
   "cell_type": "code",
   "execution_count": null,
   "metadata": {},
   "outputs": [],
   "source": [
    "def findExtremeDivisors(n1, n2):\n",
    "    \"\"\"Assumes that n1 and n2 are positive ints\n",
    "       Returns a tuple containing the smallest common  divisor > 1 and \n",
    "         the largest common divisor of n1 and n2.\n",
    "         If no common divisor, returns (None, None)\n",
    "    \"\"\"\n",
    "    minVal, maxVal = None, None # multiple assignment statement\n",
    "    for i in range(2, min(n1, n2) + 1):\n",
    "        if n1%i == 0 and n2%i == 0:\n",
    "            if minVal == None or i < minVal:\n",
    "                minVal = i\n",
    "            if maxVal == None or i > maxVal:\n",
    "                maxVal = i\n",
    "    return (minVal, maxVal)  #   return fixed-size sequences:tuple"
   ]
  },
  {
   "cell_type": "code",
   "execution_count": null,
   "metadata": {
    "scrolled": true
   },
   "outputs": [],
   "source": [
    "# multiple assignment statement conjunction with functions that return fixed-size sequences.\n",
    "minDivisor, maxDivisor = findExtremeDivisors(100, 200)  \n",
    "print('minDivisor=',minDivisor)\n",
    "print('maxDivisor=',maxDivisor)"
   ]
  },
  {
   "cell_type": "code",
   "execution_count": null,
   "metadata": {},
   "outputs": [],
   "source": [
    "def findExtremeDivisors(n1, n2):\n",
    "    \"\"\"Assumes that n1 and n2 are positive ints\n",
    "       Returns a tuple containing the smallest common\n",
    "       divisor > 1 and the largest common divisor of n1\n",
    "       and n2\n",
    "    \"\"\"\n",
    "    minVal, maxVal = None, None #multiple assignment statement\n",
    "    for i in range(2, min(n1, n2) + 1):\n",
    "        if n1%i == 0 and n2%i == 0:\n",
    "            if minVal == None or i < minVal:\n",
    "                minVal = i\n",
    "            if maxVal == None or i > maxVal:\n",
    "                maxVal = i\n",
    "    \n",
    "    divisors = (minVal,maxVal)\n",
    "    return  divisors  #   return fixed-size sequences\n"
   ]
  },
  {
   "cell_type": "code",
   "execution_count": null,
   "metadata": {},
   "outputs": [],
   "source": [
    "# tuple \n",
    "divisors = findExtremeDivisors(100, 200)  \n",
    "print(divisors)\n",
    "print('minDivisor=', divisors[0])\n",
    "print('maxDivisor=', divisors[1])"
   ]
  },
  {
   "cell_type": "markdown",
   "metadata": {},
   "source": [
    "## 5.2 Ranges\n",
    "\n",
    "Like `strings` and `tuples`, **ranges** are `immutable`. The `range` function returns an object of type `range`. As stated in [Section 3.2](./Lecture1-3-03_SOME_SIMPLE_NUMERICAL_PROGRAMS.ipynb) the range function takes three integer arguments:`start, stop, and step`, and returns the progression of integers `start, start + step, start +2*step, etc`. \n",
    "\n",
    "If step is positive, the last element is the largest integer start + i*step less than stop. If step is negative, the last element is the smallest integer start + i*step greater than stop. \n",
    "\n",
    "If only two arguments are supplied, a step of 1 is used. If only one argument is supplied, that argument is the stop, start defaults to 0, and step defaults to 1.\n",
    "\n",
    "\n",
    "All of the operations on tuples are also available for ranges, `except for concatenation and repetition`. For example, `range(10)[2:6][2]` evaluates to 4. \n",
    "```\n",
    "range(10)->[0, 1, 2, 3, 4, 5, 6, 7, 8, 9]\n",
    "range(10)[2,6]->[ 2, 3, 4, 5]\n",
    "range(10)[2,6][2]->4\n",
    "```"
   ]
  },
  {
   "cell_type": "code",
   "execution_count": null,
   "metadata": {},
   "outputs": [],
   "source": [
    "range(10)[2:6][2] "
   ]
  },
  {
   "cell_type": "markdown",
   "metadata": {},
   "source": [
    "When the `==` operator is used to compare objects of type range, it returns `Tru`e if the two ranges represent the `same` **sequence** of integers ,not the same `range(start, stop, step)`. For example, `range(0, 7, 2) == range(0, 8, 2)` evaluates to True. "
   ]
  },
  {
   "cell_type": "code",
   "execution_count": null,
   "metadata": {},
   "outputs": [],
   "source": [
    "range(0, 7, 2) == range(0, 8, 2)"
   ]
  },
  {
   "cell_type": "code",
   "execution_count": null,
   "metadata": {},
   "outputs": [],
   "source": [
    "print([ i for i in range(0, 7, 2)])"
   ]
  },
  {
   "cell_type": "code",
   "execution_count": null,
   "metadata": {},
   "outputs": [],
   "source": [
    "print([ i for i in range(0, 8, 2)])"
   ]
  },
  {
   "cell_type": "markdown",
   "metadata": {},
   "source": [
    "However, `range(0, 7, 2) == range(6, -1, -2)` evaluates to False because though the two ranges contain the same integers, they occur in a `different order`."
   ]
  },
  {
   "cell_type": "code",
   "execution_count": null,
   "metadata": {},
   "outputs": [],
   "source": [
    "range(0, 7, 2) == range(6, -1, -2)"
   ]
  },
  {
   "cell_type": "code",
   "execution_count": null,
   "metadata": {},
   "outputs": [],
   "source": [
    "print([ i for i in range(6, -1, -2)])"
   ]
  },
  {
   "cell_type": "markdown",
   "metadata": {},
   "source": [
    "Unlike objects of type tuple, the amount of `space occupied` by an object of type range is `not proportional to its length`. Because a range is fully defined by its `start, stop,and step` values; it can be stored in **a `small` amount of space**. \n",
    "\n",
    "The most common use of `range` is in **for** loops, but objects of type `range` can be used anywhere **a sequence of integers** can be used."
   ]
  },
  {
   "cell_type": "markdown",
   "metadata": {},
   "source": [
    "## 5.3 Lists and Mutability\n",
    "\n",
    "Like a tuple,a **list** is an <b>ordered sequence</b> of values, where each value is <b>identified by an index </b>. \n",
    "\n",
    "The syntax for expressing literals of type list is similar to that used for tuples; \n",
    "\n",
    "the difference is that we use <b>square brackets []</b> rather than parentheses(). \n",
    "\n",
    "So, for example, the code,"
   ]
  },
  {
   "cell_type": "code",
   "execution_count": null,
   "metadata": {},
   "outputs": [],
   "source": [
    "L = ['I did it all', 4, 'love']  # square brackets []\n",
    "\n",
    "for i in range(len(L)):\n",
    "    print(L[i])\n",
    "\n",
    "for li in L:\n",
    "    print(li)\n"
   ]
  },
  {
   "cell_type": "markdown",
   "metadata": {},
   "source": [
    "The <b>empty list</b> is written as <b>[]</b>\n",
    "\n",
    "<p> <b>Singleton lists</b> are written <b>without comma</b> before the closing bracket."
   ]
  },
  {
   "cell_type": "code",
   "execution_count": null,
   "metadata": {},
   "outputs": [],
   "source": [
    "Lempty=[]   #empty list\n",
    "\n",
    "Lonly1=[10] # singleton list: without comma\n",
    "\n",
    "print('empty list:',Lempty)\n",
    "\n",
    "print(type(Lonly1))\n",
    "print(Lonly1)"
   ]
  },
  {
   "cell_type": "markdown",
   "metadata": {},
   "source": [
    "Occasionally, the fact that Square brackets  $[]$ are used for \n",
    "\n",
    "* 1 **literals** of type list\n",
    "\n",
    "* 2 **indexing** into lists, and\n",
    "\n",
    "* 3 **slicing** lists\n",
    "\n",
    "can lead to some `visual confusion`. \n",
    "\n",
    "For example:the expression `[1,2,3,4][1:3][1]`, which evaluates to 3, uses the square brackets in three different ways. \n"
   ]
  },
  {
   "cell_type": "code",
   "execution_count": null,
   "metadata": {},
   "outputs": [],
   "source": [
    "print([1,2,3,4])  #  literals of typel ist\n",
    "\n",
    "print([1,2,3,4][1:3]) # slicing list\n",
    "\n",
    "print([1,2,3,4][1:3][1]) # licing list,then indexing into sliced list"
   ]
  },
  {
   "cell_type": "markdown",
   "metadata": {},
   "source": [
    "\n",
    "This is rarely a problem in practice, because most of the time lists are `built incrementally` rather than `written as literals`."
   ]
  },
  {
   "cell_type": "markdown",
   "metadata": {},
   "source": [
    "----\n",
    "\n",
    "### lists are` mutable`\n",
    "\n",
    "Lists differ from tuples in one hugely important way:\n",
    "\n",
    "<b style=\"color:blue\">lists are mutable</b>\n",
    "\n",
    "**tuples and strings** are `immutable`\n",
    "\n",
    "There are many operators that can be used to create objects of these immutable types, and variables can be bound to objects of these types.\n",
    "But objects of `immutable` types **cannot be modified `after they are created`**. \n",
    "\n",
    "\n",
    "On the other hand, objects of type `list`  **can be modified `after they are created`**.\n"
   ]
  },
  {
   "cell_type": "markdown",
   "metadata": {
    "collapsed": true
   },
   "source": [
    "The `distinction` between <b>mutating an object</b> and <b>assigning an object to a variable</b> may, at first, appear subtle. However, if you keep repeating the mantra, \n",
    "\n",
    "“In Python a variable is merely a name, i.e., a label that can be attached to an object,” \n",
    "\n",
    "it will bring you clarity. When the statements"
   ]
  },
  {
   "cell_type": "code",
   "execution_count": null,
   "metadata": {},
   "outputs": [],
   "source": [
    "Techs = ['MIT', 'Caltech']\n",
    "Ivys = ['Harvard', 'Yale', 'Brown']"
   ]
  },
  {
   "cell_type": "markdown",
   "metadata": {},
   "source": [
    "are executed, the interpreter creates two new lists and binds the appropriate variables to them, as pictured in Figure 5.1.\n",
    "\n",
    "![ Figure 5.1](./img/fig51.PNG)"
   ]
  },
  {
   "cell_type": "markdown",
   "metadata": {},
   "source": [
    "The assignment statements"
   ]
  },
  {
   "cell_type": "code",
   "execution_count": null,
   "metadata": {},
   "outputs": [],
   "source": [
    "Univs = [Techs, Ivys]\n",
    "\n",
    "Univs1 = [['MIT', 'Caltech'], ['Harvard', 'Yale', 'Brown']]"
   ]
  },
  {
   "cell_type": "markdown",
   "metadata": {},
   "source": [
    "also create new lists and bind variables to them. The elements of these lists are themselves lists. The three print statements\n"
   ]
  },
  {
   "cell_type": "code",
   "execution_count": null,
   "metadata": {},
   "outputs": [],
   "source": [
    "print('Univs =', Univs) \n",
    "print('Univs1 =', Univs1)\n",
    "print(Univs == Univs1)"
   ]
  },
  {
   "cell_type": "markdown",
   "metadata": {},
   "source": [
    "produce the output\n",
    "\n",
    "It appears as if `Univs` and `Univs1` are bound to <b style=\"color:blue\">the same value</b>. \n",
    "\n",
    "But `appearances` can be `deceiving`. \n",
    "\n",
    "As the following picture illustrates, `Univs` and `Univs1` are bound to quite **different** values.\n",
    "![fig52](./img/fig52.PNG) \n",
    "\n",
    "That `Univs` and`Univs1` are bound to different objects can be verified using the built-in Python function \n",
    "\n",
    "* <b style=\"color:blue\">id</b>, which returns  <b style=\"color:blue\">a unique integer identifier</b> for an object. \n",
    "\n",
    "This function allows us to **test for `object equality`**. When we run the code"
   ]
  },
  {
   "cell_type": "code",
   "execution_count": null,
   "metadata": {},
   "outputs": [],
   "source": [
    "print(Univs == Univs1) # test value equality\n",
    "\n",
    "print(id(Univs) == id(Univs1)) #test object equality\n",
    "\n",
    "print('Id of Univs =', id(Univs))\n",
    "\n",
    "print('Id of Univs1 =', id(Univs1))"
   ]
  },
  {
   "cell_type": "markdown",
   "metadata": {},
   "source": [
    "The **elements of `Univs`** are **not copies of the lists** to which `Techs` and `Ivys` are bound, but are rather the `themselves`.\n",
    "\n",
    "The **elements of `Univs1`** are lists that contain <b>the same `elements`</b> as the lists in `Univs`,but they are **not the same `lists`**.\n",
    "\n",
    "We can see this by running the code\n"
   ]
  },
  {
   "cell_type": "code",
   "execution_count": null,
   "metadata": {},
   "outputs": [],
   "source": [
    "print('Ids of Techs, Univs[0]', id(Techs), id(Univs[0]))\n",
    "\n",
    "print('Ids of Ivys, Univs[1]', id(Ivys), id(Univs[1]))\n",
    "\n",
    "print('Ids of Univs[0] and Univs[1]', id(Univs[0]), id(Univs[1]))\n",
    "\n",
    "print('Ids of Univs1[0] and Univs1[1]', id(Univs1[0]), id(Univs1[1]))"
   ]
  },
  {
   "cell_type": "markdown",
   "metadata": {},
   "source": [
    "### Why does this matter? It matters because lists are mutable\n",
    "\n",
    "Consider the code"
   ]
  },
  {
   "cell_type": "code",
   "execution_count": null,
   "metadata": {},
   "outputs": [],
   "source": [
    "# Techs = ['MIT', 'Caltech']\n",
    "\n",
    "Techs.append('RPI') #through the variable Techs \n",
    "print(Techs)"
   ]
  },
  {
   "cell_type": "markdown",
   "metadata": {
    "collapsed": true
   },
   "source": [
    "The **append** method has **a side effect.** \n",
    "\n",
    "* Rather than create a `new` list, it **`mutates the existing` list Techs** by adding a new element,`the string 'RPI'`, to the end of it.\n",
    "\n",
    "The Figure depicts the state of the computation after append is executed.\n",
    "![fig53](./img/fig53.PNG) \n"
   ]
  },
  {
   "cell_type": "markdown",
   "metadata": {},
   "source": [
    "The object to which **Univs**is bound still contains the `same two lists`, but the `contents` of\n",
    "one of those lists has been `changed`. Consequently, the print statements"
   ]
  },
  {
   "cell_type": "code",
   "execution_count": null,
   "metadata": {},
   "outputs": [],
   "source": [
    "print('Univs =', Univs)\n",
    "print('Univs1 =', Univs1)"
   ]
  },
  {
   "cell_type": "markdown",
   "metadata": {},
   "source": [
    "What we have here is something called **aliasing**(别名). \n",
    "\n",
    "There are `two distinct paths` to the same list object. \n",
    "\n",
    "One path is through the variable `Techs` and the other through the `first element` of the list object to which `Univs` is bound. \n",
    "\n",
    "One can `mutate` the object via `either` path, and the effect of the mutation will be visible through both paths. \n",
    "\n",
    "This can be `convenient`, but it can also be `treacherous`. \n",
    "\n",
    "* **Unintentional aliasing leads to programming errors that are often enormously hard to track down**."
   ]
  },
  {
   "cell_type": "markdown",
   "metadata": {},
   "source": [
    "As with tuples, a **for** statement can be used to iterate over the elements of a list. For example"
   ]
  },
  {
   "cell_type": "code",
   "execution_count": null,
   "metadata": {},
   "outputs": [],
   "source": [
    "for e in Univs:\n",
    "    print('Univs contains', e) # list \n",
    "    print('   which contains')\n",
    "    for u in e:\n",
    "        print('    ', u)   # the elements of a list."
   ]
  },
  {
   "cell_type": "markdown",
   "metadata": {},
   "source": [
    "### append VS `concatenation(+) or extend`\n",
    "\n",
    "When we `append` one list to another, e.g., `Techs.append(Ivys`), the `original structure is maintained`. I.e., the result is `a list that contains a list`. "
   ]
  },
  {
   "cell_type": "code",
   "execution_count": null,
   "metadata": {},
   "outputs": [],
   "source": [
    "Techs = ['MIT', 'Caltech']\n",
    "Ivys = ['Harvard', 'Yale', 'Brown']\n",
    "Techs.append(Ivys)\n",
    "Techs"
   ]
  },
  {
   "cell_type": "markdown",
   "metadata": {
    "collapsed": true
   },
   "source": [
    "Suppose we do not want to maintain this structure, but want to add the elements of one list into another list. We can do that by using list `concatenation` or the `extend` method, e.g.,\n",
    "\n",
    "* Concatenating lists：+  \n",
    "\n",
    "* Combining lists： extend"
   ]
  },
  {
   "cell_type": "code",
   "execution_count": null,
   "metadata": {
    "scrolled": true
   },
   "outputs": [],
   "source": [
    "L1 = [1,2,3]\n",
    "L2 = [4,5,6]\n",
    "\n",
    "#  +  creates a new list\n",
    "L3 = L1 + L2 \n",
    "print('L3= L1 + L2,L3 ', L3)\n",
    "\n",
    "print('id L1=',id(L1))\n",
    "print('id L2=',id(L2))\n",
    "print('a new list:id L3=',id(L3))\n",
    "\n",
    "# extend : add items in the list L2 to the end of list L\n",
    "L1.extend(L2) # 1\n",
    "print('L1.extend(L2) ,L1 =', L1)\n",
    "print('mutated L1: id L1.extend(L2)=',id(L1))\n",
    "\n",
    "# append : dd objects e to the end of L1\n",
    "L1.append(L2) \n",
    "print('L1.append(L2), L1 =', L1)\n",
    "print('mutated L1: id L1.append(L2)=',id(L1))"
   ]
  },
  {
   "cell_type": "markdown",
   "metadata": {},
   "source": [
    "Notice that:\n",
    "\n",
    "* the operator(concatenation): `+` does not have a side effect. It creates **a new list** and returns it. \n",
    "\n",
    "\n",
    "* In contrast,**extend** and **append** each **mutated** L1. \n"
   ]
  },
  {
   "cell_type": "markdown",
   "metadata": {},
   "source": [
    "### The List's Methods\n",
    "\n",
    "The list data type has some more methods. Here are all of the methods of list objects:\n",
    "\n",
    "https://docs.python.org/tutorial/datastructures.html#more-on-lists\n",
    "\n",
    "\n",
    "#### `list`function\n",
    "The `list` function is frequently used in data processing as a way to materialize an iterator or generator expression:\n"
   ]
  },
  {
   "cell_type": "code",
   "execution_count": null,
   "metadata": {},
   "outputs": [],
   "source": [
    "gen = range(10)\n",
    "gen"
   ]
  },
  {
   "cell_type": "code",
   "execution_count": null,
   "metadata": {},
   "outputs": [],
   "source": [
    "list(gen) "
   ]
  },
  {
   "cell_type": "markdown",
   "metadata": {},
   "source": [
    "\n",
    "![fig54](./img/fig54.PNG) \n",
    "\n",
    "Note that: `all of these` except <b style=\"color:blue\">count</b> and <b style=\"color:blue\">index</b> `mutate` the list.\n",
    "\n",
    "#####   Supplementary List member Functions\n",
    "\n",
    "* L.clear(): remove all the items from the lst and return None; same as del L[:].\n",
    "\n",
    "* L.copy(): return a copy of L; same as L[:]\n"
   ]
  },
  {
   "cell_type": "code",
   "execution_count": null,
   "metadata": {},
   "outputs": [],
   "source": [
    "L = [1,2,3,3,1]\n",
    "L.count(3)"
   ]
  },
  {
   "cell_type": "code",
   "execution_count": null,
   "metadata": {},
   "outputs": [],
   "source": [
    "L.index(2)"
   ]
  },
  {
   "cell_type": "markdown",
   "metadata": {},
   "source": [
    "####  Adding and removing elements\n",
    "\n",
    "* append,insert\n",
    "\n",
    "* pop\n",
    "\n",
    "`Elements` can be appended to the end of the list with the `append` method:"
   ]
  },
  {
   "cell_type": "code",
   "execution_count": null,
   "metadata": {},
   "outputs": [],
   "source": [
    "L = [1,2,3]\n",
    "L.append(3) \n",
    "L"
   ]
  },
  {
   "cell_type": "code",
   "execution_count": null,
   "metadata": {},
   "outputs": [],
   "source": [
    "L = [1,2,3]\n",
    "L.append([3,4]) \n",
    "L"
   ]
  },
  {
   "cell_type": "markdown",
   "metadata": {},
   "source": [
    "Using `insert` you can insert an element at a specific `location` in the list:"
   ]
  },
  {
   "cell_type": "code",
   "execution_count": null,
   "metadata": {},
   "outputs": [],
   "source": [
    "L = [1,2,3]\n",
    "L.insert(1, 'red')\n",
    "L"
   ]
  },
  {
   "cell_type": "markdown",
   "metadata": {},
   "source": [
    "The insertion index must be between `0 and the length of the list`, inclusive.\n",
    "\n",
    "The inverse operation to insert is `pop`, which `removes` and returns `an element` at a particular `index`:"
   ]
  },
  {
   "cell_type": "code",
   "execution_count": null,
   "metadata": {},
   "outputs": [],
   "source": [
    "L.pop(2)"
   ]
  },
  {
   "cell_type": "code",
   "execution_count": null,
   "metadata": {},
   "outputs": [],
   "source": [
    "L"
   ]
  },
  {
   "cell_type": "markdown",
   "metadata": {},
   "source": [
    "`Elements` can be `removed` by `value` with **remove**, which locates the `first such value` and removes it from the last:"
   ]
  },
  {
   "cell_type": "code",
   "execution_count": null,
   "metadata": {},
   "outputs": [],
   "source": [
    "L=[1, 'red', 2, 3]\n",
    "L.append('red')\n",
    "L"
   ]
  },
  {
   "cell_type": "code",
   "execution_count": null,
   "metadata": {},
   "outputs": [],
   "source": [
    "L.remove('red')\n",
    "L"
   ]
  },
  {
   "cell_type": "markdown",
   "metadata": {},
   "source": [
    "Check if a list contains a value using the **in** keyword:"
   ]
  },
  {
   "cell_type": "code",
   "execution_count": null,
   "metadata": {},
   "outputs": [],
   "source": [
    "'red' in L"
   ]
  },
  {
   "cell_type": "markdown",
   "metadata": {},
   "source": [
    "The keyword **not** can be used to negate in:"
   ]
  },
  {
   "cell_type": "code",
   "execution_count": null,
   "metadata": {},
   "outputs": [],
   "source": [
    "'red' not in L"
   ]
  },
  {
   "cell_type": "markdown",
   "metadata": {},
   "source": [
    "**NOTE** : Checking whether a list contains a value is **a lot slower** than doing so with **dicts and\n",
    "sets** (to be introduced shortly), as Python makes a linear scan across the values of the\n",
    "list, whereas it can check the others (based on hash tables) in constant time."
   ]
  },
  {
   "cell_type": "markdown",
   "metadata": {},
   "source": [
    "#### combining lists:extend\n",
    "\n",
    "If you have a list already defined, you can append multiple `elements` to it using the `extend` method:"
   ]
  },
  {
   "cell_type": "code",
   "execution_count": null,
   "metadata": {},
   "outputs": [],
   "source": [
    "L = [1,2,3]\n",
    "L.extend(['3',4]) \n",
    "L"
   ]
  },
  {
   "cell_type": "markdown",
   "metadata": {},
   "source": [
    "Using `extend` to append `elements` to an `existing` list, especially if you are building up a `large` list, is usually preferable.Thus,\n",
    "\n",
    "```python\n",
    "everything = []\n",
    "for chunk in list_of_lists:\n",
    "    everything.extend(chunk)\n",
    "```\n",
    "is **faster** than the concatenative alternative:\n",
    "```python\n",
    "everything = []\n",
    "for chunk in list_of_lists:\n",
    "    everything = everything + chunk\n",
    "```"
   ]
  },
  {
   "cell_type": "markdown",
   "metadata": {},
   "source": [
    "#### Sorting:sort\n",
    "You can sort a list `in-place (without creating a new object)` by calling its `sort` function:"
   ]
  },
  {
   "cell_type": "code",
   "execution_count": null,
   "metadata": {},
   "outputs": [],
   "source": [
    "a = [7, 2, 5, 1, 3]\n",
    "a.sort()\n",
    "a"
   ]
  },
  {
   "cell_type": "markdown",
   "metadata": {},
   "source": [
    "`sort` has a few options that will occasionally come in handy. One is the ability to pass a secondary sort **key**—that is, `a function` that produces a value to use to sort the objects.\n",
    "\n",
    "For example, we could sort a collection of strings by their `lengths`"
   ]
  },
  {
   "cell_type": "code",
   "execution_count": null,
   "metadata": {},
   "outputs": [],
   "source": [
    "b = ['saw', 'small', 'He', 'foxes', 'six']\n",
    "b.sort(key=len)\n",
    "b"
   ]
  },
  {
   "cell_type": "markdown",
   "metadata": {},
   "source": [
    "#### reverse\n",
    "\n",
    "reverse the order of element in L"
   ]
  },
  {
   "cell_type": "code",
   "execution_count": null,
   "metadata": {},
   "outputs": [],
   "source": [
    "L=[1,2,3]\n",
    "L.reverse()\n",
    "L"
   ]
  },
  {
   "cell_type": "markdown",
   "metadata": {},
   "source": [
    "### Slicing\n",
    "\n",
    "Recap:\n",
    "> [Lecture1-2-02_INTRODUCTION_TO_PYTHON: Slicing String](./Lecture1-2-02_INTRODUCTION_TO_PYTHON.ipynb)\n",
    ">\n",
    ">**Strings are one of several sequence types in Python** \n",
    ">\n",
    ">**They `share` the following operations with `all sequence` types.**\n",
    ">\n",
    ">* **Slicing** is used to extract substrings of arbitrary length. If s is a string, the expression <b>s[start:end] </b> denotes the >substring of s that starts at index start and ends at index <b>end-1</b>.\n",
    "\n",
    "You can select sections of most sequence types by using slice notation, which in its basic form consists of `start:stop` passed to the indexing operator `[]`:"
   ]
  },
  {
   "cell_type": "code",
   "execution_count": null,
   "metadata": {},
   "outputs": [],
   "source": [
    "seq = [7, 2, 3, 7, 5, 6, 0, 1]\n",
    "seq[1:5]"
   ]
  },
  {
   "cell_type": "markdown",
   "metadata": {},
   "source": [
    "Slices can also be `assigned` to with a sequence:"
   ]
  },
  {
   "cell_type": "code",
   "execution_count": null,
   "metadata": {},
   "outputs": [],
   "source": [
    "seq = [7, 2, 3, 7, 5, 6, 0, 1]\n",
    "seq[3:4]"
   ]
  },
  {
   "cell_type": "code",
   "execution_count": null,
   "metadata": {},
   "outputs": [],
   "source": [
    "seq[3:4] = [6, 3]\n",
    "seq"
   ]
  },
  {
   "cell_type": "markdown",
   "metadata": {},
   "source": [
    "the element of seq[3:4] `[7]` is replaces by the  `[6, 3]`"
   ]
  },
  {
   "cell_type": "markdown",
   "metadata": {},
   "source": [
    "While the element at the `start` index is `included`, the `stop` index is `not included`, so that the number of elements in the result is `stop - start`.\n",
    "\n",
    "Either `the start or stop can be omitted`, in which case they default to the start of the sequence and the end of the sequence, respectively:"
   ]
  },
  {
   "cell_type": "markdown",
   "metadata": {},
   "source": [
    "the start is omitted "
   ]
  },
  {
   "cell_type": "code",
   "execution_count": null,
   "metadata": {},
   "outputs": [],
   "source": [
    "seq = [7, 2, 3, 7, 5, 6, 0, 1]\n",
    "seq[:5]"
   ]
  },
  {
   "cell_type": "markdown",
   "metadata": {},
   "source": [
    "the stop is omitted"
   ]
  },
  {
   "cell_type": "code",
   "execution_count": null,
   "metadata": {},
   "outputs": [],
   "source": [
    "seq[3:]"
   ]
  },
  {
   "cell_type": "markdown",
   "metadata": {},
   "source": [
    "`Negative` indices slice the sequence `relative to the end`:"
   ]
  },
  {
   "cell_type": "code",
   "execution_count": null,
   "metadata": {},
   "outputs": [],
   "source": [
    "seq = [7, 2, 3, 7, 5, 6, 0, 1]\n",
    "seq[-4:]"
   ]
  },
  {
   "cell_type": "code",
   "execution_count": null,
   "metadata": {},
   "outputs": [],
   "source": [
    "seq[-6:-2]"
   ]
  },
  {
   "cell_type": "markdown",
   "metadata": {},
   "source": [
    "The Last item"
   ]
  },
  {
   "cell_type": "code",
   "execution_count": null,
   "metadata": {},
   "outputs": [],
   "source": [
    "seq[-1:]"
   ]
  },
  {
   "cell_type": "markdown",
   "metadata": {},
   "source": [
    "A `step` can also be used after a second colon to, say, take `every other` element:\n"
   ]
  },
  {
   "cell_type": "code",
   "execution_count": null,
   "metadata": {},
   "outputs": [],
   "source": [
    "seq = [7, 2, 3, 7, 5, 6, 0, 1]\n",
    "seq[::2]"
   ]
  },
  {
   "cell_type": "markdown",
   "metadata": {},
   "source": [
    "A clever use of this is to pass -1, which has the useful effect of reversing a list or tuple:"
   ]
  },
  {
   "cell_type": "code",
   "execution_count": null,
   "metadata": {},
   "outputs": [],
   "source": [
    "seq[::-1]"
   ]
  },
  {
   "cell_type": "markdown",
   "metadata": {},
   "source": [
    "### 5.3.1 Cloning\n",
    "\n",
    "It is usually prudent to <b>avoid mutating a list over which one is iterating</b>. Consider, for example, the code"
   ]
  },
  {
   "cell_type": "code",
   "execution_count": null,
   "metadata": {},
   "outputs": [],
   "source": [
    "def removeDups(L1, L2):\n",
    "    \"\"\"Assumes that L1 and L2 are lists.\n",
    "       Removes any element from L1 that also occurs in L2\"\"\"\n",
    "    for e1 in L1:\n",
    "       \n",
    "        # display mutation：L1.remove(e1)\n",
    "        print('Current Item=',e1) \n",
    "        print('Current len(L1)=',len(L1))  \n",
    "       \n",
    "        print('L1=',L1,'\\n')\n",
    "        \n",
    "        if e1 in L2:\n",
    "            L1.remove(e1) # mutation：L1.remove(e1)\n",
    "\n",
    "L1 = [1,2,3,4]\n",
    "L2 = [1,2,5,6]\n",
    "\n",
    "removeDups(L1, L2)\n",
    "# 1,2\n",
    "# L1=[3,4]\n",
    "print('\\n removeDups L1 =', L1)"
   ]
  },
  {
   "cell_type": "markdown",
   "metadata": {},
   "source": [
    "#### 1 One way to <b>avoid this kind of problem is to use slicing to clone</b> \n",
    "\n",
    "     make a copy of the list and write \n",
    "     \n",
    "```python     \n",
    "     for e1 in L1[:]:\n",
    "```"
   ]
  },
  {
   "cell_type": "code",
   "execution_count": null,
   "metadata": {},
   "outputs": [],
   "source": [
    "def removeDups(L1, L2):\n",
    "    \"\"\"Assumes that L1 and L2 are lists.\n",
    "       Removes any element from L1 that also occurs in L2\"\"\"\n",
    " \n",
    "    for e1 in L1[:]: # use slicing to clone\n",
    "        \n",
    "        print('Current Item=',e1) \n",
    "        print('Current len(L1)=',len(L1))  \n",
    "       \n",
    "        print('L1=',L1,'\\n')\n",
    "        \n",
    "        if e1 in L2:\n",
    "            L1.remove(e1)\n",
    "\n",
    "L1 = [1,2,3,4]\n",
    "L2 = [1,2,5,6]\n",
    "removeDups(L1, L2)\n",
    "print('\\n removeDups L1 =', L1)"
   ]
  },
  {
   "cell_type": "markdown",
   "metadata": {},
   "source": [
    "* <b>newL1 = L1</b> merely have introduced <b>a new name for L1</b>\n",
    "\n",
    "  * Assignment statements in Python do not copy objects, they create bindings between a target and an object."
   ]
  },
  {
   "cell_type": "code",
   "execution_count": null,
   "metadata": {},
   "outputs": [],
   "source": [
    "#Page 63-64\n",
    "def removeDups(L1, L2):\n",
    "    \"\"\"Assumes that L1 and L2 are lists.\n",
    "       Removes any element from L1 that also occurs in L2\"\"\"\n",
    "    \n",
    "    newL1=L1  # Assignment statements in Python do not copy objects, \n",
    "              # they create bindings between a target and an object.\n",
    "    \n",
    "    for e1 in newL1:\n",
    "        \n",
    "        print(len(L1))  # display mutation\n",
    "        print('L1=',L1)\n",
    "        \n",
    "        if e1 in L2:\n",
    "            L1.remove(e1)\n",
    "\n",
    "L1 = [1,2,3,4]\n",
    "L2 = [1,2,5,6]\n",
    "removeDups(L1, L2)\n",
    "print('\\n removeDups L1 =', L1)"
   ]
  },
  {
   "cell_type": "markdown",
   "metadata": {},
   "source": [
    "#### 2  The expression <b>list(l)</b> returns a copy of the list l. "
   ]
  },
  {
   "cell_type": "code",
   "execution_count": null,
   "metadata": {},
   "outputs": [],
   "source": [
    "#Page 63-64\n",
    "def removeDups(L1, L2):\n",
    "    \"\"\"Assumes that L1 and L2 are lists.\n",
    "       Removes any element from L1 that also occurs in L2\"\"\"\n",
    "    \n",
    "    newL1=list(L1)  # a copy of the list L1\n",
    "    \n",
    "    for e1 in newL1:\n",
    "        \n",
    "        print(len(L1))  # display mutation\n",
    "        print('L1=',L1)\n",
    "        \n",
    "        if e1 in L2:\n",
    "            L1.remove(e1)\n",
    "\n",
    "L1 = [1,2,3,4]\n",
    "L2 = [1,2,5,6]\n",
    "removeDups(L1, L2)\n",
    "print('\\n removeDups L1 =', L1)"
   ]
  },
  {
   "cell_type": "markdown",
   "metadata": {},
   "source": [
    "## Further Reading\n",
    "\n",
    "<b>1 Python 8.10 copy — Shallow and deep copy operations</b>\n",
    "\n",
    "https://docs.python.org/3/library/copy.html\n",
    "\n",
    "For collections that are mutable or contain mutable items, \n",
    "\n",
    "a copy is sometimes needed so one can change one copy without changing the other.\n",
    "\n",
    "This module provides generic shallow and deep copy operations (explained below).\n",
    "\n",
    "<p>Interface summary:\n",
    "<ul>\n",
    "<li>copy.copy(x): Return a shallow copy of x.\n",
    "<li>copy.deepcopy(x): Return a deep copy of x.\n",
    "</ul>\n",
    "\n",
    "* A shallow copy constructs a new compound object and then (to the extent possible) inserts references into it to the objects found in the original.\n",
    "* A deep copy constructs a new compound object and then, recursively, inserts copies into it of the objects found in the original.\n",
    "\n",
    "<p><b>2. The Python Standard Library by Example 2.8 copy—Duplicate Objects"
   ]
  },
  {
   "cell_type": "code",
   "execution_count": null,
   "metadata": {},
   "outputs": [],
   "source": [
    "import copy\n",
    "\n",
    "def removeDups(L1, L2):\n",
    "    \"\"\"Assumes that L1 and L2 are lists.\n",
    "       Removes any element from L1 that also occurs in L2\"\"\"\n",
    "    \n",
    "    newL1=copy.deepcopy(L1)  # a copy of the list L1\n",
    "    \n",
    "    for e1 in newL1:\n",
    "        \n",
    "        print(len(L1))  # display mutation\n",
    "        print('L1=',L1)\n",
    "        \n",
    "        if e1 in L2:\n",
    "            L1.remove(e1)\n",
    "\n",
    "L1 = [1,2,3,4]\n",
    "L2 = [1,2,5,6]\n",
    "removeDups(L1, L2)\n",
    "print('\\n removeDups L1 =', L1)"
   ]
  },
  {
   "cell_type": "markdown",
   "metadata": {},
   "source": [
    "## <b style=\"color:blue\">Cloning Methods<b>\n",
    "\n",
    "* slicing：L1[:]\n",
    "* List(L1)\n",
    "* copy.copy(L1),copy.deepcopy(L1)"
   ]
  },
  {
   "cell_type": "markdown",
   "metadata": {},
   "source": [
    "### 5.3.2 List Comprehension\n",
    "\n",
    "List comprehension provides a concise way to apply an operation to the values in a sequence.\n",
    "\n",
    "It creates a new list in which each element is the result of applying a given operation to a value from a sequence "
   ]
  },
  {
   "cell_type": "code",
   "execution_count": null,
   "metadata": {},
   "outputs": [],
   "source": [
    "L = [x**2 for x in range(1,7)]\n",
    "print(L)"
   ]
  },
  {
   "cell_type": "code",
   "execution_count": null,
   "metadata": {},
   "outputs": [],
   "source": [
    "L =[]\n",
    "for x in range(1,7):\n",
    "    L.append(x**2)\n",
    "print(L)"
   ]
  },
  {
   "cell_type": "markdown",
   "metadata": {},
   "source": [
    "The `for` clause in a list comprehension can be <b>followed</b> by one or more \n",
    "\n",
    "* <b>if </b> statements \n",
    "\n",
    "* <b>for</b> statements \n",
    "\n",
    "that are applied to the values produced by the `for` clause."
   ]
  },
  {
   "cell_type": "markdown",
   "metadata": {},
   "source": [
    "* `if` statements"
   ]
  },
  {
   "cell_type": "code",
   "execution_count": null,
   "metadata": {},
   "outputs": [],
   "source": [
    "mixed = [1, 2, 'a', 3, 4.0]\n",
    "print([x**2 for x in mixed if type(x) == int])"
   ]
  },
  {
   "cell_type": "markdown",
   "metadata": {},
   "source": [
    "* `for` statements "
   ]
  },
  {
   "cell_type": "code",
   "execution_count": null,
   "metadata": {},
   "outputs": [],
   "source": [
    "print([x*y for x in [1,2,3] for y in  [1,2,3]])"
   ]
  },
  {
   "cell_type": "markdown",
   "metadata": {},
   "source": [
    "#### Further Reading：Python Tutorial\n",
    "\n",
    "* 5.1.3 List Comprehensions https://docs.python.org/3/tutorial/datastructures.html#list-comprehensions\n",
    "\n",
    "* 5.1.4 Nested List Comprehensions https://docs.python.org/3/tutorial/datastructures.html#nested-list-comprehensions\n"
   ]
  },
  {
   "cell_type": "markdown",
   "metadata": {},
   "source": [
    "Remember that somebody else may need to read your code\n",
    "\n",
    "* **subtle** is not usually a desirable property "
   ]
  },
  {
   "cell_type": "markdown",
   "metadata": {},
   "source": [
    "## 5.4 Functions as Objects\n",
    "\n",
    "In Python, functions are **first-class objects**.That means that they can be treated `like objects of any other type`, e.g., int or list. They have types, e.g.,"
   ]
  },
  {
   "cell_type": "code",
   "execution_count": null,
   "metadata": {},
   "outputs": [],
   "source": [
    "type(abs)"
   ]
  },
  {
   "cell_type": "code",
   "execution_count": null,
   "metadata": {},
   "outputs": [],
   "source": [
    "type(removeDups)"
   ]
  },
  {
   "cell_type": "markdown",
   "metadata": {},
   "source": [
    "they can appear in expressions, e.g., as the right-hand side of an assignment statement or as an argument to a function;they can be elements of lists; etc.\n",
    "\n",
    "Using `functions as arguments` allows a style of coding called **higher-order programming**. It can be particularly convenient in conjunction with lists, as shown in"
   ]
  },
  {
   "cell_type": "code",
   "execution_count": null,
   "metadata": {},
   "outputs": [],
   "source": [
    "%%file functionsCh4.py\n",
    "\n",
    "def factI(n):\n",
    "    \"\"\"Assumes that n is an int > 0\n",
    "      Returns n!\"\"\"\n",
    "    result = 1\n",
    "    while n > 1:\n",
    "        result = result * n\n",
    "        n -= 1\n",
    "    return result\n",
    "   \n",
    "def factR(n):\n",
    "    \"\"\"Assumes that n is an int > 0\n",
    "      Returns n!\"\"\"\n",
    "    if n == 1:\n",
    "        return n\n",
    "    else:\n",
    "        return n*factR(n - 1)\n",
    "\n",
    "def fib(n):\n",
    "    \"\"\"Assumes n an int >= 0\n",
    "       Returns Fibonacci of n\"\"\"\n",
    "    if n == 0 or n == 1:\n",
    "        return 1\n",
    "    else:\n",
    "        return fib(n-1) + fib(n-2)\n",
    "\n"
   ]
  },
  {
   "cell_type": "code",
   "execution_count": null,
   "metadata": {},
   "outputs": [],
   "source": [
    "from functionsCh4 import *\n",
    "\n",
    "def applyToEach(L, func):\n",
    "    \"\"\"Assumes L is a list, func a function\n",
    "       Mutates L by replacing each element, e, of L by f(e)\"\"\"\n",
    "    for i in range(len(L)):\n",
    "        L[i] = func(L[i])\n",
    "      \n",
    "L = [1, -2, 3.33]\n",
    "print('L =', L)\n",
    "print('\\nApply abs to each element of L.')\n",
    "\n",
    "applyToEach(L, abs)\n",
    "\n",
    "print('L =', L)\n",
    "\n",
    "print('\\nApply int to each element of', L)\n",
    "\n",
    "applyToEach(L, int)\n",
    "\n",
    "print('L =', L)\n",
    "\n",
    "print('\\nApply factorial to each element of', L)\n",
    "#  functionsCh4.py\n",
    "applyToEach(L, factR)\n",
    "\n",
    "print('L =', L)\n",
    "\n",
    "print('\\nApply Fibonnaci to each element of', L)\n",
    "# functionsCh4.py\n",
    "applyToEach(L, fib)\n",
    "\n",
    "print('L =', L)"
   ]
  },
  {
   "cell_type": "markdown",
   "metadata": {},
   "source": [
    "The function `applyToEach` is called `higher-order` because it has an `argument` that is itself `a function`"
   ]
  },
  {
   "cell_type": "markdown",
   "metadata": {},
   "source": [
    "## map: a built-in higher-order function in Python\n",
    "\n",
    "* the <b>simplest form</b> ：\n",
    "\n",
    "  * the first argument to `map` is <b>a unary function</b>, a function that has only <b>one parameter</b> \n",
    "  * the second argument is any ordered collection of values  suitable as arguments to the first argument."
   ]
  },
  {
   "cell_type": "code",
   "execution_count": null,
   "metadata": {},
   "outputs": [],
   "source": [
    "for i in map(fib, [2, 6, 4]):\n",
    "    print(i)"
   ]
  },
  {
   "cell_type": "code",
   "execution_count": null,
   "metadata": {},
   "outputs": [],
   "source": [
    "list(map(factR, [1, 2, 3]))"
   ]
  },
  {
   "cell_type": "code",
   "execution_count": null,
   "metadata": {},
   "outputs": [],
   "source": [
    "l=[]\n",
    "for i in [1,2,3]:\n",
    "    l.append(factR(i))\n",
    "l"
   ]
  },
  {
   "cell_type": "markdown",
   "metadata": {},
   "source": [
    "* **More generally** \n",
    "\n",
    "  * the first argument to `map` can be of <b>function of n arguments</b>, in which case it must be followed by <b>n subsequent ordered collections</b>"
   ]
  },
  {
   "cell_type": "code",
   "execution_count": null,
   "metadata": {},
   "outputs": [],
   "source": [
    "help(min)"
   ]
  },
  {
   "cell_type": "code",
   "execution_count": null,
   "metadata": {},
   "outputs": [],
   "source": [
    "#Page 64\n",
    "L1 = [1, 28, 36]\n",
    "L2 = [2, 57, 9]\n",
    "\n",
    "print(list(map(min, L1, L2)))  # min"
   ]
  },
  {
   "cell_type": "code",
   "execution_count": null,
   "metadata": {},
   "outputs": [],
   "source": [
    "L1 = [1, 28, 36]\n",
    "L2 = [2, 57, 9]\n",
    "lmin=[]\n",
    "for i in range(3):\n",
    "    lmin.append(min(L1[i],L2[i]))\n",
    "print(lmin)"
   ]
  },
  {
   "cell_type": "markdown",
   "metadata": {},
   "source": [
    "#### lambda\n",
    "\n",
    "Python supports the creation of `anonymous` functions (i.e., functions that are not bound to a name), using the reserved word **lambda**. \n",
    "\n",
    "The general form of a lambda expression is\n",
    "```python\n",
    "lambda <sequence of variable names>: <expression>\n",
    "```\n",
    "For example, the lambda expression `lambda x, y: x*y` returns a function that returns  the product of its two arguments.\n"
   ]
  },
  {
   "cell_type": "code",
   "execution_count": null,
   "metadata": {},
   "outputs": [],
   "source": [
    "adder = lambda x, y: x+y\n",
    "print(adder(3,6))"
   ]
  },
  {
   "cell_type": "markdown",
   "metadata": {},
   "source": [
    " Lambda expressions are frequently used as arguments to higher-order functions. For example, the code"
   ]
  },
  {
   "cell_type": "code",
   "execution_count": null,
   "metadata": {},
   "outputs": [],
   "source": [
    "L = []\n",
    "for i in map(lambda x, y: x**y, [1 ,2 ,3, 4], [3, 2, 1, 0]):\n",
    "    L.append(i)\n",
    "print(L)\n"
   ]
  },
  {
   "cell_type": "markdown",
   "metadata": {},
   "source": [
    "#### Further Reading\n",
    "\n",
    "* The Python Standard Library: Built-in Functions `map`: https://docs.python.org/3/library/functions.html#map\n",
    "\n",
    "* The Python Language Reference ：6.13 `Lambdas` https://docs.python.org/3/reference/expressions.html#lambda\n"
   ]
  },
  {
   "cell_type": "markdown",
   "metadata": {
    "collapsed": true
   },
   "source": [
    "## 5.5 Strings, Tuples, Ranges, and Lists\n",
    "\n",
    "We have looked at four different sequence types: `str, tuple, range, and list`. \n",
    "\n",
    "They are similar in that objects of of these types can be operated upon as described in the Figure\n",
    "<img src=\"./img/fig56.PNG\"/>"
   ]
  },
  {
   "cell_type": "markdown",
   "metadata": {},
   "source": [
    "Some of their other similarities and differences are summarized in the Figure\n",
    "\n",
    "![fig57](./img/fig57.PNG)\n",
    "\n"
   ]
  },
  {
   "cell_type": "markdown",
   "metadata": {},
   "source": [
    "Python programmers tend to use <b style=\"color:blue\">lists</b> far more <b style=\"color:blue\">often</b> than <b style=\"color:blue\">tuples</b>. \n",
    "\n",
    "Since `lists` are **mutable**, they can be **constructed incrementally** during a computation.For example, the following code incrementally builds a list containing all of the `even` numbers in another list."
   ]
  },
  {
   "cell_type": "code",
   "execution_count": null,
   "metadata": {},
   "outputs": [],
   "source": [
    "L=[1, -2, 3.33,4]\n",
    "evenElems = []\n",
    "for e in L:\n",
    "    if e%2 == 0:\n",
    "        evenElems.append(e)\n",
    "        \n",
    "print(evenElems)"
   ]
  },
  {
   "cell_type": "markdown",
   "metadata": {},
   "source": [
    "## Built-in Methods of strings\n",
    "\n",
    "Since strings can contain only characters, there are <b>many built-in methods</b> that make life easy\n",
    "\n",
    "Keep in mind that since strings are immutable these all return values and have no side effect.\n",
    "<p>\n",
    "<img src=\"./img/fig58.PNG\"/>"
   ]
  },
  {
   "cell_type": "code",
   "execution_count": null,
   "metadata": {},
   "outputs": [],
   "source": [
    "s='David Guttag plays basketball David'\n",
    "s.find('David')"
   ]
  },
  {
   "cell_type": "code",
   "execution_count": null,
   "metadata": {},
   "outputs": [],
   "source": [
    "s.rfind('David')"
   ]
  },
  {
   "cell_type": "code",
   "execution_count": null,
   "metadata": {},
   "outputs": [],
   "source": [
    "s=\"David Guttag plays basketball     \"  # trailing whitespace space\n",
    "s.rstrip()"
   ]
  },
  {
   "cell_type": "markdown",
   "metadata": {},
   "source": [
    "###  split\n",
    "\n",
    "One of the more useful built-in methods is `split`, which takes two strings as arguments. The second argument specifies a separator that is used to split the first argument into a sequence of substrings. For example,\n",
    "\n",
    "* s.split(d): Splits `s` using `d` as a delimiter\n"
   ]
  },
  {
   "cell_type": "code",
   "execution_count": null,
   "metadata": {},
   "outputs": [],
   "source": [
    "print('My favorite professor--John G.--rocks'.split(' '))\n",
    "print('My favorite professor--John G.--rocks'.split('-'))\n",
    "print('My favorite professor--John G.--rocks'.split('--'))"
   ]
  },
  {
   "cell_type": "code",
   "execution_count": null,
   "metadata": {},
   "outputs": [],
   "source": [
    "s='David*Guttag*plays*basketball'\n",
    "s.split('*')"
   ]
  },
  {
   "cell_type": "code",
   "execution_count": null,
   "metadata": {},
   "outputs": [],
   "source": [
    "s"
   ]
  },
  {
   "cell_type": "markdown",
   "metadata": {},
   "source": [
    "####  whitespace  characters:\n",
    "\n",
    "The second argument is optional. If that argument is omitted the first string is split using arbitrary strings of whitespace characters (space, tab, newline, return, and formfeed).\n",
    "\n",
    "If `d` is omitted,\n",
    "```python\n",
    "s.split()\n",
    "```\n",
    "the substrings are seperated by  whitespace  characters:\n",
    "\n",
    "|space| tab |newline | return |formfeed|\n",
    "|:---:|----:|-------:|-------:|------:|\n",
    "|  space    |  \\t |  \\n  | \\r    |  \\f  |\n",
    " "
   ]
  },
  {
   "cell_type": "code",
   "execution_count": null,
   "metadata": {},
   "outputs": [],
   "source": [
    "s='David\\t Guttag \\n plays\\r basketball\\f whitespace characters '\n",
    "s.split()   "
   ]
  },
  {
   "cell_type": "code",
   "execution_count": null,
   "metadata": {},
   "outputs": [],
   "source": [
    "print(s)"
   ]
  },
  {
   "cell_type": "markdown",
   "metadata": {},
   "source": [
    "#### s.split(d) to read plain text files:\n",
    "\n",
    "* Data Table,Dict and List\n",
    "\n",
    "* [Lecture5-1-18_UNDERSTANDING_EXPERIMENTAL_DATA](./Lecture5-1-18_UNDERSTANDING_EXPERIMENTAL_DATA.ipynb)\n"
   ]
  },
  {
   "cell_type": "markdown",
   "metadata": {},
   "source": [
    "## 5.6 Dictionaries\n",
    "\n",
    "Objects of type `dict` (short for dictionary) are like lists except that we `index them using keys`.For example, the code,"
   ]
  },
  {
   "cell_type": "code",
   "execution_count": null,
   "metadata": {},
   "outputs": [],
   "source": [
    "monthNumbers = {'Jan':1, 'Feb':2, 'Mar':3, 'Apr':4, 'May':5,\n",
    "                 1:'Jan', 2:'Feb', 3:'Mar', 4:'Apr', 5:'May'}\n",
    "  \n",
    "# The entries in a dict are unordered and cannot be accessed with an index\n",
    "# get value from key\n",
    "\n",
    "print('The Mar is the', format(monthNumbers['Mar']),'month \\n')\n",
    "\n",
    "print('The third month is ' + monthNumbers[3],'\\n')  \n",
    "\n",
    "dist = monthNumbers['Apr'] - monthNumbers['Jan'] \n",
    "print('Apr and Jan are', dist, 'months apart')"
   ]
  },
  {
   "cell_type": "markdown",
   "metadata": {},
   "source": [
    "Think of a dictionary as a set of <b>key：value</b> pairs.\n",
    "```python\n",
    "'Jan':1\n",
    "1:'Jan'\n",
    "```\n",
    "Literals of type dict are enclosed in  <b style=\"color:blue\">curly braces  {}  </b>, \n",
    "\n",
    "and each element is written as a key followed by <b style=\"color:blue\">a colon :</b> followed by a value.\n",
    "\n",
    "<b style=\"color:blue\">Keys</b> can be values of <b>any immutable type</b>.\n",
    "\n",
    "The **entries** in a dict are <b>unordered</b> and `cannot` be accessed with an `index`.That’s why `monthNumbers[1]` unambiguously refers to the entry with the **key 1** rather than the second entry\n",
    "\n",
    "the entry with the **key 1**: `1:'Jan'`"
   ]
  },
  {
   "cell_type": "code",
   "execution_count": null,
   "metadata": {},
   "outputs": [],
   "source": [
    "monthNumbers = {'Jan':1, 'Feb':2, 'Mar':3, 'Apr':4, 'May':5,\n",
    "                 1:'Jan', 2:'Feb', 3:'Mar', 4:'Apr', 5:'May'}"
   ]
  },
  {
   "cell_type": "code",
   "execution_count": null,
   "metadata": {},
   "outputs": [],
   "source": [
    "monthNumbers[1]"
   ]
  },
  {
   "cell_type": "markdown",
   "metadata": {},
   "source": [
    "Like lists, **dictionaries are mutable**."
   ]
  },
  {
   "cell_type": "markdown",
   "metadata": {},
   "source": [
    "#### add an entry to a dictionary \n",
    "\n",
    "We can add an entry by writing\n",
    "\n",
    "```python\n",
    "monthNumbers['June'] = 6\n",
    "```\n",
    "**add elements(key:value)** to a dictionary by **assigning a value `6`to an unused key `'June'`('June':)**"
   ]
  },
  {
   "cell_type": "code",
   "execution_count": null,
   "metadata": {},
   "outputs": [],
   "source": [
    "monthNumbers['June'] = 6"
   ]
  },
  {
   "cell_type": "code",
   "execution_count": null,
   "metadata": {},
   "outputs": [],
   "source": [
    "monthNumbers"
   ]
  },
  {
   "cell_type": "markdown",
   "metadata": {},
   "source": [
    "####  `change` an entry by writing"
   ]
  },
  {
   "cell_type": "code",
   "execution_count": null,
   "metadata": {},
   "outputs": [],
   "source": [
    "monthNumbers['May'] = 'V'\n",
    "monthNumbers"
   ]
  },
  {
   "cell_type": "markdown",
   "metadata": {
    "collapsed": true
   },
   "source": [
    "### Dictionaries are one of  <b style=\"color:blue\">the great things</b> about Python. \n",
    "\n",
    "\n",
    "### They  <b style=\"color:blue\">greatly reduce </b> the difficulty of writing a variety of programs.\n",
    "\n",
    ">Most programming languages do not contain a built-in type that provides a mapping from **keys** to **values**.\n",
    "\n",
    "For example, we use dictionaries to write a (pretty horrible) program to `translate between languages`.\n",
    "\n",
    "**NOTE**: There is a error in MIT Book"
   ]
  },
  {
   "cell_type": "code",
   "execution_count": null,
   "metadata": {},
   "outputs": [],
   "source": [
    "# English -> France\n",
    "EtoF = {'bread':'pain', 'wine':'vin', 'with':'avec', 'I':'Je',\n",
    "        'eat':'mange', 'drink':'bois', 'John':'Jean',\n",
    "        'friends':'amis', 'and': 'et', 'of':'du','red':'rouge'}\n",
    "#  France->English\n",
    "FtoE = {'pain':'bread', 'vin':'wine', 'avec':'with', 'Je':'I',\n",
    "        'mange':'eat', 'bois':'drink', 'Jean':'John',\n",
    "        'amis':'friends', 'et':'and', 'du':'of', 'rouge':'red'}\n",
    "\n",
    "dicts = {'English to French':EtoF, 'French to English':FtoE}\n",
    "\n",
    "def translateWord(word, dictionary):\n",
    "    if word in list(dictionary.keys()):\n",
    "        return dictionary[word]\n",
    "    elif word != '':\n",
    "        return '\"' + word + '\"'\n",
    "    return word\n",
    "    \n",
    "def translate(phrase, dicts, direction):\n",
    "    UCLetters = 'ABCDEFGHIJKLMNOPQRSTUVWXYZ'\n",
    "    LCLetters = 'abcdefghijklmnopqrstuvwxyz'\n",
    "    letters = UCLetters + LCLetters\n",
    "    \n",
    "    dictionary = dicts[direction]\n",
    "    \n",
    "    translation = ''\n",
    "    word = ''\n",
    "    \n",
    "    for c in phrase:\n",
    "        if c in letters:\n",
    "            word = word + c\n",
    "        else:\n",
    "            translation = (translation\n",
    "                          + translateWord(word, dictionary) + c)\n",
    "            word = ''\n",
    "    return translation + ' ' + translateWord(word, dictionary)\n",
    "\n",
    "print(translate('I drink good red wine, and eat bread.',\n",
    "                dicts,'English to French'))\n",
    "\n",
    "print(translate('Je bois du vin rouge.',\n",
    "                dicts, 'French to English'))"
   ]
  },
  {
   "cell_type": "markdown",
   "metadata": {},
   "source": [
    "## Remember that dictionaries are  <font color=\"blue\">mutable.</font>\n",
    "\n",
    "So one must be careful about side effects. For example"
   ]
  },
  {
   "cell_type": "code",
   "execution_count": null,
   "metadata": {},
   "outputs": [],
   "source": [
    "FtoE['bois'] = 'drink'  \n",
    "print(translate('Je bois du vin rouge.', dicts, 'French to English'))"
   ]
  },
  {
   "cell_type": "code",
   "execution_count": null,
   "metadata": {},
   "outputs": [],
   "source": [
    "FtoE['bois'] = 'wood' \n",
    "print(translate('Je bois du vin rouge.', dicts, 'French to English'))"
   ]
  },
  {
   "cell_type": "code",
   "execution_count": null,
   "metadata": {},
   "outputs": [],
   "source": [
    "FtoE['bois'] = 'drink'  \n",
    "print(translate('Je bois du vin rouge.', dicts, 'French to English'))"
   ]
  },
  {
   "cell_type": "markdown",
   "metadata": {},
   "source": [
    "`for` statement can be used to **iterate** over the entries in `a dictionary`. \n",
    "\n",
    "```python\n",
    "for <item> in <a dictionary>\n",
    "```\n",
    "\n",
    "However, the `value` assigned to the iteration variable is a `key`, not a `key/value` pair. The order in which the keys are seen in the iteration is not defined. For example, the code\n"
   ]
  },
  {
   "cell_type": "code",
   "execution_count": null,
   "metadata": {},
   "outputs": [],
   "source": [
    "monthNumbers = {'Jan':1, 'Feb':2, 'Mar':3, 'Apr':4, 'May':5,\n",
    "                1:'Jan', 2:'Feb', 3:'Mar', 4:'Apr', 5:'May'}\n",
    "keys = []\n",
    "for e in monthNumbers:\n",
    "    keys.append(e) # the value s a key， not a key/value pair.\n",
    "print(keys)\n",
    "# There is a error in MIT book\n",
    "type(keys)"
   ]
  },
  {
   "cell_type": "markdown",
   "metadata": {},
   "source": [
    "#### keys\n",
    "\n",
    "The method  **keys** returns an object of type `dict_keys`. This is an example of **a view object**. The order in which the keys appear in the view is not defined. A view object is `dynamic` in that if the object with which it is associated changes, the change is visible through the view object. For example,"
   ]
  },
  {
   "cell_type": "code",
   "execution_count": null,
   "metadata": {},
   "outputs": [],
   "source": [
    "birthStones = {'Jan':'Garnet', 'Feb':'Amethyst', 'Mar':'Acquamarine',\n",
    "                'Apr':'Diamond', 'May':'Emerald'}\n",
    "months=birthStones.keys() # The order in which the keys appear is not defined.\n",
    "print(months)"
   ]
  },
  {
   "cell_type": "code",
   "execution_count": null,
   "metadata": {},
   "outputs": [],
   "source": [
    "birthStones['June'] = 'Pearl'\n",
    "print(months)"
   ]
  },
  {
   "cell_type": "markdown",
   "metadata": {},
   "source": [
    "Objects of type `dict_keys` can be iterated over using *for*, and `membership` can be `tested` using *in*. \n",
    "\n",
    "An object of type `dict_keys` can easily be converted into a `list`, e.g.,`list(months)`."
   ]
  },
  {
   "cell_type": "code",
   "execution_count": null,
   "metadata": {},
   "outputs": [],
   "source": [
    "list(months)"
   ]
  },
  {
   "cell_type": "markdown",
   "metadata": {},
   "source": [
    "Not all types of of objects can be used as keys: A **key** must be an object of a `hashable` type. A type is hashable if it has\n",
    "\n",
    "* A `__hash__` method that maps an object of the type to an int, and for every object the value returned by `__hash__` does not change during the lifetime of the object,and\n",
    "\n",
    "* An `__eq__` method that is used to compare objects for equality.\n",
    "\n",
    "All of Python’s built-in **immutable** types are **hashable**, and none of Python’s built-in mutable types are hashable.\n",
    "\n",
    "* <b style=\"color:blue\">Keys</b> can be values of <b>any immutable type</b>.\n",
    "\n",
    "It is often convenient to use `tuples as keys`. Imagine, for example, using a tuple of the form `(flightNumber, day)` to represent airline flights. It would then be easy to use such tuples as keys in a dictionary implementing a mapping from flights to arrival times\n",
    "\n",
    "* **Tuples** are immutable,<b style=\"color:blue\">aliasing is never a worry</b>.can be used as **keys** in dictionaries."
   ]
  },
  {
   "cell_type": "code",
   "execution_count": null,
   "metadata": {},
   "outputs": [],
   "source": [
    "# tuple\n",
    "Airline_Flight1=('C1208','2013-05-21')\n",
    "Airline_Flight2=('C1230','2013-05-22')\n",
    " \n",
    "# tuple as dictionary keys.\n",
    "Arrival_Times={Airline_Flight1:'2013-05-21 09:50:35',Airline_Flight2:'2013-05-21 10:50:35'}\n",
    "\n",
    "\n",
    "Airline_Flight1_Arrival_Time=Arrival_Times[Airline_Flight1]\n",
    "print('Airline_Flight1_Arrival_Time:',Airline_Flight1_Arrival_Time,'\\n')\n",
    "\n",
    "Airline_Flight2_Arrival_Time=Arrival_Times[Airline_Flight2]\n",
    "print('Airline_Flight2_Arrival_Time:',Airline_Flight2_Arrival_Time)\n"
   ]
  },
  {
   "cell_type": "markdown",
   "metadata": {},
   "source": [
    "### The methods associated with dictionaries,\n",
    "\n",
    "As with lists, there are many useful methods associated with dictionaries, including some for removing elements. We do not enumerate all of them here, but will use them as convenient in examples later in the book. The Figure contains some of the more useful operations on  ictionaries\n",
    "\n",
    "![fig510](./img/fig510.jpg)\n",
    "\n",
    "\n",
    "#####  supplementary Dictionary-Specific Member Functions\n",
    "\n",
    "* d.has_key():\n",
    "\n",
    "* d.items()\n",
    "\n",
    "* d.clear():\n",
    "\n",
    "* d.copy():\n",
    "\n",
    "* d.update(d2): merge the given dictionary d2 into d. Override the value if key exists, else, add new key-value.\n",
    "\n",
    "* d.pop():"
   ]
  },
  {
   "cell_type": "markdown",
   "metadata": {},
   "source": [
    "#### delete values: del & pop\n",
    "You can delete values either using the `del` keyword or the `pop` method (which simultaneously `returns the value` and deletes the key):"
   ]
  },
  {
   "cell_type": "code",
   "execution_count": null,
   "metadata": {},
   "outputs": [],
   "source": [
    "birthStones = {'Jan':'Garnet', 'Feb':'Amethyst', 'Mar':'Acquamarine',\n",
    "                'Apr':'Diamond', 'May':'Emerald'}\n",
    "del birthStones['Jan']\n",
    "birthStones"
   ]
  },
  {
   "cell_type": "markdown",
   "metadata": {},
   "source": [
    " `pop` method deletes the key  and  returns the value simultaneously:"
   ]
  },
  {
   "cell_type": "code",
   "execution_count": null,
   "metadata": {},
   "outputs": [],
   "source": [
    "birthStones = {'Jan':'Garnet', 'Feb':'Amethyst', 'Mar':'Acquamarine',\n",
    "                'Apr':'Diamond', 'May':'Emerald'}\n",
    "ret = birthStones.pop('Apr')\n",
    "ret"
   ]
  },
  {
   "cell_type": "code",
   "execution_count": null,
   "metadata": {},
   "outputs": [],
   "source": [
    "birthStones"
   ]
  },
  {
   "cell_type": "markdown",
   "metadata": {},
   "source": [
    "#### merge dict : update\n",
    "\n",
    "You can **merge** one dict into another using the `update` method:"
   ]
  },
  {
   "cell_type": "code",
   "execution_count": null,
   "metadata": {},
   "outputs": [],
   "source": [
    "birthStones.update({'Jan' : 'GARNETs', 'Ddd' :'Ddd'})\n",
    "birthStones                   "
   ]
  },
  {
   "cell_type": "markdown",
   "metadata": {},
   "source": [
    "The `update` method changes dicts `in-place`, so any `existing keys` in the data passed to `update` will have their `old` values `discarded.`"
   ]
  },
  {
   "cell_type": "markdown",
   "metadata": {},
   "source": [
    "### Dictionary view objects\n",
    "\n",
    "The objects returned by \n",
    "  \n",
    "* dict.keys()\n",
    "\n",
    "        \n",
    "* dict.values() \n",
    "    \n",
    "    \n",
    "* dict.items()\n",
    "  \n",
    "are view objects.\n",
    "  \n",
    "They provide a dynamic view on the dictionary’s entries, which means that when the dictionary changes, the view reflects these changes.\n",
    "\n",
    "#### dict.keys() and dict.values()"
   ]
  },
  {
   "cell_type": "code",
   "execution_count": null,
   "metadata": {},
   "outputs": [],
   "source": [
    "dishes = {'eggs': 2, 'sausage': 1, 'bacon': 1, 'spam': 500}\n",
    "keys = dishes.keys()\n",
    "values = dishes.values()"
   ]
  },
  {
   "cell_type": "code",
   "execution_count": null,
   "metadata": {},
   "outputs": [],
   "source": [
    "# iteration\n",
    "n = 0\n",
    "for val in values:\n",
    "    n += val\n",
    "print(n)"
   ]
  },
  {
   "cell_type": "code",
   "execution_count": null,
   "metadata": {},
   "outputs": [],
   "source": [
    "# keys and values are iterated over in the same order\n",
    "list(keys)"
   ]
  },
  {
   "cell_type": "code",
   "execution_count": null,
   "metadata": {},
   "outputs": [],
   "source": [
    "list(values)"
   ]
  },
  {
   "cell_type": "markdown",
   "metadata": {},
   "source": [
    "##### view objects are dynamic and reflect dict changes\n"
   ]
  },
  {
   "cell_type": "code",
   "execution_count": null,
   "metadata": {},
   "outputs": [],
   "source": [
    "# view objects are dynamic and reflect dict changes\n",
    "del dishes['eggs']\n",
    "del dishes['sausage']\n",
    "list(keys)"
   ]
  },
  {
   "cell_type": "code",
   "execution_count": null,
   "metadata": {},
   "outputs": [],
   "source": [
    "n = 0\n",
    "for val in values:\n",
    "    n += val\n",
    "print(n)"
   ]
  },
  {
   "cell_type": "code",
   "execution_count": null,
   "metadata": {},
   "outputs": [],
   "source": [
    "dishes = {'eggs': 2, 'sausage': 1, 'bacon': 1, 'spam': 500}\n",
    "\n",
    "for key in dishes:\n",
    "    print(key)\n",
    "    print(key, dishes[key])\n",
    "for key in dishes.keys():\n",
    "    print(key)\n",
    "    print(key, dishes[key])\n",
    "    \n",
    "for value in dishes.values():\n",
    "    print(value)\n",
    "\n",
    "for d in dishes.items():\n",
    "    print(d)  \n",
    "for (key,value) in dishes.items():\n",
    "    print(key,value)    "
   ]
  },
  {
   "cell_type": "markdown",
   "metadata": {},
   "source": [
    "#### dict.items()\n",
    "\n",
    "**dict.items()**: Return a new view of the dictionary’s items `(key, value)` pairs  in **tuple** \n",
    "\n",
    "If you want to get <strong style=\"color:blue\">key:value</strong> pair:"
   ]
  },
  {
   "cell_type": "code",
   "execution_count": null,
   "metadata": {},
   "outputs": [],
   "source": [
    "monthNumbers = {'Jan':1, 'Feb':2, 'Mar':3, 'Apr':4, 'May':5,\n",
    "                1:'Jan', 2:'Feb', 3:'Mar', 4:'Apr', 5:'May'}\n",
    "pairs = []\n",
    "for (key,value) in monthNumbers.items():\n",
    "    pairs.append((key,value)) \n",
    "\n",
    "print('(key,value) in monthNumbers.items():')\n",
    "print(pairs)\n",
    "print(pairs[0])\n",
    "print(pairs[0][0],pairs[0][1])\n",
    "\n",
    "# also\n",
    "pairs = []\n",
    "for keyvalue in monthNumbers.items():\n",
    "    pairs.append(keyvalue)\n",
    "print('\\nkeyvalue in monthNumbers.items():')    \n",
    "print(pairs)\n",
    "print(pairs[0])\n",
    "print(pairs[0][0],pairs[0][1])"
   ]
  },
  {
   "cell_type": "markdown",
   "metadata": {},
   "source": [
    "###   Table Data, Dictionary and List\n",
    "\n",
    "|name      |  age   |   city|\n",
    "|---------:|------:|-------:|\n",
    "|zhangsan  |  28    |  nanjing|\n",
    "\n",
    "```python\n",
    "data table  -> dict\n",
    "     colmun -> key(string)\n",
    "       row  -> value(list)\n",
    "```\n",
    "In the concept of Relation Database\n",
    "\n",
    "```python\n",
    "data table  -> Relation Database's Table\n",
    "     colmun -> field\n",
    "       row  -> record\n",
    "```\n",
    "\n",
    "##### Creating data table dicts from sequences\n",
    "\n",
    "```\n",
    "dict {field1:[],field2:[]....}\n",
    "```\n",
    "data table is dict"
   ]
  },
  {
   "cell_type": "code",
   "execution_count": null,
   "metadata": {},
   "outputs": [],
   "source": [
    "fields=['name','age','city']\n",
    "rows=[['Zhangsan',28,'Nanjing'],['Lishi',18,'Beijing']]\n",
    "datatable={}\n",
    "\n",
    "# 1 create the dict of  data table\n",
    "for key in fields:\n",
    "    datatable[key] = []\n",
    "print(datatable)  \n",
    "\n",
    "# 2 set the value list of key\n",
    "for r in rows:\n",
    "    for i in range(len(fields)):\n",
    "        datatable[fields[i]].append(r[i])\n",
    "print(datatable)\n",
    "\n",
    "print(\"\\n\",fields)\n",
    "for r in range(len(rows)):\n",
    "    currow=[]\n",
    "    for i in range(len(fields)):\n",
    "        currow.append(datatable[fields[i]][r])\n",
    "    print(currow)\n"
   ]
  },
  {
   "cell_type": "markdown",
   "metadata": {},
   "source": [
    "##### Creating dicts from the file of table data\n",
    "\n",
    "dict {field1:[],field2:[]....}\n",
    "\n",
    "datatable is a dict"
   ]
  },
  {
   "cell_type": "code",
   "execution_count": null,
   "metadata": {},
   "outputs": [],
   "source": [
    "%%file ./data/personrecords.txt\n",
    "name        age\n",
    "zhangsan    28\n",
    "lishi       18 "
   ]
  },
  {
   "cell_type": "code",
   "execution_count": null,
   "metadata": {},
   "outputs": [],
   "source": [
    "fields=[]\n",
    "datatable={}\n",
    "\n",
    "personrecords=open('./data/personrecords.txt','r')\n",
    "\n",
    "# 1 get string of field(column)\n",
    "fields=personrecords.readline().split()\n",
    "print(fields)\n",
    "\n",
    "# 2 create the dict of  data table\n",
    "for key in fields:\n",
    "    datatable[key] = []\n",
    "print(\"dict for datatable:{field1:[],field2:[]....}\")\n",
    "print(datatable)\n",
    "\n",
    "# 2 read each record into the value list of key \n",
    "for line in personrecords:\n",
    "    currowrecord=line.split()\n",
    "    for i in range(len(fields)):\n",
    "         datatable[fields[i]].append(currowrecord[i])\n",
    "\n",
    "personrecords.close()\n",
    "\n",
    "print(datatable)\n",
    "\n",
    "recordCount=len(datatable[fields[0]])\n",
    "print(\"\\n\",fields)\n",
    "for r in range(recordCount):\n",
    "    currow=[]\n",
    "    for i in range(len(fields)):\n",
    "        currow.append(datatable[fields[i]][r])\n",
    "    print(currow)    "
   ]
  },
  {
   "cell_type": "markdown",
   "metadata": {},
   "source": [
    "#### Creating dicts from the file of table data\n",
    "\n",
    "add field city to the table file\n",
    "\n",
    "```python\n",
    "list[dict]: [{field1:value,field2:value,*:*},{field1:value,field2:value,*.*},...]\n",
    "```\n",
    "data table is a list, each row is dict"
   ]
  },
  {
   "cell_type": "code",
   "execution_count": null,
   "metadata": {},
   "outputs": [],
   "source": [
    "%%file ./data/personrecords.txt\n",
    "name        age      city\n",
    "zhangsan    28      nanjing\n",
    "lishi       18      shanghai"
   ]
  },
  {
   "cell_type": "code",
   "execution_count": null,
   "metadata": {},
   "outputs": [],
   "source": [
    "records=[]\n",
    "fields=[]\n",
    "\n",
    "datatable=[] \n",
    "\n",
    "personrecordsfile=open('./data/personrecords.txt','r')\n",
    "\n",
    "# 1 get string of field(column)\n",
    "fields=personrecordsfile.readline().split()\n",
    "print(fields)\n",
    "\n",
    "# 2 read each record into dict：key is field string\n",
    "for line in personrecordsfile:\n",
    "    currowrecord=line.split()\n",
    "    # 2.1 init dict\n",
    "    rowrecord={}\n",
    "    for i in range(len(fields)):\n",
    "        # 2.2 add key:value to dict\n",
    "        rowrecord[fields[i]]=currowrecord[i]\n",
    "    # 2.3 add dict to list:records\n",
    "    datatable.append(rowrecord)\n",
    "\n",
    "personrecordsfile.close()\n",
    "\n",
    "for item in datatable:\n",
    "    print(item)\n",
    "    \n",
    "for item in datatable:\n",
    "    print(item['name'])    "
   ]
  },
  {
   "cell_type": "markdown",
   "metadata": {},
   "source": [
    "### csv.DictReader\n",
    "\n",
    "The csv module implements classes to read and write tabular data in CSV format.\n",
    "\n",
    "https://docs.python.org/3.7/library/csv.html"
   ]
  },
  {
   "cell_type": "code",
   "execution_count": null,
   "metadata": {},
   "outputs": [],
   "source": [
    "%%file ./data/personrecords.csv\n",
    "name,age\n",
    "zhangsan,28\n",
    "lishi,18 "
   ]
  },
  {
   "cell_type": "code",
   "execution_count": null,
   "metadata": {},
   "outputs": [],
   "source": [
    "import  csv\n",
    "filename=\"./data/personrecords.csv\"\n",
    "csvfile = open(filename, 'r')\n",
    "reader = csv.DictReader(csvfile)\n",
    "for line in reader:\n",
    "    name = line['name']\n",
    "    age=line['age']\n",
    "    print(name,age)   "
   ]
  },
  {
   "cell_type": "markdown",
   "metadata": {},
   "source": [
    "##### our DictReader"
   ]
  },
  {
   "cell_type": "code",
   "execution_count": null,
   "metadata": {},
   "outputs": [],
   "source": [
    "def ourDictReader(file):\n",
    "    records=[]\n",
    "    fields=file.readline()[:-1].split(',')\n",
    "    print(fields)\n",
    "\n",
    "    for line in file:\n",
    "        currowrecord=line.split(',')\n",
    "        rowrecord={}\n",
    "        for i in range(len(fields)):\n",
    "            rowrecord[fields[i]]=currowrecord[i]\n",
    "        records.append(rowrecord)\n",
    "    return records\n",
    "\n",
    "filerecords=open('./data/personrecords.csv','r')\n",
    "reader=ourDictReader(filerecords)\n",
    "for line in reader:\n",
    "    print(line)\n",
    "    print(line['name'],line['age'])\n",
    "\n",
    "filerecords.close()   "
   ]
  },
  {
   "cell_type": "markdown",
   "metadata": {},
   "source": [
    "---\n",
    "\n",
    "### Further Reading: Built-in Sequence Functions\n",
    "\n",
    "Python has a handful of useful sequence functions that you should familiarize yourself with and use at any opportunity.\n",
    "\n",
    "##### enumerate\n",
    "It’s common when iterating over a sequence to want to keep track of the index of the\n",
    "current item. A do-it-yourself approach would look like:\n",
    "```python\n",
    "i = 0\n",
    "for value in collection:\n",
    "    # do something with value\n",
    "    i += 1\n",
    "```\n",
    "Since this is so common, Python has a built-in function, `enumerate`, which returns a sequence of `(i, value)` tuples:\n",
    "```python\n",
    "for i, value in enumerate(collection):\n",
    "    # do something with value\n",
    "```\n",
    "When you are indexing data, a helpful pattern that uses` enumerate` is computing a `dict` mapping the values of a sequence (which are assumed to be unique) to their locations in the sequence:"
   ]
  },
  {
   "cell_type": "code",
   "execution_count": null,
   "metadata": {},
   "outputs": [],
   "source": [
    "some_list = ['foo', 'bar', 'baz']\n",
    "mapping = {}\n",
    "for i, v in enumerate(some_list):\n",
    "    mapping[v] = i\n",
    "mapping\n",
    "    "
   ]
  },
  {
   "cell_type": "markdown",
   "metadata": {},
   "source": [
    "#### sorted\n",
    "\n",
    "The `sorted` function returns a **new** sorted list from the elements of any sequence:"
   ]
  },
  {
   "cell_type": "code",
   "execution_count": null,
   "metadata": {},
   "outputs": [],
   "source": [
    " sorted([7, 1, 2, 6, 0, 3, 2])"
   ]
  },
  {
   "cell_type": "code",
   "execution_count": null,
   "metadata": {},
   "outputs": [],
   "source": [
    "sorted('horse race')"
   ]
  },
  {
   "cell_type": "markdown",
   "metadata": {},
   "source": [
    "The `sorted` function accepts the same arguments as the sort method on lists."
   ]
  },
  {
   "cell_type": "markdown",
   "metadata": {},
   "source": [
    "#### zip\n",
    "\n",
    "`zip` “**pairs**” up the elements of a number of lists, tuples, or other sequences to create **a list of `tuples`**:\n"
   ]
  },
  {
   "cell_type": "code",
   "execution_count": null,
   "metadata": {},
   "outputs": [],
   "source": [
    "seq1 = ['foo', 'bar', 'baz']\n",
    "seq2 = ['one', 'two', 'three']\n",
    "zipped = zip(seq1, seq2)\n",
    "list(zipped)"
   ]
  },
  {
   "cell_type": "markdown",
   "metadata": {},
   "source": [
    "`zip` can take an `arbitrary number` of sequences, and the number of elements it produces is determined by the `shortest` sequenc"
   ]
  },
  {
   "cell_type": "code",
   "execution_count": null,
   "metadata": {},
   "outputs": [],
   "source": [
    "seq3 = [False, True]\n",
    "list(zip(seq1, seq2, seq3))"
   ]
  },
  {
   "cell_type": "markdown",
   "metadata": {},
   "source": [
    "A very common use of `zip` is `simultaneously iterating over multiple` sequences, possibly also combined with `enumerate`:"
   ]
  },
  {
   "cell_type": "code",
   "execution_count": null,
   "metadata": {},
   "outputs": [],
   "source": [
    "for i, (a, b) in enumerate(zip(seq1, seq2)):\n",
    "    print('{0}: {1}, {2}'.format(i, a, b))"
   ]
  },
  {
   "cell_type": "markdown",
   "metadata": {},
   "source": [
    "Given a “zipped” sequence, `zip` can be applied in a clever way to “unzip” the sequence. Another way to think about this is converting a list of `rows` into a list of `columns`. The syntax, which looks a bit magical, is:\n",
    "\n",
    "List rows: ('Nolan', 'Ryan'), ('Roger', 'Clemens'),('Schilling', 'Curt')\n",
    "\n",
    "\n",
    "List columns:\n",
    "\n",
    " | first_names | last_names  |\n",
    " | ----------- |:-----------:|\n",
    " | Nolan       |   Ryan      |\n",
    " |  Roger      |  Clemens    | \n",
    " |Schilling    |  Curt       ||``\n"
   ]
  },
  {
   "cell_type": "code",
   "execution_count": null,
   "metadata": {},
   "outputs": [],
   "source": [
    "pitchers = [('Nolan', 'Ryan'), ('Roger', 'Clemens'),('Schilling', 'Curt')]\n",
    "first_names, last_names = zip(*pitchers)\n",
    "first_names"
   ]
  },
  {
   "cell_type": "code",
   "execution_count": null,
   "metadata": {},
   "outputs": [],
   "source": [
    "last_names"
   ]
  },
  {
   "cell_type": "markdown",
   "metadata": {},
   "source": [
    "#### reversed\n",
    "\n",
    "reversed iterates over the elements of a sequence in reverse order:"
   ]
  },
  {
   "cell_type": "code",
   "execution_count": null,
   "metadata": {},
   "outputs": [],
   "source": [
    "list(reversed(range(10)))"
   ]
  },
  {
   "cell_type": "markdown",
   "metadata": {},
   "source": [
    "Keep in mind that `reversed` is **a generator**,so it does `not create` the reversed sequence until materialized (e.g., with list or a for loop)"
   ]
  },
  {
   "cell_type": "markdown",
   "metadata": {},
   "source": [
    "## Further Reading\n",
    "\n",
    "* Python Library: 4.10 Mapping Types — dict\n",
    "    \n",
    "  * https://docs.python.org/dev/library/stdtypes.html#mapping-types-dict\n",
    "  \n",
    "  * A mapping object maps hashable values to arbitrary objects. Mappings are mutable objects. There is currently\n",
    "only one standard mapping type, the dictionary\n",
    "\n"
   ]
  },
  {
   "cell_type": "markdown",
   "metadata": {
    "collapsed": true
   },
   "source": [
    "## Key Points:\n",
    "\n",
    "* Tuple，range, list，dict\n",
    "\n",
    "* **dict**: the most common data type of key is **string** \n",
    "\n",
    "* **Mutaing**:list,dict\n",
    "\n",
    "* **Cloning**: aliasing\n",
    "\n",
    "* Higher-order function"
   ]
  },
  {
   "cell_type": "code",
   "execution_count": null,
   "metadata": {},
   "outputs": [],
   "source": []
  }
 ],
 "metadata": {
  "kernelspec": {
   "display_name": "Python 3",
   "language": "python",
   "name": "python3"
  },
  "language_info": {
   "codemirror_mode": {
    "name": "ipython",
    "version": 3
   },
   "file_extension": ".py",
   "mimetype": "text/x-python",
   "name": "python",
   "nbconvert_exporter": "python",
   "pygments_lexer": "ipython3",
   "version": "3.7.2"
  },
  "widgets": {
   "state": {},
   "version": "1.1.2"
  }
 },
 "nbformat": 4,
 "nbformat_minor": 1
}
