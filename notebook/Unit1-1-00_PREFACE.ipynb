{
 "cells": [
  {
   "cell_type": "markdown",
   "metadata": {},
   "source": [
    "# PREFACE\n",
    "\n",
    "The main goal of this book is to help you, the reader, become <b style=\"color:blue\"> skillful at making productive use of computational techniques</b>. \n",
    "\n",
    "You should learn to apply `computational modes of thoughts` to `frame` problems and to `guide the process` of\n",
    "`extracting` information from data in. \n",
    "\n",
    "The primary knowledge you will take away from this book is <b style=\"color:blue\">the art of computational problem solving<b>.\n"
   ]
  },
  {
   "cell_type": "markdown",
   "metadata": {},
   "source": [
    "This book is `not` easily slotted into a `conventional` computer science `curriculum`\n",
    "\n",
    "* <b style=\"color:blue\">Chapters 1-11</b> contain the kind of material typically included in a computer science\n",
    "course aimed at students with little or no programming experience.\n",
    "\n",
    "* <b style=\"color:blue\">Chapters 12-14</b> contain slightly more advanced material, various subsets of which could be added to the introductory course if the students are more advanced.\n",
    "\n",
    "* <b style=\"color:blue\">Chapters 15-24</b> are about `using computation to help understand data`. They cover the material that we think should\n",
    "become the usual second course in a computer science curriculum (replacing `the traditional data structures` course).\n",
    "\n",
    "In <b style=\"color:blue\">Chapters 1-11</b>, we braid together four strands of material:\n",
    "\n",
    "* The basics of programming,\n",
    "\n",
    "* The **Python 3** programming language,\n",
    "\n",
    "* **Computational problem solving techniques**,\n",
    "\n",
    "* Computational complexity, and\n",
    "\n",
    "* Using **plots** to present information\n",
    "\n",
    "We cover most of Python’s features, but the `emphasis` is on `what one can do` with a programming language, `not` on the language `itself`. \n",
    "\n",
    "For example, by `the end of Chapter 3` the book has covered  only a **small** fraction of **Python**, but it has already introduced the\n",
    "notions of exhaustive enumeration, guess-and-check algorithms, bisection search, and efficient approximation algorithms.\n",
    "\n",
    "We introduce `features` of Python `throughout the book`. Similarly, we introduce aspects of `programming methods` throughout the book.\n",
    "\n",
    "The idea is to help students learn Python and **how to be a good `programmer` in `the context of using computation to solve interesting problems`.**\n",
    "\n",
    "> **在逐步解决问题的过程中，学习计算机语言和程序设计方法，成为使用计算机解决问题的能手，而不是语言“砖家”。**\n",
    "\n",
    "<b style=\"color:blue\">Chapters 12-13</b> provide an introduction to `optimization`, an important topic not usually covered in introductory courses\n",
    "\n",
    "<b style=\"color:blue\">Chapters 14-16</b> provide an introduction to stochastic programs, another important topic not usually covered in introductory courses\n",
    "\n",
    "<b style=\"color:blue\">Chapters 15-24</b> are designed to provide a self-contained introduction to **using computation to help understand data**\n",
    "\n",
    "The book has **three pervasive themes**: `systematic problem solving`, `the power of abstraction`, and `computation as a way of thinking about the world`. \n",
    "\n",
    "When you have finished this book you should have:\n",
    "\n",
    "* Learned a language, **Python**, for expressing computations,\n",
    "\n",
    "* Learned **a systematic approach** to organizing, writing, and debugging medium-sized **programs**,\n",
    "\n",
    "* Developed an informal understanding of computational complexity,\n",
    "\n",
    "* Developed **some insight into the process of moving from an ambiguous problem statement to a computational formulation of a method for solving the problem,**\n",
    "\n",
    "* Learned **a useful set of algorithmic and problem reduction techniques**,\n",
    "\n",
    "* Learned how to use randomness and simulations to shed light on problems that don’t easily succumb to closed-form solutions, and\n",
    "\n",
    "* Learned how to **use computational tools (including simple statistical, visualization,and machine learning tools) to model and understand data.**\n",
    "\n",
    "**Programming is an intrinsically difficult activity**. Just as “there is no royal road to geometry,”1 there is no royal road to programming. \n",
    "\n",
    "If you really want to learn the material, reading the book will not be enough. **At the very least you should try running some of the code in the book.**\n",
    "\n",
    "# [行是知之始，知是行之成 - 陶行知](http://yuedu.163.com/source/2963f558d8cc47dda31faa19c4e776e9_4)"
   ]
  },
  {
   "cell_type": "code",
   "execution_count": null,
   "metadata": {
    "collapsed": true
   },
   "outputs": [],
   "source": []
  }
 ],
 "metadata": {
  "kernelspec": {
   "display_name": "Python 3",
   "language": "python",
   "name": "python3"
  },
  "language_info": {
   "codemirror_mode": {
    "name": "ipython",
    "version": 3
   },
   "file_extension": ".py",
   "mimetype": "text/x-python",
   "name": "python",
   "nbconvert_exporter": "python",
   "pygments_lexer": "ipython3",
   "version": "3.7.1"
  }
 },
 "nbformat": 4,
 "nbformat_minor": 1
}
