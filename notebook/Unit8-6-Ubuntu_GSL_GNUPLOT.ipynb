{
 "cells": [
  {
   "cell_type": "markdown",
   "metadata": {},
   "source": [
    "#  Ubuntu,GNU Scientific Library & Gnuplot\n",
    "\n",
    "## 1 Linux/Ubuntu\n",
    "\n",
    "### 1.1  What is Linux\n",
    "\n",
    "#### 1.1.1 History of Linux\n",
    "\n",
    "**Unix** was initially designed and implemented at AT&T Bell Labs 1969 by Ken Thompson, Dennis Ritchie, Douglas McIlroy, and\n",
    "Joe Ossanna\n",
    "\n",
    "* First released in 1971 and was written in assembly language\n",
    "\n",
    "* Re-written in C by Dennis Ritchie in 1973 for better portability (with exceptions to the kernel and I/O)\n",
    "\n",
    "**Linux Kernel**: [Linus Torvalds](https://baike.baidu.com/item/林纳斯·本纳第克特·托瓦兹/1034429?fromtitle=Linus%20Torvalds&fromid=9336769&fr=aladdin), a student at University of Helsinki began working on his own operating system, which became the \"Linux Kernel\", 1991\n",
    "\n",
    "* Linus released his `kernel` for `free download` and helped further developmen\n",
    "\n",
    "   * Linux as the kernel only, applications on top of the kernel were still missing\n",
    "\n",
    "**Linux System**: Linux kernel + `software`\n",
    "\n",
    "* `GNU/Linux(Linux)`: Linux kernel + software from the GNU project released under the `GNU Public License (GPL)`:Free to use,\n",
    "\n",
    "   * The GNU Project by Richard Stallman started in 1983 Creating a “complete Unix-compatible software system” with entirely free software\n",
    "\n",
    "<b style=\"color:blue\">Linux is everywhere</b>\n",
    "\n",
    "It appears in many different architectures, from mainframes to `server` to `desktop` to `mobile` and on a staggeringly `wide variety of hardware`.\n",
    "\n",
    "* **Linux** powers 100% of the world’s **supercomputers**, \n",
    "\n",
    "* most of the **servers** powering the Internet, the majority of financial trades worldwide  \n",
    "\n",
    "* over two billion **Android** devices. \n",
    "  \n",
    "#####  What is a Kernel\n",
    "\n",
    "The core component of an OS\n",
    "\n",
    "* Manage the system’s resources, memory, file systems\n",
    "\n",
    "* Provide the lowest level abstraction layer to upper layer components\n",
    "\n",
    "* Inter-process communications and system calls are used to make services available\n",
    "\n",
    "##### What is a Shell\n",
    "\n",
    "An application software running `on top of the kernel` and provides a powerful `interface` to the `system`\n",
    "\n",
    "Process user’s commands, gather input from user and execute programs\n",
    "\n",
    "`Types of shell` with varied features\n",
    "\n",
    "  * sh(Bourne shell)\n",
    "\n",
    "  * csh(C shell)\n",
    "\n",
    "  * ksh(Korn shell)\n",
    "\n",
    "  * `bash(Bourne Again shell)`\n",
    " \n",
    "The simple **bash** command\n",
    "```\n",
    "$ls -l /usr/lib\n",
    "```\n",
    "![Linux-shell](./img/Linux-shell.png)\n",
    "\n",
    "![Linux-OS](./img/Linux-OS.jpg)\n",
    "\n",
    "#### 1.1.2 Linux Distributions\n",
    "\n",
    "* **Essential components**: Linux kernel + GNU system utilities + installation scripts + management utilities etc.\n",
    "\n",
    "* Many software vendors release their own packages, known as `distributions`\n",
    "\n",
    "  * Debian, [Ubuntu](https://www.ubuntu.com/), Linux Mint,[Ubuntukylin](http://www.ubuntukylin.com/)\n",
    "  \n",
    "  * Red Hat,[Fedora](https://getfedora.org/en/), CentOS, Scientific Linux\n",
    "\n",
    "  * Slackware, [OpenSUSE](https://www.opensuse.org/)\n",
    "\n",
    "  * Gentoo\n",
    "  \n",
    "  * **Mobile** OS: [Android](https://en.wikipedia.org/wiki/Android_(operating_system))(Google),[Tizen](https://www.tizen.org/)(The Linux Foundation)\n",
    "\n",
    "**[DistroWatch](https://distrowatch.com/)**\n",
    "\n",
    "DistroWatch is a website dedicated to talking about, reviewing and keeping up to date with open source operating systems. \n",
    "\n",
    "This site particularly focuses on `Linux distributions` and flavours of BSD, though other open source operating systems are sometimes discussed.\n",
    "\n",
    "### 1.2 Desktop Environment\n",
    "\n",
    "Linux distributions offer a variety of **`desktop environment`**：\n",
    "\n",
    "**GNOME,KDE,MATE,Xfce**\n",
    "\n",
    "*  MATE and Xfce are the more lightweight desktop environments.\n",
    "\n",
    "![Linux-desktop](./img/Linux-desktop.jpg)\n",
    "\n",
    "### 1.3  Linux is important for engineer and scientist\n",
    "\n",
    "Download stats across **all packages** on PyPI: \n",
    "\n",
    "https://pypistats.org/packages/__all__\n",
    "\n",
    "The download proportion of **Linux >80%**\n",
    "\n",
    "![pypi-os](./img/pypi-os.jpg)\n",
    "\n",
    "Let us to get the PyPI downloads by operating system  of packages with `pypistats`  \n",
    "\n",
    "```\n",
    ">python -m pip install pypistats\n",
    "```\n",
    "```\n",
    ">pypistats system  package-name\n",
    "```\n",
    ">Note:`null` value is generated by `monitoring tools` and should not be counted as user's downloads. \n",
    "\n",
    "**The PyPI downloads by operating system of SciPy packages**："
   ]
  },
  {
   "cell_type": "code",
   "execution_count": 1,
   "metadata": {},
   "outputs": [
    {
     "name": "stdout",
     "output_type": "stream",
     "text": [
      "| category | percent | downloads  |\n",
      "|----------|--------:|-----------:|\n",
      "| Linux    |  80.98% | 77,429,700 |\n",
      "| Darwin   |   7.38% |  7,052,768 |\n",
      "| null     |   5.92% |  5,659,883 |\n",
      "| Windows  |   5.71% |  5,459,250 |\n",
      "| other    |   0.01% |     14,109 |\n",
      "| Total    |         | 95,615,710 |\n",
      "\n"
     ]
    }
   ],
   "source": [
    "!pypistats system numpy"
   ]
  },
  {
   "cell_type": "code",
   "execution_count": null,
   "metadata": {},
   "outputs": [],
   "source": [
    "!pypistats system scipy"
   ]
  },
  {
   "cell_type": "code",
   "execution_count": null,
   "metadata": {},
   "outputs": [],
   "source": [
    "!pypistats system matplotlib"
   ]
  },
  {
   "cell_type": "markdown",
   "metadata": {},
   "source": [
    "**The PyPI downloads by operating system of IAPWS packages**:"
   ]
  },
  {
   "cell_type": "code",
   "execution_count": null,
   "metadata": {},
   "outputs": [],
   "source": [
    "!pypistats system iapws"
   ]
  },
  {
   "cell_type": "code",
   "execution_count": null,
   "metadata": {},
   "outputs": [],
   "source": [
    "!pypistats system seuif97"
   ]
  },
  {
   "cell_type": "markdown",
   "metadata": {},
   "source": [
    "The **maximum** proportion of the operating system is **Linux.** \n",
    "\n",
    "The **proportion** of using Linux operating system( <b style=\"color:blue\">>70%</b>) was **higher than** Windows and others.\n",
    "\n",
    "**Linux is important for engineer and scientist!**\n",
    "\n",
    "### 1.4 Ubuntu\n",
    "\n",
    "[Ubuntu](https://www.ubuntu.com/) is a free and open-source operating system and [Linux](https://en.wikipedia.org/wiki/Linux) distribution based on [Debian](https://www.debian.org/). Ubuntu is offered in three official editions:  <b style=\"color:blue\">Ubuntu Desktop</b> for personal computers,  <b style=\"color:blue\">Ubuntu Server</b> for servers and the cloud, and  <b style=\"color:blue\">Ubuntu Core</b> for Internet of things devices and robots.\n",
    "\n",
    "Ubuntu is produced by **Canonical** and the developer community, under a meritocratic governance model.\n",
    "\n",
    "Ubuntu is named after the Southern African philosophy of ubuntu (literally, 'human-ness'), which Canonical suggests can be loosely translated as \"humanity to others\" or \"I am what I am because of who we all are\"\n",
    "    \n",
    "* **New releases** of Ubuntu occur every **6** months. \n",
    "\n",
    "\n",
    "* The **long-term support (LTS)** releases occur every **2**\n",
    "\n",
    "  * The most recent LTS is `18.04 LTS (Bionic Beaver)`,supported for ten years. \n"
   ]
  },
  {
   "cell_type": "markdown",
   "metadata": {},
   "source": [
    "[优麒麟（Ubuntu Kylin）](http://www.ubuntukylin.com/)\n",
    "\n",
    "由中国 CCN（由CSIP、Canonical、NUDT三方联合组建）开源创新联合实验室与天津麒麟信息技术有限公司主导开发的全球开源项目，其宗旨是通过研发用户友好的桌面环境以及特定需求的应用软件，为全球 Linux 桌面用户带来非凡的全新体验！\n",
    "优麒麟操作系统是 Ubuntu 官方衍生版，得到来自 Debian、Ubuntu、Mate、LUPA 等国际社区及众多国内外社区爱好者的广泛参与和热情支持\n",
    "\n",
    "[银河麒麟](http://www.kylinos.cn/) \n",
    "\n",
    "银河麒麟操作系统及相关衍生产品已成功应用于国防、政务、电力、金融、能源、教育等行业，基于银河麒麟操作系统和飞腾CPU的自主可控产品及方案已经成为我国自主安全可控信息系统的核心技术应用。\n",
    "\n",
    "![UbuntuKylin](./img/ubuntukylin.jpg)\n",
    "\n",
    "\n",
    "\n",
    "[Raspberry Pi](https://www.raspberrypi.org/)\n",
    "\n",
    "Our mission is to put the power of computing and digital making into the hands of people all over the world. We do this so that more people are able to harness the power of computing and digital technologies for work, to solve problems that matter to them, and to express themselves creatively.\n",
    "\n",
    "**Raspbian** is our official operating system for all models of the Raspberry Pi. Download it here, or use NOOBS, our easy installer for Raspbian and more.\n",
    "\n",
    "![raspberryp](./img/raspberrypi.jpg)\n",
    "\n",
    "\n",
    "**Ubuntu on Windows**\n",
    "\n",
    "you may install `Ubuntu on Windows` through `Windows Store` to use Ubuntu Terminal and run Ubuntu command line utilities include `bash,ssh,git,apt and any more`.\n",
    "\n",
    "![UbuntuOnWindows](./img/UbuntuOnWindows.jpg)"
   ]
  },
  {
   "cell_type": "markdown",
   "metadata": {},
   "source": [
    "### 1.5 Linux File System\n",
    "\n",
    "#### 1.5.1 Files\n",
    "\n",
    "A simple description of the UNIX system, also applicable to Linux, is this:\n",
    "\n",
    "* **\"On a UNIX system, everything is a file; if something is not a file, it is a process.\"**\n",
    "\n",
    "**Sorts of files** \n",
    "\n",
    "Most files are just files, called **regular files**(普通文件）; they contain normal data, for example text files, executable files or programs, input for or output from a program and so on.\n",
    "\n",
    "While it is reasonably safe to suppose that **everything you encounter on a Linux system is a file**, there are some exceptions.\n",
    "\n",
    "* **Directories** files that are lists of other files.\n",
    "\n",
    "* **Special** files: the mechanism used for input and output. Most special files are in `/dev`\n",
    "\n",
    "* **Links** : a system to make a file or directory visible in multiple parts of the system's file tree. \n",
    "\n",
    "\n",
    "* **(Domain) sockets**: a special file type, similar to TCP/IP sockets, providing inter-process networking protected by the file system's access control.\n",
    "\n",
    "* **Named pipes:** act more or less like sockets and form a way for processes to communicate with each other, without using network socket semantics.\n",
    "\n",
    "\n",
    "#### 1.5.2 File Directory Structure\n",
    "\n",
    "* All`files` are arranged in `directories`.\n",
    "\n",
    "* These `directores` are organized into the `file system`\n",
    "\n",
    "![Linux File System](./img/linux-file-system.jpg)\n",
    "\n",
    "\n",
    "**Important Directories**\n",
    "\n",
    "\n",
    "* /bin:  contains files that are essential for system operation, available for use by all\n",
    "users.\n",
    "\n",
    "* /lib,/lib64: contains libraries that are essential for system operation, available for use by\n",
    "all users.\n",
    "\n",
    "* /var:  used to store files which change frequently (system level not user level)\n",
    "\n",
    "* /etc:  contains various system configurations\n",
    "\n",
    "\n",
    "* **/dev**:  contains various **devices** such as hard disk, CD-ROM drive etc(**In Linux, everything is a file**)\n",
    "\n",
    "\n",
    "* /sbin:  same as bin but only accessible by root\n",
    "\n",
    "* /tmp:  temporary file storage\n",
    "\n",
    "\n",
    "* **/boot**: contains `bootable kernel and bootloader`\n",
    "\n",
    "\n",
    "* **/usr:**  contains user documentations, binaries, libraries etc\n",
    "\n",
    "\n",
    "* **/home:**  contains home directories of **all users**. This is the directory where you are at when you login to a Linux/UNIX system.\n",
    "\n",
    "\n",
    "#### 1.5.3 File Path\n",
    "\n",
    "File Path(Definition): position/address in the `directory tree`\n",
    "\n",
    "**Absolute path**\n",
    "\n",
    "`Uniquely` defined and does **NOT depend on the current path**\n",
    "\n",
    "**Relative path**\n",
    "\n",
    "**Depend on the current location** in the directory tree\n",
    "\n",
    "*  . is the current working directory\n",
    "\n",
    "* .. is one directory up\n",
    "\n",
    "\n",
    "#### 1.5.4 Linux is Case Sensitive\n",
    "\n",
    "All names are **case sensitive**\n",
    "\n",
    "*  Commands, variables, files etc.\n",
    "\n",
    "Example: `MyFile.txt, myfile.txt, MYFILE.TXT` are three different files in Linux\n",
    "\n",
    "\n",
    "#### 1.5.5 Linux File Permission\n",
    "\n",
    "Designed as the multi **user** environment, the **access restriction** of files to other users on the system is embedded.\n",
    "\n",
    "Three types of **file permission**\n",
    "\n",
    "* Read (r)\n",
    "\n",
    "* Write (w)\n",
    "\n",
    "* Execute (x)\n",
    "\n",
    "Three types of **user**\n",
    "\n",
    "* User (u) (owner)\n",
    "\n",
    "* Group (g) (group members)\n",
    "\n",
    "* World (o) (everyone else on the system)\n",
    "\n",
    "Each file in Linux has the following attributes:\n",
    "\n",
    "* `Owner permissions`: determine what actions the owner of the file can perform on a file\n",
    "\n",
    "* `Group permissions`: determine what actions a user, who is a member of the group that a file belongs to, can perform on a file\n",
    "\n",
    "* `Other(world) permissions`: indicate what action all other users can perform on a file\n",
    "\n",
    "![UbuntuOnWindows](./img/UbuntuOnWindows.jpg)\n",
    "\n",
    "The `-l`option to **ls** displays the file type,using the **first column** indicates the type of a **file/dir/link**\n",
    "\n",
    "* `d`: for directory\n",
    "\n",
    "* `l`: for `symbolic link`(符号链接(软链接):将路径名链接到一个文件)\n",
    "\n",
    "* `-` for normal file\n",
    "\n",
    "> **A symbolic link** is a `file` that links to another file or directory using its path. you can think of a symbolic link as `a shortcut` to a file or directory (folder). symbolic links may be used in the command line, or in a script or another program.\n",
    "\n",
    "![linux-file-permissions.jpg](./img/linux-file-permission.jpg)\n",
    "\n",
    "#### 1.5.6 Changing File Permission\n",
    "\n",
    "**chmod** is a *NIX command to change permissions on a file\n",
    "\n",
    "Usage: \n",
    "```bash\n",
    "chmod <option> <permissions> <file or directory name>\n",
    "```\n",
    "* –R: change permission recursively in a directory(all files in a  directory)\n",
    "\n",
    "**chmod in Symbolic Mode:**\n",
    "\n",
    "|Chmod| operator Description|\n",
    "|:-------:|:--------:|\n",
    "|+ |Adds the designated permission(s) to a file or directory|\n",
    "|- |Removes the designated permission(s) from a file or directory|\n",
    "|= |Sets the designated permission(s) and removes other permission(s|\n",
    "\n",
    "```bash\n",
    "chmod u-r filename\n",
    "```"
   ]
  },
  {
   "cell_type": "code",
   "execution_count": 1,
   "metadata": {},
   "outputs": [
    {
     "name": "stdout",
     "output_type": "stream",
     "text": [
      "Overwriting ./demo/src/hello.c\n"
     ]
    }
   ],
   "source": [
    "%%file ./demo/src/hello.c\n",
    "/*\n",
    "gcc -o hello hello.c\n",
    "*/\n",
    "#include <stdio.h>\n",
    " \n",
    "int main() {\n",
    "    printf(\"C says Hello, world!\\n\");\n",
    "    return 0;\n",
    "}"
   ]
  },
  {
   "cell_type": "code",
   "execution_count": null,
   "metadata": {},
   "outputs": [],
   "source": [
    "!gcc -o ./demo/bin/hello ./demo/src/hello.c"
   ]
  },
  {
   "cell_type": "markdown",
   "metadata": {},
   "source": [
    "![](./img/linux-hello.png)"
   ]
  },
  {
   "cell_type": "markdown",
   "metadata": {},
   "source": [
    "##  2 GNU Scientific Library(GSL)\n",
    "\n",
    "\n",
    "GNU Scientific Library:  https://www.gnu.org/software/gsl/\n",
    "\n",
    "The **GNU** Scientific Library (GSL) is a **numerical library** for C and C++ programmers. \n",
    "\n",
    "The library provides a wide range of mathematical routines such as random number generators, special functions and least-squares fitting. There are over 1000 functions in total with an extensive test suite.\n",
    "\n",
    "The GSL is part of the GNU Project and is `free` software under the GNU General Public License.\n",
    "\n",
    "---\n",
    "\n",
    "### 2.1 Install GSL \n",
    "\n",
    "**Installing GSL for Windows**\n",
    "\n",
    "* [Install GSL for Windows](https://github.com/PySEE/GSL4Windows)\n",
    "\n",
    "**Installing GSL under Debian/Ubuntu**\n",
    "\n",
    "```bash\n",
    "$sudo apt install gsl-bin\n",
    "\n",
    "$sudo apt install libgsl-dev\n",
    "```\n"
   ]
  },
  {
   "cell_type": "markdown",
   "metadata": {},
   "source": [
    "### 2.2 Using the GSL Library\n",
    "\n",
    "#### 2.2.1 Using the GSL Library under Windows\n",
    "\n",
    "Here is a basic example of how to use the statistical functions:\n",
    "\n",
    "https://www.gnu.org/software/gsl/doc/html/statistics.html"
   ]
  },
  {
   "cell_type": "code",
   "execution_count": 2,
   "metadata": {},
   "outputs": [
    {
     "name": "stdout",
     "output_type": "stream",
     "text": [
      "Overwriting ./demo/src/gsl-example.c\n"
     ]
    }
   ],
   "source": [
    "%%file ./demo/src/gsl-example.c\n",
    "\n",
    "#include <stdio.h>\n",
    "#include <gsl/gsl_statistics.h>\n",
    "\n",
    "int main(void)\n",
    "{\n",
    "  double data[5] = {17.2, 18.1, 16.5, 18.3, 12.6};\n",
    "  double mean, variance, largest, smallest;\n",
    "\n",
    "  mean     = gsl_stats_mean(data, 1, 5);\n",
    "  variance = gsl_stats_variance(data, 1, 5);\n",
    "  largest  = gsl_stats_max(data, 1, 5);\n",
    "  smallest = gsl_stats_min(data, 1, 5);\n",
    "\n",
    "  printf (\"The dataset is %g, %g, %g, %g, %g\\n\",\n",
    "         data[0], data[1], data[2], data[3], data[4]);\n",
    "\n",
    "  printf (\"The sample mean is %g\\n\", mean);\n",
    "  printf (\"The estimated variance is %g\\n\", variance);\n",
    "  printf (\"The largest value is %g\\n\", largest);\n",
    "  printf (\"The smallest value is %g\\n\", smallest);\n",
    "  return 0;\n",
    "}\n"
   ]
  },
  {
   "cell_type": "markdown",
   "metadata": {},
   "source": [
    "##### 2.2.1.1 Compiling\n",
    "\n",
    "he library header files are installed in their own `gsl` directory，for example: `C:\\mingw64\\x86_64-w64-mingw32\\include\\gsl`\n",
    "        \n",
    "You should write any preprocessor include statements with a `gsl/` directory prefix thus, \n",
    "\n",
    "```c\n",
    "#include <gsl/gsl_statistics.h>\n",
    "```\n",
    "\n",
    "A compilation command for a source file `gsl-example.c` with the MinGW-W64 compiler  is, \n",
    "\n",
    "```bash\n",
    ">gcc -c gsl-example.c \n",
    "```\n",
    "The default include path for MinGW-W64 compiler searches `\\x86_64-w64-mingw32\\include\\gsl` automatically \n",
    "\n",
    "##### 2.2.1.2 Linking programs with the library\n",
    "\n",
    "To link against the library you need to specify both the `math library` and a supporting` CBLAS library,` which provides standard basic linear algebra subroutines. \n",
    "\n",
    "The libraries are installed as files, `libgsl.dll.a` and `libgslcblas.dll.a` in the location `C:\\mingw64\\lib\\gcc\\x86_64-w64-mingw32\\8.1.0`. The shared version of the libraries `gsl-1.16.dll` and `gslcblas-1.16.dll` are installed on `C:\\Windows\\System`\n",
    "\n",
    "The default library path for MinGW-W64 searches `C:\\mingw64\\lib\\gcc\\x86_64-w64-mingw32\\8.1.0` automatically so the `-L` option can be **omitted** \n",
    "\n",
    "```bash\n",
    "$gcc -o gsl-example.o -lgsl -lgslcblas\n",
    "```"
   ]
  },
  {
   "cell_type": "markdown",
   "metadata": {},
   "source": [
    "#### 2.2.2 Using the GSL Library under Linux\n",
    "\n",
    "##### 2.2.2.1 Compiling\n",
    "\n",
    "The library header files are installed in their own `gsl` directory. You should write any preprocessor include statements with a `gsl/` directory prefix thus, \n",
    "\n",
    "```c\n",
    "#include <gsl/gsl_statistics.h>\n",
    "```\n",
    "If the directory is not installed on the standard search path of your compiler you will also need to provide its location to the preprocessor as a command line flag.The default location of the gsl directory(ubuntu18.04) is `/usr/include/gsl`\n",
    "\n",
    "A typical compilation command for a source file `gsl-example.c` with the GNU C compiler gcc is, \n",
    "\n",
    "```bash\n",
    "$gcc -c gsl-example.c -I/usr/include \n",
    "```\n",
    "This results in an object file gsl-example.o. The default include path for gcc searches `/usr/include` automatically so the `-I` option can actually be **omitted** when GSL is installed in its default location. \n",
    "\n",
    "```bash\n",
    "$gcc -c gsl-example.c\n",
    "```\n",
    "##### 2.2.2.2 Linking programs with the library\n",
    "\n",
    "The library is installed as a single file, `libgsl.a`. A shared version of the library `libgsl.so` is also installed on systems that support shared libraries. The default location of these files(Ubuntu18.04) is `/usr/lib/x86_64-linux-gnu/`. If this directory is not on the standard search path of your linker you will also need to provide its location as a command line flag.\n",
    "\n",
    "To link against the library you need to specify both the `math library` and a supporting` CBLAS library,` which provides standard basic linear algebra subroutines. A suitable `CBLAS` implementation is provided in the library `libgslcblas.a` if your system does not provide one. The following example shows how to link an application with the library:\n",
    "\n",
    "```bash\n",
    "$gcc -o gsl-example.o -L/usr/lib/x86_64-linux-gnu/-lgsl -lgslcblas -lm\n",
    "```\n",
    "The default library path for gcc searches `/usr/lib/x86_64-linux-gnu/` automatically so the `-L` option can be **omitted** when GSL is installed in its default location.\n",
    "\n",
    "The option `-lm` links with the system **math** library. \n",
    "\n",
    "\n",
    "```bash\n",
    "$gcc -o gsl-example.o -lgsl -lgslcblas -lm\n",
    "```"
   ]
  },
  {
   "cell_type": "markdown",
   "metadata": {},
   "source": [
    "###### Windows with MinGW-W64"
   ]
  },
  {
   "cell_type": "code",
   "execution_count": 3,
   "metadata": {},
   "outputs": [],
   "source": [
    "!gcc -c -o ./demo/obj/gsl-example.o ./demo/src/gsl-example.c \n",
    "!gcc -o ./demo/bin/gsl-example ./demo/obj/gsl-example.o  -lgsl -lgslcblas "
   ]
  },
  {
   "cell_type": "code",
   "execution_count": 4,
   "metadata": {},
   "outputs": [
    {
     "name": "stdout",
     "output_type": "stream",
     "text": [
      "The dataset is 17.2, 18.1, 16.5, 18.3, 12.6\n",
      "The sample mean is 16.54\n",
      "The estimated variance is 5.373\n",
      "The largest value is 18.3\n",
      "The smallest value is 12.6\n"
     ]
    }
   ],
   "source": [
    "!.\\demo\\bin\\gsl-example"
   ]
  },
  {
   "cell_type": "markdown",
   "metadata": {},
   "source": [
    "###### one command"
   ]
  },
  {
   "cell_type": "code",
   "execution_count": null,
   "metadata": {},
   "outputs": [],
   "source": [
    "!gcc -o ./demo/bin/gsl-example ./demo/src/gsl-example.c -lgsl -lgslcblas"
   ]
  },
  {
   "cell_type": "code",
   "execution_count": null,
   "metadata": {},
   "outputs": [],
   "source": [
    "!.\\demo\\bin\\gsl-example"
   ]
  },
  {
   "cell_type": "markdown",
   "metadata": {},
   "source": [
    "###### Linux"
   ]
  },
  {
   "cell_type": "code",
   "execution_count": null,
   "metadata": {},
   "outputs": [],
   "source": [
    "!gcc -c -o ./demo/obj/gsl-example.o ./demo/src/gsl-example.c -I/usr/include\n",
    "!gcc -o ./demo/bin/gsl-example ./demo/obj/gsl-example.o -L/usr/lib/x86_64-linux-gnu/ -lgsl -lgslcblas -lm"
   ]
  },
  {
   "cell_type": "code",
   "execution_count": null,
   "metadata": {},
   "outputs": [],
   "source": [
    "!./demo/bin/gsl-example"
   ]
  },
  {
   "cell_type": "markdown",
   "metadata": {},
   "source": [
    "###### one command"
   ]
  },
  {
   "cell_type": "code",
   "execution_count": null,
   "metadata": {},
   "outputs": [],
   "source": [
    "!gcc -o ./demo/bin/gsl-example ./demo/src/gsl-example.c -I/usr/include -L/usr/lib/x86_64-linux-gnu/ -lgsl -lgslcblas -lm"
   ]
  },
  {
   "cell_type": "code",
   "execution_count": null,
   "metadata": {},
   "outputs": [],
   "source": [
    "!./demo/bin/gsl-example"
   ]
  },
  {
   "cell_type": "markdown",
   "metadata": {},
   "source": [
    "**`-I -L`** option can be **omitted** when GSL is installed in its **default** location\n",
    "\n",
    "* `-I/usr/include -L/usr/lib/x86_64-linux-gnu`"
   ]
  },
  {
   "cell_type": "code",
   "execution_count": null,
   "metadata": {},
   "outputs": [],
   "source": [
    "!gcc -o ./demo/bin/gsl-example  ./demo/src/gsl-example.c -lgsl -lgslcblas -lm"
   ]
  },
  {
   "cell_type": "code",
   "execution_count": null,
   "metadata": {},
   "outputs": [],
   "source": [
    "!./demo/bin/gsl-example "
   ]
  },
  {
   "cell_type": "markdown",
   "metadata": {},
   "source": [
    "#### 2.2.3 The  Example to  use  Linear Least-Squares Fitting\n",
    "\n",
    "https://www.gnu.org/software/gsl/doc/html/lls.html\n",
    "\n",
    "The functions described in this section can be used to perform least-squares fits to a straight line model, .\n",
    "\n",
    "```c\n",
    "int gsl_fit_linear(const double * x, const size_t xstride, const double * y, const size_t ystride, size_t n, double * c0, double * c1, double * cov00, double * cov01, double * cov11, double * sumsq)\n",
    "```\n",
    "This function computes the best-fit linear regression coefficients `(c0, c1)` of the model  for the dataset `(x, y)`, two vectors of length `n` with strides xstride and ystride.\n",
    "\n",
    "The errors on `y` are assumed unknown so the variance-covariance matrix for the parameters `(c0, c1)` is estimated from the scatter of the points around the best-fit line and returned via the parameters` (cov00, cov01, cov11)`. \n",
    "\n",
    "The **sum of squares of the residuals** from the best-fit line is returned in `sumsq`. \n",
    "\n",
    "The following program computes a least squares straight-line fit to one dataset of `Mr. F.J. Anscombe`, and outputs the best-fit line and its associated one standard-deviation error bars."
   ]
  },
  {
   "cell_type": "code",
   "execution_count": null,
   "metadata": {},
   "outputs": [],
   "source": [
    "%%file ./demo/src/demo_fit.c\n",
    "\n",
    "#include <stdio.h>\n",
    "#include <gsl/gsl_fit.h>\n",
    "\n",
    "int main (void)\n",
    "{\n",
    "  int n = 11;\n",
    "  double x[11] = {10.0, 8.0, 13.0, 9.0,11.0,14.0,6.0,4.0 ,12.0,7.0,5.0};\n",
    "  double y[11] = {  8.04,  6.95,7.68, 8.81, 8.33,9.96,7.24,4.26,10.84,4.82,5.68 };\n",
    "\n",
    "  double c0, c1, cov00, cov01, cov11, sumsq;\n",
    "\n",
    "  gsl_fit_linear (x, 1, y, 1, n,\n",
    "                   &c0, &c1, &cov00, &cov01, &cov11,\n",
    "                   &sumsq);\n",
    "\n",
    "  printf (\"best fit: Y = %g + %g X\\n\", c0, c1);\n",
    "  printf (\"covariance matrix:\\n\");\n",
    "  printf (\"[ %g, %g\\n  %g, %g]\\n\",\n",
    "          cov00, cov01, cov01, cov11);\n",
    "  printf (\"sumsq = %g\\n\", sumsq);\n",
    "\n",
    "  printf (\"\\n\");\n",
    "\n",
    "  return 0;\n",
    "}"
   ]
  },
  {
   "cell_type": "markdown",
   "metadata": {},
   "source": [
    "##### Windows with MinGW-W64"
   ]
  },
  {
   "cell_type": "code",
   "execution_count": null,
   "metadata": {},
   "outputs": [],
   "source": [
    "!gcc -o  ./demo/bin/demo_fit ./demo/src/demo_fit.c -lgsl -lgslcblas"
   ]
  },
  {
   "cell_type": "code",
   "execution_count": null,
   "metadata": {},
   "outputs": [],
   "source": [
    "!.\\demo\\bin\\demo_fit "
   ]
  },
  {
   "cell_type": "markdown",
   "metadata": {},
   "source": [
    "##### Linux "
   ]
  },
  {
   "cell_type": "code",
   "execution_count": null,
   "metadata": {},
   "outputs": [],
   "source": [
    "!gcc -o  ./demo/bin/demo_fit ./demo/src/demo_fit.c -lgsl -lgslcblas -lm"
   ]
  },
  {
   "cell_type": "code",
   "execution_count": null,
   "metadata": {},
   "outputs": [],
   "source": [
    "!./demo/bin/demo_fit "
   ]
  },
  {
   "cell_type": "markdown",
   "metadata": {},
   "source": [
    "## 3 Gnuplot \n",
    "\n",
    "[Gnuplot](http://gnuplot.info/) is a portable command-line driven graphing utility for Linux, OS/2, MS Windows, OSX, VMS, and many other platforms.\n",
    "\n",
    "The source code is copyrighted but freely distributed (i.e., you don't have to pay for it). It was originally created to allow scientists and students to visualize mathematical functions and data interactively, but has grown to support many non-interactive uses such as web scripting. \n",
    "\n",
    "It is also used as a plotting engine by third-party applications like Octave. Gnuplot has been supported and under active development since 1986.\n",
    "\n",
    ">**Does gnuplot have anything to do with the FSF and the GNU project?**\n",
    ">\n",
    ">Gnuplot is neither written nor maintained by the FSF. Gnuplot as a whole is `not` covered by the GNU General Public License (GPL). \n",
    ">Gnuplot is freeware in the sense that you don’t have to pay for it.However it is `not freeware` in the sense that you would be allowed to `distribute a modified version` of your gnuplot freely. \n",
    "\n",
    "> Copyright (C) 1986 - 1993, 1998, 2004, 2007  Thomas Williams, Colin Kelley\n",
    ">\n",
    ">Permission to modify the software is granted, but `not the right to distribute the complete modified source code`. Modifications are to be distributed as `patches to the released version`. \n",
    "\n",
    "### 3.1 Installing\n",
    "\n",
    "**Installing GNUPLOT for Windows**\n",
    "\n",
    "Goto http://www.tatsuromatsuoka.com/gnuplot/Eng/winbin/ download Gnuplot for windows compiled with MinGW-W64，then unzip and run.\n",
    " \n",
    "After installed, add the path of gnuplot.exe to the system environment variable **Path**，e.g: `\"C:\\Program Files\\gnuplot\\bin\\\"`\n",
    "\n",
    "**Installing under Debian/Ubuntu**\n",
    "\n",
    "```\n",
    "$sudo apt install gnuplot\n",
    "```"
   ]
  },
  {
   "cell_type": "markdown",
   "metadata": {},
   "source": [
    "### 3.2 Plotting  \n",
    "\n",
    "* Plotting **Functions**\n",
    "\n",
    "* Plotting **Data file**\n",
    "\n",
    "#### 3.2.1 Plotting Functions\n",
    "\n",
    "#####  3.2.1.1 Plotting with shell\n",
    "\n",
    "If `gnuplot` is installed on your system, it can usually be invoked by issuing the command\n",
    "\n",
    "```\n",
    "shell> gnuplot\n",
    "```\n",
    "at the shell prompt. Once launched, `gnuplot` displays a welcome message and then replaces the shell prompt with a `gnuplot>` prompt. Anything entered at this prompt is interpreted as gnuplot commands until you issue an exit or quit command.\n",
    "\n",
    "\n",
    "Probably the simplest plotting command you can issue is\n",
    "```\n",
    "set term wx\n",
    "plot sin(x)\n",
    "```\n",
    "\n",
    "Firstly we have to tell gnuplot the output terminal we want to use. The most ... `set terminal wx`. The `wx` terminal device generates output in a separate window. \n",
    "\n",
    "The `plot` is the primary command for drawing plots with gnuplot. It offers many different graphical representations for functions and data. plot is used to draw 2D functions and data. splot draws 2D projections of 3D surfaces and data. \n",
    "\n",
    "Syntax: \n",
    "```\n",
    "      plot {<ranges>} <plot-element> {, <plot-element>, <plot-element>}\n",
    "```\n",
    "\n",
    "To plot functions: \n",
    "```\n",
    "plot [function]  \n",
    "```\n",
    "\n",
    "![gnuplot-shell](./img/gnuplot-shell.jpg)\n",
    "\n",
    "\n",
    "##### 3.2.1.2 Plotting  with GUI\n",
    "\n",
    "```\n",
    "![gnuplot-shell](./img/gnuplot-gui.jpg)\n",
    "\n",
    "#### 3.2.1.3 Plotting  with script\n",
    "\n",
    "Sometimes, several commands are typed to create a particular plot, and it is easy to make a typographical error when entering a command. To stream-line your plotting operations, `several Gnuplot commands` may be combined into `a single script file`. \n",
    "\n",
    "For example, the following script file plot sin: \n"
   ]
  },
  {
   "cell_type": "code",
   "execution_count": 5,
   "metadata": {
    "scrolled": true
   },
   "outputs": [
    {
     "name": "stdout",
     "output_type": "stream",
     "text": [
      "Writing ./demo/gnuplot/gnuplot_sin.plt\n"
     ]
    }
   ],
   "source": [
    "%%file ./demo/gnuplot/gnuplot_sin.plt\n",
    "set term wx\n",
    "set size 1,1\n",
    "set xlabel 'x'\n",
    "set ylabel 'sin(x)'\n",
    "plot sin(x) notitle"
   ]
  },
  {
   "cell_type": "markdown",
   "metadata": {},
   "source": [
    "##### running script with shell\n",
    "\n",
    "The `persist` option tells gnuplot to leave these windows open when the main program exits"
   ]
  },
  {
   "cell_type": "code",
   "execution_count": 6,
   "metadata": {},
   "outputs": [],
   "source": [
    "!gnuplot -persist ./demo/gnuplot/gnuplot_sin.plt"
   ]
  },
  {
   "cell_type": "markdown",
   "metadata": {},
   "source": [
    "##### running script through GUI"
   ]
  },
  {
   "cell_type": "markdown",
   "metadata": {},
   "source": [
    "![gnuplot-gui-script](./img/gnuplot-gui-script.jpg)"
   ]
  },
  {
   "cell_type": "markdown",
   "metadata": {},
   "source": [
    "#### 3.2.2 Plotting data file\n",
    "\n",
    "Discrete data contained in a file can be displayed by specifying the name of the data file (enclosed in quotes) on the plot or splot command line. \n",
    "\n",
    "Data files should have the data arranged in **columns of numbers**. \n",
    "\n",
    "Columns should be `separated` by datafile separator.\n",
    "\n",
    "Lines beginning with a **`#`** character are treated as **comments** and are ignored by Gnuplot. \n",
    "\n",
    "A blank line in the data file results in a break in the line connecting data points.\n",
    "\n",
    "##### 3.2.2.1 **springData**: [18 UNDERSTANDING EXPERIMENTAL DATA](./Unit5-1-18_UNDERSTANDING_EXPERIMENTAL_DATA.ipynb)\n",
    "\n",
    "* 18.1 The Behavior of Springs：$k = -(m*g)/x$"
   ]
  },
  {
   "cell_type": "code",
   "execution_count": null,
   "metadata": {},
   "outputs": [],
   "source": [
    "%%file ./demo/data/springData.csv\n",
    "#Distance(m),Mass(kg)\n",
    "0.0865,0.1\n",
    "0.1015,0.15\n",
    "0.1106,0.2\n",
    "0.1279,0.25\n",
    "0.1892,0.3\n",
    "0.2695,0.35\n",
    "0.2888,0.4\n",
    "0.2425,0.45\n",
    "0.3465,0.5\n",
    "0.3225,0.55\n",
    "0.3764,0.6\n",
    "0.4263,0.65\n",
    "0.4562,0.7\n",
    "0.4502,0.75\n",
    "0.4499,0.8\n",
    "0.4534,0.85\n",
    "0.4416,0.9\n",
    "0.4304,0.95\n",
    "0.437,1.0"
   ]
  },
  {
   "cell_type": "markdown",
   "metadata": {},
   "source": [
    "#####  `using` Keyword\n",
    "\n",
    "We use **`using`** to designate the `columns` we want to plot. If we want to plot \n",
    "\n",
    "* x: Force = 9.81*Mass-> `column 2` * 9.81\n",
    "\n",
    "* y : Distance ->  `column 1`\n",
    "\n",
    "```\n",
    "plot './demo/data/springData.csv' using ($2*9.81):1 title ''\n",
    "```"
   ]
  },
  {
   "cell_type": "code",
   "execution_count": 7,
   "metadata": {},
   "outputs": [
    {
     "name": "stdout",
     "output_type": "stream",
     "text": [
      "Overwriting ./demo/gnuplot/gnuplot-springdata.plt\n"
     ]
    }
   ],
   "source": [
    "%%file ./demo/gnuplot/gnuplot-springdata.plt\n",
    "set term wx                # set the terminal               \n",
    "set datafile separator ',' # datafile separator ','\n",
    "set xlabel '|Force| (Newtons)'\n",
    "set ylabel 'Distance (meters)'\n",
    "set title 'Measured Displacement of Spring'\n",
    "plot './demo/data/springData.csv' using ($2*9.81):1 title \"\""
   ]
  },
  {
   "cell_type": "code",
   "execution_count": 8,
   "metadata": {},
   "outputs": [],
   "source": [
    "!gnuplot -persist ./demo/gnuplot/gnuplot-springdata.plt"
   ]
  },
  {
   "cell_type": "markdown",
   "metadata": {},
   "source": [
    "#### Curve Fitting \n",
    "\n",
    "Now that we’ve covered the basics, we can start discussing how to fit functions. Fortunately, it’s pretty easy now that we’ve gotten this far.\n",
    "\n",
    "Two step process\n",
    "\n",
    "* Define a function with **unknown** parameters\n",
    "\n",
    "* **Fit the parameters** with specified data\n",
    "\n",
    "Suppose I know the model I wish to fit to the data is `a straight line`. Given that we’ve looked at the data (and I’ve told you it’s linear), that model makes sense. \n",
    "\n",
    "The functional form: `k = F/x -> F=(1/k)*x`. \n",
    "\n",
    "We’d have to `do the fit to estimate them`. We can proceed in Gnuplot.\n",
    "\n"
   ]
  },
  {
   "cell_type": "code",
   "execution_count": 9,
   "metadata": {},
   "outputs": [
    {
     "name": "stdout",
     "output_type": "stream",
     "text": [
      "Overwriting ./demo/gnuplot/gnuplot-spring-fit.plt\n"
     ]
    }
   ],
   "source": [
    "%%file ./demo/gnuplot/gnuplot-spring-fit.plt\n",
    "\n",
    "# 1 Define a function with unknown parameters\n",
    "#  k = F/x -> F=(1/k)*x, F=mass*9.81\n",
    "\n",
    "d(x) = (1/k)*x\n",
    "\n",
    "# 2 Fit the parameters with specified data\n",
    "set datafile separator ',' # datafile separator ','\n",
    "fit d(x) './demo/data/springData.csv' using ($2*9.81):1 via k    \n",
    "\n",
    "set term wx    \n",
    "set xlabel '|Force| (Newtons)'\n",
    "set ylabel 'Distance (meters)'\n",
    "set title 'Measured Displacement of Spring'\n",
    "plot './demo/data/springData.csv' using  ($2*9.81):1 title '(Force,Distance)',\\\n",
    "     './demo/data/springData.csv' using ($2*9.81):(d($2*9.81)) title '',\\\n",
    "     './demo/data/springData.csv' using ($2*9.81):(d($2*9.81))  title 'Force=f(Distance)' with line ls 12"
   ]
  },
  {
   "cell_type": "code",
   "execution_count": 10,
   "metadata": {},
   "outputs": [
    {
     "name": "stderr",
     "output_type": "stream",
     "text": [
      "iter      chisq       delta/lim  lambda   k            \n",
      "   0 6.1493241642e+02  0.00e+00 6.02e+00  1.000000e+00\n",
      "   1 1.5306733505e+02 -3.02e+05 6.02e-01  1.897527e+00\n",
      "   2 3.4356710601e+01 -3.46e+05 6.02e-02  3.582969e+00\n",
      "   3 6.8180803132e+00 -4.04e+05 6.02e-03  6.445111e+00\n",
      "   4 1.0799325242e+00 -5.31e+05 6.02e-04  1.056031e+01\n",
      "   5 1.4130060096e-01 -6.64e+05 6.02e-05  1.485980e+01\n",
      "   6 5.7695819894e-02 -1.45e+05 6.02e-06  1.731696e+01\n",
      "   7 5.6000187861e-02 -3.03e+03 6.02e-07  1.778759e+01\n",
      "   8 5.5999085873e-02 -1.97e+00 6.02e-08  1.780025e+01\n",
      "   9 5.5999085873e-02 -1.64e-07 6.02e-09  1.780024e+01\n",
      "iter      chisq       delta/lim  lambda   k            \n",
      "\n",
      "After 9 iterations the fit converged.\n",
      "final sum of squares of residuals : 0.0559991\n",
      "rel. change during last iteration : -1.63637e-012\n",
      "\n",
      "degrees of freedom    (FIT_NDF)                        : 18\n",
      "rms of residuals      (FIT_STDFIT) = sqrt(WSSR/ndf)    : 0.0557769\n",
      "variance of residuals (reduced chisquare) = WSSR/ndf   : 0.00311106\n",
      "\n",
      "Final set of parameters            Asymptotic Standard Error\n",
      "=======================            ==========================\n",
      "k               = 17.8002          +/- 0.6733       (3.783%)\n"
     ]
    }
   ],
   "source": [
    "!gnuplot -persist ./demo/gnuplot/gnuplot-spring-fit.plt"
   ]
  },
  {
   "cell_type": "markdown",
   "metadata": {},
   "source": [
    "##### 3.2.2.2 The Behavior of Projectiles [18 UNDERSTANDING EXPERIMENTAL DATA](./Unit5-1-18_UNDERSTANDING_EXPERIMENTAL_DATA.ipynb)\n",
    "\n",
    "We decided to use one of our springs to build a device capable of launching a projectile. We measured the height of the projectile at various distances from the launch point. The data was stored in a file `./data/projectileData.txt` with the contents"
   ]
  },
  {
   "cell_type": "code",
   "execution_count": null,
   "metadata": {},
   "outputs": [],
   "source": [
    "%%file ./demo/data/projectileData.txt\n",
    "#Distance  \ttrial1\ttrial2\ttrial3\ttrial3\n",
    "1080\t  \t0.0\t    0.0\t\t0.0\t\t0.0\n",
    "1044\t\t2.25\t3.25\t4.5\t\t6.5\t\n",
    "1008\t\t5.25\t6.5\t\t6.5\t\t8.75\n",
    "972\t\t\t7.5\t\t7.75\t8.25\t9.25\n",
    "936\t\t\t8.75\t9.25\t9.5\t\t10.5\n",
    "900\t\t\t12.0\t12.25\t12.5\t14.75\n",
    "864\t\t\t13.75\t16.0\t16.6\t16.5\n",
    "828\t\t\t14.75\t15.25\t15.5\t17.5\n",
    "792\t\t\t15.5\t16.0\t16.6\t16.75\n",
    "756\t\t\t17.0\t17.0\t17.5\t19.25\n",
    "720\t\t\t17.5\t18.5\t18.5\t19.0\n",
    "540\t\t\t19.5\t18.5\t19.0\t19.0\n",
    "360\t\t\t18.5\t18.5\t19.0\t19.0\n",
    "180\t\t\t13.0\t13.0\t13.0\t13.0\n",
    "0\t\t\t0.0\t\t0.0\t\t0.0\t\t0.0"
   ]
  },
  {
   "cell_type": "markdown",
   "metadata": {},
   "source": [
    "###### with\n",
    "\n",
    "Functions and data may be `displayed` in one of a large number of `styles`. The with keyword provides the means of selection. \n",
    "Syntax: \n",
    "```\n",
    "     with <style> \n",
    "```\n",
    "##### Smooth interpolation\n",
    "\n",
    "Gnuplot can construct a variety of smooth curves as representations of a data set. You can invoke this feature using the `smooth` directive to the plot command, followed by `an additional keyword` that selects the specific `interpolation method`.\n",
    "\n",
    "For example。 smooth curves using `Approximate cubic spline`：acsplines \n",
    "```\n",
    "smooth acsplines\n",
    "\n",
    "```\n",
    "\n",
    "##### replot\n",
    "The `replot` command without arguments repeats the last `plot` command. This can be useful for viewing a plot with different set options, or when generating the same plot for several devices. \n",
    "\n",
    "Arguments specified after a `replot` command will be added onto the last `plot` command (with **an implied `','` separator**) before it is repeated.\n",
    "\n",
    "##### set style line\n",
    "\n",
    "```\n",
    "linecolor | lc <colorspec>\n",
    "                             \n",
    "linewidth | lw <line_width>\n",
    "```\n",
    "#####  set point types and shapes\n",
    "\n",
    "Each terminal provides a set of shapes or points that can be used to represent a single data point.\n",
    "\n",
    "The sequence of shapes has been unified across all (contemporary) terminals\n",
    "\n",
    "![point-symbols](./img/gnuplot-point-symbols.jpg)\n",
    "\n",
    "you can modify its `size`, line `width`, and `color` using the pointsize (or `ps`), linewidth (or `lw`), and linecolor (or `lc`) properties.\n",
    " \n",
    "For example:\n",
    "\n",
    "```\n",
    "pt 15 lc rgb \"red\"\n",
    "```\n"
   ]
  },
  {
   "cell_type": "code",
   "execution_count": null,
   "metadata": {},
   "outputs": [],
   "source": [
    "%%file ./demo/gnuplot/gnuplot-projectiledata.plt\n",
    "set term wx                # set the terminal               \n",
    "set xlabel 'Distance from Launch Point(inches)'\n",
    "set ylabel 'Altitude of the Projectile(inches)'\n",
    "set title 'Trajectory of Projectile'\n",
    "plot './demo/data/projectileData.txt' using 1:2 title \"trial1\", \\\n",
    "     './demo/data/projectileData.txt' using 1:3 title \"trial2\", \\\n",
    "     './demo/data/projectileData.txt' using 1:4 title \"trial3\", \\\n",
    "     './demo/data/projectileData.txt' using 1:5 title \"trial3\"\n",
    "\n",
    "replot './demo/data/projectileData.txt' using 1:($2+$3+$4+$5)/4 title \"mean\" with points pt 15 lc rgb \"red\" ,\\\n",
    "       './demo/data/projectileData.txt' using 1:($2+$3+$4+$5)/4 title \"smooth\" smooth acsplines lw 2 lc 1"
   ]
  },
  {
   "cell_type": "code",
   "execution_count": null,
   "metadata": {},
   "outputs": [],
   "source": [
    "!gnuplot -persist ./demo/gnuplot/gnuplot-projectiledata.plt"
   ]
  },
  {
   "cell_type": "markdown",
   "metadata": {},
   "source": [
    "#### Multiple graphs - panels \n",
    "\n",
    "**multiplot**\n",
    "\n",
    "The command set `multiplot` places gnuplot in the multiplot mode, in which several plots are placed next to each other on the same page or screen window. \n",
    "\n",
    "Syntax: \n",
    "\n",
    "```\n",
    "set multiplot layout <rows>,<cols> margins <left>,<right>,<bottom>,<top> spacing <xspacing>{,<yspacing>\n",
    "\n",
    "unset multiplot\n",
    "```\n",
    "\n",
    "[21 LIES DAMNED LIES AND STATISTICS](./Unit5-2-21_LIES_DAMNED_LIES_AND_STATISTICS.ipynb)\n",
    "\n",
    "* 21.5 Statistical Measures Don't, Tell the Whole Story（Page411-412） : F.J. Anscombe's data Table"
   ]
  },
  {
   "cell_type": "code",
   "execution_count": null,
   "metadata": {},
   "outputs": [],
   "source": [
    "%%file ./demo/data/Anscombe.csv\n",
    "#x0,y0,x1,y2,x2,y2,x3,y3\n",
    "10.00 ,8.04 ,10.00 ,9.14 ,10.00 ,7.46 ,8.00 ,6.58 \n",
    "8.00 ,6.95 ,8.00 ,8.14 ,8.00 ,6.77 ,8.00 ,5.76 \n",
    "13.00 ,7.58 ,13.00 ,8.74 ,13.00 ,12.74 ,8.00 ,7.71 \n",
    "9.00 ,8.81 ,9.00 ,8.77 ,9.00 ,7.11 ,8.00 ,8.84 \n",
    "11.00 ,8.33 ,11.00 ,9.26 ,11.00 ,7.81 ,8.00 ,8.47 \n",
    "14.00 ,9.96 ,14.00 ,8.10 ,14.00 ,8.84 ,8.00 ,7.04 \n",
    "6.00 ,7.24 ,6.00 ,6.13 ,6.00 ,6.08 ,8.00 ,5.25 \n",
    "4.00 ,4.26 ,4.00 ,3.10 ,4.00 ,5.39 ,19.00 ,12.50 \n",
    "12.00 ,10.84 ,12.00 ,9.13 ,12.00 ,8.15 ,8.00 ,5.56 \n",
    "7.00 ,4.82 ,7.00 ,7.26 ,7.00 ,6.42 ,8.00 ,7.91 \n",
    "5.00 ,5.68 ,5.00 ,4.74 ,5.00 ,5.73 ,8.00 ,6.89"
   ]
  },
  {
   "cell_type": "code",
   "execution_count": null,
   "metadata": {},
   "outputs": [],
   "source": [
    "%%file ./demo/gnuplot/gnuplot-Anscombe.plt\n",
    "set term wx   # set the terminal \n",
    "set datafile separator ',' # datafile separator ','\n",
    "set multiplot layout 2,2 margins 0.1, 0.9, 0.1, 0.9 spacing .2\n",
    "set xrange [0:20]\n",
    "set yrange [2:14]\n",
    "\n",
    "f(x) =a*x+b\n",
    "\n",
    "set title \"Anscombe1\"\n",
    "fit f(x) './demo/data/Anscombe.csv' using 1:2 via a,b\n",
    "plot './demo/data/Anscombe.csv' using 1:2 title \"\" with points pt 7  lc rgb \"blue\",f(x) title \"\" lw 1 lc rgb \"orange\"\n",
    "unset title\n",
    "\n",
    "\n",
    "fit f(x) './demo/data/Anscombe.csv' using 3:4 via a,b\n",
    "set title \"Anscombe2\"\n",
    "plot './demo/data/Anscombe.csv' using 3:4 title \"\" with points pt 7  lc rgb \"blue\",f(x) title \"\" lw 1 lc rgb \"orange\"\n",
    "unset title\n",
    "\n",
    "\n",
    "fit f(x) './demo/data/Anscombe.csv' using 5:6 via a,b\n",
    "set title \"Anscombe3\"    \n",
    "plot './demo/data/Anscombe.csv' using 5:6 title \"\" with points pt 7  lc rgb \"blue\",f(x) title \"\" lw 1 lc rgb \"orange\"\n",
    "unset title\n",
    "\n",
    "b=3\n",
    "fit f(x) './demo/data/Anscombe.csv' using 7:8 via a  # non b\n",
    "set title \"Anscombe4\"\n",
    "plot './demo/data/Anscombe.csv' using 7:8 title \"\" with points pt 7  lc rgb \"blue\",f(x) title \"\" lw 1 lc rgb \"orange\"\n",
    "unset multiplot"
   ]
  },
  {
   "cell_type": "code",
   "execution_count": null,
   "metadata": {},
   "outputs": [],
   "source": [
    "!gnuplot -persist ./demo/gnuplot/gnuplot-Anscombe.plt"
   ]
  },
  {
   "cell_type": "markdown",
   "metadata": {},
   "source": [
    "##### Further Readintg\n",
    "\n",
    "If you wish to read more, the help documentation for Gnuplot is very useful, and the online manual is also very informative http://gnuplot.info/. \n",
    "\n",
    "The `demo` and `manual` is available in your installation:\n",
    "\n",
    "![gnuplot](./img/gnuplot.jpg)\n"
   ]
  },
  {
   "cell_type": "markdown",
   "metadata": {},
   "source": [
    "### 3.3 C/C++ Plotting with Pipe \n",
    "\n",
    "#### 3.3.1 Pipe to a Subprocess\n",
    "\n",
    "**process,subprocess**\n",
    "\n",
    "A Linux **process** is a program running in the Linux system.\n",
    "\n",
    "A **subprocess** is a child process, i.e. a process that has been launched by its parent to which it is a subprocess.\n",
    "\n",
    "**pipe**\n",
    "\n",
    "A pipe is a mechanism for `interprocess communication`; data written to the pipe by one process can be read by another process.\n",
    "\n",
    "The pipe is used to **transfer** the **results** from **one command to another**.\n",
    "\n",
    "**15.2 Pipe to a Subprocess**\n",
    "\n",
    "Using a **pipe** to **communicate** with a **child** process\n",
    "\n",
    "https://www.gnu.org/software/libc/manual/html_node/Pipe-to-a-Subprocess.html\n",
    "\n",
    "**popen**\n",
    "\n",
    "```c\n",
    "#include <stdio.h>\n",
    "FILE *popen(const char *command, const char *mode); \n",
    "```\n",
    "\n",
    "DESCRIPTION\n",
    "\n",
    "The `popen()` function shall execute the command specified by the string command. It shall create a pipe between the calling program and the executed command, and shall return a pointer to a stream that can be used to either read from or write to the pipe.\n",
    "\n",
    "\n",
    "#### 3.3.2 Examples \n",
    "\n",
    "#### 3.3.2.1  Example 1: plotting data file\n",
    "\n",
    "./demo/data/springData.csv"
   ]
  },
  {
   "cell_type": "code",
   "execution_count": 11,
   "metadata": {},
   "outputs": [
    {
     "name": "stdout",
     "output_type": "stream",
     "text": [
      "Overwriting ./demo/src/gnuplot_pipe_datafile.c\n"
     ]
    }
   ],
   "source": [
    "%%file ./demo/src/gnuplot_pipe_datafile.c\n",
    "\n",
    "#include <stdio.h>\n",
    "\n",
    "int main (void)\n",
    "{\n",
    "\n",
    "    FILE *pipe = popen(\"gnuplot -persist\", \"w\");  // Open a pipe to gnuplot\n",
    "\n",
    "    if (pipe) {   // If gnuplot is found\n",
    "      fprintf(pipe, \"set term wx\\n\");         // set the terminal               \n",
    "      fprintf(pipe, \"set datafile separator ','\\n\"); //datafile separator ','\n",
    "      fprintf(pipe, \"set xlabel '|Force| (Newtons)'\\n\");\n",
    "      fprintf(pipe, \"set ylabel 'Distance (meters)'\\n\");\n",
    "      fprintf(pipe, \"set title 'Measured Displacement of Spring'\\n\");\n",
    "      fprintf(pipe, \"plot './demo/data/springData.csv' using  ($2*9.81):1 title '(Force,Distance)'\\n\");\n",
    "      \n",
    "      fflush(pipe); //flush pipe\n",
    "      fprintf(pipe,\"exit \\n\");   // exit gnuplot\n",
    "      pclose(pipe);    //close pipe\n",
    "    }\n",
    "    return 0;\n",
    "};"
   ]
  },
  {
   "cell_type": "code",
   "execution_count": 12,
   "metadata": {},
   "outputs": [],
   "source": [
    "!gcc  -o ./demo/bin/gnuplot_pipe_datafile ./demo/src/gnuplot_pipe_datafile.c"
   ]
  },
  {
   "cell_type": "markdown",
   "metadata": {},
   "source": [
    "##### Windows"
   ]
  },
  {
   "cell_type": "code",
   "execution_count": 13,
   "metadata": {},
   "outputs": [],
   "source": [
    "!.\\demo\\bin\\gnuplot_pipe_datafile"
   ]
  },
  {
   "cell_type": "markdown",
   "metadata": {},
   "source": [
    "##### Linux"
   ]
  },
  {
   "cell_type": "code",
   "execution_count": null,
   "metadata": {},
   "outputs": [],
   "source": [
    "!./demo/bin/pipegnuplot_pipe_datafile"
   ]
  },
  {
   "cell_type": "markdown",
   "metadata": {},
   "source": [
    "##### 3.3.2.2 Example 2  : plotting  data array \n",
    "\n",
    "[21 LIES DAMNED LIES AND STATISTICS](./Unit5-2-21_LIES_DAMNED_LIES_AND_STATISTICS.ipynb)\n",
    "\n",
    "* 21.5 Statistical Measures Don't, Tell the Whole Story（Page411-412） : F.J. Anscombe's data Table <x0, y0>"
   ]
  },
  {
   "cell_type": "code",
   "execution_count": 14,
   "metadata": {},
   "outputs": [
    {
     "name": "stdout",
     "output_type": "stream",
     "text": [
      "Overwriting ./demo/src/gnuplot_pipe_array.c\n"
     ]
    }
   ],
   "source": [
    "%%file ./demo/src/gnuplot_pipe_array.c\n",
    "\n",
    "#include <stdio.h>\n",
    "#include <gsl/gsl_fit.h>\n",
    "\n",
    "int main (void)\n",
    "{\n",
    "  int n = 11;\n",
    "  double x[11] = {10.0, 8.0, 13.0, 9.0, 11.0,\n",
    "                  14.0 ,6.0, 4.0 , 12.0,7.0,5.0};\n",
    "  double y[11] = {8.04, 6.95,7.68, 8.81, 8.33,\n",
    "                  9.96, 7.24,4.26,10.84, 4.82,5.68 };\n",
    "\n",
    "  double c0, c1, cov00, cov01, cov11, sumsq;\n",
    "\n",
    "  gsl_fit_linear(x, 1, y, 1, n,\n",
    "                 &c0, &c1, &cov00, &cov01, &cov11,\n",
    "                 &sumsq);\n",
    "\n",
    "  printf (\"best fit: Y = %g + %g X\\n\", c0, c1);\n",
    "  printf (\"covariance matrix:\\n\");\n",
    "  printf (\"[ %g, %g\\n  %g, %g]\\n\", cov00, cov01, cov01, cov11);\n",
    "  printf (\"sumsq = %g\\n\", sumsq);\n",
    "  printf (\"\\n\");\n",
    "  \n",
    "  // plot\n",
    "  FILE *pipe = popen(\"gnuplot -persist\", \"w\"); // Open a pipe to gnuplot\n",
    "  if (pipe) // If gnuplot is found\n",
    "  { \n",
    "     fprintf(pipe, \"set term wx\\n\");         // set the terminal\n",
    "     fprintf(pipe, \"set xlabel 'X'\\n\");\n",
    "     fprintf(pipe, \"set ylabel 'Y'\\n\");\n",
    "     fprintf(pipe, \"set xrange [0:20]\\n\");\n",
    "     fprintf(pipe, \"set yrange [2:14]\\n\");\n",
    "     fprintf(pipe, \"set title '<X,Y> and Linear fit:y=%.4f*x+%.4f'\\n\",c1,c0);\n",
    "      \n",
    "     /* In this case, the datafile is written directly to the gnuplot pipe with no need for a temporary file.\n",
    "           The special filename '-' specifies that the data are inline; i.e., they follow the command.\n",
    "        1 sending gnuplot the plot '-' command \n",
    "        2 followed by data points \n",
    "        3 followed by the letter \"e\" \n",
    "     */\n",
    "     \n",
    "     // 1 sending gnuplot the plot '-' command\n",
    "     fprintf(pipe, \"plot '-' title '<x,y>' with points  pt 7 lc rgb 'blue',\\\n",
    "                         '-' title 'Line' with  linespoints  pt  6 lc rgb 'red'\\n\");\n",
    "     \n",
    "     // 2 followed by data points: <x,y>\n",
    "     for (int i = 0; i < n; i++)\n",
    "     {\n",
    "        fprintf(pipe, \"%lf %lf\\n\", x[i], y[i]);\n",
    "     }\n",
    "     // 3 followed by the letter \"e\" \n",
    "     fprintf(pipe, \"e\");\n",
    "     \n",
    "     // linear fit\n",
    "     fprintf(pipe,\"\\n\"); // start a new draw item\n",
    "     fprintf(pipe, \"%lf %lf\\n\", 0.0, c0+c1*0,0);\n",
    "     for (int i = 0; i < n; i++)\n",
    "     {\n",
    "        fprintf(pipe, \"%lf %lf\\n\", x[i], c0+c1*x[i]);\n",
    "     }\n",
    "     fprintf(pipe, \"%lf %lf\\n\", 20.0,c0+c1*20,0);\n",
    "     fprintf(pipe, \"e\");\n",
    "      \n",
    "     fflush(pipe);\n",
    "     fprintf(pipe, \"exit \\n\"); // exit gnuplot\n",
    "     pclose(pipe);             //close pipe\n",
    "  }\n",
    "  \n",
    "  return 0;\n",
    "}"
   ]
  },
  {
   "cell_type": "markdown",
   "metadata": {},
   "source": [
    "#### Windows"
   ]
  },
  {
   "cell_type": "code",
   "execution_count": 15,
   "metadata": {},
   "outputs": [],
   "source": [
    "!gcc  -o ./demo/bin/gnuplot_pipe_array ./demo/src/gnuplot_pipe_array.c -lgsl -lgslcblas"
   ]
  },
  {
   "cell_type": "code",
   "execution_count": 16,
   "metadata": {},
   "outputs": [
    {
     "name": "stdout",
     "output_type": "stream",
     "text": [
      "best fit: Y = 2.97645 + 0.503727 X\n",
      "covariance matrix:\n",
      "[ 1.23044, -0.121692\n",
      "  -0.121692, 0.0135213]\n",
      "sumsq = 13.3861\n",
      "\n"
     ]
    }
   ],
   "source": [
    "!.\\demo\\bin\\gnuplot_pipe_array"
   ]
  },
  {
   "cell_type": "markdown",
   "metadata": {},
   "source": [
    "##### Linux"
   ]
  },
  {
   "cell_type": "code",
   "execution_count": null,
   "metadata": {},
   "outputs": [],
   "source": [
    "!gcc  -o ./demo/bin/pipegnuplot_variables ./demo/src/pipegnuplot_variables.c -lgsl -lgslcblas -lm "
   ]
  },
  {
   "cell_type": "code",
   "execution_count": null,
   "metadata": {},
   "outputs": [],
   "source": [
    "!./demo/bin/pipegnuplot_variables"
   ]
  },
  {
   "cell_type": "markdown",
   "metadata": {},
   "source": [
    "#### 3.3.2.3 Example 2 : H-S(Mollier) Diagram of Steam Turbine Expansion\n",
    "\n",
    "**SEUIF97 Library**\n",
    "\n",
    "* **Windows**：C:/Windows/system/libseuif97.dll \n",
    "\n",
    "* **Linux:**   /usr/lib/libseuif97.so\n",
    "\n",
    "* ./demo/src/seuif97.h"
   ]
  },
  {
   "cell_type": "code",
   "execution_count": 17,
   "metadata": {},
   "outputs": [
    {
     "name": "stdout",
     "output_type": "stream",
     "text": [
      "Overwriting ./demo/src/gnuplot_pipe_turbine.cpp\n"
     ]
    }
   ],
   "source": [
    "%%file ./demo/src/gnuplot_pipe_turbine.cpp\n",
    "\n",
    "/*\n",
    " H-S(Mollier) Diagram of Steam Turbine Expansion\n",
    "\n",
    " 4 lines:\n",
    "\n",
    "    1  Isobar line:p inlet\n",
    "    2  Isobar line:p outlet\n",
    "    3  isentropic line:  (p inlet ,t inlet h inlet,s inlet), (p outlet,s inlet)\n",
    "    4  Expansion line: inlet,outlet\n",
    "*/\n",
    "\n",
    "#include <iostream>\n",
    "#include <iomanip>\n",
    "#include \"seuif97.h\"\n",
    "\n",
    "using namespace std;\n",
    "\n",
    "struct wmstatus\n",
    "{\n",
    "    double p, t, h, s;\n",
    "};\n",
    "\n",
    "class Turbine\n",
    "{\n",
    "  private:\n",
    "    double his;\n",
    "\n",
    "  public:\n",
    "    wmstatus win, wex;\n",
    "    double ef;\n",
    "\n",
    "    Turbine(double pin, double tin, double pex, double tex);\n",
    "    void analysis(void);\n",
    "    void output(void);\n",
    "    void expansionline(void);\n",
    "};\n",
    "\n",
    "Turbine::Turbine(double pin, double tin, double pex, double tex)\n",
    "{\n",
    "    win.p = pin;\n",
    "    win.t = tin;\n",
    "    wex.p = pex;\n",
    "    wex.t = tex;\n",
    "}\n",
    "\n",
    "void Turbine::analysis(void)\n",
    "{\n",
    "    ef = seuief(win.p, win.t, wex.p, wex.t);\n",
    "    his = seuishd(win.p, win.t, wex.p);\n",
    "\n",
    "    win.h = seupt(win.p, win.t, 4);\n",
    "    win.s = seupt(win.p, win.t, 5);\n",
    "\n",
    "    wex.h = seupt(wex.p, wex.t, 4);\n",
    "    wex.s = seupt(wex.p, wex.t, 5);\n",
    "};\n",
    "\n",
    "void Turbine::output(void)\n",
    "{\n",
    "    cout << \"(Pin,Tin) = (\" << win.p << \",\" << win.t << \")\" << endl;\n",
    "    cout << \"(Pex,Tex) = (\" << wex.p << \",\" << wex.t << \")\" << endl;\n",
    "    cout << \"The isentropic efficiency = \" << setiosflags(ios::fixed) << setprecision (2)<< ef << \"%\" << endl;\n",
    "};\n",
    "\n",
    "void Turbine::expansionline(void)\n",
    "{\n",
    "    double sdelta = 0.01;\n",
    "\n",
    "    // 1 Isobar pin\n",
    "    double s_isopin[2] = {win.s - sdelta, win.s + sdelta};\n",
    "    double h_isopin[2] = {seups(win.p, s_isopin[0], 4), seups(win.p, s_isopin[1], 4)};\n",
    "\n",
    "    // 2 Isobar pex\n",
    "    double s_isopex[2] = {s_isopin[0], wex.s + sdelta};\n",
    "    double h_isopex[2] = {seups(wex.p, s_isopex[0], 4), seups(wex.p, s_isopex[1], 4)};\n",
    "     \n",
    "    // 3 isentropic lines\n",
    "    double h_isos[2] = {win.h,  win.h-his};\n",
    "    double s_isos[2] = {win.s, win.s};\n",
    "\n",
    "    // 4 expansion Line\n",
    "    double h_expL[2] = {win.h, wex.h};\n",
    "    double s_expL[2] = {win.s, wex.s};\n",
    "\n",
    "    // plot lines with gnuplot\n",
    "\n",
    "    FILE *pipe = popen(\"gnuplot -persist\", \"w\"); // Open a pipe to gnuplot\n",
    "    if (pipe)                                    // If gnuplot is found\n",
    "    {\n",
    "        fprintf(pipe, \"set term wx\\n\"); // set the terminal\n",
    "        fprintf(pipe, \"set termoption enhanced\\n\"); //  set enhanced text mode \n",
    "        fprintf(pipe, \"set xlabel 's(kJ/(kg.K))'\\n\");\n",
    "        fprintf(pipe, \"set ylabel 'h(kJ/kg)'\\n\");\n",
    "        fprintf(pipe, \"set title 'H-S(Mollier) Diagram of Steam Turbine Expansion'\\n\");\n",
    "        fprintf(pipe, \"set yrange [%lf:%lf]\\n\", h_isopex[0]-20, h_isopin[1]+20);\n",
    "        fprintf(pipe, \"set xrange [%lf:%lf]\\n\", s_isopex[0]-0.01,s_isopex[1]+0.01);\n",
    "        fprintf(pipe, \"set label 'The isentropic efficiency=(h_1-h_2)/(h_1-h_{2s})= %.2f%%' at %lf,%lf left\\n\", ef, s_isopin[1] + 0.01, h_isopin[1] - 50);\n",
    "\n",
    "        fprintf(pipe, \"plot '-' title '' with line lc rgb 'blue', \\\n",
    "                       '-' title '' with line lc rgb 'blue',\\\n",
    "                       '-' title '' with linespoints lc rgb 'orange',\\\n",
    "                       '-' title 'Expansion Line' with linespoints lc rgb 'red'\\n\");\n",
    "      \n",
    "        // 1 Isobar line : pin\n",
    "        for (int i = 0; i < 2; i++)\n",
    "        {\n",
    "            fprintf(pipe, \"%lf %lf\\n\", s_isopin[i], h_isopin[i]);\n",
    "        }\n",
    "        fprintf(pipe, \"e\");\n",
    "\n",
    "        // 2 Isobar line : pex\n",
    "        fprintf(pipe, \"\\n\");// start a new draw item\n",
    "        for (int i = 0; i < 2; i++)\n",
    "        {\n",
    "            fprintf(pipe, \"%lf %lf\\n\", s_isopex[i], h_isopex[i]);\n",
    "        }\n",
    "        fprintf(pipe, \"e\");\n",
    "\n",
    "        // 3 isentropic lines\n",
    "        fprintf(pipe, \"\\n\");// start a new draw item\n",
    "        for (int i = 0; i < 2; i++)\n",
    "        {\n",
    "            fprintf(pipe, \"%lf %lf\\n\", s_isos[i], h_isos[i]);\n",
    "        }\n",
    "        fprintf(pipe, \"e\");\n",
    "\n",
    "        // 4 Expansion Line\n",
    "        fprintf(pipe, \"\\n\");// start a new draw item\n",
    "        for (int i = 0; i < 2; i++)\n",
    "        {\n",
    "            fprintf(pipe, \"%lf %lf\\n\", s_expL[i], h_expL[i]);\n",
    "        }\n",
    "        fprintf(pipe, \"e\");\n",
    "\n",
    "        fflush(pipe);\n",
    "        fprintf(pipe, \"exit\\n\"); // exit gnuplot\n",
    "        pclose(pipe);            //close pipe\n",
    "    };                           // end of if\n",
    "};\n",
    "\n",
    "int main(void)\n",
    "{\n",
    "    double pin = 16.0;\n",
    "    double tin = 535.0;\n",
    "    double pex = 3.56;\n",
    "    double tex = 315.0;\n",
    "    Turbine tb1 = Turbine(pin, tin, pex, tex);\n",
    "    tb1.analysis();\n",
    "    tb1.output();\n",
    "    tb1.expansionline();\n",
    "    return 0;\n",
    "}\n"
   ]
  },
  {
   "cell_type": "markdown",
   "metadata": {},
   "source": [
    "##### Windows"
   ]
  },
  {
   "cell_type": "code",
   "execution_count": 18,
   "metadata": {},
   "outputs": [],
   "source": [
    "!g++ -o ./demo/bin/turbine ./demo/src/gnuplot_pipe_turbine.cpp -LC:/Windows/system/  -lseuif97"
   ]
  },
  {
   "cell_type": "code",
   "execution_count": 19,
   "metadata": {},
   "outputs": [
    {
     "name": "stdout",
     "output_type": "stream",
     "text": [
      "(Pin,Tin) = (16,535)\n",
      "(Pex,Tex) = (3.56,315)\n",
      "The isentropic efficiency = 89.92%\n"
     ]
    }
   ],
   "source": [
    "!.\\demo\\bin\\turbine"
   ]
  },
  {
   "cell_type": "markdown",
   "metadata": {},
   "source": [
    "##### Linux"
   ]
  },
  {
   "cell_type": "code",
   "execution_count": null,
   "metadata": {},
   "outputs": [],
   "source": [
    "!g++ -o ./demo/bin/turbine ./demo/src/gnuplot_pipe_turbine.cpp -L/usr/lib/  -lseuif97 -lm"
   ]
  },
  {
   "cell_type": "code",
   "execution_count": null,
   "metadata": {},
   "outputs": [],
   "source": [
    "!./demo/bin/turbine"
   ]
  },
  {
   "cell_type": "markdown",
   "metadata": {},
   "source": [
    "# Reference\n",
    "\n",
    "* edX: Introduction to Linux https://www.edx.org/course/introduction-to-linux\n",
    "\n",
    "* Ubuntu https://www.ubuntu.com/\n",
    "\n",
    "  * Ubuntukylin https://www.ubuntukylin.com/\n",
    " \n",
    "* GSL - GNU Scientific Library https://www.gnu.org/software/gsl/\n",
    "\n",
    "    * The GSL Reference Manual online https://www.gnu.org/software/gsl/doc/html/index.html\n",
    "\n",
    "* Gnuplot homepage http://gnuplot.info/\n",
    "\n",
    "    * Nishanth Sastry. [Visualize your data with gnuplot](http://fitzkee.chemistry.msstate.edu/sites/default/files/ch8990/ibm-gnuplot.pdf)\n",
    "  \n",
    "      * [中文版:gnuplot让您的数据可视化](https://www.ibm.com/developerworks/cn/linux/l-gnuplot/))\n",
    "    \n",
    "    * Henri Gavin. [GNUPLOT 4.2 - A Brief Manual and Tutorial](http://people.duke.edu/~hpgavin/gnuplot.html)\n",
    "\n",
    "    * Philipp K. Janert. Gnuplot in Action:Understanding data with graphs(2nd Edition). Manning Publications Co.2016\n"
   ]
  }
 ],
 "metadata": {
  "kernelspec": {
   "display_name": "Python 3",
   "language": "python",
   "name": "python3"
  },
  "language_info": {
   "codemirror_mode": {
    "name": "ipython",
    "version": 3
   },
   "file_extension": ".py",
   "mimetype": "text/x-python",
   "name": "python",
   "nbconvert_exporter": "python",
   "pygments_lexer": "ipython3",
   "version": "3.7.2"
  },
  "toc": {
   "base_numbering": 1,
   "nav_menu": {},
   "number_sections": false,
   "sideBar": true,
   "skip_h1_title": false,
   "title_cell": "Table of Contents",
   "title_sidebar": "Contents",
   "toc_cell": false,
   "toc_position": {},
   "toc_section_display": true,
   "toc_window_display": true
  },
  "widgets": {
   "state": {},
   "version": "1.1.2"
  }
 },
 "nbformat": 4,
 "nbformat_minor": 2
}
