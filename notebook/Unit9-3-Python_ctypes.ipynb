{
 "cells": [
  {
   "cell_type": "markdown",
   "metadata": {},
   "source": [
    "# C/C++ Library with Python \n",
    "\n",
    "The advantage of Python is that it is **flexible and easy** to program. The time it takes to setup a new calulation is therefore short. \n",
    "\n",
    "But for certain types of calculations Python (and any other interpreted language) can be **very slow**.\n",
    "\n",
    "Such calculations may be implemented in a compiled language such as C or Fortran."
   ]
  },
  {
   "cell_type": "code",
   "execution_count": null,
   "metadata": {},
   "outputs": [],
   "source": [
    "import seuif97\n",
    "%timeit seuif97.pt2h(15,535)"
   ]
  },
  {
   "cell_type": "code",
   "execution_count": null,
   "metadata": {},
   "outputs": [],
   "source": [
    "from iapws.iapws97 import IAPWS97\n",
    "%timeit IAPWS97(P=16.10,T=535.10).h"
   ]
  },
  {
   "cell_type": "markdown",
   "metadata": {},
   "source": [
    "## 1 ctypes - access the C library\n",
    "\n",
    "**ctypes** is a foreign function library for Python. It provides C compatible data types, and allows calling functions in DLLs or shared libraries. It can be used to wrap these libraries in pure Python.\n",
    "\n",
    "http://docs.python.org/3/library/ctypes.html\n",
    "\n",
    "We need to load the library and set properties such as the functions return and argument types using the **ctypes** package :\n",
    "\n",
    "* **ctypes** exports the **cdll**, and on Windows **windll** objects, for loading dynamic link libraries.\n",
    "   * **cdll.LoadLibrary(name)** : loads the library  which export functions using standard `__cdecl` calling convention\n",
    "   * **windll.LoadLibrary(name)** : loads the library with `__stdcall` calling convention for the function \n",
    "\n",
    "\n",
    "* **argtypes** : the types of the arguments \n",
    "\n",
    "\n",
    "* **restype**: the types of return values. "
   ]
  },
  {
   "cell_type": "markdown",
   "metadata": {},
   "source": [
    "#### `__cdecl` calling convention for the function(windows,Linux)\n",
    "\n",
    "**msvcrt** is the MS **standard C library** containing most standard C functions, and uses the cdecl calling convention:"
   ]
  },
  {
   "cell_type": "code",
   "execution_count": null,
   "metadata": {},
   "outputs": [],
   "source": [
    "from ctypes import *\n",
    "print(cdll.msvcrt)"
   ]
  },
  {
   "cell_type": "markdown",
   "metadata": {},
   "source": [
    "#### `__stdcall` calling convention for the function(windows only) "
   ]
  },
  {
   "cell_type": "code",
   "execution_count": null,
   "metadata": {},
   "outputs": [],
   "source": [
    "from ctypes import *\n",
    "print(windll.kernel32)"
   ]
  },
  {
   "cell_type": "markdown",
   "metadata": {},
   "source": [
    "### Wrap the Shared Library in the pure Python API.\n",
    "\n",
    "1 `__cdecl` calling convention\n",
    "\n",
    " libmultifuns.dll "
   ]
  },
  {
   "cell_type": "code",
   "execution_count": null,
   "metadata": {},
   "outputs": [],
   "source": [
    "%%file ./demo/src/funs.h\n",
    "\n",
    "#ifndef FUNS_H\n",
    "#define FUNS_H\n",
    "\n",
    "double dprod(double *x, int n);\n",
    "int factorial(int n);\n",
    "\n",
    "#endif"
   ]
  },
  {
   "cell_type": "code",
   "execution_count": null,
   "metadata": {},
   "outputs": [],
   "source": [
    "%%file ./demo/src/multifuns.py\n",
    "\n",
    "from ctypes import cdll,c_int,c_double,POINTER\n",
    "\n",
    "_lib = cdll.LoadLibrary('./demo/bin/libmultifuns.dll')\n",
    "\n",
    "# double dprod(double *x, int n)\n",
    "def dprod(x):\n",
    "    _lib.dprod.argtypes = [POINTER(c_double), c_int]\n",
    "    _lib.dprod.restype  = c_double\n",
    "    n = len(x)\n",
    "    #  convert a Python list into a C array by using ctypes\n",
    "    arr= (c_double * n)(*x)\n",
    "    return _lib.dprod(arr,int(n))\n",
    "\n",
    "# int factorial(int n)\n",
    "def factorial(n):\n",
    "    _lib.factorial.argtypes = [c_int]\n",
    "    _lib.factorial.restype  = c_int\n",
    "    return _lib.factorial(n)\n",
    "\n",
    "# int isum(int array[], int size);\n",
    "def isum(x):\n",
    "    _lib.sum.argtypes = [POINTER(c_int), c_int]\n",
    "    _lib.sum.restype =c_int\n",
    "    n = len(x)\n",
    "    #  convert a Python list into a C array by using ctypes\n",
    "    arr= (c_int * n)(*x)\n",
    "    return _lib.sum(arr,int(n))"
   ]
  },
  {
   "cell_type": "code",
   "execution_count": null,
   "metadata": {},
   "outputs": [],
   "source": [
    "import sys\n",
    "sys.path.append('./demo/src')"
   ]
  },
  {
   "cell_type": "code",
   "execution_count": null,
   "metadata": {},
   "outputs": [],
   "source": [
    "import multifuns\n",
    "print(multifuns.dprod([8.0, 4.0, 5.0, 3.0, 2.0])) \n",
    "print(multifuns.factorial(5)) \n",
    "print(multifuns.isum([8, 4, 5, 3, 2]))"
   ]
  },
  {
   "cell_type": "markdown",
   "metadata": {},
   "source": [
    "2 `__stdcall` calling convention \n",
    "\n",
    "SEUIF97.dll\n",
    "\n",
    "`ctypes.WINFUNCTYPE(restype, *argtypes, use_errno=False, use_last_error=False)`\n",
    "\n",
    "* **Windows only**: The returned function prototype creates functions that use the stdcall calling convention, except on Windows CE where WINFUNCTYPE() is the same as CFUNCTYPE(). The function will release the GIL during the call. use_errno and use_last_error have the same meaning as above."
   ]
  },
  {
   "cell_type": "code",
   "execution_count": null,
   "metadata": {},
   "outputs": [],
   "source": [
    "from ctypes import *\n",
    "\n",
    "flib = windll.LoadLibrary('libseuif97.dll')\n",
    "prototype = WINFUNCTYPE(c_double, c_double, c_double, c_int)\n",
    "\n",
    "# ---(p,t) ----------------\n",
    "def pt(p, t, pid):\n",
    "    f = prototype((\"seupt\", flib),)\n",
    "    result = f(p, t, pid)\n",
    "    return result\n",
    "\n",
    "\n",
    "def pt2h(p, t):\n",
    "    f = prototype((\"seupt\", flib),)\n",
    "    result = f(p, t, 4)\n",
    "    return result"
   ]
  },
  {
   "cell_type": "code",
   "execution_count": null,
   "metadata": {},
   "outputs": [],
   "source": [
    "h=pt(16,535,4)\n",
    "h"
   ]
  },
  {
   "cell_type": "markdown",
   "metadata": {},
   "source": [
    "##  2 Using C compatible data types\n",
    "\n",
    "\n",
    "###  Fundamental data types\n",
    "\n",
    "ctypes defines a number of primitive C compatible data types:\n",
    "\n",
    "https://docs.python.org/3/library/ctypes.html#fundamental-data-types\n",
    "\n",
    "\n",
    "\n",
    "<table class=\"docutils\" border=\"1\">\n",
    "<colgroup>\n",
    "<col width=\"24%\">\n",
    "<col width=\"46%\">\n",
    "<col width=\"30%\">\n",
    "</colgroup>\n",
    "<thead valign=\"bottom\">\n",
    "<tr class=\"row-odd\"><th class=\"head\">ctypes type</th>\n",
    "<th class=\"head\">C type</th>\n",
    "<th class=\"head\">Python type</th>\n",
    "</tr>\n",
    "</thead>\n",
    "<tbody valign=\"top\">\n",
    "<tr class=\"row-even\"><td><a title=\"ctypes.c_bool\" class=\"reference internal\" href=\"#ctypes.c_bool\"><code class=\"xref py py-class docutils literal notranslate\"><span class=\"pre\">c_bool</span></code></a></td>\n",
    "<td><code class=\"xref c c-type docutils literal notranslate\"><span class=\"pre\">_Bool</span></code></td>\n",
    "<td>bool (1)</td>\n",
    "</tr>\n",
    "<tr class=\"row-odd\"><td><a title=\"ctypes.c_char\" class=\"reference internal\" href=\"#ctypes.c_char\"><code class=\"xref py py-class docutils literal notranslate\"><span class=\"pre\">c_char</span></code></a></td>\n",
    "<td><code class=\"xref c c-type docutils literal notranslate\"><span class=\"pre\">char</span></code></td>\n",
    "<td>1-character bytes object</td>\n",
    "</tr>\n",
    "<tr class=\"row-even\"><td><a title=\"ctypes.c_wchar\" class=\"reference internal\" href=\"#ctypes.c_wchar\"><code class=\"xref py py-class docutils literal notranslate\"><span class=\"pre\">c_wchar</span></code></a></td>\n",
    "<td><code class=\"xref c c-type docutils literal notranslate\"><span class=\"pre\">wchar_t</span></code></td>\n",
    "<td>1-character string</td>\n",
    "</tr>\n",
    "<tr class=\"row-odd\"><td><a title=\"ctypes.c_byte\" class=\"reference internal\" href=\"#ctypes.c_byte\"><code class=\"xref py py-class docutils literal notranslate\"><span class=\"pre\">c_byte</span></code></a></td>\n",
    "<td><code class=\"xref c c-type docutils literal notranslate\"><span class=\"pre\">char</span></code></td>\n",
    "<td>int</td>\n",
    "</tr>\n",
    "<tr class=\"row-even\"><td><a title=\"ctypes.c_ubyte\" class=\"reference internal\" href=\"#ctypes.c_ubyte\"><code class=\"xref py py-class docutils literal notranslate\"><span class=\"pre\">c_ubyte</span></code></a></td>\n",
    "<td><code class=\"xref c c-type docutils literal notranslate\"><span class=\"pre\">unsigned</span> <span class=\"pre\">char</span></code></td>\n",
    "<td>int</td>\n",
    "</tr>\n",
    "<tr class=\"row-odd\"><td><a title=\"ctypes.c_short\" class=\"reference internal\" href=\"#ctypes.c_short\"><code class=\"xref py py-class docutils literal notranslate\"><span class=\"pre\">c_short</span></code></a></td>\n",
    "<td><code class=\"xref c c-type docutils literal notranslate\"><span class=\"pre\">short</span></code></td>\n",
    "<td>int</td>\n",
    "</tr>\n",
    "<tr class=\"row-even\"><td><a title=\"ctypes.c_ushort\" class=\"reference internal\" href=\"#ctypes.c_ushort\"><code class=\"xref py py-class docutils literal notranslate\"><span class=\"pre\">c_ushort</span></code></a></td>\n",
    "<td><code class=\"xref c c-type docutils literal notranslate\"><span class=\"pre\">unsigned</span> <span class=\"pre\">short</span></code></td>\n",
    "<td>int</td>\n",
    "</tr>\n",
    "<tr class=\"row-odd\"><td><a title=\"ctypes.c_int\" class=\"reference internal\" href=\"#ctypes.c_int\"><code class=\"xref py py-class docutils literal notranslate\"><span class=\"pre\">c_int</span></code></a></td>\n",
    "<td><code class=\"xref c c-type docutils literal notranslate\"><span class=\"pre\">int</span></code></td>\n",
    "<td>int</td>\n",
    "</tr>\n",
    "<tr class=\"row-even\"><td><a title=\"ctypes.c_uint\" class=\"reference internal\" href=\"#ctypes.c_uint\"><code class=\"xref py py-class docutils literal notranslate\"><span class=\"pre\">c_uint</span></code></a></td>\n",
    "<td><code class=\"xref c c-type docutils literal notranslate\"><span class=\"pre\">unsigned</span> <span class=\"pre\">int</span></code></td>\n",
    "<td>int</td>\n",
    "</tr>\n",
    "<tr class=\"row-odd\"><td><a title=\"ctypes.c_long\" class=\"reference internal\" href=\"#ctypes.c_long\"><code class=\"xref py py-class docutils literal notranslate\"><span class=\"pre\">c_long</span></code></a></td>\n",
    "<td><code class=\"xref c c-type docutils literal notranslate\"><span class=\"pre\">long</span></code></td>\n",
    "<td>int</td>\n",
    "</tr>\n",
    "<tr class=\"row-even\"><td><a title=\"ctypes.c_ulong\" class=\"reference internal\" href=\"#ctypes.c_ulong\"><code class=\"xref py py-class docutils literal notranslate\"><span class=\"pre\">c_ulong</span></code></a></td>\n",
    "<td><code class=\"xref c c-type docutils literal notranslate\"><span class=\"pre\">unsigned</span> <span class=\"pre\">long</span></code></td>\n",
    "<td>int</td>\n",
    "</tr>\n",
    "<tr class=\"row-odd\"><td><a title=\"ctypes.c_longlong\" class=\"reference internal\" href=\"#ctypes.c_longlong\"><code class=\"xref py py-class docutils literal notranslate\"><span class=\"pre\">c_longlong</span></code></a></td>\n",
    "<td><code class=\"xref c c-type docutils literal notranslate\"><span class=\"pre\">__int64</span></code> or <code class=\"xref c c-type docutils literal notranslate\"><span class=\"pre\">long</span> <span class=\"pre\">long</span></code></td>\n",
    "<td>int</td>\n",
    "</tr>\n",
    "<tr class=\"row-even\"><td><a title=\"ctypes.c_ulonglong\" class=\"reference internal\" href=\"#ctypes.c_ulonglong\"><code class=\"xref py py-class docutils literal notranslate\"><span class=\"pre\">c_ulonglong</span></code></a></td>\n",
    "<td><code class=\"xref c c-type docutils literal notranslate\"><span class=\"pre\">unsigned</span> <span class=\"pre\">__int64</span></code> or\n",
    "<code class=\"xref c c-type docutils literal notranslate\"><span class=\"pre\">unsigned</span> <span class=\"pre\">long</span> <span class=\"pre\">long</span></code></td>\n",
    "<td>int</td>\n",
    "</tr>\n",
    "<tr class=\"row-odd\"><td><a title=\"ctypes.c_size_t\" class=\"reference internal\" href=\"#ctypes.c_size_t\"><code class=\"xref py py-class docutils literal notranslate\"><span class=\"pre\">c_size_t</span></code></a></td>\n",
    "<td><code class=\"xref c c-type docutils literal notranslate\"><span class=\"pre\">size_t</span></code></td>\n",
    "<td>int</td>\n",
    "</tr>\n",
    "<tr class=\"row-even\"><td><a title=\"ctypes.c_ssize_t\" class=\"reference internal\" href=\"#ctypes.c_ssize_t\"><code class=\"xref py py-class docutils literal notranslate\"><span class=\"pre\">c_ssize_t</span></code></a></td>\n",
    "<td><code class=\"xref c c-type docutils literal notranslate\"><span class=\"pre\">ssize_t</span></code> or\n",
    "<code class=\"xref c c-type docutils literal notranslate\"><span class=\"pre\">Py_ssize_t</span></code></td>\n",
    "<td>int</td>\n",
    "</tr>\n",
    "<tr class=\"row-odd\"><td><a title=\"ctypes.c_float\" class=\"reference internal\" href=\"#ctypes.c_float\"><code class=\"xref py py-class docutils literal notranslate\"><span class=\"pre\">c_float</span></code></a></td>\n",
    "<td><code class=\"xref c c-type docutils literal notranslate\"><span class=\"pre\">float</span></code></td>\n",
    "<td>float</td>\n",
    "</tr>\n",
    "<tr class=\"row-even\"><td><a title=\"ctypes.c_double\" class=\"reference internal\" href=\"#ctypes.c_double\"><code class=\"xref py py-class docutils literal notranslate\"><span class=\"pre\">c_double</span></code></a></td>\n",
    "<td><code class=\"xref c c-type docutils literal notranslate\"><span class=\"pre\">double</span></code></td>\n",
    "<td>float</td>\n",
    "</tr>\n",
    "<tr class=\"row-odd\"><td><a title=\"ctypes.c_longdouble\" class=\"reference internal\" href=\"#ctypes.c_longdouble\"><code class=\"xref py py-class docutils literal notranslate\"><span class=\"pre\">c_longdouble</span></code></a></td>\n",
    "<td><code class=\"xref c c-type docutils literal notranslate\"><span class=\"pre\">long</span> <span class=\"pre\">double</span></code></td>\n",
    "<td>float</td>\n",
    "</tr>\n",
    "<tr class=\"row-even\"><td><a title=\"ctypes.c_char_p\" class=\"reference internal\" href=\"#ctypes.c_char_p\"><code class=\"xref py py-class docutils literal notranslate\"><span class=\"pre\">c_char_p</span></code></a></td>\n",
    "<td><code class=\"xref c c-type docutils literal notranslate\"><span class=\"pre\">char</span> <span class=\"pre\">*</span></code> (NUL terminated)</td>\n",
    "<td>bytes object or <code class=\"docutils literal notranslate\"><span class=\"pre\">None</span></code></td>\n",
    "</tr>\n",
    "<tr class=\"row-odd\"><td><a title=\"ctypes.c_wchar_p\" class=\"reference internal\" href=\"#ctypes.c_wchar_p\"><code class=\"xref py py-class docutils literal notranslate\"><span class=\"pre\">c_wchar_p</span></code></a></td>\n",
    "<td><code class=\"xref c c-type docutils literal notranslate\"><span class=\"pre\">wchar_t</span> <span class=\"pre\">*</span></code> (NUL terminated)</td>\n",
    "<td>string or <code class=\"docutils literal notranslate\"><span class=\"pre\">None</span></code></td>\n",
    "</tr>\n",
    "<tr class=\"row-even\"><td><a title=\"ctypes.c_void_p\" class=\"reference internal\" href=\"#ctypes.c_void_p\"><code class=\"xref py py-class docutils literal notranslate\"><span class=\"pre\">c_void_p</span></code></a></td>\n",
    "<td><code class=\"xref c c-type docutils literal notranslate\"><span class=\"pre\">void</span> <span class=\"pre\">*</span></code></td>\n",
    "<td>int or <code class=\"docutils literal notranslate\"><span class=\"pre\">None</span></code></td>\n",
    "</tr>\n",
    "</tbody>\n",
    "</table>\n",
    " \n",
    "All these types can be created by calling them with an optional initializer of the correct type and value:"
   ]
  },
  {
   "cell_type": "code",
   "execution_count": null,
   "metadata": {},
   "outputs": [],
   "source": [
    "i=c_int()\n",
    "i=42\n",
    "i"
   ]
  },
  {
   "cell_type": "code",
   "execution_count": null,
   "metadata": {},
   "outputs": [],
   "source": [
    "i = c_int(42)\n",
    "i"
   ]
  },
  {
   "cell_type": "markdown",
   "metadata": {},
   "source": [
    "### The Example\n",
    "\n",
    "The examples show that how to use **C compatible data type** to call functions in DLLs\n",
    "\n",
    "* Structure\n",
    "\n",
    "* Arrays(one/two-dimensional)"
   ]
  },
  {
   "cell_type": "markdown",
   "metadata": {},
   "source": [
    "####  The Functions in C"
   ]
  },
  {
   "cell_type": "code",
   "execution_count": null,
   "metadata": {},
   "outputs": [],
   "source": [
    "%%file ./demo/src/democtypes.c\n",
    "\n",
    "// 1 Struct\n",
    "typedef struct SimpleStruct1\n",
    "{\n",
    "    int nNo;\n",
    "    float fValue;\n",
    "} SimpleStruct;\n",
    "\n",
    "__declspec(dllexport)  int __stdcall  TestSimpleStruct(int *n,int *m,SimpleStruct struin,SimpleStruct *struout)\n",
    "{\n",
    "  struout->fValue= struin.fValue+2;\n",
    "  struout->nNo=struin.nNo+3;\n",
    "  \n",
    "  *n=struin.nNo+20;\n",
    "  *m=*n+30;\n",
    "  return struout->nNo;\n",
    "}\n",
    "\n",
    "// 2 using the name of one-dimensional array in Python，non byref\n",
    "__declspec(dllexport)  void  __stdcall  TestArray1(int nsize,double *narray)\n",
    "{\n",
    "  for(int i=0; i<nsize; i++)\n",
    "  {\n",
    "     narray[i]=i*2.3;  \n",
    "  }\n",
    "}\n",
    "\n",
    "// 3 using the name of two-dimensional array in Python，  non byref\n",
    "__declspec(dllexport)  void  __stdcall  TestArray21(int ni, int nj,double *ptr)\n",
    "{\n",
    "    int i, j;\n",
    "    for(i=0; i<ni; i++)\n",
    "    {\n",
    "        for(j=0; j<nj; j++)\n",
    "        {\n",
    "            ptr[i*ni+j]= ptr[i*ni+j]+i*ni + j;\n",
    "        }\n",
    "\t}       \n",
    "}\n",
    "\n",
    "// 4 using byref in Python\n",
    "__declspec(dllexport)  void  __stdcall  TestArray22(int ni, int nj,double **ptr)\n",
    "{\n",
    "    int i, j;\n",
    "    for(i=0; i<ni; i++)\n",
    "    {\n",
    "        for(j=0; j<nj; j++)\n",
    "        {\n",
    "            ptr[i][j]=ptr[i][j]+i*ni + j;\n",
    "        }\n",
    "\t} \n",
    "}"
   ]
  },
  {
   "cell_type": "code",
   "execution_count": null,
   "metadata": {},
   "outputs": [],
   "source": [
    "%%file ./demo/makefile-democtypesdll\n",
    "\n",
    "all: libdemoctypes\n",
    "\n",
    "libdemoctypes: obj\n",
    "\t gcc  -shared -o ./demo/bin/libdemoctypes.dll democtypes.o\n",
    "\t del democtypes.o\n",
    "\n",
    "obj: \n",
    "\t gcc -c -O3 -Wall -fPIC  ./demo/src/democtypes.c "
   ]
  },
  {
   "cell_type": "code",
   "execution_count": null,
   "metadata": {},
   "outputs": [],
   "source": [
    "!make -f ./demo/makefile-democtypesdll"
   ]
  },
  {
   "cell_type": "markdown",
   "metadata": {},
   "source": [
    "####  Using C compatible data types to Call DLL\n",
    "\n",
    "##### 1 Loading dynamic link libraries \n",
    "\n",
    "`windll` loads libraries which export functions using the `stdcall` calling convention "
   ]
  },
  {
   "cell_type": "code",
   "execution_count": null,
   "metadata": {},
   "outputs": [],
   "source": [
    "from ctypes import *\n",
    "\n",
    "flib=windll.LoadLibrary(\"./demo/bin/libdemoctypes.dll\")"
   ]
  },
  {
   "cell_type": "markdown",
   "metadata": {},
   "source": [
    "#### 2  using ctypes to call DLL : Structures\n",
    "\n",
    "[Structures](https://docs.python.org/3/library/ctypes.html#structures-and-unions) must derive from the `Structure` base classes which are defined in the `ctypes` module.\n",
    "\n",
    "Each subclass must define a `_fields_` attribute.\n",
    "\n",
    "`_fields_` must be `a list of 2-tuples`, containing a field `name` and a field `type`: \n",
    "\n",
    "```python\n",
    "_fields_=[(a field name,a field `type`)]\n",
    "```"
   ]
  },
  {
   "cell_type": "code",
   "execution_count": null,
   "metadata": {},
   "outputs": [],
   "source": [
    "class SimpStruct(Structure):\n",
    "    _fields_ = [(\"nNo\", c_int),\n",
    "                (\"fValue\", c_float)]\n",
    "\n",
    "#  TestSimpleStruct\n",
    "f1=flib.TestSimpleStruct\n",
    "simplein = SimpStruct()\n",
    "simplein.nNo = 16\n",
    "simplein.fValue = 3.14\n",
    "\n",
    "simpleout = SimpStruct()\n",
    "\n",
    "n=c_int()\n",
    "m=c_int()\n",
    "nNo=f1(byref(n),byref(m),simplein,byref(simpleout))\n",
    "\n",
    "print(simpleout.fValue)\n",
    "print(nNo)\n",
    "print(n.value)\n",
    "print(m.value)"
   ]
  },
  {
   "cell_type": "markdown",
   "metadata": {},
   "source": [
    "##### 3  using ctypes to call DLL :one/two-dimensional Array\n",
    "\n",
    "[Arrays](https://docs.python.org/3/library/ctypes.html#arrays) are sequences, containing a fixed number of instances of the same type.\n",
    "\n",
    "The recommended way to create array types is by multiplying a data type with a positive integer:"
   ]
  },
  {
   "cell_type": "code",
   "execution_count": null,
   "metadata": {},
   "outputs": [],
   "source": [
    "narray=(c_double*10)()  \n",
    "type(narray)"
   ]
  },
  {
   "cell_type": "code",
   "execution_count": null,
   "metadata": {},
   "outputs": [],
   "source": [
    "list1=[1,2,3]\n",
    "narray=(c_double*len(list1))(*list1)\n",
    "print(narray,narray[1])"
   ]
  },
  {
   "cell_type": "code",
   "execution_count": null,
   "metadata": {},
   "outputs": [],
   "source": [
    "#  one-dimensional array\n",
    "f2=flib.TestArray1\n",
    "na=c_int()\n",
    "na=10\n",
    "\n",
    "narray=(c_double*10)()  \n",
    "\n",
    "# using the name of one-dimensional array,non byref\n",
    "f2(na,narray)\n",
    "print(narray[8])\n",
    "\n",
    "#  two-dimensional array  \n",
    "f3=flib.TestArray21\n",
    "ptr = (c_double*5*4)()\n",
    "# two-dimensional array: j*i\n",
    "for i in range(4):\n",
    "    for j in range(5):\n",
    "        ptr[i][j] = i + j\n",
    "        \n",
    "# using the name of two-dimensional array,non byref，\n",
    "f3(4,5,ptr)\n",
    "print(ptr[1][3])\n",
    "\n",
    "# two-dimensional array\n",
    "f4=flib.TestArray22\n",
    "indata = (POINTER(c_double) * 5)()\n",
    "for i in range(5):\n",
    "    # Allocate arrays of double\n",
    "    indata[i] = (c_double * 6)()\n",
    "    for j in range(6):\n",
    "        indata[i][j] = 1.0\n",
    "\n",
    "f4(5,6,byref(indata))\n",
    "print(indata[1][3])\n"
   ]
  },
  {
   "cell_type": "markdown",
   "metadata": {},
   "source": [
    "## Reference\n",
    "\n",
    "Python ctypes http://docs.python.org/3/library/ctypes.html\n",
    "\n",
    "C-Types Foreign Function Interface (numpy.ctypeslib)\n",
    "  https://docs.scipy.org/doc/numpy/reference/routines.ctypeslib.html\n",
    "  "
   ]
  }
 ],
 "metadata": {
  "kernelspec": {
   "display_name": "Python 3",
   "language": "python",
   "name": "python3"
  },
  "language_info": {
   "codemirror_mode": {
    "name": "ipython",
    "version": 3
   },
   "file_extension": ".py",
   "mimetype": "text/x-python",
   "name": "python",
   "nbconvert_exporter": "python",
   "pygments_lexer": "ipython3",
   "version": "3.7.0"
  },
  "toc": {
   "base_numbering": 1,
   "nav_menu": {},
   "number_sections": false,
   "sideBar": true,
   "skip_h1_title": false,
   "title_cell": "Table of Contents",
   "title_sidebar": "Contents",
   "toc_cell": false,
   "toc_position": {},
   "toc_section_display": true,
   "toc_window_display": false
  },
  "widgets": {
   "state": {},
   "version": "1.1.2"
  }
 },
 "nbformat": 4,
 "nbformat_minor": 1
}
