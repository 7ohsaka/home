{
 "cells": [
  {
   "cell_type": "markdown",
   "metadata": {
    "slideshow": {
     "slide_type": "-"
    }
   },
   "source": [
    "# 4 FUNCTIONS, SCOPING, AND ABSTRACTION\n",
    "\n",
    "So far, we have introduced **numbers types, operator, expressions,  variable,assignments, input/output, and control constructs**. \n",
    "\n",
    "How powerful is this subset of Python? \n",
    "\n",
    "In a theoretical sense, it is as powerful as you will ever need. This means that \n",
    "\n",
    "* if a problem can be `solved via computation`, \n",
    "\n",
    "* it can be solved `using only those statements` you have already seen.**\n",
    "\n",
    "Which isn’t to say that you should use only these statements. \n",
    "\n",
    "At this point we have covered a lot of language mechanisms, but the code has been a `single` sequence of instructions, all merged together.\n",
    "\n",
    "For example, in the last chapter we looked at the code"
   ]
  },
  {
   "cell_type": "code",
   "execution_count": null,
   "metadata": {},
   "outputs": [],
   "source": [
    "x = 25\n",
    "epsilon = 0.01\n",
    "numGuesses = 0\n",
    "\n",
    "low = 0.0\n",
    "high = max(1.0, x)   # build-in function\n",
    "\n",
    "ans = (high + low)/2.0\n",
    "while abs(ans**2 - x) >= epsilon:\n",
    "    numGuesses += 1\n",
    "    if ans**2 < x:\n",
    "        low = ans\n",
    "    else:\n",
    "        high = ans\n",
    "    ans = (high + low)/2.0\n",
    "\n",
    "print('numGuesses =', numGuesses)\n",
    "print(ans, 'is close to square root of', x)"
   ]
  },
  {
   "cell_type": "markdown",
   "metadata": {},
   "source": [
    "This is a reasonable piece of code, but it lacks <b style=\"color:blue\">general(通用/泛化）</b> utility. \n",
    "\n",
    "It works `only` for values denoted by the variables `x and epsilon`. \n",
    "\n",
    "This means that if we want to `reuse` it, we need to `copy` the code, possibly `edit` the variable names, and `paste` it where we want it.\n",
    "\n",
    "Python provides several linguistic features that make it relatively easy to <b style=\"color:blue\">generalize and reuse </b>code. \n",
    "\n",
    "The most important is the <b style=\"color:blue\">function</b>"
   ]
  },
  {
   "cell_type": "markdown",
   "metadata": {},
   "source": [
    "## 4.1 Functions and Scoping\n",
    "\n",
    "### 4.1.1 Function Definitions\n",
    "In Python each function definition is of the form：\n",
    "```python\n",
    "def nameoffunction (list_of_formal_parameters):\n",
    "    body of function \n",
    "```\n",
    "\n",
    "```python\n",
    "def nameoffunction (list_of_formal_parameters):\n",
    "    body of function \n",
    "    return parameters\n",
    "```  \n",
    "\n",
    "* The keyword <b style=\"color:blue\">def</b> introduces a function definition. \n",
    "\n",
    "* It must be followed by the `function name` and the parenthesized <b style=\"color:blue\">()</b> list of `formal parameters`,and by the final colon <b style=\"color:red\">:</b> that ends the line\n",
    "\n",
    "* The statements that form the body of the function start at the next line, and must be `indented`.\n",
    "\n",
    "The function body is any piece of Python code. There is, however, a special statement, <b style=\"color:blue\">return</b>, that can be used only within the body of a function.\n",
    "\n",
    "For example, we could define the function `maxVal` by the code"
   ]
  },
  {
   "cell_type": "code",
   "execution_count": null,
   "metadata": {},
   "outputs": [],
   "source": [
    "def maxVal(x, y):    \n",
    "    if x > y:\n",
    "        return x\n",
    "    else:\n",
    "        return y   "
   ]
  },
  {
   "cell_type": "markdown",
   "metadata": {},
   "source": [
    "The sequence of names (x,y in this example) within the parentheses following the function name are the<b> formal parameters</b>of the function.\n",
    "\n",
    "When the function is used, the formal parameters are bound (as in an assignment statement) to the <b>actual parameters</b> (often referred to as arguments) of the function invocation (also referred to as a function call)."
   ]
  },
  {
   "cell_type": "code",
   "execution_count": null,
   "metadata": {},
   "outputs": [],
   "source": [
    "maxVal(3, 4)"
   ]
  },
  {
   "cell_type": "code",
   "execution_count": null,
   "metadata": {},
   "outputs": [],
   "source": [
    "m=maxVal(3, 4)\n",
    "m"
   ]
  },
  {
   "cell_type": "markdown",
   "metadata": {
    "collapsed": true
   },
   "source": [
    "### 4.1.2 Keyword Arguments and Default Values\n",
    "\n",
    "In Python, there are **two ways**> that `formal` parameters get bound to `actual parameters`\n",
    "\n",
    "* **1**  <b style=\"color:blue\">Positional</b>, \n",
    "\n",
    "  the  `first` formal parameter is bound to the `first` actual parameter,\n",
    "\n",
    "   the `second` formal to the `second` actual, etc.\n",
    "\n",
    "\n",
    "* **2**  <b style=\"color:blue\">Keyword arguments</b>, \n",
    "\n",
    "   in which formals are bound to actuals using the **name** of the formal parameter."
   ]
  },
  {
   "cell_type": "code",
   "execution_count": null,
   "metadata": {},
   "outputs": [],
   "source": [
    "def printName(firstName, lastName, reverse):\n",
    "    if reverse:\n",
    "        print(lastName + ', ' + firstName)\n",
    "    else:\n",
    "        print(firstName, lastName)"
   ]
  },
  {
   "cell_type": "code",
   "execution_count": null,
   "metadata": {},
   "outputs": [],
   "source": [
    " # all positional argument\n",
    "printName('Olga', 'Puchmajerova', False)  \n",
    "\n",
    "#         positional,positional,keyword argument\n",
    "printName('Olga', 'Puchmajerova', reverse = False) \n",
    "\n",
    "#     positional,keyword argument,keyword argument\n",
    "printName('Olga', lastName = 'Puchmajerova', reverse = False) \n",
    "\n",
    "# all keyword argument\n",
    "printName(lastName='Puchmajerova', firstName='Olga', reverse=False)"
   ]
  },
  {
   "cell_type": "markdown",
   "metadata": {
    "collapsed": true
   },
   "source": [
    "the **keyword arguments** can appear in **any order** in the list of actual parameters, \n",
    "\n",
    "It is<b style=\"color:blue\"> not legal to follow a keyword argument with a non-keyword argument</b>.\n",
    "\n",
    "**True:**  a keyword argument,a keyword argument,a keyword argument\n",
    "\n",
    "**Flase**: a keyword argument,`positional argument`"
   ]
  },
  {
   "cell_type": "code",
   "execution_count": null,
   "metadata": {},
   "outputs": [],
   "source": [
    "# False : \n",
    "# a keyword argument  lastName = 'Puchmajerova'  \n",
    "# with a non-keyword argument.\n",
    "#                   ,False\n",
    "printName('Olga', lastName = 'Puchmajerova',False) "
   ]
  },
  {
   "cell_type": "markdown",
   "metadata": {},
   "source": [
    "<b>Keyword arguments</b> are commonly used in conjunction with `default` parameter values. "
   ]
  },
  {
   "cell_type": "code",
   "execution_count": null,
   "metadata": {},
   "outputs": [],
   "source": [
    "# reverse = False: default parameter values\n",
    "def printName(firstName, lastName, reverse = False): \n",
    "    if reverse:\n",
    "        print(lastName + ', ' + firstName)\n",
    "    else:\n",
    "        print(firstName, lastName)"
   ]
  },
  {
   "cell_type": "code",
   "execution_count": null,
   "metadata": {},
   "outputs": [],
   "source": [
    "# reverse = False: default parameter values\n",
    "printName('Olga', 'Puchmajerova') \n",
    "\n",
    "# positional\n",
    "printName('Olga', 'Puchmajerova', True) \n",
    "\n",
    "# keyword : providing some documentation about True \n",
    "printName('Olga', 'Puchmajerova', reverse = True) "
   ]
  },
  {
   "cell_type": "markdown",
   "metadata": {},
   "source": [
    "The last two invocations of `printName` are semantically equivalent. \n",
    "\n",
    "The last one has **the advantage of providing some `documentation`** for the perhaps mysterious parameter `True`.\n",
    "\n",
    "```python\n",
    " reverse = True\n",
    "```"
   ]
  },
  {
   "cell_type": "markdown",
   "metadata": {},
   "source": [
    "### 4.1.3 Scoping"
   ]
  },
  {
   "cell_type": "code",
   "execution_count": null,
   "metadata": {},
   "outputs": [],
   "source": [
    "def f(x): # name x used as formal parameter\n",
    "    y = 1   # y local variable\n",
    "    \n",
    "    x = x + y   # local name in ：x\n",
    "    \n",
    "    print('x in f=', x,'\\n')\n",
    "    return x"
   ]
  },
  {
   "cell_type": "code",
   "execution_count": null,
   "metadata": {},
   "outputs": [],
   "source": [
    "x = 3\n",
    "y = 2\n",
    "\n",
    "z = f(x) #value of x used as actual parameter\n",
    "\n",
    "print('z =', z)\n",
    "print('x =', x)\n",
    "print('y =', y)"
   ]
  },
  {
   "cell_type": "markdown",
   "metadata": {},
   "source": [
    "Each function defines **a new name space**, also called **a scope**.\n",
    "\n",
    "**Here’s one way to think about this:**\n",
    "\n",
    "* `At top level`: **a symbol table** -> all names defined at that level and their current bindings.\n",
    "\n",
    "* When `a function is called`, a new symbol table( a  **stack frame**) is created. all names defined within the  function (including the formal parameters) and their current bindings. \n",
    "\n",
    "*  When the **function completes**, its <b>stack frame goes away</b>.\n"
   ]
  },
  {
   "cell_type": "code",
   "execution_count": null,
   "metadata": {},
   "outputs": [],
   "source": [
    "def f(x):\n",
    "   \n",
    "    def g():\n",
    "        x = 'abc'   # x local \n",
    "        print('local x_in_g=', x,'\\n')\n",
    "   \n",
    "    def h():\n",
    "        z = x      #  x: up level      \n",
    "        print('local z_in_h', z,'\\n')\n",
    "        print('up level x_in_f', x,'\\n')  \n",
    "  \n",
    "    x = x + 1           \n",
    "    print('local x_in_f', x,'\\n') \n",
    "    \n",
    "    h()                 \n",
    "    g()                \n",
    "    \n",
    "    print('local x_in_f after h,g call=', x,'\\n') \n",
    "    \n",
    "    return g  # functions are objects, and can be returned just"
   ]
  },
  {
   "cell_type": "markdown",
   "metadata": {},
   "source": [
    "A **name** is added to the **scope** associated with **a function**, only if that name is \n",
    "\n",
    "* a `formal parameter` of the function \n",
    "\n",
    "*  a variable that is `bound to an object` within the body of the function. \n"
   ]
  },
  {
   "cell_type": "code",
   "execution_count": null,
   "metadata": {},
   "outputs": [],
   "source": [
    "x = 3  \n",
    "z = f(x)\n",
    "print('top level x=', x,'\\n')\n",
    "\n",
    "print('z =', z)\n",
    "z()  # function g  is object,  be returned just"
   ]
  },
  {
   "cell_type": "markdown",
   "metadata": {},
   "source": [
    "The <b>order</b> in which references to a name occur is <b>not germane</b>. \n",
    "<p>\n",
    "If an object is bound to a name anywhere in the function body (even if it occurs in an expression before it appears as the left-hand-side of an assignment), it is treated as local to that function.\n"
   ]
  },
  {
   "cell_type": "code",
   "execution_count": null,
   "metadata": {},
   "outputs": [],
   "source": [
    "def f():\n",
    "    print('up level:', x)\n",
    "\n",
    "def g0():\n",
    "    x = 1 #  local x\n",
    "    print('local x,',x) \n",
    "\n",
    "# an error message is printed when it encounters the print statement in g\n",
    "# because the assignment statement following the print statement causes x to be local to g.\n",
    "def g():\n",
    "    print(x) #  x to be local to g\n",
    "    x = 1 \n",
    "    #  assignment statement following the print statement causes x to be local to g\n",
    "    #  The order is not germane,so x in print(x) to be local to g"
   ]
  },
  {
   "cell_type": "code",
   "execution_count": null,
   "metadata": {},
   "outputs": [],
   "source": [
    "x = 3\n",
    "f()\n",
    "\n",
    "x = 3\n",
    "g0()\n",
    "\n",
    "x = 3\n",
    "g()"
   ]
  },
  {
   "cell_type": "markdown",
   "metadata": {
    "collapsed": true
   },
   "source": [
    "<b>Most of the time</b> you will find that you only want to use <b>variables that are local to a function</b>, and the subtleties of scoping will be irrelevant."
   ]
  },
  {
   "cell_type": "markdown",
   "metadata": {},
   "source": [
    "### 4.1.4 Functions as  arguments\n",
    "\n",
    "In Python, `functions` are **first-class objects**.That means that they can be treated `like objects of any other type`, e.g., int or list. \n",
    "\n",
    "They have types, e.g.,\n",
    "\n",
    "* `type(abs)` has the value `built-in_function_or_method`\n",
    "\n",
    "* `type(maxVal)` has the value `function`"
   ]
  },
  {
   "cell_type": "code",
   "execution_count": null,
   "metadata": {},
   "outputs": [],
   "source": [
    "type(abs)"
   ]
  },
  {
   "cell_type": "code",
   "execution_count": null,
   "metadata": {},
   "outputs": [],
   "source": [
    "type(maxVal)"
   ]
  },
  {
   "cell_type": "markdown",
   "metadata": {},
   "source": [
    "They can appear in `expressions`, e.g., as \n",
    "\n",
    "* the right-hand side of an assignment statement \n",
    "* `an argument to a function`\n",
    "* elements of sequence,e.g:lists\n",
    "\n",
    "For example,`def bisection`"
   ]
  },
  {
   "cell_type": "code",
   "execution_count": null,
   "metadata": {},
   "outputs": [],
   "source": [
    "def bisection(func,low,high,k,epsilon):\n",
    "    ans = (high + low)/2.0\n",
    "    numGuesses = 0\n",
    "    while abs(func(ans,k)) >= epsilon:\n",
    "        numGuesses += 1\n",
    "        if ans**2 < k:\n",
    "            low = ans\n",
    "        else:\n",
    "            high = ans\n",
    "        ans = (high + low)/2.0\n",
    "    return ans,numGuesses"
   ]
  },
  {
   "cell_type": "markdown",
   "metadata": {},
   "source": [
    "The function `bisection` is called **the higher-order function** because it has an `argument` that is itself `a function`"
   ]
  },
  {
   "cell_type": "code",
   "execution_count": null,
   "metadata": {},
   "outputs": [],
   "source": [
    "def func1(x,k):\n",
    "    return x**2-k\n",
    "\n",
    "k = 25\n",
    "epsilon = 0.01\n",
    "low = 0.0\n",
    "high = max(1.0, k)   # build-in function\n",
    "\n",
    "ans,numGuesses=bisection(func1,low,high,k,epsilon)\n",
    "print('numGuesses =', numGuesses)\n",
    "print(ans, 'is close to square root of', k)"
   ]
  },
  {
   "cell_type": "markdown",
   "metadata": {},
   "source": [
    "### 4.1.5 Lambda Expressions\n",
    "\n",
    "* The Python Language Reference ：6.13 `Lambdas` https://docs.python.org/3/reference/expressions.html#lambda\n",
    "\n",
    "Python supports the creation of `anonymous` functions (i.e., functions that are not bound to a name), using the reserved word **lambda**. \n",
    "\n",
    "The general form of a lambda expression is\n",
    "```python\n",
    "lambda <sequence of variable names>: <expression>\n",
    "```\n",
    "Lambda functions can be used wherever function objects are required. They are syntactically restricted to `a single expression`\n",
    "\n",
    "For example, the lambda expression `lambda x, y: x*y` returns a function that returns  the product of its two arguments.\n"
   ]
  },
  {
   "cell_type": "code",
   "execution_count": null,
   "metadata": {},
   "outputs": [],
   "source": [
    "adder = lambda x, y: x+y\n",
    "print(adder(3,6))"
   ]
  },
  {
   "cell_type": "markdown",
   "metadata": {},
   "source": [
    "## 4.2 Specifications \n",
    "\n",
    "* <b>findRoot</b>： generalizes the bisection search we used to find square roots in Figure 4.1.\n",
    "\n",
    "* <p><b>testFindRoot</b>： can be used to test whether or not findRoot works as intended.\n"
   ]
  },
  {
   "cell_type": "markdown",
   "metadata": {},
   "source": [
    "<b style=\"color:blue\">specification</b> of a function defines a <b style=\"color:blue\">contract</b> \n",
    "\n",
    "between \n",
    "\n",
    "* the **implementer** of a function \n",
    "\n",
    "and \n",
    "\n",
    "* those who　(**user－client**)　will be writing programs that use the function.\n",
    "\n",
    "This contract can be thought of as containing **two parts**：\n",
    "\n",
    "* **Assumptions**: These describe conditions that must be **met by clients** of the function.\n",
    "\n",
    "* **Guarantees**: These describe conditions that must be **met by the function**,provided that it has been called in a way that satisfies the assumptions.\n"
   ]
  },
  {
   "cell_type": "code",
   "execution_count": null,
   "metadata": {},
   "outputs": [],
   "source": [
    "def findRoot(x, power, epsilon):\n",
    "    \"\"\"Assumes x and epsilon int or float, power an int,\n",
    "           epsilon > 0 & power >= 1\n",
    "       Returns float y such that y**power is within epsilon of x.\n",
    "           If such a float does not exist, it returns None\"\"\"\n",
    "   \n",
    "    if x < 0 and power%2 == 0:   # even power, x>=0\n",
    "        return None\n",
    "    \n",
    "    low = min(-1.0, x)\n",
    "    high = max(1.0, x)\n",
    "    \n",
    "    ans = (high + low)/2.0\n",
    "  \n",
    "    while abs(ans**power - x) >= epsilon:\n",
    "        \n",
    "        if ans**power < x:\n",
    "            low = ans\n",
    "        else:\n",
    "            high = ans\n",
    "      \n",
    "        ans = (high + low)/2.0\n",
    "        \n",
    "        print('root range[ %f, %f ], ans= %f' %(low,high,ans))\n",
    "        \n",
    "    return ans\n",
    "\n",
    "def testFindRoot():\n",
    "    epsilon = 0.0001\n",
    "    for x in (0.25, -0.25, 2, -2, 8, -8):\n",
    "        \n",
    "        for power in range(1, 4):\n",
    "            \n",
    "            print('\\nTesting x = ' + str(x) +\n",
    "                  ' and power = ' + str(power))   \n",
    "            \n",
    "            result = findRoot(x, power, epsilon)\n",
    "            \n",
    "            if result == None:\n",
    "                print( '   No root')\n",
    "            else:\n",
    "                print('result = ',result)\n",
    "                print(result**power, '~=', x)"
   ]
  },
  {
   "cell_type": "markdown",
   "metadata": {},
   "source": [
    "The **specification of findRoot is an abstraction of all the possible implementations** that meet the specification. \n",
    "\n",
    "Clients of `findRoot` can assume that the implementation meets the specification, but they should assume　nothing more.\n",
    "\n",
    "`findRoot(4.0, 2, 0.01`）returns some value whose square is between 3.99 and　4.01."
   ]
  },
  {
   "cell_type": "code",
   "execution_count": null,
   "metadata": {},
   "outputs": [],
   "source": [
    "r=findRoot(4.0, 2, 0.01)\n",
    "print('root=',r)\n",
    "print('root**2=',r**2)"
   ]
  },
  {
   "cell_type": "markdown",
   "metadata": {},
   "source": [
    "findRoot(4.0, 2, 0.01）returns some value whose square is between 3.99 and　4.01."
   ]
  },
  {
   "cell_type": "markdown",
   "metadata": {},
   "source": [
    "we would like to have the equivalent of a built-in function for finding roots and for many other complex operations.\n",
    "\n",
    "**Functions** facilitate this by providing **decomposition** and **abstraction**.\n",
    "\n",
    "**Decomposition**  creates structure. It allows us to <b>break a problem into modules</b>　that are reasonably self-contained, and that may be reused in different settings.\n",
    "\n",
    "**Abstraction** hides detail. It allows us to use a piece of code as if it were **a black　box**—that is, something whose interior details we cannot see, don’t need to see,and shouldn’t even want to see.\n",
    "\n",
    "**This is the way organizations go about using teams of programmers to get things　done.**\n",
    "\n",
    "* **Given a specification of a module**, a programmer can work on implementing that module without worrying unduly about what the other　programmers on the team are doing.\n",
    "\n",
    "* Moreover, the **other programmers** can use　the specification to start writing code that uses that module without worrying unduly about how that module is to be implemented."
   ]
  },
  {
   "cell_type": "markdown",
   "metadata": {
    "collapsed": true
   },
   "source": [
    "**testFindRoot:** Experienced programmers know, however, that an **investment** in writing **testing code** often pays big dividends "
   ]
  },
  {
   "cell_type": "code",
   "execution_count": null,
   "metadata": {},
   "outputs": [],
   "source": [
    "testFindRoot()"
   ]
  },
  {
   "cell_type": "markdown",
   "metadata": {},
   "source": [
    "### docstring \n",
    "\n",
    "The text between the **triple** quotation marks is called a **docstring** in Python.\n",
    "\n",
    "```python\n",
    "\"\"\"\n",
    "quotation marks\n",
    "docstring\n",
    "\"\"\"\n",
    "```\n",
    "or\n",
    "```python\n",
    "\"\"\"  quotation marks     \"\"\"\n",
    "```\n",
    "A string literal which appears as <b  style=\"color:blue\">the first expression</b> in a function,module or class. \n",
    "\n",
    "By convention, Python programmers use **docstrings** to provide **specifications of functions**.\n",
    "\n",
    "These **docstrings** can be **accessed** \n",
    "\n",
    "* 1 using the built-in function **help**\n",
    "\n",
    "\n",
    "* 2 it is recognized by the compiler and put into the \n",
    "\n",
    "```python\n",
    "\n",
    "__doc__  \n",
    "\n",
    "```\n",
    "attribute of the enclosing class, function or module.\n"
   ]
  },
  {
   "cell_type": "code",
   "execution_count": null,
   "metadata": {},
   "outputs": [],
   "source": [
    "help(abs)"
   ]
  },
  {
   "cell_type": "code",
   "execution_count": null,
   "metadata": {},
   "outputs": [],
   "source": [
    "help(findRoot)"
   ]
  },
  {
   "cell_type": "code",
   "execution_count": null,
   "metadata": {},
   "outputs": [],
   "source": [
    "print(findRoot.__doc__)"
   ]
  },
  {
   "cell_type": "markdown",
   "metadata": {},
   "source": [
    "### Further Reading\n",
    "\n",
    "* Python Toturial 4.7.6 : Documentation Strings            https://docs.python.org/3/tutorial/controlflow.html#documentation-strings\n",
    "\n",
    "\n",
    "* **PEP0257** - Docstring Convention \n",
    " https://www.python.org/dev/peps/pep-0257/"
   ]
  },
  {
   "cell_type": "markdown",
   "metadata": {},
   "source": [
    "## 4.3 Global Variables\n",
    "\n",
    "Until now, all of the <b>functions</b> we have written <b>communicate</b> with their environment **solely** through \n",
    "\n",
    "**their parameters** and **return values**. \n",
    "\n",
    "```python\n",
    "\n",
    "def yourfunction(their parameters)\n",
    "    code body\n",
    "    \n",
    "    return yourvalues\n",
    "```\n",
    "For the most part, this is exactly as **it should be**.\n",
    "\n",
    "It typically leads to programs that are relatively **easy to read, test, and debug**\n",
    "\n",
    "The **key** to making programs **readable** is **locality**. \n",
    "\n",
    "---\n",
    "Nevertheless, there are times when they are just what is needed.\n"
   ]
  },
  {
   "cell_type": "markdown",
   "metadata": {},
   "source": [
    "### 4.3.1 Fibonacci Numbers\n",
    "\n",
    "The Fibonacci sequence is the common mathematical function that is usually defined recursively.\n",
    "\n",
    "“They breed like **rabbits**,” -The growth in population is described naturally by the **recurrence:**\n",
    "```bash    \n",
    "females(0) =1\n",
    "\n",
    "females(1) = 1\n",
    "\n",
    "females(n + 2) = females(n+1) + females(n）\n",
    "```\n"
   ]
  },
  {
   "cell_type": "code",
   "execution_count": null,
   "metadata": {},
   "outputs": [],
   "source": [
    "#Page 47, Figure 4.7\n",
    "def fib(n):\n",
    "    \"\"\"Assumes n an int >= 0\n",
    "       Returns Fibonacci of n\"\"\"\n",
    "    if n == 0 or n == 1:\n",
    "        return 1\n",
    "    else:\n",
    "        return fib(n-1) + fib(n-2)\n",
    "\n",
    "def testFib(n):\n",
    "    for i in range(n+1):\n",
    "        print( 'fib of', i, '=', fib(i))"
   ]
  },
  {
   "cell_type": "code",
   "execution_count": null,
   "metadata": {},
   "outputs": [],
   "source": [
    "testFib(12)"
   ]
  },
  {
   "cell_type": "markdown",
   "metadata": {},
   "source": [
    "### 4.3.2 globa\n",
    "\n",
    "Suppose we want to know **how many recursive calls** are made? \n",
    "\n",
    "* One way to do that uses **global variables**\n",
    "\n",
    "\n",
    "The functions **fib** and **testFib** both have unfettered access to the object referenced by the variable **numFibCalls**.\n",
    "\n",
    "Global **numFibCalls** occurs in both **fib** and **testFib**. "
   ]
  },
  {
   "cell_type": "code",
   "execution_count": null,
   "metadata": {},
   "outputs": [],
   "source": [
    "numFibCalls=0\n",
    "\n",
    "def fib(x):\n",
    "    \"\"\"Assumes x an int >= 0\n",
    "       Returns Fibonacci of x\"\"\"\n",
    "    \n",
    "    global numFibCalls\n",
    "    \n",
    "    numFibCalls += 1\n",
    "    if x == 0 or x == 1:\n",
    "        return 1\n",
    "    else:\n",
    "        return fib(x-1) + fib(x-2)\n",
    "\n",
    "def testFib(n):\n",
    "    \n",
    "    global numFibCalls\n",
    "    \n",
    "    for i in range(n+1):\n",
    "        numFibCalls = 0\n",
    "        print('fib of', i, '=', fib(i))\n",
    "        print('fib called', numFibCalls, 'times.')"
   ]
  },
  {
   "cell_type": "code",
   "execution_count": null,
   "metadata": {},
   "outputs": [],
   "source": [
    "testFib(12)"
   ]
  },
  {
   "cell_type": "markdown",
   "metadata": {},
   "source": [
    "if we do not included the code **global numFibCalls** in **fib** and **testFib**, \n",
    "* the name `numFibCalls` is **local** to each of `fib` and `testFib`."
   ]
  },
  {
   "cell_type": "code",
   "execution_count": null,
   "metadata": {},
   "outputs": [],
   "source": [
    "numFibCalls=0\n",
    "\n",
    "def fib(x):\n",
    "    \"\"\"Assumes x an int >= 0\n",
    "       Returns Fibonacci of x\"\"\"\n",
    "    #  global numFibCalls\n",
    "    numFibCalls += 1 # local in  fib\n",
    "    if x == 0 or x == 1:\n",
    "        return 1\n",
    "    else:\n",
    "        return fib(x-1) + fib(x-2)\n",
    "\n",
    "def testFib(n):\n",
    "    # global numFibCalls\n",
    "    for i in range(n+1):\n",
    "        numFibCalls = 0 # local in  testfib\n",
    "        print('fib of', i, '=', fib(i))\n",
    "        print('fib called', numFibCalls, 'times.')"
   ]
  },
  {
   "cell_type": "code",
   "execution_count": null,
   "metadata": {},
   "outputs": [],
   "source": [
    "testFib(12)"
   ]
  },
  {
   "cell_type": "markdown",
   "metadata": {},
   "source": [
    "## 4.4 Modules\n",
    "\n",
    "Python modules allow us to easily construct a program from code in **multiple files**.\n",
    "\n",
    "A **module** is **a `.py` file** containing Python definitions and statements.\n",
    "\n",
    "For example, a file <b>circle.py</b> containing"
   ]
  },
  {
   "cell_type": "code",
   "execution_count": null,
   "metadata": {},
   "outputs": [],
   "source": [
    "%%file circle.py \n",
    "\n",
    "pi = 3.14159  # executable statements \n",
    "\n",
    "def area(radius):  # function definitions.\n",
    "    return pi*(radius**2)\n",
    "\n",
    "def circumference(radius):\n",
    "    return 2*pi*radius\n",
    "\n",
    "def sphereSurface(radius):\n",
    "    return 4.0*area(radius)\n",
    "\n",
    "def sphereVolume(radius):\n",
    "    return (4.0/3.0)*pi*(radius**3)"
   ]
  },
  {
   "cell_type": "markdown",
   "metadata": {},
   "source": [
    "A program gets access to a module through an **import** statement\n",
    "\n",
    "```python\n",
    "import ModuleName\n",
    "````"
   ]
  },
  {
   "cell_type": "code",
   "execution_count": null,
   "metadata": {},
   "outputs": [],
   "source": [
    "import circle\n",
    "\n",
    "print(circle.pi)\n",
    "print(circle.area(3))\n",
    "print(circle.circumference(3))\n",
    "print(circle.sphereSurface(3))"
   ]
  },
  {
   "cell_type": "markdown",
   "metadata": {},
   "source": [
    "### 4.4.1 Importing Modules\n",
    "\n",
    "Executing \n",
    "\n",
    "<b>import M</b> creates <b>a binding for module M</b>,\n",
    "\n",
    "in the importing context,we use **dot** notation to indicate that we are referring to a name defined in the imported module\n",
    "\n",
    "<p>The use of <b>dot notation</b> to fully qualify names avoids the possibility of getting burned by an accidental name clash.\n",
    "```python\n",
    "circle.pi\n",
    "```"
   ]
  },
  {
   "cell_type": "code",
   "execution_count": null,
   "metadata": {},
   "outputs": [],
   "source": [
    "import circle\n",
    "pi=3.0\n",
    "print(circle.pi)  # dot notation\n",
    "print(pi)"
   ]
  },
  {
   "cell_type": "markdown",
   "metadata": {},
   "source": [
    "There is a variant of the `import` statement that allows the importing program to\n",
    "\n",
    "**omit the module name** \n",
    "\n",
    "when accessing names defined inside the imported module. \n",
    "\n",
    "Executing the statement \n",
    "\n",
    "```python\n",
    "from M import *\n",
    "```\n",
    "\n",
    "creates <b>bindings</b> in the current scope <b>to all objects </b>defined within M, but <b>not to M itself</b>. "
   ]
  },
  {
   "cell_type": "code",
   "execution_count": null,
   "metadata": {},
   "outputs": [],
   "source": [
    "from circle import *\n",
    "\n",
    "print(pi)   # import *：bindings in the current scope to all objects defined within M\n",
    "print(circle.pi)"
   ]
  },
  {
   "cell_type": "markdown",
   "metadata": {},
   "source": [
    "We put bisection function into the file of `findingroot.py` "
   ]
  },
  {
   "cell_type": "code",
   "execution_count": null,
   "metadata": {},
   "outputs": [],
   "source": [
    "%%file findingroot.py\n",
    "\n",
    "def bisection(func,low,high,k,epsilon):\n",
    "    ans = (high + low)/2.0\n",
    "    numGuesses = 0\n",
    "    while abs(func(ans,k)) >= epsilon:\n",
    "        numGuesses += 1\n",
    "        if ans**2 < k:\n",
    "            low = ans\n",
    "        else:\n",
    "            high = ans\n",
    "        ans = (high + low)/2.0\n",
    "    return ans,numGuesses"
   ]
  },
  {
   "cell_type": "markdown",
   "metadata": {},
   "source": [
    "A program gets access to ```findingroot``` module through an import statement."
   ]
  },
  {
   "cell_type": "code",
   "execution_count": null,
   "metadata": {},
   "outputs": [],
   "source": [
    "import findingroot\n",
    "\n",
    "def func(x,k):\n",
    "    return x**2-k\n",
    "\n",
    "k = 25\n",
    "epsilon = 0.01\n",
    "low = 0.0\n",
    "high = max(1.0, k)   # build-in function\n",
    "\n",
    "ans,numGuesses=findingroot.bisection(func,low,high,k,epsilon)\n",
    "print('numGuesses =', numGuesses)\n",
    "print(ans, 'is close to square root of', k)"
   ]
  },
  {
   "cell_type": "markdown",
   "metadata": {},
   "source": [
    "### 4.4.2 The interpreter’s search path for modules\n",
    "\n",
    "The variable **sys.path** is a list of strings that determines the interpreter’s **search path for modules**.\n"
   ]
  },
  {
   "cell_type": "code",
   "execution_count": null,
   "metadata": {},
   "outputs": [],
   "source": [
    "import sys\n",
    "print(sys.path)"
   ]
  },
  {
   "cell_type": "code",
   "execution_count": null,
   "metadata": {},
   "outputs": [],
   "source": [
    "%%file circle.py \n",
    "\n",
    "pi = 3.14159  # executable statements \n",
    "\n",
    "def area(radius):  # function definitions.\n",
    "    return pi*(radius**2)\n",
    "\n",
    "def circumference(radius):\n",
    "    return 2*pi*radius\n",
    "\n",
    "def sphereSurface(radius):\n",
    "    return 4.0*area(radius)\n",
    "\n",
    "def sphereVolume(radius):\n",
    "    return (4.0/3.0)*pi*(radius**3)"
   ]
  },
  {
   "cell_type": "code",
   "execution_count": null,
   "metadata": {},
   "outputs": [],
   "source": [
    "!dir  circle.py "
   ]
  },
  {
   "cell_type": "code",
   "execution_count": null,
   "metadata": {},
   "outputs": [],
   "source": [
    "import circle\n",
    "pi=3.0\n",
    "print(circle.pi)  # dot notation\n",
    "print(pi)"
   ]
  },
  {
   "cell_type": "code",
   "execution_count": null,
   "metadata": {},
   "outputs": [],
   "source": [
    "!del circle.py"
   ]
  },
  {
   "cell_type": "code",
   "execution_count": null,
   "metadata": {},
   "outputs": [],
   "source": [
    "!dir  circle.py "
   ]
  },
  {
   "cell_type": "markdown",
   "metadata": {},
   "source": [
    "delete `circle.py`\n",
    "* **Refresh Notebook: Restart & Clear Output ,then**"
   ]
  },
  {
   "cell_type": "code",
   "execution_count": null,
   "metadata": {},
   "outputs": [],
   "source": [
    "import circle\n",
    "pi=3.0\n",
    "print(circle.pi)  # dot notation\n",
    "print(pi)"
   ]
  },
  {
   "cell_type": "markdown",
   "metadata": {},
   "source": [
    "Save `circle.py` in tne non-interpreter’s search path for modules: `./code/`\n",
    "* **Refresh Notebook: Restart & Clear Output ,then**\n"
   ]
  },
  {
   "cell_type": "code",
   "execution_count": null,
   "metadata": {},
   "outputs": [],
   "source": [
    "%%file ./code/circle.py \n",
    "\n",
    "pi = 3.14159  # executable statements \n",
    "\n",
    "def area(radius):  # function definitions.\n",
    "    return pi*(radius**2)\n",
    "\n",
    "def circumference(radius):\n",
    "    return 2*pi*radius\n",
    "\n",
    "def sphereSurface(radius):\n",
    "    return 4.0*area(radius)\n",
    "\n",
    "def sphereVolume(radius):\n",
    "    return (4.0/3.0)*pi*(radius**3)"
   ]
  },
  {
   "cell_type": "code",
   "execution_count": null,
   "metadata": {},
   "outputs": [],
   "source": [
    "import circle\n",
    "pi=3.0\n",
    "print(circle.pi)  # dot notation\n",
    "print(pi)"
   ]
  },
  {
   "cell_type": "markdown",
   "metadata": {},
   "source": [
    "You can modify it using standard list operations **add the path of the module** to interpreter’s search path,then call the module"
   ]
  },
  {
   "cell_type": "code",
   "execution_count": null,
   "metadata": {},
   "outputs": [],
   "source": [
    "import sys\n",
    "sys.path.append('./code/')\n",
    "#print(sys.path)"
   ]
  },
  {
   "cell_type": "code",
   "execution_count": null,
   "metadata": {},
   "outputs": [],
   "source": [
    "import circle\n",
    "pi=3.0\n",
    "print(circle.pi)  # dot notation\n",
    "print(pi)"
   ]
  },
  {
   "cell_type": "markdown",
   "metadata": {},
   "source": [
    "## Further Reading:\n",
    "\n",
    "* 1 Python Tutorial: Chapter 6 :MODULES https://docs.python.org/3/tutorial/modules.html\n",
    "\n",
    "* 2 Scipy Optimization and root finding (scipy.optimize):Root finding https://docs.scipy.org/doc/scipy/reference/optimize.html#root-finding"
   ]
  },
  {
   "cell_type": "code",
   "execution_count": null,
   "metadata": {},
   "outputs": [],
   "source": []
  }
 ],
 "metadata": {
  "kernelspec": {
   "display_name": "Python 3",
   "language": "python",
   "name": "python3"
  },
  "language_info": {
   "codemirror_mode": {
    "name": "ipython",
    "version": 3
   },
   "file_extension": ".py",
   "mimetype": "text/x-python",
   "name": "python",
   "nbconvert_exporter": "python",
   "pygments_lexer": "ipython3",
   "version": "3.7.2"
  },
  "toc": {
   "base_numbering": 1,
   "nav_menu": {},
   "number_sections": false,
   "sideBar": true,
   "skip_h1_title": false,
   "title_cell": "Table of Contents",
   "title_sidebar": "Contents",
   "toc_cell": false,
   "toc_position": {
    "height": "calc(100% - 180px)",
    "left": "10px",
    "top": "150px",
    "width": "307.2px"
   },
   "toc_section_display": true,
   "toc_window_display": true
  }
 },
 "nbformat": 4,
 "nbformat_minor": 1
}
