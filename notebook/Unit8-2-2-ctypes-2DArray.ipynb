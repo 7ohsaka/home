{
 "cells": [
  {
   "cell_type": "markdown",
   "metadata": {},
   "source": [
    "# ctypes:2D array\n",
    "\n"
   ]
  },
  {
   "cell_type": "code",
   "execution_count": 2,
   "metadata": {},
   "outputs": [
    {
     "name": "stdout",
     "output_type": "stream",
     "text": [
      "F:\\SEU\\SEE\\PySEE\\home\\notebook\\demo\n"
     ]
    }
   ],
   "source": [
    "%cd demo"
   ]
  },
  {
   "cell_type": "markdown",
   "metadata": {},
   "source": [
    "## Gauss Elimination Methods\n",
    "\n",
    "https://www.codewithc.com/c-program-for-gauss-elimination-method/\n",
    "\n",
    "In engineering and science, the solution of linear simultaneous equations is very important.\n",
    "\n",
    "* Different analysis such as electronic circuits comprising invariant elements, \n",
    "\n",
    "* a network under steady and sinusoidal condition, \n",
    "\n",
    "* output of a chemical plant and finding the cost of chemical reactions in such plants require the solution of linear simultaneous equations.\n",
    "\n",
    "In Gauss-Elimination method, these equations are solved by **eliminating the unknowns successively**.\n",
    "\n",
    "* 周建华，陈建龙，张小向编：《几何于代数》 科学出版社，2012\n",
    "  \n",
    "  * 1.4 线性方程组的求解 "
   ]
  },
  {
   "cell_type": "markdown",
   "metadata": {},
   "source": [
    "For this, let us first consider the following three equations:\n",
    "\n",
    "$$\\begin{align*}\n",
    "&a1x + b1y + c1z = d1 \\\\\n",
    "&a2x + b2y + c2z = d2 \\\\\n",
    "&a3x + b3y + c3z = d3 \n",
    "\\end{align*}\n",
    "$$\n",
    "\n",
    "**Assuming** $a1 ≠ 0$,\n",
    "\n",
    "* $x$ is `eliminated` from the second equation by subtracting $(a2/a1)$ times the first equation from the second equation.\n",
    "\n",
    "* In the same way, $x$ is `eliminated` from third equation by subtracting $(a3/a1)$ times the first equation from the third equation\n",
    "\n",
    "Then we get the new equations as:\n",
    "\n",
    "$$\\begin{align*}\n",
    "&a1x + b1y + c1z = d1 \\\\\n",
    "&b’2y + c’2z = d’2 \\\\\n",
    "&b’3y + b’3z = d’3 \\\\\n",
    "\\end{align*}\n",
    "$$\n",
    "\n",
    "The elimination procedure is continued until **only one unknown remains in the last equation**:\n",
    "\n",
    "$$\\begin{align*}\n",
    "&a1x + b1y + c1z = d1 \\\\\n",
    "&b’2y + c’2z = d’2 \\\\\n",
    "&c’’3z = d’’3\n",
    "\\end{align*}\n",
    "$$\n",
    "\n",
    "After its value is determined, the procedure is stopped. \n",
    "\n",
    "Gauss Elimination uses **back substitution** to get the values of $x$, $y$ and $z$ \n",
    " \n",
    "$$\\begin{align*}\n",
    "&z=  d’’3 / c’’3 \\\\\n",
    "&y=(d’2 – c’2z) / b’2\\\\\n",
    "&x=( d1- c1z- b1y)/ a1\n",
    "\\end{align*}\n",
    "$$\n"
   ]
  },
  {
   "cell_type": "markdown",
   "metadata": {},
   "source": [
    "## Gauss Elimination Library\n",
    "\n",
    "* ./include/eqlinear.h\n",
    "\n",
    "* ./src/gauss.c\n",
    "\n",
    "* ./src/gausspivoting.c"
   ]
  },
  {
   "cell_type": "code",
   "execution_count": 10,
   "metadata": {},
   "outputs": [
    {
     "name": "stdout",
     "output_type": "stream",
     "text": [
      "Overwriting ./include/eqlinear.h\n"
     ]
    }
   ],
   "source": [
    "%%file ./include/eqlinear.h\n",
    "/*\n",
    "   Gauss Method \n",
    "    nrows  - Matrix dimensions\n",
    "    a - Matrix a[nrows][nrows]\n",
    "\tb - Right hand side vector b[nrows]\n",
    "\tx  - Desired solution vector\n",
    "*/\n",
    "#ifndef EQLINEAR_H\n",
    "#define EQLINEAR_H\n",
    "\n",
    "// Gauss Elimination Method \n",
    "void gauss(int nrows, double **a, double *b, double *x);\n",
    "\n",
    "// Gauss Elimination Method + Row Pivoting\n",
    "\n",
    "void gauss_pivoting(int nrows,double **a, double *b, double *x);\n",
    "\n",
    "#endif /* EQLINEAR_H */"
   ]
  },
  {
   "cell_type": "markdown",
   "metadata": {},
   "source": [
    "### Gauss Elimination \n",
    "\n",
    "The C program for Gauss elimination method reduces the system to **an upper triangular matrix** from which the unknowns are derived by the use of **backward substitution method.**\n"
   ]
  },
  {
   "cell_type": "code",
   "execution_count": 5,
   "metadata": {},
   "outputs": [
    {
     "name": "stdout",
     "output_type": "stream",
     "text": [
      "Overwriting ./src/gauss.c\n"
     ]
    }
   ],
   "source": [
    "%%file ./src/gauss.c\n",
    "\n",
    "/*\n",
    "   Gauss  Elimination Method \n",
    "    nrows  - Matrix dimensions\n",
    "    a - Matrix a[nrows][nrows]\n",
    "\tb - Right hand side vector b[nrows]\n",
    "\tx  - Desired solution vector\n",
    "\t\n",
    "*/\n",
    "\n",
    "#include <stdlib.h>\n",
    "#include <stdio.h>\n",
    "#include <math.h>\n",
    "#include \"eqlinear.h\"\n",
    "\n",
    "void gauss(int nrows, double **a, double *b, double *x)\n",
    "{\n",
    "    int i, j, k;\n",
    "    double c;\n",
    "\n",
    "    for (j = 0; j < nrows; j++) /* loop for the generation of upper triangular matrix*/\n",
    "    {\n",
    "        for (i = 0; i < nrows; i++)\n",
    "        {\n",
    "            if (i > j)\n",
    "            {\n",
    "                c = a[i][j] / a[j][j];\n",
    "                for (k = 0; k < nrows; k++)\n",
    "                {\n",
    "                    a[i][k] -= c * a[j][k];\n",
    "                }\n",
    "                b[i] -=c*b[j]; \n",
    "            }\n",
    "        }\n",
    "    }\n",
    "\n",
    "    /* this loop is for backward substitution*/\n",
    "    x[nrows-1]=b[nrows-1]/a[nrows-1][nrows-1];\n",
    "    for (i = nrows - 2; i >= 0; i--)\n",
    "    {\n",
    "        x[i]=b[i];\n",
    "        for (j = i + 1; j < nrows; j++)\n",
    "        {\n",
    "            x[i] -= a[i][j] * x[j];\n",
    "        }\n",
    "        x[i] /=a[i][i];\n",
    "\n",
    "    }\n",
    "}\n"
   ]
  },
  {
   "cell_type": "markdown",
   "metadata": {},
   "source": [
    "### Gaussian Elimination with pivoting \n",
    "\n",
    "\n",
    "**Pivoting, partial or complete**, can be done in Gauss Elimination method. \n",
    "\n",
    "This approach, combined with the back substitution, is quite general.\n"
   ]
  },
  {
   "cell_type": "code",
   "execution_count": 28,
   "metadata": {},
   "outputs": [
    {
     "name": "stdout",
     "output_type": "stream",
     "text": [
      "Overwriting ./src/gausspivoting.c\n"
     ]
    }
   ],
   "source": [
    "%%file ./src/gausspivoting.c\n",
    "\n",
    "/*\n",
    "   Gauss Pivoting  Elimination Method \n",
    "    nrows  - Matrix dimensions\n",
    "    a - Matrix a[nrows][nrows]\n",
    "\tb - Right hand side vector b[nrows]\n",
    "\tx  - Desired solution vector\n",
    "*/\n",
    "\n",
    "#include <stdlib.h>\n",
    "#include <stdio.h>\n",
    "#include <math.h>\n",
    "#include \"eqlinear.h\"\n",
    "\n",
    "void gauss_pivoting(int nrows, double **a, double *b, double *x)\n",
    "{\n",
    "    int i, j, k, m, rowx;\n",
    "    double xfac, temp, temp1, amax;\n",
    "\n",
    "    /*  Do the forward reduction step. */\n",
    "    rowx = 0;                   /* Keep count of the row interchanges */\n",
    "    for (k = 0; k < nrows; ++k) //\n",
    "    {\n",
    "        amax = (double)fabs(a[k][k]);\n",
    "        m = k;                          // pivoting row\n",
    "        for (i = k + 1; i < nrows; i++) // the next row k\n",
    "        {                               /* Find the row with largest pivot */\n",
    "            xfac = (double)fabs(a[i][k]);\n",
    "            if (xfac > amax)\n",
    "            {\n",
    "                amax = xfac;\n",
    "                m = i;\n",
    "            }\n",
    "        }\n",
    "        /* Row interchanges: row m->k */\n",
    "        if (m != k)\n",
    "        {\n",
    "            rowx = rowx + 1;\n",
    "            temp1 = b[k];\n",
    "            b[k] = b[m];\n",
    "            b[m] = temp1;\n",
    "            for (j = k; j < nrows; j++)\n",
    "            {\n",
    "                temp = a[k][j];\n",
    "                a[k][j] = a[m][j];\n",
    "                a[m][j] = temp;\n",
    "            }\n",
    "        }\n",
    "        // reduction\n",
    "        for (i = k + 1; i < nrows; ++i)\n",
    "        {\n",
    "            xfac = a[i][k] / a[k][k];\n",
    "            for (j = k + 1; j < nrows; ++j)\n",
    "            {\n",
    "                a[i][j] = a[i][j] - xfac * a[k][j];\n",
    "            }\n",
    "            b[i] = b[i] - xfac * b[k];\n",
    "        }\n",
    "    }\n",
    "\n",
    "    /* this loop is for backward substitution*/\n",
    "    x[nrows-1]=b[nrows-1]/a[nrows-1][nrows-1];\n",
    "    for (i = nrows - 2; i >= 0; i--)\n",
    "    {\n",
    "        x[i]=b[i];\n",
    "        for (j = i + 1; j < nrows; j++)\n",
    "        {\n",
    "            x[i] -= a[i][j] * x[j];\n",
    "        }\n",
    "        x[i] /=a[i][i];\n",
    "\n",
    "    }\n",
    " }"
   ]
  },
  {
   "cell_type": "markdown",
   "metadata": {},
   "source": [
    "## Using  the Library "
   ]
  },
  {
   "cell_type": "code",
   "execution_count": 31,
   "metadata": {},
   "outputs": [
    {
     "name": "stdout",
     "output_type": "stream",
     "text": [
      "Overwriting ./src/gaussApp.c\n"
     ]
    }
   ],
   "source": [
    "%%file ./src/gaussApp.c\n",
    "/*\n",
    "gcc -o ./bin/gaussApp ./src/gaussApp.c  ./src/gauss.c ./src/gausspivoting.c -I./include \n",
    "\n",
    "Example :\n",
    "    \n",
    "    周建华，陈建龙，张小向编：《几何于代数》 科学出版社，2012\n",
    "    1.4 线性方程组的求解  P29-30  例1.21\n",
    "*/\n",
    "\n",
    "#include<stdio.h>\n",
    "#include<stdlib.h> \n",
    "#include \"eqlinear.h\" \n",
    "\n",
    "int main()\n",
    "{   \n",
    "    int i,j;\n",
    "    int nrows=3;\n",
    "    double x[3];\n",
    "    double a[3][3]={{1.0,3.0,2.0},\n",
    "                   {2.0,1.0,1.0},\n",
    "                   {-1.0,2.0,3.0}};\n",
    "    double b[3]={-1.0,3.0,4.0};\n",
    "    // **ptr\n",
    "    double **ptr;\n",
    "    ptr=(double**)malloc(sizeof(double)*nrows);  \n",
    "    for(i=0;i<nrows;i++)  \n",
    "    {   ptr[i]=(double*)malloc(sizeof(double)*nrows);\n",
    "        for(j=0;j<nrows;j++) \n",
    "            ptr[i][j]=a[i][j];\n",
    "    }   \n",
    "    \n",
    "    gauss(nrows,ptr,b,x);\n",
    "    printf(\"\\nThe gauss solution is: \");\n",
    "    for(i=0; i<nrows; i++)\n",
    "    {\n",
    "        printf(\"\\n\\tx%d=%f\\t\",i,x[i]); /* x1, x2, x3 are the required solutions*/\n",
    "    }\n",
    "\n",
    "    gauss_pivoting(nrows,ptr,b,x);\n",
    "    \n",
    "    printf(\"\\n\\nThe gauss_pivoting solution is: \");\n",
    "    for(int i=0; i<nrows; i++)\n",
    "    {\n",
    "        printf(\"\\n\\tx%d=%f\\t\",i,x[i]); /* x1, x2, x3 are the required solutions*/\n",
    "    }\n",
    "    \n",
    "    // **ptr                   \n",
    "    for(i=0;i<nrows;i++)  \n",
    "       free(ptr[i]);\n",
    "    free(ptr); \n",
    " \n",
    "    return(0);\n",
    "}\n"
   ]
  },
  {
   "cell_type": "code",
   "execution_count": 15,
   "metadata": {},
   "outputs": [],
   "source": [
    "!gcc -mconsole -o  ./bin/gaussApp ./src/gaussApp.c  ./src/gauss.c ./src/gausspivoting.c -I./include "
   ]
  },
  {
   "cell_type": "code",
   "execution_count": 16,
   "metadata": {},
   "outputs": [
    {
     "name": "stdout",
     "output_type": "stream",
     "text": [
      "\n",
      "The gauss solution is: \n",
      "\tx0=1.200000\t\n",
      "\tx1=-3.400000\t\n",
      "\tx2=4.000000\t\n",
      "\n",
      "The gauss_pivoting solution is: \n",
      "\tx0=1.200000\t\n",
      "\tx1=-3.400000\t\n",
      "\tx2=4.000000\t\n"
     ]
    }
   ],
   "source": [
    "!.\\bin\\gaussApp"
   ]
  },
  {
   "cell_type": "markdown",
   "metadata": {},
   "source": [
    "###  The Shared Library"
   ]
  },
  {
   "cell_type": "code",
   "execution_count": 17,
   "metadata": {},
   "outputs": [
    {
     "name": "stdout",
     "output_type": "stream",
     "text": [
      "Writing ./makefile-libeqlin.mk\n"
     ]
    }
   ],
   "source": [
    "%%file ./makefile-libeqlin.mk\n",
    "CC=gcc\n",
    "CFLAGS=-O3 -Wall -fPIC\n",
    "\n",
    "SRCDIR= ./src/\n",
    "OBJDIR= ./obj/\n",
    "BINDIR= ./bin/\n",
    "INCDIR= ./include/\n",
    "\n",
    "# Linux\n",
    "# LIB=libeqlin.so \n",
    "LIB=libeqlin.dll\n",
    "\n",
    "SRCS=$(SRCDIR)gauss.c \\\n",
    "    $(SRCDIR)/gausspivoting.c \n",
    "\n",
    "# non-path filename\n",
    "filename=$(notdir $(SRCS))\n",
    "\n",
    "# the obj target of a source code using the pattern rule\n",
    "OBJS=$(patsubst %.c,$(OBJDIR)%.o,$(filename))\n",
    "\n",
    "all:$(LIB)\n",
    "    \n",
    "$(LIB): $(OBJS)  \n",
    "\t$(CC) -shared -o $(BINDIR)$@ $(OBJS) \n",
    "\n",
    "# the pattern rule: one step rule for multiple source files\n",
    "$(OBJS):$(SRCS)\n",
    "\t$(CC) $(CFLAGS) -o $(OBJDIR)$(notdir $@) -c $(patsubst  %.o,$(SRCDIR)%.c,$(notdir $@))  -I$(INCDIR) "
   ]
  },
  {
   "cell_type": "code",
   "execution_count": 18,
   "metadata": {},
   "outputs": [
    {
     "name": "stdout",
     "output_type": "stream",
     "text": [
      "gcc -O3 -Wall -fPIC -o ./obj/gauss.o -c ./src/gauss.c  -I./include/ \n",
      "gcc -O3 -Wall -fPIC -o ./obj/gausspivoting.o -c ./src/gausspivoting.c  -I./include/ \n",
      "gcc -shared -o ./bin/libeqlin.dll ./obj/gauss.o ./obj/gausspivoting.o \n"
     ]
    }
   ],
   "source": [
    "!make -f makefile-libeqlin.mk"
   ]
  },
  {
   "cell_type": "markdown",
   "metadata": {},
   "source": [
    "### C "
   ]
  },
  {
   "cell_type": "code",
   "execution_count": 19,
   "metadata": {},
   "outputs": [],
   "source": [
    "!gcc -c -o ./obj/gaussApp.o ./src/gaussApp.c -I./include/\n",
    "!gcc -o  ./bin/gaussApp ./obj/gaussApp.o  -L./bin/ -leqlin"
   ]
  },
  {
   "cell_type": "code",
   "execution_count": 20,
   "metadata": {},
   "outputs": [
    {
     "name": "stdout",
     "output_type": "stream",
     "text": [
      "\n",
      "The gauss solution is: \n",
      "\tx0=1.200000\t\n",
      "\tx1=-3.400000\t\n",
      "\tx2=4.000000\t\n",
      "\n",
      "The gauss_pivoting solution is: \n",
      "\tx0=1.200000\t\n",
      "\tx1=-3.400000\t\n",
      "\tx2=4.000000\t\n"
     ]
    }
   ],
   "source": [
    "!.\\bin\\gaussApp"
   ]
  },
  {
   "cell_type": "markdown",
   "metadata": {},
   "source": [
    "### Python"
   ]
  },
  {
   "cell_type": "code",
   "execution_count": 26,
   "metadata": {},
   "outputs": [],
   "source": [
    "from ctypes import *\n",
    "\n",
    "flib=cdll.LoadLibrary(\"./bin/libeqlin.dll\")\n",
    "\n",
    "\n",
    "def gauss(a,b):\n",
    "    nrow=len(a)\n",
    "    indata = (POINTER(c_double) * nrow)()\n",
    "    for i in range(nrow):\n",
    "        indata[i] =(c_double*nrow)(*a[i])\n",
    "    bv=(c_double*nrow)(*b)\n",
    "    xv=(c_double*nrow)()\n",
    "    \n",
    "    flib.gauss.restype = c_void_p\n",
    "    flib.gauss.argtypes = [c_int,POINTER(POINTER(c_double)), POINTER(c_double),POINTER(c_double)]\n",
    "    flib.gauss(nrow,indata,bv,xv)\n",
    "    return list(xv)"
   ]
  },
  {
   "cell_type": "code",
   "execution_count": 27,
   "metadata": {},
   "outputs": [
    {
     "name": "stdout",
     "output_type": "stream",
     "text": [
      "[1.1999999999999993, -3.4, 4.0]\n"
     ]
    }
   ],
   "source": [
    "a=[[1.0,3.0,2.0],\n",
    "   [2.0,1.0,1.0],\n",
    "   [-1.0,2.0,3.0]\n",
    "  ]\n",
    "b=[-1.0,3.0,4.0]\n",
    "x=gauss(a,b)\n",
    "print(x)"
   ]
  },
  {
   "cell_type": "code",
   "execution_count": null,
   "metadata": {},
   "outputs": [],
   "source": []
  }
 ],
 "metadata": {
  "kernelspec": {
   "display_name": "Python 3.8.0 64-bit",
   "language": "python",
   "name": "python38064bit5570982c25a64c48a6a4b0fe352ce77d"
  },
  "language_info": {
   "codemirror_mode": {
    "name": "ipython",
    "version": 3
   },
   "file_extension": ".py",
   "mimetype": "text/x-python",
   "name": "python",
   "nbconvert_exporter": "python",
   "pygments_lexer": "ipython3",
   "version": "3.8.0"
  },
  "toc": {
   "base_numbering": 1,
   "nav_menu": {},
   "number_sections": false,
   "sideBar": true,
   "skip_h1_title": false,
   "title_cell": "Table of Contents",
   "title_sidebar": "Contents",
   "toc_cell": false,
   "toc_position": {
    "height": "calc(100% - 180px)",
    "left": "10px",
    "top": "150px",
    "width": "165px"
   },
   "toc_section_display": true,
   "toc_window_display": true
  }
 },
 "nbformat": 4,
 "nbformat_minor": 4
}
