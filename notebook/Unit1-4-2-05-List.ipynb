{
 "cells": [
  {
   "cell_type": "markdown",
   "metadata": {},
   "source": [
    "# A List\n",
    "\n",
    "* 5.3 Lists and Mutability\n",
    "\n",
    "\n",
    "## 1 The list is a sequence\n",
    "\n",
    "Like a tuple,a **list** is an <b>ordered sequence</b> of values, where each value is <b>identified by an index </b>. \n",
    "\n",
    "The syntax for expressing literals of type list is similar to that used for tuples; \n",
    "\n",
    "the difference is that we use square brackets <b style=\"color:blue\">[ ]</b> rather than parentheses(). \n",
    "\n",
    "As with tuples, a **for** statement can be used to iterate over the elements of a list.\n",
    "\n",
    "So, for example, the code,"
   ]
  },
  {
   "cell_type": "code",
   "execution_count": 5,
   "metadata": {},
   "outputs": [
    {
     "name": "stdout",
     "output_type": "stream",
     "text": [
      "I did it all\n",
      "4\n",
      "love\n",
      "I did it all\n",
      "4\n",
      "love\n"
     ]
    }
   ],
   "source": [
    "L = ['I did it all', 4, 'love']  # square brackets []\n",
    "\n",
    "for i in range(len(L)):\n",
    "    print(L[i])\n",
    "\n",
    "for li in L:\n",
    "    print(li)"
   ]
  },
  {
   "cell_type": "markdown",
   "metadata": {},
   "source": [
    "The <b>empty list</b> is written as <b style=\"color:blue\">[]</b>\n",
    "\n",
    "**Singleton lists** are written <b>without comma</b> before the closing bracket."
   ]
  },
  {
   "cell_type": "code",
   "execution_count": null,
   "metadata": {},
   "outputs": [],
   "source": [
    "Lempty=[]   #empty list\n",
    "\n",
    "Lonly1=[10] # singleton list: without comma\n",
    "\n",
    "print('empty list:',Lempty)\n",
    "\n",
    "print(type(Lonly1))\n",
    "print(Lonly1)"
   ]
  },
  {
   "cell_type": "markdown",
   "metadata": {},
   "source": [
    "Occasionally, the fact that Square brackets  $[]$ are used for \n",
    "\n",
    "* 1 **literals** of type list\n",
    "\n",
    "* 2 **indexing** into lists, and\n",
    "\n",
    "* 3 **slicing** lists\n",
    "\n",
    "can lead to some `visual confusion`. \n",
    "\n",
    "For example:the expression `[1,2,3,4][1:3][1]`, which evaluates to 3, uses the square brackets in three different ways. \n"
   ]
  },
  {
   "cell_type": "code",
   "execution_count": null,
   "metadata": {},
   "outputs": [],
   "source": [
    "print([1,2,3,4])  #  literals of typel ist\n",
    "\n",
    "print([1,2,3,4][1:3]) # slicing list\n",
    "\n",
    "\n",
    "print([1,2,3,4][1:3][1]) # licing list,then indexing into sliced list"
   ]
  },
  {
   "cell_type": "code",
   "execution_count": null,
   "metadata": {},
   "outputs": [],
   "source": [
    "L1=[1,2,3,4]\n",
    "print(L1)  #  literals of typel ist\n",
    "\n",
    "print(L1[1:3]) # slicing list\n",
    "\n",
    "print(L1[1:3][1]) # licing list,then indexing into sliced list"
   ]
  },
  {
   "cell_type": "markdown",
   "metadata": {},
   "source": [
    "\n",
    "This is rarely a problem in practice, because most of the time lists are `built incrementally` rather than `written as literals`."
   ]
  },
  {
   "cell_type": "markdown",
   "metadata": {},
   "source": [
    "## 2 lists are` mutable`\n",
    "\n",
    "Lists differ from tuples in one hugely important way: <b style=\"color:blue\">lists are mutable</b>\n",
    "\n",
    "**tuples and strings** are `immutable`\n",
    "\n",
    "There are many operators that can be used to create objects of these immutable types, and variables can be bound to objects of these types.\n",
    "\n",
    "But objects of `immutable` types **cannot be modified `after they are created`**."
   ]
  },
  {
   "cell_type": "code",
   "execution_count": null,
   "metadata": {},
   "outputs": [],
   "source": [
    "tuples1=(1,2,3)\n",
    "tuples1[1]=3"
   ]
  },
  {
   "cell_type": "code",
   "execution_count": null,
   "metadata": {},
   "outputs": [],
   "source": [
    "strs=\"abdcf\"\n",
    "strs[2]=\"g\""
   ]
  },
  {
   "cell_type": "markdown",
   "metadata": {
    "collapsed": true
   },
   "source": [
    "On the other hand, objects of type `list` **can be modified `after they are created`**.\n",
    "\n",
    "The `distinction` between `mutating an object` and `assigning an object to a variable` may, at first, appear subtle.\n",
    "\n",
    "* mutating an object: `modify in place` without creating a new object\n",
    "\n",
    "If you keep repeating the mantra, \n",
    "\n",
    "* In Python `a variable` is merely a name, i.e., `a label` that can be `attached to an object` \n",
    "\n",
    "it will bring you clarity. "
   ]
  },
  {
   "cell_type": "markdown",
   "metadata": {},
   "source": [
    "**Mutating the list**"
   ]
  },
  {
   "cell_type": "code",
   "execution_count": 19,
   "metadata": {},
   "outputs": [],
   "source": [
    "Techs = ['MIT', 'Caltech']\n",
    "Ivys = ['Harvard', 'Yale', 'Brown']"
   ]
  },
  {
   "cell_type": "markdown",
   "metadata": {},
   "source": [
    "are executed, the interpreter creates two new lists and binds the appropriate variables to them, as pictured in Figure 5.1.\n",
    "\n",
    "![ Figure 5.1](./img/fig51.PNG)"
   ]
  },
  {
   "cell_type": "markdown",
   "metadata": {},
   "source": [
    "The `assignment` statements"
   ]
  },
  {
   "cell_type": "code",
   "execution_count": 20,
   "metadata": {},
   "outputs": [],
   "source": [
    "Univs = [Techs, Ivys]\n",
    "\n",
    "Univs1 = [['MIT', 'Caltech'], ['Harvard', 'Yale', 'Brown']]"
   ]
  },
  {
   "cell_type": "markdown",
   "metadata": {},
   "source": [
    "also create new lists and bind variables to them. The elements of these lists are themselves lists. \n",
    "\n",
    "The **for** statement can be used to iterate over the elements of a list"
   ]
  },
  {
   "cell_type": "code",
   "execution_count": 21,
   "metadata": {},
   "outputs": [
    {
     "name": "stdout",
     "output_type": "stream",
     "text": [
      "Univs contains ['MIT', 'Caltech']\n",
      "   which contains\n",
      "     MIT\n",
      "     Caltech\n",
      "Univs contains ['Harvard', 'Yale', 'Brown']\n",
      "   which contains\n",
      "     Harvard\n",
      "     Yale\n",
      "     Brown\n"
     ]
    }
   ],
   "source": [
    "for e in Univs:\n",
    "    print('Univs contains', e) # list \n",
    "    print('   which contains')\n",
    "    for u in e:\n",
    "        print('    ', u)   # the elements of a list."
   ]
  },
  {
   "cell_type": "markdown",
   "metadata": {},
   "source": [
    "The three `print` statements"
   ]
  },
  {
   "cell_type": "code",
   "execution_count": 4,
   "metadata": {},
   "outputs": [
    {
     "name": "stdout",
     "output_type": "stream",
     "text": [
      "Univs = [['MIT', 'Caltech'], ['Harvard', 'Yale', 'Brown']]\n",
      "Univs1 = [['MIT', 'Caltech'], ['Harvard', 'Yale', 'Brown']]\n",
      "True\n"
     ]
    }
   ],
   "source": [
    "print('Univs =', Univs) \n",
    "print('Univs1 =', Univs1)\n",
    "print(Univs == Univs1)"
   ]
  },
  {
   "cell_type": "markdown",
   "metadata": {},
   "source": [
    "produce the output\n",
    "\n",
    "```\n",
    "\n",
    "Univs = [['MIT', 'Caltech'], ['Harvard', 'Yale', 'Brown']]\n",
    "Univs1 = [['MIT', 'Caltech'], ['Harvard', 'Yale', 'Brown']]\n",
    "True\n",
    "```\n",
    "\n",
    "It appears as if `Univs` and `Univs1` are bound to <b style=\"color:blue\">the same value</b>. \n",
    "\n",
    "But `appearances` can be `deceiving`. \n",
    "\n",
    "As the following picture illustrates, variables `Univs` and `Univs1` are bound to quite **different** values.\n",
    "![fig52](./img/fig52.PNG) \n",
    "\n",
    "That `Univs` and`Univs1` are bound to different objects can be verified using the built-in function `id()` to **test for `object equality`**. \n",
    "\n",
    "When we run the code"
   ]
  },
  {
   "cell_type": "code",
   "execution_count": null,
   "metadata": {},
   "outputs": [],
   "source": [
    "print(Univs == Univs1) # test value equality\n",
    "\n",
    "print(id(Univs) == id(Univs1)) #test object equality\n",
    "\n",
    "print('Id of Univs =', id(Univs))\n",
    "\n",
    "print('Id of Univs1 =', id(Univs1))"
   ]
  },
  {
   "cell_type": "markdown",
   "metadata": {},
   "source": [
    "The **elements of `Univs`** are **not copies of the lists** to which `Techs` and `Ivys` are bound, but are rather the `themselves`.\n",
    "\n",
    "The **elements of `Univs1`** are lists that contain <b>the same `elements`</b> as the lists in `Univs`,but they are **not the same `lists`**.\n",
    "\n",
    "We can see this by running the code\n"
   ]
  },
  {
   "cell_type": "code",
   "execution_count": null,
   "metadata": {},
   "outputs": [],
   "source": [
    "print('Ids of Techs, Univs[0]', id(Techs), id(Univs[0]))\n",
    "\n",
    "print('Ids of Ivys, Univs[1]', id(Ivys), id(Univs[1]))\n",
    "\n",
    "print('Ids of Univs[0] and Univs[1]', id(Univs[0]), id(Univs[1]))\n",
    "\n",
    "print('Ids of Univs1[0] and Univs1[1]', id(Univs1[0]), id(Univs1[1]))"
   ]
  },
  {
   "cell_type": "markdown",
   "metadata": {},
   "source": [
    "<b style=\"color:blue;font-size:150%\"> Why does this matter? It matters because lists are mutable</b>\n",
    "\n",
    "Consider the code"
   ]
  },
  {
   "cell_type": "code",
   "execution_count": null,
   "metadata": {},
   "outputs": [],
   "source": [
    "# Techs = ['MIT', 'Caltech']\n",
    "\n",
    "Techs.append('RPI') #through the variable Techs \n",
    "print(Techs)"
   ]
  },
  {
   "cell_type": "markdown",
   "metadata": {
    "collapsed": true
   },
   "source": [
    "The **append** method has **a side effect.** \n",
    "\n",
    "* Rather than create a `new` list, it **`mutates the existing` list Techs** by adding a new element,`the string 'RPI'`, to the end of it.\n",
    "\n",
    "The Figure depicts the state of the computation after append is executed.\n",
    "![fig53](./img/fig53.PNG) \n"
   ]
  },
  {
   "cell_type": "markdown",
   "metadata": {},
   "source": [
    "The object to which **Univs** is bound still contains the `same two lists`,\n",
    "```pythom\n",
    "Univs = [Techs, Ivys]\n",
    "```\n",
    "but the `contents` of one of those lists has been `changed`. Consequently, the print statements"
   ]
  },
  {
   "cell_type": "code",
   "execution_count": null,
   "metadata": {},
   "outputs": [],
   "source": [
    "print('Univs =', Univs)\n",
    "print('Univs1 =', Univs1)"
   ]
  },
  {
   "cell_type": "markdown",
   "metadata": {},
   "source": [
    "What we have here is something called **aliasing**(别名). \n",
    "\n",
    "There are `two distinct paths` to the `same` list object.for example：`Techs`\n",
    "\n",
    "**One path is through the variable `Techs`**"
   ]
  },
  {
   "cell_type": "code",
   "execution_count": 17,
   "metadata": {},
   "outputs": [
    {
     "name": "stdout",
     "output_type": "stream",
     "text": [
      "['NIT', 'SEU', 'SEU']\n",
      "[['NIT', 'SEU', 'SEU'], ['Harvard', 'Yale', 'Brown']]\n"
     ]
    }
   ],
   "source": [
    "Techs[1]=\"SEU\"\n",
    "print(Univs[0])\n",
    "print(Univs)"
   ]
  },
  {
   "cell_type": "markdown",
   "metadata": {},
   "source": [
    "**The other through the `first element` of the list object to which `Univs` is bound: `Univs[0]`** \n",
    "\n"
   ]
  },
  {
   "cell_type": "code",
   "execution_count": 18,
   "metadata": {},
   "outputs": [
    {
     "name": "stdout",
     "output_type": "stream",
     "text": [
      "['NIT', 'SEU', 'SEU']\n",
      "[['NIT', 'SEU', 'SEU'], ['Harvard', 'Yale', 'Brown']]\n"
     ]
    }
   ],
   "source": [
    "Univs[0][0]='NIT'\n",
    "print(Techs)\n",
    "print(Univs)"
   ]
  },
  {
   "cell_type": "markdown",
   "metadata": {},
   "source": [
    "One can `mutate` the object via `either` path, and the effect of the `mutation` will be visible through both paths. \n",
    "\n",
    "This can be `convenient`, but it can also be `treacherous`. \n",
    "\n",
    "* **Unintentional aliasing leads to programming errors that are often enormously hard to track down**."
   ]
  },
  {
   "cell_type": "markdown",
   "metadata": {},
   "source": [
    "## 3 Append , concatenation(+)  and extend list\n",
    "\n",
    "### append\n",
    "\n",
    "`append` one list  to another, the `original structure is **maintained**`. \n",
    "\n",
    "**mutated** L1.\n"
   ]
  },
  {
   "cell_type": "code",
   "execution_count": null,
   "metadata": {},
   "outputs": [],
   "source": [
    "L1 = [1,2,3]\n",
    "L2 = [4,5,6]\n",
    "L1.append(L2)\n",
    "print(L1)\n",
    "print('L1.append(L2),L1 =', L1)\n",
    "print('mutated L1:id L1.append(L2)=',id(L1))"
   ]
  },
  {
   "cell_type": "markdown",
   "metadata": {},
   "source": [
    "**`append` one `item` to the `list`, the `original structure is maintained`.**"
   ]
  },
  {
   "cell_type": "code",
   "execution_count": null,
   "metadata": {},
   "outputs": [],
   "source": [
    "L1 = [1,2,3]\n",
    "i1 = 4\n",
    "L1.append(i1)\n",
    "print(L1)"
   ]
  },
  {
   "cell_type": "code",
   "execution_count": null,
   "metadata": {},
   "outputs": [],
   "source": [
    "L1 = [1,2,3]\n",
    "t2 = (4,5,6)\n",
    "L1.append(t2)\n",
    "print(L1)"
   ]
  },
  {
   "cell_type": "markdown",
   "metadata": {},
   "source": [
    "Since `lists` are **mutable**, they can be **constructed incrementally** during a computation.\n",
    "\n",
    "For example, the following code incrementally builds a list containing all of the `even` numbers in another list."
   ]
  },
  {
   "cell_type": "code",
   "execution_count": null,
   "metadata": {},
   "outputs": [],
   "source": [
    "L=[1, -2, 3.33,4]\n",
    "evenElems = []\n",
    "for e in L:\n",
    "    if e%2 == 0:\n",
    "        evenElems.append(e)\n",
    "        \n",
    "print(evenElems)"
   ]
  },
  {
   "cell_type": "markdown",
   "metadata": {
    "collapsed": true
   },
   "source": [
    "### Concatenating lists：+ \n",
    " \n",
    "the operator(concatenation): `+` does not have a side effect. \n",
    "\n",
    "It creates **a new list** and returns it. \n",
    "\n"
   ]
  },
  {
   "cell_type": "code",
   "execution_count": null,
   "metadata": {
    "scrolled": true
   },
   "outputs": [],
   "source": [
    "L1 = [1,2,3]\n",
    "L2 = [4,5,6]\n",
    "\n",
    "#  +  creates a new list\n",
    "L3 = L1 + L2 \n",
    "print('L3= L1 + L2,L3 ', L3)\n",
    "\n",
    "print('id L1=',id(L1))\n",
    "print('id L2=',id(L2))\n",
    "print('a new list:id L3=',id(L3))"
   ]
  },
  {
   "cell_type": "markdown",
   "metadata": {},
   "source": [
    "###  Combining lists：extend\n",
    "\n",
    "If you have a list already defined, you can append multiple `elements` to it using the `extend` method:\n",
    "\n",
    "**mutated** L1.\n",
    "\n",
    "* add items in the `list` L2 to the end of list L1"
   ]
  },
  {
   "cell_type": "code",
   "execution_count": 24,
   "metadata": {},
   "outputs": [
    {
     "name": "stdout",
     "output_type": "stream",
     "text": [
      "L1.extend(L2) ,L1 = [1, 2, 3, 4, 5, 6]\n",
      "mutated L1: id L1.extend(L2)= 2913993369352\n"
     ]
    }
   ],
   "source": [
    "# extend : add items in the list L2 to the end of list L1\n",
    "L1 = [1,2,3]\n",
    "L2 = [4,5,6]\n",
    "L1.extend(L2) # 1\n",
    "print('L1.extend(L2) ,L1 =', L1)\n",
    "print('mutated L1: id L1.extend(L2)=',id(L1))"
   ]
  },
  {
   "cell_type": "markdown",
   "metadata": {},
   "source": [
    "* add items in `tuple` t2  to the end of list L1"
   ]
  },
  {
   "cell_type": "code",
   "execution_count": 23,
   "metadata": {},
   "outputs": [
    {
     "name": "stdout",
     "output_type": "stream",
     "text": [
      "L1.extend(L2) ,L1 = [1, 2, 3, 4, 5, 6]\n",
      "mutated L1: id L1.extend(L2)= 2913992732360\n"
     ]
    }
   ],
   "source": [
    "L1 = [1,2,3]\n",
    "t2 = (4,5,6)\n",
    "L1.extend(t2) # 1\n",
    "print('L1.extend(L2) ,L1 =', L1)\n",
    "print('mutated L1: id L1.extend(L2)=',id(L1))"
   ]
  },
  {
   "cell_type": "markdown",
   "metadata": {},
   "source": [
    "* add items in `string` str2  to the end of list L1"
   ]
  },
  {
   "cell_type": "code",
   "execution_count": 26,
   "metadata": {},
   "outputs": [
    {
     "name": "stdout",
     "output_type": "stream",
     "text": [
      "L1.extend(L2) ,L1 = [1, 2, 3, '4', '5', '6']\n",
      "mutated L1: id L1.extend(L2)= 2913993362120\n"
     ]
    }
   ],
   "source": [
    "L1 = [1,2,3]\n",
    "str2 = \"456\"\n",
    "L1.extend(str2) # 1\n",
    "print('L1.extend(L2) ,L1 =', L1)\n",
    "print('mutated L1: id L1.extend(L2)=',id(L1))"
   ]
  },
  {
   "cell_type": "markdown",
   "metadata": {},
   "source": [
    "## 4 The List's Operators and Methods\n",
    "\n",
    "* Common Operators and Functions with Sequence Types \n",
    "\n",
    "* Common Operators and Functions with Sequence Types \n",
    "\n",
    "https://docs.python.org/tutorial/datastructures.html#more-on-lists"
   ]
  },
  {
   "cell_type": "markdown",
   "metadata": {},
   "source": [
    "### 4.1 Common Operators and Functions with Sequence Types "
   ]
  },
  {
   "cell_type": "code",
   "execution_count": 18,
   "metadata": {},
   "outputs": [],
   "source": [
    "L=[1,3,5,3,6,7]"
   ]
  },
  {
   "cell_type": "code",
   "execution_count": 15,
   "metadata": {},
   "outputs": [
    {
     "data": {
      "text/plain": [
       "True"
      ]
     },
     "execution_count": 15,
     "metadata": {},
     "output_type": "execute_result"
    }
   ],
   "source": [
    "1 in L"
   ]
  },
  {
   "cell_type": "code",
   "execution_count": 16,
   "metadata": {},
   "outputs": [
    {
     "data": {
      "text/plain": [
       "True"
      ]
     },
     "execution_count": 16,
     "metadata": {},
     "output_type": "execute_result"
    }
   ],
   "source": [
    "8 not in L"
   ]
  },
  {
   "cell_type": "code",
   "execution_count": 19,
   "metadata": {},
   "outputs": [
    {
     "data": {
      "text/plain": [
       "2"
      ]
     },
     "execution_count": 19,
     "metadata": {},
     "output_type": "execute_result"
    }
   ],
   "source": [
    "L.count(3)"
   ]
  },
  {
   "cell_type": "code",
   "execution_count": 20,
   "metadata": {},
   "outputs": [
    {
     "data": {
      "text/plain": [
       "2"
      ]
     },
     "execution_count": 20,
     "metadata": {},
     "output_type": "execute_result"
    }
   ],
   "source": [
    "L.index(5)"
   ]
  },
  {
   "cell_type": "markdown",
   "metadata": {},
   "source": [
    "#### Slicing\n",
    "\n",
    "Recap:\n",
    "> [Unit1-1-02_INTRODUCTION_TO_PYTHON: Slicing String](./Unit1-1-02_INTRODUCTION_TO_PYTHON.ipynb)\n",
    ">\n",
    ">**Strings are one of several sequence types in Python** \n",
    ">\n",
    ">**They `share` the following operations with `all sequence` types.**\n",
    ">\n",
    ">* **Slicing** is used to extract substrings of arbitrary length. If s is a string, the expression <b>s[start:end] </b> denotes the >substring of s that starts at index start and ends at index <b>end-1</b>.\n",
    "\n",
    "You can select sections of most sequence types by using slice notation, which in its basic form consists of `start:stop` passed to the indexing operator `[]`:"
   ]
  },
  {
   "cell_type": "code",
   "execution_count": null,
   "metadata": {},
   "outputs": [],
   "source": [
    "seq = [7, 2, 3, 7, 5, 6, 0, 1]\n",
    "seq[1:5]"
   ]
  },
  {
   "cell_type": "markdown",
   "metadata": {},
   "source": [
    "Slices can also be `assigned` to with a sequence:"
   ]
  },
  {
   "cell_type": "code",
   "execution_count": null,
   "metadata": {},
   "outputs": [],
   "source": [
    "seq = [7, 2, 3, 7, 5, 6, 0, 1]\n",
    "seq[3:4]"
   ]
  },
  {
   "cell_type": "code",
   "execution_count": null,
   "metadata": {},
   "outputs": [],
   "source": [
    "seq[3:4] = [6, 3]\n",
    "seq"
   ]
  },
  {
   "cell_type": "markdown",
   "metadata": {},
   "source": [
    "the element of seq[3:4] `[7]` is replaces by the  `[6, 3]`"
   ]
  },
  {
   "cell_type": "markdown",
   "metadata": {},
   "source": [
    "While the element at the `start` index is `included`, the `stop` index is `not included`, so that the number of elements in the result is `stop - start`.\n",
    "\n",
    "Either `the start or stop can be omitted`, in which case they default to the start of the sequence and the end of the sequence, respectively:"
   ]
  },
  {
   "cell_type": "markdown",
   "metadata": {},
   "source": [
    "the start is omitted "
   ]
  },
  {
   "cell_type": "code",
   "execution_count": null,
   "metadata": {},
   "outputs": [],
   "source": [
    "seq = [7, 2, 3, 7, 5, 6, 0, 1]\n",
    "seq[:5]"
   ]
  },
  {
   "cell_type": "markdown",
   "metadata": {},
   "source": [
    "the stop is omitted"
   ]
  },
  {
   "cell_type": "code",
   "execution_count": null,
   "metadata": {},
   "outputs": [],
   "source": [
    "seq[3:]"
   ]
  },
  {
   "cell_type": "markdown",
   "metadata": {},
   "source": [
    "`Negative` indices slice the sequence `relative to the end`:"
   ]
  },
  {
   "cell_type": "code",
   "execution_count": null,
   "metadata": {},
   "outputs": [],
   "source": [
    "seq = [7, 2, 3, 7, 5, 6, 0, 1]\n",
    "seq[-4:]"
   ]
  },
  {
   "cell_type": "code",
   "execution_count": null,
   "metadata": {},
   "outputs": [],
   "source": [
    "seq[-6:-2]"
   ]
  },
  {
   "cell_type": "markdown",
   "metadata": {},
   "source": [
    "The Last item"
   ]
  },
  {
   "cell_type": "code",
   "execution_count": null,
   "metadata": {},
   "outputs": [],
   "source": [
    "seq[-1:]"
   ]
  },
  {
   "cell_type": "markdown",
   "metadata": {},
   "source": [
    "A `step` can also be used after a second colon to, say, take `every other` element:\n"
   ]
  },
  {
   "cell_type": "code",
   "execution_count": null,
   "metadata": {},
   "outputs": [],
   "source": [
    "seq = [7, 2, 3, 7, 5, 6, 0, 1]\n",
    "seq[::2]"
   ]
  },
  {
   "cell_type": "markdown",
   "metadata": {},
   "source": [
    "A clever use of this is to pass -1, which has the useful effect of reversing a list or tuple:"
   ]
  },
  {
   "cell_type": "code",
   "execution_count": null,
   "metadata": {},
   "outputs": [],
   "source": [
    "seq[::-1]"
   ]
  },
  {
   "cell_type": "markdown",
   "metadata": {},
   "source": [
    "### 4.2 Common List Operators and Functions(mutable Sequences) :\n",
    "\n",
    "* `Assignment` via [i], [-i] (indexing) and [m:n:step] (slicing)\n",
    "\n",
    "* `Assignment` via =, += (compound concatenation), *= (compound repetition)\n",
    "\n",
    "* del L[i]: delete the item at index i in L \n",
    "\n",
    "* L.clear(), remove all the items from the lst and return None; same as del L[:].\n",
    "\n",
    "* L.remove(e),  deletes the first occurrence of e from L\n",
    "\n",
    "* L.append(e), adds the object e to the end of L.\n",
    "\n",
    "* L1.extend(L2), adds items in the list L2 to the end of list L1\n",
    "\n",
    "* L.insert(i, e), inserts the object e into L at index i.\n",
    "\n",
    "* L.pop(i), removes and returns the item at index i; i defaults to -1. Raises IndexError if L\n",
    "is empty.\n",
    "\n",
    "* L.copy(): return a copy of L; same as L[:]\n",
    "\n",
    "* L.reverse(): has the side effect of reversing the order of the elements in L.\n",
    "\n",
    "* L.sort(): arranges the elements of the list from low to high.\n",
    "\n"
   ]
  },
  {
   "cell_type": "markdown",
   "metadata": {},
   "source": [
    "Using `insert` you can insert an element at a specific `location` in the list:"
   ]
  },
  {
   "cell_type": "code",
   "execution_count": null,
   "metadata": {},
   "outputs": [],
   "source": [
    "L = [1,2,3]\n",
    "L.insert(1, 'red')\n",
    "L"
   ]
  },
  {
   "cell_type": "markdown",
   "metadata": {},
   "source": [
    "The insertion index must be between `0 and the length of the list`, inclusive.\n",
    "\n",
    "The inverse operation to insert is `pop`, which `removes` and returns `an element` at a particular `index`:"
   ]
  },
  {
   "cell_type": "code",
   "execution_count": null,
   "metadata": {},
   "outputs": [],
   "source": [
    "L.pop(2)"
   ]
  },
  {
   "cell_type": "code",
   "execution_count": null,
   "metadata": {},
   "outputs": [],
   "source": [
    "L"
   ]
  },
  {
   "cell_type": "markdown",
   "metadata": {},
   "source": [
    "`Elements` can be `removed` by `value` with **remove**, which locates the `first such value` and removes it from the last:"
   ]
  },
  {
   "cell_type": "code",
   "execution_count": null,
   "metadata": {},
   "outputs": [],
   "source": [
    "L.remove('red')\n",
    "L"
   ]
  },
  {
   "cell_type": "markdown",
   "metadata": {},
   "source": [
    "##### sort\n",
    "You can sort a list `in-place (without creating a new object)` by calling its `sort` function:"
   ]
  },
  {
   "cell_type": "code",
   "execution_count": null,
   "metadata": {},
   "outputs": [],
   "source": [
    "a = [7, 2, 5, 1, 3]\n",
    "a.sort()\n",
    "a"
   ]
  },
  {
   "cell_type": "markdown",
   "metadata": {},
   "source": [
    "`sort` has a few options that will occasionally come in handy. One is the ability to pass a secondary sort **key**—that is, `a function` that produces a value to use to sort the objects.\n",
    "\n",
    "For example, we could sort a collection of strings by their `lengths`"
   ]
  },
  {
   "cell_type": "code",
   "execution_count": 28,
   "metadata": {},
   "outputs": [
    {
     "data": {
      "text/plain": [
       "['He', 'saw', 'six', 'small', 'foxes']"
      ]
     },
     "execution_count": 28,
     "metadata": {},
     "output_type": "execute_result"
    }
   ],
   "source": [
    "b = ['saw', 'small', 'He', 'foxes', 'six']\n",
    "b.sort(key=len)\n",
    "b"
   ]
  },
  {
   "cell_type": "markdown",
   "metadata": {},
   "source": [
    "##### reverse\n",
    "\n",
    "reverse the order of element in L"
   ]
  },
  {
   "cell_type": "code",
   "execution_count": 29,
   "metadata": {},
   "outputs": [
    {
     "data": {
      "text/plain": [
       "['foxes', 'small', 'six', 'saw', 'He']"
      ]
     },
     "execution_count": 29,
     "metadata": {},
     "output_type": "execute_result"
    }
   ],
   "source": [
    "b.reverse()\n",
    "b"
   ]
  },
  {
   "cell_type": "code",
   "execution_count": null,
   "metadata": {},
   "outputs": [],
   "source": [
    "L=[1,2,3]\n",
    "L.reverse()\n",
    "L"
   ]
  },
  {
   "cell_type": "markdown",
   "metadata": {},
   "source": [
    "## 5 Cloning\n",
    "\n",
    "It is usually prudent to <b>avoid mutating a list over which one is iterating</b>. Consider, for example, the code"
   ]
  },
  {
   "cell_type": "code",
   "execution_count": null,
   "metadata": {},
   "outputs": [],
   "source": [
    "def removeDups(L1, L2):\n",
    "    \"\"\"Assumes that L1 and L2 are lists.\n",
    "       Removes any element from L1 that also occurs in L2\"\"\"\n",
    "    for e1 in L1:\n",
    "       \n",
    "        # display mutation：L1.remove(e1)\n",
    "        print('Current Item=',e1) \n",
    "        print('Current len(L1)=',len(L1))  \n",
    "       \n",
    "        print('L1=',L1,'\\n')\n",
    "        \n",
    "        if e1 in L2:\n",
    "            L1.remove(e1) # mutation：L1.remove(e1)\n",
    "\n",
    "L1 = [1,2,3,4]\n",
    "L2 = [1,2,5,6]\n",
    "\n",
    "removeDups(L1, L2)\n",
    "# 1,2\n",
    "# L1=[3,4]\n",
    "print('\\n removeDups L1 =', L1)"
   ]
  },
  {
   "cell_type": "markdown",
   "metadata": {},
   "source": [
    "### 5.1 use slicing to clone \n",
    "\n",
    "make a copy of the list and write \n",
    "     \n",
    "```python     \n",
    "     for e1 in L1[:]:\n",
    "```"
   ]
  },
  {
   "cell_type": "code",
   "execution_count": null,
   "metadata": {},
   "outputs": [],
   "source": [
    "def removeDups(L1, L2):\n",
    "    \"\"\"Assumes that L1 and L2 are lists.\n",
    "       Removes any element from L1 that also occurs in L2\"\"\"\n",
    " \n",
    "    for e1 in L1[:]: # use slicing to clone\n",
    "        \n",
    "        print('Current Item=',e1) \n",
    "        print('Current len(L1)=',len(L1))  \n",
    "       \n",
    "        print('L1=',L1,'\\n')\n",
    "        \n",
    "        if e1 in L2:\n",
    "            L1.remove(e1)\n",
    "\n",
    "L1 = [1,2,3,4]\n",
    "L2 = [1,2,5,6]\n",
    "removeDups(L1, L2)\n",
    "print('\\n removeDups L1 =', L1)"
   ]
  },
  {
   "cell_type": "markdown",
   "metadata": {},
   "source": [
    "<b style=\"color:red\">newL1 = L1</b> merely have introduced <b style=\"color:red\">a new name for L1</b>\n",
    "\n",
    "* Assignment statements in Python do not copy objects, they create bindings between a target and an object."
   ]
  },
  {
   "cell_type": "code",
   "execution_count": null,
   "metadata": {},
   "outputs": [],
   "source": [
    "def removeDups(L1, L2):\n",
    "    \"\"\"Assumes that L1 and L2 are lists.\n",
    "       Removes any element from L1 that also occurs in L2\"\"\"\n",
    "    \n",
    "    newL1=L1  # Assignment statements in Python do not copy objects, \n",
    "              # they create bindings between a target and an object.\n",
    "    \n",
    "    for e1 in newL1:\n",
    "        \n",
    "        print(len(L1))  # display mutation\n",
    "        print('L1=',L1)\n",
    "        \n",
    "        if e1 in L2:\n",
    "            L1.remove(e1)\n",
    "\n",
    "L1 = [1,2,3,4]\n",
    "L2 = [1,2,5,6]\n",
    "removeDups(L1, L2)\n",
    "print('\\n removeDups L1 =', L1)"
   ]
  },
  {
   "cell_type": "markdown",
   "metadata": {},
   "source": [
    "### 5.2  list(L) returns a copy of the list L.\n",
    "\n",
    "* list(sequence) : return the new list from the sequence"
   ]
  },
  {
   "cell_type": "code",
   "execution_count": null,
   "metadata": {},
   "outputs": [],
   "source": [
    "def removeDups(L1, L2):\n",
    "    \"\"\"Assumes that L1 and L2 are lists.\n",
    "       Removes any element from L1 that also occurs in L2\"\"\"\n",
    "    \n",
    "    newL1=list(L1)  # a copy of the list L1\n",
    "    \n",
    "    for e1 in newL1:\n",
    "        \n",
    "        print(len(L1))  # display mutation\n",
    "        print('L1=',L1)\n",
    "        \n",
    "        if e1 in L2:\n",
    "            L1.remove(e1)\n",
    "\n",
    "L1 = [1,2,3,4]\n",
    "L2 = [1,2,5,6]\n",
    "removeDups(L1, L2)\n",
    "print('\\n removeDups L1 =', L1)"
   ]
  },
  {
   "cell_type": "markdown",
   "metadata": {},
   "source": [
    "###  5.3  Shallow and deep copy\n",
    "\n",
    "**1 Python 8.10 copy — Shallow and deep copy operations**\n",
    "\n",
    "https://docs.python.org/3/library/copy.html\n",
    "\n",
    "For collections that are mutable or contain mutable items, \n",
    "\n",
    "a copy is sometimes needed so one can change one copy without changing the other.\n",
    "\n",
    "This module provides generic shallow and deep copy operations (explained below).\n",
    "\n",
    "<p>Interface summary:\n",
    "<ul>\n",
    "<li>copy.copy(x): Return a shallow copy of x.\n",
    "<li>copy.deepcopy(x): Return a deep copy of x.\n",
    "</ul>\n",
    "\n",
    "* A shallow copy constructs a new compound object and then (to the extent possible) inserts references into it to the objects found in the original.\n",
    "* A deep copy constructs a new compound object and then, recursively, inserts copies into it of the objects found in the original.\n",
    "\n",
    "**2. The Python Standard Library by Example 2.8 copy—Duplicate Objects**"
   ]
  },
  {
   "cell_type": "code",
   "execution_count": null,
   "metadata": {},
   "outputs": [],
   "source": [
    "import copy\n",
    "\n",
    "def removeDups(L1, L2):\n",
    "    \"\"\"Assumes that L1 and L2 are lists.\n",
    "       Removes any element from L1 that also occurs in L2\"\"\"\n",
    "    \n",
    "    newL1=copy.deepcopy(L1)  # a copy of the list L1\n",
    "    \n",
    "    for e1 in newL1:\n",
    "        \n",
    "        print(len(L1))  # display mutation\n",
    "        print('L1=',L1)\n",
    "        \n",
    "        if e1 in L2:\n",
    "            L1.remove(e1)\n",
    "\n",
    "L1 = [1,2,3,4]\n",
    "L2 = [1,2,5,6]\n",
    "removeDups(L1, L2)\n",
    "print('\\n removeDups L1 =', L1)"
   ]
  },
  {
   "cell_type": "markdown",
   "metadata": {},
   "source": [
    "<strong style=\"color:blue;font-size:200%\">Cloning Methods</strong>\n",
    "\n",
    "* **slicing：L1[:]**\n",
    "\n",
    "* **list(L1)**\n",
    "\n",
    "* **copy.copy(L1),copy.deepcopy(L1)**"
   ]
  },
  {
   "cell_type": "markdown",
   "metadata": {},
   "source": [
    "## 6 List Comprehension\n",
    "\n",
    "List comprehension provides a concise way to apply an operation to the values in a sequence.\n",
    "\n",
    "It creates `a new list` in which each element is the result of applying a given operation to a value from a sequence \n",
    "\n",
    "```python\n",
    "[expr for var in list]\n",
    "```"
   ]
  },
  {
   "cell_type": "code",
   "execution_count": null,
   "metadata": {},
   "outputs": [],
   "source": [
    "L = [x**2 for x in range(1,7)]\n",
    "print(L)"
   ]
  },
  {
   "cell_type": "code",
   "execution_count": null,
   "metadata": {},
   "outputs": [],
   "source": [
    "L =[]\n",
    "for x in range(1,7):\n",
    "    L.append(x**2)\n",
    "print(L)"
   ]
  },
  {
   "cell_type": "markdown",
   "metadata": {},
   "source": [
    "The `for` clause in a list comprehension can be <b>followed</b> by one or more \n",
    "\n",
    "* <b>if </b> statements \n",
    "\n",
    "* <b>for</b> statements \n",
    "\n",
    "that are applied to the values produced by the `for` clause."
   ]
  },
  {
   "cell_type": "markdown",
   "metadata": {},
   "source": [
    "* `if` statements"
   ]
  },
  {
   "cell_type": "code",
   "execution_count": null,
   "metadata": {},
   "outputs": [],
   "source": [
    "mixed = [1, 2, 'a', 3, 4.0]\n",
    "print([x**2 for x in mixed if type(x) == int])"
   ]
  },
  {
   "cell_type": "markdown",
   "metadata": {},
   "source": [
    "* `for` statements "
   ]
  },
  {
   "cell_type": "code",
   "execution_count": null,
   "metadata": {},
   "outputs": [],
   "source": [
    "print([x*y for x in [1,2,3] for y in  [1,2,3]])"
   ]
  },
  {
   "cell_type": "markdown",
   "metadata": {},
   "source": [
    "### Further Reading：Python Tutorial\n",
    "\n",
    "* 5.1.3 List Comprehensions https://docs.python.org/3/tutorial/datastructures.html#list-comprehensions\n",
    "\n",
    "* 5.1.4 Nested List Comprehensions https://docs.python.org/3/tutorial/datastructures.html#nested-list-comprehensions\n"
   ]
  },
  {
   "cell_type": "markdown",
   "metadata": {},
   "source": [
    "Remember that somebody else may need to **read your code**\n",
    "\n",
    "* <b style=\"color:blue\">subtle</b>  is **not** usually a **desirable** property"
   ]
  },
  {
   "cell_type": "markdown",
   "metadata": {},
   "source": [
    "## 7 The higher-order function with list\n",
    "\n",
    "In Python, `functions`can appear as an argument of a function.\n",
    "\n",
    "It can be particularly convenient in conjunction with `lists`, as shown in"
   ]
  },
  {
   "cell_type": "code",
   "execution_count": null,
   "metadata": {},
   "outputs": [],
   "source": [
    "def applyToEach(L, func):\n",
    "    \"\"\"Assumes L is a list, func a function\n",
    "       Mutates L by replacing each element, e, of L by f(e)\"\"\"\n",
    "    for i in range(len(L)):\n",
    "        L[i] = func(L[i])\n",
    "\n",
    "\n",
    "L = [1, -2, 3.33]\n",
    "print('L =', L)\n",
    "\n",
    "print('\\nApply abs to each element of L.')\n",
    "applyToEach(L, abs)\n",
    "print('L =', L)\n",
    "\n",
    "print('\\nApply int to each element of', L)\n",
    "applyToEach(L, int)\n",
    "print('L =', L)"
   ]
  },
  {
   "cell_type": "markdown",
   "metadata": {},
   "source": [
    "### map: a built-in higher-order function \n",
    "\n",
    "* The Python Standard Library: Built-in Functions `map`: https://docs.python.org/3/library/functions.html#map\n",
    "\n",
    "**The simplest form**：\n",
    "\n",
    "* the first argument to `map` is <b>a unary function</b>, a function that has only <b>one parameter</b> \n",
    "* the second argument is any ordered collection of values  suitable as arguments to the first argument."
   ]
  },
  {
   "cell_type": "code",
   "execution_count": null,
   "metadata": {},
   "outputs": [],
   "source": [
    "for i in map(abs, [-2, -6, -4]):\n",
    "    print(i)"
   ]
  },
  {
   "cell_type": "code",
   "execution_count": null,
   "metadata": {},
   "outputs": [],
   "source": [
    "list(map(abs, [-1, 2, 3]))"
   ]
  },
  {
   "cell_type": "code",
   "execution_count": null,
   "metadata": {},
   "outputs": [],
   "source": [
    "l=[]\n",
    "for i in [-1,2,3]:\n",
    "    l.append(abs(i))\n",
    "l"
   ]
  },
  {
   "cell_type": "markdown",
   "metadata": {},
   "source": [
    "**More generally** \n",
    "\n",
    "* the first argument to `map` can be of function of `n` arguments, in which case it must be followed by `n` subsequent ordered collections\n"
   ]
  },
  {
   "cell_type": "code",
   "execution_count": null,
   "metadata": {},
   "outputs": [],
   "source": [
    "help(min)"
   ]
  },
  {
   "cell_type": "code",
   "execution_count": null,
   "metadata": {},
   "outputs": [],
   "source": [
    "L1 = [1, 28, 36]\n",
    "L2 = [2, 57, 9]\n",
    "print(list(map(min, L1, L2)))  # min"
   ]
  },
  {
   "cell_type": "code",
   "execution_count": null,
   "metadata": {},
   "outputs": [],
   "source": [
    "L1 = [1, 28, 36]\n",
    "L2 = [2, 57, 9]\n",
    "lmin=[]\n",
    "for i in range(3):\n",
    "    lmin.append(min(L1[i],L2[i]))\n",
    "print(lmin)"
   ]
  },
  {
   "cell_type": "markdown",
   "metadata": {},
   "source": [
    "`Lambda` expressions are used as arguments of the higher-order function,for example: `map`"
   ]
  },
  {
   "cell_type": "code",
   "execution_count": null,
   "metadata": {},
   "outputs": [],
   "source": [
    "L = []\n",
    "for i in map(lambda x, y: x**y, [1 ,2 ,3, 4], [3, 2, 1, 0]):\n",
    "    L.append(i)\n",
    "print(L)"
   ]
  },
  {
   "cell_type": "markdown",
   "metadata": {
    "collapsed": true
   },
   "source": [
    "# B Sequence：Strings, Tuples, Lists and Range\n",
    "\n",
    "We have looked at three different sequence types: `str, tuple, and list`. \n",
    "\n",
    "* String：immutable characters\n",
    "\n",
    "* Tuple: immutable fix-sized array\n",
    "\n",
    "* List: mutable dynamic array\n",
    "\n",
    "* Range: an immutable sequence of numbers \n",
    "\n",
    "Some of their other similarities and differences are summarized in the Figure\n",
    "\n",
    "![fig57](./img/fig57.jpg)"
   ]
  },
  {
   "cell_type": "markdown",
   "metadata": {},
   "source": [
    "## 1 Common Operators and Functions on Sequence Types\n",
    "\n",
    "They are similar in that objects of of these types can be operated upon as described:\n",
    "\n",
    "* `e in seq` tests whether e is contained in the sequence.\n",
    "\n",
    "* `e not in seq` tests whether e is not contained in the sequence.\n",
    "\n",
    "* `seq1 + seq2`: concatenation, concatenates the two sequences. \n",
    "\n",
    "* `n*seq`: repetition,returns a sequence that repeats seq n times.\n",
    "\n",
    "* `seq[i], seq[-i]`: indexing,returns the ith/-ith element in the sequence.\n",
    "\n",
    "* `[m:n:step]`: slicing, returns a slice of the sequence.\n",
    "\n",
    "* `len(seq), min(seq), max(seq)`\n",
    "\n",
    "* `seq.index(e)` returns the index of the first occurrence of e in seq. Raises ValueError if e not\n",
    "in seq.\n",
    "\n",
    "* `seq.count(e)` returns the number of times that e occurs in  seq.\n",
    "\n",
    "* `for e  in seq`: iterates over the elements of the sequence\n",
    "\n"
   ]
  },
  {
   "cell_type": "markdown",
   "metadata": {},
   "source": [
    "## 2 Ranges\n",
    "\n",
    "https://docs.python.org/3/library/stdtypes.html#ranges\n",
    "\n",
    "The range type represents an immutable sequence of numbers and is commonly used for looping a specific number of times in `for loops.`\n",
    "\n",
    "The advantage of the `range` type over a regular `list or tuple` is that a range object will always take the **same(`small`) amount of memory**, no matter the size of the range it represents (as it `only stores the start, stop and step` values, \n",
    "\n",
    "* **calculating individual items and subranges as `needed`**.\n",
    "\n",
    "so even expressions such as `range(1000000)` consume little memory as `range(1)` \n",
    "\n",
    "Range examples:"
   ]
  },
  {
   "cell_type": "code",
   "execution_count": null,
   "metadata": {},
   "outputs": [],
   "source": [
    "list(range(0, 30, 5))\n",
    "list(range(0, 10, 3))\n",
    "list(range(0, -10, -1))\n",
    "list(range(0))\n",
    "list(range(1, 0))"
   ]
  },
  {
   "cell_type": "markdown",
   "metadata": {},
   "source": [
    "**Ranges** implement all of the common sequence operations except `concatenation and repetition` (due to the fact that range objects can only represent sequences that follow a strict pattern and repetition and concatenation will usually violate that pattern)."
   ]
  },
  {
   "cell_type": "code",
   "execution_count": 5,
   "metadata": {},
   "outputs": [
    {
     "data": {
      "text/plain": [
       "True"
      ]
     },
     "execution_count": 5,
     "metadata": {},
     "output_type": "execute_result"
    }
   ],
   "source": [
    "r = range(0, 20, 2)\n",
    "2 in r"
   ]
  },
  {
   "cell_type": "code",
   "execution_count": 6,
   "metadata": {},
   "outputs": [
    {
     "data": {
      "text/plain": [
       "5"
      ]
     },
     "execution_count": 6,
     "metadata": {},
     "output_type": "execute_result"
    }
   ],
   "source": [
    "r.index(10)"
   ]
  },
  {
   "cell_type": "code",
   "execution_count": 7,
   "metadata": {},
   "outputs": [
    {
     "data": {
      "text/plain": [
       "10"
      ]
     },
     "execution_count": 7,
     "metadata": {},
     "output_type": "execute_result"
    }
   ],
   "source": [
    "r[5]"
   ]
  },
  {
   "cell_type": "markdown",
   "metadata": {},
   "source": [
    "## 3 Built-in Methods of strings\n",
    "\n",
    "Since strings can contain only characters, there are <b>many built-in methods</b> that make life easy\n",
    "\n",
    "Keep in mind that since strings are immutable these all return values and have no side effect.\n",
    "<p>\n",
    "<img src=\"./img/fig58.PNG\"/>"
   ]
  },
  {
   "cell_type": "code",
   "execution_count": null,
   "metadata": {},
   "outputs": [],
   "source": [
    "s='David Guttag plays basketball David'\n",
    "s.find('David')"
   ]
  },
  {
   "cell_type": "code",
   "execution_count": null,
   "metadata": {},
   "outputs": [],
   "source": [
    "s.rfind('David')"
   ]
  },
  {
   "cell_type": "code",
   "execution_count": null,
   "metadata": {},
   "outputs": [],
   "source": [
    "s=\"David Guttag plays basketball     \"  # trailing whitespace space\n",
    "s.rstrip()"
   ]
  },
  {
   "cell_type": "markdown",
   "metadata": {},
   "source": [
    "### 3.1  split\n",
    "\n",
    "One of the more useful built-in methods is `split`, which takes two strings as arguments. The second argument specifies a separator that is used to split the first argument into a sequence of substrings. For example,\n",
    "\n",
    "* s.split(d): Splits `s` using `d` as a delimiter\n"
   ]
  },
  {
   "cell_type": "code",
   "execution_count": null,
   "metadata": {},
   "outputs": [],
   "source": [
    "print('My favorite professor--John G.--rocks'.split(' '))\n",
    "print('My favorite professor--John G.--rocks'.split('-'))\n",
    "print('My favorite professor--John G.--rocks'.split('--'))"
   ]
  },
  {
   "cell_type": "code",
   "execution_count": null,
   "metadata": {},
   "outputs": [],
   "source": [
    "s='David*Guttag*plays*basketball'\n",
    "s.split('*')"
   ]
  },
  {
   "cell_type": "code",
   "execution_count": null,
   "metadata": {},
   "outputs": [],
   "source": [
    "s"
   ]
  },
  {
   "cell_type": "markdown",
   "metadata": {},
   "source": [
    "### 3.2  whitespace  characters:\n",
    "\n",
    "The second argument is optional. If that argument is omitted the first string is split using arbitrary strings of whitespace characters (space, tab, newline, return, and formfeed).\n",
    "\n",
    "If `d` is omitted,\n",
    "```python\n",
    "s.split()\n",
    "```\n",
    "the substrings are seperated by  whitespace  characters:\n",
    "\n",
    "|space| tab |newline | return |formfeed|\n",
    "|:---:|----:|-------:|-------:|------:|\n",
    "|  space    |  \\t |  \\n  | \\r    |  \\f  |\n",
    " "
   ]
  },
  {
   "cell_type": "code",
   "execution_count": null,
   "metadata": {},
   "outputs": [],
   "source": [
    "s='David\\t Guttag \\n plays\\r basketball\\f whitespace characters '\n",
    "s.split()   "
   ]
  },
  {
   "cell_type": "code",
   "execution_count": null,
   "metadata": {},
   "outputs": [],
   "source": [
    "print(s)"
   ]
  },
  {
   "cell_type": "markdown",
   "metadata": {},
   "source": [
    "### 3.3 s.split(d) to read plain text files:\n",
    "\n",
    "* [Data Table Files](./Unit1-6-Files.ipynb)\n",
    "\n",
    "\n",
    "* [Unit5-1-18_UNDERSTANDING_EXPERIMENTAL_DATA](./Unit5-1-18_UNDERSTANDING_EXPERIMENTAL_DATA.ipynb)\n"
   ]
  },
  {
   "cell_type": "markdown",
   "metadata": {},
   "source": [
    "## 3 Further Reading: Built-in Sequence Functions\n",
    "\n",
    "Python has a handful of useful sequence functions that you should familiarize yourself with and use at any opportunity.\n",
    "\n",
    "### 3.1 enumerate\n",
    "\n",
    "It’s common when iterating over a sequence to want to keep `track of the index` of the current item. \n",
    "\n",
    "A do-it-yourself approach would look like:\n",
    "\n",
    "```python\n",
    "i = 0\n",
    "for value in collection:\n",
    "    # do something with value\n",
    "    i += 1\n",
    "```\n",
    "Since this is so common, Python has a built-in function, `enumerate`, which returns a sequence of `(i, value)` tuples:\n",
    "```python\n",
    "for i, value in enumerate(collection):\n",
    "    # do something with value\n",
    "```\n",
    "When you are indexing data, a helpful pattern that uses` enumerate` is computing a `dict` mapping the values of a sequence (which are assumed to be unique) to their locations in the sequence:"
   ]
  },
  {
   "cell_type": "code",
   "execution_count": null,
   "metadata": {},
   "outputs": [],
   "source": [
    "some_list = ['foo', 'bar', 'baz']\n",
    "mapping = {}\n",
    "for i, v in enumerate(some_list):\n",
    "    mapping[v] = i\n",
    "mapping   "
   ]
  },
  {
   "cell_type": "markdown",
   "metadata": {},
   "source": [
    "### 3.2 sorted\n",
    "\n",
    "The `sorted` function returns a **new** sorted `list` from the elements of any sequence:"
   ]
  },
  {
   "cell_type": "code",
   "execution_count": null,
   "metadata": {},
   "outputs": [],
   "source": [
    "sorted([7, 1, 2, 6, 0, 3, 2])"
   ]
  },
  {
   "cell_type": "code",
   "execution_count": 10,
   "metadata": {},
   "outputs": [
    {
     "data": {
      "text/plain": [
       "[' ', 'a', 'c', 'e', 'e', 'h', 'o', 'r', 'r', 's']"
      ]
     },
     "execution_count": 10,
     "metadata": {},
     "output_type": "execute_result"
    }
   ],
   "source": [
    "sorted('horse race')"
   ]
  },
  {
   "cell_type": "markdown",
   "metadata": {},
   "source": [
    "The `sorted` function accepts the same arguments as the sort method on lists."
   ]
  },
  {
   "cell_type": "markdown",
   "metadata": {},
   "source": [
    "### 3.3 zip\n",
    "\n",
    "`zip` “**pairs**” up the elements of a number of lists, tuples, or other sequences to create **a list of `tuples`**:\n"
   ]
  },
  {
   "cell_type": "code",
   "execution_count": null,
   "metadata": {},
   "outputs": [],
   "source": [
    "seq1 = ['foo', 'bar', 'baz']\n",
    "seq2 = ['one', 'two', 'three']\n",
    "zipped = zip(seq1, seq2)\n",
    "list(zipped)"
   ]
  },
  {
   "cell_type": "markdown",
   "metadata": {},
   "source": [
    "`zip` can take an `arbitrary number` of sequences, and the number of elements it produces is determined by the `shortest` sequenc"
   ]
  },
  {
   "cell_type": "code",
   "execution_count": null,
   "metadata": {},
   "outputs": [],
   "source": [
    "seq3 = [False, True]\n",
    "list(zip(seq1, seq2, seq3))"
   ]
  },
  {
   "cell_type": "markdown",
   "metadata": {},
   "source": [
    "A very common use of `zip` is `simultaneously iterating over multiple` sequences, possibly also combined with `enumerate`:"
   ]
  },
  {
   "cell_type": "code",
   "execution_count": null,
   "metadata": {},
   "outputs": [],
   "source": [
    "for i, (a, b) in enumerate(zip(seq1, seq2)):\n",
    "    print('{0}: {1}, {2}'.format(i, a, b))"
   ]
  },
  {
   "cell_type": "markdown",
   "metadata": {},
   "source": [
    "Given a “zipped” sequence, `zip` can be applied in a clever way to “unzip” the sequence. Another way to think about this is converting a list of `rows` into a list of `columns`. The syntax, which looks a bit magical, is:\n",
    "\n",
    "List rows: ('Nolan', 'Ryan'), ('Roger', 'Clemens'),('Schilling', 'Curt')\n",
    "\n",
    "\n",
    "List columns:\n",
    "\n",
    " | first_names | last_names  |\n",
    " | ----------- |:-----------:|\n",
    " | Nolan       |   Ryan      |\n",
    " |  Roger      |  Clemens    | \n",
    " |Schilling    |  Curt       ||``\n"
   ]
  },
  {
   "cell_type": "code",
   "execution_count": null,
   "metadata": {},
   "outputs": [],
   "source": [
    "pitchers = [('Nolan', 'Ryan'), ('Roger', 'Clemens'),('Schilling', 'Curt')]\n",
    "first_names, last_names = zip(*pitchers)\n",
    "first_names"
   ]
  },
  {
   "cell_type": "code",
   "execution_count": null,
   "metadata": {},
   "outputs": [],
   "source": [
    "last_names"
   ]
  },
  {
   "cell_type": "markdown",
   "metadata": {},
   "source": [
    "### 3.4 reversed\n",
    "\n",
    "reversed iterates over the elements of a sequence in reverse order:"
   ]
  },
  {
   "cell_type": "code",
   "execution_count": null,
   "metadata": {},
   "outputs": [],
   "source": [
    "list(reversed([7, 1, 2, 6, 0, 3, 2]))"
   ]
  },
  {
   "cell_type": "markdown",
   "metadata": {},
   "source": [
    "Keep in mind that `reversed` is **a generator**,so it does `not create` the reversed sequence until materialized (e.g., with list or a for loop)"
   ]
  }
 ],
 "metadata": {
  "kernelspec": {
   "display_name": "Python 3",
   "language": "python",
   "name": "python3"
  },
  "language_info": {
   "codemirror_mode": {
    "name": "ipython",
    "version": 3
   },
   "file_extension": ".py",
   "mimetype": "text/x-python",
   "name": "python",
   "nbconvert_exporter": "python",
   "pygments_lexer": "ipython3",
   "version": "3.7.2"
  },
  "toc": {
   "base_numbering": 1,
   "nav_menu": {},
   "number_sections": false,
   "sideBar": true,
   "skip_h1_title": false,
   "title_cell": "Table of Contents",
   "title_sidebar": "Contents",
   "toc_cell": false,
   "toc_position": {
    "height": "calc(100% - 180px)",
    "left": "10px",
    "top": "150px",
    "width": "307.2px"
   },
   "toc_section_display": true,
   "toc_window_display": true
  },
  "widgets": {
   "state": {},
   "version": "1.1.2"
  }
 },
 "nbformat": 4,
 "nbformat_minor": 1
}
