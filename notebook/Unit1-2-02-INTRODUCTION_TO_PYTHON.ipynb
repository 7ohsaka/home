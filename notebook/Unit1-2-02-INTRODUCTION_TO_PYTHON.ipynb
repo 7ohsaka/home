{
 "cells": [
  {
   "cell_type": "markdown",
   "metadata": {},
   "source": [
    "# 2 Introduction to Python\n",
    "\n",
    "* The interpreted ,dynamically typed, scripting Language\n",
    "\n",
    "* Numerical Types, Operators and Expressions\n",
    "\n",
    "* Variables and Assignmen,Comments\n",
    "\n",
    "* String,Input\n",
    "\n",
    "* Special commands in the cell of jupyter notebook\n",
    "\n",
    "Python is a <b style=\"color:red\">living</b> language. \n",
    "\n",
    "**Officeal Web Site**: https://www.python.org/\n",
    "\n",
    "* History of the software：https://docs.python.org/3/license.html\n",
    "\n",
    "* Python Doc：https://docs.python.org/3/tutorial/index.html\n",
    "\n",
    "> Python is an easy to learn, powerful programming language. It has efficient high-level data structures and a simple but effective approach to object-oriented programming. Python’s elegant syntax and **dynamic typing**, together with its **interpreted** nature, make it an ideal language for scripting and rapid application development in many areas on most platforms.\n",
    "\n",
    "<h2 style=\"text-align:center\"><b style=\"color:blue  text-align:center\">Life is short,You need Python</b></h2>\n",
    "\n",
    "<p style=\"text-align:center\">      -- Bruce Eckel,ANSI C++ Comitee member</p>\n",
    "\n",
    "![GuidovanRossum](./img/ch2.0_GuidovanRossum.jpg) \n",
    "\n",
    "Since its introduction by <b style=\"color:blue\">Guido von Rossum in 1990</b>, it has undergone many changes. \n",
    "\n",
    "For the first decade of its life, Python was a little known and little used language. That changed with the arrival of  <b style=\"color:blue\">Python 2.0 in 2000</b>. In addition to incorporating a number of important improvements to the language itself, it marked a shift in the evolutionary path of the language. `A large number of people began developing libraries` that interfaced seamlessly with Python, and continuing support and development of the <b style=\"color:blue\">Python ecosystem became a community-based activity</b>. \n",
    "\n",
    "<b style=\"color:blue\">Python 3.0 was released at the end of 2008</b>. This version of Python cleaned up many of the\n",
    "inconsistencies in the design of the various releases of Python 2 (often referred to as Python 2.x). However, it was <b style=\"color:blue\">not backward compatible</b>. That meant that most programs written for earlier versions of Python could not be run using implementations of Python 3.0.\n",
    "\n",
    "We use <b style=\"color:blue\">Python 3</b> throughout this course.\n",
    "\n"
   ]
  },
  {
   "cell_type": "markdown",
   "metadata": {},
   "source": [
    "## 1 The Python programming language\n",
    "\n",
    "Python is a `high-level language`;\n",
    "\n",
    "Computers can only execute programs written in `low-level languages`. Thus, programs written in a high-level language have to be processed before they can run.\n",
    "\n",
    "Two kinds of programs process high-level languages into low-level languages: **interpreters and compilers**"
   ]
  },
  {
   "cell_type": "markdown",
   "metadata": {},
   "source": [
    "###  1.1 The compiled  ,statically typed language : C/C++ \n",
    "\n",
    "####  The compiled language \n",
    "\n",
    "https://en.wikipedia.org/wiki/Compiled_language\n",
    "\n",
    ">A compiled language is a programming language whose implementations are typically  <b style=\"color:blue\">compilers(编译器)</b> :translators that generate **machine code** from `source code`\n",
    "\n",
    "A compiler reads the program and translates it completely before the program starts running. \n",
    "\n",
    "In this case, the high-level program is called the `source code`, and the translated program is called the `object code` or the `executable`. \n",
    "\n",
    "Once a program is compiled, you can execute it repeatedly without further translation. \n",
    "\n",
    "![compile](./img/compile.png)"
   ]
  },
  {
   "cell_type": "code",
   "execution_count": null,
   "metadata": {},
   "outputs": [],
   "source": [
    "%%file ./code/gcc/cpp_clang.cpp\n",
    "#include <iostream>\n",
    "using namespace std;\n",
    " \n",
    "int main()\n",
    "{\n",
    "   cout << \"Yankees rule!\" <<endl; \n",
    "   cout <<\"But not in Boston!\"<<endl; \n",
    "   cout <<\"Yankees rule, \"<<\"but not in Boston\"<<endl; \n",
    "   return 0;\n",
    "}"
   ]
  },
  {
   "cell_type": "code",
   "execution_count": null,
   "metadata": {},
   "outputs": [],
   "source": [
    "!g++ -o ./code/gcc/cpp_clang ./code/gcc/cpp_clang.cpp"
   ]
  },
  {
   "cell_type": "code",
   "execution_count": null,
   "metadata": {},
   "outputs": [],
   "source": [
    "!.\\code\\gcc\\cpp_clang"
   ]
  },
  {
   "cell_type": "markdown",
   "metadata": {},
   "source": [
    "####  The statically typed language\n",
    "\n",
    "Static type checking is the process of verifying the type safety of a program based on analysis of a program's text (source code). If a program passes a static type checker, then the program is guaranteed to satisfy some set of type safety properties for all possible inputs. "
   ]
  },
  {
   "cell_type": "code",
   "execution_count": null,
   "metadata": {},
   "outputs": [],
   "source": [
    "%%file ./code/gcc/cpp_styped.cpp\n",
    "#include <iostream>\n",
    "using namespace std;\n",
    " \n",
    "int main()\n",
    "{\n",
    "   int a=1;\n",
    "   float b=0.1;\n",
    "   string c=\"Southeast University\";\n",
    "   cout <<a<<endl; \n",
    "   cout <<b<<endl; \n",
    "   cout <<c<<endl; \n",
    "   return 0;\n",
    "}"
   ]
  },
  {
   "cell_type": "code",
   "execution_count": null,
   "metadata": {},
   "outputs": [],
   "source": [
    "!g++ -o ./code/gcc/cpp_styped ./code/gcc/cpp_styped.cpp"
   ]
  },
  {
   "cell_type": "code",
   "execution_count": null,
   "metadata": {},
   "outputs": [],
   "source": [
    "!.\\code\\gcc\\cpp_styped"
   ]
  },
  {
   "cell_type": "markdown",
   "metadata": {},
   "source": [
    "###  1.2 Special commands in the cell of jupyter notebook\n",
    "\n",
    "* magic\n",
    "\n",
    "* shell\n",
    "\n",
    "#### IPython's `magic` functions\n",
    "\n",
    "The magic function system provides a series of functions which allow you to control the behavior of IPython itself, plus a lot of system-type\n",
    "features. \n",
    "\n",
    "There are two kinds of magics,\n",
    "\n",
    "* line-oriented  \n",
    "\n",
    "* cell-oriented\n",
    "\n",
    "#####  Cell magics\n",
    "\n",
    "https://ipython.readthedocs.io/en/stable/interactive/magics.html\n",
    "\n",
    "Cell magics are prefixed with a double `%%`, and they are functions that get as an argument not only the rest of the line, but also `the lines below it in a separate argument`.\n",
    "\n",
    "```bash\n",
    "%%file filename\n",
    "```\n",
    "Write the contents of the **CELL** to a file.\n",
    "\n",
    "#####  Line magics\n",
    "\n",
    "Line magicsare prefixed with the `%` character and work much like OS command-line calls: they get as an argument the rest of the line, where\n",
    "arguments are passed without parentheses or quotes.  \n",
    "\n",
    "For example, this will magic:"
   ]
  },
  {
   "cell_type": "code",
   "execution_count": 3,
   "metadata": {},
   "outputs": [],
   "source": [
    "%magic"
   ]
  },
  {
   "cell_type": "markdown",
   "metadata": {},
   "source": [
    "####  Shell command \n",
    "\n",
    "Run the system command in the cell\n",
    "\n",
    "```bash\n",
    "!command\n",
    "```\n",
    "\n",
    "![pythonversion](./img/pythonversion.jpg)"
   ]
  },
  {
   "cell_type": "code",
   "execution_count": null,
   "metadata": {},
   "outputs": [],
   "source": [
    "!python --version"
   ]
  },
  {
   "cell_type": "markdown",
   "metadata": {},
   "source": [
    "### 1.3 Python: the interpreted ,scripting, dynamically typed language\n",
    "\n",
    "####  An interpreted language\n",
    "\n",
    "https://en.wikipedia.org/wiki/Interpreted_language\n",
    "\n",
    "**An interpreted language** is a type of programming language for which most of its implementations execute instructions directly and freely, without previously compiling a program into machine-language instructions. The **interpreter executes** the program **directly**, translating each statement into a sequence of one or more subroutines, and then into another language (often machine code).\n",
    "\n",
    "An interpreter reads a high-level program and executes it, meaning that it does what the program says. It processes the program a little at a time, alternately reading lines and performing computations. \n",
    "\n",
    "![interpret](./img/interpret.png)\n",
    "\n",
    "Python is considered an interpreted language because Python programs are executed by an interpreter. \n",
    "\n",
    "There are two ways to use the interpreter: \n",
    "\n",
    "* `command-line` mode and `script` mode. \n",
    "\n"
   ]
  },
  {
   "cell_type": "markdown",
   "metadata": {},
   "source": [
    "####  Python Shell\n",
    "\n",
    "In command-line mode, you type Python programs and the interpreter prints the result. \n",
    "\n",
    "**Running Python Shell on Windows:**\n",
    "\n",
    "Open the <b style=\"color:blue\">terminal</b> in Windows, click the `Win+R`. In the dialog box, type `cmd` and press `[enter]` key.\n",
    "\n",
    "* about terminal: [CodingWithTerminal.md](https://github.com/PySEE/home/blob/S2019/guide/CodingWithTerminal.md)\n",
    "\n",
    "Then, type `python` and in the terminal(if you have set the  `PATH` variable appropriately)\n",
    "\n",
    "![python shell](./img/PythonShell.jpg)\n",
    "\n",
    "Now,We start a Python <b style=\"color:blue\">shell</b>.\n",
    "\n",
    "The symbol<b style=\"color:blue\"> >>> </b>is a <b>shell prompt</b> indicating that the  <b style=\"color:blue\">interpreter(解释器)</b> is expecting the user to type some Python code into the shell.\n",
    "\n",
    "A command, often called a statement, instructs the interpreter to do something. For example, the statement `print('Yankees rule!')` instructs the interpreter to call the function `print`, which will output the string `Yankees rule!` to the window associated\n",
    "with the shell.\n",
    "\n",
    "The sequence of commands\n",
    "\n",
    "```python\n",
    "print('Yankees rule!')\n",
    "print('But not in Boston!')\n",
    "print('Yankees rule,','but not in Boston!')\n",
    "``` \n",
    "\n",
    "![python shell-run](./img/PythonShell-Run.png)  \n"
   ]
  },
  {
   "cell_type": "code",
   "execution_count": null,
   "metadata": {},
   "outputs": [],
   "source": [
    "print('Yankees rule!')\n",
    "print('But not in Boston!')\n",
    "print('Yankees rule,', 'but not in Boston!')  # two values were passed to print"
   ]
  },
  {
   "cell_type": "markdown",
   "metadata": {},
   "source": [
    "####  The  Python Script \n",
    "\n",
    "You can write `a program in a file` and use the interpreter to execute the contents of the file.\n",
    "\n",
    "Files that contain Python programs have names that end with  <b style=\"color:blue\">.py</b>. \n",
    "\n",
    "Such a file is called <b style=\"color:blue\">a script(脚本)</b>.Python is the scripting language\n",
    "\n",
    "* A Python program is a sequence of `definitions and commands`"
   ]
  },
  {
   "cell_type": "code",
   "execution_count": 4,
   "metadata": {},
   "outputs": [
    {
     "name": "stdout",
     "output_type": "stream",
     "text": [
      "Writing ./code/python/demo.py\n"
     ]
    }
   ],
   "source": [
    "%%file ./code/python/demo.py\n",
    "print('Yankees rule!')\n",
    "print('But not in Boston!')\n",
    "print('Yankees rule,', 'but not in Boston!')  # two values were passed to print"
   ]
  },
  {
   "cell_type": "markdown",
   "metadata": {},
   "source": [
    "To execute the program, we have to tell the interpreter the name of the script: "
   ]
  },
  {
   "cell_type": "code",
   "execution_count": 5,
   "metadata": {},
   "outputs": [
    {
     "name": "stdout",
     "output_type": "stream",
     "text": [
      "Yankees rule!\n",
      "But not in Boston!\n",
      "Yankees rule, but not in Boston!\n"
     ]
    }
   ],
   "source": [
    "!python ./code/python/demo.py"
   ]
  },
  {
   "cell_type": "markdown",
   "metadata": {},
   "source": [
    "Notice that **two values** were passed to print in the **third statement.** \n",
    "\n",
    "The `print` command takes a variable number of values and prints them, **separated by a space character,** in the order in which they appear."
   ]
  },
  {
   "cell_type": "markdown",
   "metadata": {},
   "source": [
    "####  The dynamically typed language\n",
    "\n",
    "https://en.wikipedia.org/wiki/Type_system#Dynamic_type_checking_and_runtime_type_information\n",
    "\n",
    ">Dynamic type checking is the process of verifying the type safety of a program at runtime\n",
    "\n",
    "Python is dynamically typed, which means that variables do not have a fixed type. \n",
    "\n",
    "In fact, in Python, variables are very different from what they are in many other languages, specifically statically-typed languages.\n",
    "\n",
    "**Variables are not a segment of the computer’s memory where some value is written, they are ‘tags’ or ‘names’ pointing to objects**. \n",
    "\n",
    "It is therefore possible for the variable `a` to be set to the value 1, then to the value `a string`, then to `a function`."
   ]
  },
  {
   "cell_type": "markdown",
   "metadata": {},
   "source": [
    "The dynamic typing of Python is often considered to be a weakness, and indeed it can lead to complexities and hard-to-debug code. \n",
    "\n",
    "Something named **‘a’** can be set to many different things, and the developer or the maintainer needs to track this name in the code to make sure it has not been set to a completely unrelated object.\n",
    "\n",
    "**Avoid using the same variable name for different things.**"
   ]
  },
  {
   "cell_type": "code",
   "execution_count": null,
   "metadata": {},
   "outputs": [],
   "source": [
    "a = 1  # variables do not have a fixed type,just names pointing to objects\n",
    "print(a)\n",
    "a = 0.1\n",
    "print(a)\n",
    "a = \"Southeast University\"\n",
    "print(a)"
   ]
  },
  {
   "cell_type": "code",
   "execution_count": null,
   "metadata": {},
   "outputs": [],
   "source": [
    "a = 1\n",
    "print(a)\n",
    "f = 0.1\n",
    "print(f)\n",
    "msg = \"Southeast University\"\n",
    "print(msg)"
   ]
  },
  {
   "cell_type": "markdown",
   "metadata": {},
   "source": [
    "### 1.4 Glossary\n",
    "\n",
    "* **high-level language**: A programming language like Python that is designed to be easy for humans to read and write.\n",
    "\n",
    "* **low-level language**: A programming language that is designed to be easy for a computer to run; also called “machine language” or “assembly language”.\n",
    "\n",
    "* **interpret**: To execute a program in a high-level language by translating it one line at a time.\n",
    "\n",
    "* **compile**: To translate a program written in a high-level language into a low-level language all at once, in preparation for later execution.\n",
    "\n",
    "* **source code**: A program in a high-level language before being compiled.\n",
    "\n",
    "* **object code** : The output of the compiler after it translates the program.\n",
    "\n",
    "* **executable**：Another name for object code that is ready to be executed.\n",
    "\n",
    "* **script**：A program stored in a file (usually one that will be `interpreted`).\n",
    "\n",
    "* **program**：A set of instructions that specifies a computation."
   ]
  },
  {
   "cell_type": "markdown",
   "metadata": {},
   "source": [
    "## 2.1 The Basic Elements of Python"
   ]
  },
  {
   "cell_type": "markdown",
   "metadata": {},
   "source": [
    "### 2.1.1 Objects, Expressions, and Numerical Types"
   ]
  },
  {
   "cell_type": "markdown",
   "metadata": {},
   "source": [
    "**Objects** are the core things that Python programs manipulate. Every object has a **type** that defines the kinds of things that programs can do with objects of that type.\n"
   ]
  },
  {
   "cell_type": "markdown",
   "metadata": {},
   "source": [
    "Python has **four** basic types:\n",
    "\n",
    "* **int**  integers: -3 or 5 or 10002\n",
    "* **float** real numbers： 3.0 or 3.17 or -28.72，scientific notation： 1.6E3\n",
    "* **bool** the Boolean values <b>True</b> and <b>False</b>\n",
    "* <b style=\"color:blue\">None</b> is a type with a single value.\n"
   ]
  },
  {
   "cell_type": "markdown",
   "metadata": {},
   "source": [
    "<b>Objects and operators</b> can be combined to form <b>expressions</b>, each of which evaluates to an object of some type. We will refer to this as the value of the expression."
   ]
  },
  {
   "cell_type": "code",
   "execution_count": null,
   "metadata": {},
   "outputs": [],
   "source": [
    "3 + 2"
   ]
  },
  {
   "cell_type": "code",
   "execution_count": null,
   "metadata": {},
   "outputs": [],
   "source": [
    "3.0 + 2.0"
   ]
  },
  {
   "cell_type": "code",
   "execution_count": null,
   "metadata": {},
   "outputs": [],
   "source": [
    "3 != 2"
   ]
  },
  {
   "cell_type": "markdown",
   "metadata": {},
   "source": [
    "The built-in Python function<b style=\"color:blue\"> type</b> can be used to find out the type of an object:"
   ]
  },
  {
   "cell_type": "code",
   "execution_count": null,
   "metadata": {},
   "outputs": [],
   "source": [
    "type(3)"
   ]
  },
  {
   "cell_type": "code",
   "execution_count": null,
   "metadata": {},
   "outputs": [],
   "source": [
    "type(3.0)"
   ]
  },
  {
   "cell_type": "code",
   "execution_count": null,
   "metadata": {},
   "outputs": [],
   "source": [
    "type(True)"
   ]
  },
  {
   "cell_type": "code",
   "execution_count": null,
   "metadata": {},
   "outputs": [],
   "source": [
    "TRue=None\n",
    "print(type(TRue)) # True Only!\n",
    "\n",
    "TRue=True\n",
    "print(type(TRue))\n",
    "TRue=1\n",
    "print(type(TRue))"
   ]
  },
  {
   "cell_type": "code",
   "execution_count": null,
   "metadata": {},
   "outputs": [],
   "source": [
    "type(None)"
   ]
  },
  {
   "cell_type": "code",
   "execution_count": null,
   "metadata": {},
   "outputs": [],
   "source": [
    "type(NONE) # None Only!!"
   ]
  },
  {
   "cell_type": "code",
   "execution_count": null,
   "metadata": {},
   "outputs": [],
   "source": [
    "a=1\n",
    "type(a)\n"
   ]
  },
  {
   "cell_type": "code",
   "execution_count": null,
   "metadata": {},
   "outputs": [],
   "source": [
    "a=0.1\n",
    "type(a)"
   ]
  },
  {
   "cell_type": "markdown",
   "metadata": {},
   "source": [
    "#### Arithmetic Operators\n",
    "\n",
    "**Operators** on types *int and float*\n",
    "\n",
    "```python\n",
    "   +  # Addition\n",
    "   -  # Subtraction\n",
    "   *  # Multiplication\n",
    "   /  # Float Division,Returns a float\n",
    "   // # Integer Divisio, Returns the floor integer\n",
    "   %  # Modulus (Remainder)\n",
    "   ** # Exponentiation\n",
    "```\n"
   ]
  },
  {
   "cell_type": "markdown",
   "metadata": {},
   "source": [
    "##### `Float` Division (Returns a float)"
   ]
  },
  {
   "cell_type": "code",
   "execution_count": null,
   "metadata": {},
   "outputs": [],
   "source": [
    "6/2"
   ]
  },
  {
   "cell_type": "markdown",
   "metadata": {},
   "source": [
    "##### `Integer` division returns the floor integer （the quotient and ignores the remainder）"
   ]
  },
  {
   "cell_type": "code",
   "execution_count": null,
   "metadata": {},
   "outputs": [],
   "source": [
    "6//2 "
   ]
  },
  {
   "cell_type": "code",
   "execution_count": null,
   "metadata": {},
   "outputs": [],
   "source": [
    "7//2  "
   ]
  },
  {
   "cell_type": "markdown",
   "metadata": {},
   "source": [
    "##### Modulus (Remainder)"
   ]
  },
  {
   "cell_type": "code",
   "execution_count": null,
   "metadata": {},
   "outputs": [],
   "source": [
    "7%2 "
   ]
  },
  {
   "cell_type": "markdown",
   "metadata": {},
   "source": [
    "##### Exponentiation\n",
    "\n",
    "$i**j$ is $i$ raised to the power $j$,that is $i^j$. If $i$ and $j 4are both of type int, the result is an int."
   ]
  },
  {
   "cell_type": "code",
   "execution_count": null,
   "metadata": {},
   "outputs": [],
   "source": [
    "2**3 "
   ]
  },
  {
   "cell_type": "code",
   "execution_count": null,
   "metadata": {},
   "outputs": [],
   "source": [
    "2.1**3   "
   ]
  },
  {
   "cell_type": "code",
   "execution_count": null,
   "metadata": {},
   "outputs": [],
   "source": [
    "2**3.1  # If either of them is a float, the result is a float"
   ]
  },
  {
   "cell_type": "markdown",
   "metadata": {},
   "source": [
    "##### Compound Assignment Operators (+=, -=, *=, /=, //=, **=, %=)\n",
    "\n",
    "Each of the arithmetic operators has a corresponding shorthand assignment counterpart, i.e., +=, -=, *=, /=, //=, **= and %=.\n",
    "\n",
    "For example i += 1 is the same as i = i + 1.\n",
    "\n",
    "\n"
   ]
  },
  {
   "cell_type": "code",
   "execution_count": null,
   "metadata": {},
   "outputs": [],
   "source": [
    "a=3\n",
    "a+=1\n",
    "a"
   ]
  },
  {
   "cell_type": "markdown",
   "metadata": {},
   "source": [
    "#### Relational (Comparison) Operators\n",
    "\n",
    "The **comparison operators** are:\n",
    "```python\n",
    "   == # equal\n",
    "   != # not equal\n",
    "   >  # greater\n",
    "   >= # at least\n",
    "   <  # less\n",
    "   <= # at most\n",
    "```"
   ]
  },
  {
   "cell_type": "code",
   "execution_count": null,
   "metadata": {},
   "outputs": [],
   "source": [
    "1==2"
   ]
  },
  {
   "cell_type": "code",
   "execution_count": null,
   "metadata": {},
   "outputs": [],
   "source": [
    "1<=2"
   ]
  },
  {
   "cell_type": "markdown",
   "metadata": {},
   "source": [
    "##### Logical Operators (and, or, not)\n",
    "\n",
    "The operators on type<b style=\"color:blue\"> bool</b> are:\n",
    "    \n",
    "```python\n",
    "  a and b   # True if both a and b are True, and False otherwise.\n",
    "  a or  b   # True if at least one of a or b is True, and False otherwise.\n",
    "  not   a   # True if a is False, and False if a is True.\n",
    "```\n"
   ]
  },
  {
   "cell_type": "code",
   "execution_count": null,
   "metadata": {},
   "outputs": [],
   "source": [
    "2>1 and 3>2"
   ]
  },
  {
   "cell_type": "code",
   "execution_count": null,
   "metadata": {},
   "outputs": [],
   "source": [
    "1>2 or 3>2"
   ]
  },
  {
   "cell_type": "code",
   "execution_count": null,
   "metadata": {},
   "outputs": [],
   "source": [
    "not 1>2"
   ]
  },
  {
   "cell_type": "markdown",
   "metadata": {},
   "source": [
    "#### Further reading: Bitwise Operators (Advanced)\n",
    "\n",
    "Python supports these bitwise operators:\n",
    "\n",
    "<table class=\"table-zebra\" style=\"width:60%\">\n",
    "  <thead>\n",
    "  <tr>\n",
    "    <th>Operator</th>\n",
    "    <th>Mode</th>\n",
    "    <th>Usage</th>\n",
    "    <th>Description</th>\n",
    "    <th>Example<br><code>x=0b10000001</code><br><code>y=0b10001111</code></th>\n",
    "  </tr>\n",
    "  </thead>\n",
    "  <tbody class=\"font-code\">\n",
    "  <tr class=\"tr-alt\">\n",
    "    <td style=\"text-align:center\"><strong>&amp;</strong></td>\n",
    "    <td class=\"font-normal\" style=\"text-align:center\">binary</td>\n",
    "    <td class=\"font-normal\"><code>x &amp; y</code></td>\n",
    "    <td class=\"font-normal\">bitwise AND</td>\n",
    "    <td>x &amp; y ⇒ 0b10000001</td>\n",
    "  </tr>\n",
    "  <tr>\n",
    "    <td style=\"text-align:center\"><strong>|</strong></td>\n",
    "    <td class=\"font-normal\" style=\"text-align:center\">binary</td>\n",
    "    <td class=\"font-normal\"><code>x ! y</code></td>\n",
    "    <td class=\"font-normal\">bitwise OR</td>\n",
    "    <td>x | y ⇒ 0b10001111</td>\n",
    "  </tr>\n",
    "  <tr class=\"tr-alt\">\n",
    "    <td style=\"text-align:center\"><strong>~</strong></td>\n",
    "    <td style=\"text-align:center\"><span class=\"font-normal\" style=\"text-align:center\">Unary</span></td>\n",
    "    <td class=\"font-normal\"><code>~x</code></td>\n",
    "    <td class=\"font-normal\">bitwise NOT (or negate)</td>\n",
    "    <td>~x ⇒ -0b10000010</td>\n",
    "  </tr>\n",
    "  <tr>\n",
    "    <td style=\"text-align:center\"><strong>^</strong></td>\n",
    "    <td style=\"text-align:center\"><span class=\"font-normal\" style=\"text-align:center\">binary</span></td>\n",
    "    <td class=\"font-normal\"><code>x ^ y</code></td>\n",
    "    <td class=\"font-normal\">bitwise XOR</td>\n",
    "    <td>x ^ y ⇒ 0b00001110</td>\n",
    "  </tr>\n",
    "  <tr class=\"tr-alt\">\n",
    "    <td style=\"text-align:center\"><strong>&lt;&lt;</strong></td>\n",
    "    <td style=\"text-align:center\"><span class=\"font-normal\" style=\"text-align:center\">binary</span></td>\n",
    "    <td class=\"font-normal\"><code>x &lt;&lt; count</code></td>\n",
    "    <td class=\"font-normal\">bitwise Left-Shift (padded with zeros)</td>\n",
    "    <td>x &lt;&lt; 2 ⇒ 0b1000000100</td>\n",
    "  </tr>\n",
    "  <tr>\n",
    "    <td style=\"text-align:center\"><strong>&gt;&gt;</strong></td>\n",
    "    <td style=\"text-align:center\"><span class=\"font-normal\" style=\"text-align:center\">binary</span></td>\n",
    "    <td class=\"font-normal\"><code>x &gt;&gt; count</code></td>\n",
    "    <td class=\"font-normal\">bitwise Right-Shift (padded with zeros)</td>\n",
    "    <td>x &gt;&gt; 2 ⇒ 0b100000</td>\n",
    "  </tr>\n",
    "  </tbody>\n",
    "</table>"
   ]
  },
  {
   "cell_type": "code",
   "execution_count": null,
   "metadata": {},
   "outputs": [],
   "source": [
    "x=0b10000001\n",
    "y=0b10001111\n",
    "bin(x&y)"
   ]
  },
  {
   "cell_type": "markdown",
   "metadata": {},
   "source": [
    "##### Bitwise Left-Shift(*2) and Right-Shift(//2)"
   ]
  },
  {
   "cell_type": "code",
   "execution_count": null,
   "metadata": {},
   "outputs": [],
   "source": [
    "bin(8)"
   ]
  },
  {
   "cell_type": "code",
   "execution_count": null,
   "metadata": {},
   "outputs": [],
   "source": [
    "bin(16)"
   ]
  },
  {
   "cell_type": "code",
   "execution_count": null,
   "metadata": {},
   "outputs": [],
   "source": [
    "x=8\n",
    "x<<1"
   ]
  },
  {
   "cell_type": "code",
   "execution_count": null,
   "metadata": {},
   "outputs": [],
   "source": [
    "x=16\n",
    "x>>1"
   ]
  },
  {
   "cell_type": "markdown",
   "metadata": {},
   "source": [
    "#### Further reading: The complex type\n",
    "\n",
    "The  complexl type is probably not as recognizable to most programmers because it is not a common built-in data type in other programming language. \n",
    "\n",
    "For engineers and scientists, complex numbers are a familiar concept. Formally, a complex number has a real and an imaginary component, both represented by float types in Python.\n",
    "\n",
    "In Python, the <b>imaginary</b> component of a complex number is indicated by a $j$>\n"
   ]
  },
  {
   "cell_type": "code",
   "execution_count": null,
   "metadata": {},
   "outputs": [],
   "source": [
    "c=1+3j\n",
    "c"
   ]
  },
  {
   "cell_type": "code",
   "execution_count": null,
   "metadata": {},
   "outputs": [],
   "source": [
    "c.real "
   ]
  },
  {
   "cell_type": "code",
   "execution_count": null,
   "metadata": {},
   "outputs": [],
   "source": [
    "c.imag"
   ]
  },
  {
   "cell_type": "code",
   "execution_count": null,
   "metadata": {},
   "outputs": [],
   "source": [
    "c.conjugate()"
   ]
  },
  {
   "cell_type": "code",
   "execution_count": null,
   "metadata": {},
   "outputs": [],
   "source": [
    "abs(c)"
   ]
  },
  {
   "cell_type": "code",
   "execution_count": null,
   "metadata": {},
   "outputs": [],
   "source": [
    "c1=complex(4,3)\n",
    "c1"
   ]
  },
  {
   "cell_type": "code",
   "execution_count": null,
   "metadata": {},
   "outputs": [],
   "source": [
    "c2=complex('3+4j')\n",
    "c2"
   ]
  },
  {
   "cell_type": "code",
   "execution_count": null,
   "metadata": {},
   "outputs": [],
   "source": [
    "c1+c2"
   ]
  },
  {
   "cell_type": "code",
   "execution_count": null,
   "metadata": {},
   "outputs": [],
   "source": [
    "c1==c2"
   ]
  },
  {
   "cell_type": "markdown",
   "metadata": {},
   "source": [
    "##### '>' not supported between instances of 'complex' and 'complex'\n"
   ]
  },
  {
   "cell_type": "code",
   "execution_count": null,
   "metadata": {},
   "outputs": [],
   "source": [
    "c1<c2"
   ]
  },
  {
   "cell_type": "markdown",
   "metadata": {},
   "source": [
    "### 2.1.2 Variables and Assignment"
   ]
  },
  {
   "cell_type": "markdown",
   "metadata": {},
   "source": [
    "<p><b>Variables</b> provide a way to associate<b> names</b> with <b>objects</b>.\n",
    "<p>In Python, variable names can contain uppercase and lowercase <b>letters</b>, <b>digits</b>, (but they <b>cannot start</b> with a digit), and the special character<b> _</b>. Python variable names are<b> case-sensitive</b> e.g., Julie and julie are different names.\n",
    "<p>Finally, there are a small number of <b>reserved words</b> (sometimes called keywords) in Python that have built-in meanings and cannot be used as variable names.\n",
    "\n",
    "In Python, a variable is <b>just a name</b>, nothing more."
   ]
  },
  {
   "cell_type": "code",
   "execution_count": null,
   "metadata": {},
   "outputs": [],
   "source": [
    "pi = 3\n",
    "radius = 11  #  bound to a object of type int\n",
    "area = pi * (radius**2)\n",
    "print(area)\n",
    "radius = 14.0 # rebound to a different object of type float\n",
    "area = pi * (radius**2)\n",
    "print(area)"
   ]
  },
  {
   "cell_type": "markdown",
   "metadata": {},
   "source": [
    "**names matter**\n",
    "\n",
    "Experienced programmers will confirm that they spend a great deal of time **reading programs**  in an attempt to **understand** why they behave as they do.\n",
    "\n",
    "<p>It is therefore of <b>critical importance </b>to write programs in such way that they are<b> easy to read</b>."
   ]
  },
  {
   "cell_type": "code",
   "execution_count": null,
   "metadata": {},
   "outputs": [],
   "source": [
    "a = 3.14159\n",
    "b = 11.2 \n",
    "c = a*(b**2)"
   ]
  },
  {
   "cell_type": "markdown",
   "metadata": {},
   "source": [
    "Apt choice of variable names plays an important role in enhancing  <b style=\"color:blue\">readability</b>.\n",
    "\n",
    "<b style=\"color:blue\">Comments: #</b>\n",
    "\n",
    "Another good way to enhance the readability of code is to add<b style=\"color:blue\"> comments</b>.Text following the symbol <b style=\"color:blue\"> #</b> is not interpreted by Python."
   ]
  },
  {
   "cell_type": "code",
   "execution_count": null,
   "metadata": {},
   "outputs": [],
   "source": [
    "# subtract area of square s from area of circle c\n",
    "side=1\n",
    "areaC = pi*radius**2\n",
    "# mid\n",
    "areaS = side*side\n",
    "difference = areaC-areaS\n",
    "print(areaS)"
   ]
  },
  {
   "cell_type": "markdown",
   "metadata": {},
   "source": [
    "<b style=\"color:blue\"> multiple assignment</b>\n",
    "\n",
    "Python allows<b style=\"color:blue\"> multiple assignment</b>.The statement"
   ]
  },
  {
   "cell_type": "code",
   "execution_count": null,
   "metadata": {},
   "outputs": [],
   "source": [
    "x, y = 2, 3"
   ]
  },
  {
   "cell_type": "code",
   "execution_count": null,
   "metadata": {},
   "outputs": [],
   "source": [
    "y"
   ]
  },
  {
   "cell_type": "code",
   "execution_count": null,
   "metadata": {},
   "outputs": [],
   "source": [
    "x"
   ]
  },
  {
   "cell_type": "code",
   "execution_count": null,
   "metadata": {},
   "outputs": [],
   "source": [
    "x, y = y, x   #use multiple assignment to swap the bindings of two variables.\n",
    "print('x =', x)\n",
    "print('y =', y)"
   ]
  },
  {
   "cell_type": "markdown",
   "metadata": {},
   "source": [
    "## 2.3 Strings \n",
    "\n",
    "Objects of type str are used to represent strings of characters.\n",
    "\n",
    "String literals are written in a variety of ways:\n",
    "\n",
    "* **Single quotes**: 'abc'(allows embedded double quotes)\n",
    "* **Double quotes**: \"abc\"(allows embedded single quotes).\n",
    "* **Triple quoted**: '''abc''' or  \"\"\"abc\"\"\",(allows `multi-lines`)\n",
    "\n",
    "Triple quoted strings may **span multiple lines** - all associated whitespace will be included in the string literal."
   ]
  },
  {
   "cell_type": "code",
   "execution_count": null,
   "metadata": {},
   "outputs": [],
   "source": [
    "'abc '"
   ]
  },
  {
   "cell_type": "code",
   "execution_count": null,
   "metadata": {},
   "outputs": [],
   "source": [
    "type('abc')"
   ]
  },
  {
   "cell_type": "code",
   "execution_count": null,
   "metadata": {},
   "outputs": [],
   "source": [
    "type(\"abc\")"
   ]
  },
  {
   "cell_type": "code",
   "execution_count": null,
   "metadata": {},
   "outputs": [],
   "source": [
    "dstr=\"abc'abc'\"\n",
    "print(dstr)"
   ]
  },
  {
   "cell_type": "code",
   "execution_count": null,
   "metadata": {},
   "outputs": [],
   "source": [
    "a=\"\"\"\n",
    "     School Of Power Engineeing\n",
    "     Southeast\n",
    "     China\n",
    "     \n",
    "     Triple quoted\n",
    "\"\"\""
   ]
  },
  {
   "cell_type": "code",
   "execution_count": null,
   "metadata": {},
   "outputs": [],
   "source": [
    "a"
   ]
  },
  {
   "cell_type": "code",
   "execution_count": null,
   "metadata": {},
   "outputs": [],
   "source": [
    "a='''\n",
    "     School Of Power Engineeing\n",
    "     Southeast\n",
    "     China\n",
    "     \n",
    "     Triple quoted\n",
    "'''"
   ]
  },
  {
   "cell_type": "code",
   "execution_count": null,
   "metadata": {},
   "outputs": [],
   "source": [
    "print(a)"
   ]
  },
  {
   "cell_type": "code",
   "execution_count": null,
   "metadata": {},
   "outputs": [],
   "source": [
    "3*4   # The operator *"
   ]
  },
  {
   "cell_type": "code",
   "execution_count": null,
   "metadata": {},
   "outputs": [],
   "source": [
    "3*\"a\"   # The operator * is overloaded\n",
    "# 3*4 is equivalent to 4+4+4, \n",
    "# the expression 3*'a' is equivalent to 'a'+'a'+'a'."
   ]
  },
  {
   "cell_type": "code",
   "execution_count": null,
   "metadata": {},
   "outputs": [],
   "source": [
    "3+4 # The operator *"
   ]
  },
  {
   "cell_type": "code",
   "execution_count": null,
   "metadata": {},
   "outputs": [],
   "source": [
    "'a'+'a1'  # The operator * is overloaded"
   ]
  },
  {
   "cell_type": "code",
   "execution_count": null,
   "metadata": {},
   "outputs": [],
   "source": [
    "a =3.0 \n",
    "a# name only, not bound to any object, not a literal of any type"
   ]
  },
  {
   "cell_type": "code",
   "execution_count": null,
   "metadata": {},
   "outputs": [],
   "source": [
    "'a'*'a'"
   ]
  },
  {
   "cell_type": "markdown",
   "metadata": {},
   "source": [
    "The <b>type checking in Python</b> is not as, strong as in some other programming languages (e.g., Java)."
   ]
  },
  {
   "cell_type": "code",
   "execution_count": null,
   "metadata": {},
   "outputs": [],
   "source": [
    "'4' < 3  # all numeric values should be less than all values of type str :Python2, not python3!"
   ]
  },
  {
   "cell_type": "markdown",
   "metadata": {},
   "source": [
    "**Strings are one of several sequence types in Python** \n",
    "\n",
    "**They `share` the following operations with `all sequence` types.**\n",
    "<ul>\n",
    "<li>The <b>length</b> of a string can be found using the len function. For example, the value of <b>len('abc')</b> is 3\n",
    "<li><b>Indexing</b> can be used to extract individual characters from a string. In Python,all indexing is <b>zero-based</b>. For example, typing 'abc'[0] into the interpreter will cause it to display the string 'a'.\n",
    "<li><b>Slicing</b> is used to extract substrings of arbitrary length. If s is a string, the expression <b>s[start:end] </b> denotes the substring of s that starts at index start and ends at index <b>end-1</b>. For example, 'abc'[1:3] = 'bc'.\n",
    "</ul>"
   ]
  },
  {
   "cell_type": "code",
   "execution_count": null,
   "metadata": {},
   "outputs": [],
   "source": [
    "len('ayybd')"
   ]
  },
  {
   "cell_type": "code",
   "execution_count": null,
   "metadata": {},
   "outputs": [],
   "source": [
    "'abd'[1]"
   ]
  },
  {
   "cell_type": "code",
   "execution_count": null,
   "metadata": {},
   "outputs": [],
   "source": [
    "'abcd'[1:3]"
   ]
  },
  {
   "cell_type": "code",
   "execution_count": null,
   "metadata": {},
   "outputs": [],
   "source": [
    "'abc'[0:len('abc')]"
   ]
  },
  {
   "cell_type": "code",
   "execution_count": null,
   "metadata": {},
   "outputs": [],
   "source": [
    "'abc'[:len('abc')]  # omit the starting index"
   ]
  },
  {
   "cell_type": "markdown",
   "metadata": {},
   "source": [
    "### Advanced String Slicing\n",
    "\n",
    "you can slice a string with a call such as <b style=\"color:blue\">s[i:j]</b>, \n",
    "\n",
    "which gives you a portion of string s from index <b style=\"color:blue\">i</b> to index <b style=\"color:blue\">j-1</b>. \n",
    "\n",
    "However this is not the only way to slice a string! \n",
    "\n",
    "If you <b style=\"color:blue\">omit the starting index</b>, Python will assume that you wish to start your slice at index <b style=\"color:blue\">0</b>. \n",
    "\n",
    "If you <b style=\"color:blue\">omit the ending index</b>, Python will assume you wish to end your slice at <b style=\"color:blue\">the end of the string</b>. \n",
    "\n"
   ]
  },
  {
   "cell_type": "code",
   "execution_count": null,
   "metadata": {},
   "outputs": [],
   "source": [
    "'abc'[:]"
   ]
  },
  {
   "cell_type": "code",
   "execution_count": null,
   "metadata": {},
   "outputs": [],
   "source": [
    "s = 'Python is Fun!'\n",
    "s[1:5]"
   ]
  },
  {
   "cell_type": "code",
   "execution_count": null,
   "metadata": {},
   "outputs": [],
   "source": [
    "s[:5]"
   ]
  },
  {
   "cell_type": "code",
   "execution_count": null,
   "metadata": {},
   "outputs": [],
   "source": [
    "s[1:]"
   ]
  },
  {
   "cell_type": "code",
   "execution_count": null,
   "metadata": {},
   "outputs": [],
   "source": [
    "s[:]"
   ]
  },
  {
   "cell_type": "markdown",
   "metadata": {},
   "source": [
    "That last example is interesting! If you omit both the start and ending index, you get your original string!\n",
    "\n",
    "There's one other cool thing you can do with string slicing. \n",
    "\n",
    "You can add a third parameter,<b style=\"color:blue\"> k</b>, \n",
    "\n",
    "```python\n",
    "s[i:j:k]\n",
    "```\n",
    "\n",
    "This gives a slice of the string s from index i to index j-1, with <b style=\"color:blue\">step size k</b>. \n",
    "\n",
    "Check out the following examples:"
   ]
  },
  {
   "cell_type": "code",
   "execution_count": null,
   "metadata": {},
   "outputs": [],
   "source": [
    "s = 'Python is Fun!'\n",
    "s[1:12:2]"
   ]
  },
  {
   "cell_type": "code",
   "execution_count": null,
   "metadata": {},
   "outputs": [],
   "source": [
    "s[1:12:3]"
   ]
  },
  {
   "cell_type": "code",
   "execution_count": null,
   "metadata": {},
   "outputs": [],
   "source": [
    "s[::2]"
   ]
  },
  {
   "cell_type": "markdown",
   "metadata": {},
   "source": [
    "The last example is similar to the example   ``` s[:]```. \n",
    "\n",
    "With ```s[::2]```, we're asking for the `full string s` (from index 0 through 13), with a `step size of 2`, so we end up with <b>every other character</b> in s\n",
    "\n",
    "A clever use of this is to pass `-1`, which has the useful effect of `reversing` a string:"
   ]
  },
  {
   "cell_type": "code",
   "execution_count": null,
   "metadata": {},
   "outputs": [],
   "source": [
    "s = 'Python is Fun!'\n",
    "s[::-1]  #  a step size<0"
   ]
  },
  {
   "cell_type": "markdown",
   "metadata": {},
   "source": [
    "See the Figure for a helpful illustration of slicing with positive and negative integers. In the figure, the indices are shown at the “bin edges” to help show where the slice selections start and stop using positive or negative indices.\n",
    "\n",
    "![slicing](./img/Python-Slicing.jpg)"
   ]
  },
  {
   "cell_type": "code",
   "execution_count": null,
   "metadata": {},
   "outputs": [],
   "source": [
    "s='HELLO!'\n",
    "s[2:4]"
   ]
  },
  {
   "cell_type": "code",
   "execution_count": null,
   "metadata": {},
   "outputs": [],
   "source": [
    "s[-5:-2]"
   ]
  },
  {
   "cell_type": "markdown",
   "metadata": {},
   "source": [
    "### Please try the slicing in the follow cell\n",
    "\n",
    "<table class=\"table-zebra\" style=\"width:60%\">\n",
    "  <thead>\n",
    "  <tr>\n",
    "    <th>Operator</th>\n",
    "    <th>Usage</th>\n",
    "    <th>Description</th>\n",
    "    <th>Examples <span class=\"font-code\">s = 'Hello'</span></th>\n",
    "  </tr>\n",
    "  </thead>\n",
    "  <tbody class=\"font-code\">\n",
    "  <tr class=\"tr-alt\">\n",
    "    <td style=\"text-align:center\"><strong>[<em>i</em>]<br>\n",
    "      [-<em>i</em>]</strong></td>\n",
    "    <td>str[i]<br>\n",
    "      str[-i]</td>\n",
    "    <td class=\"font-normal\">Indexing to get a character.<br>\n",
    "    The front index begins at <code>0</code>; back index begins at <code>-1</code> (<code>=len(<em>str</em>)-1</code>).</td>\n",
    "    <td>s[1] ⇒ 'e'<br>\n",
    "    s[-4] ⇒ 'e'</td>\n",
    "  </tr>\n",
    "  <tr>\n",
    "    <td style=\"text-align:center\"><strong>[<em>m</em>:<em>n</em>:<em>step</em>]<br>\n",
    "    [<em>m</em>:<em>n</em>]<br>\n",
    "      [<em>m</em>:]<br>\n",
    "      [:<em>n</em>]<br>\n",
    "      [:]\n",
    "    </strong></td>\n",
    "    <td>str[m:n:step]<br>\n",
    "      str[m:n]<br>\n",
    "      str[m:]<br>\n",
    "      str[:n]<br>\n",
    "      str[:]</td>\n",
    "    <td class=\"font-normal\">Slicing to get a substring.<br>From index <code>m</code> (included) to <code>n</code> (excluded) with <code>step</code> size.<br>\n",
    "    The defaults are: <code>m=0</code>, <code>n=-1</code>, <code>step=1</code>.</td>\n",
    "    <td>s[1:3] ⇒ 'el'<br>s[1:-2] ⇒ 'el'<br>s[3:] ⇒ 'lo'<br>s[:-2] ⇒ 'Hel'<br>s[:] ⇒ 'Hello'<br>s[0:5:2] ⇒ 'Hlo'</td>\n",
    "  </tr>\n",
    "  </tbody>\n",
    "</table>"
   ]
  },
  {
   "cell_type": "code",
   "execution_count": null,
   "metadata": {},
   "outputs": [],
   "source": [
    "s='Hello'\n",
    "s[1]"
   ]
  },
  {
   "cell_type": "markdown",
   "metadata": {},
   "source": [
    "## 2.4 Input\n",
    "\n",
    "Python 3 has a function, `input`, that can be used to get input directly from a user.It takes a string as an argument and displays it as a prompt in the shell. It then waits for the user to type something, followed by hitting the enter key. <b style=\"color:blue\">The line typed by the useris treated as a string</b> and becomes the value returned by the function."
   ]
  },
  {
   "cell_type": "code",
   "execution_count": null,
   "metadata": {},
   "outputs": [],
   "source": [
    "name = input('Enter your name: ')"
   ]
  },
  {
   "cell_type": "code",
   "execution_count": null,
   "metadata": {},
   "outputs": [],
   "source": [
    "print('Are you really', name, '?')  \n",
    "# print is given multiple arguments, \n",
    "# it places a blank space between the values associated with the arguments"
   ]
  },
  {
   "cell_type": "code",
   "execution_count": null,
   "metadata": {},
   "outputs": [],
   "source": [
    "print('Are you really ' + name + '?')\n",
    "#  The print statementuses concatenation + to produce a string that does not contain \n",
    "#  the superfluous blank and passes this as the only argument to print."
   ]
  },
  {
   "cell_type": "markdown",
   "metadata": {},
   "source": [
    "Notice that \n",
    "\n",
    "* The first print statement introduces `a blank` before the “?”. It does this because when print is given multiple arguments it places a `blank space` between the values associated with the arguments. \n",
    "\n",
    "* The second print statement uses `concatenation`(+) to produce a string that does not contain the superfluous blank and passes this as the only argument to print.\n",
    "\n",
    "**input line** is treated as a <b style=\"color:blue\">string</b> and becomes the value returned by the function(Type conversions);"
   ]
  },
  {
   "cell_type": "code",
   "execution_count": null,
   "metadata": {},
   "outputs": [],
   "source": [
    "n = input('Enter an int: ')"
   ]
  },
  {
   "cell_type": "code",
   "execution_count": null,
   "metadata": {},
   "outputs": [],
   "source": [
    "type(n)"
   ]
  },
  {
   "cell_type": "markdown",
   "metadata": {},
   "source": [
    "Notice that the variable n is bound to the **str** `'3'` not the **int** `3`."
   ]
  },
  {
   "cell_type": "code",
   "execution_count": null,
   "metadata": {},
   "outputs": [],
   "source": [
    "n*4"
   ]
  },
  {
   "cell_type": "markdown",
   "metadata": {},
   "source": [
    "**Type conversions** (also called type casts) are used often in Python code. \n",
    "We use the name of a type to convert values to that type."
   ]
  },
  {
   "cell_type": "code",
   "execution_count": null,
   "metadata": {},
   "outputs": [],
   "source": [
    "a=int(n)"
   ]
  },
  {
   "cell_type": "code",
   "execution_count": null,
   "metadata": {},
   "outputs": [],
   "source": [
    "type(a)"
   ]
  },
  {
   "cell_type": "code",
   "execution_count": null,
   "metadata": {},
   "outputs": [],
   "source": [
    "int(n)*4"
   ]
  },
  {
   "cell_type": "markdown",
   "metadata": {},
   "source": [
    "When a float is converted to an int, the number is truncated (not rounded), e.g., "
   ]
  },
  {
   "cell_type": "code",
   "execution_count": null,
   "metadata": {},
   "outputs": [],
   "source": [
    "int(3.9)"
   ]
  },
  {
   "cell_type": "markdown",
   "metadata": {},
   "source": [
    "\n",
    "##  Further Reading\n",
    "\n",
    "*  Built-in Types: https://docs.python.org/3/library/stdtypes.html?highlight=numerical%20type\n",
    "  * 4.4 Numeric Types — int, float, complex\n",
    "\n",
    "* 26.1. typing — Support for type hints.\n",
    "  * https://docs.python.org/3/library/typing.html    \n",
    "   \n",
    "*  探索 Python，第 1 部分: Python 的内置数值类型\n",
    "   * http://www.ibm.com/developerworks/cn/opensource/os-python1/\n",
    "   * http://www.ibm.com/developerworks/opensource/library/os-python1/?S_TACT=105AGX52&S_CMP=cn-a-os\n",
    "   \n",
    "* IBM Developer: Let’s code something amazing http://www.ibm.com/developerworks/"
   ]
  }
 ],
 "metadata": {
  "kernelspec": {
   "display_name": "Python 3",
   "language": "python",
   "name": "python3"
  },
  "language_info": {
   "codemirror_mode": {
    "name": "ipython",
    "version": 3
   },
   "file_extension": ".py",
   "mimetype": "text/x-python",
   "name": "python",
   "nbconvert_exporter": "python",
   "pygments_lexer": "ipython3",
   "version": "3.7.2"
  },
  "toc": {
   "base_numbering": 1,
   "nav_menu": {},
   "number_sections": false,
   "sideBar": true,
   "skip_h1_title": false,
   "title_cell": "Table of Contents",
   "title_sidebar": "Contents",
   "toc_cell": false,
   "toc_position": {
    "height": "calc(100% - 180px)",
    "left": "10px",
    "top": "150px",
    "width": "333.91px"
   },
   "toc_section_display": true,
   "toc_window_display": true
  }
 },
 "nbformat": 4,
 "nbformat_minor": 2
}
