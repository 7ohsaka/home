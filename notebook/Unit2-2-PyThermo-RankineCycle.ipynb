{
 "cells": [
  {
   "cell_type": "markdown",
   "metadata": {},
   "source": [
    "# The  Rankine Cycle Analysis With List,Dict & Functions\n",
    " \n",
    "Michael J. Moran, Howard N. Shapiro, Daisie D. Boettner, Margaret B. Bailey. Fundamentals of Engineering Thermodynamics(7th Edition). John Wiley & Sons, Inc. 2011\n",
    "\n",
    "http://www.lib.seu.edu.cn/\n",
    "\n",
    "查找资源->外文电子书->Wiley电子教材->T(工业技术)->TK(能源与动力工程)->TK1(热力工程,热机)\n",
    " \n",
    "**Chapter 8 : Vapor Power Systems:**\n",
    "\n",
    "\n",
    "**1** EXAMPLE 8.1 Analyzing an Ideal Rankine Cycle P438\n",
    "\n",
    "* 1 expression only\n",
    "\n",
    "* 2 the basic abstraction :List dict,function\n",
    "\n",
    "* 3 [Object-oriented programming](./Unit4-1-PyThermo-IdealRankineCycle-OOP.ipynb)\n",
    "\n",
    "**2** EXAMPLE 8.2 Analyzing a Rankine Cycle with `Irreversibilities` P444\n",
    "\n",
    "*  expression only\n",
    "\n",
    "## 1  The Rankine Cycle Examples\n",
    "\n",
    "### 1.1 Example 8.1: Analyzing an Ideal Rankine Cycle \n",
    "\n",
    "Steam is the working fluid in an ideal Rankine cycle. \n",
    "\n",
    "Saturated vapor enters the turbine at 8.0 MPa and saturated liquid exits the condenser at a pressure of 0.008 MPa. \n",
    "\n",
    "The net power output of the cycle is 100 MW.\n",
    "\n",
    "![rankine81](./img/rankine81.jpg)\n",
    "\n",
    "* **Process 1–2:** **Isentropic expansion** of the working fluid through the turbine from saturated vapor at state 1 to the condenser pressure.\n",
    "* **Process 2–3:** Heat transfer from the working fluid as it flows at **constant pressure**\n",
    "through the condenser with saturated liquid at state 3.\n",
    "* **Process 3–4:** **Isentropic compression** in the pump to state 4 in the compressed liquid region.\n",
    "* **Process 4–1:** Heat transfer to the working fluid as it flows at **constant pressure** through the boiler to complete the cycle.\n",
    "\n",
    "Determine for the cycle\n",
    "\n",
    "(a) the thermal efficiency,\n",
    "\n",
    "(b) the back work ratio, \n",
    "\n",
    "(c) the mass flow rate of the steam,in kg/h,\n",
    "\n",
    "(d) the rate of heat transfer, Qin, into the working fluid as it passes through the boiler, in MW,\n",
    "\n",
    "(e) the rate of heat transfer, Qout, from the condensing steam as it passes through the condenser, in MW,\n",
    "\n",
    "(f) the mass flow rate of the condenser cooling water, in kg/h, if cooling water enters the condenser at 15°C and exits at 35°C.\n",
    "\n",
    "**Engineering Model:**\n",
    "\n",
    "* 1 Each **component** of the cycle is analyzed as a **control volume** at steady state. The control volumes are shown on the accompanying sketch by **dashed** lines.\n",
    "\n",
    "\n",
    "* 2 All processes of the working fluid are internally reversible.\n",
    "\n",
    "\n",
    "* 3 The turbine and pump operate adiabatically.\n",
    "\n",
    "\n",
    "* 4 Kinetic and potential energy effects are negligible.\n",
    "\n",
    "\n",
    "* 5 Saturated vapor enters the turbine. Condensate exits the condenser as saturated liquid."
   ]
  },
  {
   "cell_type": "markdown",
   "metadata": {},
   "source": [
    "To begin the analysis, we fix each of **the principal states（1，2，3，4)** located on the accompanying schematic and **T–s** diagrams.\n",
    "\n",
    "#### 1.1.1 States"
   ]
  },
  {
   "cell_type": "code",
   "execution_count": 1,
   "metadata": {},
   "outputs": [],
   "source": [
    "from seuif97 import *\n",
    "\n",
    "# State  1\n",
    "p1 = 8.0  # in MPa\n",
    "t1 = px2t(p1, 1)\n",
    "h1 = px2h(p1, 1)          # h1 = 2758.0    From table A-3  kj/kg\n",
    "s1 = px2s(p1, 1)          # s1 = 5.7432    From table A-3  kj/kg.k\n",
    "\n",
    "# State  2 ,p2=0.008\n",
    "p2 = 0.008\n",
    "s2 = s1\n",
    "t2 = ps2t(p2, s2)\n",
    "h2 = ps2h(p2, s2)\n",
    "\n",
    "# State 3 is saturated liquid at 0.008 MPa\n",
    "p3 = 0.008\n",
    "t3 = px2t(p3, 0)\n",
    "h3 = px2h(p3, 0)  # kj/kg\n",
    "s3 = px2s(p3, 0)\n",
    "\n",
    "# State 4\n",
    "p4 = p1\n",
    "s4 = s3\n",
    "h4 = ps2h(p4, s4)\n",
    "t4 = ps2h(p4, s4)"
   ]
  },
  {
   "cell_type": "markdown",
   "metadata": {},
   "source": [
    "#### 1.1.2  Analysis the Cycle\n",
    "\n",
    "**(a) The thermal efficiency**\n",
    "\n",
    "The net power developed by the cycle is\n",
    "\n",
    "$\\dot{W}_{cycle}=\\dot{W}_t-\\dot{W}_p$\n",
    "\n",
    "Mass and energy rate balances for control volumes around the turbine and pump give,respectively\n",
    "\n",
    "$\\frac{\\dot{W}_t}{\\dot{m}}=h_1-h_2$  \n",
    "$\\frac{\\dot{W}_p}{\\dot{m}}=h_4-h_3$\n",
    "\n",
    "where $\\dot{m}$ is the mass flow rate of the steam. The rate of heat transfer to the working fluid as it passes through the boiler is determined using mass and energy rate balances as\n",
    "\n",
    "$\\frac{\\dot{Q}_{in}}{\\dot{m}}=h_1-h_4$\n",
    "\n",
    "The thermal efficiency is then\n",
    "\n",
    "\n",
    "$\\eta=\\frac{\\dot{W}_t-\\dot{W}_p}{\\dot{Q}_{in}}=\\frac{(h_1-h_2)-(h_4-h_3)}{h_1-h_4}$\n"
   ]
  },
  {
   "cell_type": "code",
   "execution_count": 2,
   "metadata": {},
   "outputs": [
    {
     "name": "stdout",
     "output_type": "stream",
     "text": [
      "(a) The thermal efficiency for the cycle is 37.08%\n"
     ]
    }
   ],
   "source": [
    "# Part(a)\n",
    "# Mass and energy rate balances for control volumes\n",
    "# around the turbine and pump give, respectively\n",
    "\n",
    "# turbine\n",
    "wtdot = h1 - h2\n",
    "# pump\n",
    "wpdot = h4-h3\n",
    "\n",
    "# The rate of heat transfer to the working fluid as it passes\n",
    "# through the boiler is determined using mass and energy rate balances as\n",
    "qindot = h1-h4\n",
    "\n",
    "# thermal efficiency\n",
    "eta = (wtdot-wpdot)/qindot\n",
    "\n",
    "# Result for part a\n",
    "print('(a) The thermal efficiency for the cycle is %.2f%%' % (eta*100))"
   ]
  },
  {
   "cell_type": "markdown",
   "metadata": {},
   "source": [
    "**(b) The back work ratio is**\n",
    "\n",
    "$bwr=\\frac{\\dot{W}_p}{\\dot{W}_t}=\\frac{h_4-h_3}{h_1-h_2}$\n",
    "\n",
    "**(c) The mass flow rate of the steam can be obtained from the expression for the net power given in part (a)**\n",
    "\n",
    "$\\dot{m}=\\frac{\\dot{W}_{cycle}}{(h_1-h_2)-(h_4-h_3)}$\n",
    "\n",
    "**(d) With the expression for $\\dot{Q}_{in}$ in from part (a) and previously determined specific enthalpy values**\n",
    "\n",
    "$\\dot{Q}_{in}=\\dot{m}(h_1-h_4)$\n",
    "\n",
    "**(e) Mass and energy rate balances applied to a control volume enclosing the steam side of the condenser give**\n",
    "\n",
    "$\\dot{Q}_{out}=\\dot{m}(h_2-h_3)$\n",
    "\n",
    "**(f) Taking a control volume around the condenser, the mass and energy rate balances give at steady state**\n",
    "\n",
    "\n",
    "$\\require{cancel} 0=\\dot{\\cancel{Q}}^{0}_{cv}-\\dot{\\cancel{w}}^{0}_{cv}+\\dot{m}_{cw}(h_{cw,in}-h_{cw,out})+\\dot{m}(h_2-h_3)$\n",
    "\n",
    "where $\\dot{m}_{cw}$ is the mass flow rate of the cooling water. Solving for $\\dot{m}_{cw}$\n",
    "\n",
    " $\\dot{m}_{cw}=\\frac{\\dot{m}(h_2-h_3)}{h_{cw,in}-h_{cw,out}}$"
   ]
  },
  {
   "cell_type": "code",
   "execution_count": 3,
   "metadata": {},
   "outputs": [
    {
     "name": "stdout",
     "output_type": "stream",
     "text": [
      "(b) The back work ratio is 0.835%\n",
      "(c) The mass flow rate of the steam is 376770.81 kg/h.\n",
      "(d) The rate of heat transfer Qindot into the working fluid as it passes through the boiler is 269.68 MW.\n",
      "(e) The rate of heat transfer Qoutdot from the condensing steam as it passes through the condenser is 169.68 MW.\n",
      "(f) The mass flow rate of the condenser cooling water is 7301242.75 kg/h.\n"
     ]
    }
   ],
   "source": [
    "# Part(b)\n",
    "# back work ratio：bwr, defined as the ratio of the pump work input to the work\n",
    "# developed by the turbine.\n",
    "bwr = wpdot/wtdot                                    #\n",
    "\n",
    "# Result\n",
    "print('(b) The back work ratio is %.3f%%' % (bwr*100))\n",
    "\n",
    "# Part(c)\n",
    "Wcycledot = 100.00     # the net power output of the cycle in MW\n",
    "mdot = (Wcycledot*10**3*3600)/((h1-h2)-(h4-h3))       # mass flow rate in kg/h\n",
    "\n",
    "# Result\n",
    "print('(c) The mass flow rate of the steam is %.2f' % mdot, 'kg/h.')\n",
    "\n",
    "# Part(d)\n",
    "Qindot = mdot*qindot/(3600*10**3)                     # in MW\n",
    "\n",
    "# Results\n",
    "print('(d) The rate of heat transfer Qindot into the working fluid as' +\n",
    "      ' it passes through the boiler is %.2f' % Qindot, 'MW.')\n",
    "\n",
    "# Part(e)\n",
    "Qoutdot = mdot*(h2-h3)/(3600*10**3)                   # in MW\n",
    "\n",
    "# Results\n",
    "print('(e) The rate of heat transfer Qoutdot from the condensing steam ' +\n",
    "      'as it passes through the condenser is {:.2f} MW.'.format(Qoutdot))\n",
    "\n",
    "# Part(f)\n",
    "\n",
    "# Given:\n",
    "tcwin = 15\n",
    "tcwout = 35\n",
    "\n",
    "hcwout = tx2h(tcwout, 0)   # From table A-2,hcwout= 146.68  kj/kg\n",
    "\n",
    "hcwin = tx2h(tcwin, 0)    # hcwin 62.99\n",
    "mcwdot = (Qoutdot*10**3*3600)/(hcwout-hcwin)          # in kg/h\n",
    "\n",
    "# Results\n",
    "print('(f) The mass flow rate of the condenser cooling water is %.2f kg/h.' % mcwdot)"
   ]
  },
  {
   "cell_type": "markdown",
   "metadata": {},
   "source": [
    "### 1.2 Example8.2 :Analyzing a Rankine Cycle with Irreversibilities-Zero Abstraction\n",
    "\n",
    "Reconsider the vapor power cycle of Example 8.1, but include in the analysis that the turbine and the pump each have an isentropic efficiency of 85%. \n",
    "\n",
    "Determine for the modified cycle \n",
    "\n",
    "* (a) the thermal efficiency, \n",
    "\n",
    "* (b) the mass flow rate of steam, in kg/h, for a net power output of 100MW, \n",
    "\n",
    "* (c) the rate of heat transfer $\\dot{Q}_{in}$ in into the working fluid as it passes through the boiler, in MW, \n",
    "\n",
    "* (d) the rate of heat transfer $\\dot{Q}_{out}$ out from the condensing steam as it passes through the condenser, in MW, \n",
    "\n",
    "* (e) the mass flow rate of the condenser cooling water, in kg/h, if cooling water enters the condenser at 15°C and exits as 35°C.\n",
    "\n",
    "**SOLUTION**\n",
    "\n",
    "**Known:** A vapor power cycle operates with steam as the working fluid. The turbine and pump both have efficiencies of 85%.\n",
    "\n",
    "**Find:** Determine the thermal efficiency, the mass flow rate, in kg/h, the rate of heat transfer to the working fluid as it passes through the boiler, in MW, the heat transfer rate from the condensing steam as it passes through thecondenser, in MW, and the mass flow rate of the condenser cooling water, in kg/h.\n",
    "\n",
    "**Engineering Model:**\n",
    "\n",
    "1. Each component of the cycle is analyzed as a control volume at steady state.\n",
    "\n",
    "2. The working fluid passes through the boiler and condenser at constant pressure. Saturated vapor enters the turbine. The condensate is saturated at the condenser exit.\n",
    "\n",
    "3. The turbine and pump each operate adiabatically with an efficiency of 85%.\n",
    "\n",
    "4. Kinetic and potential energy effects are negligible\n",
    "\n",
    "![rankine82](./img/rankine82.jpg)\n",
    "\n",
    "**Analysis:**\n",
    "\n",
    "Owing to the presence of `irreversibilities` during the expansion of the steam through the turbine, there is an increase in specific entropy from turbine inlet to exit, as shown on the accompanying T–s diagram. Similarly,there is an increase in specific entropy from pump inlet to exit.\n",
    "\n",
    "Let us begin the analysis by fixing each of the principal states.\n",
    "\n",
    "#### 1.2.1 States"
   ]
  },
  {
   "cell_type": "code",
   "execution_count": 4,
   "metadata": {},
   "outputs": [],
   "source": [
    "from seuif97 import *\n",
    "\n",
    "# State  1\n",
    "p1 = 8.0               #  in MPa\n",
    "t1 =px2t(p1,1) \n",
    "h1=px2h(p1,1)          # h1 = 2758.0    From table A-3  kj/kg\n",
    "s1=px2s(p1,1)          # s1 = 5.7432    From table A-3  kj/kg.k\n",
    "\n",
    "# State  2 ,p2=0.008\n",
    "p2=0.008\n",
    "s2s = s1\n",
    "h2s=ps2h(p2,s2s)\n",
    "t2s=ps2t(p2,s2s)\n",
    "etat_t=0.85\n",
    "h2=h1-etat_t*(h1-h2s)\n",
    "t2 =ph2t(p2,h2)     \n",
    "s2 =ph2s(p2,h2)     \n",
    "\n",
    "# State 3 is saturated liquid at 0.008 MPa\n",
    "p3 = 0.008            \n",
    "t3=px2t(p3,0) \n",
    "h3 =px2h(p3,0)                                     #  kj/kg\n",
    "s3 =px2s(p3,0)     \n",
    "\n",
    "#State 4 \n",
    "p4 = p1\n",
    "s4s=s3\n",
    "h4s =ps2h(p4,s4s)\n",
    "t4s =ps2t(p4,s4s) \n",
    "etat_p=0.85\n",
    "h4=h3+(h4s-h3)/etat_p\n",
    "t4 =ph2t(p4,h4)     \n",
    "s4 =ph2s(p4,h4)"
   ]
  },
  {
   "cell_type": "markdown",
   "metadata": {},
   "source": [
    "#### 1.2.2 Analysis the Cycle"
   ]
  },
  {
   "cell_type": "code",
   "execution_count": 5,
   "metadata": {},
   "outputs": [
    {
     "name": "stdout",
     "output_type": "stream",
     "text": [
      "Thermal efficiency is: 31.435 %\n",
      "The mass flow rate of steam, in kg/h, for a net power output of 100 MW is 444698.068 kg/h.\n",
      "The rate of heat transfer Qindot into the working fluid as it passes through the boiler, is 318.119 MW.\n",
      "The rate of heat transfer  Qoutdotfrom the condensing steam as it passes through the condenser, is 218.119 MW.\n",
      "The mass flow rate of the condenser cooling water, is: 9385814.184 kg/h.\n"
     ]
    }
   ],
   "source": [
    "# Part(a)\n",
    "eta = ((h1-h2)-(h4-h3))/(h1-h4)             # thermal efficiency\n",
    "\n",
    "# Result for part (a)\n",
    "print('Thermal efficiency is: %.3f' % (100*eta), '%')\n",
    "\n",
    "# Part(b)\n",
    "Wcycledot = 100                             # given,a net power output of 100 MW\n",
    "# Calculations\n",
    "mdot = (Wcycledot*(10**3)*3600)/((h1-h2)-(h4-h3))\n",
    "# Result for part (b)\n",
    "print('The mass flow rate of steam, in kg/h, for a net power output of 100 MW is %.3f' % mdot, 'kg/h.')\n",
    "\n",
    "# Part(c)\n",
    "Qindot = mdot*(h1-h4)/(3600 * 10**3)\n",
    "# Result\n",
    "print('The rate of heat transfer Qindot into the working fluid as it passes through the boiler, is %.3f' % Qindot, 'MW.')\n",
    "\n",
    "# Part(d)\n",
    "Qoutdot = mdot*(h2-h3)/(3600*10**3)\n",
    "# Result\n",
    "print('The rate of heat transfer  Qoutdotfrom the condensing steam as it passes through the condenser, is %.3f' % Qoutdot, 'MW.')\n",
    "\n",
    "# Part(e)\n",
    "tcwin = 15\n",
    "tcwout = 35\n",
    "hcwout = tx2h(tcwout, 0)   # From table A-2,hcwout= 146.68  kj/kg\n",
    "hcwin = tx2h(tcwin, 0)    # hcwin 62.99\n",
    "mcwdot = (Qoutdot*10**3*3600)/(hcwout-hcwin)\n",
    "# Result\n",
    "print('The mass flow rate of the condenser cooling water, is: %.3f' %\n",
    "      mcwdot, 'kg/h.')"
   ]
  },
  {
   "cell_type": "markdown",
   "metadata": {},
   "source": [
    "#### 1.2.3 T-S   Diagram"
   ]
  },
  {
   "cell_type": "code",
   "execution_count": 6,
   "metadata": {},
   "outputs": [
    {
     "data": {
      "image/png": "[encoded data removed]",
      "text/plain": [
       "<Figure size 720x360 with 1 Axes>"
      ]
     },
     "metadata": {
      "needs_background": "light"
     },
     "output_type": "display_data"
    }
   ],
   "source": [
    "%matplotlib inline\n",
    "\n",
    "import matplotlib.pyplot as plt\n",
    "import numpy as np\n",
    "\n",
    "plt.figure(figsize=(10.0,5.0))\n",
    "\n",
    "# saturated vapor and liquid entropy lines \n",
    "npt = np.linspace(10,647.096-273.15,200) # range of temperatures\n",
    "svap = [s for s in [tx2s(t, 1) for t in npt]]\n",
    "sliq = [s for s in [tx2s(t, 0) for t in npt]]\n",
    "plt.plot(svap, npt, 'r-')\n",
    "plt.plot(sliq, npt, 'b-')\n",
    "\n",
    "t=[t1,t2s,t3,t4s+15]\n",
    "s=[s1,s2s,s3,s4s]\n",
    "\n",
    "# point 5\n",
    "t.append(px2t(p1,0))\n",
    "s.append(px2s(p1,0))\n",
    "\n",
    "t.append(t1)\n",
    "s.append(s1)\n",
    "\n",
    "plt.plot(s, t, 'ko-')\n",
    "\n",
    "tb=[t1,t2]\n",
    "sb=[s1,s2]\n",
    "plt.plot(sb, tb, 'k--')\n",
    "tist=[t2,t2s]\n",
    "sist=[s2,s2s]\n",
    "plt.plot(sist, tist, 'ko-')\n",
    "\n",
    "sp=[s3,s3+0.3]\n",
    "tp=[t3,ps2t(p4,s3+0.3)+15]\n",
    "plt.plot(sp, tp, 'ko--')\n",
    "\n",
    "tist=[t2,t2s]\n",
    "sist=[s2,px2s(p2,1)]\n",
    "plt.plot(sist, tist, 'g-')\n",
    "\n",
    "plt.xlabel('Entropy (kJ/(kg K)')\n",
    "plt.ylabel('Temperature (°C)')\n",
    "plt.grid()"
   ]
  },
  {
   "cell_type": "markdown",
   "metadata": {},
   "source": [
    "### 1.3  Discussion of Examples 8.1 and 8.2\n",
    "\n",
    "The effect of irreversibilities within the turbine and pump can be gauged by comparing values from Example 8.2 with their counterparts in Example 8.1. In Example 8.2,\n",
    "the turbine work per unit of mass is less and the pump work per unit of mass is greater than in Example 8.1, as can be confirmed using data from these examples.\n",
    "The thermal efficiency in Example 8.2 is less than in the ideal case of Example 8.1 \n",
    "\n",
    "For a fixed net power output (100 MW), the smaller net work output per unit mass in Example 8.2 dictates a greater mass flow rate of steam than in Example 8.1. The magnitude of the heat transfer to cooling water is also greater in Example 8.2 than in Example 8.1; consequently, a greater mass flow rate of cooling water is required."
   ]
  },
  {
   "cell_type": "markdown",
   "metadata": {},
   "source": [
    "## 2 The Abstraction of the Rankine Cycle 8.1，8.2\n",
    "\n",
    "* **List, Dict**：combination of objects(data) \n",
    "\n",
    "* **Function:**   abstraction of procedures\n",
    "\n",
    "The ideal rankine cycle:\n",
    "```\n",
    "   \n",
    "    ----Node 0---Turbine---Node 1----\n",
    "    |                               |\n",
    "  Boiler                          Condenser\n",
    "    |                               |\n",
    "    ----Node 3---Pump------Node 2---- \n",
    "```\n",
    "**States, Devices, Rankine Cycle**\n",
    "\n",
    "### 2.1 Nodes\n",
    "\n",
    "**List, Dict**：combination of objects(data) \n",
    "\n",
    "```python\n",
    "nodes = [{'NAME':None,'p':None,'t':None,'h':None,'s':None,'x':None},...]\n",
    "```\n",
    "**Function:**  abstraction of procedures\n",
    "\n",
    "* create the node objects from input data file"
   ]
  },
  {
   "cell_type": "markdown",
   "metadata": {},
   "source": [
    "#### 2.1.1  node data File"
   ]
  },
  {
   "cell_type": "code",
   "execution_count": 7,
   "metadata": {},
   "outputs": [
    {
     "name": "stdout",
     "output_type": "stream",
     "text": [
      "Overwriting ./rankine/rankine81-nds.csv\n"
     ]
    }
   ],
   "source": [
    "%%file ./rankine/rankine81-nds.csv\n",
    "NAME,NID,p,t,x\n",
    "MainSteam,0,8,,1\n",
    "OutletHP,1,0.008,,\n",
    "CondenserWater,2,0.008,,0\n",
    "MainFeedWater,3,8,,"
   ]
  },
  {
   "cell_type": "code",
   "execution_count": 8,
   "metadata": {},
   "outputs": [
    {
     "name": "stdout",
     "output_type": "stream",
     "text": [
      "Overwriting ./rankine/rankine82-nds.csv\n"
     ]
    }
   ],
   "source": [
    "%%file ./rankine/rankine82-nds.csv\n",
    "NAME,NID,p,t,x\n",
    "MainSteam,0,8,,1\n",
    "OutletHP,1,0.008,,\n",
    "CondenserWater,2,0.008,,0\n",
    "MainFeedWater,3,8,,"
   ]
  },
  {
   "cell_type": "markdown",
   "metadata": {},
   "source": [
    "#### 2.1.2  Creat the node objects "
   ]
  },
  {
   "cell_type": "code",
   "execution_count": 9,
   "metadata": {},
   "outputs": [],
   "source": [
    "import csv\n",
    "from seuif97 import *\n",
    "\n",
    "def read_nodesfile(filename):\n",
    "    \"\"\" nodes in the  csv file\"\"\"\n",
    "    \n",
    "    # readlines() to the end of file\n",
    "    countNodes = len(open(filename, 'r').readlines()) - 1\n",
    "    nodes = [{'NAME':None,'p':None,'t':None,'h':None,'s':None,'x':None} for i in range(countNodes)]\n",
    "\n",
    "    #  re-open the file to its head \n",
    "    csvfile = open(filename, 'r')\n",
    "    reader = csv.DictReader(csvfile)\n",
    "    for line in reader:\n",
    "        i = int(line['NID'])\n",
    "        nodes[i]['NAME'] = line['NAME']\n",
    "        try:\n",
    "            nodes[i]['p'] = float(line['p'])\n",
    "        except:\n",
    "            nodes[i]['p'] = None\n",
    "        try:\n",
    "            nodes[i]['t'] = float(line['t'])\n",
    "        except:\n",
    "            pass\n",
    "        try:\n",
    "            nodes[i]['x'] = float(line['x'])\n",
    "        except:\n",
    "            pass\n",
    "        \n",
    "        if line['p'] != '' and line['t'] != '':\n",
    "            nodes[i]['h'] = pt2h(nodes[i]['p'], nodes[i]['t'])\n",
    "            nodes[i]['s'] = pt2s(nodes[i]['p'], nodes[i]['t'])\n",
    "            nodes[i]['x'] = pt2x(nodes[i]['p'], nodes[i]['t'])\n",
    "        elif line['p'] != '' and line['x'] != '':\n",
    "            nodes[i]['t'] = px2t(nodes[i]['p'], nodes[i]['x'])\n",
    "            nodes[i]['h'] = px2h(nodes[i]['p'], nodes[i]['x'])\n",
    "            nodes[i]['s'] = px2s(nodes[i]['p'], nodes[i]['x'])\n",
    "        elif line['t'] != '' and line['x'] != '':\n",
    "            nodes[i]['p'] = tx2p(nodes[i]['t'], nodes[i]['x'])\n",
    "            nodes[i]['h'] = tx2h(nodes[i]['t'], nodes[i]['x'])\n",
    "            nodes[i]['s'] = tx2s(nodes[i]['t'], nodes[i]['x'])\n",
    "    csvfile.close()\n",
    "    return nodes"
   ]
  },
  {
   "cell_type": "markdown",
   "metadata": {},
   "source": [
    "#####  pprint — Data pretty printer https://docs.python.org/3/library/pprint.html"
   ]
  },
  {
   "cell_type": "code",
   "execution_count": 10,
   "metadata": {},
   "outputs": [
    {
     "name": "stdout",
     "output_type": "stream",
     "text": [
      "\n",
      "\n",
      "[   {   'NAME': 'MainSteam',\n",
      "        'h': 2758.611080680434,\n",
      "        'p': 8.0,\n",
      "        's': 5.744848808940075,\n",
      "        't': 295.00912125631703,\n",
      "        'x': 1.0},\n",
      "    {   'NAME': 'OutletHP',\n",
      "        'h': None,\n",
      "        'p': 0.008,\n",
      "        's': None,\n",
      "        't': None,\n",
      "        'x': None},\n",
      "    {   'NAME': 'CondenserWater',\n",
      "        'h': 173.8517685972624,\n",
      "        'p': 0.008,\n",
      "        's': 0.592531583591964,\n",
      "        't': 41.51005270424139,\n",
      "        'x': 0.0},\n",
      "    {   'NAME': 'MainFeedWater',\n",
      "        'h': None,\n",
      "        'p': 8.0,\n",
      "        's': None,\n",
      "        't': None,\n",
      "        'x': None}]\n",
      "\n",
      "\n",
      "[   {   'NAME': 'MainSteam',\n",
      "        'h': 2758.611080680434,\n",
      "        'p': 8.0,\n",
      "        's': 5.744848808940075,\n",
      "        't': 295.00912125631703,\n",
      "        'x': 1.0},\n",
      "    {   'NAME': 'OutletHP',\n",
      "        'h': None,\n",
      "        'p': 0.008,\n",
      "        's': None,\n",
      "        't': None,\n",
      "        'x': None},\n",
      "    {   'NAME': 'CondenserWater',\n",
      "        'h': 173.8517685972624,\n",
      "        'p': 0.008,\n",
      "        's': 0.592531583591964,\n",
      "        't': 41.51005270424139,\n",
      "        'x': 0.0},\n",
      "    {   'NAME': 'MainFeedWater',\n",
      "        'h': None,\n",
      "        'p': 8.0,\n",
      "        's': None,\n",
      "        't': None,\n",
      "        'x': None}]\n"
     ]
    }
   ],
   "source": [
    "import pprint\n",
    "\n",
    "nds_filenames =['./rankine/rankine81-nds.csv',\n",
    "                './rankine/rankine82-nds.csv']\n",
    "\n",
    "Nodes=[]\n",
    "for ndsfile in nds_filenames:\n",
    "    CurNodes=[]\n",
    "    CurNodes=read_nodesfile(ndsfile)\n",
    "    Nodes.append(CurNodes)\n",
    "    \n",
    "pp = pprint.PrettyPrinter(indent=4)\n",
    "for node in Nodes:\n",
    "    print(\"\\n\")\n",
    "    #print(node)\n",
    "    pp.pprint(node)"
   ]
  },
  {
   "cell_type": "markdown",
   "metadata": {},
   "source": [
    "### 2.2 Devices\n",
    "\n",
    "**List, Dict**：combination of objects(data) \n",
    "\n",
    "\n",
    "```python\n",
    "Devices=[{\"devicename1\":{}},{\"devicename2\":{},...]\n",
    "\n",
    "compdict = {\n",
    "    \"BOILER\": {'minID': None, 'moutID': None, 'qindot': None, \"energy\": \"Qin\", \"fun\": CalBoiler},\n",
    "    \"TURBINE-EX0\": {'minID': None, 'moutID': None, 'eta': None, 'wdot': None, \"energy\": \"Wout\", \"fun\": CalTurbine},\n",
    "    \"PUMP\": {'minID': None, 'moutID': None, 'eta': None, 'wdot': None, \"energy\": \"Win\", \"fun\": CalPump},\n",
    "    \"CONDENSER\": {'minID': None, 'moutID': None, 'qoutdot': None, \"energy\": \"Qout\", \"fun\": CalCondenser}\n",
    "}\n",
    "\n",
    "{\"energy\": \"Qin\", \"fun\": CalBoiler}\n",
    "```\n",
    "**Function:** abstraction of procedures\n",
    "\n",
    "* Create the device objects from input data file\n",
    "\n",
    "* Analysis thermodynamic process of each device\n",
    "\n",
    "\n",
    "#### 2.2.1 The Devices  Text Data File(csv)"
   ]
  },
  {
   "cell_type": "code",
   "execution_count": 11,
   "metadata": {},
   "outputs": [
    {
     "name": "stdout",
     "output_type": "stream",
     "text": [
      "Overwriting ./rankine/rankine81-des.csv\n"
     ]
    }
   ],
   "source": [
    "%%file ./rankine/rankine81-des.csv\n",
    "NAME,TYPE,eta,minID,moutID\n",
    "Turbine,TURBINE-EX0,1.0,0,1\n",
    "Condenser,CONDENSER,,1,2\n",
    "Feedwater Pump,PUMP,1.0,2,3\n",
    "Boiler,BOILER,,3,0"
   ]
  },
  {
   "cell_type": "code",
   "execution_count": 12,
   "metadata": {},
   "outputs": [
    {
     "name": "stdout",
     "output_type": "stream",
     "text": [
      "Overwriting ./rankine/rankine82-des.csv\n"
     ]
    }
   ],
   "source": [
    "%%file ./rankine/rankine82-des.csv\n",
    "NAME,TYPE,eta,minID,moutID\n",
    "Turbine,TURBINE-EX0,0.85,0,1\n",
    "Condenser,CONDENSER,,1,2\n",
    "Feedwater Pump,PUMP,0.85,2,3\n",
    "Boiler,BOILER,,3,0"
   ]
  },
  {
   "cell_type": "markdown",
   "metadata": {},
   "source": [
    "#### 2.2.2  Thermodynamic Process\n",
    "\n",
    "Analysis thermodynamic process of each devices\n"
   ]
  },
  {
   "cell_type": "code",
   "execution_count": 13,
   "metadata": {},
   "outputs": [],
   "source": [
    "def CalTurbine(Turbine, Nodes):\n",
    "    \"\"\"Turbine\"\"\"\n",
    "    iID = Turbine['minID']\n",
    "    oID = Turbine['moutID']\n",
    "    # 1 Nodes[oID]\n",
    "    sout_s = Nodes[iID]['s']\n",
    "    hout_s = ps2h(Nodes[oID]['p'], sout_s)\n",
    "    Nodes[oID]['h'] = Nodes[iID]['h'] - Turbine['eta']*(Nodes[iID]['h']-hout_s)\n",
    "    Nodes[oID]['t'] = ph2t(Nodes[oID]['p'], Nodes[oID]['h'])\n",
    "    Nodes[oID]['s'] = ph2s(Nodes[oID]['p'], Nodes[oID]['h'])\n",
    "    Nodes[oID]['x'] = ph2x(Nodes[oID]['p'], Nodes[oID]['h'])\n",
    "    # 2 Energy\n",
    "    Turbine['wdot'] = Nodes[iID]['h'] - Nodes[oID]['h']\n",
    "\n",
    "\n",
    "def CalPump(Pump, Nodes):\n",
    "    \"\"\"Pump\"\"\"\n",
    "    iID = Pump['minID']\n",
    "    oID = Pump['moutID']\n",
    "    # 1 Nodes[oID] \n",
    "    sout_s = Nodes[iID]['s']\n",
    "    hout_s = ps2h(Nodes[oID]['p'], sout_s)\n",
    "    Nodes[oID]['h'] = Nodes[iID]['h']+(hout_s - Nodes[iID]['h'])/Pump['eta']\n",
    "    Nodes[oID]['t'] = ph2t(Nodes[oID]['p'], Nodes[oID]['h'])\n",
    "    Nodes[oID]['s'] = ph2s(Nodes[oID]['p'], Nodes[oID]['h'])\n",
    "    Nodes[oID]['x'] = ph2x(Nodes[oID]['p'], Nodes[oID]['h'])\n",
    "    # 2 Energy\n",
    "    Pump['wdot'] = Nodes[oID]['h'] - Nodes[iID]['h']\n",
    "\n",
    "def CalBoiler(Boiler, Nodes):\n",
    "    \"\"\"Boiler\"\"\"\n",
    "    iID = Boiler['minID']\n",
    "    oID = Boiler['moutID']\n",
    "    # 2 Energy\n",
    "    Boiler['qindot'] = Nodes[oID]['h']-Nodes[iID]['h']\n",
    "\n",
    "def CalCondenser(Condenser, Nodes):\n",
    "    \"\"\"Condenser\"\"\"\n",
    "    iID = Condenser['minID']\n",
    "    oID = Condenser['moutID']\n",
    "    # 2 Energy\n",
    "    Condenser['qoutdot'] = Nodes[iID]['h']-Nodes[oID]['h']    \n",
    "    \n",
    "def CalDevices(Devices, Nodes):\n",
    "    keys = list(Devices.keys())\n",
    "    devCounts=len(keys)\n",
    "    i=0\n",
    "    while len(keys) != 0 and i<(devCounts+1):\n",
    "        i+=1\n",
    "        for dev in keys:\n",
    "            try:\n",
    "                Devices[dev][\"fun\"](Devices[dev], Nodes)\n",
    "                keys.remove(dev)\n",
    "            except:\n",
    "                pass   "
   ]
  },
  {
   "cell_type": "markdown",
   "metadata": {},
   "source": [
    "##### The pass Statement\n",
    "\n",
    "https://docs.python.org/3/reference/simple_stmts.html#the-pass-statement\n",
    "\n",
    "`pass` is a null operation — when it is executed, `nothing happens`. \n",
    "\n",
    "It is useful as a `placeholder` when a statement is required `syntactically`, but no code needs to be executed:\n",
    "\n",
    "\n"
   ]
  },
  {
   "cell_type": "markdown",
   "metadata": {},
   "source": [
    "#### 2.2.3  Create the deviced objects\n",
    "\n",
    "Create the device objects from input data file\n",
    "\n",
    "#####  copy.deepcopy()\n",
    "\n",
    "dict is mutable\n",
    "\n",
    "A `deep copy` constructs a new **compound** object and then, recursively, inserts copies into it of the objects found in the original.\n",
    "\n",
    "```python\n",
    "temp=copy.deepcopy(compdict)\n",
    "```\n",
    "The next codes change the `temp`  of `compdict`'s deepcopy without changing the `compdict`.\n",
    "\n",
    "```python\n",
    "curdev = temp[row['TYPE']]\n",
    "curdev['minID'] = int(row['minID'])\n",
    "...\n",
    "```\n",
    "* Assignment statements in Python do not copy objects, they create bindings between a target and an object.\n"
   ]
  },
  {
   "cell_type": "code",
   "execution_count": 14,
   "metadata": {},
   "outputs": [],
   "source": [
    "import csv\n",
    "import copy\n",
    "\n",
    "compdict = {\n",
    "    \"BOILER\": {'minID': None, 'moutID': None, 'qindot': None, \"energy\": \"Qin\", \"fun\": CalBoiler},\n",
    "    \"TURBINE-EX0\": {'minID': None, 'moutID': None, 'eta': None, 'wdot': None, \"energy\": \"Wout\", \"fun\": CalTurbine},\n",
    "    \"PUMP\": {'minID': None, 'moutID': None, 'eta': None, 'wdot': None, \"energy\": \"Win\", \"fun\": CalPump},\n",
    "    \"CONDENSER\": {'minID': None, 'moutID': None, 'qoutdot': None, \"energy\": \"Qout\", \"fun\": CalCondenser}\n",
    "}\n",
    "\n",
    "def read_DevicesFile(filename):\n",
    "    \"\"\" devices in the  csv file\"\"\"\n",
    "    csvfile = open(filename, 'r')\n",
    "    reader = csv.DictReader(csvfile)\n",
    "\n",
    "    devices = {}\n",
    "    temp=copy.deepcopy(compdict)\n",
    "    for row in reader:\n",
    "        curdev = temp[row['TYPE']]\n",
    "        curdev['minID'] = int(row['minID'])\n",
    "        curdev['moutID'] = int(row['moutID'])\n",
    "        try:\n",
    "            curdev['eta'] = float(row['eta'])\n",
    "        except:\n",
    "            pass\n",
    "        \n",
    "        devices[row['NAME']] = curdev\n",
    "        \n",
    "    csvfile.close()     \n",
    "    return devices"
   ]
  },
  {
   "cell_type": "code",
   "execution_count": 15,
   "metadata": {},
   "outputs": [
    {
     "name": "stdout",
     "output_type": "stream",
     "text": [
      "\n",
      "\n",
      "{   'Boiler': {   'energy': 'Qin',\n",
      "                  'fun': <function CalBoiler at 0x0000019DEC59E598>,\n",
      "                  'minID': 3,\n",
      "                  'moutID': 0,\n",
      "                  'qindot': None},\n",
      "    'Condenser': {   'energy': 'Qout',\n",
      "                     'fun': <function CalCondenser at 0x0000019DEC59E510>,\n",
      "                     'minID': 1,\n",
      "                     'moutID': 2,\n",
      "                     'qoutdot': None},\n",
      "    'Feedwater Pump': {   'energy': 'Win',\n",
      "                          'eta': 1.0,\n",
      "                          'fun': <function CalPump at 0x0000019DEC59EC80>,\n",
      "                          'minID': 2,\n",
      "                          'moutID': 3,\n",
      "                          'wdot': None},\n",
      "    'Turbine': {   'energy': 'Wout',\n",
      "                   'eta': 1.0,\n",
      "                   'fun': <function CalTurbine at 0x0000019DEC59E0D0>,\n",
      "                   'minID': 0,\n",
      "                   'moutID': 1,\n",
      "                   'wdot': None}}\n",
      "\n",
      "\n",
      "{   'Boiler': {   'energy': 'Qin',\n",
      "                  'fun': <function CalBoiler at 0x0000019DEC59E598>,\n",
      "                  'minID': 3,\n",
      "                  'moutID': 0,\n",
      "                  'qindot': None},\n",
      "    'Condenser': {   'energy': 'Qout',\n",
      "                     'fun': <function CalCondenser at 0x0000019DEC59E510>,\n",
      "                     'minID': 1,\n",
      "                     'moutID': 2,\n",
      "                     'qoutdot': None},\n",
      "    'Feedwater Pump': {   'energy': 'Win',\n",
      "                          'eta': 0.85,\n",
      "                          'fun': <function CalPump at 0x0000019DEC59EC80>,\n",
      "                          'minID': 2,\n",
      "                          'moutID': 3,\n",
      "                          'wdot': None},\n",
      "    'Turbine': {   'energy': 'Wout',\n",
      "                   'eta': 0.85,\n",
      "                   'fun': <function CalTurbine at 0x0000019DEC59E0D0>,\n",
      "                   'minID': 0,\n",
      "                   'moutID': 1,\n",
      "                   'wdot': None}}\n"
     ]
    }
   ],
   "source": [
    "import pprint\n",
    "\n",
    "des_filenames = ['./rankine/rankine81-des.csv','./rankine/rankine82-des.csv']\n",
    "\n",
    "pp = pprint.PrettyPrinter(indent=4)\n",
    "\n",
    "Devices=[]\n",
    "for des in des_filenames:\n",
    "    # 2 devices\n",
    "    curdevices=read_DevicesFile(des)\n",
    "    Devices.append(curdevices)\n",
    "\n",
    "for curdev in Devices:\n",
    "    print(\"\\n\")\n",
    "    pp.pprint(curdev)"
   ]
  },
  {
   "cell_type": "markdown",
   "metadata": {},
   "source": [
    "### 2.3  Creat node and devices object"
   ]
  },
  {
   "cell_type": "code",
   "execution_count": 16,
   "metadata": {},
   "outputs": [
    {
     "name": "stdout",
     "output_type": "stream",
     "text": [
      "\n",
      "\n",
      "[   {   'NAME': 'MainSteam',\n",
      "        'h': 2758.611080680434,\n",
      "        'p': 8.0,\n",
      "        's': 5.744848808940075,\n",
      "        't': 295.00912125631703,\n",
      "        'x': 1.0},\n",
      "    {   'NAME': 'OutletHP',\n",
      "        'h': 1795.0770367371815,\n",
      "        'p': 0.008,\n",
      "        's': 5.744848808940072,\n",
      "        't': 41.51005270424139,\n",
      "        'x': 0.6748393810242206},\n",
      "    {   'NAME': 'CondenserWater',\n",
      "        'h': 173.8517685972624,\n",
      "        'p': 0.008,\n",
      "        's': 0.592531583591964,\n",
      "        't': 41.51005270424139,\n",
      "        'x': 0.0},\n",
      "    {   'NAME': 'MainFeedWater',\n",
      "        'h': 181.89778626716353,\n",
      "        'p': 8.0,\n",
      "        's': 0.5925315835919659,\n",
      "        't': 41.75196883675659,\n",
      "        'x': 0.0}]\n",
      "\n",
      "\n",
      "[   {   'NAME': 'MainSteam',\n",
      "        'h': 2758.611080680434,\n",
      "        'p': 8.0,\n",
      "        's': 5.744848808940075,\n",
      "        't': 295.00912125631703,\n",
      "        'x': 1.0},\n",
      "    {   'NAME': 'OutletHP',\n",
      "        'h': 1939.6071433286693,\n",
      "        'p': 0.008,\n",
      "        's': 6.204171132868007,\n",
      "        't': 41.51005270424139,\n",
      "        'x': 0.7350004268630066},\n",
      "    {   'NAME': 'CondenserWater',\n",
      "        'h': 173.8517685972624,\n",
      "        'p': 0.008,\n",
      "        's': 0.592531583591964,\n",
      "        't': 41.51005270424139,\n",
      "        'x': 0.0},\n",
      "    {   'NAME': 'MainFeedWater',\n",
      "        'h': 183.31767173832256,\n",
      "        'p': 8.0,\n",
      "        's': 0.5970381178051598,\n",
      "        't': 42.093300748692855,\n",
      "        'x': 0.0}]\n",
      "\n",
      "\n",
      "{   'Boiler': {   'energy': 'Qin',\n",
      "                  'fun': <function CalBoiler at 0x0000019DEC59E598>,\n",
      "                  'minID': 3,\n",
      "                  'moutID': 0,\n",
      "                  'qindot': 2576.7132944132704},\n",
      "    'Condenser': {   'energy': 'Qout',\n",
      "                     'fun': <function CalCondenser at 0x0000019DEC59E510>,\n",
      "                     'minID': 1,\n",
      "                     'moutID': 2,\n",
      "                     'qoutdot': 1621.225268139919},\n",
      "    'Feedwater Pump': {   'energy': 'Win',\n",
      "                          'eta': 1.0,\n",
      "                          'fun': <function CalPump at 0x0000019DEC59EC80>,\n",
      "                          'minID': 2,\n",
      "                          'moutID': 3,\n",
      "                          'wdot': 8.046017669901119},\n",
      "    'Turbine': {   'energy': 'Wout',\n",
      "                   'eta': 1.0,\n",
      "                   'fun': <function CalTurbine at 0x0000019DEC59E0D0>,\n",
      "                   'minID': 0,\n",
      "                   'moutID': 1,\n",
      "                   'wdot': 963.5340439432525}}\n",
      "\n",
      "\n",
      "{   'Boiler': {   'energy': 'Qin',\n",
      "                  'fun': <function CalBoiler at 0x0000019DEC59E598>,\n",
      "                  'minID': 3,\n",
      "                  'moutID': 0,\n",
      "                  'qindot': 2575.2934089421115},\n",
      "    'Condenser': {   'energy': 'Qout',\n",
      "                     'fun': <function CalCondenser at 0x0000019DEC59E510>,\n",
      "                     'minID': 1,\n",
      "                     'moutID': 2,\n",
      "                     'qoutdot': 1765.7553747314068},\n",
      "    'Feedwater Pump': {   'energy': 'Win',\n",
      "                          'eta': 0.85,\n",
      "                          'fun': <function CalPump at 0x0000019DEC59EC80>,\n",
      "                          'minID': 2,\n",
      "                          'moutID': 3,\n",
      "                          'wdot': 9.465903141060153},\n",
      "    'Turbine': {   'energy': 'Wout',\n",
      "                   'eta': 0.85,\n",
      "                   'fun': <function CalTurbine at 0x0000019DEC59E0D0>,\n",
      "                   'minID': 0,\n",
      "                   'moutID': 1,\n",
      "                   'wdot': 819.0039373517648}}\n"
     ]
    }
   ],
   "source": [
    "import pprint\n",
    "\n",
    "nds_filenames = ['./rankine/rankine81-nds.csv','./rankine/rankine82-nds.csv']\n",
    "des_filenames = ['./rankine/rankine81-des.csv','./rankine/rankine82-des.csv']\n",
    "\n",
    "Nodes=[]\n",
    "Devices=[]\n",
    "for i in range(len(nds_filenames)):\n",
    "    # 1 nodes\n",
    "    CurNodes=[]\n",
    "    CurNodes=read_nodesfile(nds_filenames[i])\n",
    "    Nodes.append(CurNodes)\n",
    "    \n",
    "for i in range(len(des_filenames)):\n",
    "    # 2 devices\n",
    "    CurDevices=read_DevicesFile(des_filenames[i])\n",
    "    CalDevices(CurDevices,Nodes[i])\n",
    "    Devices.append(CurDevices)\n",
    "\n",
    "for node in Nodes:\n",
    "    print(\"\\n\")\n",
    "    #print(node)\n",
    "    pp.pprint(node)\n",
    "\n",
    "pp = pprint.PrettyPrinter(indent=4)\n",
    "for curdevices in Devices:\n",
    "     print(\"\\n\")\n",
    "    #print(node)\n",
    "     pp.pprint(curdevices)"
   ]
  },
  {
   "cell_type": "markdown",
   "metadata": {},
   "source": [
    "### 2.4 Analysis Rankine Cycle\n",
    "\n",
    "**Dict**：combination of objects(data) \n",
    "```python\n",
    "Cycle={'eta':None,...}\n",
    "```\n",
    "**Function:**  abstraction of procedures\n",
    "\n",
    "```python\n",
    "def CalCycle(Devices, Cycle)\n",
    "```"
   ]
  },
  {
   "cell_type": "code",
   "execution_count": 17,
   "metadata": {},
   "outputs": [],
   "source": [
    "def CalCycle(Devices, Cycle):\n",
    "    totalWin = 0\n",
    "    totalWout = 0\n",
    "    totalQin = 0\n",
    "    for dev in Devices.values():\n",
    "        if (dev[\"energy\"] == \"Qin\"):\n",
    "            totalQin += dev[\"qindot\"]\n",
    "        if (dev[\"energy\"] == \"Wout\"):\n",
    "            totalWout += dev['wdot']\n",
    "        if (dev[\"energy\"] == \"Win\"):\n",
    "            totalWin += dev['wdot']\n",
    "\n",
    "    # performance\n",
    "    Cycle['eta'] = (totalWout - totalWin) / totalQin\n",
    "    Cycle['HeatRate'] = 3600.0 /  Cycle['eta'] \n",
    "    Cycle['SteamRate'] =  Cycle['HeatRate'] / totalQin   \n",
    "    Cycle['mdot'] = (Cycle['Wdot']*10**3*3600)/(totalWout - totalWin)      \n",
    "    Cycle['Win']= Cycle['mdot']*totalWin/(1000.0 * 3600.0)\n",
    "    Cycle['Wout']=Cycle['mdot']*totalWout/(1000.0 * 3600.0)\n",
    "    Cycle['Qin']=Cycle['mdot']*totalQin /(1000.0 * 3600.0)\n",
    "   "
   ]
  },
  {
   "cell_type": "markdown",
   "metadata": {},
   "source": [
    "### 2.5 The Simulation of Rankine Cycles\n"
   ]
  },
  {
   "cell_type": "markdown",
   "metadata": {},
   "source": [
    "#### 2.5.1  output file"
   ]
  },
  {
   "cell_type": "code",
   "execution_count": 18,
   "metadata": {},
   "outputs": [],
   "source": [
    "def OutFiles(Nodes, Cycle, outfilename=None):\n",
    "    savedStdout = sys.stdout\n",
    "    if (outfilename != None):\n",
    "        datafile = open(outfilename, 'w', encoding='utf-8')\n",
    "        sys.stdout = datafile\n",
    "\n",
    "    # output the Cycle Performance\n",
    "    print('\\n-------------------------')\n",
    "    print('Net Power is %.3f' % Cycle['Wdot'], 'MW.')\n",
    "    print('Mass flow rate is %.3f' % Cycle['mdot'], 'kg/h.')\n",
    "    print('The thermal efficiency is %.3f' % (Cycle['eta']*100), '%')\n",
    "    print('Heat Rate is %.3f' % Cycle['HeatRate'], 'kJ/kWh.')\n",
    "    print('Steam Rate is %.3f' % Cycle['SteamRate'], 'kg/kWh')\n",
    "    print('totalWExtracted is  %.3f' % Cycle['Wout'], 'MW.')\n",
    "    print('totalWRequired is  %.3f' % Cycle['Win'], 'MW.')\n",
    "    print('totalQadded is  %.3f' % Cycle['Qin'], 'MW.')\n",
    "\n",
    "    # output nodes\n",
    "    print('\\n{:10}\\t {:^6}\\t {:^7}  {:^7}  {:^7}  {:^7} {:^7}'.format(\n",
    "        \"NAME\", \"Node\", \"P(MPa)\", \"T(°C)\", \"H(kJ/kg)\", \"S(kJ/kg.K)\", \"X\"))\n",
    "    i = 0\n",
    "    for node in Nodes:\n",
    "        print('{:10}\\t {:^6d}\\t {:>5.3f} {:>9.2f} {:>10.2f} {:>9.3f} {:>9.3f}'.format(\n",
    "            node['NAME'], i, node['p'],  node['t'],  node['h'],  node['s'], node['x']))\n",
    "        i += 1\n",
    "        \n",
    "    if (outfilename != None):\n",
    "        datafile.close()\n",
    "        sys.stdout = savedStdout"
   ]
  },
  {
   "cell_type": "markdown",
   "metadata": {},
   "source": [
    "#####  Redirect `stdout` to a file\n",
    "\n",
    "29.1. sys — System-specific parameters and functions\n",
    "\n",
    "https://docs.python.org/3/library/sys.html\n",
    "\n",
    "This module provides access to some variables used or maintained by the **interpreter** and to functions that interact strongly with the interpreter. It is always available.\n",
    "\n",
    "File objects used by the interpreter for **standard input, output and errors**:\n",
    "\n",
    "* sys.stdin ： is used for all interactive input (including calls to input());\n",
    "\n",
    "* `sys.stdout` ：is used for the output of `print()` and expression statements and for the prompts of input();\n",
    "\n",
    "* sys.stderr：The interpreter’s own prompts and its error messages go to stderr.\n",
    "\n",
    "These `streams` are regular **text** files like those returned by the `open()` function. \n",
    "\n",
    "```python\n",
    "import sys\n",
    "sys.stdout = open('Redirect2file.txt', 'w')\n",
    "print('redirect sys.stdout to file')\n",
    "```"
   ]
  },
  {
   "cell_type": "code",
   "execution_count": 19,
   "metadata": {},
   "outputs": [],
   "source": [
    "# redirect sys.stdout to file.txt\n",
    "import sys\n",
    "savedStdout=sys.stdout\n",
    "\n",
    "# 1 start redirection to file\n",
    "sys.stdout = open('./rankine/Redirect2file.txt', 'w', encoding='utf-8')\n",
    "print('redirect sys.stdout to file')\n",
    "\n",
    "# 2 end redirection \n",
    "sys.stdout =savedStdout"
   ]
  },
  {
   "cell_type": "code",
   "execution_count": 20,
   "metadata": {},
   "outputs": [
    {
     "name": "stdout",
     "output_type": "stream",
     "text": [
      "sys.stdout\n"
     ]
    }
   ],
   "source": [
    "# sys.stdout\n",
    "print('sys.stdout')"
   ]
  },
  {
   "cell_type": "code",
   "execution_count": 21,
   "metadata": {},
   "outputs": [],
   "source": [
    "# %load ./rankine/Redirect2file.txt"
   ]
  },
  {
   "cell_type": "markdown",
   "metadata": {},
   "source": [
    "#### 2.5.2 Simulating the Rankine Cycles"
   ]
  },
  {
   "cell_type": "code",
   "execution_count": 22,
   "metadata": {},
   "outputs": [],
   "source": [
    "def RankineCycle(nds_filenames,des_filenames):\n",
    "    # 1 nodes\n",
    "    for i in range(len(nds_filenames)):\n",
    "        CurNodes=[]\n",
    "        CurNodes=read_nodesfile(nds_filenames[i])\n",
    "        Nodes.append(CurNodes)\n",
    "\n",
    "    # 2 devices\n",
    "    for i in range(len(des_filenames)):\n",
    "        CurDevices={}\n",
    "        CurDevices=read_DevicesFile(des_filenames[i])\n",
    "        CalDevices(CurDevices,Nodes[i])\n",
    "        Devices.append(CurDevices)\n",
    "\n",
    "    # 3 cycle\n",
    "    for i in range(len(des_filenames)):    \n",
    "        CurCycle = {'Wdot': 100.0}\n",
    "        CalCycle(Devices[i],   CurCycle)\n",
    "        Cycle.append(CurCycle)\n",
    "\n",
    "    # 4 output\n",
    "    for i in range(len(des_filenames)):    \n",
    "        cyclename = nds_filenames[i][0:nds_filenames[i].find('-')]\n",
    "        OutFiles(Nodes[i],Cycle[i])\n",
    "        OutFiles(Nodes[i], Cycle[i],cyclename +'-sp.txt')\n",
    "        "
   ]
  },
  {
   "cell_type": "code",
   "execution_count": 23,
   "metadata": {},
   "outputs": [
    {
     "name": "stdout",
     "output_type": "stream",
     "text": [
      "\n",
      "-------------------------\n",
      "Net Power is 100.000 MW.\n",
      "Mass flow rate is 376770.813 kg/h.\n",
      "The thermal efficiency is 37.082 %\n",
      "Heat Rate is 9708.304 kJ/kWh.\n",
      "Steam Rate is 3.768 kg/kWh\n",
      "totalWExtracted is  100.842 MW.\n",
      "totalWRequired is  0.842 MW.\n",
      "totalQadded is  269.675 MW.\n",
      "\n",
      "NAME      \t  Node \t P(MPa)    T(°C)   H(kJ/kg)  S(kJ/kg.K)    X   \n",
      "MainSteam \t   0   \t 8.000    295.01    2758.61     5.745     1.000\n",
      "OutletHP  \t   1   \t 0.008     41.51    1795.08     5.745     0.675\n",
      "CondenserWater\t   2   \t 0.008     41.51     173.85     0.593     0.000\n",
      "MainFeedWater\t   3   \t 8.000     41.75     181.90     0.593     0.000\n",
      "\n",
      "-------------------------\n",
      "Net Power is 100.000 MW.\n",
      "Mass flow rate is 444698.068 kg/h.\n",
      "The thermal efficiency is 31.435 %\n",
      "Heat Rate is 11452.280 kJ/kWh.\n",
      "Steam Rate is 4.447 kg/kWh\n",
      "totalWExtracted is  101.169 MW.\n",
      "totalWRequired is  1.169 MW.\n",
      "totalQadded is  318.119 MW.\n",
      "\n",
      "NAME      \t  Node \t P(MPa)    T(°C)   H(kJ/kg)  S(kJ/kg.K)    X   \n",
      "MainSteam \t   0   \t 8.000    295.01    2758.61     5.745     1.000\n",
      "OutletHP  \t   1   \t 0.008     41.51    1939.61     6.204     0.735\n",
      "CondenserWater\t   2   \t 0.008     41.51     173.85     0.593     0.000\n",
      "MainFeedWater\t   3   \t 8.000     42.09     183.32     0.597     0.000\n"
     ]
    }
   ],
   "source": [
    "import pprint\n",
    "import csv\n",
    "from seuif97 import *\n",
    "\n",
    "nds_filenames = ['./rankine/rankine81-nds.csv','./rankine/rankine82-nds.csv']\n",
    "des_filenames = ['./rankine/rankine81-des.csv','./rankine/rankine82-des.csv']\n",
    "\n",
    "Nodes=[]\n",
    "Devices=[]\n",
    "Cycle=[]\n",
    "RankineCycle(nds_filenames,des_filenames )"
   ]
  },
  {
   "cell_type": "code",
   "execution_count": 24,
   "metadata": {},
   "outputs": [
    {
     "name": "stdout",
     "output_type": "stream",
     "text": [
      " 驱动器 F 中的卷是 cmh\n",
      " 卷的序列号是 9C25-3306\n",
      "\n",
      " F:\\SEU\\SEE\\PySEE\\home\\notebook\\rankine 的目录\n",
      "\n",
      "2019/04/10  17:35               628 rankine81-sp.txt\n",
      "2019/04/10  17:35               629 rankine82-sp.txt\n",
      "               2 个文件          1,257 字节\n",
      "               0 个目录 104,305,291,264 可用字节\n"
     ]
    }
   ],
   "source": [
    "!dir .\\rankine\\rankine8*-sp.txt"
   ]
  },
  {
   "cell_type": "code",
   "execution_count": 25,
   "metadata": {},
   "outputs": [],
   "source": [
    "# %load ./rankine/rankine81-sp.txt"
   ]
  },
  {
   "cell_type": "markdown",
   "metadata": {},
   "source": [
    "## 3 Plot T-s Diagram\n",
    "\n",
    "### 3.1 The Simple T-s Diagram "
   ]
  },
  {
   "cell_type": "code",
   "execution_count": 26,
   "metadata": {},
   "outputs": [
    {
     "data": {
      "image/png": "[encoded data removed]",
      "text/plain": [
       "<Figure size 432x288 with 1 Axes>"
      ]
     },
     "metadata": {
      "needs_background": "light"
     },
     "output_type": "display_data"
    },
    {
     "data": {
      "image/png": "[encoded data removed]",
      "text/plain": [
       "<Figure size 432x288 with 1 Axes>"
      ]
     },
     "metadata": {
      "needs_background": "light"
     },
     "output_type": "display_data"
    }
   ],
   "source": [
    "%matplotlib inline\n",
    "\n",
    "import matplotlib.pyplot as plt\n",
    "import numpy as np\n",
    "\n",
    "def TSDiagram1(Nodes):\n",
    "    plt.figure()\n",
    "\n",
    "    # saturated vapor and liquid entropy lines \n",
    "    npt = np.linspace(10,647.096-273.15,200) # range of temperatures\n",
    "    svap = [s for s in [tx2s(t, 1) for t in npt]]\n",
    "    sliq = [s for s in [tx2s(t, 0) for t in npt]]\n",
    "    plt.plot(svap, npt, 'r-')\n",
    "    plt.plot(sliq, npt, 'b-')\n",
    "\n",
    "    t=[Nodes[i]['t'] for i in range(4)]\n",
    "    s=[Nodes[i]['s'] for i in range(4)]\n",
    "\n",
    "    # point 5 sat water\n",
    "    t.append(px2t(Nodes[0]['p'],0))\n",
    "    s.append(px2s(Nodes[0]['p'],0))\n",
    "   \n",
    "    # point 6  sat steam\n",
    "    if (Nodes[0]['t']>px2t(Nodes[0]['p'],1)):\n",
    "        t.append(px2t(Nodes[0]['p'], 1))\n",
    "        s.append(px2s(Nodes[0]['p'], 1))\n",
    "\n",
    "    t.append(Nodes[0]['t'])\n",
    "    s.append(Nodes[0]['s'])\n",
    "\n",
    "    #t=[t[0],t[1],t[2],t[3],t[4],t[0]] \n",
    "    #s=[s[0],s[1],s[2],s[3],s[4],s[0]]\n",
    "\n",
    "    plt.plot(s, t, 'g-')\n",
    "\n",
    "    tist=[t[1],t[1]]\n",
    "    sist=[s[1],px2s(Nodes[1]['p'],1)]\n",
    "    plt.plot(sist, tist, 'y-')\n",
    "\n",
    "\n",
    "    plt.xlabel('Entropy (kJ/(kg K)')\n",
    "    plt.ylabel('Temperature (°C)')\n",
    "    plt.grid()\n",
    "    plt.show()\n",
    "\n",
    "for node in Nodes:\n",
    "    TSDiagram1(node) "
   ]
  },
  {
   "cell_type": "markdown",
   "metadata": {},
   "source": [
    "### 3.2 The Pretty T-S Diagram with Chinese and annotate\n",
    "\n",
    "* set fonts\n",
    "  * Windows only for Chinese: FangSong or simfang\n",
    "\n",
    "* annotate"
   ]
  },
  {
   "cell_type": "code",
   "execution_count": 27,
   "metadata": {},
   "outputs": [
    {
     "data": {
      "image/png": "[encoded data removed]",
      "text/plain": [
       "<Figure size 720x360 with 1 Axes>"
      ]
     },
     "metadata": {
      "needs_background": "light"
     },
     "output_type": "display_data"
    },
    {
     "data": {
      "image/png": "[encoded data removed]",
      "text/plain": [
       "<Figure size 720x360 with 1 Axes>"
      ]
     },
     "metadata": {
      "needs_background": "light"
     },
     "output_type": "display_data"
    }
   ],
   "source": [
    "from seuif97 import *\n",
    "#from matplotlib.font_manager import *\n",
    "from matplotlib import rcParams  # figure Params\n",
    "import matplotlib.pyplot as plt\n",
    "import numpy as np\n",
    "\n",
    "\n",
    "def PlotTSDiagram(Nodes):\n",
    "\n",
    "    # set fonts, Windows only for Chinese: FangSong or simfang\n",
    "    rcParams['font.family'] = 'sans-serif'\n",
    "    rcParams['font.sans-serif'] = ['FangSong']  # Chinese-FangSong\n",
    "\n",
    "    rcParams['axes.unicode_minus'] = False\n",
    "\n",
    "    # plt.figure()\n",
    "    plt.figure(figsize=(10.0, 5.0))  # figsize :set figure size\n",
    "\n",
    "    # saturated vapor and liquid entropy lines\n",
    "    npt = np.linspace(10, 647.096-273.15, 200)  # range of temperatures\n",
    "    # saturated vapor tx2s(t, 1),x=1\n",
    "    svap = [s for s in [tx2s(t, 1) for t in npt]]\n",
    "    # saturated liquid tx2s(t, 0),x=0\n",
    "    sliq = [s for s in [tx2s(t, 0) for t in npt]]\n",
    "    plt.plot(svap, npt, 'r-')\n",
    "    plt.plot(sliq, npt, 'b-')\n",
    "\n",
    "    t = [Nodes[i]['t'] for i in range(4)]\n",
    "    s = [Nodes[i]['s'] for i in range(4)]\n",
    "\n",
    "    # Nodes[3]['t'] is slightly larger than Nodes[2]['t'] , \n",
    "    #   points Nodes[2] and Nodes[3] are almost overlap if drawing with real values\n",
    "    # so,adjust the value of Nodes[3]['t'] ,\n",
    "    #   using the virtual values to eliminate drawing overlap\n",
    "    t[3] = Nodes[3]['t']+8\n",
    "\n",
    "    # point 5 sat water\n",
    "    t.append(px2t(Nodes[0]['p'], 0))\n",
    "    s.append(px2s(Nodes[0]['p'], 0))\n",
    "    \n",
    "     # point 6  sat steam\n",
    "    if (Nodes[0]['t']>px2t(Nodes[0]['p'],1)):\n",
    "        t.append(px2t(Nodes[0]['p'], 1))\n",
    "        s.append(px2s(Nodes[0]['p'], 1))\n",
    "\n",
    "    t.append(Nodes[0]['t'])\n",
    "    s.append(Nodes[0]['s'])\n",
    "\n",
    "    plt.plot(s, t, 'go-')\n",
    "\n",
    "    plt.annotate('1 ({:.2f},{:.2f})'.format(s[0], t[0]),\n",
    "                 xy=(s[0], t[0]), xycoords='data',\n",
    "                 xytext=(+2, +5), textcoords='offset points', fontsize=12)\n",
    "\n",
    "    plt.annotate('2 ({:.2f},{:.2f})'.format(s[1], t[1]),\n",
    "                 xy=(s[1], t[1]), xycoords='data',\n",
    "                 xytext=(+2, +5), textcoords='offset points', fontsize=12)\n",
    "\n",
    "    plt.annotate('3 ({:.2f},{:.2f})'.format(s[2], t[2]),\n",
    "                 xy=(s[2], t[2]), xycoords='data',\n",
    "                 xytext=(+10, +5), textcoords='offset points', fontsize=12)\n",
    "\n",
    "    plt.annotate('4 ({:.2f},{:.2f})'.format(s[3], t[3]-8),\n",
    "                 xy=(s[3], t[3]), xycoords='data',\n",
    "                 xytext=(+10, +25), textcoords='offset points', fontsize=12)\n",
    "\n",
    "    plt.annotate('5 ({:.2f},{:.2f})'.format(s[4], t[4]),\n",
    "                 xy=(s[4], t[4]), xycoords='data',\n",
    "                 xytext=(-60, +5), textcoords='offset points', fontsize=12)\n",
    "\n",
    "    tist = [t[1], t[1]]\n",
    "    sist = [s[1], px2s(Nodes[1]['p'], 1)]\n",
    "    plt.plot(sist, tist, 'y-')\n",
    "\n",
    "    #plt.title('T-s: Ideal Rankine Cycle')\n",
    "    plt.title('T-s: The Rankine Cycle 朗肯循环')\n",
    "\n",
    "    plt.xlabel('Entropy(kJ/(kg.K)')\n",
    "    plt.ylabel('Temperature(°C)')\n",
    "    plt.grid()  # Show Grid\n",
    "    # The output of a matplotlib plot as an SVG\n",
    "    # plt.savefig(\"./img/rankine81-TS.svg\")\n",
    "    plt.show()\n",
    "\n",
    "\n",
    "for node in Nodes:\n",
    "    PlotTSDiagram(node) "
   ]
  },
  {
   "cell_type": "markdown",
   "metadata": {},
   "source": [
    "##### Matplotlib rcParams\n",
    "\n",
    "The `matplotlibrc` file: same parameters are read at startup to configure matplotlib \n",
    "\n",
    "Dynamic rc settings\n",
    "\n",
    "You can also dynamically change the default `rc` settings in a python script or interactively from the python shell. All of the `rc` settings are stored in a dictionary-like variable called `matplotlib.rcParams`, which is global to the matplotlib package. rcParams can be modified directly\n",
    "\n",
    "##### The matplotlibrc file\n",
    "\n",
    "```\n",
    "%load c:\\\\python37\\\\lib\\\\site-packages\\\\matplotlib\\\\mpl-data\\\\matplotlibrc\n",
    "```"
   ]
  },
  {
   "cell_type": "code",
   "execution_count": 28,
   "metadata": {},
   "outputs": [
    {
     "data": {
      "text/plain": [
       "'c:\\\\python37\\\\lib\\\\site-packages\\\\matplotlib\\\\mpl-data\\\\matplotlibrc'"
      ]
     },
     "execution_count": 28,
     "metadata": {},
     "output_type": "execute_result"
    }
   ],
   "source": [
    "import matplotlib\n",
    "matplotlib.matplotlib_fname() #获取matplotlibrc文件名"
   ]
  },
  {
   "cell_type": "markdown",
   "metadata": {},
   "source": [
    "##### Annotation\n",
    "\n",
    "https://matplotlib.org/users/annotations.html\n",
    "    \n",
    "The uses of the basic `text()` will place text at an arbitrary position on the Axes. A common use case of text is to annotate some feature of the plot, and the `annotate()` method provides helper functionality to make annotations easy. \n",
    "\n",
    "In an annotation, there are two points to consider: the `location` being annotated represented by the argument `xy` and the `location` of the text `xytext`. Both of these arguments are `(x,y)` tuples.   "
   ]
  },
  {
   "cell_type": "markdown",
   "metadata": {},
   "source": [
    "## 4 More Examples\n",
    "\n",
    "何雅玲. 工程热力学精要分析典型题解. P237-244,2008\n",
    "\n",
    "![HE-1016](./img/HE-1015.jpg)"
   ]
  },
  {
   "cell_type": "code",
   "execution_count": 29,
   "metadata": {},
   "outputs": [
    {
     "name": "stdout",
     "output_type": "stream",
     "text": [
      "Overwriting ./rankine/rankine1015-nds.csv\n"
     ]
    }
   ],
   "source": [
    "%%file ./rankine/rankine1015-nds.csv\n",
    "NAME,NID,p,t,x\n",
    "MainSteam,0,13.5,550,,\n",
    "OutletHP,1,0.004,,\n",
    "CondenserWater,2,0.004,,0\n",
    "MainFeedWater,3,13.5,,"
   ]
  },
  {
   "cell_type": "code",
   "execution_count": 30,
   "metadata": {},
   "outputs": [
    {
     "name": "stdout",
     "output_type": "stream",
     "text": [
      "Overwriting ./rankine/rankine1015-des.csv\n"
     ]
    }
   ],
   "source": [
    "%%file ./rankine/rankine1015-des.csv\n",
    "NAME,TYPE,eta,minID,moutID\n",
    "Turbine,TURBINE-EX0,1.0,0,1\n",
    "Condenser,CONDENSER,,1,2\n",
    "Feedwater Pump,PUMP,1.0,2,3\n",
    "Boiler,BOILER,,3,0"
   ]
  },
  {
   "cell_type": "code",
   "execution_count": 31,
   "metadata": {},
   "outputs": [
    {
     "name": "stdout",
     "output_type": "stream",
     "text": [
      "\n",
      "-------------------------\n",
      "Net Power is 100.000 MW.\n",
      "Mass flow rate is 245051.978 kg/h.\n",
      "The thermal efficiency is 44.099 %\n",
      "Heat Rate is 8163.385 kJ/kWh.\n",
      "Steam Rate is 2.451 kg/kWh\n",
      "totalWExtracted is  100.920 MW.\n",
      "totalWRequired is  0.920 MW.\n",
      "totalQadded is  226.761 MW.\n",
      "\n",
      "NAME      \t  Node \t P(MPa)    T(°C)   H(kJ/kg)  S(kJ/kg.K)    X   \n",
      "MainSteam \t   0   \t 13.500    550.00    3466.20     6.586     1.000\n",
      "OutletHP  \t   1   \t 0.004     28.96    1983.61     6.586     0.766\n",
      "CondenserWater\t   2   \t 0.004     28.96     121.40     0.422     0.000\n",
      "MainFeedWater\t   3   \t 13.500     29.26     134.92     0.422     0.000\n"
     ]
    },
    {
     "data": {
      "image/png": "[encoded data removed]",
      "text/plain": [
       "<Figure size 720x360 with 1 Axes>"
      ]
     },
     "metadata": {
      "needs_background": "light"
     },
     "output_type": "display_data"
    }
   ],
   "source": [
    "nds_filenames = ['./rankine/rankine1015-nds.csv']\n",
    "des_filenames = ['./rankine/rankine1015-des.csv']\n",
    "\n",
    "Nodes=[]\n",
    "Devices=[]\n",
    "Cycle=[]\n",
    "RankineCycle(nds_filenames,des_filenames)\n",
    "\n",
    "for node in Nodes:\n",
    "    PlotTSDiagram(node) "
   ]
  },
  {
   "cell_type": "code",
   "execution_count": null,
   "metadata": {},
   "outputs": [],
   "source": []
  }
 ],
 "metadata": {
  "kernelspec": {
   "display_name": "Python 3",
   "language": "python",
   "name": "python3"
  },
  "language_info": {
   "codemirror_mode": {
    "name": "ipython",
    "version": 3
   },
   "file_extension": ".py",
   "mimetype": "text/x-python",
   "name": "python",
   "nbconvert_exporter": "python",
   "pygments_lexer": "ipython3",
   "version": "3.7.2"
  },
  "toc": {
   "base_numbering": 1,
   "nav_menu": {},
   "number_sections": false,
   "sideBar": true,
   "skip_h1_title": false,
   "title_cell": "Table of Contents",
   "title_sidebar": "Contents",
   "toc_cell": false,
   "toc_position": {
    "height": "calc(100% - 180px)",
    "left": "10px",
    "top": "150px",
    "width": "295.91px"
   },
   "toc_section_display": true,
   "toc_window_display": true
  },
  "widgets": {
   "state": {},
   "version": "1.1.2"
  }
 },
 "nbformat": 4,
 "nbformat_minor": 1
}
