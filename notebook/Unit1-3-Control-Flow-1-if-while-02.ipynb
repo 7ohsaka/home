{
 "cells": [
  {
   "cell_type": "markdown",
   "metadata": {},
   "source": [
    "# Control Flow 1\n",
    "\n",
    "* if , while\n",
    "\n",
    "* Indentation\n",
    "\n",
    "In the programs we have seen till now, there has always been `a series of statements` faithfully executed by Python in `exact top-down order`.\n",
    "\n",
    "What if you wanted to change `the flow of how it works?` For example, you want the program to take some decisions and do different\n",
    "things depending on different situations, such as printing 'Good Morning' or 'Good Evening' depending on the time of the day?\n",
    "\n",
    "As you might have guessed, this is achieved using` control flow statements`. \n",
    "\n",
    "There are three control flow statements in Python - `if , for and while` ."
   ]
  },
  {
   "cell_type": "markdown",
   "metadata": {},
   "source": [
    "## 2.2 Branching Programs: `if`\n",
    "\n",
    "Branching programs are more interesting. The simplest branching statement is a conditional. As shown in the boxed-in part of the folloewing Figure 2.3, a conditional statement has three parts:\n",
    "\n",
    "* `a test`, i.e., an expression that evaluates to either True or False;\n",
    "\n",
    "* `a block of code` that is executed if the test evaluates to `True`; \n",
    "\n",
    "* `an optional block of code` that is executed if the test evaluates to `False`.\n",
    "\n",
    "![conditional statement](./img/conditionalstatement.jpg)\n",
    "\n",
    "After a conditional statement is executed, execution resumes at the code following the statement.\n",
    "\n",
    "In Python, a <b style=\"color:blue\">conditional statement</b> has the form\n",
    "```python\n",
    "if Boolean expression:\n",
    "    block of code\n",
    "else:\n",
    "    block of code\n",
    "```\n",
    "or \n",
    "\n",
    "```python\n",
    "if Boolean expression:\n",
    "   block of code\n",
    "```"
   ]
  },
  {
   "cell_type": "code",
   "execution_count": null,
   "metadata": {},
   "outputs": [],
   "source": [
    "x=12\n",
    "# the following program that prints “Even” if the value of the variable x is even \n",
    "# and “Odd” otherwise:\n",
    "if x % 2 == 0:\n",
    "    print('Even')\n",
    "    print(x)\n",
    "    print(x%2)\n",
    "else:\n",
    "    print('Odd')"
   ]
  },
  {
   "cell_type": "code",
   "execution_count": null,
   "metadata": {},
   "outputs": [],
   "source": [
    "x=12\n",
    "# the following program that prints “Even” if the value of the variable x is even \n",
    "# and “Odd” otherwise:\n",
    "if x % 2 == 0:\n",
    "    print('Even')\n",
    "print(x)\n",
    "    print(x%2)\n",
    "else:\n",
    "    print('Odd')"
   ]
  },
  {
   "cell_type": "markdown",
   "metadata": {},
   "source": [
    "## <b style=\"color:blue\">Indentation</b> is semantically meaningful in Python: <b style=\"color:blue\">delineate blocks of code</b>\n",
    "    \n",
    "Python is unusual in using <b style=\"color:blue\">indentation </b>this way.\n",
    "\n",
    "Most other programming languages use some sort of **bracketing symbols** to delineate blocks of code, e.g.,\n",
    "<b style=\"color:blue\">C encloses blocks in braces, { }</b>. \n",
    "\n",
    "An advantage of the Python approach is that it ensures that the **visual structure** of a program is an **accurate** representation of the semantic structure of that program.\n",
    "\n",
    "* **The example C++ code with GCC** http://nbviewer.jupyter.org/github/PySEE/home/blob/S2019/notebook/Unit8-2-GCC_DLL.ipynb"
   ]
  },
  {
   "cell_type": "code",
   "execution_count": null,
   "metadata": {},
   "outputs": [],
   "source": [
    "if(boolean_expression)\n",
    "{\n",
    "   // block of code\n",
    "}\n",
    "else\n",
    "{\n",
    "   block of code\n",
    "}"
   ]
  },
  {
   "cell_type": "code",
   "execution_count": null,
   "metadata": {},
   "outputs": [],
   "source": [
    "%%file ./code/gcc/cppdemo.cpp\n",
    "#include <iostream>\n",
    "using namespace std;\n",
    " \n",
    "int main()\n",
    "{\n",
    "   int x = 12;\n",
    "   if( x % 2==0 )\n",
    "   {\n",
    "       cout << \"Even\" <<endl; \n",
    "       cout <<x<<endl; \n",
    "       cout <<x%2<<endl; \n",
    "   }\n",
    "   else\n",
    "   { \n",
    "       cout << \"Odd\" << endl;\n",
    "   };\n",
    "   return 0;\n",
    "}"
   ]
  },
  {
   "cell_type": "markdown",
   "metadata": {},
   "source": [
    "The braces specify what statements are executed in the `if` case. It is considered good style to indent your code to agree with the brace structure, `but it is not required`. \n",
    "\n",
    "In addition, the `semicolons` are used to indicate the end of a statement, independent of the locations of the line breaks in the file. So, the following code fragment has the same meaning as the previous one, although it is `much harder to read and understand`. "
   ]
  },
  {
   "cell_type": "code",
   "execution_count": null,
   "metadata": {},
   "outputs": [],
   "source": [
    "%%file ./code/gcc/cppdemo.cpp\n",
    "#include <iostream>\n",
    "using namespace std;\n",
    " \n",
    "int main()\n",
    "{\n",
    "   int x = 12;\n",
    "   if( x % 2==0 )\n",
    "   {\n",
    "cout << \"Even\" <<endl; \n",
    "       cout <<x<<endl; \n",
    "    cout <<x%2<<endl; \n",
    "   }\n",
    "else\n",
    "   { \n",
    " cout << \"Odd\" << endl;\n",
    "   };\n",
    "   return 0;\n",
    "}"
   ]
  },
  {
   "cell_type": "code",
   "execution_count": null,
   "metadata": {},
   "outputs": [],
   "source": [
    "!g++ -o ./code/gcc/cppdemo ./code/gcc/cppdemo.cpp"
   ]
  },
  {
   "cell_type": "code",
   "execution_count": null,
   "metadata": {},
   "outputs": [],
   "source": [
    "!.\\code\\gcc\\cppdemo"
   ]
  },
  {
   "cell_type": "markdown",
   "metadata": {},
   "source": [
    "In Python, on the other hand, there are no braces for grouping or semicolons for termination. **Indentation indicates grouping** and **line breaks indicate statement termination**. So, in Python, we would write the previous example as "
   ]
  },
  {
   "cell_type": "code",
   "execution_count": null,
   "metadata": {},
   "outputs": [],
   "source": [
    "x=12\n",
    "# the following program that prints “Even” if the value of the variable x is even \n",
    "# and “Odd” otherwise:\n",
    "if x % 2 == 0:\n",
    "    print('Even')\n",
    "    print(x)\n",
    "    print(x%2)\n",
    "else:\n",
    "    print('Odd')"
   ]
  },
  {
   "cell_type": "code",
   "execution_count": null,
   "metadata": {},
   "outputs": [],
   "source": [
    "x=12\n",
    "# the following program that prints “Even” if the value of the variable x is even \n",
    "# and “Odd” otherwise:\n",
    "if x % 2 == 0:\n",
    "    print('Even')\n",
    "print(x)\n",
    "    print(x%2)\n",
    "else:\n",
    "    print('Odd')"
   ]
  },
  {
   "cell_type": "markdown",
   "metadata": {},
   "source": [
    "### Nested conditionals\n",
    "\n",
    "When either the true block or the false block of a conditional contains `another` conditional, the conditional statements are said to be **nested**. In the code below, there are nested conditionals in both branches of the top-level `if` statement"
   ]
  },
  {
   "cell_type": "code",
   "execution_count": null,
   "metadata": {},
   "outputs": [],
   "source": [
    "#x=2*3*7\n",
    "\n",
    "#x=2*7\n",
    "\n",
    "x=3*7\n",
    "\n",
    "# the conditional statements are nested.\n",
    "if x % 2 == 0:\n",
    "   \n",
    "    if x % 3 == 0:\n",
    "        print('Divisible by 2 and 3')\n",
    "    else:\n",
    "        print('Divisible by 2 and not by 3')\n",
    "        \n",
    "elif x % 3 == 0:    # elif : else  if\n",
    "    print('Divisible by 3 and not by 2')"
   ]
  },
  {
   "cell_type": "markdown",
   "metadata": {},
   "source": [
    "**NOTE:** The `elif` in the above code stands for  `else if`."
   ]
  },
  {
   "cell_type": "markdown",
   "metadata": {},
   "source": [
    "It is often convenient to use `a compound Boolean expression` in the test of a conditional, for example,"
   ]
  },
  {
   "cell_type": "code",
   "execution_count": null,
   "metadata": {},
   "outputs": [],
   "source": [
    "x=1\n",
    "y=10\n",
    "z=87\n",
    "if x < y and x < z:  # compound Boolean expressions \n",
    "    print('x is least')\n",
    "elif y < z:\n",
    "    print('y is least')\n",
    "else:\n",
    "    print('z is least')"
   ]
  },
  {
   "cell_type": "markdown",
   "metadata": {},
   "source": [
    "\n",
    "## 2.4 Iteration\n",
    "\n",
    "When we want a program to do the same thing many times, we can use iteration\n",
    "\n",
    "A generic iteration (also called looping) mechanism is shown in the boxed-in part of the following. \n",
    "\n",
    "![Iteration](./img/iteration.jpg)\n",
    "\n",
    "Like a conditional statement, it begins with a test. If the test evaluates to True, the program executes the loop body once, and then goes back to reevaluate the test. This process is repeated until the test evaluates to False, after which control passes to the code following the iteration statement.\n",
    "\n",
    "```python\n",
    "\n",
    "initial value  # ！！！\n",
    "while Boolean expression:\n",
    "      block of code\n",
    "```\n"
   ]
  },
  {
   "cell_type": "code",
   "execution_count": null,
   "metadata": {},
   "outputs": [],
   "source": [
    "# Square an integer, the hard way X**2\n",
    "x = 3  \n",
    "ans = 0   \n",
    "itersLeft = x      # initial value ：X\n",
    "\n",
    "while (itersLeft != 0):\n",
    "    ans = ans + x  # x**2  to repetitive +\n",
    "    itersLeft = itersLeft - 1  \n",
    "\n",
    "print(str(x) + '*' + str(x) + ' = ' + str(ans))"
   ]
  },
  {
   "cell_type": "markdown",
   "metadata": {},
   "source": [
    "It is sometimes convenient to exit a loop without testing the loop condition. Executing a `break` statement terminates the loop in which it is contained, and transfers control to the code immediately following the loop.\n",
    "\n",
    "For example, the code of `Find a positive integer that is divisible by both 11 and 12`\n"
   ]
  },
  {
   "cell_type": "code",
   "execution_count": null,
   "metadata": {},
   "outputs": [],
   "source": [
    "#Find a positive integer that is divisible by both 11 and 12\n",
    "x = 1\n",
    "while True:\n",
    "    if x%11 == 0 and x%12 == 0:\n",
    "        break\n",
    "    x = x + 1\n",
    "print(x, 'is divisible by 11 and 12')"
   ]
  },
  {
   "cell_type": "code",
   "execution_count": null,
   "metadata": {},
   "outputs": [],
   "source": []
  }
 ],
 "metadata": {
  "kernelspec": {
   "display_name": "Python 3",
   "language": "python",
   "name": "python3"
  },
  "language_info": {
   "codemirror_mode": {
    "name": "ipython",
    "version": 3
   },
   "file_extension": ".py",
   "mimetype": "text/x-python",
   "name": "python",
   "nbconvert_exporter": "python",
   "pygments_lexer": "ipython3",
   "version": "3.7.2"
  },
  "toc": {
   "base_numbering": 1,
   "nav_menu": {},
   "number_sections": false,
   "sideBar": false,
   "skip_h1_title": false,
   "title_cell": "Table of Contents",
   "title_sidebar": "Contents",
   "toc_cell": false,
   "toc_position": {},
   "toc_section_display": true,
   "toc_window_display": false
  }
 },
 "nbformat": 4,
 "nbformat_minor": 2
}
