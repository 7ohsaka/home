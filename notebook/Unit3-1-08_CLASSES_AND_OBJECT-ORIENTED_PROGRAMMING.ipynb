{
 "cells": [
  {
   "cell_type": "markdown",
   "metadata": {},
   "source": [
    "# 8 CLASSES AND OBJECT-ORIENTED PROGRAMMING"
   ]
  },
  {
   "cell_type": "markdown",
   "metadata": {},
   "source": [
    "\n",
    "We now turn our attention to our major topic related to programming in Python: **using `classes` to organize programs around modules and data abstractions** in the context of **object-oriented programming.**\n",
    "\n",
    "The key to <b>object-oriented programming</b> is thinking about <b>objects</b> as collections of both <b>data</b> and <b>the methods</b> that operate on that data.\n",
    "\n",
    "* objects: data + the method "
   ]
  },
  {
   "cell_type": "markdown",
   "metadata": {},
   "source": [
    "## 8.1 Abstract Data Types and Classes"
   ]
  },
  {
   "cell_type": "markdown",
   "metadata": {},
   "source": [
    "**Computational Thinking** \n",
    "\n",
    "Programming is about managing <b>complexity</b> in a way that <b>facilitates change</b>. There are two powerful mechanisms available for accomplishing this: `decomposition` and `abstraction`  \n",
    "\n",
    "Apply **abstraction** and **decomposition** to solve more complex problems\n",
    " \n",
    "* **decompose** a `large` problem into `parts` and design algorithms to solve them\n",
    "\n",
    "* recognise `similar` problems, and apply `generic` solutions and **abstractions**\n",
    "\n",
    "* creating **algorithms** to obtain the generic `solution`  results\n",
    "\n",
    "The set of problem-solving methods with computer is also called [Computational Thinking](https://en.wikipedia.org/wiki/Computational_thinking). \n",
    "\n",
    "Thinking computationally was a fundamental skill for everyone, not just computer scientists, and argued for the importance of integrating computational ideas into other disciplines.\n",
    "\n",
    "**Data Structures+Algorithms= Programs**\n",
    "\n",
    "What is programs?\n",
    "\n",
    "`Algorithms + Data Structures = Programs` is a 1976 book written by `Niklaus Wirth` covering some of the fundamental topics of computer programming, particularly that algorithms and data structures are inherently related. \n",
    "\n",
    "### 8.1.1 The Simple Class\n",
    "\n",
    "In Python, one implements **abstractions** using **class**.\n",
    "\n",
    "Let's write a `Circle` class contain: \n",
    "\n",
    "* a data attribute `radius`,`area`\n",
    "\n",
    "* a method `cal_area(`)\n",
    "\n",
    "**1 In C++**"
   ]
  },
  {
   "cell_type": "code",
   "execution_count": 36,
   "metadata": {},
   "outputs": [
    {
     "name": "stdout",
     "output_type": "stream",
     "text": [
      "Overwriting ./code/gcc/circle.cpp\n"
     ]
    }
   ],
   "source": [
    "%%file ./code/gcc/circle.cpp\n",
    "\n",
    "#include <iostream>\n",
    "#include <math.h>\n",
    "using namespace std;\n",
    "\n",
    "class TCircle\n",
    "// A Circle instance models a circle with a radius \n",
    "{\n",
    "  private:\n",
    "  \n",
    "  public: \n",
    "    float radius;\n",
    "    float area;\n",
    "    \n",
    "    TCircle(float fradius=1.0);\n",
    "    \n",
    "    void cal_area();\n",
    "};\n",
    "\n",
    "TCircle:: TCircle(float fradius)\n",
    "{\n",
    "    radius=fradius;   \n",
    "};\n",
    "\n",
    "void TCircle::cal_area()\n",
    "{\n",
    "    area=radius * radius * M_PI;\n",
    "};        \n",
    "\n",
    "int main() {\n",
    "   float radius=2.1;\n",
    "   float area;\n",
    "   TCircle c1(radius);\n",
    "   c1.cal_area(); \n",
    "   cout << \"The Circle: radius=\"<<c1.radius<<\"\\tarea=\"<<c1.area<<endl;\n",
    "   return 0;\n",
    "}"
   ]
  },
  {
   "cell_type": "code",
   "execution_count": 33,
   "metadata": {},
   "outputs": [],
   "source": [
    "!g++ -o circle ./code/gcc/circle.cpp"
   ]
  },
  {
   "cell_type": "code",
   "execution_count": 34,
   "metadata": {},
   "outputs": [
    {
     "name": "stdout",
     "output_type": "stream",
     "text": [
      "The Circle: radius=2.1\tarea=13.8544\n"
     ]
    }
   ],
   "source": [
    "!circle"
   ]
  },
  {
   "cell_type": "markdown",
   "metadata": {},
   "source": [
    "**2 In Python**"
   ]
  },
  {
   "cell_type": "code",
   "execution_count": null,
   "metadata": {},
   "outputs": [],
   "source": [
    "from math import pi\n",
    " \n",
    "class Circle:    # For Python 2 use: \"class Circle(object):\"\n",
    "    \"\"\"A Circle instance models a circle with a radius\"\"\"\n",
    " \n",
    "    def __init__(self, radius=1.0):\n",
    "        \"\"\"Initializer with default radius of 1.0\"\"\"\n",
    "        self.radius = radius  # Create an instance variable radius\n",
    "\n",
    "    def cal_area(self):\n",
    "        \"\"\"the area of this Circle instance\"\"\"\n",
    "        self.area=self.radius * self.radius * pi"
   ]
  },
  {
   "cell_type": "code",
   "execution_count": null,
   "metadata": {},
   "outputs": [],
   "source": [
    "radius=2.1\n",
    "c1=Circle(radius)\n",
    "c1.cal_area()\n",
    "c1.area"
   ]
  },
  {
   "cell_type": "markdown",
   "metadata": {},
   "source": [
    "A class definition \n",
    "\n",
    "* 1 Creates an `object` of `class` type  \n",
    "\n",
    "* 2 Creates class attributes: a set of `data` and `procedures` that belong to the class\n",
    "\n",
    "####  1  Create an `object` of `class` type \n",
    "use the `class` keyword to define a new type class:`Circle`\n",
    "\n",
    "*  a subclass of `object`\n",
    "\n",
    "```python\n",
    "class Circle: # For Python 2 use: \"class Circle(object):\"\n",
    "    \"\"\"A Circle instance models a circle with a radius\"\"\" \n",
    "```    "
   ]
  },
  {
   "cell_type": "code",
   "execution_count": null,
   "metadata": {},
   "outputs": [],
   "source": [
    "print(type(Circle))"
   ]
  },
  {
   "cell_type": "markdown",
   "metadata": {},
   "source": [
    "#### 2 Create class attributes\n",
    "\n",
    "An class contains attributes \n",
    "\n",
    "*  **data attributes**\n",
    "\n",
    "   * think of data as other objects that make up the class \n",
    "\n",
    "*  **methods**(procedural attributes)\n",
    "\n",
    "   * think of methods as functions that only work with this class\n",
    "   \n",
    "   * how to interact with the object\n",
    "\n",
    "All  attributes is  <b style=\"color:blue\">PUBLIC</b>\n",
    "\n",
    "##### 2.1 Data attributes\n",
    "\n",
    "Data attributes: <b style=\"color:blue\">Instance variable</b>\n",
    "\n",
    "```python\n",
    "    def __init__(self, radius=1.0):\n",
    "        \"\"\"Initializer with default radius of 1.0\"\"\"\n",
    "        self.radius = radius  # Create an instance variable radius\n",
    "        \n",
    "    def cal_area(self):\n",
    "        \"\"\"the area of this Circle instance\"\"\"\n",
    "        self.area=self.radius * self.radius * pi     \n",
    "```\n",
    "\n",
    "```python\n",
    "self.radius\n",
    "\n",
    "self.area\n",
    "```\n",
    "* Every <b style=\"color:blue\">Instance variable</b> begin with <b style=\"color:blue\">self.</b>: \n",
    "\n",
    "* One Instance variable can be **defined in any method** `as you need`,begined with <b style=\"color:blue\">self.</b>:\n",
    "\n",
    "  * <b style=\"color:blue\">self</b>: the instance  of  the class\n",
    "\n",
    "* All Instance variable is  <b style=\"color:blue\">PUBLIC</b>\n",
    "\n",
    "\n",
    "##### 2.2 Methods\n",
    "\n",
    "```python\n",
    "  def __init__(self, radius=1.0):\n",
    " \n",
    "  def cal_area(self):\n",
    "```\n",
    "Every method uses <b style=\"color:blue\">self</b>  as the name of <b style=\"color:blue\">the first argument</b> of all methods\n",
    "\n",
    "* Python always passes the object as the `first` argument.\n",
    "\n",
    "###### 2.2.1 The  special method `__init__` \n",
    "\n",
    "The Special method names that start and end with two underscores <b style=\"color:blue\">__</b>. \n",
    "\n",
    "**Constructor  `__init__()`** : create instances of the class.\n",
    "\n",
    "* Whenever a class is <b>instantiated</b>, a call is made to the `__init__` method defined in that class.\n",
    "\n",
    "```python\n",
    "def __init__(self, radius=1.0):\n",
    "    \"\"\"Initializer with default radius of 1.0\"\"\"\n",
    "    self.radius = radius  # Create an instance variable radius\n",
    "```"
   ]
  },
  {
   "cell_type": "code",
   "execution_count": null,
   "metadata": {},
   "outputs": [],
   "source": [
    "c1=Circle()\n",
    "c1.radius"
   ]
  },
  {
   "cell_type": "markdown",
   "metadata": {},
   "source": [
    "######  2.2.2 The  methods to get the area of this Circle \n",
    "\n",
    "```python\n",
    " def cal_area(self):\n",
    "        \"\"\"the area of this Circle instance\"\"\"\n",
    "        self.area=self.radius * self.radius * pi\n",
    "```            "
   ]
  },
  {
   "cell_type": "markdown",
   "metadata": {},
   "source": [
    "#### 2.3  Access any attribute\n",
    "\n",
    "The **“.”** operator is used to access any attribute\n",
    "\n",
    "* a data attribute of an object\n",
    "\n",
    "* a method of an object\n"
   ]
  },
  {
   "cell_type": "code",
   "execution_count": null,
   "metadata": {},
   "outputs": [],
   "source": [
    "c1=Circle(2.1)\n",
    "print(c1.radius)\n",
    "c1.cal_area()\n",
    "c1.area"
   ]
  },
  {
   "cell_type": "markdown",
   "metadata": {},
   "source": [
    "#### 2.4 Add the Special Method `__str__` \n",
    "\n",
    "Add the Special Method `__str__`  to the class Circle"
   ]
  },
  {
   "cell_type": "code",
   "execution_count": null,
   "metadata": {},
   "outputs": [],
   "source": [
    "from math import pi\n",
    " \n",
    "class Circle(object):    # For Python 2 use: \"class Circle(object):\"\n",
    "    \"\"\"A Circle instance models a circle with a radius\"\"\"\n",
    " \n",
    "    def __init__(self, radius=1.0):\n",
    "        \"\"\"Initializer with default radius of 1.0\"\"\"\n",
    "        self.radius = radius  # Create an instance variable radius\n",
    "        self.area=None  # init self.area=None\n",
    "    \n",
    "    def cal_area(self):\n",
    "        \"\"\"Return the area of this Circle instance\"\"\"\n",
    "        self.area=self.radius * self.radius * pi\n",
    "    \n",
    "    def __str__(self):\n",
    "        \"\"\"Returns a string representation of  Circle\"\"\"\n",
    "        if self.area==None:\n",
    "            self.area=self.radius * self.radius * pi\n",
    "        result = \"The Circle: radius=\"+str(self.radius)+\" area=\"+str(self.area)\n",
    "        return  result  "
   ]
  },
  {
   "cell_type": "markdown",
   "metadata": {},
   "source": [
    "\n",
    "###### 2.4.1 the `print` command is used \n",
    "\n",
    "the `__str__` function associated with the object to be `printed` is <b>automatically invoked</b>."
   ]
  },
  {
   "cell_type": "code",
   "execution_count": null,
   "metadata": {},
   "outputs": [],
   "source": [
    "c1=Circle(2.1)\n",
    "print(c1)"
   ]
  },
  {
   "cell_type": "markdown",
   "metadata": {},
   "source": [
    "###### 2.4.2  calling `str`\n",
    "\n",
    "the `__str__` function is automatically invoked to convert a instance of that class a string"
   ]
  },
  {
   "cell_type": "code",
   "execution_count": null,
   "metadata": {},
   "outputs": [],
   "source": [
    "str(c1)"
   ]
  },
  {
   "cell_type": "code",
   "execution_count": null,
   "metadata": {},
   "outputs": [],
   "source": [
    "c1.__str__()"
   ]
  },
  {
   "cell_type": "markdown",
   "metadata": {},
   "source": [
    "###### 2.4.3 Build-in __str__ :List,dict,tuple"
   ]
  },
  {
   "cell_type": "code",
   "execution_count": null,
   "metadata": {},
   "outputs": [],
   "source": [
    "l=[1,2,3]\n",
    "print(l)\n",
    "str(l)"
   ]
  },
  {
   "cell_type": "code",
   "execution_count": null,
   "metadata": {},
   "outputs": [],
   "source": [
    "l.__str__()"
   ]
  },
  {
   "cell_type": "code",
   "execution_count": null,
   "metadata": {},
   "outputs": [],
   "source": [
    "d={'a':1,'b':2}\n",
    "print(d)\n",
    "str(d)"
   ]
  },
  {
   "cell_type": "code",
   "execution_count": null,
   "metadata": {},
   "outputs": [],
   "source": [
    "d.__str__()"
   ]
  },
  {
   "cell_type": "code",
   "execution_count": null,
   "metadata": {},
   "outputs": [],
   "source": [
    "t=('a',1,'c')\n",
    "print(t)\n",
    "str(t)"
   ]
  },
  {
   "cell_type": "code",
   "execution_count": null,
   "metadata": {},
   "outputs": [],
   "source": [
    "t.__str__()"
   ]
  },
  {
   "cell_type": "markdown",
   "metadata": {},
   "source": [
    "###  8.1.2 The Class IntSet\n",
    "\n",
    "\n",
    "The code of `Class IntSet` provides a straightforward implementation of a `set-of-integers` abstraction"
   ]
  },
  {
   "cell_type": "code",
   "execution_count": 38,
   "metadata": {},
   "outputs": [],
   "source": [
    "class IntSet:\n",
    "    \"\"\"An intSet is a set of integers\"\"\"\n",
    "    # Information about the implementation (not the abstraction)\n",
    "    # The value of the set is represented by a list of ints,self.vals.\n",
    "    # Each int in the set occurs in self.vals exactly once.\n",
    "   \n",
    "    def __init__(self, e):\n",
    "        \"\"\"Create an set of integers with e\"\"\"\n",
    "        self.vals = [e]\n",
    "\n",
    "    def insert(self, e):\n",
    "        \"\"\"Assumes e is an integer and inserts e into self\"\"\"\n",
    "        if not e in self.vals:\n",
    "            self.vals.append(e)\n",
    "\n",
    "    def member(self, e):\n",
    "        \"\"\"Assumes e is an integer\n",
    "           Returns True if e is in self, and False otherwise\"\"\"\n",
    "        return e in self.vals\n",
    "\n",
    "    def remove(self, e):\n",
    "        \"\"\"Assumes e is an integer and removes e from self\n",
    "           Raises ValueError if e is not in self\"\"\"\n",
    "        try:\n",
    "            self.vals.remove(e)\n",
    "        except:\n",
    "            raise ValueError(str(e) + ' not found')\n",
    "\n",
    "    def getMembers(self):\n",
    "        \"\"\"Returns a list containing the elements of self.\n",
    "           Nothing can be assumed about the order of the elements\"\"\"\n",
    "        return self.vals[:]\n",
    "\n",
    "    def __str__(self):\n",
    "        \"\"\"Returns a string representation of self\"\"\"\n",
    "        self.vals.sort()\n",
    "        result = ''\n",
    "        for e in self.vals:\n",
    "            result = result + str(e) + ','\n",
    "        return('{' + result[:-1] + '}') #-1 omits trailing comma"
   ]
  },
  {
   "cell_type": "markdown",
   "metadata": {},
   "source": [
    "####  1 The special method `__init__ `\n",
    "\n",
    "The special method __init__ to create instances of the class.\n",
    "\n",
    "Whenever a class is instantiated, a call is made to the __init__ method defined in that class.\n",
    "```\n",
    "def __init__(self,e):\n",
    "        \"\"\"Create an set of integers with e\"\"\"\n",
    "        self.vals = [e]\n",
    "```"
   ]
  },
  {
   "cell_type": "code",
   "execution_count": null,
   "metadata": {},
   "outputs": [],
   "source": [
    "s=IntSet(1)\n",
    "s.vals"
   ]
  },
  {
   "cell_type": "markdown",
   "metadata": {},
   "source": [
    "####  2  The  Methods to  operate the data.\n",
    "\n",
    "```python\n",
    "def insert(self, e):\n",
    "        \"\"\"Assumes e is an integer and inserts e into self\"\"\"\n",
    "        if not e in self.vals:\n",
    "            self.vals.append(e)\n",
    "```            "
   ]
  },
  {
   "cell_type": "code",
   "execution_count": null,
   "metadata": {},
   "outputs": [],
   "source": [
    "s = IntSet(1)\n",
    "s.insert(3)\n",
    "print(s.vals)\n",
    "print(s.member(3))"
   ]
  },
  {
   "cell_type": "markdown",
   "metadata": {},
   "source": [
    "####  3 Special method `__str__`\n",
    "\n",
    "The last method defined in the class, __str__\n",
    "```python\n",
    "def __str__(self):\n",
    "    \"\"\"Returns a string representation of self\"\"\"\n",
    "    self.vals.sort()\n",
    "    result = ''\n",
    "    for e in self.vals:\n",
    "        result = result + str(e) + ','\n",
    "    return('{' + result[:-1] + '}') #-1 omits trailing comma\n",
    "```"
   ]
  },
  {
   "cell_type": "code",
   "execution_count": null,
   "metadata": {},
   "outputs": [],
   "source": [
    "s = IntSet(3)\n",
    "s.insert(4)\n",
    "print(s)"
   ]
  },
  {
   "cell_type": "markdown",
   "metadata": {},
   "source": [
    "## 8.1.3 Using Classes to Keep Track of Students and Faculty\n",
    "\n",
    "As an example use of classes, imagine that you are designing a program to help keep track of all the students and faculty at a university. \n",
    "\n",
    "Before rushing in to design a bunch of data structures, let’s think about some **abstractions** that might prove useful. \n",
    "\n",
    "* Is there an abstraction that covers the <b>common attributes</b> of `students, professors, and staff`?\n",
    "\n",
    "Some would argue that they are all <b>human</b>. \n",
    "\n",
    "The below codes contain a class **Person** that incorporates some of the <b>common attributes (name and birthdate) of humans</b>.\n",
    "\n",
    "### 1 The class Person"
   ]
  },
  {
   "cell_type": "code",
   "execution_count": 39,
   "metadata": {},
   "outputs": [],
   "source": [
    "import datetime\n",
    "\n",
    "class Person:\n",
    "\n",
    "    def __init__(self, name):\n",
    "        \"\"\"Create a person：common attributes name and birthdate\"\"\"\n",
    "        self.name = name # 1 fullname:firstname lastname or 2 lastname \n",
    "        try: \n",
    "            lastBlank = name.rindex(' ') # ' 'lastName\n",
    "            self.lastName = name[lastBlank+1:]\n",
    "        except:\n",
    "            self.lastName = name\n",
    "        \n",
    "        self.birthday = None\n",
    " \n",
    "    def getName(self):\n",
    "        \"\"\"Returns self's full name\"\"\"\n",
    "        return self.name\n",
    "\n",
    "    def getLastName(self):\n",
    "        \"\"\"Returns self's last name\"\"\"\n",
    "        return self.lastName\n",
    "\n",
    "    def setBirthday(self, birthdate):\n",
    "        \"\"\"Assumes birthdate is of type datetime.date\n",
    "           Sets self's birthday to birthdate\"\"\"\n",
    "        self.birthday = birthdate\n",
    "\n",
    "    def getAge(self):\n",
    "        \"\"\"Returns self's current age in days\"\"\"\n",
    "        if self.birthday == None:\n",
    "            raise ValueError\n",
    "        return (datetime.date.today() - self.birthday).days\n",
    "\n",
    "    def __lt__(self, other):\n",
    "        \"\"\"Returns True if self's name is lexicographically\n",
    "           less than other's name, and False otherwise\"\"\"\n",
    "        if self.lastName == other.lastName:\n",
    "            return self.name < other.name\n",
    "        return self.lastName < other.lastName\n",
    "\n",
    "    def __str__(self):\n",
    "        \"\"\"Returns self's name\"\"\"\n",
    "        return self.name"
   ]
  },
  {
   "cell_type": "markdown",
   "metadata": {},
   "source": [
    "The following code makes use of `Person`."
   ]
  },
  {
   "cell_type": "code",
   "execution_count": null,
   "metadata": {},
   "outputs": [],
   "source": [
    "him = Person('Barack Hussein Obama')\n",
    "print(him.getLastName())\n",
    "him.setBirthday(datetime.date(1961, 8, 4))\n",
    "print(him.getName(), 'is', him.getAge(), 'days old') "
   ]
  },
  {
   "cell_type": "markdown",
   "metadata": {
    "collapsed": true
   },
   "source": [
    "1) Notice that whenever `Person` is instantiated an argument is supplied to the `__init__` function\n",
    "\n",
    "2) One can then **access information about these instances using the methods** associated with them: \n",
    "\n",
    "(  `him.getLastName()` will return 'Obama'.\n",
    "\n"
   ]
  },
  {
   "cell_type": "markdown",
   "metadata": {},
   "source": [
    "\n",
    "### 2  The Special  method  `__lt__`  \n",
    "\n",
    "```python\n",
    "   def __lt__(self, other):\n",
    "        \"\"\"Returns True if self's name is lexicographically\n",
    "           less than other's name, and False otherwise\"\"\"\n",
    "        if self.lastName == other.lastName:\n",
    "            return self.name < other.name\n",
    "        return self.lastName < other.lastName\n",
    "```\n",
    "\n",
    "Returns True if `self's name` is `lexicographically` less than(<) `other's name`\n"
   ]
  },
  {
   "cell_type": "code",
   "execution_count": 44,
   "metadata": {},
   "outputs": [
    {
     "data": {
      "text/plain": [
       "True"
      ]
     },
     "execution_count": 44,
     "metadata": {},
     "output_type": "execute_result"
    }
   ],
   "source": [
    "'ax'<'bx'"
   ]
  },
  {
   "cell_type": "markdown",
   "metadata": {},
   "source": [
    "This method **overloads** the  `<` operator, this overloading provides automatic access to any **polymorphic(多态)** method \n",
    "\n",
    "For example: \n",
    "\n",
    "The built-in method `sort` is one such method.\n",
    "\n",
    "* if `pList` is a list composed of elements of type `Person`, the call `pList.sort()` will sort that list using the `__lt__ `method defined in class `Person.`"
   ]
  },
  {
   "cell_type": "code",
   "execution_count": 43,
   "metadata": {},
   "outputs": [
    {
     "name": "stdout",
     "output_type": "stream",
     "text": [
      "Michael Guttag\n",
      "Barack Hussein Obama\n",
      "Madonna\n",
      "\n",
      " -- Returns True if self's name is lexicographically less than other's name, After sorted --\n",
      "\n",
      "Michael Guttag\n",
      "Madonna\n",
      "Barack Hussein Obama\n"
     ]
    }
   ],
   "source": [
    "me = Person('Michael Guttag')\n",
    "him = Person('Barack Hussein Obama')\n",
    "him.setBirthday(datetime.date(1961, 8, 4))\n",
    "her = Person('Madonna')\n",
    "her.setBirthday(datetime.date(1958, 8, 16))\n",
    "\n",
    "pList = [me, him, her]\n",
    "for p in pList:\n",
    "    print(p)\n",
    "\n",
    "print('\\n -- Returns True if self\\'s name is lexicographically less than other\\'s name, After sorted --\\n')    \n",
    "\n",
    "# The call pList.sort() will sort that list using the __lt__method defined in class Person.\n",
    "pList.sort()\n",
    "for p in pList:\n",
    "    print(p)  # call person. __str__ to return self.name\n"
   ]
  },
  {
   "cell_type": "markdown",
   "metadata": {},
   "source": [
    "The built-in method  `sort` use **only** `<` comparisons between items. \n",
    "\n",
    "If no the `__lt__ `method defined in class `Person.`,we can not using the built-in method `sort` to the `pList`\n",
    "\n",
    "### 3 Demo `__lt__` ` __str__`\n",
    "\n",
    "You may change `Person.__lt__` or `Person.__str__` to understand more things. \n",
    "\n",
    "*  `Person.__lt__` :  Returns True if self's `birthday` is less than other's birthday\n",
    "\n",
    "*  `Person.__str__`: If have birthday,returns self's name+birthday"
   ]
  },
  {
   "cell_type": "code",
   "execution_count": 45,
   "metadata": {},
   "outputs": [],
   "source": [
    "import datetime\n",
    "\n",
    "class Person(object):\n",
    "\n",
    "    def __init__(self, name):\n",
    "        \"\"\"Create a person：common attributes name and birthdate\"\"\"\n",
    "        self.name = name\n",
    "        try:\n",
    "            lastBlank = name.rindex(' ') #lastName' '　lastName\n",
    "            self.lastName = name[lastBlank+1:]\n",
    "        except:\n",
    "            self.lastName = name\n",
    "        \n",
    "        self.birthday = None\n",
    " \n",
    "    def getName(self):\n",
    "        \"\"\"Returns self's full name\"\"\"\n",
    "        return self.name\n",
    "\n",
    "    def getLastName(self):\n",
    "        \"\"\"Returns self's last name\"\"\"\n",
    "        return self.lastName\n",
    "\n",
    "    def setBirthday(self, birthdate):\n",
    "        \"\"\"Assumes birthdate is of type datetime.date\n",
    "           Sets self's birthday to birthdate\"\"\"\n",
    "        self.birthday = birthdate\n",
    "  \n",
    "    def getAge(self):\n",
    "        \"\"\"Returns self's current age in days\"\"\"\n",
    "        if self.birthday == None:\n",
    "            raise ValueError\n",
    "        return (datetime.date.today() - self.birthday).days\n",
    "\n",
    "    def __lt__(self, other):\n",
    "        \"\"\"Returns True if self's birthday is less than other's birthday \n",
    "           and False otherwise\"\"\"\n",
    "        try:\n",
    "            return self.birthday < other.birthday \n",
    "        except: \n",
    "            if self.lastName == other.lastName:\n",
    "                return self.name < other.name\n",
    "            return self.lastName < other.lastName\n",
    "      \n",
    "    def __str__(self):\n",
    "        \"\"\"If have birthday,returns self's name+birthday\"\"\"\n",
    "        try:\n",
    "            return self.name + \" \"+self.birthday.strftime(\"%Y-%m-%d\")\n",
    "        except:\n",
    "            return self.name "
   ]
  },
  {
   "cell_type": "code",
   "execution_count": 46,
   "metadata": {},
   "outputs": [
    {
     "name": "stdout",
     "output_type": "stream",
     "text": [
      "Michael Guttag 1991-08-04\n",
      "Barack Hussein Obama 1961-08-04\n",
      "Madonna 1958-08-16\n",
      "\n",
      "** Returns True if self's birthday is less than other's birthday After sorted**\n",
      "\n",
      "Madonna 1958-08-16\n",
      "Barack Hussein Obama 1961-08-04\n",
      "Michael Guttag 1991-08-04\n"
     ]
    }
   ],
   "source": [
    "me = Person('Michael Guttag')\n",
    "me.setBirthday(datetime.date(1991, 8, 4))\n",
    "\n",
    "him = Person('Barack Hussein Obama')\n",
    "him.setBirthday(datetime.date(1961, 8, 4))\n",
    "\n",
    "her = Person('Madonna')\n",
    "her.setBirthday(datetime.date(1958, 8, 16))\n",
    "\n",
    "pList = [me, him, her]\n",
    "\n",
    "for p in pList:\n",
    "    print(p)\n",
    "print('\\n** Returns True if self\\'s birthday is less than other\\'s birthday After sorted**\\n')    \n",
    "\n",
    "pList.sort()\n",
    "for p in pList:\n",
    "    print(p)\n",
    "    "
   ]
  },
  {
   "cell_type": "markdown",
   "metadata": {},
   "source": [
    "## 8.2 Inheritance\n",
    "\n",
    "**Inheritance** provides a convenient mechanism for building **groups of `related` abstractions**\n",
    "\n",
    "It allows programmers to create <b>a type hierarchy</b> in which each type inherits attributes from the types above it in the hierarchy.\n",
    "\n",
    "The class **object** is at the **top** of the hierarchy.\n",
    "\n",
    "The class `MITPerson` inherits attributes from its parent class,`Person`"
   ]
  },
  {
   "cell_type": "code",
   "execution_count": null,
   "metadata": {},
   "outputs": [],
   "source": [
    "class MITPerson(Person):\n",
    "\n",
    "    nextIdNum = 0 # identification number　- class\n",
    "\n",
    "    def __init__(self, name):\n",
    "        Person.__init__(self, name)\n",
    "        self.idNum = MITPerson.nextIdNum\n",
    "        MITPerson.nextIdNum += 1 # identification number\n",
    "\n",
    "    def getIdNum(self):\n",
    "        return self.idNum\n",
    "\n",
    "    def __lt__(self, other):\n",
    "        return self.idNum < other.idNum\n",
    "    \n",
    "    #  isStudent will be add in 8.2.1\n",
    "    def isStudent(self):   \n",
    "        return isinstance(self, Student)"
   ]
  },
  {
   "cell_type": "markdown",
   "metadata": {},
   "source": [
    "**MITPerson** is a subclass of **Person**,and therefore inherits the attributes of its superclass. \n",
    "\n",
    "In addition to what it inherits, the subclass can:\n",
    "\n",
    "<b>Add</b> new attributes: \n",
    "\n",
    "* Data:\n",
    "  * class variable `nextIdNum` ：belongs to the class `MITPerson`, rather than to instances of the class.\n",
    "  * the instance variable `idNum`： is initialized using <b>a class variable</b>, `nextIdNum`,\n",
    "\n",
    "* the method \n",
    "\n",
    "  * def getIdNum(self):\n",
    "  \n",
    "<b>Override</b> attributes of the superclass.overridden \n",
    "\n",
    "   * `__init__` \n",
    "   * `__lt__`."
   ]
  },
  {
   "cell_type": "code",
   "execution_count": null,
   "metadata": {},
   "outputs": [],
   "source": [
    "p1 = MITPerson('Barbara Beaver')\n",
    "print(str(p1) + '\\'s id number is ' + str(p1.getIdNum()))"
   ]
  },
  {
   "cell_type": "markdown",
   "metadata": {},
   "source": [
    "The `first line` creates a new MITPerson. \n",
    "\n",
    "The `second line` is a bit more complicated. When it attempts to evaluate the expression `str(p1)`, the runtime system first checks to see if there is an `__str__` method associated with class `MITPerson`. Since there is not, it next checks to see if there is an `__str__` method associated with the **superclass**, `Person`, of MITPerson. There is, so it uses that. \n",
    "\n",
    "When the runtime system attempts to evaluate the expression `p1.getidNum()`, it first checks to see if there is a `getIdNum` **method** associated with class MITPerson. There is, so it invokes that method and prints\n",
    "```\n",
    "Barbara Beaver's id number is 0\n",
    "```\n",
    "\n",
    ">**Recall** that in a string, the character “\\” is an **escape character** used to indicate that the next character should be treated in a special way. In the string\n",
    ">```python\n",
    ">'\\'s id number is '\n",
    ">```\n",
    ">the “\\” indicates that the apostrophe is part of the string, not a delimiter terminating the\n",
    ">string."
   ]
  },
  {
   "cell_type": "markdown",
   "metadata": {},
   "source": [
    "### Instance variables and Class variable\n",
    "\n",
    "**A class** should not be confused with **instances of that class**\n",
    "\n",
    "**Attributes** can be associated either with a `class` itself or with `instances of a class:\n",
    "\n",
    "#### instance variables\n",
    "\n",
    "```python\n",
    "class IntSet(object):\n",
    "    def __init__(self):\n",
    "        \"\"\"Create an empty set of integers\"\"\"\n",
    "        self.vals = []\n",
    "```\n",
    "`vals` list is called <b>a data attribute</b> of the **instance** of `IntSet`.\n",
    "\n",
    "When `s.vals`　is associated with <b>an instance</b>\n",
    "\n",
    "we call them <b>instance variables</b>.\n"
   ]
  },
  {
   "cell_type": "code",
   "execution_count": null,
   "metadata": {},
   "outputs": [],
   "source": [
    "s = IntSet()\n",
    "s.insert(4)\n",
    "s.vals"
   ]
  },
  {
   "cell_type": "code",
   "execution_count": null,
   "metadata": {},
   "outputs": [],
   "source": [
    "s1 = IntSet()\n",
    "s1.insert(5)\n",
    "s1.vals\n"
   ]
  },
  {
   "cell_type": "markdown",
   "metadata": {},
   "source": [
    "#### class variables\n",
    "\n",
    "* **Data attributes** are associated with a class we call them **class variables**\n",
    "\n",
    "    When an instance of <b>MITPerson</b> is created, a new instance of <b>nextIdNum</b> is not created.\n",
    "    \n",
    "    This allows `__init__` to ensure that each instance of MITPerson has a <b>unique</b> `idNum`\n",
    "\n",
    "```python\n",
    "class MITPerson(Person):\n",
    "\n",
    "    nextIdNum = 0 # identification number　:class variables\n",
    "\n",
    "    def __init__(self, name):\n",
    "        Person.__init__(self, name)\n",
    "        self.idNum = MITPerson.nextIdNum\n",
    "        MITPerson.nextIdNum += 1 # identification number\n",
    "\n",
    "```\n"
   ]
  },
  {
   "cell_type": "code",
   "execution_count": null,
   "metadata": {},
   "outputs": [],
   "source": [
    "p1 = MITPerson('Barbara Beaver')\n",
    "\n",
    "print(str(p1) + '\\'s id number is ' + str(p1.getIdNum()))\n",
    "\n",
    "print('MITPerson.nextIdNum:',MITPerson.nextIdNum)\n",
    "print('p1.nextIdNum:',p1.nextIdNum)\n",
    "\n",
    "p11 = MITPerson('Barbara Beaver11')\n",
    "print(str(p11) + '\\'s id number is ' + str(p11.getIdNum()))\n",
    "print('MITPerson.nextIdNum:',MITPerson.nextIdNum)\n",
    "\n",
    "# class variables are for attributes and methods shared by all instances of the class:\n",
    "print(\"--- class variables are for attributes and methods shared by all instances of the class:\")\n",
    "print('p11.nextIdNum:',p11.nextIdNum)\n",
    "print('p1.nextIdNum:',p1.nextIdNum)"
   ]
  },
  {
   "cell_type": "markdown",
   "metadata": {},
   "source": [
    "Generally speaking, \n",
    "\n",
    "* **instance variables** are for data **unique** to `each instance` \n",
    "\n",
    "* **class variables** are for attributes and methods **shared** by `all instances` of the class:\n",
    "\n",
    "The another Example"
   ]
  },
  {
   "cell_type": "code",
   "execution_count": null,
   "metadata": {},
   "outputs": [],
   "source": [
    "class ClassStudent:\n",
    "    ClassID = '03013' # class variable shared by all students in the classs\n",
    "    def __init__(self, name):\n",
    "        self.name = name # instance variable unique to each instance(student)\n",
    "        "
   ]
  },
  {
   "cell_type": "code",
   "execution_count": null,
   "metadata": {},
   "outputs": [],
   "source": [
    "z =  ClassStudent('zhang3')\n",
    "l = ClassStudent('li3')\n",
    "# class variable\n",
    "print(z.ClassID)\n",
    "print(l.ClassID)\n",
    "# instance variable\n",
    "print(z.name)\n",
    "print(l.name)"
   ]
  },
  {
   "cell_type": "markdown",
   "metadata": {},
   "source": [
    "### 8.2.1 Multiple Levels of Inheritance\n",
    "\n",
    "The Figure adds another couple of levels of inheritance to the class hierarchy.\n",
    "\n",
    "![Figure](./img/fig84.jpg)\n"
   ]
  },
  {
   "cell_type": "code",
   "execution_count": null,
   "metadata": {},
   "outputs": [],
   "source": [
    "class Student(MITPerson):\n",
    "    pass\n",
    "\n",
    "class UG(Student):\n",
    "    def __init__(self, name, classYear):\n",
    "        MITPerson.__init__(self, name)\n",
    "        self.year = classYear\n",
    "    \n",
    "    def getClass(self):\n",
    "        return self.year\n",
    "    \n",
    "class Grad(Student):\n",
    "    pass\n"
   ]
  },
  {
   "cell_type": "markdown",
   "metadata": {},
   "source": [
    "Adding `UG` seems logical, because we want to associate a `year` of graduation (or perhaps anticipated graduation) with each undergraduate. \n",
    "\n",
    "But what is going on with the classes **Student and Grad**?\n",
    "\n",
    "#### class Student\n",
    "```python\n",
    "class Student(MITPerson):\n",
    "    pass\n",
    "```"
   ]
  },
  {
   "cell_type": "markdown",
   "metadata": {},
   "source": [
    "By using the Python reserved word `pass` as the body, we indicate that the class has **no attributes other than** those inherited from its superclass. \n",
    "\n",
    ">##### The pass statement\n",
    ">\n",
    ">The `pass` statement does nothing. It is sometimes needed as a dummy statement `placeholder` to ensure correct syntax\n",
    "\n",
    "##### Why would one ever want to create a class with  <b style=\"color:blue\">no new attributes<b ?\n",
    "\n",
    "* By introducing the class `Grad`, we gain the ability to create two different kinds of students and use their types to distinguish one kind of object from another. \n",
    "\n",
    "For example, the code\n"
   ]
  },
  {
   "cell_type": "code",
   "execution_count": null,
   "metadata": {},
   "outputs": [],
   "source": [
    "p5 =Grad('Buzz Aldrin')\n",
    "p6 =UG('Billy Beaver', 1984)\n",
    "\n",
    "print(p5, 'is a graduate student is', type(p5) == Grad) \n",
    "print(p5, 'is an undergraduate student is', type(p5) ==UG)"
   ]
  },
  {
   "cell_type": "markdown",
   "metadata": {},
   "source": [
    "The utility of the intermediate type `Student` is a bit subtler. Consider going back to class `MITPerson` and adding the method\n",
    "```python\n",
    " def isStudent(self):  # 8.2.1\n",
    "        return isinstance(self, Student)\n",
    "```\n",
    "##### The function `isinstance`\n",
    "\n",
    "The function `isinstance` is built into Python. The `first` argument of `isinstance` can be any object, but the `second` argument must be an object of type `type`. \n",
    "\n",
    "For example:"
   ]
  },
  {
   "cell_type": "code",
   "execution_count": null,
   "metadata": {},
   "outputs": [],
   "source": [
    "l=[1,2]\n",
    "isinstance(l, list)"
   ]
  },
  {
   "cell_type": "code",
   "execution_count": null,
   "metadata": {},
   "outputs": [],
   "source": [
    "The function **isinstancereturns** `True` \n",
    "\n",
    "Returning to our example, the code\n"
   ]
  },
  {
   "cell_type": "code",
   "execution_count": null,
   "metadata": {},
   "outputs": [],
   "source": [
    "p3 = MITPerson('Billy Bob Beaver')\n",
    "p5 =Grad('Buzz Aldrin')\n",
    "p6 =UG('Billy Beaver', 1984)\n",
    "print(p5, 'is a student is', p5.isStudent())\n",
    "print(p6, 'is a student is', p6.isStudent())\n",
    "print(p3, 'is a student is', p3.isStudent())"
   ]
  },
  {
   "cell_type": "markdown",
   "metadata": {},
   "source": [
    "Notice that <b>isinstance(p6, Student)</b> is quite different from <b>type(p6) == Student</b>"
   ]
  },
  {
   "cell_type": "code",
   "execution_count": null,
   "metadata": {},
   "outputs": [],
   "source": [
    "isinstance(p6, Student)"
   ]
  },
  {
   "cell_type": "code",
   "execution_count": null,
   "metadata": {},
   "outputs": [],
   "source": [
    "type(p6) == Student"
   ]
  },
  {
   "cell_type": "markdown",
   "metadata": {},
   "source": [
    "The object to which `p6` is bound is of type `UG`, not student, but since `UG` is a subclass of `Student`, the object to which` p6` is bound is considered to be `an instance of class Student` (as well as an instance of MITPerson and Person).\n",
    "\n",
    "Since there are only `two kinds` of students, we could have implemented `isStudent` as,\n",
    "\n",
    "```Python\n",
    "def isStudent(self):\n",
    "    return type(self) == graduate or type(self) == undergraduate\n",
    "```\n",
    "\n",
    "However, if a new type of student were introduced at some later point it would be necessary to **go back** and edit the code implementing `isStudent`.\n",
    "\n",
    "* By introducing the **intermediate** class `Student` and using `isinstance we` avoid this problem to  **go back and edit the code implementing `isStudent`**. \n",
    "\n",
    "For example, if we were to add **TransferStudent**\n",
    "\n",
    "* `TransferStudent` extends Student by introducing a former school: `self.fromSchool` "
   ]
  },
  {
   "cell_type": "code",
   "execution_count": null,
   "metadata": {},
   "outputs": [],
   "source": [
    "class TransferStudent(Student):\n",
    "\n",
    "    def __init__(self, name, fromSchool):\n",
    "        MITPerson.__init__(self, name)\n",
    "        self.fromSchool = fromSchool\n",
    "\n",
    "    def getOldSchool(self):\n",
    "        return self.fromSchool"
   ]
  },
  {
   "cell_type": "code",
   "execution_count": null,
   "metadata": {},
   "outputs": [],
   "source": [
    "p7 =Grad('B Aldrin')\n",
    "print(p7, 'is a student is', p7.isStudent())"
   ]
  },
  {
   "cell_type": "markdown",
   "metadata": {},
   "source": [
    "NO change needs to be made to `isStudent` in the class `Student`\n"
   ]
  },
  {
   "cell_type": "markdown",
   "metadata": {},
   "source": [
    "## 8.3 Encapsulation and Information Hiding\n",
    "\n",
    "As long as we are dealing with students, it would be a shame not to make them suffer through taking classes and getting grades.\n",
    "\n",
    "The **Class Grades** class that can be used to keep track of the grades of  collection of students.  \n"
   ]
  },
  {
   "cell_type": "code",
   "execution_count": null,
   "metadata": {},
   "outputs": [],
   "source": [
    "class Grades(object):\n",
    "    \"\"\"A mapping from students to a list of grades\"\"\"\n",
    "    def __init__(self):\n",
    "        \"\"\"Create empty grade book\"\"\"\n",
    "        \n",
    "        self.students = [] #list keeps track of the students in the class\n",
    "        \n",
    "        self.grades = {}  # dictionary maps a student’s identification number to a list of grades.\n",
    "       \n",
    "        self.isSorted = True\n",
    "\n",
    "    def addStudent(self, student):\n",
    "        \"\"\"Assumes: student is of type Student\n",
    "           Add student to the grade book\"\"\"\n",
    "        if student in self.students:\n",
    "            raise ValueError('Duplicate student')\n",
    "        self.students.append(student)\n",
    "        self.grades[student.getIdNum()] = []\n",
    "        self.isSorted = False\n",
    "\n",
    "    def addGrade(self, student, grade):\n",
    "        \"\"\"Assumes: grade is a float\n",
    "           Add grade to the list of grades for student\"\"\"\n",
    "        try:\n",
    "            self.grades[student.getIdNum()].append(grade)\n",
    "        except:\n",
    "            raise ValueError('Student not in mapping')\n",
    "\n",
    "    def getGrades(self, student):\n",
    "        \"\"\"Return a list of grades for student\"\"\"\n",
    "        try: #return copy of student's grades\n",
    "            return self.grades[student.getIdNum()][:]\n",
    "        except:\n",
    "            raise ValueError('Student not in mapping')\n",
    "\n",
    "    def getStudents(self):\n",
    "        \"\"\"Return a list of the students in the grade book\"\"\"\n",
    "        if not self.isSorted:\n",
    "            self.students.sort()\n",
    "            self.isSorted = True\n",
    "        return self.students[:] #return copy of list of students"
   ]
  },
  {
   "cell_type": "markdown",
   "metadata": {},
   "source": [
    "\n",
    "Instances of class `Grades` are implemented using \n",
    "\n",
    "* a <b>list</b> \n",
    "* a <b>dictionary<b>. \n",
    "\n",
    "The <b>list</b> keeps track of the <b>students</b> in the class. \n",
    "```python\n",
    " self.students = []\n",
    "```\n",
    "The <b>dictionary</b> `maps` a student’s <b>identification number</b> to a list of <b>grades</b>.\n",
    "\n",
    "```python\n",
    "\n",
    "   def __init__(self):\n",
    "       self.grades = {}\n",
    "\n",
    "   def addStudent(self, student):\n",
    "      \n",
    "       self.grades[student.getIdNum()] = []\n",
    "  \n",
    "   def addGrade(self, student, grade):\n",
    "  \n",
    "       self.grades[student.getIdNum()].append(grade)\n",
    "  \n",
    "   def getGrades(self, student):\n",
    "\n",
    "       self.grades[student.getIdNum()][:]\n",
    "```\n",
    " \n",
    "**the data be accessed only through the object's methods**"
   ]
  },
  {
   "cell_type": "markdown",
   "metadata": {},
   "source": [
    "### gradeReport Class\n",
    "\n",
    "The  gradeReport Class contains a function that uses class Grades to produce a grade report for\n",
    "some students taking a course named sixHundred."
   ]
  },
  {
   "cell_type": "code",
   "execution_count": null,
   "metadata": {},
   "outputs": [],
   "source": [
    "def gradeReport(course):\n",
    "    \"\"\"Assumes course is of type Grades\"\"\"\n",
    "    report = ''\n",
    "    for s in course.getStudents(): # the data be accessed only through the object's methods. information hiding.\n",
    "        tot = 0.0\n",
    "        numGrades = 0\n",
    "        for g in course.getGrades(s): # the data be accessed only through the object's methods. information hiding.\n",
    "            tot += g\n",
    "            numGrades += 1\n",
    "        try:\n",
    "            average = tot/numGrades\n",
    "            report =(report + '\\n'\n",
    "                     + str(s) + '\\'s mean grade is ' + str(average))\n",
    "        except ZeroDivisionError:\n",
    "            report = (report + '\\n'\n",
    "                     + str(s) + ' has no grades')\n",
    "    return report\n",
    "\n",
    "ug1 = UG('Jane Doe', 2014)\n",
    "ug2 = UG('John Doe', 2015)\n",
    "ug3 = UG('David Henry', 2003)\n",
    "\n",
    "g1 = Grad('Billy Buckner')\n",
    "g2 = Grad('Bucky F. Dent')\n",
    "\n",
    "sixHundred = Grades()\n",
    "sixHundred.addStudent(ug1)\n",
    "sixHundred.addStudent(ug2)\n",
    "sixHundred.addStudent(g1)\n",
    "sixHundred.addStudent(g2)\n",
    "\n",
    "for s in sixHundred.getStudents():\n",
    "    sixHundred.addGrade(s, 75)\n",
    "\n",
    "sixHundred.addGrade(g1, 25)\n",
    "sixHundred.addGrade(g2, 100)\n",
    "\n",
    "sixHundred.addStudent(ug3)\n",
    "print(gradeReport(sixHundred))\n"
   ]
  },
  {
   "cell_type": "markdown",
   "metadata": {},
   "source": [
    "### There are two important concepts at the heart of object-oriented programming. \n",
    "\n",
    "* <b>encapsulation and information hiding</b>\n",
    "\n",
    "  *  <b>encapsulation</b>. \n",
    "\n",
    "    By this we mean the <b>bundling together of data attributes and the methods for operating on them</b>.\n",
    "    ```python    \n",
    "      Rafael = MITPerson('MIT NIT')\n",
    "    ```\n",
    "    we can use dot notation to access attributes such as **Rafael**’s age and identification number.\n",
    "\n",
    "  * <b>information hiding</b>. \n",
    "\n",
    "     the **data** be **accessed only** through the object's **methods**.\n",
    "    \n",
    "     This is one of the keys to  modularity. \n",
    "\n",
    "    \n",
    "Some programming languages (Java and C++, for example) provide mechanisms for enforcing information hiding. Programmers can make the attributes of a class **private**, so that clients of the class can access the data only through the object’s methods. \n",
    "\n",
    "Python 3 uses a **naming convention** to make attributes `invisible` outside the class. When the name of an attribute `starts` with `__` but does not end with __, that attribute is not visible outside the class.\n",
    "\n",
    "> Reference Python Doc: 9.6. Private Variables  https://docs.python.org/tutorial/classes.html#tut-private\n",
    "\n",
    "Consider the class \n"
   ]
  },
  {
   "cell_type": "code",
   "execution_count": null,
   "metadata": {},
   "outputs": [],
   "source": [
    "class infoHiding(object):\n",
    "    def __init__(self):\n",
    "        self.visible = 'Look at me'\n",
    "        self.__alsoVisible__ = 'Look at me too'\n",
    "        self.__invisible = 'Don\\'t look at me directly'    \n",
    "        \n",
    "    def printVisible(self):\n",
    "        print(self.visible)\n",
    "        \n",
    "    def printInvisible(self):\n",
    "        print(self.__invisible)\n",
    "        \n",
    "    def __printInvisible(self):\n",
    "        print(self.__invisible)\n",
    "        \n",
    "    def __printInvisible__(self):\n",
    "        print(self.__invisible)"
   ]
  },
  {
   "cell_type": "markdown",
   "metadata": {
    "collapsed": true
   },
   "source": [
    "#### When we run the code"
   ]
  },
  {
   "cell_type": "code",
   "execution_count": null,
   "metadata": {},
   "outputs": [],
   "source": [
    "test = infoHiding()\n",
    "print(test.visible)\n",
    "print(test.__alsoVisible__)\n",
    "print(test._invisible)"
   ]
  },
  {
   "cell_type": "markdown",
   "metadata": {},
   "source": [
    "##### The code"
   ]
  },
  {
   "cell_type": "code",
   "execution_count": null,
   "metadata": {
    "scrolled": true
   },
   "outputs": [],
   "source": [
    "test = infoHiding()\n",
    "test.printInvisible()\n",
    "test.__printInvisible__()\n",
    "test.__printInvisible()"
   ]
  },
  {
   "cell_type": "markdown",
   "metadata": {},
   "source": [
    "##### and The code"
   ]
  },
  {
   "cell_type": "code",
   "execution_count": null,
   "metadata": {},
   "outputs": [],
   "source": [
    "class subClass(infoHiding):\n",
    "    def __init__(self):\n",
    "        print('from subclass', self.__invisible)\n",
    "\n",
    "testSub = subClass()        "
   ]
  },
  {
   "cell_type": "markdown",
   "metadata": {},
   "source": [
    "Notice that when a `subclass` attempts to use a `hidden attribute` of its superclass an **AttributeError** occurs. This can make using information hiding in Python a bit `cumbersome`.\n"
   ]
  },
  {
   "cell_type": "markdown",
   "metadata": {},
   "source": [
    "### 8.3.1 Generators（生成器）: `yield` statement\n",
    "\n",
    "A perceived risk of `information hiding` is that \n",
    "\n",
    "* preventing client programs from directly accessing critical data structures\n",
    "\n",
    "leads to <b>an unacceptable loss of efficiency</b>.\n",
    "\n",
    "Consider the implementation of `gradeReport`  \n",
    "\n",
    "The invocation of  `course.getStudents` \n",
    "\n",
    "```python\n",
    "  for s in course.getStudents():\n",
    "```\n",
    "<b>creates and returns a list of size n</b>, where n is the number of students.\n",
    "```python\n",
    "  def getStudents(self):\n",
    "        \"\"\"Return a list of the students in the grade book\"\"\"\n",
    "        if not self.isSorted:\n",
    "            self.students.sort()\n",
    "            self.isSorted = True\n",
    "        return self.students[:] #return copy of list of students\n",
    "```\n",
    "\n",
    "**self.students[:]**\n",
    "\n",
    "* Creating a **new** list of that size when the list already exists is <b>a significant inefficiency</b>.\n",
    "\n",
    "One solution is to abandon the abstraction and allow gradeReport to <b>directly access</b> the instance variable `course.students`,but that would violate <b>information hiding</b>.\n",
    "\n",
    "### There is a better solution\n",
    "\n",
    "The next code replaces the `getStudents` function in class `Grades` \n",
    "\n",
    "with a function that uses a kind of statement we have not yet used: a `yield` statement.\n",
    "\n",
    "```python\n",
    "  return self.students[:]\n",
    "``` \n",
    "\n",
    "to\n",
    "\n",
    "```python\n",
    "  for s in self.students:\n",
    "      yield s\n",
    "```"
   ]
  },
  {
   "cell_type": "code",
   "execution_count": null,
   "metadata": {},
   "outputs": [],
   "source": [
    "class Grades(object):\n",
    "    \"\"\"A mapping from students to a list of grades\"\"\"\n",
    "    def __init__(self):\n",
    "        \"\"\"Create empty grade book\"\"\"\n",
    "        self.students = []\n",
    "        self.grades = {}\n",
    "        self.isSorted = True\n",
    "\n",
    "    def addStudent(self, student):\n",
    "        \"\"\"Assumes: student is of type Student\n",
    "           Add student to the grade book\"\"\"\n",
    "        if student in self.students:\n",
    "            raise ValueError('Duplicate student')\n",
    "        self.students.append(student)\n",
    "        self.grades[student.getIdNum()] = []\n",
    "        self.isSorted = False\n",
    "\n",
    "    def addGrade(self, student, grade):\n",
    "        \"\"\"Assumes: grade is a float\n",
    "           Add grade to the list of grades for student\"\"\"\n",
    "        try:\n",
    "            self.grades[student.getIdNum()].append(grade)\n",
    "        except:\n",
    "            raise ValueError('Student not in mapping')\n",
    "\n",
    "    def getGrades(self, student):\n",
    "        \"\"\"Return a list of grades for student\"\"\"\n",
    "        try: #return copy of student's grades\n",
    "            return self.grades[student.getIdNum()][:]\n",
    "        except:\n",
    "            raise ValueError('Student not in mapping')\n",
    "\n",
    "    def getStudents(self):\n",
    "        \"\"\"Return a list of the students in the grade book\"\"\"\n",
    "        if not self.isSorted:\n",
    "            self.students.sort()\n",
    "            self.isSorted = True\n",
    "        #return self.students[:] #return copy of list of students\n",
    "        for s in self.students:\n",
    "            yield s"
   ]
  },
  {
   "cell_type": "markdown",
   "metadata": {},
   "source": [
    "### Generators\n",
    " \n",
    "https://wiki.python.org/moin/Generators\n",
    "\n",
    "Any function definition containing a <b style=\"color:blue\">yield</b> statement is treated in a special way. The function is **a generator**.\n",
    "\n",
    "`Generators` are typically used in conjunction with **for** statements.\n",
    "\n",
    "    At the start of the first iteration of a for loop, \n",
    "\n",
    "    the interpreter starts executing the code in the body of the generator. \n",
    "\n",
    "    It runs until the first time a `yield` statement is executed, at which point \n",
    "    \n",
    "    it returns the value of the expression in the yield statement. \n",
    "\n",
    "    On the next iteration, the generator resumes execution immediately following the yield, \n",
    "    \n",
    "    with all local variables bound to the objects to which they were bound \n",
    "    \n",
    "    when the yield statement was executed, and again runs until a `yield` statement is executed. \n",
    "\n",
    "    It continues to do this until it runs out of code to execute or executes a return statement, at which point the loop is exited.\n",
    "\n",
    "###  yield 生成器的运行机制：\n",
    "\n",
    "  \n",
    "  当向生成器要一个数时，生成器会执行，直至出现` yield` 语句，生成器返回` yield` 的参数，\n",
    "    \n",
    "  之后生成器就不会往下继续运行。\n",
    "\n",
    "  当需要下一个数时，会从**上次的状态**开始运行，直至出现`yield`语句，返回参数。\n",
    "    \n",
    "  如此反复,直至退出函数\n"
   ]
  },
  {
   "cell_type": "code",
   "execution_count": null,
   "metadata": {},
   "outputs": [],
   "source": [
    "# Build and return a list\n",
    "\n",
    "def firstn(n):\n",
    "    num, nums = 0, []\n",
    "\n",
    "    while num < n:\n",
    "        \n",
    "        nums.append(num)\n",
    "        \n",
    "        num += 1\n",
    "    \n",
    "    return nums\n",
    "   \n",
    "sum_of_first_n = sum(firstn(100))\n",
    "\n",
    "#sum_of_first_n=0\n",
    "#for s in firstn(100):\n",
    "#    sum_of_first_n=sum_of_first_n+s\n",
    "\n",
    "print(firstn(100))    \n"
   ]
  },
  {
   "cell_type": "markdown",
   "metadata": {},
   "source": [
    "The code is quite simple and straightforward, but its builds the full list in memory. \n",
    "\n",
    "Python provides **generator functions** as a convenient shortcut to building iterators."
   ]
  },
  {
   "cell_type": "code",
   "execution_count": null,
   "metadata": {},
   "outputs": [],
   "source": [
    "# a generator that yields items instead of returning a list\n",
    "\n",
    "def firstn(n):\n",
    "    num = 0\n",
    "    while num < n:\n",
    "        \n",
    "        yield num\n",
    "        \n",
    "        num += 1\n",
    "\n",
    "sum_of_first_n = sum(firstn(100))\n",
    "print(sum_of_first_n)\n",
    "\n",
    "print(firstn(100))"
   ]
  },
  {
   "cell_type": "markdown",
   "metadata": {},
   "source": [
    "The version of `getStudents` \n",
    "          \n",
    "```python\n",
    "    def getStudents(self):\n",
    "        \"\"\"Return a list of the students in the grade book\"\"\"\n",
    "        if not self.isSorted:\n",
    "            self.students.sort()\n",
    "            self.isSorted = True\n",
    "        for s in self.students:\n",
    "             yield s\n",
    "```            \n",
    "\n",
    "allows programmers to use a `for` loop to iterate over the students in objects of type `Grades` in the same way they can use a for loop to iterate over elements of built-in types such as list.\n",
    "\n",
    "\n",
    "```python\n",
    " for s in book.getStudents():\n",
    "    print(s)\n",
    "```    \n"
   ]
  },
  {
   "cell_type": "code",
   "execution_count": null,
   "metadata": {},
   "outputs": [],
   "source": [
    "book = Grades()\n",
    "book.addStudent(Grad('Julie'))\n",
    "book.addStudent(Grad('Charlie'))\n",
    "for s in book.getStudents():\n",
    "    print(s)"
   ]
  },
  {
   "cell_type": "markdown",
   "metadata": {},
   "source": [
    "Generating one value at a time will be more efficient, because a new list containing the students will not be created."
   ]
  },
  {
   "cell_type": "markdown",
   "metadata": {},
   "source": [
    "### Further Reading:\n",
    " \n",
    "To fully understand generators, you need to understand the way built-in `iterators` are implemented in Python,\n",
    "   \n",
    "Python Toturial: \n",
    "\n",
    "* [Iterators](https://docs.python.org/3/tutorial/classes.html#iterators)\n",
    "* [Generators](https://docs.python.org/3/tutorial/classes.html#generators)"
   ]
  },
  {
   "cell_type": "markdown",
   "metadata": {},
   "source": [
    "##  Further Reading: 8.4 Mortgages, an Extended Example\n",
    "\n",
    "A collapse in U.S. housing prices helped trigger a severe economic meltdown in the fall of 2008. \n",
    "\n",
    "One of the contributing factors was that many homeowners had taken on mortgages that\n",
    "\n",
    "ended up having unexpected consequences.\n",
    "\n",
    "Let’s build a program that examines the costs of three kinds of loans：\n",
    "\n",
    "* A fixed-rate mortgage with no points,\n",
    "\n",
    "* A fixed-rate mortgage with points\n",
    "\n",
    "* A mortgage with an initial teaser rate followed by a higher rate for the duration.\n",
    "\n",
    "We will structure our code to include a `Mortgage` class,\n",
    "\n",
    "and `subclasses` corresponding to each of the three kinds of mortgages listed above.\n",
    "\n",
    "##### Mortgage base class\n",
    "\n"
   ]
  },
  {
   "cell_type": "code",
   "execution_count": null,
   "metadata": {},
   "outputs": [],
   "source": [
    "def findPayment(loan, r, m):\n",
    "    \"\"\"Assumes: loan and r are floats, m an int\n",
    "       Returns the monthly payment for a mortgage of size\n",
    "       loan at a monthly rate of r for m months\"\"\"\n",
    "    return loan*((r*(1+r)**m)/((1+r)**m - 1))\n",
    "\n",
    "class Mortgage(object):\n",
    "    \"\"\"Abstract class for building different kinds of mortgages\"\"\"\n",
    "    \n",
    "    def __init__(self, loan, annRate, months):\n",
    "        \"\"\"Create a new mortgage\"\"\"\n",
    "        self.loan = loan\n",
    "        self.rate = annRate/12.0\n",
    "        self.months = months\n",
    "        self.paid = [0.0]\n",
    "        self.owed = [loan]\n",
    "        self.payment = findPayment(loan, self.rate, months)\n",
    "        self.legend = None #description of mortgage\n",
    "    \n",
    "    def makePayment(self):\n",
    "        \"\"\"Make a payment\"\"\"\n",
    "        self.paid.append(self.payment)\n",
    "        reduction = self.payment - self.owed[-1]*self.rate\n",
    "        self.owed.append(self.owed[-1] - reduction)\n",
    "    \n",
    "    def getTotalPaid(self):\n",
    "        \"\"\"Return the total amount paid so far\"\"\"\n",
    "        return sum(self.paid)\n",
    "    \n",
    "    def __str__(self):\n",
    "        return self.legend"
   ]
  },
  {
   "cell_type": "markdown",
   "metadata": {},
   "source": [
    "The function `findPayment` at the top of the figure computes the size of the fixed monthly payment needed to pay off the loan, including interest, by the end of its  term. \n",
    "\n",
    "It does this using <b>a well-known</b> closed-form expression.\n",
    "\n",
    "When your code incorporates formulas you have looked up, make sure that:\n",
    "\n",
    "* You have taken the formula from <b>a reputable source</b>.\n",
    "\n",
    "* You fully <b>understand the meaning of all the variables</b> in the formula\n",
    "\n",
    "* You <b>test</b> your implementation against examples taken from <b>reputable sources>/b>.\n",
    "\n",
    "\n",
    "The method `makePayment` is used to record mortgage payments.\n",
    "\n",
    "The method `getTotalPaid` uses the built-in Python function `sum`, which returns the sum of a sequence of numbers\n",
    "\n",
    "Figure 8.9 contains classes implementing two types of mortgage. Each of these classes overrides `__init__` and inherits the other three methods from `Mortgage`.\n"
   ]
  },
  {
   "cell_type": "code",
   "execution_count": null,
   "metadata": {},
   "outputs": [],
   "source": [
    "class Fixed(Mortgage):\n",
    "\n",
    "    def __init__(self, loan, r, months):\n",
    "        Mortgage.__init__(self, loan, r, months)\n",
    "        self.legend = 'Fixed, ' + str(r*100) + '%'\n",
    "\n",
    "class FixedWithPts(Mortgage):\n",
    "    \n",
    "    def __init__(self, loan, r, months, pts):\n",
    "        Mortgage.__init__(self, loan, r, months)\n",
    "        self.pts = pts\n",
    "        self.paid = [loan*(pts/100.0)]\n",
    "        self.legend =('Fixed, ' + str(r*100) + '%, '+ str(pts) + ' points')"
   ]
  },
  {
   "cell_type": "markdown",
   "metadata": {},
   "source": [
    "Figure 8.10 contains a third subclass of `Mortgage`. The class `TwoRate` treats the mortgage as the concatenation of two loans, each at a different interest rate."
   ]
  },
  {
   "cell_type": "code",
   "execution_count": null,
   "metadata": {},
   "outputs": [],
   "source": [
    "class TwoRate(Mortgage):\n",
    "\n",
    "    def __init__(self, loan, r, months, teaserRate, teaserMonths):\n",
    "        Mortgage.__init__(self, loan, teaserRate, months)\n",
    "        self.teaserMonths = teaserMonths\n",
    "        self.teaserRate = teaserRate\n",
    "        self.nextRate = r/12.0\n",
    "        self.legend =(str(teaserRate*100)\n",
    "                      + '% for ' + str(self.teaserMonths)\n",
    "                      + ' months, then ' + str(r*100) + '%')\n",
    "    def makePayment(self):\n",
    "        if len(self.paid) == self.teaserMonths + 1:\n",
    "            self.rate = self.nextRate\n",
    "            self.payment = findPayment(self.owed[-1], self.rate,\n",
    "                                       self.months - self.teaserMonths)\n",
    "        Mortgage.makePayment(self)"
   ]
  },
  {
   "cell_type": "markdown",
   "metadata": {},
   "source": [
    "Figure 8.11 contains a function that computes and prints the total cost of eachkind of mortgage for a sample set of parameters"
   ]
  },
  {
   "cell_type": "code",
   "execution_count": null,
   "metadata": {},
   "outputs": [],
   "source": [
    "def compareMortgages(amt, years, fixedRate, pts, ptsRate,\n",
    "                     varRate1, varRate2, varMonths):\n",
    "    totMonths = years*12\n",
    "    fixed1 = Fixed(amt, fixedRate, totMonths)\n",
    "    fixed2 = FixedWithPts(amt, ptsRate, totMonths, pts)\n",
    "    twoRate = TwoRate(amt, varRate2, totMonths, varRate1, varMonths)\n",
    "    morts = [fixed1, fixed2, twoRate]\n",
    "    for m in range(totMonths):\n",
    "        for mort in morts:\n",
    "            mort.makePayment()\n",
    "    for m in morts:\n",
    "        print('\\n',m)\n",
    "        print(' Total payments = $' + str(int(m.getTotalPaid())))\n",
    "\n",
    "compareMortgages(amt=200000, years=30, fixedRate=0.07,\n",
    "                 pts = 3.25, ptsRate=0.05, varRate1=0.045,\n",
    "                 varRate2=0.095, varMonths=48)\n",
    "\n"
   ]
  },
  {
   "cell_type": "markdown",
   "metadata": {},
   "source": [
    "This suggests that rather than looking at a single number, we should look at payments over time. This in turn suggests that our program should be producing plots designed to show <b>how the mortgage behaves over time</b>"
   ]
  },
  {
   "cell_type": "markdown",
   "metadata": {},
   "source": [
    "## Reference\n",
    "\n",
    "[Python Object Oriented Programming (OOP)](http://www3.ntu.edu.sg/home/ehchua/programming/webprogramming/Python1a_OOP.html)"
   ]
  },
  {
   "cell_type": "code",
   "execution_count": null,
   "metadata": {},
   "outputs": [],
   "source": []
  }
 ],
 "metadata": {
  "kernelspec": {
   "display_name": "Python 3",
   "language": "python",
   "name": "python3"
  },
  "language_info": {
   "codemirror_mode": {
    "name": "ipython",
    "version": 3
   },
   "file_extension": ".py",
   "mimetype": "text/x-python",
   "name": "python",
   "nbconvert_exporter": "python",
   "pygments_lexer": "ipython3",
   "version": "3.7.2"
  },
  "toc": {
   "base_numbering": 1,
   "nav_menu": {},
   "number_sections": false,
   "sideBar": true,
   "skip_h1_title": false,
   "title_cell": "Table of Contents",
   "title_sidebar": "Contents",
   "toc_cell": false,
   "toc_position": {},
   "toc_section_display": true,
   "toc_window_display": true
  },
  "widgets": {
   "state": {},
   "version": "1.1.2"
  }
 },
 "nbformat": 4,
 "nbformat_minor": 1
}
