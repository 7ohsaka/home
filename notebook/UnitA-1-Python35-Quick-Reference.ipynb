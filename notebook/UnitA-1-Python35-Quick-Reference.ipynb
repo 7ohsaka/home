{
 "cells": [
  {
   "cell_type": "markdown",
   "metadata": {},
   "source": [
    "# Python 3.5 Quick Reference\n",
    "\n",
    "## Common operations on numerical types\n",
    "\n",
    "```python\n",
    "i+j is the sum of i and j.\n",
    "i–j is i minus j.\n",
    "i*j is the product of i and j.\n",
    "i//j is integer division.\n",
    "i/j is floating point division.\n",
    "i%j is the remainder when the int i is divided by the int j.\n",
    "i**j is i raised to the power j.\n",
    "x += y is equivalent to x = x + y. *= and -= work the same way.\n",
    "```\n",
    "Please to try `Common operations on numerical types` in the next cell:"
   ]
  },
  {
   "cell_type": "code",
   "execution_count": 3,
   "metadata": {},
   "outputs": [
    {
     "data": {
      "text/plain": [
       "0.6666666666666666"
      ]
     },
     "execution_count": 3,
     "metadata": {},
     "output_type": "execute_result"
    }
   ],
   "source": [
    "i=2\n",
    "j=3\n",
    "i/j"
   ]
  },
  {
   "cell_type": "markdown",
   "metadata": {},
   "source": [
    "## Comparison and Boolean operators\n",
    "\n",
    "```python\n",
    "x == y returns True if x and y are equal.\n",
    "x != y returns True if x and y are not equal.\n",
    "<, >, <=, >= have their usual meanings.\n",
    "a and b is True if both a and b are True, and False otherwise.\n",
    "a or b is True if at least one of a or b is True, and False otherwise.\n",
    "not a is True if a is False, and False if a is True.\n",
    "```\n",
    "\n",
    "Please to try `Comparison and Boolean operators` in the next cell:"
   ]
  },
  {
   "cell_type": "code",
   "execution_count": 2,
   "metadata": {},
   "outputs": [
    {
     "data": {
      "text/plain": [
       "False"
      ]
     },
     "execution_count": 2,
     "metadata": {},
     "output_type": "execute_result"
    }
   ],
   "source": [
    "x=2\n",
    "y=4.5\n",
    "x==y"
   ]
  },
  {
   "cell_type": "markdown",
   "metadata": {},
   "source": [
    "## Common operations on sequence types\n",
    "\n",
    "```python\n",
    "seq[i] returns the ith element in the sequence.\n",
    "len(seq) returns the length of the sequence.\n",
    "seq1 + seq2 concatenates the two sequences. (Not available for ranges.)\n",
    "n*seq returns a sequence that repeats seq n times. (Not available for ranges.)\n",
    "seq[start:end] returns a slice of the sequence.\n",
    "e in seq tests whether e is contained in the sequence.\n",
    "e not in seq tests whether e is not contained in the sequence.\n",
    "for e in seq iterates over the elements of the sequence.\n",
    "```\n",
    "Please to try `Common operations on sequence types` in the next cell:"
   ]
  },
  {
   "cell_type": "code",
   "execution_count": 5,
   "metadata": {},
   "outputs": [
    {
     "data": {
      "text/plain": [
       "8"
      ]
     },
     "execution_count": 5,
     "metadata": {},
     "output_type": "execute_result"
    }
   ],
   "source": [
    "seq=[3,7,8]\n",
    "seq[2]"
   ]
  },
  {
   "cell_type": "markdown",
   "metadata": {},
   "source": [
    "## Common string methods\n",
    "\n",
    "```python\n",
    "s.count(s1) counts how many times the string s1 occurs in s.\n",
    "s.find(s1) returns the index of the first occurrence of the substring s1 in s; returns -1 if\n",
    "s1 is not in s.\n",
    "s.rfind(s1) same as find, but starts from the end of s.\n",
    "s.index(s1) same as find, but raises an exception if s1 is not in s.\n",
    "s.rindex(s1) same as index, but starts from the end of s.\n",
    "s.lower() converts all uppercase letters to lowercase.\n",
    "s.replace(old, new) replaces all occurrences of string old with string new.\n",
    "s.rstrip() removes trailing white space.\n",
    "s.split(d) Splits s using d as a delimiter. Returns a list of substrings of s.\n",
    "```\n",
    "Please to try `Common string methods` in the next cell:"
   ]
  },
  {
   "cell_type": "code",
   "execution_count": 6,
   "metadata": {},
   "outputs": [
    {
     "data": {
      "text/plain": [
       "3"
      ]
     },
     "execution_count": 6,
     "metadata": {},
     "output_type": "execute_result"
    }
   ],
   "source": [
    "s=\"Common string methods\"\n",
    "s1=\"m\"\n",
    "s.count(s1)\n"
   ]
  },
  {
   "cell_type": "markdown",
   "metadata": {},
   "source": [
    "## Common list methods\n",
    "\n",
    "```python\n",
    "L.append(e) adds the object e to the end of L.\n",
    "L.count(e) returns the number of times that e occurs in L.\n",
    "L.insert(i, e) inserts the object e into L at index i.\n",
    "L.extend(L1) appends the items in list L1 to the end of L.\n",
    "L.remove(e) deletes the first occurrence of e from L.\n",
    "L.index(e) returns the index of the first occurrence of e in L. Raises ValueError if e not\n",
    "in L.\n",
    "L.pop(i) removes and returns the item at index i; i defaults to -1. Raises IndexError if L\n",
    "is empty.\n",
    "L.sort() has the side effect of sorting the elements of L.\n",
    "L.reverse() has the side effect of reversing the order of the elements in L.\n",
    "```\n",
    "\n",
    "Please to try `Commonlist methods` in the next cell:"
   ]
  },
  {
   "cell_type": "code",
   "execution_count": 8,
   "metadata": {},
   "outputs": [
    {
     "data": {
      "text/plain": [
       "[5, 'a', 9, 10]"
      ]
     },
     "execution_count": 8,
     "metadata": {},
     "output_type": "execute_result"
    }
   ],
   "source": [
    "L=[5,'a',9]\n",
    "e=10\n",
    "L.append(e)\n",
    "L"
   ]
  },
  {
   "cell_type": "markdown",
   "metadata": {},
   "source": [
    "## Common operations on dictionaries\n",
    "\n",
    "```python\n",
    "len(d) returns the number of items in d.\n",
    "d.keys() returns a view of the keys in d.\n",
    "d.values() returns a view of the values in d.\n",
    "k in d returns True if key k is in d.\n",
    "d[k] returns the item in d with key k. Raises KeyError if k is not in d.\n",
    "d.get(k, v) returns d[k] if k in d, and v otherwise.\n",
    "d[k] = v associates the value v with the key k. If there is already a value associated\n",
    "with k, that value is replaced.\n",
    "del d[k] removes element with key k from d. Raises KeyError if k is not in d.\n",
    "for k in d iterates over the keys in d.\n",
    "```\n",
    "\n",
    "Please to try `Common operations on dictionaries` in the next cell"
   ]
  },
  {
   "cell_type": "code",
   "execution_count": 11,
   "metadata": {},
   "outputs": [
    {
     "data": {
      "text/plain": [
       "2"
      ]
     },
     "execution_count": 11,
     "metadata": {},
     "output_type": "execute_result"
    }
   ],
   "source": [
    "d={'a':34,'b':45}\n",
    "len(d)"
   ]
  },
  {
   "cell_type": "markdown",
   "metadata": {},
   "source": [
    "## Common input/output mechanisms\n",
    "\n",
    "```python\n",
    "input(msg) prints msg and then returns the value entered as a string.\n",
    "print(s1, …, sn) prints strings s1, …, sn separated by spaces.\n",
    "open('fileName', 'w') creates a file for writing.\n",
    "open('fileName', 'r') opens an existing file for reading.\n",
    "open('fileName', 'a') opens an existing file for appending.\n",
    "fileHandle.read() returns a string containing contents of the file.\n",
    "fileHandle.readline() returns the next line in the file.\n",
    "fileHandle.readlines() returns a list containing lines of the file.\n",
    "fileHandle.write(s) write the string s to the end of the file.\n",
    "fileHandle.writelines(L) writes each element of L to the file as a separate line.\n",
    "fileHandle.close() closes the file.\n",
    "```\n",
    "\n",
    "Please to try `Common input/output mechanisms` in the next cell"
   ]
  },
  {
   "cell_type": "code",
   "execution_count": 15,
   "metadata": {},
   "outputs": [
    {
     "name": "stdout",
     "output_type": "stream",
     "text": [
      "Please input:ddf\n",
      "ddf\n"
     ]
    },
    {
     "data": {
      "text/plain": [
       "str"
      ]
     },
     "execution_count": 15,
     "metadata": {},
     "output_type": "execute_result"
    }
   ],
   "source": [
    "a=input('Please input:')\n",
    "print(a)\n",
    "type(a)"
   ]
  }
 ],
 "metadata": {
  "kernelspec": {
   "display_name": "Python 3",
   "language": "python",
   "name": "python3"
  },
  "language_info": {
   "codemirror_mode": {
    "name": "ipython",
    "version": 3
   },
   "file_extension": ".py",
   "mimetype": "text/x-python",
   "name": "python",
   "nbconvert_exporter": "python",
   "pygments_lexer": "ipython3",
   "version": "3.7.2"
  },
  "toc": {
   "base_numbering": 1,
   "nav_menu": {},
   "number_sections": false,
   "sideBar": true,
   "skip_h1_title": false,
   "title_cell": "Table of Contents",
   "title_sidebar": "Contents",
   "toc_cell": false,
   "toc_position": {},
   "toc_section_display": true,
   "toc_window_display": false
  }
 },
 "nbformat": 4,
 "nbformat_minor": 2
}
