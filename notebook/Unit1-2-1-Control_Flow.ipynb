{
 "cells": [
  {
   "cell_type": "markdown",
   "metadata": {},
   "source": [
    "# Control Flow \n",
    "\n",
    "* if, while,for,break continue\n",
    "\n",
    "* Indentation\n",
    "\n",
    "* Coding Styles\n",
    "\n",
    "In the programs we have seen till now, there has always been `a series of statements` faithfully executed by Python in `exact top-down order`.\n",
    "\n",
    "What if you wanted to change `the flow of how it works?` For example, you want the program to take some decisions and do different\n",
    "things depending on different situations, such as printing 'Good Morning' or 'Good Evening' depending on the time of the day?\n",
    "\n",
    "As you might have guessed, this is achieved using` control flow statements`. \n",
    "\n",
    "There are three control flow statements in Python - `if , for and while` ."
   ]
  },
  {
   "cell_type": "markdown",
   "metadata": {},
   "source": [
    "## 1 Branching Programs: `if`\n",
    "\n",
    "Branching programs are more interesting. The simplest branching statement is a conditional. As shown in the boxed-in part of the folloewing Figure 2.3, a conditional statement has three parts:\n",
    "\n",
    "* `a test`, i.e., an expression that evaluates to either True or False;\n",
    "\n",
    "* `a block of code` that is executed if the test evaluates to `True`; \n",
    "\n",
    "* `an optional block of code` that is executed if the test evaluates to `False`.\n",
    "\n",
    "![if-else](./img/if-else.jpg)\n",
    "\n",
    "After a conditional statement is executed, execution resumes at the code following the statement.\n",
    "\n",
    "In Python, a <b style=\"color:blue\">conditional statement</b> has the form\n",
    "```python\n",
    "if Boolean expression:\n",
    "    block of code\n",
    "else:\n",
    "    block of code\n",
    "```\n",
    "or \n",
    "\n",
    "```python\n",
    "if Boolean expression:\n",
    "   block of code\n",
    "```"
   ]
  },
  {
   "cell_type": "code",
   "execution_count": null,
   "metadata": {},
   "outputs": [],
   "source": [
    "x=12\n",
    "# the following program that prints “Even” if the value of the variable x is even \n",
    "# and “Odd” otherwise:\n",
    "if x % 2 == 0:\n",
    "    print('Even')\n",
    "    print(x)\n",
    "    print(x%2)\n",
    "else:\n",
    "    print('Odd')"
   ]
  },
  {
   "cell_type": "code",
   "execution_count": null,
   "metadata": {},
   "outputs": [],
   "source": [
    "x=12\n",
    "# the following program that prints “Even” if the value of the variable x is even \n",
    "# and “Odd” otherwise:\n",
    "if x % 2 == 0:\n",
    "    print('Even')\n",
    "print(x)\n",
    "    print(x%2)\n",
    "else:\n",
    "    print('Odd')"
   ]
  },
  {
   "cell_type": "markdown",
   "metadata": {},
   "source": [
    "### <b style=\"color:blue\">Indentation</b> \n",
    " \n",
    "Python is unusual in using <b style=\"color:blue\">indentation </b>this way:\n",
    " \n",
    "* <b style=\"color:blue\">Indentation</b> is semantically meaningful in Python: <b style=\"color:blue\">delineate blocks of code</b>\n",
    "    \n",
    "Most other programming languages use some sort of **bracketing symbols** to delineate blocks of code, e.g.,\n",
    "<b style=\"color:blue\">C encloses blocks in braces, { }</b>. \n",
    "\n",
    "An advantage of the Python approach is that it ensures that the **visual structure** of a program is an **accurate** representation of the semantic structure of that program.\n",
    "\n",
    "* **The example C++ code with GCC** http://nbviewer.jupyter.org/github/PySEE/home/blob/S2019/notebook/Unit8-2-GCC_DLL.ipynb"
   ]
  },
  {
   "cell_type": "code",
   "execution_count": null,
   "metadata": {},
   "outputs": [],
   "source": [
    "if(boolean_expression)\n",
    "{\n",
    "   // block of code\n",
    "}\n",
    "else\n",
    "{\n",
    "   block of code\n",
    "}"
   ]
  },
  {
   "cell_type": "code",
   "execution_count": null,
   "metadata": {},
   "outputs": [],
   "source": [
    "%%file ./code/gcc/cppdemo.cpp\n",
    "#include <iostream>\n",
    "using namespace std;\n",
    " \n",
    "int main()\n",
    "{\n",
    "   int x = 12;\n",
    "   if( x % 2==0 )\n",
    "   {\n",
    "       cout << \"Even\" <<endl; \n",
    "       cout <<x<<endl; \n",
    "       cout <<x%2<<endl; \n",
    "   }\n",
    "   else\n",
    "   { \n",
    "       cout << \"Odd\" << endl;\n",
    "   };\n",
    "   return 0;\n",
    "}"
   ]
  },
  {
   "cell_type": "markdown",
   "metadata": {},
   "source": [
    "The braces specify what statements are executed in the `if` case. It is considered good style to indent your code to agree with the brace structure, `but it is not required`. \n",
    "\n",
    "In addition, the `semicolons` are used to indicate the end of a statement, independent of the locations of the line breaks in the file. So, the following code fragment has the same meaning as the previous one, although it is `much harder to read and understand`. "
   ]
  },
  {
   "cell_type": "code",
   "execution_count": null,
   "metadata": {},
   "outputs": [],
   "source": [
    "%%file ./code/gcc/cppdemo.cpp\n",
    "#include <iostream>\n",
    "using namespace std;\n",
    " \n",
    "int main()\n",
    "{\n",
    "   int x = 12;\n",
    "   if( x % 2==0 )\n",
    "   {\n",
    "cout << \"Even\" <<endl; \n",
    "       cout <<x<<endl; \n",
    "    cout <<x%2<<endl; \n",
    "   }\n",
    "else\n",
    "   { \n",
    " cout << \"Odd\" << endl;\n",
    "   };\n",
    "   return 0;\n",
    "}"
   ]
  },
  {
   "cell_type": "code",
   "execution_count": null,
   "metadata": {},
   "outputs": [],
   "source": [
    "!g++ -o ./code/gcc/cppdemo ./code/gcc/cppdemo.cpp"
   ]
  },
  {
   "cell_type": "code",
   "execution_count": null,
   "metadata": {},
   "outputs": [],
   "source": [
    "!.\\code\\gcc\\cppdemo"
   ]
  },
  {
   "cell_type": "markdown",
   "metadata": {},
   "source": [
    "In Python, on the other hand, there are no braces for grouping or semicolons for termination. **Indentation indicates grouping** and **line breaks indicate statement termination**. So, in Python, we would write the previous example as "
   ]
  },
  {
   "cell_type": "code",
   "execution_count": null,
   "metadata": {},
   "outputs": [],
   "source": [
    "x=12\n",
    "# the following program that prints “Even” if the value of the variable x is even \n",
    "# and “Odd” otherwise:\n",
    "if x % 2 == 0:\n",
    "    print('Even')\n",
    "    print(x)\n",
    "    print(x%2)\n",
    "else:\n",
    "    print('Odd')"
   ]
  },
  {
   "cell_type": "code",
   "execution_count": null,
   "metadata": {},
   "outputs": [],
   "source": [
    "x=12\n",
    "# the following program that prints “Even” if the value of the variable x is even \n",
    "# and “Odd” otherwise:\n",
    "if x % 2 == 0:\n",
    "    print('Even')\n",
    "print(x)\n",
    "    print(x%2)\n",
    "else:\n",
    "    print('Odd')"
   ]
  },
  {
   "cell_type": "markdown",
   "metadata": {},
   "source": [
    "### Nested conditionals\n",
    "\n",
    "When either the true block or the false block of a conditional contains `another` conditional, the conditional statements are said to be **nested**. In the code below, there are nested conditionals in both branches of the top-level `if` statement"
   ]
  },
  {
   "cell_type": "code",
   "execution_count": null,
   "metadata": {},
   "outputs": [],
   "source": [
    "#x=2*3*7\n",
    "\n",
    "#x=2*7\n",
    "\n",
    "x=3*7\n",
    "\n",
    "# the conditional statements are nested.\n",
    "if x % 2 == 0:\n",
    "   \n",
    "    if x % 3 == 0:\n",
    "        print('Divisible by 2 and 3')\n",
    "    else:\n",
    "        print('Divisible by 2 and not by 3')\n",
    "        \n",
    "elif x % 3 == 0:    # elif : else  if\n",
    "    print('Divisible by 3 and not by 2')"
   ]
  },
  {
   "cell_type": "markdown",
   "metadata": {},
   "source": [
    "**NOTE:** The `elif` in the above code stands for  `else if`."
   ]
  },
  {
   "cell_type": "markdown",
   "metadata": {},
   "source": [
    "It is often convenient to use `a compound Boolean expression` in the test of a conditional, for example,"
   ]
  },
  {
   "cell_type": "code",
   "execution_count": null,
   "metadata": {},
   "outputs": [],
   "source": [
    "x=1\n",
    "y=10\n",
    "z=87\n",
    "if x < y and x < z:  # compound Boolean expressions \n",
    "    print('x is least')\n",
    "elif y < z:\n",
    "    print('y is least')\n",
    "else:\n",
    "    print('z is least')"
   ]
  },
  {
   "cell_type": "markdown",
   "metadata": {},
   "source": [
    "\n",
    "## 2 Conditional Iteration：The while loop\n",
    "\n",
    "When we want a program to do the same thing many times, we can use iteration\n",
    "\n",
    "A generic iteration (also called looping) mechanism is shown in the boxed-in part of the following. \n",
    "\n",
    "![while](./img/while.jpg)\n",
    "\n",
    "Like a conditional statement, it begins with a test. If the test evaluates to True, the program executes the loop body once, and then goes back to reevaluate the test. This process is repeated until the test evaluates to False, after which control passes to the code following the iteration statement.\n",
    "\n",
    "```python\n",
    "\n",
    "initial value  # ！！！\n",
    "while Boolean expression:\n",
    "      block of code\n",
    "```\n"
   ]
  },
  {
   "cell_type": "code",
   "execution_count": 1,
   "metadata": {},
   "outputs": [
    {
     "name": "stdout",
     "output_type": "stream",
     "text": [
      "3*3 = 9\n"
     ]
    }
   ],
   "source": [
    "# Square an integer, the hard way X**2\n",
    "x = 3  \n",
    "ans = 0   \n",
    "itersLeft = x      # initial value ：X\n",
    "\n",
    "while (itersLeft != 0):\n",
    "    ans = ans + x  # x**2  to repetitive +\n",
    "    itersLeft = itersLeft - 1  \n",
    "\n",
    "print(str(x) + '*' + str(x) + ' = ' + str(ans))"
   ]
  },
  {
   "cell_type": "markdown",
   "metadata": {},
   "source": [
    "It is sometimes convenient to exit a loop without testing the loop condition. Executing a `break` statement terminates the loop in which it is contained, and transfers control to the code immediately following the loop.\n",
    "\n",
    "For example, the code of `Find a positive integer that is divisible by both 11 and 12`\n"
   ]
  },
  {
   "cell_type": "code",
   "execution_count": null,
   "metadata": {},
   "outputs": [],
   "source": [
    "#Find a positive integer that is divisible by both 11 and 12\n",
    "x = 1\n",
    "while True:\n",
    "    if x%11 == 0 and x%12 == 0:\n",
    "        break\n",
    "    x = x + 1\n",
    "print(x, 'is divisible by 11 and 12')"
   ]
  },
  {
   "cell_type": "markdown",
   "metadata": {},
   "source": [
    "### Loop Logic,Error and Testing\n",
    "\n",
    "The `while` loop is typically the **condition-control** loop\n",
    "\n",
    "The careful design and testing is needed.\n",
    "\n",
    "* initialized control variable\n",
    "\n",
    "* update the control variable with loop\n",
    "\n",
    "* test the continuation condition\n",
    "\n",
    "If the continuation contidition is already available for examination at **loop entry**,check it and provide test data that prodece 0,1,and at least 5 iterations.\n"
   ]
  },
  {
   "cell_type": "markdown",
   "metadata": {},
   "source": [
    "#### Example:  Exhaustive Enumeration\n",
    "\n",
    "The following code \n",
    "\n",
    "* prints `the integer cube root`, if it exists, of an integer. \n",
    "\n",
    "* If the input is not a perfect cube, it prints a message to that effect"
   ]
  },
  {
   "cell_type": "code",
   "execution_count": 4,
   "metadata": {},
   "outputs": [
    {
     "name": "stdout",
     "output_type": "stream",
     "text": [
      "Cube root of 8 is 2\n"
     ]
    }
   ],
   "source": [
    "#Find the cube root of a perfect cube\n",
    "#x=19\n",
    "x=8\n",
    "#x=-8\n",
    "ans = 0   #  ！！！\n",
    "while ans**3 < abs(x):\n",
    "    ans = ans + 1  # +1  Exhaustive Enumeration\n",
    "if ans**3 != abs(x):\n",
    "    print(x, 'is not a perfect cube')\n",
    "else:\n",
    "    if x < 0:\n",
    "        ans = -ans\n",
    "    print('Cube root of', x,'is', ans)"
   ]
  },
  {
   "cell_type": "markdown",
   "metadata": {},
   "source": [
    "The algorithmic technique used in this program is a variant of <b>guess and check</b> called<b>  exhaustive enumeration</b>. \n",
    "\n",
    "* We enumerate **all possibilities** until we get to the right answer or exhaust the space of possibilities. \n",
    "\n",
    "At first blush, this may seem like an incredibly stupid way to solve a problem.\n",
    "\n",
    "Surprisingly, however, exhaustive enumeration algorithms are often `the most practical way` to solve a problem. \n",
    "\n",
    "They are typically easy to implement and easy to understand. And, in many cases, they run fast enough for all practical purposes.\n",
    "\n",
    "**Modern computers are amazingly fast.**"
   ]
  },
  {
   "cell_type": "markdown",
   "metadata": {},
   "source": [
    "Now, let’s insert some <b  style=\"color:red\">errors</b> and see what happens\n",
    "\n",
    "<b  style=\"color:blue\">1: change initialized control variable: ans =16</b>. \n"
   ]
  },
  {
   "cell_type": "code",
   "execution_count": 5,
   "metadata": {},
   "outputs": [
    {
     "name": "stdout",
     "output_type": "stream",
     "text": [
      "-8 is not a perfect cube\n"
     ]
    }
   ],
   "source": [
    "x=-8\n",
    "ans =16   #  error: initialized control variable\n",
    "while ans**3 < abs(x):\n",
    "    ans = ans + 1  # \n",
    "\n",
    "if ans**3 != abs(x):\n",
    "    print(x, 'is not a perfect cube')\n",
    "else:\n",
    "    if x < 0:\n",
    "        ans = -ans\n",
    "    print('Cube root of', x,'is', ans)"
   ]
  },
  {
   "cell_type": "code",
   "execution_count": 2,
   "metadata": {},
   "outputs": [
    {
     "name": "stdout",
     "output_type": "stream",
     "text": [
      "-8 is not a perfect cube\n"
     ]
    }
   ],
   "source": [
    "!python ./code/python/ch3_cube_root.py"
   ]
  },
  {
   "cell_type": "markdown",
   "metadata": {},
   "source": [
    "<b style=\"color:blue\">2 replace the statement `ans = ans + 1` by `ans = ans`</b>\n",
    "\n",
    "if one forget to update the control variable,the result is an infinite loop.\n",
    "\n",
    "To halt a loop thar appears to be hung,type **Ctrl+c** (hold down the control key and the c key simultaneously). This will return you to the user prompt in the shell.\n"
   ]
  },
  {
   "cell_type": "code",
   "execution_count": 10,
   "metadata": {},
   "outputs": [
    {
     "name": "stdout",
     "output_type": "stream",
     "text": [
      "Overwriting ./code/python/cube_root.py\n"
     ]
    }
   ],
   "source": [
    "%%file ./code/python/cube_root.py\n",
    "#  running use IDEL: tired of waiting\n",
    "x=8\n",
    "ans = 0  \n",
    "while ans**3 < abs(x):\n",
    "    ans = ans  # replace the statement ans = ans + 1 by ans = ans \n",
    "    # ans = ans + 1\n",
    "\n",
    "if ans**3 != abs(x):\n",
    "    print(x, 'is not a perfect cube')\n",
    "else:\n",
    "    if x < 0:\n",
    "        ans = -ans\n",
    "    print('Cube root of', x,'is', ans)"
   ]
  },
  {
   "cell_type": "markdown",
   "metadata": {},
   "source": [
    "Try finding the cube root of 8(running use IDEL),\n",
    "\n",
    "After you get **tired of waiting**, enter <b style=\"color:red\">“control+c”</b> (hold down the control key and the c key simultaneously). \n",
    "\n",
    "This will return you to the user prompt in the shell.\n",
    "![cube_root](./img/cube_root.jpg)"
   ]
  },
  {
   "cell_type": "markdown",
   "metadata": {},
   "source": [
    " <b style=\"color:blue\">3 replace the continuation condition statement `ans**3 < abs(x)` by `ans**2 < abs(x)`</b>"
   ]
  },
  {
   "cell_type": "code",
   "execution_count": 14,
   "metadata": {},
   "outputs": [
    {
     "name": "stdout",
     "output_type": "stream",
     "text": [
      "8 is not a perfect cube\n"
     ]
    }
   ],
   "source": [
    "x=8\n",
    "ans = 0  \n",
    "while ans**2 < abs(x):\n",
    "      ans = ans + 1\n",
    "\n",
    "if ans**3 != abs(x):\n",
    "    print(x, 'is not a perfect cube')\n",
    "else:\n",
    "    if x < 0:\n",
    "        ans = -ans\n",
    "    print('Cube root of', x,'is', ans)"
   ]
  },
  {
   "cell_type": "markdown",
   "metadata": {},
   "source": [
    "#### Debug while loop\n",
    "\n",
    "If a while loop seems <b style=\"color:blue\">not to be terminating</b> or <b style=\"color:blue\"> to be terminated incorrectly</b>\n",
    "\n",
    "Insert <strong  style=\"color:blue\">print</strong> statements to test the  <b style=\"color:blue\"> control variable and the continuation condition</b>\n"
   ]
  },
  {
   "cell_type": "code",
   "execution_count": 16,
   "metadata": {},
   "outputs": [
    {
     "name": "stdout",
     "output_type": "stream",
     "text": [
      "the control variable: 0\n",
      "the continuation condition: 8\n",
      "the control variable: 2\n",
      "the continuation condition: 4\n",
      "8 is not a perfect cube\n"
     ]
    }
   ],
   "source": [
    "x=8\n",
    "ans = 0  \n",
    "while ans**2 < abs(x):\n",
    "    print('the control variable:',ans)\n",
    "    print('the continuation condition:',\n",
    "          abs(x) - ans**2)\n",
    "    ans = ans + 2\n",
    "\n",
    "if ans**3 != abs(x):\n",
    "    print(x, 'is not a perfect cube')\n",
    "else:\n",
    "    if x < 0:\n",
    "        ans = -ans\n",
    "    print('Cube root of', x,'is', ans)"
   ]
  },
  {
   "cell_type": "markdown",
   "metadata": {},
   "source": [
    "### Line Continuation. \n",
    "\n",
    "```\n",
    " print('the continuation condition:',\n",
    "          abs(x) - ans**3)\n",
    "```\n",
    "* Python's `implicit` line joining inside `parentheses, brackets and braces`.\n",
    "\n",
    "\n",
    "* `\\` continuation. \n",
    "\n",
    "\n",
    "\n",
    "#### Implicit line joining inside parentheses, brackets and braces"
   ]
  },
  {
   "cell_type": "code",
   "execution_count": null,
   "metadata": {},
   "outputs": [],
   "source": [
    "a = ('1' + '2' + '3' +\n",
    "     '4' + '5' + '6'  )\n",
    "a"
   ]
  },
  {
   "cell_type": "code",
   "execution_count": null,
   "metadata": {},
   "outputs": [],
   "source": [
    "a=['1' + '2' + '3' +\n",
    "     '4' + '5' + '6'  ]\n",
    "a"
   ]
  },
  {
   "cell_type": "code",
   "execution_count": null,
   "metadata": {},
   "outputs": [],
   "source": [
    "a={'1' + '2' + '3' +\n",
    "    '4' + '5' + '6'\n",
    "  }\n",
    "a"
   ]
  },
  {
   "cell_type": "markdown",
   "metadata": {},
   "source": [
    "#### `\\` continuation "
   ]
  },
  {
   "cell_type": "code",
   "execution_count": null,
   "metadata": {},
   "outputs": [],
   "source": [
    "a = '1' + '2' + '3' +  '4' + '5' +'6'\n",
    "a"
   ]
  },
  {
   "cell_type": "code",
   "execution_count": null,
   "metadata": {},
   "outputs": [],
   "source": [
    "a = '1' + '2' + '3' +  \\\n",
    "    '4' + '5' + '6'\n",
    "a"
   ]
  },
  {
   "cell_type": "markdown",
   "metadata": {},
   "source": [
    "## 3 For Loops\n",
    "\n",
    "Python provides a language mechanism, the <b>for</b> loop,that can be used to simplify programs containing this kind of iteration: Each iterates over a sequence of integers.\n",
    "\n",
    "The general form of a for statement is :\n",
    "```python\n",
    "for variable in sequence:\n",
    "    code block\n",
    "```\n",
    "\n",
    "The process continues until the `sequence is exhausted` or a <b style=\"color:blue\">break</b> statement is executed within the code block.\n",
    "\n",
    "The sequence of values bound to variable is most commonly generated using the sequence type <b style=\"color:blue\">Range</b>, which returns a sequence containing an arithmetic progression.\n",
    "\n",
    "### 3.1 Range type\n",
    "\n",
    "https://docs.python.org/3/library/stdtypes.html#ranges\n",
    "\n",
    "The range type represents `an immutable sequence of numbers` and is commonly used for looping a specific number of times in `for loops.`\n",
    "\n",
    "The `range` type may takes one,two or three integer arguments: \n",
    "\n",
    "```python\n",
    "range(stop)\n",
    "range(start, stop)\n",
    "range(start, stop[, step])\n",
    "```\n",
    "* start: The value of the start parameter (or 0 if the parameter was not supplied)\n",
    "\n",
    "* stop: The value of the stop parameter\n",
    "\n",
    "* step: The value of the step parameter (or 1 if the parameter was not supplied)\n",
    "\n",
    "```python\n",
    "range(start,stop,step)\n",
    "```\n",
    "* It produces the progression `start, start + step, start + 2*step`, etc.\n",
    "\n",
    "```python\n",
    "range(5,40,10) -> [5,15,25,35]\n",
    "```\n",
    "* If step is `negative`, the last element is the smallest integer `start + i*step` greater than stop.\n",
    "\n",
    "```python\n",
    "range(40,5,-10)-> [40,30,20,10]\n",
    "```"
   ]
  },
  {
   "cell_type": "code",
   "execution_count": 11,
   "metadata": {},
   "outputs": [
    {
     "name": "stdout",
     "output_type": "stream",
     "text": [
      "range(5,40,10)\n",
      "5 15 25 35 \n",
      "range(40,5,-10)\n",
      "40 30 20 10 "
     ]
    }
   ],
   "source": [
    "print(\"range(5,40,10)\")\n",
    "for i in range(5,40,10):\n",
    "    print(i,end=\" \")\n",
    "print(\"\\nrange(40,5,-10)\")\n",
    "for i in range(40,5,-10):\n",
    "    print(i,end=\" \") "
   ]
  },
  {
   "cell_type": "markdown",
   "metadata": {},
   "source": [
    "If the first argument `start` is omitted it defaults to 0, \n",
    "\n",
    "If the last argument (the `step` size) is omitted it defaults to 1.\n",
    "\n",
    "```python\n",
    " range(4)-> range(0, 4)->range(0, 4,1) ->[0, 1, 2,3]\n",
    "```\n",
    "\n",
    "```python\n",
    " range(4,10)-> range(4,10,1)->[4 5 6 7 8 9]\n",
    " \n",
    "```"
   ]
  },
  {
   "cell_type": "code",
   "execution_count": 13,
   "metadata": {},
   "outputs": [
    {
     "name": "stdout",
     "output_type": "stream",
     "text": [
      "range(4)\n",
      "0 1 2 3 \n",
      "range(4,10)\n",
      "4 5 6 7 8 9 "
     ]
    }
   ],
   "source": [
    "print(\"range(4)\")\n",
    "for i in range(4):\n",
    "    print(i,end=\" \")\n",
    "print(\"\\nrange(4,10)\")\n",
    "for i in range(4,10):\n",
    "    print(i,end=\" \") "
   ]
  },
  {
   "cell_type": "markdown",
   "metadata": {},
   "source": [
    "It raises the question of whether changing **the value of x inside the loop** affects the number of iterations. \n",
    "\n",
    "It does not. The arguments to the `range` function in the line with for are evaluated just before the `first iteration of the loo`p, and not reevaluated for subsequent iterations.\n",
    "\n",
    "\n",
    "To see how this works, consider"
   ]
  },
  {
   "cell_type": "code",
   "execution_count": null,
   "metadata": {},
   "outputs": [],
   "source": [
    "x = 4\n",
    "for j in range(x):\n",
    "    print('j: ',j)\n",
    "    for i in range(x):  # inner loop\n",
    "        print('\\t i: ',i)\n",
    "        x=2   # evaluated each time  "
   ]
  },
  {
   "cell_type": "markdown",
   "metadata": {},
   "source": [
    "because the `range` function in the outer loop is evaluated only once, but the `range` function in the **inner loop** is `evaluated each time` the inner for statement is reached"
   ]
  },
  {
   "cell_type": "code",
   "execution_count": null,
   "metadata": {},
   "outputs": [],
   "source": [
    "x = 4\n",
    "for j in range(x):\n",
    "    \n",
    "    print('j: ',j)\n",
    "    \n",
    "    for i in range(x):  # inner loop\n",
    "        print(i)\n",
    "    \n",
    "    x=2 # change  x=2"
   ]
  },
  {
   "cell_type": "markdown",
   "metadata": {},
   "source": [
    "### 3.2 Iterate over characters of a string\n",
    "\n",
    "The `for` statement can be used in conjunction with the in operator to conveniently `iterate over characters of a string`. For example,"
   ]
  },
  {
   "cell_type": "code",
   "execution_count": null,
   "metadata": {},
   "outputs": [],
   "source": [
    "total = 0\n",
    "for char in '123456789':\n",
    "    total = total + int(char)\n",
    "print(total)"
   ]
  },
  {
   "cell_type": "markdown",
   "metadata": {},
   "source": [
    "sums the digits in the string denoted by the literal `'12345678`' and prints the total"
   ]
  },
  {
   "cell_type": "markdown",
   "metadata": {},
   "source": [
    "## 4 `break` and `continue` Statements\n",
    "\n",
    "\n",
    "### 4.1 The `break` Statement\n",
    "\n",
    "The break statement is used to break out of a loop statement i.e. stop the execution of a looping statement, even if the loop condition has not become False or the sequence of items has not been completely iterated over.\n",
    "\n",
    "An important note is that if you break out of a for or while loop, any corresponding loop else block is not executed.\n",
    "\n",
    "This is exemplified by the following loop, which searches for `prime` numbers:"
   ]
  },
  {
   "cell_type": "code",
   "execution_count": null,
   "metadata": {},
   "outputs": [],
   "source": [
    "while True:\n",
    "    s = input('Enter something : ')\n",
    "    if s == 'quit':\n",
    "        break\n",
    "    print('Length of the string is', len(s))\n",
    "print('Done')"
   ]
  },
  {
   "cell_type": "markdown",
   "metadata": {},
   "source": [
    "### 4.2 The `continue` Statement\n",
    "\n",
    "The `continue` statement is used to tell Python to skip the rest of the statements in the current loop block and to continue to the next iteration of the loop.\n"
   ]
  },
  {
   "cell_type": "code",
   "execution_count": null,
   "metadata": {},
   "outputs": [],
   "source": [
    "for num in range(2, 10):\n",
    "    if num % 2 == 0:\n",
    "        print(\"Found an even number\", num)\n",
    "        continue\n",
    "    # skip the rest of the statements in the current loop block\n",
    "    print(\"Found a number\", num)"
   ]
  },
  {
   "cell_type": "code",
   "execution_count": null,
   "metadata": {},
   "outputs": [],
   "source": [
    "while True:\n",
    "    s = input('Enter something : ')\n",
    "    if s == 'quit':\n",
    "        break\n",
    "    if len(s) < 3:\n",
    "        print('Too small')\n",
    "        continue\n",
    "        # skip the rest of the statements in the current loop block\n",
    "    print('Input is of sufficient length')\n",
    "# Do other kinds of processing here..."
   ]
  },
  {
   "cell_type": "markdown",
   "metadata": {},
   "source": [
    "## 5 Python Developer's Guide，Coding Styles\n",
    "\n",
    "https://www.python.org/dev/\n",
    "\n",
    "**PEP**：Python Enhancement Proposals"
   ]
  },
  {
   "cell_type": "markdown",
   "metadata": {},
   "source": [
    "### 5.1 The Zen of Python ,PEP20 (Python Enhancement Proposals)\n",
    "\n",
    "https://www.python.org/dev/peps/pep-0020/"
   ]
  },
  {
   "cell_type": "code",
   "execution_count": null,
   "metadata": {},
   "outputs": [],
   "source": [
    "# Easter Egg\n",
    "import this"
   ]
  },
  {
   "cell_type": "markdown",
   "metadata": {},
   "source": [
    "### 5.2 Coding convention: PEP8()\n",
    "\n",
    "PEP 8 -- Style Guide for Python Code： https://www.python.org/dev/peps/pep-0008/\n",
    "\n",
    "The recommended styles are:\n",
    "\n",
    "* Use 4 spaces for indentation. Don't use tab.\n",
    "\n",
    "* Lines shall not exceed 79 characters.\n",
    "\n",
    "* Use blank lines to separate functions and classes.\n",
    "\n",
    "* Use a space before and after an operator.\n",
    "\n",
    "​\n",
    "\n",
    "#### Packages about pep8\n",
    "​\n",
    "* `pycodestyle` :the tool to check your Python code against some of the style conventions in PEP 8.\n",
    "​\n",
    "* `autopep8` : the tool that automatically formats Python code to conform to the PEP 8 style guide\n",
    "​\n",
    "**Installation**\n",
    "​\n",
    "```bash\n",
    ">python -m pip install autopep8\n",
    "```\n",
    "​\n",
    "pycodestyle is installed when you install  autopep8\n",
    "\n",
    "##### pycodestyle : usage and output\n",
    "\n",
    "Show **first** occurrence of each error\n",
    "\n",
    "```bash\n",
    ">pycodestyle --first sourcecodefile\n",
    "```"
   ]
  },
  {
   "cell_type": "code",
   "execution_count": null,
   "metadata": {},
   "outputs": [],
   "source": [
    "%%file ./code/python/demo_pep8.py\n",
    "\n",
    "total=0\n",
    "for     char in '123456789':\n",
    "    total=total + int(char)\n",
    "print(total)"
   ]
  },
  {
   "cell_type": "code",
   "execution_count": null,
   "metadata": {},
   "outputs": [],
   "source": [
    "!pycodestyle --first ./code/python/demo_pep8.py"
   ]
  },
  {
   "cell_type": "markdown",
   "metadata": {},
   "source": [
    "You can also make `pycodestyle` show the **source code** for each error, and even the relevant text from PEP 8:"
   ]
  },
  {
   "cell_type": "code",
   "execution_count": null,
   "metadata": {},
   "outputs": [],
   "source": [
    "!pycodestyle --show-source --show-pep8 ./code/python/demo_pep8.py"
   ]
  },
  {
   "cell_type": "markdown",
   "metadata": {},
   "source": [
    "you can display **how often** each error was found:"
   ]
  },
  {
   "cell_type": "code",
   "execution_count": null,
   "metadata": {},
   "outputs": [],
   "source": [
    "!pycodestyle --statistics ./code/python/ch3_cube_root.py"
   ]
  },
  {
   "cell_type": "markdown",
   "metadata": {},
   "source": [
    "#####  autopep8 usage\n",
    "\n",
    "To **modify** the source code file **in place** (with aggressive level 2）："
   ]
  },
  {
   "cell_type": "code",
   "execution_count": null,
   "metadata": {},
   "outputs": [],
   "source": [
    "!autopep8 --in-place --aggressive --aggressive ./code/python/demo_pep8.py"
   ]
  },
  {
   "cell_type": "markdown",
   "metadata": {},
   "source": [
    "###### The modified code by autopep8"
   ]
  },
  {
   "cell_type": "code",
   "execution_count": null,
   "metadata": {},
   "outputs": [],
   "source": [
    "%load ./code/python/demo_pep8.py"
   ]
  },
  {
   "cell_type": "markdown",
   "metadata": {},
   "source": [
    ">**LINE**  magics: `%load`\n",
    ">\n",
    ">   https://ipython.readthedocs.io/en/stable/interactive/magics.html\n",
    ">\n",
    ">Load code into the current frontend.\n",
    ">\n",
    ">Usage:\n",
    ">\n",
    ">```python\n",
    ">%load [options] source\n",
    ">```\n",
    ">where source can be a filename, URL, input history range, macro, or element in the user namespace"
   ]
  },
  {
   "cell_type": "code",
   "execution_count": null,
   "metadata": {},
   "outputs": [],
   "source": [
    "!pycodestyle --first ./code/python/demo_pep8.py"
   ]
  },
  {
   "cell_type": "code",
   "execution_count": null,
   "metadata": {},
   "outputs": [],
   "source": [
    "!pycodestyle --statistics ./code/python/demo_pep8.py"
   ]
  },
  {
   "cell_type": "markdown",
   "metadata": {},
   "source": [
    "##### Using pep8 within Visual Studio Code\n",
    "\n",
    "pep8 is unenabled by default within Visual Studio Code\n",
    "\n",
    "you may setting \n",
    "```json\n",
    " // Whether to lint Python files using pep8\n",
    "  \"python.linting.pep8Enabled\": true,\n",
    "```\n",
    "![autopep8](./img/vscode-pep8.jpg) "
   ]
  },
  {
   "cell_type": "markdown",
   "metadata": {},
   "source": [
    "##### Using pep8 within Jupyter Notebook\n",
    "\n",
    "Jupyter notebook extensions:\n",
    "\n",
    "* https://github.com/ipython-contrib/jupyter_contrib_nbextensions\n",
    "        \n",
    "This repository contains a collection of extensions that add functionality to the Jupyter notebook.\n",
    "\n",
    "* Install the python package\n",
    "\n",
    "```bash\n",
    ">python -m pip install jupyter_contrib_nbextensions\n",
    "```\n",
    "\n",
    "* Install javascript and css files\n",
    "\n",
    "```bash\n",
    ">jupyter contrib nbextension install --user\n",
    "```"
   ]
  },
  {
   "cell_type": "code",
   "execution_count": null,
   "metadata": {},
   "outputs": [],
   "source": [
    "total = 0\n",
    "for     char in '123456789':\n",
    "    total = total + int(char)\n",
    "print(total)"
   ]
  },
  {
   "cell_type": "markdown",
   "metadata": {},
   "source": [
    "### 5.3 Pylint \n",
    "\n",
    "Pylint is a tool that checks for errors in Python code, tries to enforce a coding standard and looks for bad code smells\n",
    "\n",
    "http://www.pylint.org\n",
    "\n",
    "Install\n",
    "```bash\n",
    ">python -m pip install pylint \n",
    "```\n",
    "\n",
    "\n",
    "#### Features\n",
    "\n",
    "* Coding Standard: [Python's PEP8 style guide](https://www.python.org/dev/peps/pep-0008/)\n",
    "\n",
    "* Editor integration:Visual Studio Code   https://code.visualstudio.com/docs/pyhon/linting#_pylint\n",
    "  \n",
    "  * Only **Pylint** is enabled by default\n",
    "\n",
    "```json  \n",
    "// Whether to lint Python files.\n",
    "  \"python.linting.enabled\": true,\n",
    " \n",
    " \n",
    "// Whether to lint Python files using pylint.\n",
    "  \"python.linting.pylintEnabled\": true  \n",
    "\n",
    "```  \n",
    "\n",
    "* UML diagrams: [Pyreverse: UML Diagrams for Python](https://www.logilab.org/blogentry/6883) \n",
    "\n",
    "  * Reference: https://github.com/PySEE/PyRankine/tree/master/step4/UML-STEP4-JSON.md\n",
    "\n",
    "#### Pylint with Visual Studio Code\n",
    "\n",
    "![vscode-pylint](./img/vscode-pylint.jpg)"
   ]
  },
  {
   "cell_type": "markdown",
   "metadata": {},
   "source": [
    "### 5.4 Google Python Style Guide\n",
    "\n",
    "Every major open-source project has its own style guide: a set of conventions (sometimes arbitrary) about how to write code for that project. It is much easier to understand a large codebase when all the code in it is in a consistent style.\n",
    "\n",
    "“Style” covers a lot of ground, from “use <b>camelCase</b> for variable names” to “never use global variables” to “never use exceptions.” This project holds the style guidelines we use for Google code. If you are modifying a project that originated at Google, you may be pointed to this page to see the style guides that apply to that project.\n",
    "\n",
    "\n",
    "* http://google.github.io/styleguide/pyguide.html\n",
    "\n",
    "* 中文： https://github.com/zh-google-styleguide/zh-google-styleguide\n",
    "\n",
    "   * Python https://zh-google-styleguide.readthedocs.io/en/latest/google-python-styleguide/"
   ]
  },
  {
   "cell_type": "code",
   "execution_count": null,
   "metadata": {},
   "outputs": [],
   "source": []
  }
 ],
 "metadata": {
  "kernelspec": {
   "display_name": "Python 3",
   "language": "python",
   "name": "python3"
  },
  "language_info": {
   "codemirror_mode": {
    "name": "ipython",
    "version": 3
   },
   "file_extension": ".py",
   "mimetype": "text/x-python",
   "name": "python",
   "nbconvert_exporter": "python",
   "pygments_lexer": "ipython3",
   "version": "3.7.2"
  },
  "toc": {
   "base_numbering": 1,
   "nav_menu": {},
   "number_sections": false,
   "sideBar": true,
   "skip_h1_title": false,
   "title_cell": "Table of Contents",
   "title_sidebar": "Contents",
   "toc_cell": false,
   "toc_position": {
    "height": "calc(100% - 180px)",
    "left": "10px",
    "top": "150px",
    "width": "307.2px"
   },
   "toc_section_display": true,
   "toc_window_display": true
  }
 },
 "nbformat": 4,
 "nbformat_minor": 2
}
