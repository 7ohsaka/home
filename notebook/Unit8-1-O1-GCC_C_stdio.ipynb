{
 "cells": [
  {
   "cell_type": "markdown",
   "metadata": {},
   "source": [
    "# C library to perform Input/Output operations\n",
    "\n",
    "## stdio.h - scanf,printf\n",
    "\n",
    "**stdio.h** the header of `C Standard Input and Output Library\n",
    "\n",
    "\n",
    "```c\n",
    "int scanf ( const char * format, ... );\n",
    "```\n",
    "`Read` **formatted** data from `stdin`\n",
    "\n",
    "Reads data from stdin and stores them according to the parameter format into the locations pointed by the additional arguments.\n",
    "\n",
    "\n",
    "* **s**\tString of characters\n",
    "* **d**\tDecimal integer\n",
    "* **f** Floating point number\n",
    "\n",
    "```c\n",
    "int printf ( const char * format, ... );\n",
    "```\n",
    "`Print` **formatted** data to `stdout`\n",
    "\n",
    "Writes the C string pointed by format to the standard output (stdout). \n",
    "\n",
    "If format includes format specifiers (subsequences beginning with %), the additional arguments following format are formatted and inserted in the resulting string replacing their respective specifiers."
   ]
  },
  {
   "cell_type": "code",
   "execution_count": null,
   "metadata": {},
   "outputs": [],
   "source": [
    "%%file ./demo/src/demostdio.c\n",
    "/*\n",
    "gcc -o demostdio demostdio.c\n",
    "*/\n",
    "#include <stdio.h>\n",
    "\n",
    "int main ()\n",
    "{\n",
    "  char name[80];\n",
    "  int age;\n",
    "  float num;  \n",
    "\n",
    "  printf (\"Enter your family name: \");\n",
    "  scanf (\"%79s\",name);  \n",
    "  \n",
    "  printf (\"Enter your age: \");\n",
    "  scanf (\"%d\",&age);\n",
    "  printf (\"Mr. %s , %d years old.\\n\",name,age);\n",
    "    \n",
    "  printf(\"Enter a number: \");\n",
    "  scanf(\"%f\", &num);  \n",
    "  printf (\"You have entered %f\\n\",num); \n",
    "    \n",
    "  return 0;\n",
    "}"
   ]
  },
  {
   "cell_type": "code",
   "execution_count": null,
   "metadata": {},
   "outputs": [],
   "source": [
    "!gcc -o ./demo/bin/demostdio  ./demo/src/demostdio.c"
   ]
  },
  {
   "cell_type": "markdown",
   "metadata": {},
   "source": [
    "#### Under Windows\n",
    "\n",
    "```\n",
    ">.\\demo\\bin\\demostdio\n",
    "```\n",
    "#### Under Linux\n",
    "```\n",
    "$./demo/bin/demostdio\n",
    "```"
   ]
  },
  {
   "cell_type": "markdown",
   "metadata": {},
   "source": [
    "###  Address in C: &\n",
    "\n",
    "```c\n",
    "int age;\n",
    "scanf (\"%d\",&age);\n",
    "```\n",
    "\n",
    "If you have a variable **var** in your program, \n",
    "\n",
    "**&var** will give you its `address in the memory`, \n",
    "\n",
    "where **&** is commonly called the `reference` operator.\n",
    "\n",
    "You must have seen this notation while using **scanf()** function.\n",
    "\n",
    "It was used in the function to **store** the user **inputted value** in **the `address` of var**."
   ]
  },
  {
   "cell_type": "markdown",
   "metadata": {},
   "source": [
    "#### Reference operator (&) and Dereference operator (*)\n",
    "\n",
    "As discussed, `&` is called **reference operator（引用）**. It gives you the address of a variable.\n",
    "\n",
    "there is another operator that `gets you the value from the address`（取回地址中的值）, it is called a **dereference operator（解引用）** `*`."
   ]
  },
  {
   "cell_type": "code",
   "execution_count": null,
   "metadata": {},
   "outputs": [],
   "source": [
    "%%file ./demo/src/demoref.c\n",
    "\n",
    "/* Example to demonstrate use of reference operator in C programming. \n",
    "gcc -o demoref demoref.c\n",
    "*/\n",
    "#include <stdio.h>\n",
    "int main()\n",
    "{\n",
    "  int var = 5;\n",
    "  printf(\"Value: %d\\n\", var);\n",
    "  printf(\"Address: %u\\n\", &var);  //reference operator, Notice, the & before var.\n",
    "  printf(\"Value: %d\\n\", *(&var));  // dereference operator,Notice, the * before ＆var.  \n",
    "  return 0;\n",
    "}"
   ]
  },
  {
   "cell_type": "code",
   "execution_count": null,
   "metadata": {},
   "outputs": [],
   "source": [
    "!gcc -o ./demo/bin/demoref  ./demo/src/demoref.c"
   ]
  },
  {
   "cell_type": "markdown",
   "metadata": {},
   "source": [
    "#### Under Windows"
   ]
  },
  {
   "cell_type": "code",
   "execution_count": null,
   "metadata": {},
   "outputs": [],
   "source": [
    "!.\\demo\\bin\\demoref"
   ]
  },
  {
   "cell_type": "markdown",
   "metadata": {},
   "source": [
    "#### Under Linux"
   ]
  },
  {
   "cell_type": "code",
   "execution_count": null,
   "metadata": {},
   "outputs": [],
   "source": [
    "!./demo/bin/demoref"
   ]
  },
  {
   "cell_type": "markdown",
   "metadata": {},
   "source": [
    "##  GCC Compilation Process\n",
    "\n",
    "GCC compiles a C/C++ program into executable in 4 steps as shown in the fellow diagram. \n",
    "\n",
    "![Compilation Process](./img/GCC_CompilationProcess.png)\n",
    "\n",
    "For example, a \n",
    "\n",
    "```bash\n",
    "gcc -o hello.exe hello.c\n",
    "```\n",
    "is carried out as follows:\n",
    "\n",
    "* 1 **Pre-processing**: via the GNU C Preprocessor (cpp.exe), which includes the headers (#include) and expands the macros (#define). \n",
    "```bash\n",
    "cpp hello.c > hello.i\n",
    "```\n",
    "The resultant intermediate file \"hello.i\" contains the expanded source code.\n",
    "\n",
    "* 2 **Compilation**: The compiler compiles the pre-processed source code into assembly code for a specific processor. \n",
    "```bash\n",
    "gcc -S hello.i\n",
    "```\n",
    "The -S option specifies to produce assembly code, instead of object code. The resultant assembly file is \"hello.s\".\n",
    "\n",
    "* 3 **Assembly**: The assembler (as.exe) converts the assembly code into machine code in the object file \"hello.o\". \n",
    "```bash\n",
    "as -o hello.o hello.s\n",
    "```\n",
    "\n",
    "* 4 **Linker**: Finally, the linker (ld.exe) links the object code with the library code to produce an executable file \"hello.exe\". \n",
    "```bash\n",
    "ld -o hello.exe hello.o ...libraries...\n",
    "```\n"
   ]
  },
  {
   "cell_type": "code",
   "execution_count": null,
   "metadata": {},
   "outputs": [],
   "source": []
  }
 ],
 "metadata": {
  "kernelspec": {
   "display_name": "Python 3",
   "language": "python",
   "name": "python3"
  },
  "language_info": {
   "codemirror_mode": {
    "name": "ipython",
    "version": 3
   },
   "file_extension": ".py",
   "mimetype": "text/x-python",
   "name": "python",
   "nbconvert_exporter": "python",
   "pygments_lexer": "ipython3",
   "version": "3.7.1"
  },
  "widgets": {
   "state": {},
   "version": "1.1.2"
  }
 },
 "nbformat": 4,
 "nbformat_minor": 2
}
