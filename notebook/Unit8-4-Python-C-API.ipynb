{
 "cells": [
  {
   "cell_type": "markdown",
   "metadata": {},
   "source": [
    "#  Using Matplotlib through C/C++ API\n",
    "\n",
    "* Change the current working directory into `./demo`"
   ]
  },
  {
   "cell_type": "code",
   "execution_count": 3,
   "metadata": {},
   "outputs": [
    {
     "name": "stdout",
     "output_type": "stream",
     "text": [
      "F:\\SEU\\SEE\\PySEE\\home\\notebook\\demo\n"
     ]
    }
   ],
   "source": [
    "%cd demo"
   ]
  },
  {
   "cell_type": "code",
   "execution_count": 38,
   "metadata": {},
   "outputs": [
    {
     "data": {
      "text/plain": [
       "'F:\\\\SEU\\\\SEE\\\\PySEE\\\\home\\\\notebook\\\\demo'"
      ]
     },
     "execution_count": 38,
     "metadata": {},
     "output_type": "execute_result"
    }
   ],
   "source": [
    "%pwd"
   ]
  },
  {
   "cell_type": "markdown",
   "metadata": {},
   "source": [
    "\n",
    "## 1 Python/C API\n",
    "\n",
    "https://docs.python.org/3/c-api/index.html\n",
    "\n",
    "The Application Programmer’s Interface to Python gives \n",
    "\n",
    "* **C and C++ programmers access to the Python interpreter** at a variety of levels.\n",
    "\n",
    "The API is equally usable from C++, but for brevity it is generally referred to as the Python/C API. There are two fundamentally different reasons for using the Python/C API. \n",
    "\n",
    "1. The first reason is to write extension modules for specific purposes; these are C modules that **extend the Python interpreter**. This is probably the most common use.\n",
    "\n",
    "\n",
    "2. The second reason is to **use Python as a component in a larger application**; this technique is generally referred to as **embedding Python in an application**.\n",
    "\n",
    "\n",
    "\n",
    "## 2 matplotlib-cpp\n",
    "\n",
    "https://github.com/lava/matplotlib-cpp\n",
    "\n",
    "Welcome to matplotlib-cpp, possibly the simplest C++ plotting library. \n",
    "\n",
    "It is built to resemble the plotting API used by Matlab and matplotlib."
   ]
  },
  {
   "cell_type": "markdown",
   "metadata": {},
   "source": [
    "### 2.1 Header and lib\n",
    "\n",
    "**the header file only**\n",
    "\n",
    "* matplotlib-cpp.h: `./include/matplotlib-cpp.h`\n",
    "\n",
    "**Python C API:**\n",
    "\n",
    "Python 3.8 and Numpy\n",
    "\n",
    "* include\n",
    "\n",
    "  * C:\\Python38\\include\n",
    "  \n",
    "  * C:\\Python38\\Lib\\site-packages\\numpy\\core\\include\\\n",
    "\n",
    "* Lib\n",
    "\n",
    " * C:\\Python38\n",
    "\n",
    "\n",
    "### 2.2  The  minimal example"
   ]
  },
  {
   "cell_type": "code",
   "execution_count": null,
   "metadata": {},
   "outputs": [],
   "source": [
    "%matplotlib inline \n",
    "\n",
    "import matplotlib.pyplot as plt\n",
    "\n",
    "plt.figure(1) #create figure 1\n",
    "plt.plot([1,2,3,4], [1,7,3,5]) #draw on figure 1 <x,y> list/array\n",
    "plt.show() #show figure on screen"
   ]
  },
  {
   "cell_type": "code",
   "execution_count": null,
   "metadata": {},
   "outputs": [],
   "source": [
    "%%file ./src/demo_matplotlib.cpp\n",
    "#include <iostream>\n",
    "#include \"../include/matplotlibcpp.h\"\n",
    "\n",
    "using namespace std;\n",
    "namespace plt = matplotlibcpp;\n",
    "\n",
    "int main() {\n",
    "    vector<int> x{1,2,3,4};\n",
    "    vector<int> y{1,7,3,5};\n",
    "    plt::plot(x,y);\n",
    "    plt::show();\n",
    "}"
   ]
  },
  {
   "cell_type": "markdown",
   "metadata": {},
   "source": [
    "* Python3.8"
   ]
  },
  {
   "cell_type": "markdown",
   "metadata": {},
   "source": [
    "* include: `-IC:\\Python38\\include -IC:\\Python38\\Lib\\site-packages\\numpy\\core\\include\\`\n",
    "        \n",
    "* link lib: `-LC:\\Python38\\ -lpython38`"
   ]
  },
  {
   "cell_type": "markdown",
   "metadata": {},
   "source": [
    "**GGG Option**\n",
    "\n",
    "* **-w**: disable warning messages"
   ]
  },
  {
   "cell_type": "code",
   "execution_count": 6,
   "metadata": {},
   "outputs": [
    {
     "name": "stdout",
     "output_type": "stream",
     "text": [
      "Overwriting ./makefile-demo_matplotlib.mk\n"
     ]
    }
   ],
   "source": [
    "%%file ./makefile-demo_matplotlib.mk\n",
    "\n",
    "INC= -IC:/Python38/include \\\n",
    "    -IC:/Python38/Lib/site-packages/numpy/core/include\n",
    "        \n",
    "LIBDIR= C:/Python38/\n",
    "\n",
    "SRC= ./src/demo_matplotlib.cpp \n",
    "            \n",
    "BIN= ./bin/demo\n",
    "\n",
    "all: spring_matplotlib\n",
    "\n",
    "spring_matplotlib: \n",
    "\t g++ -w -o $(BIN) $(SRC) $(INC) -L$(LIBDIR) -lPython38\n"
   ]
  },
  {
   "cell_type": "code",
   "execution_count": 7,
   "metadata": {},
   "outputs": [
    {
     "name": "stdout",
     "output_type": "stream",
     "text": [
      "g++ -w -o ./bin/demo ./src/demo_matplotlib.cpp  -IC:/Python38/include -IC:/Python38/Lib/site-packages/numpy/core/include -LC:/Python38/ -lPython38\n"
     ]
    }
   ],
   "source": [
    "!make -f makefile-demo_matplotlib.mk"
   ]
  },
  {
   "cell_type": "markdown",
   "metadata": {},
   "source": [
    "**Run in the terminal**"
   ]
  },
  {
   "cell_type": "markdown",
   "metadata": {},
   "source": [
    "![](./img/matplotlib-cpp.jpg)"
   ]
  },
  {
   "cell_type": "markdown",
   "metadata": {},
   "source": [
    "### 2.3 The Behavior of Springs\n",
    "\n",
    "[UNDERSTANDING_EXPERIMENTAL_DATA:UNDERSTANDING_EXPERIMENTAL_DATA](./Unit2-3-UNDERSTANDING_EXPERIMENTAL_DATA.ipynb)"
   ]
  },
  {
   "cell_type": "code",
   "execution_count": 39,
   "metadata": {},
   "outputs": [
    {
     "name": "stdout",
     "output_type": "stream",
     "text": [
      "Overwriting ./data/springData.csv\n"
     ]
    }
   ],
   "source": [
    "%%file ./data/springData.csv\n",
    "Distance(m),Mass(kg)\n",
    "0.0865,0.1\n",
    "0.1015,0.15\n",
    "0.1106,0.2\n",
    "0.1279,0.25\n",
    "0.1892,0.3\n",
    "0.2695,0.35\n",
    "0.2888,0.4\n",
    "0.2425,0.45\n",
    "0.3465,0.5\n",
    "0.3225,0.55\n",
    "0.3764,0.6\n",
    "0.4263,0.65\n",
    "0.4562,0.7\n",
    "0.4502,0.75\n",
    "0.4499,0.8\n",
    "0.4534,0.85\n",
    "0.4416,0.9\n",
    "0.4304,0.95\n",
    "0.437,1.0"
   ]
  },
  {
   "cell_type": "markdown",
   "metadata": {},
   "source": [
    "####  std::istringstream\n",
    "\n",
    "Input stream class to operate on strings.\n",
    "\n",
    "Objects of this class use a `string buffer` that contains a sequence of characters.\n",
    "\n",
    "This sequence of characters can be` accessed` directly as a string object, using member `str`.\n",
    "\n",
    "The characters in the sequence can be `extracted` from the stream using any operation allowed on input streams."
   ]
  },
  {
   "cell_type": "code",
   "execution_count": 40,
   "metadata": {},
   "outputs": [
    {
     "name": "stdout",
     "output_type": "stream",
     "text": [
      "Overwriting ./src/spring_matplotlib.cpp\n"
     ]
    }
   ],
   "source": [
    "%%file ./src/spring_matplotlib.cpp\n",
    "\n",
    "#include <iostream>\n",
    "#include <fstream>\n",
    "#include <sstream>\n",
    "#include <string>\n",
    "#include <vector>\n",
    "#include \"matplotlibcpp.h\"\n",
    "\n",
    "using namespace std;\n",
    "\n",
    "namespace plt = matplotlibcpp;\n",
    "\n",
    "// Unit9-2-ctypes:Polynomial Regression\n",
    "void PolynomialFit(double x[], double y[], int size, int n, double a[]);\n",
    "\n",
    "int main(void)\n",
    "{\n",
    "  vector<double> vecforces;  \n",
    "  vector<double> vecdistances; \n",
    "    \n",
    "  ifstream fin(\"../data/springData.csv\");\n",
    "  if(!fin) {\n",
    "     cerr<<\"failed to open file for reading\"<<endl;\n",
    "     return 1;\n",
    "  }\n",
    "  string line;\n",
    "  getline(fin, line);\n",
    "  while(getline(fin, line))\n",
    "  {\n",
    "      istringstream sin(line);\n",
    "      vector<string> fields; \n",
    "      string field;\n",
    "      while (getline(sin, field, ','))\n",
    "         fields.push_back(field); \n",
    "      string d =fields[0];\n",
    "      string m =fields[1];\n",
    "      vecdistances.push_back(atof(d.c_str()));\n",
    "      vecforces.push_back(9.81*atof(m.c_str()));\n",
    "  };\n",
    "    \n",
    "  fin.close();\n",
    " \n",
    "  int n = 1; // n is the degree of Polynomial\n",
    "  double a[n + 1];\n",
    "  int size=vecdistances.size();\n",
    "  int baddata=6;\n",
    "  PolynomialFit(vecforces.data(),vecdistances.data(),size - baddata, n, a); \n",
    "  cout << \"PolynomialFit:k =\" << 1 / a[1] << std::endl;\n",
    "  \n",
    "  plt::plot(vecforces, vecdistances, \"r*\");\n",
    " \n",
    "  vector<double> vecpredictedDistances;\n",
    "  vector<double> vecprevarforces= vector<double>(vecforces.begin(), vecforces.end()-baddata);\n",
    "  for (auto val : vecprevarforces)\n",
    "      vecpredictedDistances.push_back(a[1]*val + a[0]);\n",
    "  plt::plot(vecprevarforces, vecpredictedDistances,\"b+\");\n",
    "  plt::plot(vecprevarforces, vecpredictedDistances);\n",
    "    \n",
    "  plt::title(\"Spring Data\");\n",
    "  plt::show();\n",
    "}"
   ]
  },
  {
   "cell_type": "code",
   "execution_count": 4,
   "metadata": {},
   "outputs": [
    {
     "name": "stdout",
     "output_type": "stream",
     "text": [
      "Overwriting ./makefile-spring-matplotlib.mk\n"
     ]
    }
   ],
   "source": [
    "%%file ./makefile-spring-matplotlib.mk\n",
    "\n",
    "INC= -I./include \\\n",
    "    -IC:/Python38/include \\\n",
    "    -IC:/Python38/Lib/site-packages/numpy/core/include\n",
    "\n",
    "        \n",
    "LIBDIR= C:/Python38/\n",
    "\n",
    "SRC= ./src/spring_matplotlib.cpp \\\n",
    "    ./src/PolynomialFit.c \n",
    "            \n",
    "BIN= ./bin/demo\n",
    "\n",
    "all: spring_matplotlib\n",
    "\n",
    "spring_matplotlib: \n",
    "\t g++ -w -o  $(BIN) $(SRC) $(INC) -L$(LIBDIR) -lPython38 "
   ]
  },
  {
   "cell_type": "code",
   "execution_count": 5,
   "metadata": {},
   "outputs": [
    {
     "name": "stdout",
     "output_type": "stream",
     "text": [
      "g++ -w -o  ./bin/demo ./src/spring_matplotlib.cpp ./src/PolynomialFit.c  -I./include -IC:/Python38/include -IC:/Python38/Lib/site-packages/numpy/core/include -LC:/Python38/ -lPython38 \n"
     ]
    }
   ],
   "source": [
    "!make -f makefile-spring-matplotlib.mk"
   ]
  },
  {
   "cell_type": "markdown",
   "metadata": {},
   "source": [
    "**Run in the terminal**"
   ]
  },
  {
   "cell_type": "markdown",
   "metadata": {},
   "source": [
    "![](./img/spring_matplotlib_cpp.jpg)"
   ]
  }
 ],
 "metadata": {
  "kernelspec": {
   "display_name": "Python 3",
   "language": "python",
   "name": "python3"
  },
  "language_info": {
   "codemirror_mode": {
    "name": "ipython",
    "version": 3
   },
   "file_extension": ".py",
   "mimetype": "text/x-python",
   "name": "python",
   "nbconvert_exporter": "python",
   "pygments_lexer": "ipython3",
   "version": "3.8.0"
  },
  "toc": {
   "base_numbering": 1,
   "nav_menu": {},
   "number_sections": false,
   "sideBar": true,
   "skip_h1_title": false,
   "title_cell": "Table of Contents",
   "title_sidebar": "Contents",
   "toc_cell": false,
   "toc_position": {
    "height": "calc(100% - 180px)",
    "left": "10px",
    "top": "150px",
    "width": "176.6px"
   },
   "toc_section_display": true,
   "toc_window_display": true
  },
  "widgets": {
   "state": {},
   "version": "1.1.2"
  }
 },
 "nbformat": 4,
 "nbformat_minor": 2
}
