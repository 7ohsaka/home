{
 "cells": [
  {
   "cell_type": "markdown",
   "metadata": {},
   "source": [
    "# C library to perform Input/Output operations\n",
    "\n",
    "## stdio.h - scanf,printf\n",
    "\n",
    "**stdio.h** the header of `C Standard Input and Output Library\n",
    "\n",
    "\n",
    "```c\n",
    "int scanf ( const char * format, ... );\n",
    "```\n",
    "`Read` **formatted** data from `stdin`\n",
    "\n",
    "Reads data from stdin and stores them according to the parameter format into the locations pointed by the additional arguments.\n",
    "\n",
    "\n",
    "* **s**\tString of characters\n",
    "* **d**\tDecimal integer\n",
    "* **f** Floating point number\n",
    "\n",
    "```c\n",
    "int printf ( const char * format, ... );\n",
    "```\n",
    "`Print` **formatted** data to `stdout`\n",
    "\n",
    "Writes the C string pointed by format to the standard output (stdout). \n",
    "\n",
    "If format includes format specifiers (subsequences beginning with %), the additional arguments following format are formatted and inserted in the resulting string replacing their respective specifiers."
   ]
  },
  {
   "cell_type": "code",
   "execution_count": 1,
   "metadata": {},
   "outputs": [
    {
     "name": "stdout",
     "output_type": "stream",
     "text": [
      "Overwriting ./demo/src/demostdio.c\n"
     ]
    }
   ],
   "source": [
    "%%file ./demo/src/demostdio.c\n",
    "/*\n",
    "gcc -o demostdio demostdio.c\n",
    "*/\n",
    "#include <stdio.h>\n",
    "\n",
    "int main ()\n",
    "{\n",
    "  char name[80];\n",
    "  int age;\n",
    "  float num;  \n",
    "\n",
    "  printf (\"Enter your family name: \");\n",
    "  scanf (\"%79s\",name);  \n",
    "  \n",
    "  printf (\"Enter your age: \");\n",
    "  scanf (\"%d\",&age);\n",
    "  printf (\"Mr. %s , %d years old.\\n\",name,age);\n",
    "    \n",
    "  printf(\"Enter a number: \");\n",
    "  scanf(\"%f\", &num);  \n",
    "  printf (\"You have entered %f\\n\",num); \n",
    "    \n",
    "  return 0;\n",
    "}"
   ]
  },
  {
   "cell_type": "code",
   "execution_count": 3,
   "metadata": {},
   "outputs": [],
   "source": [
    "!gcc -o ./demo/bin/demostdio  ./demo/src/demostdio.c"
   ]
  },
  {
   "cell_type": "markdown",
   "metadata": {},
   "source": [
    "#### Under Windows\n",
    "\n",
    "```\n",
    ">.\\demo\\bin\\demostdio\n",
    "```\n",
    "#### Under Linux\n",
    "```\n",
    "$./demo/bin/demostdio\n",
    "```"
   ]
  },
  {
   "cell_type": "markdown",
   "metadata": {},
   "source": [
    "### `*` AND `&`\n",
    "\n",
    "\n",
    "* `*`  at the start of the variable name indicates that this is not declaring an variable, but `a pointer to an variable`\n",
    "\n",
    "\n",
    "* `&`： before a variable name means `address of the variable`, so `&a` means `the address` in memory of the variable `a’.\n",
    "\n",
    "   * **&** is commonly called the `reference` operator.\n",
    "\n",
    "  You must have seen this notation `&` while using **scanf()** function.\n",
    "\n",
    "```c\n",
    "int age;\n",
    "scanf (\"%d\",&age);\n",
    "```"
   ]
  },
  {
   "cell_type": "code",
   "execution_count": 25,
   "metadata": {},
   "outputs": [
    {
     "name": "stdout",
     "output_type": "stream",
     "text": [
      "Overwriting ./demo/src/demoref.c\n"
     ]
    }
   ],
   "source": [
    "%%file ./demo/src/demoref.c\n",
    "\n",
    "/*  \n",
    "gcc -o demoref demoref.c\n",
    "*/\n",
    "#include <stdio.h>\n",
    "int main()\n",
    "{\n",
    "  int a;\n",
    "  a = 5;\n",
    "  printf (\"The value of a is %d\\n\", a);\n",
    "  \n",
    "  int *ptr_to_a;\n",
    "  ptr_to_a = &a;\n",
    "  *ptr_to_a = 6;\n",
    "  printf (\"The value of a is %d\\n\", a);\n",
    "  \n",
    "  printf (\"The value of ptr_to_a is %d\\n\", ptr_to_a);\n",
    "  printf (\"\\tIt stores the value %d\\n\", *ptr_to_a);\n",
    "  \n",
    "  printf (\"The address of a is %d\\n\", &a);   \n",
    "  return 0;\n",
    "}"
   ]
  },
  {
   "cell_type": "code",
   "execution_count": 26,
   "metadata": {},
   "outputs": [],
   "source": [
    "!gcc -o ./demo/bin/demoref  ./demo/src/demoref.c"
   ]
  },
  {
   "cell_type": "markdown",
   "metadata": {},
   "source": [
    "#### Under Windows"
   ]
  },
  {
   "cell_type": "code",
   "execution_count": 27,
   "metadata": {},
   "outputs": [
    {
     "name": "stdout",
     "output_type": "stream",
     "text": [
      "The value of a is 5\n",
      "The value of a is 6\n",
      "The value of ptr_to_a is 6422036\n",
      "\tIt stores the value 6\n",
      "The address of a is 6422036\n"
     ]
    }
   ],
   "source": [
    "!.\\demo\\bin\\demoref"
   ]
  },
  {
   "cell_type": "markdown",
   "metadata": {},
   "source": [
    "#### Under Linux"
   ]
  },
  {
   "cell_type": "code",
   "execution_count": null,
   "metadata": {},
   "outputs": [],
   "source": [
    "!./demo/bin/demoref"
   ]
  },
  {
   "cell_type": "markdown",
   "metadata": {},
   "source": [
    "##  GCC Compilation Process\n",
    "\n",
    "GCC compiles a C/C++ program into executable in 4 steps as shown in the fellow diagram. \n",
    "\n",
    "![Compilation Process](./img/GCC_CompilationProcess.png)\n",
    "\n",
    "For example, a \n",
    "\n",
    "```bash\n",
    "gcc -o hello.exe hello.c\n",
    "```\n",
    "is carried out as follows:\n",
    "\n",
    "* 1 **Pre-processing**: via the GNU C Preprocessor (cpp.exe), which includes the headers (#include) and expands the macros (#define). \n",
    "```bash\n",
    "cpp hello.c > hello.i\n",
    "```\n",
    "The resultant intermediate file \"hello.i\" contains the expanded source code.\n",
    "\n",
    "* 2 **Compilation**: The compiler compiles the pre-processed source code into assembly code for a specific processor. \n",
    "```bash\n",
    "gcc -S hello.i\n",
    "```\n",
    "The -S option specifies to produce assembly code, instead of object code. The resultant assembly file is \"hello.s\".\n",
    "\n",
    "* 3 **Assembly**: The assembler (as.exe) converts the assembly code into machine code in the object file \"hello.o\". \n",
    "```bash\n",
    "as -o hello.o hello.s\n",
    "```\n",
    "\n",
    "* 4 **Linker**: Finally, the linker (ld.exe) links the object code with the library code to produce an executable file \"hello.exe\". \n",
    "```bash\n",
    "ld -o hello.exe hello.o ...libraries...\n",
    "```\n"
   ]
  },
  {
   "cell_type": "code",
   "execution_count": null,
   "metadata": {},
   "outputs": [],
   "source": []
  }
 ],
 "metadata": {
  "kernelspec": {
   "display_name": "Python 3",
   "language": "python",
   "name": "python3"
  },
  "language_info": {
   "codemirror_mode": {
    "name": "ipython",
    "version": 3
   },
   "file_extension": ".py",
   "mimetype": "text/x-python",
   "name": "python",
   "nbconvert_exporter": "python",
   "pygments_lexer": "ipython3",
   "version": "3.7.0"
  },
  "toc": {
   "base_numbering": 1,
   "nav_menu": {},
   "number_sections": false,
   "sideBar": true,
   "skip_h1_title": false,
   "title_cell": "Table of Contents",
   "title_sidebar": "Contents",
   "toc_cell": false,
   "toc_position": {},
   "toc_section_display": true,
   "toc_window_display": false
  },
  "widgets": {
   "state": {},
   "version": "1.1.2"
  }
 },
 "nbformat": 4,
 "nbformat_minor": 2
}
