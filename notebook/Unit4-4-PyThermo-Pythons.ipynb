{
 "cells": [
  {
   "cell_type": "markdown",
   "metadata": {},
   "source": [
    "# Python Packages...\n",
    "\n",
    "## 1 Packages\n",
    "   \n",
    "https://docs.python.org/3/tutorial/modules.html#packages\n",
    "\n",
    "   Packages are a way of structuring Python’s module namespace by using **“dotted module names”**.\n",
    "   The ` __init__.py  `files are required to make Python treat the **directories** as containing **packages**; \n",
    "   this is done to **prevent directories with a common name**, such as string, from unintentionally hiding valid modules that occur later on the module search path. \n",
    "   \n",
    "   In the simplest case, ` __init__.py ` can just be an **empty** file, but it can also execute initialization code for the package or set the ` __all__ ` variable\n",
    "\n",
    "```bash   \n",
    "   components/                  components package\n",
    "      __init__.py               Initialize the components package\n",
    "      boiler.py\n",
    "      condenser.py\n",
    "     ...\n",
    "```\n",
    "\n",
    "Users of the package can import **individual modules** from the package, for example:\n",
    "\n",
    "```python\n",
    "import components.node\n",
    "```\n",
    "An alternative way of importing the submodule is:\n",
    "\n",
    "```python\n",
    "from components import node\n",
    "```\n",
    "Yet another variation is to import **the desired function or variable** directly:\n",
    "\n",
    "```python\n",
    "from components.node import Node\n",
    "```"
   ]
  },
  {
   "cell_type": "markdown",
   "metadata": {},
   "source": [
    "## 2 glob — Unix style pathname pattern expansion\n",
    "\n",
    "https://docs.python.org/3.6/library/glob.html\n",
    "\n",
    "The `glob` module finds all the pathnames matching a specified pattern according to the rules used by the Unix shell, although results are returned in arbitrary order. No tilde(~) expansion is done, but `*`, `?`, and character `ranges` expressed with `[]` will be correctly matched\n",
    "\n",
    "```python\n",
    "import glob\n",
    "\n",
    "json_filesname_str='./txtcycle/rankine8[0-9].json'\n",
    "json_filesname=glob.glob(json_filesname_str)\n",
    "```"
   ]
  },
  {
   "cell_type": "markdown",
   "metadata": {},
   "source": [
    "## 3 json — JSON encoder and decoder\n",
    "\n",
    "Python3:19.2 https://docs.python.org/3/library/json.html\n",
    "\n",
    "**json.load**\n",
    "\n",
    "```python\n",
    "json.load(fp, *, cls=None, object_hook=None, parse_float=None, parse_int=None, \n",
    "parse_constant=None, object_pairs_hook=None, **kw)\n",
    "```\n",
    "Deserialize fp (a .read()-supporting file-like object containing a JSON document) to a Python object using this conversion table.\n",
    "\n",
    "**json.loads**\n",
    "\n",
    "```python\n",
    "json.loads(s, *, encoding=None, cls=None, object_hook=None, parse_float=None, \n",
    "\n",
    "parse_int=None, parse_constant=None, object_pairs_hook=None, **kw)\n",
    "```\n",
    "\n",
    "Deserialize s (a str, bytes or bytearray instance containing a JSON document) to a Python object using this conversion table.\n",
    "\n",
    "```python\n",
    "def read_jsonfile(filename):\n",
    "    \"\"\" rankine cycle in json file\"\"\"\n",
    "\n",
    "    # 1 read json file to dict\n",
    "    with open(filename, 'r') as f:\n",
    "        rkcyc = json.load(f)\n",
    "        #rkcyc = json.loads(f.read())\n",
    "```     "
   ]
  },
  {
   "cell_type": "markdown",
   "metadata": {},
   "source": [
    "## 4 object update([other])  & `__dict__ `\n",
    "\n",
    "**update([other])**\n",
    "\n",
    "Update the dictionary with the key/value pairs from other, overwriting existing keys. Return None.\n",
    "\n",
    "  * `update()` accepts either `another dictionary` object or an `iterable of key/value pairs` (as tuples or other iterables of length two). \n",
    "  \n",
    "  * If keyword arguments are specified, the dictionary is then updated with those key/value pairs:"
   ]
  },
  {
   "cell_type": "code",
   "execution_count": null,
   "metadata": {},
   "outputs": [],
   "source": [
    "d={\"red\":11,\"blue\":22}\n",
    "#  update the Dictionary with another dictionarye   \n",
    "d.update({\"red\":111,\"yellow\":33})\n",
    "d"
   ]
  },
  {
   "cell_type": "code",
   "execution_count": null,
   "metadata": {},
   "outputs": [],
   "source": [
    "# update the Dictionary with iterable \n",
    "d.update(red=1, blue=2) \n",
    "d"
   ]
  },
  {
   "cell_type": "markdown",
   "metadata": {},
   "source": [
    "**object.\\_\\_dict__**\n",
    "\n",
    "*  A dictionary or other mapping object used to store an object’s (writable) attributes.\n",
    "\n",
    "```python\n",
    "class Boiler:\n",
    "  \n",
    "      def __init__(self,dictDev):\n",
    "        self.__dict__.update(dictDev) \n",
    "        # self.name = dictDev['name']\n",
    "        # self.type = dictDev['type']\n",
    "        # self.inNode = dictDev['inNode']\n",
    "        # self.outNode = dictDev['outNode'] \n",
    "```    "
   ]
  },
  {
   "cell_type": "code",
   "execution_count": null,
   "metadata": {},
   "outputs": [],
   "source": []
  }
 ],
 "metadata": {
  "kernelspec": {
   "display_name": "Python 3",
   "language": "python",
   "name": "python3"
  },
  "language_info": {
   "codemirror_mode": {
    "name": "ipython",
    "version": 3
   },
   "file_extension": ".py",
   "mimetype": "text/x-python",
   "name": "python",
   "nbconvert_exporter": "python",
   "pygments_lexer": "ipython3",
   "version": "3.7.2"
  },
  "toc": {
   "base_numbering": 1,
   "nav_menu": {},
   "number_sections": false,
   "sideBar": true,
   "skip_h1_title": false,
   "title_cell": "Table of Contents",
   "title_sidebar": "Contents",
   "toc_cell": false,
   "toc_position": {},
   "toc_section_display": true,
   "toc_window_display": true
  }
 },
 "nbformat": 4,
 "nbformat_minor": 2
}
