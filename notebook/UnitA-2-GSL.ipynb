{
 "cells": [
  {
   "cell_type": "markdown",
   "metadata": {},
   "source": [
    "# GNU Scientific Library(GSL)\n",
    "\n",
    "\n",
    "GNU Scientific Library:  https://www.gnu.org/software/gsl/\n",
    "\n",
    "The **GNU** Scientific Library (GSL) is a **numerical library** for C and C++ programmers. \n",
    "\n",
    "The library provides a wide range of mathematical routines such as random number generators, special functions and least-squares fitting. There are over 1000 functions in total with an extensive test suite.\n",
    "\n",
    "The GSL is part of the GNU Project and is `free` software under the GNU General Public License.\n",
    "\n",
    "---\n",
    "\n",
    "## 1 Install GSL \n",
    "\n",
    "**Installing GSL for Windows**\n",
    "\n",
    "* [Install GSL for Windows](https://github.com/PySEE/GSL4Windows)\n",
    "\n",
    "**Installing GSL under Debian/Ubuntu**\n",
    "\n",
    "```bash\n",
    "$sudo apt install gsl-bin\n",
    "\n",
    "$sudo apt install libgsl-dev\n",
    "```\n"
   ]
  },
  {
   "cell_type": "markdown",
   "metadata": {},
   "source": [
    "## 2 Using the GSL Library\n",
    "\n",
    "### 2.1 Using the GSL Library under Windows\n",
    "\n",
    "Here is a basic example of how to use the statistical functions:\n",
    "\n",
    "https://www.gnu.org/software/gsl/doc/html/statistics.html"
   ]
  },
  {
   "cell_type": "code",
   "execution_count": null,
   "metadata": {},
   "outputs": [],
   "source": [
    "%%file ./demo/src/gsl-example.c\n",
    "\n",
    "#include <stdio.h>\n",
    "#include <gsl/gsl_statistics.h>\n",
    "\n",
    "int main(void)\n",
    "{\n",
    "  double data[5] = {17.2, 18.1, 16.5, 18.3, 12.6};\n",
    "  double mean, variance, largest, smallest;\n",
    "\n",
    "  mean     = gsl_stats_mean(data, 1, 5);\n",
    "  variance = gsl_stats_variance(data, 1, 5);\n",
    "  largest  = gsl_stats_max(data, 1, 5);\n",
    "  smallest = gsl_stats_min(data, 1, 5);\n",
    "\n",
    "  printf (\"The dataset is %g, %g, %g, %g, %g\\n\",\n",
    "         data[0], data[1], data[2], data[3], data[4]);\n",
    "\n",
    "  printf (\"The sample mean is %g\\n\", mean);\n",
    "  printf (\"The estimated variance is %g\\n\", variance);\n",
    "  printf (\"The largest value is %g\\n\", largest);\n",
    "  printf (\"The smallest value is %g\\n\", smallest);\n",
    "  return 0;\n",
    "}\n"
   ]
  },
  {
   "cell_type": "markdown",
   "metadata": {},
   "source": [
    "#### 2.1.1 Compiling\n",
    "\n",
    "he library header files are installed in their own `gsl` directory，for example: `C:\\mingw64\\x86_64-w64-mingw32\\include\\gsl`\n",
    "        \n",
    "You should write any preprocessor include statements with a `gsl/` directory prefix thus, \n",
    "\n",
    "```c\n",
    "#include <gsl/gsl_statistics.h>\n",
    "```\n",
    "\n",
    "A compilation command for a source file `gsl-example.c` with the MinGW-W64 compiler  is, \n",
    "\n",
    "```bash\n",
    ">gcc -c gsl-example.c \n",
    "```\n",
    "The default include path for MinGW-W64 compiler searches `\\x86_64-w64-mingw32\\include\\gsl` automatically \n",
    "\n",
    "#### 2.1.2 Linking programs with the library\n",
    "\n",
    "To link against the library you need to specify both the `math library` and a supporting` CBLAS library,` which provides standard basic linear algebra subroutines. \n",
    "\n",
    "The libraries are installed as files, `libgsl.dll.a` and `libgslcblas.dll.a` in the location `C:\\mingw64\\lib\\gcc\\x86_64-w64-mingw32\\8.1.0`. The shared version of the libraries `gsl-1.16.dll` and `gslcblas-1.16.dll` are installed on `C:\\Windows\\System`\n",
    "\n",
    "The default library path for MinGW-W64 searches `C:\\mingw64\\lib\\gcc\\x86_64-w64-mingw32\\8.1.0` automatically so the `-L` option can be **omitted** \n",
    "\n",
    "```bash\n",
    "$gcc -o gsl-example.o -lgsl -lgslcblas\n",
    "```"
   ]
  },
  {
   "cell_type": "markdown",
   "metadata": {},
   "source": [
    "### 2.2 Using the GSL Library under Linux\n",
    "\n",
    "#### 2.2.1 Compiling\n",
    "\n",
    "The library header files are installed in their own `gsl` directory. You should write any preprocessor include statements with a `gsl/` directory prefix thus, \n",
    "\n",
    "```c\n",
    "#include <gsl/gsl_statistics.h>\n",
    "```\n",
    "If the directory is not installed on the standard search path of your compiler you will also need to provide its location to the preprocessor as a command line flag.The default location of the gsl directory(ubuntu18.04) is `/usr/include/gsl`\n",
    "\n",
    "A typical compilation command for a source file `gsl-example.c` with the GNU C compiler gcc is, \n",
    "\n",
    "```bash\n",
    "$gcc -c gsl-example.c -I/usr/include \n",
    "```\n",
    "This results in an object file gsl-example.o. The default include path for gcc searches `/usr/include` automatically so the `-I` option can actually be **omitted** when GSL is installed in its default location. \n",
    "\n",
    "```bash\n",
    "$gcc -c gsl-example.c\n",
    "```\n",
    "#### 2.2.2 Linking programs with the library\n",
    "\n",
    "The library is installed as a single file, `libgsl.a`. A shared version of the library `libgsl.so` is also installed on systems that support shared libraries. The default location of these files(Ubuntu18.04) is `/usr/lib/x86_64-linux-gnu/`. If this directory is not on the standard search path of your linker you will also need to provide its location as a command line flag.\n",
    "\n",
    "To link against the library you need to specify both the `math library` and a supporting` CBLAS library,` which provides standard basic linear algebra subroutines. A suitable `CBLAS` implementation is provided in the library `libgslcblas.a` if your system does not provide one. The following example shows how to link an application with the library:\n",
    "\n",
    "```bash\n",
    "$gcc -o gsl-example.o -L/usr/lib/x86_64-linux-gnu/ -lgsl -lgslcblas -lm\n",
    "```\n",
    "The default library path for gcc searches `/usr/lib/x86_64-linux-gnu/` automatically so the `-L` option can be **omitted** when GSL is installed in its default location.\n",
    "\n",
    "The option `-lm` links with the system **math** library. \n",
    "\n",
    "\n",
    "```bash\n",
    "$gcc -o gsl-example.o -lgsl -lgslcblas -lm\n",
    "```"
   ]
  },
  {
   "cell_type": "markdown",
   "metadata": {},
   "source": [
    "###### Windows with MinGW-W64"
   ]
  },
  {
   "cell_type": "code",
   "execution_count": 1,
   "metadata": {},
   "outputs": [],
   "source": [
    "!gcc -o ./demo/bin/gsl-example ./demo/src/gsl-example.c -lgsl -lgslcblas"
   ]
  },
  {
   "cell_type": "code",
   "execution_count": 2,
   "metadata": {},
   "outputs": [
    {
     "name": "stdout",
     "output_type": "stream",
     "text": [
      "The dataset is 17.2, 18.1, 16.5, 18.3, 12.6\n",
      "The sample mean is 16.54\n",
      "The estimated variance is 5.373\n",
      "The largest value is 18.3\n",
      "The smallest value is 12.6\n"
     ]
    }
   ],
   "source": [
    "!.\\demo\\bin\\gsl-example"
   ]
  },
  {
   "cell_type": "markdown",
   "metadata": {},
   "source": [
    "###### Linux"
   ]
  },
  {
   "cell_type": "code",
   "execution_count": null,
   "metadata": {},
   "outputs": [],
   "source": [
    "!gcc -o ./demo/bin/gsl-example ./demo/src/gsl-example.c -I/usr/include -L/usr/lib/x86_64-linux-gnu/ -lgsl -lgslcblas -lm"
   ]
  },
  {
   "cell_type": "code",
   "execution_count": null,
   "metadata": {},
   "outputs": [],
   "source": [
    "!./demo/bin/gsl-example"
   ]
  },
  {
   "cell_type": "markdown",
   "metadata": {},
   "source": [
    "**`-I -L`** option can be **omitted** when GSL is installed in its **default** location\n",
    "\n",
    "* `-I/usr/include -L/usr/lib/x86_64-linux-gnu`"
   ]
  },
  {
   "cell_type": "code",
   "execution_count": null,
   "metadata": {},
   "outputs": [],
   "source": [
    "!gcc -o ./demo/bin/gsl-example  ./demo/src/gsl-example.c -lgsl -lgslcblas -lm"
   ]
  },
  {
   "cell_type": "code",
   "execution_count": null,
   "metadata": {},
   "outputs": [],
   "source": [
    "!./demo/bin/gsl-example "
   ]
  },
  {
   "cell_type": "markdown",
   "metadata": {},
   "source": [
    "### 2.3 The  Example to  use  Linear Least-Squares Fitting\n",
    "\n",
    "https://www.gnu.org/software/gsl/doc/html/lls.html\n",
    "\n",
    "The functions described in this section can be used to perform least-squares fits to a straight line model, .\n",
    "\n",
    "```c\n",
    "int gsl_fit_linear(const double * x, const size_t xstride, const double * y, const size_t ystride, size_t n, double * c0, double * c1, double * cov00, double * cov01, double * cov11, double * sumsq)\n",
    "```\n",
    "This function computes the best-fit linear regression coefficients `(c0, c1)` of the model  for the dataset `(x, y)`, two vectors of length `n` with strides xstride and ystride.\n",
    "\n",
    "The errors on `y` are assumed unknown so the variance-covariance matrix for the parameters `(c0, c1)` is estimated from the scatter of the points around the best-fit line and returned via the parameters` (cov00, cov01, cov11)`. \n",
    "\n",
    "The **sum of squares of the residuals** from the best-fit line is returned in `sumsq`. \n",
    "\n",
    "The following program computes a least squares straight-line fit to one dataset of `Mr. F.J. Anscombe`, and outputs the best-fit line and its associated one standard-deviation error bars."
   ]
  },
  {
   "cell_type": "code",
   "execution_count": 3,
   "metadata": {},
   "outputs": [
    {
     "name": "stdout",
     "output_type": "stream",
     "text": [
      "Overwriting ./demo/src/demo_fit.c\n"
     ]
    }
   ],
   "source": [
    "%%file ./demo/src/demo_fit.c\n",
    "\n",
    "#include <stdio.h>\n",
    "#include <gsl/gsl_fit.h>\n",
    "\n",
    "int main (void)\n",
    "{\n",
    "  int n = 11;\n",
    "  double x[11] = {10.0, 8.0, 13.0, 9.0,11.0,14.0,6.0,4.0 ,12.0,7.0,5.0};\n",
    "  double y[11] = {  8.04,  6.95,7.68, 8.81, 8.33,9.96,7.24,4.26,10.84,4.82,5.68 };\n",
    "\n",
    "  double c0, c1, cov00, cov01, cov11, sumsq;\n",
    "\n",
    "  gsl_fit_linear (x, 1, y, 1, n,\n",
    "                   &c0, &c1, &cov00, &cov01, &cov11,\n",
    "                   &sumsq);\n",
    "\n",
    "  printf (\"best fit: Y = %g + %g X\\n\", c0, c1);\n",
    "  printf (\"covariance matrix:\\n\");\n",
    "  printf (\"[ %g, %g\\n  %g, %g]\\n\",\n",
    "          cov00, cov01, cov01, cov11);\n",
    "  printf (\"sumsq = %g\\n\", sumsq);\n",
    "\n",
    "  printf (\"\\n\");\n",
    "\n",
    "  return 0;\n",
    "}"
   ]
  },
  {
   "cell_type": "markdown",
   "metadata": {},
   "source": [
    "##### Windows with MinGW-W64"
   ]
  },
  {
   "cell_type": "code",
   "execution_count": null,
   "metadata": {},
   "outputs": [],
   "source": [
    "!gcc -o  ./demo/bin/demo_fit ./demo/src/demo_fit.c -lgsl -lgslcblas"
   ]
  },
  {
   "cell_type": "code",
   "execution_count": 4,
   "metadata": {},
   "outputs": [
    {
     "name": "stdout",
     "output_type": "stream",
     "text": [
      "best fit: Y = 2.97645 + 0.503727 X\n",
      "covariance matrix:\n",
      "[ 1.23044, -0.121692\n",
      "  -0.121692, 0.0135213]\n",
      "sumsq = 13.3861\n",
      "\n"
     ]
    }
   ],
   "source": [
    "!.\\demo\\bin\\demo_fit "
   ]
  },
  {
   "cell_type": "markdown",
   "metadata": {},
   "source": [
    "##### Linux "
   ]
  },
  {
   "cell_type": "code",
   "execution_count": null,
   "metadata": {},
   "outputs": [],
   "source": [
    "!gcc -o  ./demo/bin/demo_fit ./demo/src/demo_fit.c -lgsl -lgslcblas -lm"
   ]
  },
  {
   "cell_type": "code",
   "execution_count": null,
   "metadata": {},
   "outputs": [],
   "source": [
    "!./demo/bin/demo_fit "
   ]
  },
  {
   "cell_type": "markdown",
   "metadata": {},
   "source": [
    "# Reference\n",
    "\n",
    "* GSL - GNU Scientific Library https://www.gnu.org/software/gsl/\n",
    "\n",
    "* The GSL Reference Manual online https://www.gnu.org/software/gsl/doc/html/index.html\n"
   ]
  }
 ],
 "metadata": {
  "kernelspec": {
   "display_name": "Python 3",
   "language": "python",
   "name": "python3"
  },
  "language_info": {
   "codemirror_mode": {
    "name": "ipython",
    "version": 3
   },
   "file_extension": ".py",
   "mimetype": "text/x-python",
   "name": "python",
   "nbconvert_exporter": "python",
   "pygments_lexer": "ipython3",
   "version": "3.7.0"
  },
  "toc": {
   "base_numbering": 1,
   "nav_menu": {},
   "number_sections": false,
   "sideBar": true,
   "skip_h1_title": false,
   "title_cell": "Table of Contents",
   "title_sidebar": "Contents",
   "toc_cell": false,
   "toc_position": {
    "height": "calc(100% - 180px)",
    "left": "10px",
    "top": "150px",
    "width": "307.2px"
   },
   "toc_section_display": true,
   "toc_window_display": false
  },
  "widgets": {
   "state": {},
   "version": "1.1.2"
  }
 },
 "nbformat": 4,
 "nbformat_minor": 2
}
