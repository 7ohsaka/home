{
 "cells": [
  {
   "cell_type": "markdown",
   "metadata": {},
   "source": [
    "#  GNU GCC and Make\n",
    "\n",
    "\n",
    "## 1The Brief Introduction to GCC\n",
    "\n",
    "The original GNU C Compiler (GCC) is developed by `Richard Stallman`, the founder of the `GNU Project`. \n",
    "\n",
    "[The GNU Project](https://www.gnu.org/) \n",
    "\n",
    "GNU is a Unit-like operating system that is `free software`—that is, it `respects` users' `freedom`. The development of GNU made it possible to use a computer without software that would trample your freedom. The development of GNU, started in January 1984, is known as the **GNU Project**.\n",
    "\n",
    "The name “GNU” is a recursive acronym for “GNU's Not Unix.” “GNU” is pronounced *g'noo*, as one syllable, like saying “grew” but replacing the r with n.\n",
    "\n",
    "**The GNU Project** aim is to give computer users `freedom` and control in their use of their computers and computing devices, by collaboratively developing and providing software that is based on the following freedom rights: users are free to run the software, share it (copy, distribute), study it and modify it. GNU software guarantees these freedom-rights legally (via its license), and is therefore free software; the use of the word \"free\" always being taken to refer to freedom. Thus. \"free software\" is a matter of liberty, `not price`. \n",
    "\n",
    "Many of the programs in GNU are released under the auspices of the GNU Project.\n",
    " \n",
    "**The Free Software Foundation** : https://www.fsf.org/\n",
    "   \n",
    "   The Free Software Foundation (FSF) is a nonprofit with a worldwide mission to promote computer user `freedom`. We defend the rights of all software users.\n",
    "\n",
    "\n",
    "**GCC: GNU Compiler Collection** :  http://gcc.gnu.org/\n",
    "  \n",
    "GCC, formerly for \"GNU C Compiler\", has grown over times to support many languages such as `C++`, Objective-C, Java, `Fortran` and Ada. It is now referred to as **\"GNU Compiler Collection\"**. \n",
    " \n",
    "GCC is portable and run in many operating platforms. GCC (and GNU Toolchain) is currently available on all Unixes. They are also ported to **Windows** by `MinGW` and Cygwin. \n",
    "\n",
    "### 1.1  Installing GCC\n",
    "\n",
    "#### Linux\n",
    "\n",
    "GCC (GNU Toolchain) is included in all Linux(Unixes). \n",
    "\n",
    "#### Windows \n",
    "\n",
    "For Windows, you could install **MinGW GCC** \n",
    "\n",
    ">**MinGW** (short for \"Minimalist GNU for Windows\"), is a `minimalist` (i.e., small but fewer features compared with cygwin) development environment for native Microsoft Windows applications.\n",
    "\n",
    "**MinGW-W64**: GCC for Windows 64 & 32 bits: http://www.mingw-w64.org/doku.php\n",
    "\n",
    "MinGW-W64 is an advancement of the original `mingw.org` project, created to support the GCC compiler on Windows systems. It has forked it in 2007 in order to provide support for 64 bits and new APIs. It has since then gained widespread use and distribution.\n",
    "\n",
    "Download MinGW-W64 site at https://sourceforge.net/projects/mingw-w64/files/?source=navbar .Read `/guide/BuildingSoftwareEnvironment.md` for the details\n"
   ]
  },
  {
   "cell_type": "markdown",
   "metadata": {},
   "source": [
    "### 1.2  Getting Started\n",
    "\n",
    "The GNU C and C++ compiler are gcc and g++, respectively.\n",
    "\n",
    "* **gcc** to compile `C` program\n",
    "\n",
    "* **g++** to compile `C++` program \n",
    "\n",
    "**The Simple Demo: Compile/Link a Simple C Program - hello.c**\n",
    "\n",
    "#### 1.2.1 Make the folders for the GCC projects\n",
    "\n",
    "We should put it in `the meaningful folder` for us to management of `different types` of documents conveniently.\n",
    "\n",
    "For example,It will suitable that \n",
    "\n",
    "we put the GCC project in it's own folder `./demo/` and set the different type files in:\n",
    "\n",
    "* the source code `hello.c` in ./code/gcc \n",
    "\n",
    "* the Compiled output `hello.o` in  ./code/obj/\n",
    "\n",
    "* the Linked output `hello.exe`  in the ./code/bin/\n",
    "\n",
    "```bash\n",
    " ├──<notebook>\n",
    " │   │ \n",
    " │   │── <demo>\n",
    "           │ \n",
    "           │──<src> \n",
    "           │     │ \n",
    "           │     │─ hello.c (the Source code)\n",
    "           │\n",
    "           │──<obj>\n",
    "           │     │           \n",
    "           │     │─ hello.o (the Compiled output) \n",
    "           │      \n",
    "           │──<bin>\n",
    "           │     │ \n",
    "           │     │─ hello.exe (the Linked output) \n",
    "                           \n",
    "``` \n",
    "\n",
    "We will use the folders for the **C/C++ programming**  \n"
   ]
  },
  {
   "cell_type": "code",
   "execution_count": null,
   "metadata": {},
   "outputs": [],
   "source": [
    "!dir /w "
   ]
  },
  {
   "cell_type": "markdown",
   "metadata": {},
   "source": [
    "#### 1.2.2  Compile/Link a Simple C Program\n",
    "\n",
    "We save the code to  the location of source code\n",
    "\n",
    "* source code `hello.c` in `./demo/gcc` \n",
    "\n",
    "Below is the Hello-world C program `hello.c`"
   ]
  },
  {
   "cell_type": "code",
   "execution_count": 1,
   "metadata": {},
   "outputs": [
    {
     "name": "stdout",
     "output_type": "stream",
     "text": [
      "Overwriting ./demo/src/hello.c\n"
     ]
    }
   ],
   "source": [
    "%%file ./demo/src/hello.c\n",
    "/*\n",
    "gcc -o hello hello.c\n",
    "*/\n",
    "#include <stdio.h>\n",
    " \n",
    "int main() {\n",
    "    printf(\"C says Hello, world!\\n\");\n",
    "    return 0;\n",
    "}"
   ]
  },
  {
   "cell_type": "markdown",
   "metadata": {},
   "source": [
    "You need to use **gcc** to `compile` C program：`hello.c`,then `link` to build the output\n",
    "\n",
    "* **-c: source files** `compiles` source files without linking.\n",
    "* **-o: output file** writes the link to build output to the specifies output file name.\n",
    "\n",
    "Use `-o` to set `the specifie output file` to the location`\n",
    "\n",
    "* the Compiled output `hello.o in ./demo/obj/`\n",
    "\n",
    "* the Linked output `hello.exe in the ./demo/bin/`"
   ]
  },
  {
   "cell_type": "code",
   "execution_count": 2,
   "metadata": {},
   "outputs": [],
   "source": [
    "!gcc -c -o ./demo/obj/hello.o ./demo/src/hello.c"
   ]
  },
  {
   "cell_type": "markdown",
   "metadata": {},
   "source": [
    "We have put `hello.o`  in  `.\\demo\\obj\\` folder.`"
   ]
  },
  {
   "cell_type": "code",
   "execution_count": 3,
   "metadata": {},
   "outputs": [],
   "source": [
    "!gcc -o ./demo/bin/hello ./demo/obj/hello.o"
   ]
  },
  {
   "cell_type": "markdown",
   "metadata": {},
   "source": [
    "We have put `hello.exe` in the `\\demo\\bin\\` folder.`"
   ]
  },
  {
   "cell_type": "code",
   "execution_count": 4,
   "metadata": {},
   "outputs": [
    {
     "name": "stdout",
     "output_type": "stream",
     "text": [
      " 驱动器 F 中的卷是 cmh\n",
      " 卷的序列号是 9C25-3306\n",
      "\n",
      " F:\\SEU\\SEE\\PySEE\\home\\notebook\\demo\\bin 的目录\n",
      "\n",
      "2019/11/17  11:32            54,022 hello.exe\n",
      "               1 个文件         54,022 字节\n",
      "               0 个目录 99,281,477,632 可用字节\n"
     ]
    }
   ],
   "source": [
    "!dir  .\\demo\\bin\\hello*"
   ]
  },
  {
   "cell_type": "markdown",
   "metadata": {},
   "source": [
    "**Compile and Link to build output  at the command**\n"
   ]
  },
  {
   "cell_type": "code",
   "execution_count": null,
   "metadata": {},
   "outputs": [],
   "source": [
    "!gcc -o ./demo/bin/hello ./demo/src/hello.c"
   ]
  },
  {
   "cell_type": "markdown",
   "metadata": {},
   "source": [
    "##### Further Reading： [C library to perform Input/Output operations](./UnitA-5-GCC_C_stdio.ipynb)\n"
   ]
  },
  {
   "cell_type": "markdown",
   "metadata": {},
   "source": [
    "#####  Running \n",
    "\n",
    "**Under Windows**"
   ]
  },
  {
   "cell_type": "code",
   "execution_count": null,
   "metadata": {},
   "outputs": [],
   "source": [
    "!.\\demo\\bin\\hello"
   ]
  },
  {
   "cell_type": "markdown",
   "metadata": {},
   "source": [
    "**Under Linux**"
   ]
  },
  {
   "cell_type": "code",
   "execution_count": null,
   "metadata": {},
   "outputs": [],
   "source": [
    "!./demo/bin/hello"
   ]
  },
  {
   "cell_type": "markdown",
   "metadata": {},
   "source": [
    "**Further Reading:** \n",
    "\n",
    "* Path separators** \n",
    "\n",
    "   * Linux: `/`\n",
    "\n",
    "   * Windows: **\\**\n",
    "\n",
    "* Eescape character `\\`\n",
    "\n",
    "   * The backslash`\\` is an `escape character`,you use to inform that the next character is special."
   ]
  },
  {
   "cell_type": "markdown",
   "metadata": {},
   "source": [
    "####  1.2.3 Compile/Link a Simple C++ Program \n",
    "    \n",
    "- hello.cpp\n",
    "\n",
    "##### Compile/Link the C++ Program : g++\n",
    "\n",
    "Below is the Hello-world C++ program hello.cpp:\n"
   ]
  },
  {
   "cell_type": "code",
   "execution_count": null,
   "metadata": {},
   "outputs": [],
   "source": [
    "%%file ./demo/src/hello.cpp\n",
    "/*\n",
    "g++ -o hello hello.cpp\n",
    "*/\n",
    "#include <iostream>\n",
    "using namespace std;\n",
    " \n",
    "int main() {\n",
    "   cout << \"C++ Hello, world!\" << endl;\n",
    "   return 0;\n",
    "}"
   ]
  },
  {
   "cell_type": "markdown",
   "metadata": {},
   "source": [
    "You need to use **g++** to compile and link C++ program at one command, as follows "
   ]
  },
  {
   "cell_type": "code",
   "execution_count": null,
   "metadata": {},
   "outputs": [],
   "source": [
    "!g++ -o ./demo/bin/hello ./demo/src/hello.cpp"
   ]
  },
  {
   "cell_type": "markdown",
   "metadata": {},
   "source": [
    "#####  Running\n",
    "\n",
    "**Under Windows**"
   ]
  },
  {
   "cell_type": "code",
   "execution_count": null,
   "metadata": {},
   "outputs": [],
   "source": [
    "!.\\demo\\bin\\hello"
   ]
  },
  {
   "cell_type": "markdown",
   "metadata": {},
   "source": [
    "**Under Linux**"
   ]
  },
  {
   "cell_type": "code",
   "execution_count": null,
   "metadata": {},
   "outputs": [],
   "source": [
    "!./demo/bin/hello"
   ]
  },
  {
   "cell_type": "markdown",
   "metadata": {},
   "source": [
    "## 2.  GNU Make\n",
    "\n",
    "The **\"make\"** utility automates the mundane aspects of building executable from source code.\n",
    "\n",
    "**\"make\"** uses a so-called **makefile**, which contains **rules** on how to build the executables.\n",
    "\n",
    "You can issue \"make --help\" to list the command-line options.\n"
   ]
  },
  {
   "cell_type": "code",
   "execution_count": null,
   "metadata": {},
   "outputs": [],
   "source": [
    "!make --help"
   ]
  },
  {
   "cell_type": "markdown",
   "metadata": {},
   "source": [
    "Let's begin with a simple example to build the Hello-world program (hello.c) into executable (hello.exe) via make utility."
   ]
  },
  {
   "cell_type": "code",
   "execution_count": null,
   "metadata": {},
   "outputs": [],
   "source": [
    "%%file ./demo/src/hello.c\n",
    "/*\n",
    "gcc -o hello hello.c\n",
    "*/\n",
    "\n",
    "#include <stdio.h>\n",
    " \n",
    "int main() {\n",
    "    printf(\"Hello, world!\\n\");\n",
    "    return 0;\n",
    "}"
   ]
  },
  {
   "cell_type": "markdown",
   "metadata": {},
   "source": [
    "### 2.1  Create `makefile` file\n",
    "\n",
    "Create the following file named **\"makefile\"** : contains rules and save in the `current` directory. \n",
    "\n",
    "* **`without` any file `extension`**\n",
    "\n",
    "A makefile consists of `a set of rules`（规则） to build the executable. \n",
    "\n",
    "**A rule** consists of 3 parts:\n",
    "\n",
    "* **a target**（目标）, \n",
    "\n",
    "* **a list of pre-requisites**（条件） \n",
    "\n",
    "* **a command**（命令）\n",
    "\n",
    "as follows:\n",
    "\n",
    " ```bash\n",
    "\n",
    "target: pre-req-1 pre-req-2 ...\n",
    "\t  command\n",
    "\n",
    " ```\n",
    "\n",
    "* The **target** and **pre-requisites** are separated by <font color=\"red\">a colon ** : **  </font>.\n",
    "\n",
    "\n",
    "* The **command** must be preceded by <font color=\"blue\">**a Tab** (NOT spaces)</font>.\n",
    "\n",
    "The `target` is the file or thing that `must be made`. The `prerequisites or dependents` are those files that must exist before the target can be successfully created. And the `commands` are those shell commands that will create the target from the prerequisites. \n",
    "\n",
    "The `first rule` seen by make is used as the `default` rule.\n",
    "\n",
    "* The standard first target in many makefiles is called **all**.\n",
    "\n",
    "Generaly,We should put all files of `one project under one floder.`\n",
    "\n",
    "Now,**We use the floders in our next programming**\n",
    "\n",
    "```bash\n",
    " ├──<notebook>\n",
    " │   │ \n",
    " │   │── <demo>\n",
    " │   │     │ \n",
    " │   │     │──<src> \n",
    " │   │     │     │ \n",
    " │   │     │     │─ *.c/cpp (the Source code)\n",
    " │   │     │\n",
    " │   │     │──<obj>\n",
    " │   │     │     │           \n",
    " │   │     │     │─ *.o (the Compiled output) \n",
    " │   │     │      \n",
    " │   │     │──<bin>\n",
    " │   │     │     │ \n",
    " │   │     │     │─ *.exe  *.so,*.out,*.dll (the Linked output) \n",
    " │   │     │─ makefile                      \n",
    "``` \n",
    "\n",
    "**`./demo/makefile` for invoking make in the terminal of `/demo/` without argument**"
   ]
  },
  {
   "cell_type": "code",
   "execution_count": null,
   "metadata": {},
   "outputs": [],
   "source": [
    "%%file ./demo/makefile\n",
    "\n",
    "all: helloexe\n",
    "    \n",
    "helloexe: helloobj\n",
    "\t gcc -o ./bin/hello.exe ./obj/hello.o\n",
    "\t del .\\obj\\hello.o\n",
    "    \n",
    "helloobj: ./src/hello.c\n",
    "\t gcc -c -o ./obj/hello.o ./src/hello.c\n",
    "     \n",
    "clean:\n",
    "\t del .\\bin\\hello.exe"
   ]
  },
  {
   "cell_type": "markdown",
   "metadata": {},
   "source": [
    "Here is a rule for compiling a C file, `./src/hello.c` into an object file, `./obj/hello.o`\n",
    "```bash\n",
    "helloobj: ./src/hello.c\n",
    "\t gcc -c -o ./obj/hello.o ./src/hello.c\n",
    "```\n",
    "\n",
    "The `target` file `helloobj` appears before the colon. The `prerequisites` `./src/hello.c` appear after the colon. \n",
    "\n",
    "The command script  appears on the following lines and is preceded by a **`tab`** character.\n",
    "\n",
    "\n",
    "* `gcc -c -o ./obj/hello.o ./src/hello.c`\n"
   ]
  },
  {
   "cell_type": "markdown",
   "metadata": {},
   "source": [
    "#### For Linux"
   ]
  },
  {
   "cell_type": "code",
   "execution_count": null,
   "metadata": {},
   "outputs": [],
   "source": [
    "%%file ./demo/makefile\n",
    "\n",
    "all: helloexe\n",
    "    \n",
    "helloexe: helloobj\n",
    "\t gcc -o ./src/hello ./obj/hello.o\n",
    "\t rm -f ./bin/hello.o\n",
    "    \n",
    "helloobj: ./src/hello.c\n",
    "\t gcc -c -o ./obj/hello.o ./src/hello.c\n",
    "     \n",
    "clean:\n",
    "\t rm -f ./bin/hello"
   ]
  },
  {
   "cell_type": "markdown",
   "metadata": {},
   "source": [
    "#### Under `Windows`\n",
    "\n",
    "```bash\n",
    "     del .\\obj\\hello.o\n",
    "\t del .\\bin\\hello.exe\n",
    "```\n",
    "\n",
    "#### Under `Linux` \n",
    "\n",
    "```bash\n",
    "    rm -f ./bin/hello.o\n",
    "\t\n",
    "    rm -f ./bin/hello\n",
    "```\n",
    "\n",
    "*  rm  : remove files or directories\n",
    "\n",
    "*  -f, --force : ignore nonexistent files, never prompt"
   ]
  },
  {
   "cell_type": "markdown",
   "metadata": {},
   "source": [
    "### 2.2 Invoking Make  \n",
    "\n",
    "When make is invoked under these conditions, it automatically creates the **first** `target`  it sees in makefile\n",
    "\n",
    "#### 2.2.1  make  without argument\n",
    "\n",
    "The example assume that:\n",
    "\n",
    "* The make description file is called **makefile**, Makefile, or GNUMakefile. \n",
    "\n",
    "* The `makefile` resides in the **same** user’s `current` directory when executing the `make` command.\n",
    "  \n",
    "When make is invoked under these conditions, it automatically creates the `default` first target  `all` it sees. \n",
    "\n",
    "**invoking make in the terminal of `/demo/` without argument**\n",
    "\n",
    "![make-cur](./img/make-cur.jpg)"
   ]
  },
  {
   "cell_type": "markdown",
   "metadata": {},
   "source": [
    "#### 2.2.2  Invoking make with  the specified FILE as a makefile\n",
    "\n",
    "* `-f FILE`:  Read FILE as a makefile.\n",
    "\n",
    "The example assume that: \n",
    "\n",
    "* The make description file is called makefile, Makefile, or GNUMakefile.\n",
    "\n",
    "* The makefile resides in `./demo/`(not the **same** current directory) under the user’s `current directory` when executing the make command.\n",
    "\n",
    "Now, We save `makefile` in `notebook/demo/`,not the current directory `notebook`\n",
    "\n",
    "**`./demo/makefile` for invoking `make` in the the current directory `notebook`**"
   ]
  },
  {
   "cell_type": "code",
   "execution_count": null,
   "metadata": {},
   "outputs": [],
   "source": [
    "%%file ./demo/makefile\n",
    "\n",
    "all: helloexe\n",
    "    \n",
    "helloexe: helloobj\n",
    "\t gcc -o ./demo/bin/hello.exe ./demo/obj/hello.o\n",
    "\t del .\\demo\\obj\\hello.o\n",
    "    \n",
    "helloobj: ./demo/src/hello.c\n",
    "\t gcc -c -o ./demo/obj/hello.o ./demo/src/hello.c\n",
    "     \n",
    "clean:\n",
    "\t del .\\demo\\bin\\hello.exe"
   ]
  },
  {
   "cell_type": "code",
   "execution_count": null,
   "metadata": {},
   "outputs": [],
   "source": [
    "!make -f ./demo/makefile"
   ]
  },
  {
   "cell_type": "markdown",
   "metadata": {},
   "source": [
    "**Under Windows**"
   ]
  },
  {
   "cell_type": "code",
   "execution_count": null,
   "metadata": {},
   "outputs": [],
   "source": [
    "!.\\demo\\bin\\hello"
   ]
  },
  {
   "cell_type": "markdown",
   "metadata": {},
   "source": [
    "**Under Ubuntu**"
   ]
  },
  {
   "cell_type": "code",
   "execution_count": null,
   "metadata": {},
   "outputs": [],
   "source": [
    "!./demo/bin/hello"
   ]
  },
  {
   "cell_type": "markdown",
   "metadata": {},
   "source": [
    "![make-cur](./img/make-notcur.jpg)"
   ]
  },
  {
   "cell_type": "markdown",
   "metadata": {},
   "source": [
    "#### 2.2.3 Running make with `clean` argument** \n",
    "\n",
    "starts the target **clean** in the makefile."
   ]
  },
  {
   "cell_type": "code",
   "execution_count": null,
   "metadata": {},
   "outputs": [],
   "source": [
    "!make clean -f ./demo/makefile"
   ]
  },
  {
   "cell_type": "code",
   "execution_count": null,
   "metadata": {},
   "outputs": [],
   "source": [
    "!dir  .\\demo\\bin\\hell*.exe"
   ]
  },
  {
   "cell_type": "markdown",
   "metadata": {},
   "source": [
    "#### 2.2.4 Compile, Link and `Run` with Makefile\n",
    "\n",
    "* 1 Add command in the rule:\n",
    "\n",
    "```bash\n",
    "all: helloexe\n",
    "\t ./demo/bin/hello.exe\n",
    "```    \n",
    "* 2 the name of makefile is `./demo/makefile-run`"
   ]
  },
  {
   "cell_type": "code",
   "execution_count": null,
   "metadata": {},
   "outputs": [],
   "source": [
    "%%file ./demo/makefile-run\n",
    "\n",
    "all: helloexe\n",
    "\t./demo/bin/hello.exe\n",
    "    \n",
    "helloexe: helloobj\n",
    "\t gcc -o ./demo/bin/hello.exe ./demo/obj/hello.o\n",
    "\t del .\\demo\\obj\\hello.o\n",
    "    \n",
    "helloobj: ./demo/src/hello.c\n",
    "\t gcc -c -o ./demo/obj/hello.o ./demo/src/hello.c\n",
    "     \n",
    "clean:\n",
    "\t del .\\demo\\bin\\hello.exe"
   ]
  },
  {
   "cell_type": "code",
   "execution_count": null,
   "metadata": {},
   "outputs": [],
   "source": [
    "!make -f ./demo/makefile-run"
   ]
  },
  {
   "cell_type": "markdown",
   "metadata": {},
   "source": [
    "## 3 Compile, Link :Single and Multiple Source Files\n",
    "\n",
    "\n",
    "###  3.1 Computing the Sum of an Array in Single Sile\n",
    "\n",
    "Function to compute the sum of an array and it's caller are in **a sinle source** file: `(SumArraySingle.c`\n"
   ]
  },
  {
   "cell_type": "code",
   "execution_count": null,
   "metadata": {},
   "outputs": [],
   "source": [
    "%%file ./demo/src/SumArraySingle.c\n",
    "\n",
    "#include <stdio.h>  \n",
    "\n",
    "/* Function definition\n",
    "   Return the sum of the given array\n",
    "*/\n",
    "int sum(int array[], int size)\n",
    "{\n",
    "    int sum = 0;\n",
    "    int i;\n",
    "    for (i = 0; i < size; ++i) {\n",
    "        sum += array[i];\n",
    "    }\n",
    "    return sum;\n",
    "}\n",
    "\n",
    "int main() {\n",
    "     int a1[] = {8, 4, 5, 3, 2};\n",
    "     printf(\"sum is %d\\n\", sum(a1, 5));  // sum is 22\n",
    "     return 0;\n",
    "}"
   ]
  },
  {
   "cell_type": "code",
   "execution_count": null,
   "metadata": {},
   "outputs": [],
   "source": [
    "!gcc -o ./demo/bin/SumArraySingle.exe  ./demo/src/SumArraySingle.c"
   ]
  },
  {
   "cell_type": "markdown",
   "metadata": {},
   "source": [
    "#### Run"
   ]
  },
  {
   "cell_type": "code",
   "execution_count": null,
   "metadata": {},
   "outputs": [],
   "source": [
    "!.\\demo\\bin\\SumArraySingle"
   ]
  },
  {
   "cell_type": "markdown",
   "metadata": {},
   "source": [
    "#### Makefile under Windows"
   ]
  },
  {
   "cell_type": "code",
   "execution_count": null,
   "metadata": {},
   "outputs": [],
   "source": [
    "%%file ./demo/makefile-SumArraySingle\n",
    "\n",
    "all: SumArraySingle\n",
    "\n",
    "SumArraySingle: obj\n",
    "\t gcc -o ./demo/bin/SumArraySingle.exe ./demo/obj/SumArraySingle.o\n",
    "\t del .\\demo\\obj\\SumArraySingle.o\n",
    "    \n",
    "obj: ./demo/src/SumArraySingle.c\n",
    "\t gcc -c -o ./demo/obj/SumArraySingle.o ./demo/src/SumArraySingle.c\n",
    "     \n",
    "clean:\n",
    "\t del .\\demo\\bin\\SumArraySingle.exe"
   ]
  },
  {
   "cell_type": "code",
   "execution_count": null,
   "metadata": {},
   "outputs": [],
   "source": [
    "!make -f ./demo/makefile-SumArraySingle"
   ]
  },
  {
   "cell_type": "code",
   "execution_count": null,
   "metadata": {},
   "outputs": [],
   "source": [
    "!.\\demo\\bin\\SumArraySingle"
   ]
  },
  {
   "cell_type": "code",
   "execution_count": null,
   "metadata": {},
   "outputs": [],
   "source": [
    "!make clean -f ./demo/makefile-SumArraySingle"
   ]
  },
  {
   "cell_type": "markdown",
   "metadata": {},
   "source": [
    "#### Makefile under Linux"
   ]
  },
  {
   "cell_type": "code",
   "execution_count": null,
   "metadata": {},
   "outputs": [],
   "source": [
    "%%file ./demo/makefile-SumArraySingle-Linux\n",
    "\n",
    "\n",
    "all: SumArraySingle\n",
    "\n",
    "SumArraySingle: obj\n",
    "\t gcc -o ./demo/bin/SumArraySingle.exe ./demo/obj/SumArraySingle.o\n",
    "\t rm -f  ./demo/obj/SumArraySingle.o\n",
    "    \n",
    "obj: ./demo/src/SumArraySingle.c\n",
    "\t gcc -c -o ./demo/obj/SumArraySingle.o ./demo/src/SumArraySingle.c\n",
    "     \n",
    "clean:\n",
    "\t rm -f ./demo/bin/SumArraySingle.exe"
   ]
  },
  {
   "cell_type": "code",
   "execution_count": null,
   "metadata": {},
   "outputs": [],
   "source": [
    "!make -f ./demo/makefile-SumArraySingle-Linux"
   ]
  },
  {
   "cell_type": "code",
   "execution_count": null,
   "metadata": {},
   "outputs": [],
   "source": [
    "!./demo/bin/SumArraySingle"
   ]
  },
  {
   "cell_type": "code",
   "execution_count": null,
   "metadata": {},
   "outputs": [],
   "source": [
    "!make clean -f ./demo/makefile-SumArraySingle"
   ]
  },
  {
   "cell_type": "markdown",
   "metadata": {},
   "source": [
    "### 3.2 Computing the Sum of an Array in Multi-source files\n",
    "\n",
    "* 1) The codes of Computing the Sum of an Array\n",
    "\n",
    "  *  SumArray.h\n",
    "  *  SumArray.c\n",
    "    \n",
    "* 2) The code file of the caller  \n",
    "\n",
    "  *  mainSum.c"
   ]
  },
  {
   "cell_type": "code",
   "execution_count": null,
   "metadata": {},
   "outputs": [],
   "source": [
    "%%file ./demo/src/SumArray.h\n",
    "\n",
    "#ifndef SUMARRAY_H\n",
    "#define SUMARRAY_H\n",
    "\n",
    "#include <stdio.h>\n",
    "int sum(int array[], int size);\n",
    "\n",
    "#endif"
   ]
  },
  {
   "cell_type": "code",
   "execution_count": null,
   "metadata": {},
   "outputs": [],
   "source": [
    "%%file ./demo/src/SumArray.c\n",
    "\n",
    "#include \"SumArray.h\"\n",
    "\n",
    "/* Function definition\n",
    "   Return the sum of the given array\n",
    "*/\n",
    "\n",
    "int sum(int array[], int size)\n",
    "{\n",
    "    int sum = 0;\n",
    "    int i;\n",
    "    for (i = 0; i < size; ++i) {\n",
    "        sum += array[i];\n",
    "    }\n",
    "    return sum;\n",
    "}\n"
   ]
  },
  {
   "cell_type": "code",
   "execution_count": null,
   "metadata": {},
   "outputs": [],
   "source": [
    "%%file ./demo/src/mainSum.c\n",
    "\n",
    "#include <stdio.h> \n",
    "#include \"SumArray.h\"\n",
    "\n",
    "int main() {\n",
    "    \n",
    "     int a1[] = {8, 4, 5, 3, 2};\n",
    "     printf(\"sum is %d\\n\", sum(a1, 5));  // sum is 22\n",
    "     return 0;\n",
    "}"
   ]
  },
  {
   "cell_type": "markdown",
   "metadata": {},
   "source": [
    "### 3.3 Preprocessor Directives & Once-Only Headers\n",
    "\n",
    "##### Preprocessor Directives\n",
    "\n",
    "http://www.cplusplus.com/doc/tutorial/preprocessor/\n",
    "\n",
    "Preprocessor directives(预处理指令) are lines included in the code of programs preceded by a hash sign (**#**). \n",
    "\n",
    "These lines are not program statements but directives for the preprocessor. The preprocessor examines the code **before actual compilation** of code begins and resolves all these directives before any code is actually generated by regular statements.\n",
    "\n",
    "##### Once-Only Headers\n",
    "\n",
    "Because header files sometimes include one another, it can easily happen that the same file is included **more than once.**\n",
    "\n",
    "For example, suppose the file `SumArray.h` contains the line:\n",
    "```c\n",
    "#include <stdio.h>\n",
    "```\n",
    "Then the source file `mainSum.c` that contains the following `#include` directives would include the file `stdio.h` twice, once directly and once indirectly:\n",
    "```c\n",
    "#include <stdio.h>\n",
    "#include \"SumArray.h`\n",
    "```\n",
    "\n",
    "If a header file happens to be included **twice**, the compiler will process its contents twice. \n",
    "\n",
    "* This is very likely to cause an error, e.g. when the compiler sees the same structure definition twice. \n",
    "\n",
    "* Even if it does not, it will certainly waste time.\n"
   ]
  },
  {
   "cell_type": "code",
   "execution_count": null,
   "metadata": {},
   "outputs": [],
   "source": [
    "!gcc -Wall -o ./demo/bin/mainSum.exe ./demo/src/mainSum.c  ./demo/src/SumArray.c -I./demo/src/"
   ]
  },
  {
   "cell_type": "markdown",
   "metadata": {},
   "source": [
    "you can easily guard the contents of a header file against **multiple inclusions**\n",
    "using the directives for `conditional compiling `\n",
    "\n",
    "The standard way to prevent this is to enclose the entire real contents of the file in a conditional, like this:\n",
    "\n",
    "```c\n",
    "#ifndef SUMARRAY_H\n",
    "#define SUMARRAY_H\n",
    "\n",
    "/* ... The actual contents of the header file SumArray.h are here… */\n",
    "\n",
    "#endif /* !SUMARRAY_H */\n",
    "```\n",
    "This construct is commonly known as a wrapper **#ifndef**. \n",
    "\n",
    "At the first occurrence of a directive to include the file `SumArray.h`, the macro `SUMARRAY_H` is\n",
    "not yet defined. The preprocessor therefore inserts the contents of the block between\n",
    "`#ifndef and #endif` — including the definition of the macro `SUMARRAY_H`.\n",
    "\n",
    "When the header is included again, the `#ifndef` condition is false, because **SUMARRAY_H** is defined. The preprocessor will skip over the entire contents of the file, and the compiler will not see it twice.\n",
    "\n",
    "> **All header files should have `#ifndef`  and `#endif` guards  to prevent multiple inclusion**"
   ]
  },
  {
   "cell_type": "markdown",
   "metadata": {},
   "source": [
    "#### Compile,Link and Run\n",
    "\n",
    "\n",
    "**Windows**\n",
    "\n",
    "You could compile **all of them** in a single command:\n"
   ]
  },
  {
   "cell_type": "code",
   "execution_count": 1,
   "metadata": {},
   "outputs": [],
   "source": [
    "!gcc -o ./demo/bin/mainSum.exe ./demo/src/mainSum.c  ./demo/src/SumArray.c -I./demo/src/"
   ]
  },
  {
   "cell_type": "code",
   "execution_count": 2,
   "metadata": {},
   "outputs": [
    {
     "name": "stdout",
     "output_type": "stream",
     "text": [
      "sum is 22\n"
     ]
    }
   ],
   "source": [
    "!.\\demo\\bin\\mainSum"
   ]
  },
  {
   "cell_type": "markdown",
   "metadata": {},
   "source": [
    "#### Header Files \n",
    "\n",
    "`-I./demo/src/`\n",
    "\n",
    "When compiling the program, the compiler needs the header files to compile the source codes;\n",
    "\n",
    "For each of the headers used in your source (via `#include directives`), \n",
    "\n",
    "The compiler searches the so-called **include-paths** for these headers. The include-paths are specified via `-Idir` option (or environment variable CPATH). \n",
    "\n",
    "* `-Idir`: The **include-paths** are specified via -Idir option (uppercase 'I' followed by the directory path). \n",
    "\n",
    "Since the header's filename is known (e.g., `iostream, stdio.h`), the compiler only needs the `directories`.\n",
    "\n",
    "List the **default** include-paths in your system used by the \"GNU C Preprocessor\" via `gcc -print-search-dirs`\n",
    "\n"
   ]
  },
  {
   "cell_type": "code",
   "execution_count": 1,
   "metadata": {},
   "outputs": [
    {
     "name": "stdout",
     "output_type": "stream",
     "text": [
      "install: C:/mingw64/bin/../lib/gcc/x86_64-w64-mingw32/8.1.0/\n",
      "programs: =C:/mingw64/bin/../libexec/gcc/x86_64-w64-mingw32/8.1.0/;C:/mingw64/bin/../libexec/gcc/;C:/mingw64/bin/../lib/gcc/x86_64-w64-mingw32/8.1.0/../../../../x86_64-w64-mingw32/bin/x86_64-w64-mingw32/8.1.0/;C:/mingw64/bin/../lib/gcc/x86_64-w64-mingw32/8.1.0/../../../../x86_64-w64-mingw32/bin/\n",
      "libraries: =C:/mingw64/bin/../lib/gcc/x86_64-w64-mingw32/8.1.0/;C:/mingw64/bin/../lib/gcc/;C:/mingw64/bin/../lib/gcc/x86_64-w64-mingw32/8.1.0/../../../../x86_64-w64-mingw32/lib/x86_64-w64-mingw32/8.1.0/;C:/mingw64/bin/../lib/gcc/x86_64-w64-mingw32/8.1.0/../../../../x86_64-w64-mingw32/lib/../lib/;C:/mingw64/bin/../lib/gcc/x86_64-w64-mingw32/8.1.0/../../../x86_64-w64-mingw32/8.1.0/;C:/mingw64/bin/../lib/gcc/x86_64-w64-mingw32/8.1.0/../../../../lib/;C:/mingw810/x86_64-810-posix-sjlj-rt_v6-rev0/mingw64/mingw/lib/x86_64-w64-mingw32/8.1.0/;C:/mingw810/x86_64-810-posix-sjlj-rt_v6-rev0/mingw64/mingw/lib/../lib/;C:/mingw64/bin/../lib/gcc/x86_64-w64-mingw32/8.1.0/../../../../x86_64-w64-mingw32/lib/;C:/mingw64/bin/../lib/gcc/x86_64-w64-mingw32/8.1.0/../../../;C:/mingw810/x86_64-810-posix-sjlj-rt_v6-rev0/mingw64/mingw/lib/\n"
     ]
    }
   ],
   "source": [
    "!gcc -print-search-dirs"
   ]
  },
  {
   "cell_type": "markdown",
   "metadata": {},
   "source": [
    "We usually compile each of the source files **separately** into object file, and link them together in the later stage"
   ]
  },
  {
   "cell_type": "code",
   "execution_count": null,
   "metadata": {},
   "outputs": [],
   "source": [
    "!gcc -c -o ./demo/obj/mainSum.o ./demo/src/mainSum.c -I./demo/src/\n",
    "!gcc -c -o ./demo/obj/SumArray.o ./demo/src/SumArray.c \n",
    "!gcc -o ./demo/bin/mainSum.exe  ./demo/obj/mainSum.o ./demo/obj/SumArray.o"
   ]
  },
  {
   "cell_type": "code",
   "execution_count": null,
   "metadata": {},
   "outputs": [],
   "source": [
    "!.\\demo\\bin\\mainSum"
   ]
  },
  {
   "cell_type": "markdown",
   "metadata": {},
   "source": [
    "### 3.4 Makefile for Windows"
   ]
  },
  {
   "cell_type": "code",
   "execution_count": 1,
   "metadata": {},
   "outputs": [
    {
     "name": "stdout",
     "output_type": "stream",
     "text": [
      "Writing ./demo/makefile-SumArray_multi\n"
     ]
    }
   ],
   "source": [
    "%%file ./demo/makefile-SumArray_multi\n",
    "\n",
    "all: mainSum\n",
    "\n",
    "clean:\n",
    "\tdel .\\demo\\bin\\mainSum.exe\n",
    "\n",
    "mainSum: obj  \n",
    "\tgcc -o ./demo/bin/mainSum.exe ./demo/obj/mainSum.o ./demo/obj/SumArray.o \n",
    "\tdel  .\\demo\\obj\\*.o\n",
    "\n",
    "obj:  \n",
    "\tgcc -c -o ./demo/obj/mainSum.o ./demo/src/mainSum.c -I./demo/src/ \n",
    "\tgcc -c -o ./demo/obj/SumArray.o  ./demo/src/SumArray.c"
   ]
  },
  {
   "cell_type": "code",
   "execution_count": null,
   "metadata": {},
   "outputs": [],
   "source": [
    "!make -f ./demo/makefile-SumArray_multi"
   ]
  },
  {
   "cell_type": "code",
   "execution_count": null,
   "metadata": {},
   "outputs": [],
   "source": [
    "!.\\demo\\bin\\mainSum"
   ]
  },
  {
   "cell_type": "markdown",
   "metadata": {},
   "source": [
    "#### Using the `variable` in  makefile\n",
    "\n",
    "A `variable` begins with a **`$`** and is enclosed within parentheses **(...)** \n",
    "\n",
    "$(...)\n",
    "\n",
    "##### Makefile for Windows\n"
   ]
  },
  {
   "cell_type": "code",
   "execution_count": 2,
   "metadata": {},
   "outputs": [
    {
     "name": "stdout",
     "output_type": "stream",
     "text": [
      "Overwriting ./demo/makefile-SumArray_multi\n"
     ]
    }
   ],
   "source": [
    "%%file ./demo/makefile-SumArray_multi\n",
    "\n",
    "CC=gcc\n",
    "\n",
    "SRCDIR= ./demo/src/\n",
    "OBJDIR= ./demo/obj/\n",
    "BINDIR= ./demo/bin/\n",
    "\n",
    "all: mainSum\n",
    "\n",
    "clean:\n",
    "\tdel .\\demo\\bin\\mainSum.exe\n",
    "\n",
    "mainSum: obj  \n",
    "\t$(CC) -o $(BINDIR)mainSum.exe $(OBJDIR)mainSum.o $(OBJDIR)SumArray.o \n",
    "\tdel  .\\demo\\obj\\*.o\n",
    "\n",
    "obj:  \n",
    "\t$(CC) -c -o $(OBJDIR)mainSum.o $(SRCDIR)mainSum.c -I$(SRCDIR) \n",
    "\t$(CC) -c -o $(OBJDIR)SumArray.o  $(SRCDIR)SumArray.c"
   ]
  },
  {
   "cell_type": "code",
   "execution_count": 4,
   "metadata": {},
   "outputs": [
    {
     "name": "stdout",
     "output_type": "stream",
     "text": [
      "gcc -c -o ./demo/obj/mainSum.o ./demo/src/mainSum.c -I./demo/src/ \n",
      "gcc -c -o ./demo/obj/SumArray.o  ./demo/src/SumArray.c\n",
      "gcc -o ./demo/bin/mainSum.exe ./demo/obj/mainSum.o ./demo/obj/SumArray.o -I./demo/src/ \n",
      "del  .\\demo\\obj\\*.o\n"
     ]
    }
   ],
   "source": [
    "!make -f ./demo/makefile-SumArray_multi"
   ]
  },
  {
   "cell_type": "code",
   "execution_count": 5,
   "metadata": {},
   "outputs": [
    {
     "name": "stdout",
     "output_type": "stream",
     "text": [
      "sum is 22\n"
     ]
    }
   ],
   "source": [
    "!.\\demo\\bin\\mainSum"
   ]
  },
  {
   "cell_type": "markdown",
   "metadata": {},
   "source": [
    "#### Makefile for Linux"
   ]
  },
  {
   "cell_type": "code",
   "execution_count": 3,
   "metadata": {},
   "outputs": [
    {
     "name": "stdout",
     "output_type": "stream",
     "text": [
      "Writing ./demo/makefile-SumArray_Linux\n"
     ]
    }
   ],
   "source": [
    "%%file ./demo/makefile-SumArray_Linux\n",
    "\n",
    "all: mainSum\n",
    "\n",
    "clean:\n",
    "\trm -f ./demo/bin/mainSum.exe\n",
    "\n",
    "mainSum: obj  \n",
    "\tgcc -o ./demo/bin/mainSum.exe ./demo/obj/mainSum.o ./demo/obj/SumArray.o \n",
    "\trm -f  ./demo/obj/*.o\n",
    "\n",
    "obj:  \n",
    "\tgcc -c -o ./demo/obj/mainSum.o ./demo/src/mainSum.c -I./demo/src/ \n",
    "\tgcc -c -o ./demo/obj/SumArray.o  ./demo/src/SumArray.c"
   ]
  },
  {
   "cell_type": "code",
   "execution_count": null,
   "metadata": {},
   "outputs": [],
   "source": [
    "!make -f  ./demo/makefile-SumArray-Linux"
   ]
  },
  {
   "cell_type": "code",
   "execution_count": null,
   "metadata": {},
   "outputs": [],
   "source": [
    "!./demo/bin/mainSum"
   ]
  },
  {
   "cell_type": "markdown",
   "metadata": {},
   "source": [
    "## 4  The Complex Makefile Example\n",
    "\n",
    "### 4.1 Automatic Variables\n",
    "\n",
    "**Automatic variables** are set by make after a rule is matched. \n",
    "\n",
    "There include:\n",
    "```bash\n",
    "$@: the target filename.\n",
    "$*: the target filename without the file extension.\n",
    "$<: the first prerequisite filename.\n",
    "$^: the filenames of all the prerequisites, separated by spaces, discard duplicates.\n",
    "$+: similar to $^, but includes duplicates.\n",
    "$?: the names of all prerequisites that are newer than the target, separated by spaces.\n",
    "```\n",
    "### 4.2 Pattern Rules\n",
    "\n",
    "A pattern rule, which uses pattern matching character **'%'** as the filename, can be applied to create a target, if there is no explicit rule.\n",
    "\n",
    "```bash\n",
    "'%' matches filename.\n",
    "$< is the first pre-requisite\n",
    "```\n",
    "\n",
    "##### 45.3  Functions for String Substitution and Analysis\n",
    "\n",
    "http://www.gnu.org/software/make/manual/html_node/Text-Functions.html\n",
    "\n",
    "\n",
    "**$(patsubst pattern, replacement, text)**\n",
    "\n",
    "\n",
    "Finds `whitespace-separated` words in text that match pattern and replaces them with replacement. \n",
    "\n",
    "Here pattern may contain a **%**  which acts as a `wildcard`, matching any number of any characters within a word. \n",
    "\n",
    "For example, \n",
    "\n",
    "```\n",
    "$(patsubst %.c,  %.o, x.c.c bar.c)\n",
    "```\n",
    "\n",
    "* pattern: %.c\n",
    "\n",
    "* replacement to: %.o\n",
    "\n",
    "* text: `x.c.c bar.c` produces the value  `x.c.o bar.o`.\n",
    "\n",
    "### 4.3 Functions for File Names\n",
    "\n",
    "http://www.gnu.org/software/make/manual/html_node/File-Name-Functions.html\n",
    "\n",
    "For example, \n",
    "\n",
    "```\n",
    "$(notdir src/foo.c hacks)\n",
    "```\n",
    "produces the result `‘foo.c hacks’`. "
   ]
  },
  {
   "cell_type": "code",
   "execution_count": 4,
   "metadata": {},
   "outputs": [
    {
     "name": "stdout",
     "output_type": "stream",
     "text": [
      "Writing ./demo/makefile-SumArray_multi_Complex\n"
     ]
    }
   ],
   "source": [
    "%%file ./demo/makefile-SumArray_multi_Complex\n",
    "\n",
    "CC=gcc\n",
    "\n",
    "SRCDIR= ./demo/src/\n",
    "OBJDIR= ./demo/obj/\n",
    "BINDIR= ./demo/bin/\n",
    "\n",
    "SRCS=$(SRCDIR)SumArray.c \\\n",
    "     $(SRCDIR)mainSum.c \n",
    "\n",
    "filename=$(notdir $(SRCS))\n",
    "\n",
    "OBJS=$(patsubst %.c,$(OBJDIR)%.o,$(filename))\n",
    "\n",
    "all:mainSum\n",
    "    \n",
    "mainSum: $(OBJS)  \n",
    "\t$(CC) -o $(BINDIR)$@ $(OBJS) \n",
    "\tdel  .\\demo\\obj\\*.o\n",
    "\n",
    "$(OBJS):$(SRCS)\n",
    "\t$(CC) -o $(OBJDIR)$(notdir $@) -c $(patsubst  %.o,$(SRCDIR)%.c,$(notdir $@))  -I$(SRCDIR) "
   ]
  },
  {
   "cell_type": "code",
   "execution_count": 5,
   "metadata": {},
   "outputs": [
    {
     "name": "stdout",
     "output_type": "stream",
     "text": [
      "gcc -o ./demo/obj/SumArray.o -c ./demo/src/SumArray.c  -I./demo/src/ \n",
      "gcc -o ./demo/obj/mainSum.o -c ./demo/src/mainSum.c  -I./demo/src/ \n",
      "gcc -o ./demo/bin/mainSum ./demo/obj/SumArray.o ./demo/obj/mainSum.o \n",
      "del  .\\demo\\obj\\*.o\n"
     ]
    }
   ],
   "source": [
    "!make -f ./demo/makefile-SumArray_multi_Complex"
   ]
  },
  {
   "cell_type": "code",
   "execution_count": 6,
   "metadata": {},
   "outputs": [
    {
     "name": "stdout",
     "output_type": "stream",
     "text": [
      "sum is 22\n"
     ]
    }
   ],
   "source": [
    "!.\\demo\\bin\\mainSum"
   ]
  },
  {
   "cell_type": "markdown",
   "metadata": {},
   "source": [
    "## Reference\n",
    "\n",
    "GCC (GNU compilers) http://gcc.gnu.org\n",
    "\n",
    "* GCC Manual  http://gcc.gnu.org/onlinedocs\n",
    "\n",
    "* The GNU C Library (glibc) https://www.gnu.org/software/libc/\n",
    "\n",
    "* An Introduction to GCC  http://www.network-theory.co.uk/docs/gccintro/index.html.\n",
    "\n",
    "\n",
    "GNU make http://www.gnu.org/software/make/manual/html_node/index.html\n",
    "\n",
    "* Robert Mecklenburg. [Managing Projects with GNU Make(Third Edition)](https://www.oreilly.com/openbook/make3/book/index.html)\n",
    "\n",
    "GCC and Make：Compiling, Linking and Building C/C++ Applications http://www3.ntu.edu.sg/home/ehchua/programming/cpp/gcc_make.html\n",
    "\n",
    "MinGW-W64 (GCC) Compiler Suite: http://www.mingw-w64.org/doku.php\n",
    "\n",
    "C/C++ for VS Code https://code.visualstudio.com/docs/languages/cpp\n",
    "\n",
    "C/C++ Preprocessor Directives http://www.cplusplus.com/doc/tutorial/preprocessor/\n",
    "\n"
   ]
  },
  {
   "cell_type": "code",
   "execution_count": null,
   "metadata": {},
   "outputs": [],
   "source": []
  }
 ],
 "metadata": {
  "kernelspec": {
   "display_name": "Python 3",
   "language": "python",
   "name": "python3"
  },
  "language_info": {
   "codemirror_mode": {
    "name": "ipython",
    "version": 3
   },
   "file_extension": ".py",
   "mimetype": "text/x-python",
   "name": "python",
   "nbconvert_exporter": "python",
   "pygments_lexer": "ipython3",
   "version": "3.8.0"
  },
  "toc": {
   "base_numbering": 1,
   "nav_menu": {},
   "number_sections": false,
   "sideBar": true,
   "skip_h1_title": false,
   "title_cell": "Table of Contents",
   "title_sidebar": "Contents",
   "toc_cell": false,
   "toc_position": {
    "height": "calc(100% - 180px)",
    "left": "10px",
    "top": "150px",
    "width": "307.2px"
   },
   "toc_section_display": true,
   "toc_window_display": false
  },
  "widgets": {
   "state": {},
   "version": "1.1.2"
  }
 },
 "nbformat": 4,
 "nbformat_minor": 2
}
