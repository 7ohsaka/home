{
 "cells": [
  {
   "cell_type": "markdown",
   "metadata": {},
   "source": [
    "# JSON Package \n",
    "\n",
    "**json — JSON encoder and decoder**\n",
    "\n",
    "Python3:19.2 https://docs.python.org/3/library/json.html\n",
    "\n",
    "pymotw:json https://pymotw.com/3/json/index.html\n",
    "\n",
    "**Purpose:**\tEncode Python objects as JSON strings, and decode JSON strings into Python objects.\n",
    "\n",
    "The json module provides an API for converting in-memory Python objects to a serialized representation known as **JavaScript Object Notation (JSON).** \n",
    "\n",
    "JSON has the benefit of having implementations in many languages (especially JavaScript). It is most widely used for communicating between the web server and client in a REST API, but is also useful for other inter-application communication needs.\n"
   ]
  },
  {
   "cell_type": "markdown",
   "metadata": {},
   "source": [
    "## 1 The  JSON document to Python Objects\n",
    "\n",
    "Using the `json package` to code the JSON Representation of Rankine Cycle with Python \n",
    "\n",
    "* [The JSON Representation of Rankine Cycle](./Unit4-2-PyThermo-RankineCycle-General.ipynb)\n",
    "\n",
    "### 1.1 json.load()\n",
    "\n",
    "```python\n",
    "json.load(fp, *, cls=None, object_hook=None, parse_float=None, parse_int=None, \n",
    "parse_constant=None, object_pairs_hook=None, **kw)\n",
    "```\n",
    "Deserialize **fp** ( the read()-supporting file-like object containing a JSON document) to a Python object using this conversion table.\n",
    "\n",
    "### 1.2 json.loads()\n",
    "\n",
    "```python\n",
    "json.loads(s, *, encoding=None, cls=None, object_hook=None, parse_float=None, \n",
    "\n",
    "parse_int=None, parse_constant=None, object_pairs_hook=None, **kw)\n",
    "```\n",
    "\n",
    "Deserialize **s** (The str, bytes or bytearray instance containing a JSON document) to a Python object using this conversion table.\n",
    "\n",
    "```python\n",
    "def read_jsonfile(filename):\n",
    "    \"\"\" rankine cycle in json file\"\"\"\n",
    "\n",
    "    # 1 read json file to dict\n",
    "    with open(filename, 'r') as f:\n",
    "        rkcyc = json.load(f)\n",
    "        #rkcyc = json.loads(f.read())\n",
    "```     "
   ]
  },
  {
   "cell_type": "markdown",
   "metadata": {},
   "source": [
    "## 2 Encoding and Decoding Simple Data Types\n",
    "\n",
    "The **encoder** understands Python’s native types by default (`str, int, float, list, tuple, and dict`).\n",
    "\n"
   ]
  },
  {
   "cell_type": "code",
   "execution_count": null,
   "metadata": {},
   "outputs": [],
   "source": [
    "import json\n",
    "\n",
    "data = [{'a': 'A', 'b': (2, 4), 'c': 3.0}]\n",
    "print('DATA:', repr(data))\n",
    "\n",
    "data_string = json.dumps(data)\n",
    "print('JSON:', data_string)"
   ]
  },
  {
   "cell_type": "markdown",
   "metadata": {},
   "source": [
    "**Values** are encoded in a manner superficially similar to Python’s `repr()` output."
   ]
  },
  {
   "cell_type": "markdown",
   "metadata": {},
   "source": [
    "**Encoding**, then re-decoding may **not give exactly the same** type of object.\n",
    "\n",
    "In particular, **tuples** become **lists**."
   ]
  },
  {
   "cell_type": "code",
   "execution_count": null,
   "metadata": {},
   "outputs": [],
   "source": [
    "import json\n",
    "\n",
    "data = [{'a': 'A', 'b': (2, 4), 'c': 3.0}]\n",
    "print('DATA   :', data)\n",
    "\n",
    "data_string = json.dumps(data)\n",
    "print('ENCODED:', data_string)\n",
    "\n",
    "decoded = json.loads(data_string)\n",
    "print('DECODED:', decoded)\n",
    "\n",
    "print('ORIGINAL:', type(data[0]['b']))\n",
    "print('DECODED :', type(decoded[0]['b']))"
   ]
  },
  {
   "cell_type": "markdown",
   "metadata": {},
   "source": [
    "## 3 Human-consumable vs. Compact Output\n",
    "\n",
    "Another benefit of `JSON` is that the results are human-readable. The `dumps()` function accepts several arguments to make the output even nicer. \n",
    "\n",
    "For example, the **sort_keys** flag tells the encoder to output the keys of a dictionary in sorted, instead of random, order."
   ]
  },
  {
   "cell_type": "code",
   "execution_count": null,
   "metadata": {},
   "outputs": [],
   "source": [
    "import json\n",
    "\n",
    "data = [{'a': 'A', 'b': (2, 4), 'c': 3.0}]\n",
    "print('DATA:', repr(data))\n",
    "\n",
    "unsorted = json.dumps(data)\n",
    "print('JSON:', json.dumps(data))\n",
    "print('SORT:', json.dumps(data, sort_keys=True))\n",
    "\n",
    "first = json.dumps(data, sort_keys=True)\n",
    "second = json.dumps(data, sort_keys=True)\n",
    "\n",
    "print('UNSORTED MATCH:', unsorted == first)\n",
    "print('SORTED MATCH  :', first == second)"
   ]
  },
  {
   "cell_type": "markdown",
   "metadata": {},
   "source": [
    "For highly-nested data structures, specify a value for **indent** so the output is formatted nicely as well.\n",
    "\n",
    "When **indent** is a non-negative integer, the output with leading spaces for each level of the data structure matching the indent level."
   ]
  },
  {
   "cell_type": "code",
   "execution_count": null,
   "metadata": {},
   "outputs": [],
   "source": [
    "import json\n",
    "\n",
    "data = [{'a': 'A', 'b': (2, 4), 'c': 3.0}]\n",
    "print('DATA:', repr(data))\n",
    "\n",
    "print('NORMAL:', json.dumps(data, sort_keys=True))\n",
    "print('INDENT:', json.dumps(data, sort_keys=True, indent=2))"
   ]
  },
  {
   "cell_type": "markdown",
   "metadata": {},
   "source": [
    "**Verbose** output like this **increases the number of bytes** needed to transmit the same amount of data, however, so it is not intended for use in a production environment. \n",
    "\n",
    "In fact, it is possible to **adjust the settings for separating data** in the encoded output to make it even more **compact** than the default.\n",
    "\n",
    "The **separators** argument to `dumps()` should be a `tuple` containing the strings to separate items in a list and keys from values in a dictionary. The default is **(', ', ': ')**.\n",
    "\n",
    "By **removing the whitespace**, a more compact output is produced."
   ]
  },
  {
   "cell_type": "code",
   "execution_count": null,
   "metadata": {},
   "outputs": [],
   "source": [
    "import json\n",
    "\n",
    "data = [{'a': 'A', 'b': (2, 4), 'c': 3.0}]\n",
    "print('DATA:', repr(data))\n",
    "\n",
    "print('repr(data)             :', len(repr(data)))\n",
    "\n",
    "plain_dump = json.dumps(data)\n",
    "print('\\ndumps(data)            :', len(plain_dump))\n",
    "print(plain_dump)\n",
    "\n",
    "small_indent = json.dumps(data, indent=2)\n",
    "print('\\ndumps(data, indent=2)  :', len(small_indent))\n",
    "print(small_indent)\n",
    "\n",
    "with_separators = json.dumps(data, separators=(',', ':'))\n",
    "print('\\ndumps(data, separators):', len(with_separators))\n",
    "print(with_separators)"
   ]
  },
  {
   "cell_type": "markdown",
   "metadata": {},
   "source": [
    "## 4 Encoding Dictionaries\n",
    "\n",
    "The JSON format expects the **keys** to a dictionary to be **strings**. \n",
    "\n",
    "Trying to encode a dictionary with **non-string types** as keys produces a **TypeError**.\n",
    "\n",
    "One way to work around that limitation is to tell the encoder to **skip over non-string keys** using the **skipkeys** argument:\n",
    "\n",
    "Rather than raising an exception, the **non-string key is ignored**.\n",
    "\n"
   ]
  },
  {
   "cell_type": "code",
   "execution_count": null,
   "metadata": {},
   "outputs": [],
   "source": [
    "import json\n",
    "\n",
    "data = [{'a': 'A', 'b': (2, 4), 'c': 3.0, ('d',): 'D tuple'}]\n",
    "\n",
    "print('First attempt')\n",
    "try:\n",
    "    print(json.dumps(data))\n",
    "except TypeError as err:\n",
    "    print('ERROR:', err)\n",
    "\n",
    "print()\n",
    "print('Second attempt')\n",
    "print(json.dumps(data, skipkeys=True))"
   ]
  },
  {
   "cell_type": "markdown",
   "metadata": {},
   "source": [
    "## 5 Working with Custom Types\n",
    "\n",
    "All of the examples so far have used Pythons **built-in types** because those are supported by **json natively.** \n",
    "\n",
    "It is common to need to encode **custom** classes, as well, and there are two ways to do that.\n",
    "\n",
    "### Given this class to encode:\n",
    "\n"
   ]
  },
  {
   "cell_type": "code",
   "execution_count": null,
   "metadata": {},
   "outputs": [],
   "source": [
    "class MyObj:\n",
    "\n",
    "    def __init__(self, s):\n",
    "        self.s = s\n",
    "\n",
    "    def __repr__(self):\n",
    "        return '<MyObj({})>'.format(self.s)"
   ]
  },
  {
   "cell_type": "markdown",
   "metadata": {},
   "source": [
    "The simple way of encoding a **MyObj** instance is to define **a function** to convert an unknown type to a **known** type. \n",
    "\n",
    "It does not need to do the encoding, so it should just convert one object to another.\n",
    "\n",
    "In **convert_to_builtin_type()**, instances of classes not recognized by json are converted to dictionaries with enough information to re-create the object if a program has access to the Python modules necessary."
   ]
  },
  {
   "cell_type": "code",
   "execution_count": null,
   "metadata": {},
   "outputs": [],
   "source": [
    "import json\n",
    "\n",
    "obj = MyObj('instance value goes here')\n",
    "\n",
    "print('First attempt')\n",
    "try:\n",
    "    print(json.dumps(obj))\n",
    "except TypeError as err:\n",
    "    print('ERROR:', err)\n",
    "\n",
    "\n",
    "def convert_to_builtin_type(obj):\n",
    "    print('default(', repr(obj), ')')\n",
    "    \n",
    "    # Convert objects to a dictionary of their representation\n",
    "    d = {\n",
    "        '__class__': obj.__class__.__name__,\n",
    "        '__module__': obj.__module__,\n",
    "    }\n",
    "    d.update(obj.__dict__)\n",
    "    \n",
    "    return d\n",
    "\n",
    "\n",
    "print('\\nWith default')\n",
    "print(json.dumps(obj, default=convert_to_builtin_type))"
   ]
  },
  {
   "cell_type": "markdown",
   "metadata": {},
   "source": [
    "To **decode** the results and create a `MyObj()` instance, use the `object_hook` argument to `loads()` to tie in to the decoder so the class can be imported from the module and used to create the instance.\n",
    "\n",
    "The `object_hook` is called for each dictionary decoded from the incoming data stream, providing a chance to convert the dictionary to another type of object. The hook function should return the object the calling application should receive instead of the dictionary\n",
    "\n",
    "Since `json` converts string values to unicode objects, they need to be re-encoded as ASCII strings before they can be used as keyword arguments to the class constructor."
   ]
  },
  {
   "cell_type": "code",
   "execution_count": null,
   "metadata": {},
   "outputs": [],
   "source": [
    "import json\n",
    "\n",
    "\n",
    "def dict_to_object(d):\n",
    "    if '__class__' in d:\n",
    "        class_name = d.pop('__class__')\n",
    "        module_name = d.pop('__module__')\n",
    "        module = __import__(module_name)\n",
    "        print('MODULE:', module.__name__)\n",
    "        \n",
    "        class_ = getattr(module, class_name)\n",
    "        print('\\nCLASS:', class_)\n",
    "        args = {\n",
    "            key: value\n",
    "            for key, value in d.items()\n",
    "        }\n",
    "        print('\\nINSTANCE ARGS:', args)\n",
    "        inst = class_(**args)\n",
    "    else:\n",
    "        inst = d\n",
    "    return inst\n",
    "\n",
    "\n",
    "encoded_object = '''\n",
    "    [{\"s\": \"instance value goes here\",\n",
    "      \"__module__\": \"__main__\", \"__class__\": \"MyObj\"}]\n",
    "    '''\n",
    "\n",
    "myobj_instance = json.loads(\n",
    "    encoded_object,\n",
    "    object_hook=dict_to_object,\n",
    ")\n",
    "print(myobj_instance)"
   ]
  },
  {
   "cell_type": "markdown",
   "metadata": {},
   "source": [
    "## Reference\n",
    "\n",
    "\n",
    "[Python3: json — JSON encoder and decoder](https://docs.python.org/3/library/json.html)\n",
    "\n",
    "[pymotw: json — JavaScript Object Notation](https://pymotw.com/3/json/index.html)"
   ]
  },
  {
   "cell_type": "code",
   "execution_count": null,
   "metadata": {},
   "outputs": [],
   "source": []
  }
 ],
 "metadata": {
  "kernelspec": {
   "display_name": "Python 3",
   "language": "python",
   "name": "python3"
  },
  "language_info": {
   "codemirror_mode": {
    "name": "ipython",
    "version": 3
   },
   "file_extension": ".py",
   "mimetype": "text/x-python",
   "name": "python",
   "nbconvert_exporter": "python",
   "pygments_lexer": "ipython3",
   "version": "3.7.2"
  },
  "toc": {
   "base_numbering": 1,
   "nav_menu": {},
   "number_sections": false,
   "sideBar": true,
   "skip_h1_title": false,
   "title_cell": "Table of Contents",
   "title_sidebar": "Contents",
   "toc_cell": false,
   "toc_position": {},
   "toc_section_display": true,
   "toc_window_display": true
  },
  "widgets": {
   "state": {},
   "version": "1.1.2"
  }
 },
 "nbformat": 4,
 "nbformat_minor": 2
}
