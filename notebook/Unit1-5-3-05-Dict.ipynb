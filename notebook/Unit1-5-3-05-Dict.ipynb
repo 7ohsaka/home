{
 "cells": [
  {
   "cell_type": "markdown",
   "metadata": {},
   "source": [
    "# 5 STRUCTURED TYPES, MUTABILITY, AND HIGHERORDER FUNCTIONS\n",
    "\n",
    "The programs we have looked at thus far have dealt with three types of objects: `int,float, and str`. \n",
    "\n",
    "The numeric types `int` and `float` are scalar(标量) types. That is to say, objects of these types have `no accessible internal structure`. \n",
    "\n",
    "In contrast, `str` can be thought of as a `structured, or non-scalar`, type. One can use indexing to extract individual characters from a string and slicing to extract substrings.\n",
    "\n",
    "In this chapter, we introduce `four additional structured types`. \n",
    "\n",
    "* One, <b style=\"color:blue\">tuple</b>(元组）, is a rather simple generalization of `str`. \n",
    "\n",
    "* The other three—<b style=\"color:blue\">list</b>(列表）\n",
    "\n",
    "* **range**</b>   and \n",
    "\n",
    "* <b style=\"color:blue\">dict</b>(字典） —are more **interesting**. \n",
    "\n",
    "We also return to the topic of <b style=\"color:blue\">functions</b> with some examples that illustrate the utility of being able to treat functions in the same way as other types of objects."
   ]
  },
  {
   "cell_type": "markdown",
   "metadata": {},
   "source": [
    "## 5.6 Dictionaries\n",
    "\n",
    "Objects of type `dict` (short for dictionary) are like lists except that we `index them using keys`.For example, the code,"
   ]
  },
  {
   "cell_type": "code",
   "execution_count": null,
   "metadata": {},
   "outputs": [],
   "source": [
    "monthNumbers = {'Jan':1, 'Feb':2, 'Mar':3, 'Apr':4, 'May':5,\n",
    "                 1:'Jan', 2:'Feb', 3:'Mar', 4:'Apr', 5:'May'}\n",
    "  \n",
    "# The entries in a dict are unordered and cannot be accessed with an index\n",
    "# get value from key\n",
    "\n",
    "print('The Mar is the', format(monthNumbers['Mar']),'month \\n')\n",
    "\n",
    "print('The third month is ' + monthNumbers[3],'\\n')  \n",
    "\n",
    "dist = monthNumbers['Apr'] - monthNumbers['Jan'] \n",
    "print('Apr and Jan are', dist, 'months apart')"
   ]
  },
  {
   "cell_type": "markdown",
   "metadata": {},
   "source": [
    "Think of a dictionary as a set of <b>key：value</b> pairs.\n",
    "```python\n",
    "'Jan':1\n",
    "1:'Jan'\n",
    "```\n",
    "Literals of type dict are enclosed in  <b style=\"color:blue\">curly braces  {}  </b>, \n",
    "\n",
    "and each element is written as a key followed by <b style=\"color:blue\">a colon :</b> followed by a value.\n",
    "\n",
    "<b style=\"color:blue\">Keys</b> can be values of <b>any immutable type</b>.\n",
    "\n",
    "The **entries** in a dict are <b>unordered</b> and `cannot` be accessed with an `index`.That’s why `monthNumbers[1]` unambiguously refers to the entry with the **key 1** rather than the second entry\n",
    "\n",
    "the entry with the **key 1**: `1:'Jan'`"
   ]
  },
  {
   "cell_type": "code",
   "execution_count": null,
   "metadata": {},
   "outputs": [],
   "source": [
    "monthNumbers = {'Jan':1, 'Feb':2, 'Mar':3, 'Apr':4, 'May':5,\n",
    "                 1:'Jan', 2:'Feb', 3:'Mar', 4:'Apr', 5:'May'}"
   ]
  },
  {
   "cell_type": "code",
   "execution_count": null,
   "metadata": {},
   "outputs": [],
   "source": [
    "monthNumbers[1]"
   ]
  },
  {
   "cell_type": "markdown",
   "metadata": {},
   "source": [
    "Like lists, **dictionaries are mutable**."
   ]
  },
  {
   "cell_type": "markdown",
   "metadata": {},
   "source": [
    "#### add an entry to a dictionary \n",
    "\n",
    "We can add an entry by writing\n",
    "\n",
    "```python\n",
    "monthNumbers['June'] = 6\n",
    "```\n",
    "**add elements(key:value)** to a dictionary by **assigning a value `6`to an unused key `'June'`('June':)**"
   ]
  },
  {
   "cell_type": "code",
   "execution_count": null,
   "metadata": {},
   "outputs": [],
   "source": [
    "monthNumbers['June'] = 6"
   ]
  },
  {
   "cell_type": "code",
   "execution_count": null,
   "metadata": {},
   "outputs": [],
   "source": [
    "monthNumbers"
   ]
  },
  {
   "cell_type": "markdown",
   "metadata": {},
   "source": [
    "####  `change` an entry by writing"
   ]
  },
  {
   "cell_type": "code",
   "execution_count": null,
   "metadata": {},
   "outputs": [],
   "source": [
    "monthNumbers['May'] = 'V'\n",
    "monthNumbers"
   ]
  },
  {
   "cell_type": "markdown",
   "metadata": {
    "collapsed": true
   },
   "source": [
    "### Dictionaries are one of  <b style=\"color:blue\">the great things</b> about Python. \n",
    "\n",
    "### They  <b style=\"color:blue\">greatly reduce </b> the difficulty of writing a variety of programs.\n",
    "\n",
    ">Most programming languages do not contain a built-in type that provides a mapping from **keys** to **values**.\n",
    "\n",
    "For example, we use dictionaries to write a (pretty horrible) program to `translate between languages`.\n",
    "\n",
    "**NOTE**: There is a error in MIT Book"
   ]
  },
  {
   "cell_type": "code",
   "execution_count": null,
   "metadata": {},
   "outputs": [],
   "source": [
    "# English -> France\n",
    "EtoF = {'bread':'pain', 'wine':'vin', 'with':'avec', 'I':'Je',\n",
    "        'eat':'mange', 'drink':'bois', 'John':'Jean',\n",
    "        'friends':'amis', 'and': 'et', 'of':'du','red':'rouge'}\n",
    "#  France->English\n",
    "FtoE = {'pain':'bread', 'vin':'wine', 'avec':'with', 'Je':'I',\n",
    "        'mange':'eat', 'bois':'drink', 'Jean':'John',\n",
    "        'amis':'friends', 'et':'and', 'du':'of', 'rouge':'red'}\n",
    "\n",
    "dicts = {'English to French':EtoF, 'French to English':FtoE}\n",
    "\n",
    "def translateWord(word, dictionary):\n",
    "    if word in list(dictionary.keys()):\n",
    "        return dictionary[word]\n",
    "    elif word != '':\n",
    "        return '\"' + word + '\"'\n",
    "    return word\n",
    "    \n",
    "def translate(phrase, dicts, direction):\n",
    "    UCLetters = 'ABCDEFGHIJKLMNOPQRSTUVWXYZ'\n",
    "    LCLetters = 'abcdefghijklmnopqrstuvwxyz'\n",
    "    letters = UCLetters + LCLetters\n",
    "    \n",
    "    dictionary = dicts[direction]\n",
    "    \n",
    "    translation = ''\n",
    "    word = ''\n",
    "    \n",
    "    for c in phrase:\n",
    "        if c in letters:\n",
    "            word = word + c\n",
    "        else:\n",
    "            translation = (translation\n",
    "                          + translateWord(word, dictionary) + c)\n",
    "            word = ''\n",
    "    return translation + ' ' + translateWord(word, dictionary)\n",
    "\n",
    "print(translate('I drink good red wine, and eat bread.',\n",
    "                dicts,'English to French'))\n",
    "\n",
    "print(translate('Je bois du vin rouge.',\n",
    "                dicts, 'French to English'))"
   ]
  },
  {
   "cell_type": "markdown",
   "metadata": {},
   "source": [
    "## Remember that dictionaries are  <font color=\"blue\">mutable.</font>\n",
    "\n",
    "So one must be careful about side effects. For example"
   ]
  },
  {
   "cell_type": "code",
   "execution_count": null,
   "metadata": {},
   "outputs": [],
   "source": [
    "FtoE['bois'] = 'drink'  \n",
    "print(translate('Je bois du vin rouge.', dicts, 'French to English'))"
   ]
  },
  {
   "cell_type": "code",
   "execution_count": null,
   "metadata": {},
   "outputs": [],
   "source": [
    "FtoE['bois'] = 'wood' \n",
    "print(translate('Je bois du vin rouge.', dicts, 'French to English'))"
   ]
  },
  {
   "cell_type": "code",
   "execution_count": null,
   "metadata": {},
   "outputs": [],
   "source": [
    "FtoE['bois'] = 'drink'  \n",
    "print(translate('Je bois du vin rouge.', dicts, 'French to English'))"
   ]
  },
  {
   "cell_type": "markdown",
   "metadata": {},
   "source": [
    "`for` statement can be used to **iterate** over the entries in `a dictionary`. \n",
    "\n",
    "```python\n",
    "for <item> in <a dictionary>\n",
    "```\n",
    "\n",
    "However, the `value` assigned to the iteration variable is a `key`, not a `key/value` pair. The order in which the keys are seen in the iteration is not defined. For example, the code\n"
   ]
  },
  {
   "cell_type": "code",
   "execution_count": null,
   "metadata": {},
   "outputs": [],
   "source": [
    "monthNumbers = {'Jan':1, 'Feb':2, 'Mar':3, 'Apr':4, 'May':5,\n",
    "                1:'Jan', 2:'Feb', 3:'Mar', 4:'Apr', 5:'May'}\n",
    "keys = []\n",
    "for e in monthNumbers:\n",
    "    keys.append(e) # the value s a key， not a key/value pair.\n",
    "print(keys)\n",
    "# There is a error in MIT book\n",
    "type(keys)"
   ]
  },
  {
   "cell_type": "markdown",
   "metadata": {},
   "source": [
    "### keys\n",
    "\n",
    "The method  **keys** returns an object of type `dict_keys`. This is an example of **a view object**. The order in which the keys appear in the view is not defined. A view object is `dynamic` in that if the object with which it is associated changes, the change is visible through the view object. For example,"
   ]
  },
  {
   "cell_type": "code",
   "execution_count": null,
   "metadata": {},
   "outputs": [],
   "source": [
    "birthStones = {'Jan':'Garnet', 'Feb':'Amethyst', 'Mar':'Acquamarine',\n",
    "                'Apr':'Diamond', 'May':'Emerald'}\n",
    "months=birthStones.keys() # The order in which the keys appear is not defined.\n",
    "print(months)"
   ]
  },
  {
   "cell_type": "code",
   "execution_count": null,
   "metadata": {},
   "outputs": [],
   "source": [
    "birthStones['June'] = 'Pearl'\n",
    "print(months)"
   ]
  },
  {
   "cell_type": "markdown",
   "metadata": {},
   "source": [
    "Objects of type `dict_keys` can be iterated over using *for*, and `membership` can be `tested` using *in*. \n",
    "\n",
    "An object of type `dict_keys` can easily be converted into a `list`, e.g.,`list(months)`."
   ]
  },
  {
   "cell_type": "code",
   "execution_count": null,
   "metadata": {},
   "outputs": [],
   "source": [
    "list(months)"
   ]
  },
  {
   "cell_type": "markdown",
   "metadata": {},
   "source": [
    "Not all types of of objects can be used as keys: A **key** must be an object of a `hashable` type. A type is hashable if it has\n",
    "\n",
    "* A `__hash__` method that maps an object of the type to an int, and for every object the value returned by `__hash__` does not change during the lifetime of the object,and\n",
    "\n",
    "* An `__eq__` method that is used to compare objects for equality.\n",
    "\n",
    "All of Python’s built-in **immutable** types are **hashable**, and none of Python’s built-in mutable types are hashable.\n",
    "\n",
    "* <b style=\"color:blue\">Keys</b> can be values of <b>any immutable type</b>.\n",
    "\n",
    "It is often convenient to use `tuples as keys`. Imagine, for example, using a tuple of the form `(flightNumber, day)` to represent airline flights. It would then be easy to use such tuples as keys in a dictionary implementing a mapping from flights to arrival times\n",
    "\n",
    "* **Tuples** are immutable,<b style=\"color:blue\">aliasing is never a worry</b>.can be used as **keys** in dictionaries."
   ]
  },
  {
   "cell_type": "code",
   "execution_count": null,
   "metadata": {},
   "outputs": [],
   "source": [
    "# tuple\n",
    "Airline_Flight1=('C1208','2013-05-21')\n",
    "Airline_Flight2=('C1230','2013-05-22')\n",
    " \n",
    "# tuple as dictionary keys.\n",
    "Arrival_Times={Airline_Flight1:'2013-05-21 09:50:35',Airline_Flight2:'2013-05-21 10:50:35'}\n",
    "\n",
    "\n",
    "Airline_Flight1_Arrival_Time=Arrival_Times[Airline_Flight1]\n",
    "print('Airline_Flight1_Arrival_Time:',Airline_Flight1_Arrival_Time,'\\n')\n",
    "\n",
    "Airline_Flight2_Arrival_Time=Arrival_Times[Airline_Flight2]\n",
    "print('Airline_Flight2_Arrival_Time:',Airline_Flight2_Arrival_Time)\n"
   ]
  },
  {
   "cell_type": "markdown",
   "metadata": {},
   "source": [
    "### The methods associated with dictionaries,\n",
    "\n",
    "As with lists, there are many useful methods associated with dictionaries, including some for removing elements. We do not enumerate all of them here, but will use them as convenient in examples later in the book. The Figure contains some of the more useful operations on  ictionaries\n",
    "\n",
    "![fig510](./img/fig510.jpg)\n",
    "\n",
    "\n",
    "#####  supplementary Dictionary-Specific Member Functions\n",
    "\n",
    "* d.has_key():\n",
    "\n",
    "* d.items()\n",
    "\n",
    "* d.clear():\n",
    "\n",
    "* d.copy():\n",
    "\n",
    "* d.update(d2): merge the given dictionary d2 into d. Override the value if key exists, else, add new key-value.\n",
    "\n",
    "* d.pop():"
   ]
  },
  {
   "cell_type": "markdown",
   "metadata": {},
   "source": [
    "#### delete values: del & pop\n",
    "You can delete values either using the `del` keyword or the `pop` method (which simultaneously `returns the value` and deletes the key):"
   ]
  },
  {
   "cell_type": "code",
   "execution_count": null,
   "metadata": {},
   "outputs": [],
   "source": [
    "birthStones = {'Jan':'Garnet', 'Feb':'Amethyst', 'Mar':'Acquamarine',\n",
    "                'Apr':'Diamond', 'May':'Emerald'}\n",
    "del birthStones['Jan']\n",
    "birthStones"
   ]
  },
  {
   "cell_type": "markdown",
   "metadata": {},
   "source": [
    " `pop` method deletes the key  and  returns the value simultaneously:"
   ]
  },
  {
   "cell_type": "code",
   "execution_count": null,
   "metadata": {},
   "outputs": [],
   "source": [
    "birthStones = {'Jan':'Garnet', 'Feb':'Amethyst', 'Mar':'Acquamarine',\n",
    "                'Apr':'Diamond', 'May':'Emerald'}\n",
    "ret = birthStones.pop('Apr')\n",
    "ret"
   ]
  },
  {
   "cell_type": "code",
   "execution_count": null,
   "metadata": {},
   "outputs": [],
   "source": [
    "birthStones"
   ]
  },
  {
   "cell_type": "markdown",
   "metadata": {},
   "source": [
    "#### merge dict : update\n",
    "\n",
    "You can **merge** one dict into another using the `update` method:"
   ]
  },
  {
   "cell_type": "code",
   "execution_count": null,
   "metadata": {},
   "outputs": [],
   "source": [
    "birthStones.update({'Jan' : 'GARNETs', 'Ddd' :'Ddd'})\n",
    "birthStones                   "
   ]
  },
  {
   "cell_type": "markdown",
   "metadata": {},
   "source": [
    "The `update` method changes dicts `in-place`, so any `existing keys` in the data passed to `update` will have their `old` values `discarded.`"
   ]
  },
  {
   "cell_type": "markdown",
   "metadata": {},
   "source": [
    "### Dictionary view objects\n",
    "\n",
    "The objects returned by \n",
    "  \n",
    "* dict.keys()\n",
    "\n",
    "        \n",
    "* dict.values() \n",
    "    \n",
    "    \n",
    "* dict.items()\n",
    "  \n",
    "are view objects.\n",
    "  \n",
    "They provide a dynamic view on the dictionary’s entries, which means that when the dictionary changes, the view reflects these changes.\n",
    "\n",
    "#### dict.keys() and dict.values()"
   ]
  },
  {
   "cell_type": "code",
   "execution_count": null,
   "metadata": {},
   "outputs": [],
   "source": [
    "dishes = {'eggs': 2, 'sausage': 1, 'bacon': 1, 'spam': 500}\n",
    "keys = dishes.keys()\n",
    "values = dishes.values()"
   ]
  },
  {
   "cell_type": "code",
   "execution_count": null,
   "metadata": {},
   "outputs": [],
   "source": [
    "# iteration\n",
    "n = 0\n",
    "for val in values:\n",
    "    n += val\n",
    "print(n)"
   ]
  },
  {
   "cell_type": "code",
   "execution_count": null,
   "metadata": {},
   "outputs": [],
   "source": [
    "# keys and values are iterated over in the same order\n",
    "list(keys)"
   ]
  },
  {
   "cell_type": "code",
   "execution_count": null,
   "metadata": {},
   "outputs": [],
   "source": [
    "list(values)"
   ]
  },
  {
   "cell_type": "markdown",
   "metadata": {},
   "source": [
    "##### view objects are dynamic and reflect dict changes\n"
   ]
  },
  {
   "cell_type": "code",
   "execution_count": null,
   "metadata": {},
   "outputs": [],
   "source": [
    "# view objects are dynamic and reflect dict changes\n",
    "del dishes['eggs']\n",
    "del dishes['sausage']\n",
    "list(keys)"
   ]
  },
  {
   "cell_type": "code",
   "execution_count": null,
   "metadata": {},
   "outputs": [],
   "source": [
    "n = 0\n",
    "for val in values:\n",
    "    n += val\n",
    "print(n)"
   ]
  },
  {
   "cell_type": "code",
   "execution_count": null,
   "metadata": {},
   "outputs": [],
   "source": [
    "dishes = {'eggs': 2, 'sausage': 1, 'bacon': 1, 'spam': 500}\n",
    "\n",
    "for key in dishes:\n",
    "    print(key)\n",
    "    print(key, dishes[key])\n",
    "for key in dishes.keys():\n",
    "    print(key)\n",
    "    print(key, dishes[key])\n",
    "    \n",
    "for value in dishes.values():\n",
    "    print(value)\n",
    "\n",
    "for d in dishes.items():\n",
    "    print(d)  \n",
    "for (key,value) in dishes.items():\n",
    "    print(key,value)    "
   ]
  },
  {
   "cell_type": "markdown",
   "metadata": {},
   "source": [
    "#### dict.items()\n",
    "\n",
    "**dict.items()**: Return a new view of the dictionary’s items `(key, value)` pairs  in **tuple** \n",
    "\n",
    "If you want to get <strong style=\"color:blue\">key:value</strong> pair:"
   ]
  },
  {
   "cell_type": "code",
   "execution_count": null,
   "metadata": {},
   "outputs": [],
   "source": [
    "monthNumbers = {'Jan':1, 'Feb':2, 'Mar':3, 'Apr':4, 'May':5,\n",
    "                1:'Jan', 2:'Feb', 3:'Mar', 4:'Apr', 5:'May'}\n",
    "pairs = []\n",
    "for (key,value) in monthNumbers.items():\n",
    "    pairs.append((key,value)) \n",
    "\n",
    "print('(key,value) in monthNumbers.items():')\n",
    "print(pairs)\n",
    "print(pairs[0])\n",
    "print(pairs[0][0],pairs[0][1])\n",
    "\n",
    "# also\n",
    "pairs = []\n",
    "for keyvalue in monthNumbers.items():\n",
    "    pairs.append(keyvalue)\n",
    "print('\\nkeyvalue in monthNumbers.items():')    \n",
    "print(pairs)\n",
    "print(pairs[0])\n",
    "print(pairs[0][0],pairs[0][1])"
   ]
  },
  {
   "cell_type": "markdown",
   "metadata": {},
   "source": [
    "---\n",
    "\n",
    "## Further Reading: Built-in Sequence Functions\n",
    "\n",
    "Python has a handful of useful sequence functions that you should familiarize yourself with and use at any opportunity.\n",
    "\n",
    "### enumerate\n",
    "It’s common when iterating over a sequence to want to keep track of the index of the\n",
    "current item. A do-it-yourself approach would look like:\n",
    "```python\n",
    "i = 0\n",
    "for value in collection:\n",
    "    # do something with value\n",
    "    i += 1\n",
    "```\n",
    "Since this is so common, Python has a built-in function, `enumerate`, which returns a sequence of `(i, value)` tuples:\n",
    "```python\n",
    "for i, value in enumerate(collection):\n",
    "    # do something with value\n",
    "```\n",
    "When you are indexing data, a helpful pattern that uses` enumerate` is computing a `dict` mapping the values of a sequence (which are assumed to be unique) to their locations in the sequence:"
   ]
  },
  {
   "cell_type": "code",
   "execution_count": null,
   "metadata": {},
   "outputs": [],
   "source": [
    "some_list = ['foo', 'bar', 'baz']\n",
    "mapping = {}\n",
    "for i, v in enumerate(some_list):\n",
    "    mapping[v] = i\n",
    "mapping\n",
    "    "
   ]
  },
  {
   "cell_type": "markdown",
   "metadata": {},
   "source": [
    "### sorted\n",
    "\n",
    "The `sorted` function returns a **new** sorted list from the elements of any sequence:"
   ]
  },
  {
   "cell_type": "code",
   "execution_count": null,
   "metadata": {},
   "outputs": [],
   "source": [
    " sorted([7, 1, 2, 6, 0, 3, 2])"
   ]
  },
  {
   "cell_type": "code",
   "execution_count": null,
   "metadata": {},
   "outputs": [],
   "source": [
    "sorted('horse race')"
   ]
  },
  {
   "cell_type": "markdown",
   "metadata": {},
   "source": [
    "The `sorted` function accepts the same arguments as the sort method on lists."
   ]
  },
  {
   "cell_type": "markdown",
   "metadata": {},
   "source": [
    "### zip\n",
    "\n",
    "`zip` “**pairs**” up the elements of a number of lists, tuples, or other sequences to create **a list of `tuples`**:\n"
   ]
  },
  {
   "cell_type": "code",
   "execution_count": null,
   "metadata": {},
   "outputs": [],
   "source": [
    "seq1 = ['foo', 'bar', 'baz']\n",
    "seq2 = ['one', 'two', 'three']\n",
    "zipped = zip(seq1, seq2)\n",
    "list(zipped)"
   ]
  },
  {
   "cell_type": "markdown",
   "metadata": {},
   "source": [
    "`zip` can take an `arbitrary number` of sequences, and the number of elements it produces is determined by the `shortest` sequenc"
   ]
  },
  {
   "cell_type": "code",
   "execution_count": null,
   "metadata": {},
   "outputs": [],
   "source": [
    "seq3 = [False, True]\n",
    "list(zip(seq1, seq2, seq3))"
   ]
  },
  {
   "cell_type": "markdown",
   "metadata": {},
   "source": [
    "A very common use of `zip` is `simultaneously iterating over multiple` sequences, possibly also combined with `enumerate`:"
   ]
  },
  {
   "cell_type": "code",
   "execution_count": null,
   "metadata": {},
   "outputs": [],
   "source": [
    "for i, (a, b) in enumerate(zip(seq1, seq2)):\n",
    "    print('{0}: {1}, {2}'.format(i, a, b))"
   ]
  },
  {
   "cell_type": "markdown",
   "metadata": {},
   "source": [
    "Given a “zipped” sequence, `zip` can be applied in a clever way to “unzip” the sequence. Another way to think about this is converting a list of `rows` into a list of `columns`. The syntax, which looks a bit magical, is:\n",
    "\n",
    "List rows: ('Nolan', 'Ryan'), ('Roger', 'Clemens'),('Schilling', 'Curt')\n",
    "\n",
    "\n",
    "List columns:\n",
    "\n",
    " | first_names | last_names  |\n",
    " | ----------- |:-----------:|\n",
    " | Nolan       |   Ryan      |\n",
    " |  Roger      |  Clemens    | \n",
    " |Schilling    |  Curt       ||``\n"
   ]
  },
  {
   "cell_type": "code",
   "execution_count": null,
   "metadata": {},
   "outputs": [],
   "source": [
    "pitchers = [('Nolan', 'Ryan'), ('Roger', 'Clemens'),('Schilling', 'Curt')]\n",
    "first_names, last_names = zip(*pitchers)\n",
    "first_names"
   ]
  },
  {
   "cell_type": "code",
   "execution_count": null,
   "metadata": {},
   "outputs": [],
   "source": [
    "last_names"
   ]
  },
  {
   "cell_type": "markdown",
   "metadata": {},
   "source": [
    "### reversed\n",
    "\n",
    "reversed iterates over the elements of a sequence in reverse order:"
   ]
  },
  {
   "cell_type": "code",
   "execution_count": null,
   "metadata": {},
   "outputs": [],
   "source": [
    "list(reversed(range(10)))"
   ]
  },
  {
   "cell_type": "markdown",
   "metadata": {},
   "source": [
    "Keep in mind that `reversed` is **a generator**,so it does `not create` the reversed sequence until materialized (e.g., with list or a for loop)"
   ]
  },
  {
   "cell_type": "markdown",
   "metadata": {},
   "source": [
    "## Further Reading\n",
    "\n",
    "* Python Library: 4.10 Mapping Types — dict\n",
    "    \n",
    "  * https://docs.python.org/dev/library/stdtypes.html#mapping-types-dict\n",
    "  \n",
    "  * A mapping object maps hashable values to arbitrary objects. Mappings are mutable objects. There is currently\n",
    "only one standard mapping type, the dictionary\n",
    "\n"
   ]
  },
  {
   "cell_type": "markdown",
   "metadata": {
    "collapsed": true
   },
   "source": [
    "## Key Points:\n",
    "\n",
    "* Tuple，range, list，dict\n",
    "\n",
    "* **dict**: the most common data type of key is **string** \n",
    "\n",
    "* **Mutaing**:list,dict\n",
    "\n",
    "* **Cloning**: aliasing\n",
    "\n",
    "* Higher-order function"
   ]
  },
  {
   "cell_type": "code",
   "execution_count": null,
   "metadata": {},
   "outputs": [],
   "source": []
  }
 ],
 "metadata": {
  "kernelspec": {
   "display_name": "Python 3",
   "language": "python",
   "name": "python3"
  },
  "language_info": {
   "codemirror_mode": {
    "name": "ipython",
    "version": 3
   },
   "file_extension": ".py",
   "mimetype": "text/x-python",
   "name": "python",
   "nbconvert_exporter": "python",
   "pygments_lexer": "ipython3",
   "version": "3.7.2"
  },
  "toc": {
   "base_numbering": 1,
   "nav_menu": {},
   "number_sections": false,
   "sideBar": true,
   "skip_h1_title": false,
   "title_cell": "Table of Contents",
   "title_sidebar": "Contents",
   "toc_cell": false,
   "toc_position": {
    "height": "calc(100% - 180px)",
    "left": "10px",
    "top": "150px",
    "width": "333.91px"
   },
   "toc_section_display": true,
   "toc_window_display": true
  },
  "widgets": {
   "state": {},
   "version": "1.1.2"
  }
 },
 "nbformat": 4,
 "nbformat_minor": 1
}
