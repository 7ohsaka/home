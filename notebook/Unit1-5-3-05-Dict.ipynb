{
 "cells": [
  {
   "cell_type": "markdown",
   "metadata": {},
   "source": [
    "#  Dictionaries\n",
    "\n",
    "* 5.6 Dictionaries\n",
    "\n",
    "The useful data type built into Python is the **dictionary**\n",
    "\n",
    "Unlike sequences, which are indexed by a range of numbers, dictionaries are `indexed by keys`, which can be any immutable type; `strings` and `numbers` can always be keys.\n",
    " \n",
    "For example, the code,"
   ]
  },
  {
   "cell_type": "code",
   "execution_count": null,
   "metadata": {},
   "outputs": [],
   "source": [
    "monthNumbers = {'Jan':1, 'Feb':2, 'Mar':3, 'Apr':4, 'May':5,\n",
    "                 1:'Jan', 2:'Feb', 3:'Mar', 4:'Apr', 5:'May'}\n",
    "  \n",
    "# The entries in a dict are unordered and cannot be accessed with an index\n",
    "# get value from key\n",
    "\n",
    "print('The Mar is the', format(monthNumbers['Mar']),'month \\n')\n",
    "\n",
    "print('The third month is ' + monthNumbers[3],'\\n')  \n",
    "\n",
    "dist = monthNumbers['Apr'] - monthNumbers['Jan'] \n",
    "print('Apr and Jan are', dist, 'months apart')"
   ]
  },
  {
   "cell_type": "markdown",
   "metadata": {},
   "source": [
    "Think of a dictionary as a set of <b style=\"color:blue\">key:value</b> pairs.\n",
    "```python\n",
    "'Jan':1\n",
    "1:'Jan'\n",
    "```\n",
    "Literals of type dict are enclosed in  <b style=\"color:blue\">curly braces  {}  </b>, \n",
    "\n",
    "and each element is written as a `key` followed by <b style=\"color:blue\">a colon :</b> followed by a `value`.\n",
    "\n",
    "<b style=\"color:blue\">Keys</b> can be values of <b>any immutable type</b>.\n",
    "\n",
    "**The `entries` in a dict are `unordered` and `cannot` be accessed with an `index`.**\n",
    "\n",
    "* `monthNumbers[1]` unambiguously refers to the entry with the **key 1**: `1:'Jan'` rather than the second entry :`'Feb':2`\n"
   ]
  },
  {
   "cell_type": "code",
   "execution_count": null,
   "metadata": {},
   "outputs": [],
   "source": [
    "monthNumbers = {'Jan':1, 'Feb':2, 'Mar':3, 'Apr':4, 'May':5,\n",
    "                 1:'Jan', 2:'Feb', 3:'Mar', 4:'Apr', 5:'May'}"
   ]
  },
  {
   "cell_type": "code",
   "execution_count": null,
   "metadata": {},
   "outputs": [],
   "source": [
    "monthNumbers[1]"
   ]
  },
  {
   "cell_type": "code",
   "execution_count": null,
   "metadata": {},
   "outputs": [],
   "source": [
    "monthNumbers['Jan']"
   ]
  },
  {
   "cell_type": "markdown",
   "metadata": {},
   "source": [
    "## Dictionaries are  <font color=\"blue\">mutable.</font>\n",
    "\n",
    "Like lists, **dictionaries are mutable**."
   ]
  },
  {
   "cell_type": "markdown",
   "metadata": {},
   "source": [
    "### 1 add an entry to a dictionary \n",
    "\n",
    "We can add an entry by writing\n",
    "\n",
    "```python\n",
    "monthNumbers['June'] = 6\n",
    "```\n",
    "**add elements(key:value)** to a dictionary by **assigning a value `6`to an `unused` key `'June'`('June':)**"
   ]
  },
  {
   "cell_type": "code",
   "execution_count": null,
   "metadata": {},
   "outputs": [],
   "source": [
    "monthNumbers['June'] = 6"
   ]
  },
  {
   "cell_type": "code",
   "execution_count": null,
   "metadata": {},
   "outputs": [],
   "source": [
    "monthNumbers"
   ]
  },
  {
   "cell_type": "markdown",
   "metadata": {},
   "source": [
    "### 2  `change` an entry by writing"
   ]
  },
  {
   "cell_type": "code",
   "execution_count": null,
   "metadata": {},
   "outputs": [],
   "source": [
    "monthNumbers['May'] = 'V'\n",
    "monthNumbers"
   ]
  },
  {
   "cell_type": "markdown",
   "metadata": {
    "collapsed": true
   },
   "source": [
    "## Dictionaries are one of  <b style=\"color:blue\">the great things</b> about Python. \n",
    "\n",
    "They <b style=\"color:blue\">greatly reduce </b> the difficulty of writing a <b style=\"color:blue\">variety</b> of programs.\n",
    "\n",
    ">Most programming languages do not contain a built-in type that provides a mapping from **keys** to **values**.\n",
    "\n",
    "For example,\n",
    "\n",
    "we use dictionaries to write a (pretty horrible) program to `translate between languages`.\n",
    "\n",
    "> **NOTE**: There is a error in MIT Book"
   ]
  },
  {
   "cell_type": "code",
   "execution_count": null,
   "metadata": {},
   "outputs": [],
   "source": [
    "# English -> France\n",
    "EtoF = {'bread': 'pain', 'wine': 'vin', 'with': 'avec', 'I': 'Je',\n",
    "        'eat': 'mange', 'drink': 'bois', 'John': 'Jean',\n",
    "        'friends': 'amis', 'and': 'et', 'of': 'du', 'red': 'rouge'}\n",
    "#  France->English\n",
    "FtoE = {'pain': 'bread', 'vin': 'wine', 'avec': 'with', 'Je': 'I',\n",
    "        'mange': 'eat', 'bois': 'drink', 'Jean': 'John',\n",
    "        'amis': 'friends', 'et': 'and', 'du': 'of', 'rouge': 'red'}\n",
    "\n",
    "dicts = {'English to French': EtoF, 'French to English': FtoE}\n",
    "\n",
    "\n",
    "def translateWord(word, dictionary):\n",
    "    if word in list(dictionary.keys()):\n",
    "        return dictionary[word]\n",
    "    elif word != '':\n",
    "        return '\"' + word + '\"'\n",
    "    return word\n",
    "\n",
    "\n",
    "def translate(phrase, dicts, direction):\n",
    "    UCLetters = 'ABCDEFGHIJKLMNOPQRSTUVWXYZ'\n",
    "    LCLetters = 'abcdefghijklmnopqrstuvwxyz'\n",
    "    letters = UCLetters + LCLetters\n",
    "\n",
    "    dictionary = dicts[direction]\n",
    "\n",
    "    translation = ''\n",
    "    word = ''\n",
    "\n",
    "    for c in phrase:\n",
    "        if c in letters:\n",
    "            word = word + c\n",
    "        else:\n",
    "            translation = (translation\n",
    "                           + translateWord(word, dictionary) + c)\n",
    "            word = ''\n",
    "    return translation + ' ' + translateWord(word, dictionary)\n",
    "\n",
    "\n",
    "print(translate('I drink good red wine, and eat bread.',\n",
    "                dicts, 'English to French'))\n",
    "\n",
    "print(translate('Je bois du vin rouge.',\n",
    "                dicts, 'French to English'))"
   ]
  },
  {
   "cell_type": "markdown",
   "metadata": {},
   "source": [
    "Remember that dictionaries are  <font color=\"blue\">mutable.</font>,So one must be careful about side effects.\n",
    "\n",
    "For example"
   ]
  },
  {
   "cell_type": "code",
   "execution_count": null,
   "metadata": {},
   "outputs": [],
   "source": [
    "FtoE['bois'] = 'drink'  \n",
    "print(translate('Je bois du vin rouge.', dicts, 'French to English'))"
   ]
  },
  {
   "cell_type": "code",
   "execution_count": null,
   "metadata": {},
   "outputs": [],
   "source": [
    "FtoE['bois'] = 'wood' \n",
    "print(translate('Je bois du vin rouge.', dicts, 'French to English'))"
   ]
  },
  {
   "cell_type": "code",
   "execution_count": null,
   "metadata": {},
   "outputs": [],
   "source": [
    "FtoE['bois'] = 'drink'  \n",
    "print(translate('Je bois du vin rouge.', dicts, 'French to English'))"
   ]
  },
  {
   "cell_type": "markdown",
   "metadata": {},
   "source": [
    "## Iterate over the entries in a dictionary\n",
    "\n",
    " <b style=\"color:blue\">for</b> statement can be used to `iterate` over the entries in `a dictionary`. \n",
    "\n",
    "```python\n",
    "for <item> in <a dictionary>\n",
    "```\n",
    "\n",
    "However, the `value` assigned to the iteration variable is a <b style=\"color:blue\">key</b>, not a `key/value` pair.\n",
    "\n",
    "For example"
   ]
  },
  {
   "cell_type": "code",
   "execution_count": null,
   "metadata": {},
   "outputs": [],
   "source": [
    "monthNumbers = {'Jan':1, 'Feb':2, 'Mar':3, 'Apr':4, 'May':5,\n",
    "                1:'Jan', 2:'Feb', 3:'Mar', 4:'Apr', 5:'May'}\n",
    "keys = []\n",
    "for e in monthNumbers:\n",
    "    print(e)\n",
    "    keys.append(e) # the value s a key， not a key/value pair.\n",
    "\n",
    "print(keys)\n",
    "type(keys)\n",
    "\n",
    "# There is a error in MIT book:'<' not supported between instances of 'int' and 'str'\n",
    "# keys.sort()\n",
    "# print(keys)"
   ]
  },
  {
   "cell_type": "markdown",
   "metadata": {},
   "source": [
    "## More About Key\n",
    "\n",
    "Not all types of of objects can be used as keys:\n",
    "\n",
    "A **key** must be an object of a `hashable` type. A type is hashable if it has\n",
    "\n",
    "* A `__hash__` method that `maps` an` object of the type` to an `int`, and for every object the value returned by `__hash__` does **not change during the lifetime of the object**,and\n",
    "\n",
    "* An `__eq__` method that is used to compare objects for equality.\n",
    "\n",
    "All of Python’s built-in **immutable** types are **hashable**, and none of Python’s built-in mutable types are hashable.\n",
    "\n",
    "<b style=\"color:blue\">Keys</b> can be values of <b>any immutable type</b>.\n",
    "\n",
    "* Strings and numbers can always be keys. \n",
    "\n",
    "* Tuples can be used as keys if they contain only strings, numbers, or tuples;\n",
    "\n",
    "The `most common` data type of `key` is **string** : `dictionary = {\"key1”: value1, “key2”: value2}`\n",
    "\n",
    "Sometimes,it is convenient to use **tuples as keys**. \n",
    "\n",
    "for example, using a tuple of the form <b style=\"color:blue\">(flightNumber, day)</b> to represent **airline** flights.\n",
    "\n",
    "It would then be easy to use such `tuples as keys` in a dictionary implementing a mapping from **flights** to **arrival times**"
   ]
  },
  {
   "cell_type": "code",
   "execution_count": 1,
   "metadata": {},
   "outputs": [
    {
     "name": "stdout",
     "output_type": "stream",
     "text": [
      "Airline_Flight1_Arrival_Time: 2013-05-21 09:50:35 \n",
      "\n",
      "Airline_Flight2_Arrival_Time: 2013-05-21 10:50:35\n"
     ]
    }
   ],
   "source": [
    "# tuple\n",
    "Airline_Flight1=('C1208','2013-05-21')\n",
    "Airline_Flight2=('C1230','2013-05-22')\n",
    " \n",
    "# tuple as dictionary keys.\n",
    "# dict: flights:arrival times\n",
    "Arrival_Times={Airline_Flight1:'2013-05-21 09:50:35',Airline_Flight2:'2013-05-21 10:50:35'}\n",
    "\n",
    "# a mapping from flights to arrival times\n",
    "Airline_Flight1_Arrival_Time=Arrival_Times[Airline_Flight1]\n",
    "print('Airline_Flight1_Arrival_Time:',Airline_Flight1_Arrival_Time,'\\n')\n",
    "\n",
    "Airline_Flight2_Arrival_Time=Arrival_Times[Airline_Flight2]\n",
    "print('Airline_Flight2_Arrival_Time:',Airline_Flight2_Arrival_Time)\n"
   ]
  },
  {
   "cell_type": "markdown",
   "metadata": {},
   "source": [
    "## Dictionary view objects\n",
    "\n",
    "The view objects returned by \n",
    "  \n",
    "* **dict.keys()** :reture is a `dict_keys` object, which is an iterator \n",
    "\n",
    "        \n",
    "* **dict.values()** reture is a `dict_values` object, which is an iterator\n",
    "    \n",
    "    \n",
    "* **dict.items()**:reture is a `dict_items` object, which is an iterator that iterates the `key-value` pairs\n",
    "\n",
    "The view objects can be \n",
    "\n",
    "* `iterated` over using <b style=\"color:blue\">for</b> \n",
    "    \n",
    "* `membership` can be `tested` using <b style=\"color:blue\">in</b> \n",
    "\n",
    "*  easily converted into a `list`, using <b style=\"color:blue\">list</b>\n",
    "\n",
    "They provide a dynamic view on the dictionary’s entries, which means that when the dictionary changes, the view reflects these changes.\n",
    "\n",
    "### dict.keys() \n",
    "\n",
    "The method **keys** returns an object of type `dict_keys`.\n",
    "\n",
    "* The `order` in which the keys appear in the view is `not defined`."
   ]
  },
  {
   "cell_type": "code",
   "execution_count": null,
   "metadata": {},
   "outputs": [],
   "source": [
    "dishes = {'eggs': 2, 'sausage': 1, 'bacon': 1, 'spam': 500}\n",
    "keys = dishes.keys() # The order in which the keys appear is not defined.\n",
    "keys"
   ]
  },
  {
   "cell_type": "code",
   "execution_count": null,
   "metadata": {},
   "outputs": [],
   "source": [
    "for key in keys:\n",
    "    print(key)"
   ]
  },
  {
   "cell_type": "code",
   "execution_count": null,
   "metadata": {},
   "outputs": [],
   "source": [
    "'eggs' in dishes "
   ]
  },
  {
   "cell_type": "code",
   "execution_count": null,
   "metadata": {},
   "outputs": [],
   "source": [
    "list(keys)"
   ]
  },
  {
   "cell_type": "markdown",
   "metadata": {},
   "source": [
    "### dict.values()"
   ]
  },
  {
   "cell_type": "code",
   "execution_count": null,
   "metadata": {},
   "outputs": [],
   "source": [
    "values = dishes.values()\n",
    "values"
   ]
  },
  {
   "cell_type": "code",
   "execution_count": null,
   "metadata": {},
   "outputs": [],
   "source": [
    "n = 0\n",
    "for val in values:\n",
    "    n += val\n",
    "print(n)"
   ]
  },
  {
   "cell_type": "code",
   "execution_count": null,
   "metadata": {},
   "outputs": [],
   "source": [
    "1 in values"
   ]
  },
  {
   "cell_type": "code",
   "execution_count": null,
   "metadata": {},
   "outputs": [],
   "source": [
    "list(values)"
   ]
  },
  {
   "cell_type": "markdown",
   "metadata": {},
   "source": [
    "### dict.items()\n",
    "\n",
    "**dict.items()**: Return a new view of the dictionary’s items <strong style=\"color:blue\">(key, value)</strong> pairs  in **tuple** "
   ]
  },
  {
   "cell_type": "code",
   "execution_count": null,
   "metadata": {},
   "outputs": [],
   "source": [
    "dishes = {'eggs': 2, 'sausage': 1, 'bacon': 1, 'spam': 500}\n",
    "items = dishes.items()\n",
    "items"
   ]
  },
  {
   "cell_type": "code",
   "execution_count": null,
   "metadata": {},
   "outputs": [],
   "source": [
    "for (key,value) in dishes.items():\n",
    "    print(key,value)\n",
    "    pairs.append((key,value)) "
   ]
  },
  {
   "cell_type": "code",
   "execution_count": null,
   "metadata": {},
   "outputs": [],
   "source": [
    "('eggs', 2) in items"
   ]
  },
  {
   "cell_type": "code",
   "execution_count": null,
   "metadata": {},
   "outputs": [],
   "source": [
    "pairs=list(dishes.items())\n",
    "print('(key,value) in monthNumbers.items():')\n",
    "print(pairs)\n",
    "print(pairs[0])\n",
    "print(pairs[0][0],pairs[0][1])"
   ]
  },
  {
   "cell_type": "markdown",
   "metadata": {},
   "source": [
    "### view objects are dynamic and reflect dict changes\n"
   ]
  },
  {
   "cell_type": "code",
   "execution_count": null,
   "metadata": {},
   "outputs": [],
   "source": [
    "dishes = {'eggs': 2, 'sausage': 1, 'bacon': 1, 'spam': 500}\n",
    "\n",
    "keys = dishes.keys()\n",
    "values = dishes.values()\n",
    "items=dishes.items()\n",
    "\n",
    "print(keys)\n",
    "print(values)\n",
    "print(items)"
   ]
  },
  {
   "cell_type": "markdown",
   "metadata": {},
   "source": [
    "**change values**"
   ]
  },
  {
   "cell_type": "code",
   "execution_count": null,
   "metadata": {},
   "outputs": [],
   "source": [
    "dishes['eggs']=20\n",
    "print(values)\n",
    "print(items)"
   ]
  },
  {
   "cell_type": "markdown",
   "metadata": {},
   "source": [
    "**add a `key:value` pair**"
   ]
  },
  {
   "cell_type": "code",
   "execution_count": null,
   "metadata": {},
   "outputs": [],
   "source": [
    "dishes['fishes']=8\n",
    "print(keys)\n",
    "print(values)\n",
    "print(items)"
   ]
  },
  {
   "cell_type": "markdown",
   "metadata": {},
   "source": [
    "**delete items**\n",
    "\n",
    "* del d[k] :remove key `k` from `d`"
   ]
  },
  {
   "cell_type": "code",
   "execution_count": null,
   "metadata": {},
   "outputs": [],
   "source": [
    "del dishes['eggs']\n",
    "del dishes['sausage']\n",
    "print(keys)\n",
    "print(values)\n",
    "print(items)"
   ]
  },
  {
   "cell_type": "markdown",
   "metadata": {},
   "source": [
    "### The dictionary methods \n",
    "\n",
    "As with lists, there are many useful methods associated with dictionaries, including some for removing elements. We do not enumerate all of them here, but will use them as convenient in examples later in the book. The Figure contains some of the more useful operations on  ictionaries\n",
    "\n",
    "![fig510](./img/fig510.jpg)\n",
    "\n",
    "\n",
    "### Supplementary : dictionary-specific member functions\n",
    "\n",
    "* d.has_key():\n",
    "\n",
    "* d.clear():\n",
    "\n",
    "* d.copy():\n",
    "\n",
    "* d.update(d2): `merge` the given dictionary d2 into d. Override the value if key exists, else, add new key-value.\n",
    "\n",
    "* d.pop(): `pop` method simultaneously returns the value and deletes the key"
   ]
  },
  {
   "cell_type": "markdown",
   "metadata": {},
   "source": [
    "### merge dict : update\n",
    "\n",
    "You can **merge** one dict into another using the `update` method.\n",
    "\n",
    "The update method changes dicts `in-place`, so any existing keys in the data passed to update will have their old values discarded."
   ]
  },
  {
   "cell_type": "code",
   "execution_count": null,
   "metadata": {},
   "outputs": [],
   "source": [
    "dishes = {'eggs': 2, 'sausage': 1, 'bacon': 1, 'spam': 500}\n",
    "# the existing key :eggs\n",
    "# the new key: fishes\n",
    "dishes.update({'eggs': 20,'fishes' :8})\n",
    "dishes "
   ]
  },
  {
   "cell_type": "markdown",
   "metadata": {},
   "source": [
    "###   pop values:  pop\n",
    "\n",
    "the `pop` method  simultaneously `returns the value` and deletes the key:\n",
    "\n"
   ]
  },
  {
   "cell_type": "code",
   "execution_count": null,
   "metadata": {},
   "outputs": [],
   "source": [
    "dishes = {'eggs': 2, 'sausage': 1, 'bacon': 1, 'spam': 500}\n",
    "ret = dishes.pop('eggs') # returns the value simultaneously\n",
    "ret"
   ]
  },
  {
   "cell_type": "code",
   "execution_count": null,
   "metadata": {},
   "outputs": [],
   "source": [
    "dishes"
   ]
  },
  {
   "cell_type": "markdown",
   "metadata": {},
   "source": [
    "## Further Reading : Mapping Types — dict\n",
    "\n",
    "* Python Library: 4.10 Mapping Types — dict\n",
    "    \n",
    "  * https://docs.python.org/dev/library/stdtypes.html#mapping-types-dict\n",
    " "
   ]
  }
 ],
 "metadata": {
  "kernelspec": {
   "display_name": "Python 3",
   "language": "python",
   "name": "python3"
  },
  "language_info": {
   "codemirror_mode": {
    "name": "ipython",
    "version": 3
   },
   "file_extension": ".py",
   "mimetype": "text/x-python",
   "name": "python",
   "nbconvert_exporter": "python",
   "pygments_lexer": "ipython3",
   "version": "3.7.2"
  },
  "toc": {
   "base_numbering": 1,
   "nav_menu": {},
   "number_sections": false,
   "sideBar": true,
   "skip_h1_title": false,
   "title_cell": "Table of Contents",
   "title_sidebar": "Contents",
   "toc_cell": false,
   "toc_position": {
    "height": "568px",
    "left": "419px",
    "top": "110.98px",
    "width": "333.91px"
   },
   "toc_section_display": true,
   "toc_window_display": true
  },
  "widgets": {
   "state": {},
   "version": "1.1.2"
  }
 },
 "nbformat": 4,
 "nbformat_minor": 1
}
