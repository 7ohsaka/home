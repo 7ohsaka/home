{
 "cells": [
  {
   "cell_type": "markdown",
   "metadata": {},
   "source": [
    "# 5 STRUCTURED TYPES, MUTABILITY, AND HIGHERORDER FUNCTIONS\n",
    "\n",
    "The programs we have looked at thus far have dealt with three types of objects: `int,float, and str`. \n",
    "\n",
    "The numeric types `int` and `float` are scalar(标量) types. That is to say, objects of these types have `no accessible internal structure`. \n",
    "\n",
    "In contrast, `str` can be thought of as a `structured, or non-scalar`, type. One can use indexing to extract individual characters from a string and slicing to extract substrings.\n",
    "\n",
    "In this chapter, we introduce `four additional structured types`. \n",
    "\n",
    "* One, <b style=\"color:blue\">tuple</b>(元组）, is a rather simple generalization of `str`. \n",
    "\n",
    "* The other three—<b style=\"color:blue\">list</b>(列表）\n",
    "\n",
    "* **range**</b>   and \n",
    "\n",
    "* <b style=\"color:blue\">dict</b>(字典） —are more **interesting**. \n",
    "\n",
    "We also return to the topic of <b style=\"color:blue\">functions</b> with some examples that illustrate the utility of being able to treat functions in the same way as other types of objects."
   ]
  },
  {
   "cell_type": "markdown",
   "metadata": {},
   "source": [
    "## 5.3 Lists and Mutability\n",
    "\n",
    "Like a tuple,a **list** is an <b>ordered sequence</b> of values, where each value is <b>identified by an index </b>. \n",
    "\n",
    "The syntax for expressing literals of type list is similar to that used for tuples; \n",
    "\n",
    "the difference is that we use <b>square brackets []</b> rather than parentheses(). \n",
    "\n",
    "So, for example, the code,"
   ]
  },
  {
   "cell_type": "code",
   "execution_count": null,
   "metadata": {},
   "outputs": [],
   "source": [
    "L = ['I did it all', 4, 'love']  # square brackets []\n",
    "\n",
    "for i in range(len(L)):\n",
    "    print(L[i])\n",
    "\n",
    "for li in L:\n",
    "    print(li)\n"
   ]
  },
  {
   "cell_type": "markdown",
   "metadata": {},
   "source": [
    "The <b>empty list</b> is written as <b>[]</b>\n",
    "\n",
    "<p> <b>Singleton lists</b> are written <b>without comma</b> before the closing bracket."
   ]
  },
  {
   "cell_type": "code",
   "execution_count": null,
   "metadata": {},
   "outputs": [],
   "source": [
    "Lempty=[]   #empty list\n",
    "\n",
    "Lonly1=[10] # singleton list: without comma\n",
    "\n",
    "print('empty list:',Lempty)\n",
    "\n",
    "print(type(Lonly1))\n",
    "print(Lonly1)"
   ]
  },
  {
   "cell_type": "markdown",
   "metadata": {},
   "source": [
    "Occasionally, the fact that Square brackets  $[]$ are used for \n",
    "\n",
    "* 1 **literals** of type list\n",
    "\n",
    "* 2 **indexing** into lists, and\n",
    "\n",
    "* 3 **slicing** lists\n",
    "\n",
    "can lead to some `visual confusion`. \n",
    "\n",
    "For example:the expression `[1,2,3,4][1:3][1]`, which evaluates to 3, uses the square brackets in three different ways. \n"
   ]
  },
  {
   "cell_type": "code",
   "execution_count": null,
   "metadata": {},
   "outputs": [],
   "source": [
    "print([1,2,3,4])  #  literals of typel ist\n",
    "\n",
    "print([1,2,3,4][1:3]) # slicing list\n",
    "\n",
    "print([1,2,3,4][1:3][1]) # licing list,then indexing into sliced list"
   ]
  },
  {
   "cell_type": "markdown",
   "metadata": {},
   "source": [
    "\n",
    "This is rarely a problem in practice, because most of the time lists are `built incrementally` rather than `written as literals`."
   ]
  },
  {
   "cell_type": "markdown",
   "metadata": {},
   "source": [
    "----\n",
    "\n",
    "### lists are` mutable`\n",
    "\n",
    "Lists differ from tuples in one hugely important way:\n",
    "\n",
    "<b style=\"color:blue\">lists are mutable</b>\n",
    "\n",
    "**tuples and strings** are `immutable`\n",
    "\n",
    "There are many operators that can be used to create objects of these immutable types, and variables can be bound to objects of these types.\n",
    "But objects of `immutable` types **cannot be modified `after they are created`**. \n",
    "\n",
    "\n",
    "On the other hand, objects of type `list`  **can be modified `after they are created`**.\n"
   ]
  },
  {
   "cell_type": "markdown",
   "metadata": {
    "collapsed": true
   },
   "source": [
    "The `distinction` between <b>mutating an object</b> and <b>assigning an object to a variable</b> may, at first, appear subtle. However, if you keep repeating the mantra, \n",
    "\n",
    "“In Python a variable is merely a name, i.e., a label that can be attached to an object,” \n",
    "\n",
    "it will bring you clarity. When the statements"
   ]
  },
  {
   "cell_type": "code",
   "execution_count": null,
   "metadata": {},
   "outputs": [],
   "source": [
    "Techs = ['MIT', 'Caltech']\n",
    "Ivys = ['Harvard', 'Yale', 'Brown']"
   ]
  },
  {
   "cell_type": "markdown",
   "metadata": {},
   "source": [
    "are executed, the interpreter creates two new lists and binds the appropriate variables to them, as pictured in Figure 5.1.\n",
    "\n",
    "![ Figure 5.1](./img/fig51.PNG)"
   ]
  },
  {
   "cell_type": "markdown",
   "metadata": {},
   "source": [
    "The assignment statements"
   ]
  },
  {
   "cell_type": "code",
   "execution_count": null,
   "metadata": {},
   "outputs": [],
   "source": [
    "Univs = [Techs, Ivys]\n",
    "\n",
    "Univs1 = [['MIT', 'Caltech'], ['Harvard', 'Yale', 'Brown']]"
   ]
  },
  {
   "cell_type": "markdown",
   "metadata": {},
   "source": [
    "also create new lists and bind variables to them. The elements of these lists are themselves lists. The three print statements\n"
   ]
  },
  {
   "cell_type": "code",
   "execution_count": null,
   "metadata": {},
   "outputs": [],
   "source": [
    "print('Univs =', Univs) \n",
    "print('Univs1 =', Univs1)\n",
    "print(Univs == Univs1)"
   ]
  },
  {
   "cell_type": "markdown",
   "metadata": {},
   "source": [
    "produce the output\n",
    "\n",
    "It appears as if `Univs` and `Univs1` are bound to <b style=\"color:blue\">the same value</b>. \n",
    "\n",
    "But `appearances` can be `deceiving`. \n",
    "\n",
    "As the following picture illustrates, `Univs` and `Univs1` are bound to quite **different** values.\n",
    "![fig52](./img/fig52.PNG) \n",
    "\n",
    "That `Univs` and`Univs1` are bound to different objects can be verified using the built-in Python function \n",
    "\n",
    "* <b style=\"color:blue\">id</b>, which returns  <b style=\"color:blue\">a unique integer identifier</b> for an object. \n",
    "\n",
    "This function allows us to **test for `object equality`**. When we run the code"
   ]
  },
  {
   "cell_type": "code",
   "execution_count": null,
   "metadata": {},
   "outputs": [],
   "source": [
    "print(Univs == Univs1) # test value equality\n",
    "\n",
    "print(id(Univs) == id(Univs1)) #test object equality\n",
    "\n",
    "print('Id of Univs =', id(Univs))\n",
    "\n",
    "print('Id of Univs1 =', id(Univs1))"
   ]
  },
  {
   "cell_type": "markdown",
   "metadata": {},
   "source": [
    "The **elements of `Univs`** are **not copies of the lists** to which `Techs` and `Ivys` are bound, but are rather the `themselves`.\n",
    "\n",
    "The **elements of `Univs1`** are lists that contain <b>the same `elements`</b> as the lists in `Univs`,but they are **not the same `lists`**.\n",
    "\n",
    "We can see this by running the code\n"
   ]
  },
  {
   "cell_type": "code",
   "execution_count": null,
   "metadata": {},
   "outputs": [],
   "source": [
    "print('Ids of Techs, Univs[0]', id(Techs), id(Univs[0]))\n",
    "\n",
    "print('Ids of Ivys, Univs[1]', id(Ivys), id(Univs[1]))\n",
    "\n",
    "print('Ids of Univs[0] and Univs[1]', id(Univs[0]), id(Univs[1]))\n",
    "\n",
    "print('Ids of Univs1[0] and Univs1[1]', id(Univs1[0]), id(Univs1[1]))"
   ]
  },
  {
   "cell_type": "markdown",
   "metadata": {},
   "source": [
    "<b style=\"color:blue;font-size:150%\"> Why does this matter? It matters because lists are mutable</b>\n",
    "\n",
    "Consider the code"
   ]
  },
  {
   "cell_type": "code",
   "execution_count": null,
   "metadata": {},
   "outputs": [],
   "source": [
    "# Techs = ['MIT', 'Caltech']\n",
    "\n",
    "Techs.append('RPI') #through the variable Techs \n",
    "print(Techs)"
   ]
  },
  {
   "cell_type": "markdown",
   "metadata": {
    "collapsed": true
   },
   "source": [
    "The **append** method has **a side effect.** \n",
    "\n",
    "* Rather than create a `new` list, it **`mutates the existing` list Techs** by adding a new element,`the string 'RPI'`, to the end of it.\n",
    "\n",
    "The Figure depicts the state of the computation after append is executed.\n",
    "![fig53](./img/fig53.PNG) \n"
   ]
  },
  {
   "cell_type": "markdown",
   "metadata": {},
   "source": [
    "The object to which **Univs**is bound still contains the `same two lists`, but the `contents` of\n",
    "one of those lists has been `changed`. Consequently, the print statements"
   ]
  },
  {
   "cell_type": "code",
   "execution_count": null,
   "metadata": {},
   "outputs": [],
   "source": [
    "print('Univs =', Univs)\n",
    "print('Univs1 =', Univs1)"
   ]
  },
  {
   "cell_type": "markdown",
   "metadata": {},
   "source": [
    "What we have here is something called **aliasing**(别名). \n",
    "\n",
    "There are `two distinct paths` to the same list object. \n",
    "\n",
    "One path is through the variable `Techs` and the other through the `first element` of the list object to which `Univs` is bound. \n",
    "\n",
    "One can `mutate` the object via `either` path, and the effect of the mutation will be visible through both paths. \n",
    "\n",
    "This can be `convenient`, but it can also be `treacherous`. \n",
    "\n",
    "* **Unintentional aliasing leads to programming errors that are often enormously hard to track down**."
   ]
  },
  {
   "cell_type": "markdown",
   "metadata": {},
   "source": [
    "As with tuples, a **for** statement can be used to iterate over the elements of a list. For example"
   ]
  },
  {
   "cell_type": "code",
   "execution_count": null,
   "metadata": {},
   "outputs": [],
   "source": [
    "for e in Univs:\n",
    "    print('Univs contains', e) # list \n",
    "    print('   which contains')\n",
    "    for u in e:\n",
    "        print('    ', u)   # the elements of a list."
   ]
  },
  {
   "cell_type": "markdown",
   "metadata": {},
   "source": [
    "### append VS `concatenation(+) or extend`\n",
    "\n",
    "When we `append` one list to another, e.g., `Techs.append(Ivys`), the `original structure is maintained`. I.e., the result is `a list that contains a list`. "
   ]
  },
  {
   "cell_type": "code",
   "execution_count": null,
   "metadata": {},
   "outputs": [],
   "source": [
    "Techs = ['MIT', 'Caltech']\n",
    "Ivys = ['Harvard', 'Yale', 'Brown']\n",
    "Techs.append(Ivys)\n",
    "Techs"
   ]
  },
  {
   "cell_type": "markdown",
   "metadata": {
    "collapsed": true
   },
   "source": [
    "Suppose we do not want to maintain this structure, but want to add the elements of one list into another list. We can do that by using list `concatenation` or the `extend` method, e.g.,\n",
    "\n",
    "* Concatenating lists：+  \n",
    "\n",
    "* Combining lists： extend"
   ]
  },
  {
   "cell_type": "code",
   "execution_count": null,
   "metadata": {
    "scrolled": true
   },
   "outputs": [],
   "source": [
    "L1 = [1,2,3]\n",
    "L2 = [4,5,6]\n",
    "\n",
    "#  +  creates a new list\n",
    "L3 = L1 + L2 \n",
    "print('L3= L1 + L2,L3 ', L3)\n",
    "\n",
    "print('id L1=',id(L1))\n",
    "print('id L2=',id(L2))\n",
    "print('a new list:id L3=',id(L3))\n",
    "\n",
    "# extend : add items in the list L2 to the end of list L\n",
    "L1.extend(L2) # 1\n",
    "print('L1.extend(L2) ,L1 =', L1)\n",
    "print('mutated L1: id L1.extend(L2)=',id(L1))\n",
    "\n",
    "# append : dd objects e to the end of L1\n",
    "L1.append(L2) \n",
    "print('L1.append(L2), L1 =', L1)\n",
    "print('mutated L1: id L1.append(L2)=',id(L1))"
   ]
  },
  {
   "cell_type": "markdown",
   "metadata": {},
   "source": [
    "Notice that:\n",
    "\n",
    "* the operator(concatenation): `+` does not have a side effect. It creates **a new list** and returns it. \n",
    "\n",
    "\n",
    "* In contrast,**extend** and **append** each **mutated** L1. \n"
   ]
  },
  {
   "cell_type": "markdown",
   "metadata": {},
   "source": [
    "### The List's Methods\n",
    "\n",
    "The list data type has some more methods. Here are all of the methods of list objects:\n",
    "\n",
    "https://docs.python.org/tutorial/datastructures.html#more-on-lists\n",
    "\n",
    "\n",
    "#### `list`function\n",
    "The `list` function is frequently used in data processing as a way to materialize an iterator or generator expression:\n"
   ]
  },
  {
   "cell_type": "code",
   "execution_count": null,
   "metadata": {},
   "outputs": [],
   "source": [
    "gen = range(10)\n",
    "gen"
   ]
  },
  {
   "cell_type": "code",
   "execution_count": null,
   "metadata": {},
   "outputs": [],
   "source": [
    "list(gen) "
   ]
  },
  {
   "cell_type": "markdown",
   "metadata": {},
   "source": [
    "\n",
    "![fig54](./img/fig54.PNG) \n",
    "\n",
    "Note that: `all of these` except <b style=\"color:blue\">count</b> and <b style=\"color:blue\">index</b> `mutate` the list.\n",
    "\n",
    "#####   Supplementary List member Functions\n",
    "\n",
    "* L.clear(): remove all the items from the lst and return None; same as del L[:].\n",
    "\n",
    "* L.copy(): return a copy of L; same as L[:]\n"
   ]
  },
  {
   "cell_type": "code",
   "execution_count": null,
   "metadata": {},
   "outputs": [],
   "source": [
    "L = [1,2,3,3,1]\n",
    "L.count(3)"
   ]
  },
  {
   "cell_type": "code",
   "execution_count": null,
   "metadata": {},
   "outputs": [],
   "source": [
    "L.index(2)"
   ]
  },
  {
   "cell_type": "markdown",
   "metadata": {},
   "source": [
    "####  Adding and removing elements\n",
    "\n",
    "* append,insert\n",
    "\n",
    "* pop\n",
    "\n",
    "`Elements` can be appended to the end of the list with the `append` method:"
   ]
  },
  {
   "cell_type": "code",
   "execution_count": null,
   "metadata": {},
   "outputs": [],
   "source": [
    "L = [1,2,3]\n",
    "L.append(3) \n",
    "L"
   ]
  },
  {
   "cell_type": "code",
   "execution_count": null,
   "metadata": {},
   "outputs": [],
   "source": [
    "L = [1,2,3]\n",
    "L.append([3,4]) \n",
    "L"
   ]
  },
  {
   "cell_type": "markdown",
   "metadata": {},
   "source": [
    "Using `insert` you can insert an element at a specific `location` in the list:"
   ]
  },
  {
   "cell_type": "code",
   "execution_count": null,
   "metadata": {},
   "outputs": [],
   "source": [
    "L = [1,2,3]\n",
    "L.insert(1, 'red')\n",
    "L"
   ]
  },
  {
   "cell_type": "markdown",
   "metadata": {},
   "source": [
    "The insertion index must be between `0 and the length of the list`, inclusive.\n",
    "\n",
    "The inverse operation to insert is `pop`, which `removes` and returns `an element` at a particular `index`:"
   ]
  },
  {
   "cell_type": "code",
   "execution_count": null,
   "metadata": {},
   "outputs": [],
   "source": [
    "L.pop(2)"
   ]
  },
  {
   "cell_type": "code",
   "execution_count": null,
   "metadata": {},
   "outputs": [],
   "source": [
    "L"
   ]
  },
  {
   "cell_type": "markdown",
   "metadata": {},
   "source": [
    "`Elements` can be `removed` by `value` with **remove**, which locates the `first such value` and removes it from the last:"
   ]
  },
  {
   "cell_type": "code",
   "execution_count": null,
   "metadata": {},
   "outputs": [],
   "source": [
    "L=[1, 'red', 2, 3]\n",
    "L.append('red')\n",
    "L"
   ]
  },
  {
   "cell_type": "code",
   "execution_count": null,
   "metadata": {},
   "outputs": [],
   "source": [
    "L.remove('red')\n",
    "L"
   ]
  },
  {
   "cell_type": "markdown",
   "metadata": {},
   "source": [
    "Check if a list contains a value using the **in** keyword:"
   ]
  },
  {
   "cell_type": "code",
   "execution_count": null,
   "metadata": {},
   "outputs": [],
   "source": [
    "'red' in L"
   ]
  },
  {
   "cell_type": "markdown",
   "metadata": {},
   "source": [
    "The keyword **not** can be used to negate in:"
   ]
  },
  {
   "cell_type": "code",
   "execution_count": null,
   "metadata": {},
   "outputs": [],
   "source": [
    "'red' not in L"
   ]
  },
  {
   "cell_type": "markdown",
   "metadata": {},
   "source": [
    "**NOTE** : Checking whether a list contains a value is **a lot slower** than doing so with **dicts and\n",
    "sets** (to be introduced shortly), as Python makes a linear scan across the values of the\n",
    "list, whereas it can check the others (based on hash tables) in constant time."
   ]
  },
  {
   "cell_type": "markdown",
   "metadata": {},
   "source": [
    "#### combining lists:extend\n",
    "\n",
    "If you have a list already defined, you can append multiple `elements` to it using the `extend` method:"
   ]
  },
  {
   "cell_type": "code",
   "execution_count": null,
   "metadata": {},
   "outputs": [],
   "source": [
    "L = [1,2,3]\n",
    "L.extend(['3',4]) \n",
    "L"
   ]
  },
  {
   "cell_type": "markdown",
   "metadata": {},
   "source": [
    "Using `extend` to append `elements` to an `existing` list, especially if you are building up a `large` list, is usually preferable.Thus,\n",
    "\n",
    "```python\n",
    "everything = []\n",
    "for chunk in list_of_lists:\n",
    "    everything.extend(chunk)\n",
    "```\n",
    "is **faster** than the concatenative alternative:\n",
    "```python\n",
    "everything = []\n",
    "for chunk in list_of_lists:\n",
    "    everything = everything + chunk\n",
    "```"
   ]
  },
  {
   "cell_type": "markdown",
   "metadata": {},
   "source": [
    "#### Sorting:sort\n",
    "You can sort a list `in-place (without creating a new object)` by calling its `sort` function:"
   ]
  },
  {
   "cell_type": "code",
   "execution_count": null,
   "metadata": {},
   "outputs": [],
   "source": [
    "a = [7, 2, 5, 1, 3]\n",
    "a.sort()\n",
    "a"
   ]
  },
  {
   "cell_type": "markdown",
   "metadata": {},
   "source": [
    "`sort` has a few options that will occasionally come in handy. One is the ability to pass a secondary sort **key**—that is, `a function` that produces a value to use to sort the objects.\n",
    "\n",
    "For example, we could sort a collection of strings by their `lengths`"
   ]
  },
  {
   "cell_type": "code",
   "execution_count": null,
   "metadata": {},
   "outputs": [],
   "source": [
    "b = ['saw', 'small', 'He', 'foxes', 'six']\n",
    "b.sort(key=len)\n",
    "b"
   ]
  },
  {
   "cell_type": "markdown",
   "metadata": {},
   "source": [
    "#### reverse\n",
    "\n",
    "reverse the order of element in L"
   ]
  },
  {
   "cell_type": "code",
   "execution_count": null,
   "metadata": {},
   "outputs": [],
   "source": [
    "L=[1,2,3]\n",
    "L.reverse()\n",
    "L"
   ]
  },
  {
   "cell_type": "markdown",
   "metadata": {},
   "source": [
    "### Slicing\n",
    "\n",
    "Recap:\n",
    "> [Lecture1-2-02_INTRODUCTION_TO_PYTHON: Slicing String](./Lecture1-2-02_INTRODUCTION_TO_PYTHON.ipynb)\n",
    ">\n",
    ">**Strings are one of several sequence types in Python** \n",
    ">\n",
    ">**They `share` the following operations with `all sequence` types.**\n",
    ">\n",
    ">* **Slicing** is used to extract substrings of arbitrary length. If s is a string, the expression <b>s[start:end] </b> denotes the >substring of s that starts at index start and ends at index <b>end-1</b>.\n",
    "\n",
    "You can select sections of most sequence types by using slice notation, which in its basic form consists of `start:stop` passed to the indexing operator `[]`:"
   ]
  },
  {
   "cell_type": "code",
   "execution_count": null,
   "metadata": {},
   "outputs": [],
   "source": [
    "seq = [7, 2, 3, 7, 5, 6, 0, 1]\n",
    "seq[1:5]"
   ]
  },
  {
   "cell_type": "markdown",
   "metadata": {},
   "source": [
    "Slices can also be `assigned` to with a sequence:"
   ]
  },
  {
   "cell_type": "code",
   "execution_count": null,
   "metadata": {},
   "outputs": [],
   "source": [
    "seq = [7, 2, 3, 7, 5, 6, 0, 1]\n",
    "seq[3:4]"
   ]
  },
  {
   "cell_type": "code",
   "execution_count": null,
   "metadata": {},
   "outputs": [],
   "source": [
    "seq[3:4] = [6, 3]\n",
    "seq"
   ]
  },
  {
   "cell_type": "markdown",
   "metadata": {},
   "source": [
    "the element of seq[3:4] `[7]` is replaces by the  `[6, 3]`"
   ]
  },
  {
   "cell_type": "markdown",
   "metadata": {},
   "source": [
    "While the element at the `start` index is `included`, the `stop` index is `not included`, so that the number of elements in the result is `stop - start`.\n",
    "\n",
    "Either `the start or stop can be omitted`, in which case they default to the start of the sequence and the end of the sequence, respectively:"
   ]
  },
  {
   "cell_type": "markdown",
   "metadata": {},
   "source": [
    "the start is omitted "
   ]
  },
  {
   "cell_type": "code",
   "execution_count": null,
   "metadata": {},
   "outputs": [],
   "source": [
    "seq = [7, 2, 3, 7, 5, 6, 0, 1]\n",
    "seq[:5]"
   ]
  },
  {
   "cell_type": "markdown",
   "metadata": {},
   "source": [
    "the stop is omitted"
   ]
  },
  {
   "cell_type": "code",
   "execution_count": null,
   "metadata": {},
   "outputs": [],
   "source": [
    "seq[3:]"
   ]
  },
  {
   "cell_type": "markdown",
   "metadata": {},
   "source": [
    "`Negative` indices slice the sequence `relative to the end`:"
   ]
  },
  {
   "cell_type": "code",
   "execution_count": null,
   "metadata": {},
   "outputs": [],
   "source": [
    "seq = [7, 2, 3, 7, 5, 6, 0, 1]\n",
    "seq[-4:]"
   ]
  },
  {
   "cell_type": "code",
   "execution_count": null,
   "metadata": {},
   "outputs": [],
   "source": [
    "seq[-6:-2]"
   ]
  },
  {
   "cell_type": "markdown",
   "metadata": {},
   "source": [
    "The Last item"
   ]
  },
  {
   "cell_type": "code",
   "execution_count": null,
   "metadata": {},
   "outputs": [],
   "source": [
    "seq[-1:]"
   ]
  },
  {
   "cell_type": "markdown",
   "metadata": {},
   "source": [
    "A `step` can also be used after a second colon to, say, take `every other` element:\n"
   ]
  },
  {
   "cell_type": "code",
   "execution_count": null,
   "metadata": {},
   "outputs": [],
   "source": [
    "seq = [7, 2, 3, 7, 5, 6, 0, 1]\n",
    "seq[::2]"
   ]
  },
  {
   "cell_type": "markdown",
   "metadata": {},
   "source": [
    "A clever use of this is to pass -1, which has the useful effect of reversing a list or tuple:"
   ]
  },
  {
   "cell_type": "code",
   "execution_count": null,
   "metadata": {},
   "outputs": [],
   "source": [
    "seq[::-1]"
   ]
  },
  {
   "cell_type": "markdown",
   "metadata": {},
   "source": [
    "### 5.3.1 Cloning\n",
    "\n",
    "It is usually prudent to <b>avoid mutating a list over which one is iterating</b>. Consider, for example, the code"
   ]
  },
  {
   "cell_type": "code",
   "execution_count": null,
   "metadata": {},
   "outputs": [],
   "source": [
    "def removeDups(L1, L2):\n",
    "    \"\"\"Assumes that L1 and L2 are lists.\n",
    "       Removes any element from L1 that also occurs in L2\"\"\"\n",
    "    for e1 in L1:\n",
    "       \n",
    "        # display mutation：L1.remove(e1)\n",
    "        print('Current Item=',e1) \n",
    "        print('Current len(L1)=',len(L1))  \n",
    "       \n",
    "        print('L1=',L1,'\\n')\n",
    "        \n",
    "        if e1 in L2:\n",
    "            L1.remove(e1) # mutation：L1.remove(e1)\n",
    "\n",
    "L1 = [1,2,3,4]\n",
    "L2 = [1,2,5,6]\n",
    "\n",
    "removeDups(L1, L2)\n",
    "# 1,2\n",
    "# L1=[3,4]\n",
    "print('\\n removeDups L1 =', L1)"
   ]
  },
  {
   "cell_type": "markdown",
   "metadata": {},
   "source": [
    "#### 1 One way to <b>avoid this kind of problem is to use slicing to clone</b> \n",
    "\n",
    "     make a copy of the list and write \n",
    "     \n",
    "```python     \n",
    "     for e1 in L1[:]:\n",
    "```"
   ]
  },
  {
   "cell_type": "code",
   "execution_count": null,
   "metadata": {},
   "outputs": [],
   "source": [
    "def removeDups(L1, L2):\n",
    "    \"\"\"Assumes that L1 and L2 are lists.\n",
    "       Removes any element from L1 that also occurs in L2\"\"\"\n",
    " \n",
    "    for e1 in L1[:]: # use slicing to clone\n",
    "        \n",
    "        print('Current Item=',e1) \n",
    "        print('Current len(L1)=',len(L1))  \n",
    "       \n",
    "        print('L1=',L1,'\\n')\n",
    "        \n",
    "        if e1 in L2:\n",
    "            L1.remove(e1)\n",
    "\n",
    "L1 = [1,2,3,4]\n",
    "L2 = [1,2,5,6]\n",
    "removeDups(L1, L2)\n",
    "print('\\n removeDups L1 =', L1)"
   ]
  },
  {
   "cell_type": "markdown",
   "metadata": {},
   "source": [
    "* <b>newL1 = L1</b> merely have introduced <b>a new name for L1</b>\n",
    "\n",
    "  * Assignment statements in Python do not copy objects, they create bindings between a target and an object."
   ]
  },
  {
   "cell_type": "code",
   "execution_count": null,
   "metadata": {},
   "outputs": [],
   "source": [
    "#Page 63-64\n",
    "def removeDups(L1, L2):\n",
    "    \"\"\"Assumes that L1 and L2 are lists.\n",
    "       Removes any element from L1 that also occurs in L2\"\"\"\n",
    "    \n",
    "    newL1=L1  # Assignment statements in Python do not copy objects, \n",
    "              # they create bindings between a target and an object.\n",
    "    \n",
    "    for e1 in newL1:\n",
    "        \n",
    "        print(len(L1))  # display mutation\n",
    "        print('L1=',L1)\n",
    "        \n",
    "        if e1 in L2:\n",
    "            L1.remove(e1)\n",
    "\n",
    "L1 = [1,2,3,4]\n",
    "L2 = [1,2,5,6]\n",
    "removeDups(L1, L2)\n",
    "print('\\n removeDups L1 =', L1)"
   ]
  },
  {
   "cell_type": "markdown",
   "metadata": {},
   "source": [
    "#### 2  The expression <b>list(l)</b> returns a copy of the list l. "
   ]
  },
  {
   "cell_type": "code",
   "execution_count": null,
   "metadata": {},
   "outputs": [],
   "source": [
    "#Page 63-64\n",
    "def removeDups(L1, L2):\n",
    "    \"\"\"Assumes that L1 and L2 are lists.\n",
    "       Removes any element from L1 that also occurs in L2\"\"\"\n",
    "    \n",
    "    newL1=list(L1)  # a copy of the list L1\n",
    "    \n",
    "    for e1 in newL1:\n",
    "        \n",
    "        print(len(L1))  # display mutation\n",
    "        print('L1=',L1)\n",
    "        \n",
    "        if e1 in L2:\n",
    "            L1.remove(e1)\n",
    "\n",
    "L1 = [1,2,3,4]\n",
    "L2 = [1,2,5,6]\n",
    "removeDups(L1, L2)\n",
    "print('\\n removeDups L1 =', L1)"
   ]
  },
  {
   "cell_type": "markdown",
   "metadata": {},
   "source": [
    "### Further Reading\n",
    "\n",
    "**1 Python 8.10 copy — Shallow and deep copy operations**\n",
    "\n",
    "https://docs.python.org/3/library/copy.html\n",
    "\n",
    "For collections that are mutable or contain mutable items, \n",
    "\n",
    "a copy is sometimes needed so one can change one copy without changing the other.\n",
    "\n",
    "This module provides generic shallow and deep copy operations (explained below).\n",
    "\n",
    "<p>Interface summary:\n",
    "<ul>\n",
    "<li>copy.copy(x): Return a shallow copy of x.\n",
    "<li>copy.deepcopy(x): Return a deep copy of x.\n",
    "</ul>\n",
    "\n",
    "* A shallow copy constructs a new compound object and then (to the extent possible) inserts references into it to the objects found in the original.\n",
    "* A deep copy constructs a new compound object and then, recursively, inserts copies into it of the objects found in the original.\n",
    "\n",
    "**2. The Python Standard Library by Example 2.8 copy—Duplicate Objects**"
   ]
  },
  {
   "cell_type": "code",
   "execution_count": null,
   "metadata": {},
   "outputs": [],
   "source": [
    "import copy\n",
    "\n",
    "def removeDups(L1, L2):\n",
    "    \"\"\"Assumes that L1 and L2 are lists.\n",
    "       Removes any element from L1 that also occurs in L2\"\"\"\n",
    "    \n",
    "    newL1=copy.deepcopy(L1)  # a copy of the list L1\n",
    "    \n",
    "    for e1 in newL1:\n",
    "        \n",
    "        print(len(L1))  # display mutation\n",
    "        print('L1=',L1)\n",
    "        \n",
    "        if e1 in L2:\n",
    "            L1.remove(e1)\n",
    "\n",
    "L1 = [1,2,3,4]\n",
    "L2 = [1,2,5,6]\n",
    "removeDups(L1, L2)\n",
    "print('\\n removeDups L1 =', L1)"
   ]
  },
  {
   "cell_type": "markdown",
   "metadata": {},
   "source": [
    "<strong style=\"color:blue;font-size:200%\">Cloning Methods</strong>\n",
    "\n",
    "* slicing：L1[:]\n",
    "* List(L1)\n",
    "* copy.copy(L1),copy.deepcopy(L1)"
   ]
  },
  {
   "cell_type": "markdown",
   "metadata": {},
   "source": [
    "### 5.3.2 List Comprehension\n",
    "\n",
    "List comprehension provides a concise way to apply an operation to the values in a sequence.\n",
    "\n",
    "It creates a new list in which each element is the result of applying a given operation to a value from a sequence "
   ]
  },
  {
   "cell_type": "code",
   "execution_count": null,
   "metadata": {},
   "outputs": [],
   "source": [
    "L = [x**2 for x in range(1,7)]\n",
    "print(L)"
   ]
  },
  {
   "cell_type": "code",
   "execution_count": null,
   "metadata": {},
   "outputs": [],
   "source": [
    "L =[]\n",
    "for x in range(1,7):\n",
    "    L.append(x**2)\n",
    "print(L)"
   ]
  },
  {
   "cell_type": "markdown",
   "metadata": {},
   "source": [
    "The `for` clause in a list comprehension can be <b>followed</b> by one or more \n",
    "\n",
    "* <b>if </b> statements \n",
    "\n",
    "* <b>for</b> statements \n",
    "\n",
    "that are applied to the values produced by the `for` clause."
   ]
  },
  {
   "cell_type": "markdown",
   "metadata": {},
   "source": [
    "* `if` statements"
   ]
  },
  {
   "cell_type": "code",
   "execution_count": null,
   "metadata": {},
   "outputs": [],
   "source": [
    "mixed = [1, 2, 'a', 3, 4.0]\n",
    "print([x**2 for x in mixed if type(x) == int])"
   ]
  },
  {
   "cell_type": "markdown",
   "metadata": {},
   "source": [
    "* `for` statements "
   ]
  },
  {
   "cell_type": "code",
   "execution_count": null,
   "metadata": {},
   "outputs": [],
   "source": [
    "print([x*y for x in [1,2,3] for y in  [1,2,3]])"
   ]
  },
  {
   "cell_type": "markdown",
   "metadata": {},
   "source": [
    "#### Further Reading：Python Tutorial\n",
    "\n",
    "* 5.1.3 List Comprehensions https://docs.python.org/3/tutorial/datastructures.html#list-comprehensions\n",
    "\n",
    "* 5.1.4 Nested List Comprehensions https://docs.python.org/3/tutorial/datastructures.html#nested-list-comprehensions\n"
   ]
  },
  {
   "cell_type": "markdown",
   "metadata": {},
   "source": [
    "Remember that somebody else may need to read your code\n",
    "\n",
    "* **subtle** is not usually a desirable property "
   ]
  },
  {
   "cell_type": "markdown",
   "metadata": {},
   "source": [
    "## 5.4 Functions as Objects\n",
    "\n",
    "In Python, functions are **first-class objects**.That means that they can be treated `like objects of any other type`, e.g., int or list. They have types, e.g.,"
   ]
  },
  {
   "cell_type": "code",
   "execution_count": null,
   "metadata": {},
   "outputs": [],
   "source": [
    "type(abs)"
   ]
  },
  {
   "cell_type": "code",
   "execution_count": null,
   "metadata": {},
   "outputs": [],
   "source": [
    "type(removeDups)"
   ]
  },
  {
   "cell_type": "markdown",
   "metadata": {},
   "source": [
    "they can appear in expressions, e.g., as the right-hand side of an assignment statement or as an argument to a function;they can be elements of lists; etc.\n",
    "\n",
    "Using `functions as arguments` allows a style of coding called **higher-order programming**. It can be particularly convenient in conjunction with lists, as shown in"
   ]
  },
  {
   "cell_type": "code",
   "execution_count": null,
   "metadata": {},
   "outputs": [],
   "source": [
    "%%file functionsCh4.py\n",
    "\n",
    "def factI(n):\n",
    "    \"\"\"Assumes that n is an int > 0\n",
    "      Returns n!\"\"\"\n",
    "    result = 1\n",
    "    while n > 1:\n",
    "        result = result * n\n",
    "        n -= 1\n",
    "    return result\n",
    "   \n",
    "def factR(n):\n",
    "    \"\"\"Assumes that n is an int > 0\n",
    "      Returns n!\"\"\"\n",
    "    if n == 1:\n",
    "        return n\n",
    "    else:\n",
    "        return n*factR(n - 1)\n",
    "\n",
    "def fib(n):\n",
    "    \"\"\"Assumes n an int >= 0\n",
    "       Returns Fibonacci of n\"\"\"\n",
    "    if n == 0 or n == 1:\n",
    "        return 1\n",
    "    else:\n",
    "        return fib(n-1) + fib(n-2)\n",
    "\n"
   ]
  },
  {
   "cell_type": "code",
   "execution_count": null,
   "metadata": {},
   "outputs": [],
   "source": [
    "from functionsCh4 import *\n",
    "\n",
    "def applyToEach(L, func):\n",
    "    \"\"\"Assumes L is a list, func a function\n",
    "       Mutates L by replacing each element, e, of L by f(e)\"\"\"\n",
    "    for i in range(len(L)):\n",
    "        L[i] = func(L[i])\n",
    "      \n",
    "L = [1, -2, 3.33]\n",
    "print('L =', L)\n",
    "print('\\nApply abs to each element of L.')\n",
    "\n",
    "applyToEach(L, abs)\n",
    "\n",
    "print('L =', L)\n",
    "\n",
    "print('\\nApply int to each element of', L)\n",
    "\n",
    "applyToEach(L, int)\n",
    "\n",
    "print('L =', L)\n",
    "\n",
    "print('\\nApply factorial to each element of', L)\n",
    "#  functionsCh4.py\n",
    "applyToEach(L, factR)\n",
    "\n",
    "print('L =', L)\n",
    "\n",
    "print('\\nApply Fibonnaci to each element of', L)\n",
    "# functionsCh4.py\n",
    "applyToEach(L, fib)\n",
    "\n",
    "print('L =', L)"
   ]
  },
  {
   "cell_type": "markdown",
   "metadata": {},
   "source": [
    "The function `applyToEach` is called `higher-order` because it has an `argument` that is itself `a function`"
   ]
  },
  {
   "cell_type": "markdown",
   "metadata": {},
   "source": [
    "### map: a built-in higher-order function in Python\n",
    "\n",
    "* the <b>simplest form</b> ：\n",
    "\n",
    "  * the first argument to `map` is <b>a unary function</b>, a function that has only <b>one parameter</b> \n",
    "  * the second argument is any ordered collection of values  suitable as arguments to the first argument."
   ]
  },
  {
   "cell_type": "code",
   "execution_count": null,
   "metadata": {},
   "outputs": [],
   "source": [
    "for i in map(fib, [2, 6, 4]):\n",
    "    print(i)"
   ]
  },
  {
   "cell_type": "code",
   "execution_count": null,
   "metadata": {},
   "outputs": [],
   "source": [
    "list(map(factR, [1, 2, 3]))"
   ]
  },
  {
   "cell_type": "code",
   "execution_count": null,
   "metadata": {},
   "outputs": [],
   "source": [
    "l=[]\n",
    "for i in [1,2,3]:\n",
    "    l.append(factR(i))\n",
    "l"
   ]
  },
  {
   "cell_type": "markdown",
   "metadata": {},
   "source": [
    "* **More generally** \n",
    "\n",
    "  * the first argument to `map` can be of <b>function of n arguments</b>, in which case it must be followed by <b>n subsequent ordered collections</b>"
   ]
  },
  {
   "cell_type": "code",
   "execution_count": null,
   "metadata": {},
   "outputs": [],
   "source": [
    "help(min)"
   ]
  },
  {
   "cell_type": "code",
   "execution_count": null,
   "metadata": {},
   "outputs": [],
   "source": [
    "#Page 64\n",
    "L1 = [1, 28, 36]\n",
    "L2 = [2, 57, 9]\n",
    "\n",
    "print(list(map(min, L1, L2)))  # min"
   ]
  },
  {
   "cell_type": "code",
   "execution_count": null,
   "metadata": {},
   "outputs": [],
   "source": [
    "L1 = [1, 28, 36]\n",
    "L2 = [2, 57, 9]\n",
    "lmin=[]\n",
    "for i in range(3):\n",
    "    lmin.append(min(L1[i],L2[i]))\n",
    "print(lmin)"
   ]
  },
  {
   "cell_type": "markdown",
   "metadata": {},
   "source": [
    "### lambda\n",
    "\n",
    "Python supports the creation of `anonymous` functions (i.e., functions that are not bound to a name), using the reserved word **lambda**. \n",
    "\n",
    "The general form of a lambda expression is\n",
    "```python\n",
    "lambda <sequence of variable names>: <expression>\n",
    "```\n",
    "For example, the lambda expression `lambda x, y: x*y` returns a function that returns  the product of its two arguments.\n"
   ]
  },
  {
   "cell_type": "code",
   "execution_count": null,
   "metadata": {},
   "outputs": [],
   "source": [
    "adder = lambda x, y: x+y\n",
    "print(adder(3,6))"
   ]
  },
  {
   "cell_type": "markdown",
   "metadata": {},
   "source": [
    " Lambda expressions are frequently used as arguments to higher-order functions. For example, the code"
   ]
  },
  {
   "cell_type": "code",
   "execution_count": null,
   "metadata": {},
   "outputs": [],
   "source": [
    "L = []\n",
    "for i in map(lambda x, y: x**y, [1 ,2 ,3, 4], [3, 2, 1, 0]):\n",
    "    L.append(i)\n",
    "print(L)\n"
   ]
  },
  {
   "cell_type": "markdown",
   "metadata": {},
   "source": [
    "### Further Reading\n",
    "\n",
    "* The Python Standard Library: Built-in Functions `map`: https://docs.python.org/3/library/functions.html#map\n",
    "\n",
    "* The Python Language Reference ：6.13 `Lambdas` https://docs.python.org/3/reference/expressions.html#lambda\n"
   ]
  },
  {
   "cell_type": "markdown",
   "metadata": {
    "collapsed": true
   },
   "source": [
    "## 5.5 Strings, Tuples, Ranges, and Lists\n",
    "\n",
    "We have looked at four different sequence types: `str, tuple, range, and list`. \n",
    "\n",
    "They are similar in that objects of of these types can be operated upon as described in the Figure\n",
    "<img src=\"./img/fig56.PNG\"/>"
   ]
  },
  {
   "cell_type": "markdown",
   "metadata": {},
   "source": [
    "Some of their other similarities and differences are summarized in the Figure\n",
    "\n",
    "![fig57](./img/fig57.PNG)\n",
    "\n"
   ]
  },
  {
   "cell_type": "markdown",
   "metadata": {},
   "source": [
    "Python programmers tend to use <b style=\"color:blue\">lists</b> far more <b style=\"color:blue\">often</b> than <b style=\"color:blue\">tuples</b>. \n",
    "\n",
    "Since `lists` are **mutable**, they can be **constructed incrementally** during a computation.For example, the following code incrementally builds a list containing all of the `even` numbers in another list."
   ]
  },
  {
   "cell_type": "code",
   "execution_count": null,
   "metadata": {},
   "outputs": [],
   "source": [
    "L=[1, -2, 3.33,4]\n",
    "evenElems = []\n",
    "for e in L:\n",
    "    if e%2 == 0:\n",
    "        evenElems.append(e)\n",
    "        \n",
    "print(evenElems)"
   ]
  },
  {
   "cell_type": "markdown",
   "metadata": {},
   "source": [
    "### Built-in Methods of strings\n",
    "\n",
    "Since strings can contain only characters, there are <b>many built-in methods</b> that make life easy\n",
    "\n",
    "Keep in mind that since strings are immutable these all return values and have no side effect.\n",
    "<p>\n",
    "<img src=\"./img/fig58.PNG\"/>"
   ]
  },
  {
   "cell_type": "code",
   "execution_count": null,
   "metadata": {},
   "outputs": [],
   "source": [
    "s='David Guttag plays basketball David'\n",
    "s.find('David')"
   ]
  },
  {
   "cell_type": "code",
   "execution_count": null,
   "metadata": {},
   "outputs": [],
   "source": [
    "s.rfind('David')"
   ]
  },
  {
   "cell_type": "code",
   "execution_count": null,
   "metadata": {},
   "outputs": [],
   "source": [
    "s=\"David Guttag plays basketball     \"  # trailing whitespace space\n",
    "s.rstrip()"
   ]
  },
  {
   "cell_type": "markdown",
   "metadata": {},
   "source": [
    "###  split\n",
    "\n",
    "One of the more useful built-in methods is `split`, which takes two strings as arguments. The second argument specifies a separator that is used to split the first argument into a sequence of substrings. For example,\n",
    "\n",
    "* s.split(d): Splits `s` using `d` as a delimiter\n"
   ]
  },
  {
   "cell_type": "code",
   "execution_count": null,
   "metadata": {},
   "outputs": [],
   "source": [
    "print('My favorite professor--John G.--rocks'.split(' '))\n",
    "print('My favorite professor--John G.--rocks'.split('-'))\n",
    "print('My favorite professor--John G.--rocks'.split('--'))"
   ]
  },
  {
   "cell_type": "code",
   "execution_count": null,
   "metadata": {},
   "outputs": [],
   "source": [
    "s='David*Guttag*plays*basketball'\n",
    "s.split('*')"
   ]
  },
  {
   "cell_type": "code",
   "execution_count": null,
   "metadata": {},
   "outputs": [],
   "source": [
    "s"
   ]
  },
  {
   "cell_type": "markdown",
   "metadata": {},
   "source": [
    "####  whitespace  characters:\n",
    "\n",
    "The second argument is optional. If that argument is omitted the first string is split using arbitrary strings of whitespace characters (space, tab, newline, return, and formfeed).\n",
    "\n",
    "If `d` is omitted,\n",
    "```python\n",
    "s.split()\n",
    "```\n",
    "the substrings are seperated by  whitespace  characters:\n",
    "\n",
    "|space| tab |newline | return |formfeed|\n",
    "|:---:|----:|-------:|-------:|------:|\n",
    "|  space    |  \\t |  \\n  | \\r    |  \\f  |\n",
    " "
   ]
  },
  {
   "cell_type": "code",
   "execution_count": null,
   "metadata": {},
   "outputs": [],
   "source": [
    "s='David\\t Guttag \\n plays\\r basketball\\f whitespace characters '\n",
    "s.split()   "
   ]
  },
  {
   "cell_type": "code",
   "execution_count": null,
   "metadata": {},
   "outputs": [],
   "source": [
    "print(s)"
   ]
  },
  {
   "cell_type": "markdown",
   "metadata": {},
   "source": [
    "#### s.split(d) to read plain text files:\n",
    "\n",
    "* Data Table,Dict and List\n",
    "\n",
    "* [Lecture5-1-18_UNDERSTANDING_EXPERIMENTAL_DATA](./Lecture5-1-18_UNDERSTANDING_EXPERIMENTAL_DATA.ipynb)\n"
   ]
  },
  {
   "cell_type": "code",
   "execution_count": null,
   "metadata": {},
   "outputs": [],
   "source": []
  }
 ],
 "metadata": {
  "kernelspec": {
   "display_name": "Python 3",
   "language": "python",
   "name": "python3"
  },
  "language_info": {
   "codemirror_mode": {
    "name": "ipython",
    "version": 3
   },
   "file_extension": ".py",
   "mimetype": "text/x-python",
   "name": "python",
   "nbconvert_exporter": "python",
   "pygments_lexer": "ipython3",
   "version": "3.7.2"
  },
  "toc": {
   "base_numbering": 1,
   "nav_menu": {},
   "number_sections": false,
   "sideBar": true,
   "skip_h1_title": false,
   "title_cell": "Table of Contents",
   "title_sidebar": "Contents",
   "toc_cell": false,
   "toc_position": {},
   "toc_section_display": true,
   "toc_window_display": true
  },
  "widgets": {
   "state": {},
   "version": "1.1.2"
  }
 },
 "nbformat": 4,
 "nbformat_minor": 1
}
