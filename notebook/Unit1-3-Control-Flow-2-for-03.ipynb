{
 "cells": [
  {
   "cell_type": "markdown",
   "metadata": {},
   "source": [
    "# 3 SOME SIMPLE NUMERICAL PROGRAMS\n",
    "\n",
    "* for loop,break,continue\n",
    "\n",
    "* Line Continuation\n",
    "\n",
    "* Exhaustive Enumeration,Bisection,Newton-Raphson and Using floats\n",
    "\n",
    "* Coding Styles\n",
    "\n",
    "Now that we have covered some basic Python constructs, \n",
    "\n",
    "it is time to start thinking about<b style=\"color:blue\"> how </b>we can combine those constructs to <b style=\"color:blue\"> write some simple programs</b>. \n",
    "\n",
    "Along the way, we’ll sneak in a few more <b>language constructs</b> and some<b> algorithmic techniques.\n"
   ]
  },
  {
   "cell_type": "markdown",
   "metadata": {},
   "source": [
    "## 3.1 Exhaustive Enumeration\n",
    "\n",
    "The following code \n",
    "\n",
    "* prints `the integer cube root`, if it exists, of an integer. \n",
    "\n",
    "* If the input is not a perfect cube, it prints a message to that effect."
   ]
  },
  {
   "cell_type": "code",
   "execution_count": null,
   "metadata": {},
   "outputs": [],
   "source": [
    "#Find the cube root of a perfect cube\n",
    "\n",
    "#x = int(input('Enter an integer: '))\n",
    "\n",
    "#x=19\n",
    "x=8\n",
    "#x=-8\n",
    "\n",
    "ans = 0   #  ！！！\n",
    "while ans**3 < abs(x):\n",
    "    ans = ans + 1  # +1  Exhaustive Enumeration\n",
    "\n",
    "if ans**3 != abs(x):\n",
    "    print(x, 'is not a perfect cube')\n",
    "else:\n",
    "    \n",
    "    if x < 0:\n",
    "        ans = -ans\n",
    "    \n",
    "    print('Cube root of', x,'is', ans)"
   ]
  },
  {
   "cell_type": "markdown",
   "metadata": {},
   "source": [
    "The algorithmic technique used in this program is a variant of <b>guess and check</b> called<b>  exhaustive enumeration</b>. \n",
    "\n",
    "* We enumerate **all possibilities** until we get to the right answer or exhaust the space of possibilities. \n",
    "\n",
    "Let us to try finding the cube root of 1957816251. The program will finish almost instantaneously. then, try 7406961012236344616."
   ]
  },
  {
   "cell_type": "code",
   "execution_count": null,
   "metadata": {},
   "outputs": [],
   "source": [
    "x=19578162 \n",
    "#x= 7406961012236344616\n",
    "ans = 0   \n",
    "while ans**3 < abs(x):\n",
    "    ans = ans + 1  # \n",
    "\n",
    "if ans**3 != abs(x):\n",
    "    print(x, 'is not a perfect cube')\n",
    "else:\n",
    "    if x < 0:\n",
    "        ans = -ans\n",
    "    print('Cube root of', x,'is', ans)"
   ]
  },
  {
   "cell_type": "markdown",
   "metadata": {},
   "source": [
    "As you can see, even if millions of guesses are required, it’s not usually a problem. Modern computers are `amazingly fast`.\n",
    "\n",
    ">At first blush, this may seem like **an incredibly stupid way** to solve a problem. \n",
    ">\n",
    ">Surprisingly, however, **exhaustive enumeration** algorithms are often **>the most practical way** to solve a problem."
   ]
  },
  {
   "cell_type": "markdown",
   "metadata": {
    "collapsed": true
   },
   "source": [
    "#### Decrementing Function\n",
    "\n",
    "Whenever you write a `loop`, you should think about an appropriate **decrementing function**. This is a function that has the following properties:\n",
    "* It maps a set of program `variables` into an `integer`.\n",
    "* When the loop is `entered`, its value is `nonnegative`.\n",
    "* When its value is `<=0`, the loop **terminates**.\n",
    "* Its value is **decreased** every time through the loop.\n",
    "\n",
    "What is the decrementing function for the loop? It is\n",
    "```python\n",
    "abs(x) - ans**3\n",
    "```\n",
    "Now, let’s insert some <b  style=\"color:red\">errors</b> and see what happens\n",
    "\n",
    "* 1 <b  style=\"color:blue\">commenting out the statement ans = 0</b>. \n",
    "\n",
    "  * The Python interpreter prints the error message, `NameError: name 'ans' is not defined`, because the interpreter attempts to  find the value to which `ans` is bound before it has been bound to anything."
   ]
  },
  {
   "cell_type": "code",
   "execution_count": null,
   "metadata": {},
   "outputs": [],
   "source": [
    "%%file ./code/python/ch3_cube_root.py\n",
    "x=-8\n",
    "\n",
    "# ans = 0   #  commenting out the statement ans = 0\n",
    "            #              2.When the loop is entered, its value is nonnegative\n",
    "while ans**3 < abs(x):\n",
    "    ans = ans + 1  # \n",
    "\n",
    "if ans**3 != abs(x):\n",
    "    print(x, 'is not a perfect cube')\n",
    "else:\n",
    "    if x < 0:\n",
    "        ans = -ans\n",
    "    print('Cube root of', x,'is', ans)"
   ]
  },
  {
   "cell_type": "code",
   "execution_count": null,
   "metadata": {},
   "outputs": [],
   "source": [
    "!python ./code/python/ch3_cube_root.py"
   ]
  },
  {
   "cell_type": "markdown",
   "metadata": {},
   "source": [
    "* 2 replace the statement <b style=\"color:blue\">ans = ans + 1 by ans = ans</b>, \n"
   ]
  },
  {
   "cell_type": "code",
   "execution_count": null,
   "metadata": {},
   "outputs": [],
   "source": [
    "%%file ./code/python/ch3_cube_root.py\n",
    "\n",
    "#  running use IDEL: tired of waiting\n",
    "x=8\n",
    "ans = 0  \n",
    "while ans**3 < abs(x):\n",
    "    # ans = ans + 1\n",
    "    ans = ans  # replace the statement ans = ans + 1 by ans = ans \n",
    "               #     4.Its value is decreased every time through the loop.  will be \"FALSE\"\n",
    "\n",
    "if ans**3 != abs(x):\n",
    "    print(x, 'is not a perfect cube')\n",
    "else:\n",
    "    if x < 0:\n",
    "        ans = -ans\n",
    "    print('Cube root of', x,'is', ans)"
   ]
  },
  {
   "cell_type": "markdown",
   "metadata": {},
   "source": [
    "Try finding the cube root of 8(running use IDEL), After you get <b  style=\"color:red\">tired of waiting</b>, enter <b>“control+c”</b> (hold down the control key and the c key simultaneously). This will return you to the user prompt in the shell.\n",
    "![ch3_cube_root](./img/ch3_cube_root.jpg)"
   ]
  },
  {
   "cell_type": "markdown",
   "metadata": {
    "collapsed": true
   },
   "source": [
    "#### Debug: a program that seems <b style=\"color:blue\">not to be terminating</b>,\n",
    "\n",
    "insert <strong  style=\"color:blue\">print</strong> statements to test whether the  <b style=\"color:red\">decrementing function</b> is indeed being decremented.\n"
   ]
  },
  {
   "cell_type": "code",
   "execution_count": null,
   "metadata": {},
   "outputs": [],
   "source": [
    "%%file ./code/python/ch3_cube_root.py\n",
    "\n",
    "# Using IDEL to run ch3_cube_root\n",
    "x=8\n",
    "ans = 0  \n",
    "while ans**3 < abs(x):\n",
    "    \n",
    "    print('Value of the decrementing function abs(x) - ans**3 is', \n",
    "            abs(x) - ans**3) # add the statement at the start of the loop\n",
    "                             # test whether the decrementing function is indeed being decremented\n",
    "    # ans = ans + 1\n",
    "    ans = ans  # replace the statement ans = ans + 1 by ans = ans \n",
    "               # 4.Its value is decreased every time through the loop. will be \"FALSE\"\n",
    "              \n",
    "if ans**3 != abs(x):\n",
    "    print(x, 'is not a perfect cube')\n",
    "else:\n",
    "    if x < 0:\n",
    "        ans = -ans\n",
    "    print('Cube root of', x,'is', ans)"
   ]
  },
  {
   "cell_type": "markdown",
   "metadata": {},
   "source": [
    "**BECAUSE** `4.Its value is decreased every time through the loop` is \"FALSE\", the loop is to be terminating."
   ]
  },
  {
   "cell_type": "markdown",
   "metadata": {},
   "source": [
    "#### Line Continuation. \n",
    "\n",
    "```\n",
    " print('Value of the decrementing function abs(x) - ans**3 is', \n",
    "            abs(x) - ans**3) \n",
    "```\n",
    "* Python's `implicit` line joining inside `parentheses, brackets and braces`.\n",
    "\n",
    "\n",
    "* `\\` continuation. \n",
    "\n",
    "\n",
    "\n",
    "##### Implicit line joining inside parentheses, brackets and braces"
   ]
  },
  {
   "cell_type": "code",
   "execution_count": null,
   "metadata": {},
   "outputs": [],
   "source": [
    "x=1\n",
    "ans=2\n",
    "print('When x=',x,',ans=',ans,\n",
    "      ',Value of the decrementing function [abs(x) - ans**3] =',\n",
    "       abs(x) - ans**3)"
   ]
  },
  {
   "cell_type": "code",
   "execution_count": null,
   "metadata": {},
   "outputs": [],
   "source": [
    "a = ('1' + '2' + '3' +\n",
    "     '4' + '5' + '6'  )\n",
    "a"
   ]
  },
  {
   "cell_type": "code",
   "execution_count": null,
   "metadata": {},
   "outputs": [],
   "source": [
    "a=['1' + '2' + '3' +\n",
    "     '4' + '5' + '6'  ]\n",
    "a"
   ]
  },
  {
   "cell_type": "code",
   "execution_count": null,
   "metadata": {},
   "outputs": [],
   "source": [
    "a={'1' + '2' + '3' +\n",
    "    '4' + '5' + '6'\n",
    "  }\n",
    "a"
   ]
  },
  {
   "cell_type": "markdown",
   "metadata": {},
   "source": [
    "##### \\ continuation. "
   ]
  },
  {
   "cell_type": "code",
   "execution_count": null,
   "metadata": {},
   "outputs": [],
   "source": [
    "a = '1' + '2' + '3' +  '4' + '5' +'6'\n",
    "a"
   ]
  },
  {
   "cell_type": "code",
   "execution_count": null,
   "metadata": {},
   "outputs": [],
   "source": [
    "a = '1' + '2' + '3' +  \\\n",
    "    '4' + '5' + '6'\n",
    "a"
   ]
  },
  {
   "cell_type": "markdown",
   "metadata": {},
   "source": [
    "## 3.2 For Loops\n",
    "\n",
    "Python provides a language mechanism, the <b>for</b> loop,that can be used to simplify programs containing this kind of iteration: Each iterates over a sequence of integers.\n",
    "\n",
    "The general form of a for statement is :\n",
    "```python\n",
    "for variable in sequence:\n",
    "    code block\n",
    "```"
   ]
  },
  {
   "cell_type": "markdown",
   "metadata": {},
   "source": [
    "The process continues until the sequence is exhausted or a <b style=\"color:blue\">break</b> statement is executed within the code block.\n",
    "\n",
    "The sequence of values bound to variable is most commonly generated using the built-in function <b style=\"color:blue\">range</b>, which returns a sequence containing an arithmetic progression.\n",
    "\n",
    "The `range` function takes three integer arguments: `start, stop, and step`. \n",
    "\n",
    "```python\n",
    "range(start,stop,step)\n",
    "```\n",
    "* It produces the progression `start, start + step, start + 2*step`, etc.\n",
    "\n",
    "```\n",
    "range(5,40,10) -> [5,15,25,35]\n",
    "```\n",
    "* If step is `negative`, the last element is the smallest integer `start + i*step` greater than stop.\n",
    "\n",
    "```\n",
    "range(40,5,-10)-> [40,30,20,10]\n",
    "```\n",
    "* If the first argument `start` is omitted it defaults to 0, \n",
    "\n",
    "* if the last argument (the `step` size) is omitted it defaults to 1.\n",
    "\n",
    "```\n",
    "  range(3)-> range(0, 3)->range(0, 3,1) ->[0, 1, 2]\n",
    "```"
   ]
  },
  {
   "cell_type": "code",
   "execution_count": null,
   "metadata": {},
   "outputs": [],
   "source": [
    "x = 4\n",
    "for i in range(0, x):\n",
    "    print(i) "
   ]
  },
  {
   "cell_type": "markdown",
   "metadata": {},
   "source": [
    "Now, think about the code"
   ]
  },
  {
   "cell_type": "code",
   "execution_count": null,
   "metadata": {},
   "outputs": [],
   "source": [
    "x = 4\n",
    "for i in range(0, x):\n",
    "    x=5\n",
    "    print(i) "
   ]
  },
  {
   "cell_type": "markdown",
   "metadata": {},
   "source": [
    "It raises the question of whether changing **the value of x inside the loop** affects the number of iterations. \n",
    "\n",
    "It does not. The arguments to the `range` function in the line with for are evaluated just before the `first iteration of the loo`p, and not reevaluated for subsequent iterations.\n",
    "\n",
    "\n",
    "To see how this works, consider"
   ]
  },
  {
   "cell_type": "code",
   "execution_count": null,
   "metadata": {},
   "outputs": [],
   "source": [
    "x = 4\n",
    "for j in range(x):\n",
    "    print('j: ',j)\n",
    "    for i in range(x):  # inner loop\n",
    "        print('\\t i: ',i)\n",
    "        x=2   # evaluated each time  "
   ]
  },
  {
   "cell_type": "markdown",
   "metadata": {},
   "source": [
    "because the `range` function in the outer loop is evaluated only once, but the `range` function in the **inner loop** is `evaluated each time` the inner for statement is reached"
   ]
  },
  {
   "cell_type": "code",
   "execution_count": null,
   "metadata": {},
   "outputs": [],
   "source": [
    "x = 4\n",
    "for j in range(x):\n",
    "    \n",
    "    print('j: ',j)\n",
    "    \n",
    "    for i in range(x):  # inner loop\n",
    "        print(i)\n",
    "    \n",
    "    x=2 # change  x=2"
   ]
  },
  {
   "cell_type": "markdown",
   "metadata": {},
   "source": [
    "The `for` statement can be used in conjunction with the in operator to conveniently `iterate over characters of a string`. For example,\n"
   ]
  },
  {
   "cell_type": "code",
   "execution_count": null,
   "metadata": {},
   "outputs": [],
   "source": [
    "total = 0\n",
    "for char in '123456789':\n",
    "    total = total + int(char)\n",
    "print(total)"
   ]
  },
  {
   "cell_type": "markdown",
   "metadata": {},
   "source": [
    "sums the digits in the string denoted by the literal `'12345678`' and prints the total"
   ]
  },
  {
   "cell_type": "markdown",
   "metadata": {},
   "source": [
    "## The `break` Statement\n",
    "\n",
    "The break statement is used to break out of a loop statement i.e. stop the execution of a looping statement, even if the loop condition has not become False or the sequence of items has not been completely iterated over.\n",
    "\n",
    "An important note is that if you break out of a for or while loop, any corresponding loop else block is not executed.\n",
    "\n",
    "Example:"
   ]
  },
  {
   "cell_type": "code",
   "execution_count": 1,
   "metadata": {},
   "outputs": [
    {
     "name": "stdout",
     "output_type": "stream",
     "text": [
      "Enter something : av\n",
      "Length of the string is 2\n",
      "Enter something : quit\n",
      "Done\n"
     ]
    }
   ],
   "source": [
    "while True:\n",
    "    s = input('Enter something : ')\n",
    "    if s == 'quit':\n",
    "        break\n",
    "    print('Length of the string is', len(s))\n",
    "print('Done')"
   ]
  },
  {
   "cell_type": "markdown",
   "metadata": {},
   "source": [
    "The the follow code reimplements the exhaustive enumeration algorithm for finding cube roots. The `break` statement in the `for loop` causes the loop to terminate before it has been run on each element in the sequence over which it is iterating\n",
    "\n",
    "reimplements of finding cube roots: change `while loop` to  `for loop` with  `break` statement \n",
    "\n",
    "The `break` statement in the `for loop` causes the loop to terminate before it has been run on each element in the sequence over which it is iterating."
   ]
  },
  {
   "cell_type": "code",
   "execution_count": null,
   "metadata": {},
   "outputs": [],
   "source": [
    "# Find the cube root of a perfect cube\n",
    "# for loop, break \n",
    "x = int(input('Enter an integer: '))  #  27\n",
    "\n",
    "for ans in range(0, abs(x) + 1):   \n",
    "    if ans**3 >= abs(x):\n",
    "        break          #  break statement\n",
    "\n",
    "if ans**3 != abs(x):\n",
    "    print(x, 'is not a perfect cube')\n",
    "else:\n",
    "    if x < 0:\n",
    "        ans = -ans\n",
    "    print('Cube root of', x, 'is', ans)"
   ]
  },
  {
   "cell_type": "markdown",
   "metadata": {},
   "source": [
    "## The `continue` Statement\n",
    "\n",
    "The `continue` statement is used to tell Python to skip the rest of the statements in the current loop block and to continue to the next iteration of the loop.\n",
    "\n"
   ]
  },
  {
   "cell_type": "code",
   "execution_count": 4,
   "metadata": {},
   "outputs": [
    {
     "name": "stdout",
     "output_type": "stream",
     "text": [
      "Enter something : q\n",
      "Too small\n",
      "Enter something : sdff\n",
      "Input is of sufficient length\n",
      "Enter something : quit\n"
     ]
    }
   ],
   "source": [
    "while True:\n",
    "    s = input('Enter something : ')\n",
    "    if s == 'quit':\n",
    "        break\n",
    "    if len(s) < 3:\n",
    "        print('Too small')\n",
    "        continue\n",
    "        # skip the rest of the statements in the current loop block\n",
    "    print('Input is of sufficient length')\n",
    "# Do other kinds of processing here..."
   ]
  },
  {
   "cell_type": "markdown",
   "metadata": {},
   "source": [
    "## 3.3 Approximate Solutions and Bisection Search\n",
    "\n",
    "Imagine that someone asks you to write a program that finds `the square root of any nonnegative number`. What should you do?\n",
    "\n",
    "The right thing to have asked for is a program that finds an <b style=\"color:blue\">approximation</b> to the square root—i.e., an answer that is close enough to the actual square root to be useful.\n",
    "\n",
    "* <b style=\"color:blue\">Numerical solution</b>(数值解)\n",
    "\n",
    "   Numerical analysis(数值分析） is the study of algorithms that use numerical `approximation` (as opposed to general symbolic manipulations) for the problems of mathematical analysis\n",
    "   \n",
    "\n",
    "*  <b style=\"color:blue\">Analytical solution </b>(解析解)\n",
    "\n",
    "  Mathematical analysis(数学分析).In mathematics,the solution can be obtained from a mathematical expression that can be evaluated in a finite number of operations\n",
    "\n",
    "Let’s think of “close enough” as an answer that lies within some constant, call it `epsilon`, of the actual answer."
   ]
  },
  {
   "cell_type": "markdown",
   "metadata": {},
   "source": [
    "### 1) Approximating the square root using `exhaustive enumeration`"
   ]
  },
  {
   "cell_type": "code",
   "execution_count": null,
   "metadata": {},
   "outputs": [],
   "source": [
    "x = 25\n",
    "epsilon = 0.01\n",
    "step = epsilon**2\n",
    "numGuesses = 0\n",
    "ans = 0.0\n",
    "while abs(ans**2 - x) >= epsilon and ans <= x:\n",
    "    ans += step        # += :ans = ans+ step; -= *=                         \n",
    "    numGuesses += 1\n",
    "print('numGuesses =', numGuesses)\n",
    "if abs(ans**2 - x) >= epsilon:\n",
    "    print('Failed on square root of', x)\n",
    "else:\n",
    "    print(ans, 'is close to square root of', x)\n",
    "    \n",
    "print(4.999000000001688==ans)    "
   ]
  },
  {
   "cell_type": "markdown",
   "metadata": {},
   "source": [
    "When the code is run, it prints\n",
    "```\n",
    "numGuesses = 49990\n",
    "4.999000000001688 is close to square root of 25\n",
    "```\n",
    "Should we be **disappointed** that the program didn’t figure out that `25` is a perfect square and print `5`?\n",
    "\n",
    "**No**. The program did what it was intended to do. Though it would have been OK to print 5, doing so is no better than printing any value close enough to 5."
   ]
  },
  {
   "cell_type": "markdown",
   "metadata": {},
   "source": [
    "What do you think will happen if we set `x = 0.25`? Will it find a root close to 0.5? \n"
   ]
  },
  {
   "cell_type": "code",
   "execution_count": null,
   "metadata": {},
   "outputs": [],
   "source": [
    "x=0.25  #  root 0.5 in [0,1], the set of values being searched: [0,0.25]\n",
    "epsilon = 0.01\n",
    "step = epsilon**2\n",
    "numGuesses = 0\n",
    "ans = 0.0\n",
    "while abs(ans**2 - x) >= epsilon and ans <= x:\n",
    "    ans += step        # += :ans = ans+ step; -= *=                         \n",
    "    numGuesses += 1\n",
    "print('numGuesses =', numGuesses)\n",
    "if abs(ans**2 - x) >= epsilon:\n",
    "    print('Failed on square root of', x)\n",
    "else:\n",
    "    print(ans, 'is close to square root of', x)"
   ]
  },
  {
   "cell_type": "markdown",
   "metadata": {},
   "source": [
    "It will report\n",
    "```\n",
    "numGuesses = 2501\n",
    "Failed on square root of 0.25\n",
    "```\n",
    "Exhaustive enumeration is a search technique that works \n",
    "\n",
    "* **only if the set of values being searched includes the answer**\n",
    "\n",
    "In this case, we are enumerating the values between `0 and the value of **x**`. When x is between `0 and 1`, the square root of x does not lie in this interval . \n",
    "\n",
    "* enumerating the values: [0,0.25] ,epsilon = 0.01\n",
    "\n",
    "```python\n",
    "x=0.25\n",
    "ans = 0.0\n",
    "while abs(ans**2 - x) >= epsilon and ans <= x:\n",
    "     #\n",
    "    \n",
    "```\n",
    "* root=0.5 in [0,1], \n",
    "\n",
    "One way to `fix` this is to change the second operand of and `ans <= x` to  `ans*ans <= x` in the first line of the `while loop`\n",
    "\n",
    "\n",
    "```python\n",
    "while abs(ans**2 - x) >= epsilon and ans <= x:\n",
    "```\n",
    "TO\n",
    "\n",
    "```python\n",
    "while abs(ans**2 - x) >= epsilon and ans*ans <= x: \n",
    "```"
   ]
  },
  {
   "cell_type": "code",
   "execution_count": null,
   "metadata": {},
   "outputs": [],
   "source": [
    "x=0.25   \n",
    "epsilon = 0.01\n",
    "step = epsilon**2  #  epsilon**3 \n",
    "numGuesses = 0  # 3513631\n",
    "ans = 0.0\n",
    "while abs(ans**2 - x) >= epsilon and ans*ans <= x:  # ans <= x to ans*ans <= x\n",
    "    ans += step        # += :ans = ans+ step; -= *=                         \n",
    "    numGuesses += 1\n",
    "print('numGuesses =', numGuesses)\n",
    "if abs(ans**2 - x) >= epsilon:\n",
    "    print('Failed on square root of', x)\n",
    "else:\n",
    "    print(ans, 'is close to square root of', x)"
   ]
  },
  {
   "cell_type": "markdown",
   "metadata": {},
   "source": [
    "Now, let’s think about **how long the program will take to run**. The number of iterations depends upon how close the answer is to 0 and on the size of the steps.Roughly speaking, the program will execute the `while` loop at most `x/step` times. Let’s try the code on something bigger, e.g., x = 123456. "
   ]
  },
  {
   "cell_type": "code",
   "execution_count": null,
   "metadata": {},
   "outputs": [],
   "source": [
    "x=123456   \n",
    "epsilon = 0.01\n",
    "step = epsilon**2  #  epsilon**3 \n",
    "numGuesses = 0  \n",
    "ans = 0.0\n",
    "while abs(ans**2 - x) >= epsilon and ans*ans <= x:  # ans <= x to ans*ans <= x\n",
    "    ans += step        # += :ans = ans+ step; -= *=                         \n",
    "    numGuesses += 1\n",
    "print('numGuesses =', numGuesses)\n",
    "if abs(ans**2 - x) >= epsilon:\n",
    "    print('Failed on square root of', x)\n",
    "else:\n",
    "    print(ans, 'is close to square root of', x)"
   ]
  },
  {
   "cell_type": "markdown",
   "metadata": {},
   "source": [
    "It will run for a bit, and  then print\n",
    "\n",
    "What do you think happened? Surely there exists a floating point number that approximates the square root of 123456 to within 0.01. Why didn’t our program find it? \n",
    "\n",
    "The problem is that **our `step` size was too large**, and the program skipped over all the suitable answers. Try making step equal to `epsilon**3` and running the program. It will eventually find a suitable answer, but you might not have the **patience** to wait for it to do so\n",
    "\n",
    "Roughly how many guesses will it have to make? The step size will be 0.000001 and the square root of 123456 is around 351.36. This means that the program will have to make in the neighborhood of **351,000,000** guesses to find a satisfactory answer. We could try to speed it up by starting closer to the answer, but that presumes that we know the answer.\n",
    "\n",
    "The time has come to look for a different way to attack the problem. We need to choose a better algorithm rather than fine tune the current one."
   ]
  },
  {
   "cell_type": "markdown",
   "metadata": {},
   "source": [
    "### 2) Using bisection search to approximate square root\n",
    "\n",
    "Suppose we know that a good approximation to the square root of `x` lies somewhere `between 0 and max`. We can exploit the fact that numbers are totally ordered.\n",
    "\n",
    "Since we don’t necessarily know where to start searching, let’s start in the middle.\n",
    "```\n",
    "0__________________________guess__________________________max\n",
    "```\n"
   ]
  },
  {
   "cell_type": "code",
   "execution_count": null,
   "metadata": {},
   "outputs": [],
   "source": [
    "x = 25\n",
    "#x=123456789\n",
    "epsilon = 0.01\n",
    "numGuesses = 0\n",
    "low = 0.0\n",
    "high = max(1.0, x)        # the square root of x lies somewhere between 0 and max\n",
    "ans = (high + low) / 2.0  # let’s start in the middle.\n",
    "\n",
    "while abs(ans**2 - x) >= epsilon:\n",
    "#    print('low =', low, 'high =', high, 'ans =', ans)\n",
    " \n",
    "#    print('root interval=[ %12.9f'%low,', %12.9f'%high,']', 'ans =%12.9f'%(ans)) #old string formatting\n",
    "    \n",
    "    print('root interval=[ {0:.9f}, {0:.9f}], ans= {0:.9f}'.format(low,high,ans))\n",
    "   \n",
    "    numGuesses += 1\n",
    "    \n",
    "    # whether it is too big or too small\n",
    "    if ans**2 < x:    \n",
    "        low = ans    # If it is too small, we know that the answer must lie to the right\n",
    "                     # [0,max]->[ans,max]\n",
    "    else:\n",
    "        high = ans   # If it is too big, we know that the answer must lie to the left.\n",
    "                     # [0,max]-[0,ans]\n",
    "    ans = (high + low) / 2.0\n",
    "\n",
    "print('\\nnumGuesses =', numGuesses)\n",
    "print(ans, 'is close to square root of', x)"
   ]
  },
  {
   "cell_type": "markdown",
   "metadata": {},
   "source": [
    "More important, notice that at each iteration of the loop the size of the space to be searched is cut in half. Because it divides the search space in half at each step, it is called a **bisection search**. Bisection search is a huge improvement over our earlier algorithm, which reduced the search space by only a small amount at each iteration\n",
    "\n",
    ">**Python Tutorial : 7.1 Fancier Output Formatting**\n",
    ">```python\n",
    ">print('root interval=[ {0:.9f}, {0:.9f}], ans= {0:.9f}'.format(low,high,ans))\n",
    ">```\n",
    ">https://docs.python.org/tutorial/inputoutput.html#fancier-output-formatting\n",
    "\n",
    "Let us try x = 123456 again.\n"
   ]
  },
  {
   "cell_type": "code",
   "execution_count": null,
   "metadata": {},
   "outputs": [],
   "source": [
    "x=12345\n",
    "epsilon = 0.01\n",
    "numGuesses = 0\n",
    "low = 0.0\n",
    "high = max(1.0, x)        # the square root of x lies somewhere between 0 and max\n",
    "ans = (high + low) / 2.0  # let’s start in the middle.\n",
    "\n",
    "while abs(ans**2 - x) >= epsilon:\n",
    "#    print('low =', low, 'high =', high, 'ans =', ans)\n",
    " \n",
    "#    print('root interval=[ %12.9f'%low,', %12.9f'%high,']', 'ans =%12.9f'%(ans)) #old string formatting\n",
    "    \n",
    "#    print('root interval=[ {0:.9f}, {0:.9f}], ans= {0:.9f}'.format(low,high,ans))\n",
    "   \n",
    "    numGuesses += 1\n",
    "    \n",
    "    # whether it is too big or too small\n",
    "    if ans**2 < x:    \n",
    "        low = ans    # If it is too small, we know that the answer must lie to the right\n",
    "                     # [0,max]->[ans,max]\n",
    "    else:\n",
    "        high = ans   # If it is too big, we know that the answer must lie to the left.\n",
    "                     # [0,max]-[0,ans]\n",
    "    ans = (high + low) / 2.0\n",
    "\n",
    "print('\\nnumGuesses =', numGuesses)\n",
    "print(ans, 'is close to square root of', x)"
   ]
  },
  {
   "cell_type": "markdown",
   "metadata": {},
   "source": [
    "This time the program takes only thirty guesses to find an acceptable answer.\n",
    "\n",
    "How about x = 123456789 ? It takes only forty-five guesses"
   ]
  },
  {
   "cell_type": "code",
   "execution_count": null,
   "metadata": {},
   "outputs": [],
   "source": [
    "x=123456789\n",
    "epsilon = 0.01\n",
    "numGuesses = 0\n",
    "low = 0.0\n",
    "high = max(1.0, x)        # the square root of x lies somewhere between 0 and max\n",
    "ans = (high + low) / 2.0  # let’s start in the middle.\n",
    "\n",
    "while abs(ans**2 - x) >= epsilon:\n",
    "#    print('low =', low, 'high =', high, 'ans =', ans)\n",
    " \n",
    "#    print('root interval=[ %12.9f'%low,', %12.9f'%high,']', 'ans =%12.9f'%(ans)) #old string formatting\n",
    "    \n",
    "#    print('root interval=[ {0:.9f}, {0:.9f}], ans= {0:.9f}'.format(low,high,ans))\n",
    "   \n",
    "    numGuesses += 1\n",
    "    \n",
    "    # whether it is too big or too small\n",
    "    if ans**2 < x:    \n",
    "        low = ans    # If it is too small, we know that the answer must lie to the right\n",
    "                     # [0,max]->[ans,max]\n",
    "    else:\n",
    "        high = ans   # If it is too big, we know that the answer must lie to the left.\n",
    "                     # [0,max]-[0,ans]\n",
    "    ans = (high + low) / 2.0\n",
    "\n",
    "print('\\nnumGuesses =', numGuesses)\n",
    "print(ans, 'is close to square root of', x)"
   ]
  },
  {
   "cell_type": "markdown",
   "metadata": {},
   "source": [
    "There is nothing special about the fact that we are using this algorithm to find square roots. For example, by changing a couple of 2’s to 3’s, we can use it to approximate a cube root of a nonnegative number. In Chapter 4, we introduce a language mechanism that allows us to generalize this code to find any root."
   ]
  },
  {
   "cell_type": "markdown",
   "metadata": {},
   "source": [
    "## 3.4 A Few Words About Using Floats\n",
    "\n",
    "Most of the time, numbers of type float provide `a reasonably good approximation to real numbers`. But “most of the time” is not all of the time, and when they don’t it can lead to surprising consequences.\n",
    "\n",
    "For example, try running the code"
   ]
  },
  {
   "cell_type": "code",
   "execution_count": null,
   "metadata": {},
   "outputs": [],
   "source": [
    "x = 0.0\n",
    "for i in range(10):\n",
    "    x = x + 0.1    # because the value to which x is bound is not exactly 1.0\n",
    "if x == 1.0:\n",
    "    print(x, '= 1.0')\n",
    "else:\n",
    "    print(x, 'is not 1.0')"
   ]
  },
  {
   "cell_type": "markdown",
   "metadata": {},
   "source": [
    "Perhaps you, like most people, find it surprising that it prints\n",
    "```\n",
    "0.9999999999999999 is not 1.0\n",
    "```"
   ]
  },
  {
   "cell_type": "markdown",
   "metadata": {},
   "source": [
    "**Why does it get to the `else` clause in the first place?**\n",
    "```python\n",
    "else:\n",
    "    print(x, 'is not 1.0')\n",
    "```\n",
    "Modern computers use **binary**>, not decimal, representations. We represent <b>the significant digits</b> and<b> exponents</b> in <b>binary</b> rather than decimal and raise 2 rather than 10 to the exponent.\n",
    "\n",
    "$sig*2^{-exp}$\n",
    "\n",
    "---\n",
    "0.625 would be represented as the pair: $(101,-011) \\rightarrow 5*2^{-3}  \\rightarrow 0.625$\n",
    "\n",
    "What about the decimal fraction $ 1/10->0.1 ?   sig*2^{-exp}$\n",
    "\n",
    "If sig=1,exp=3, $ (01, -11) \\rightarrow 1*2^{-3}  \\rightarrow  1/8 = 0.125 \\neq 0.1 $\n",
    "\n",
    "If sig=3,exp=4, $(0011, -0100) \\rightarrow 3*2^{-4}  \\rightarrow  3/32 \\rightarrow 0.09375 \\neq 0.1 $\n",
    "\n",
    "If sig=25,exp=8, $(11001, -01000) \\rightarrow 25*2^{-8} \\rightarrow25/256 \\rightarrow 0.09765625 \\neq 0.1 $\n",
    "\n",
    "How many significant digits would we need to get an exact floating point representation of 0.1?\n",
    "\n",
    "* **An infinite number of digits!** \n",
    "\n",
    "There do not exist integers `sig` and `exp` such that $sig * 2^{-exp}$ equals 0.1. \n",
    "\n",
    "In most Python implementations, there are **53** bits of precision available for floating point numbers, so the significant digits stored for the decimal number 0.1 will be\n",
    "\n",
    "11001100110011001100110011001100110011001100110011001\n",
    "\n",
    "This is equivalent to the decimal number\n",
    "\n",
    "0.1000000000000000055511151231257827021181583404541015625\n",
    "\n",
    "Pretty close to 1/10, but not exactly 1/10.\n",
    "\n",
    "why does print `0.9999999999999999 is not 1.0`,It the answer。 \n",
    "\n",
    "\n",
    "Returning to the original mystery, What gets printed if we add `print('{0:.20f}'.format(x))` to the end of the else\n",
    "clause \n"
   ]
  },
  {
   "cell_type": "code",
   "execution_count": null,
   "metadata": {},
   "outputs": [],
   "source": [
    "x = 0.0\n",
    "for i in range(10):\n",
    "    x = x + 0.1    # because the value to which x is bound is not exactly 1.0\n",
    "if x == 1.0:\n",
    "    print(x, '= 1.0')\n",
    "else:\n",
    "    print(x, 'is not 1.0')\n",
    "    print('{0:.20f}'.format(x),'is not 1.0')   "
   ]
  },
  {
   "cell_type": "markdown",
   "metadata": {
    "collapsed": true
   },
   "source": [
    "We get the longer output rather than print(x)\n",
    "```\n",
    "0.99999999999999988898 is not 1.0\n",
    "```\n",
    "> **NOTE** There are mistakes in the MIT book about it\n",
    "\n",
    "It tell use `print(x)` is the `rounded` value rather than the `actual` value of the variable x.Why?\n",
    "\n",
    "Because the designers of Python thought that would be convenient for users if print did some automatic rounding.This is probably an accurate assumption most of the time. However, it is important to keep in mind that what is being `displayed does not necessarily exactly match the value stored in the machine.`\n",
    ".\n",
    "By the way, if you want to explicitly round a floating point number, use the `round` function. \n",
    "The expression\n",
    "```python\n",
    "round(x, numDigits)\n",
    "```\n",
    "returns the floating point number equivalent to rounding the value of x to `numDigits` decimal digits following the decimal point."
   ]
  },
  {
   "cell_type": "code",
   "execution_count": null,
   "metadata": {},
   "outputs": [],
   "source": [
    "round(2**0.5,3)"
   ]
  },
  {
   "cell_type": "markdown",
   "metadata": {},
   "source": [
    "1.414 as an approximation to the square root of 2.\n",
    "\n",
    "---\n",
    "\n",
    "Does the difference between real and floating point numbers **really matter**? \n",
    "\n",
    "Most of the time, mercifully, it does not. There are few situations where 1.0 is an acceptable answer and 0.9999999999999999 is not.\n",
    " \n",
    "However, one thing that is almost always worth worrying about is `tests for equality` \n",
    "\n",
    "*  Tests for equality of two floating point values: ask whether two floating point values are close enough to each other, not\n",
    "whether they are identical \n",
    "```\n",
    "write abs(x-y) < 0.0001 rather than x == y.\n",
    "```\n",
    "**NOTE： Tested that two floating point values are equal (==) instead of `nearly equa`**\n",
    "\n",
    "Another thing to worry about is\n",
    "\n",
    "* The accumulation of rounding errors \n"
   ]
  },
  {
   "cell_type": "code",
   "execution_count": null,
   "metadata": {},
   "outputs": [],
   "source": []
  },
  {
   "cell_type": "markdown",
   "metadata": {},
   "source": [
    "### Further Reading \n",
    "\n",
    "#### 1 Python Tutorial: Chapter 15 FLOATING POINT ARITHMETIC: ISSUES AND LIMITATIONS\n",
    "\n",
    "https://docs.python.org/tutorial/floatingpoint.html\n",
    "\n",
    "##### 2 Numerical Recipes :2 1.3 Error, Accuracy, and Stability\n",
    "\n",
    "http://numerical.recipes/\n",
    "\n",
    "In floating-point representation, a number is represented internally by\n",
    "\n",
    "1) a sign bit <b>s</b> : interpreted as plus or minus, \n",
    "\n",
    "2) an exact integer exponent<b> e</b>, \n",
    "\n",
    "3)  an exact positive  integer mantissa <b>M</b>. \n",
    "\n",
    "Taken together these represent the number\n",
    "\n",
    "$s*M* B^{e−E}$\n",
    "\n",
    "where <b>B</b> is the base of the representation (usually B = 2, but sometimes B = 16),and <b>E</b> is the bias of the exponent, a fixed integer constant for any given machine and representation. \n",
    "\n",
    "An example is shown in Figure(Floating point representations of numbers in a typical 32-bit (4-byte) format,Exponent bias <b>E</b>=127) \n",
    "\n",
    "![float](./img/float.jpg) \n",
    "\n",
    "#### 3 IEEE floating point\n",
    "\n",
    "https://en.wikipedia.org/wiki/IEEE_floating_point"
   ]
  },
  {
   "cell_type": "markdown",
   "metadata": {},
   "source": [
    "#### 4 Numpy.finfo\n",
    "\n",
    "Numpy: http://www.numpy.org/\n",
    "\n",
    "NumPy’s **array** type augments the Python language with an efficient data structure useful for numerical work, e.g., manipulating matrices. NumPy also provides basic numerical routines, such as tools for finding eigenvectors.\n",
    "\n",
    "\n",
    "class `numpy.finfo`\n",
    "\n",
    "    Machine limits for floating point types.\n",
    "\n",
    "http://docs.scipy.org/doc/numpy/reference/generated/numpy.finfo.html"
   ]
  },
  {
   "cell_type": "code",
   "execution_count": null,
   "metadata": {},
   "outputs": [],
   "source": [
    "import numpy as np\n",
    "\n",
    "iexp32  = np.finfo(np.float32).iexp \n",
    "print('The number of bits in the exponent portion: ',iexp32)\n",
    "# nmant (int) The number of bits in the mantissa. \n",
    "nmant32 = np.finfo(\"float32\").nmant \n",
    "print('The number of bits in the mantissa: ',nmant32)\n",
    "eps32 = np.finfo(\"float32\").eps\n",
    "print(eps32)"
   ]
  },
  {
   "cell_type": "code",
   "execution_count": null,
   "metadata": {},
   "outputs": [],
   "source": [
    "for f in (np.float16,np.float32, float):\n",
    "    finfo = np.finfo(f)\n",
    "    print(finfo)"
   ]
  },
  {
   "cell_type": "markdown",
   "metadata": {},
   "source": [
    "## 3.5 Newton-Raphson\n",
    "\n",
    "we shall look at it only in the context of finding the real roots of a polynomial with one variable.\n",
    "\n",
    "$f(x)=a*x^n +a_0$\n",
    "\n",
    "Want to find r: \n",
    "\n",
    "$f(r)=0$\n",
    "    \n",
    "Newton proved a theorem that implies that if a value, call it <b>$X_k$</b>, is an approximation to a root of a polynomial, then\n",
    "\n",
    "$x_{k+1}=x_k– \\frac{f(x_k)}{f’(x_k)}$\n",
    "\n",
    "is a better approximation. where <b>$f’$</b> is the first derivative of $f$, \n",
    "\n",
    "$y=f(x_k)+f'(x_k)(x-x_k)$\n",
    "\n",
    "liner equation between two point: $(x_{k+1},0),(x_k,y_k)$ \n",
    "\n",
    "![newton](./img/newton.jpg) \n",
    "\n",
    "For example, the first derivative of \n",
    "\n",
    "$x^2 – k$ is $2x$. \n",
    "\n",
    "Therefore, we know that we can improve on the <b>current guess</b>, call it $x_k$\n",
    "\n",
    "by choosing as our next guess $x_{k+1}$:\n",
    "\n",
    "\n",
    "$x_{k+1}=x_k - \\frac{x_{k}^2 - k}{2x_k}$ \n",
    "\n",
    "This is called <b>successive approximation</b>.\n"
   ]
  },
  {
   "cell_type": "code",
   "execution_count": null,
   "metadata": {},
   "outputs": [],
   "source": [
    "# Newton-Raphson for square root\n",
    "\n",
    "#Find x such that x**2 - 24 is within epsilon \n",
    "\n",
    "epsilon = 0.01   # 试验提示1：改变精度，测试死循环，给出改进的稳健 算法\n",
    "\n",
    "k = 24.0\n",
    "\n",
    "guess =k/2.0   # reinitialize a variable，试验提示2： 比较不同初值下速度,如 0.01\n",
    "\n",
    "# 6.2.3 Failed to reinitialize a variable \n",
    "\n",
    "successiveapproximation=0  #  试验提示3：和二分法对比下数值求解的 速度和精度\n",
    "while abs(guess*guess - k) >= epsilon:\n",
    "    \n",
    "    guess = guess - (((guess**2) - k)/(2*guess))  # a better next approximation\n",
    "    \n",
    "    successiveapproximation+=1\n",
    "\n",
    "print('Square root of', k, 'is about', guess)\n",
    "print('counts of successive approximation=',successiveapproximation)"
   ]
  },
  {
   "cell_type": "markdown",
   "metadata": {
    "collapsed": true
   },
   "source": [
    "### Further Reading： \n",
    "\n",
    "Numerical Recipes in C  : http://numerical.recipes/\n",
    "\n",
    "* 9.1 Bracketing and Bisection\n",
    "\n",
    "* 9.4 Newton-Raphson Method Using Derivative"
   ]
  },
  {
   "cell_type": "markdown",
   "metadata": {},
   "source": [
    "## Python Developer's Guide，Coding Styles\n",
    "\n",
    "https://www.python.org/dev/\n",
    "\n",
    "**PEP**：Python Enhancement Proposals"
   ]
  },
  {
   "cell_type": "markdown",
   "metadata": {},
   "source": [
    "### 1 The Zen of Python ,PEP20 (Python Enhancement Proposals)\n",
    "\n",
    "https://www.python.org/dev/peps/pep-0020/"
   ]
  },
  {
   "cell_type": "code",
   "execution_count": null,
   "metadata": {},
   "outputs": [],
   "source": [
    "# Easter Egg\n",
    "import this"
   ]
  },
  {
   "cell_type": "markdown",
   "metadata": {},
   "source": [
    "### 2 Coding convention: PEP8()\n",
    "\n",
    "PEP 8 -- Style Guide for Python Code： https://www.python.org/dev/peps/pep-0008/\n",
    "\n",
    "The recommended styles are:\n",
    "\n",
    "* Use 4 spaces for indentation. Don't use tab.\n",
    "\n",
    "* Lines shall not exceed 79 characters.\n",
    "\n",
    "* Use blank lines to separate functions and classes.\n",
    "\n",
    "* Use a space before and after an operator.\n",
    "\n",
    "​\n",
    "\n",
    "#### Packages about pep8\n",
    "​\n",
    "* `pycodestyle` :the tool to check your Python code against some of the style conventions in PEP 8.\n",
    "​\n",
    "* `autopep8` : the tool that automatically formats Python code to conform to the PEP 8 style guide\n",
    "​\n",
    "**Installation**\n",
    "​\n",
    "```bash\n",
    ">python -m pip install autopep8\n",
    "```\n",
    "​\n",
    "pycodestyle is installed when you install  autopep8\n",
    "\n",
    "##### pycodestyle : usage and output\n",
    "\n",
    "Show **first** occurrence of each error\n",
    "\n",
    "```bash\n",
    ">pycodestyle --first sourcecodefile\n",
    "```"
   ]
  },
  {
   "cell_type": "code",
   "execution_count": 6,
   "metadata": {},
   "outputs": [
    {
     "name": "stdout",
     "output_type": "stream",
     "text": [
      "Overwriting ./code/python/ch3_cube_root.py\n"
     ]
    }
   ],
   "source": [
    "%%file ./code/python/ch3_cube_root.py\n",
    "\n",
    "x = 8\n",
    "ans = 0\n",
    "while    ans**3 < abs(x):\n",
    "\n",
    "    print('Value of the decrementing function abs(x) - ans**3 is',\n",
    "          abs(x) - ans**3)  # add the statement at the start of the loop\n",
    "    # test whether the decrementing function is indeed being decremented\n",
    "\n",
    "    ans = ans  # replace the statement ans = ans + 1 by ans = ans\n",
    "    # 4.Its value is decreased every time through the loop.\n",
    "    # 3.When its value is <=0, the loop terminates.\n",
    "\n",
    "if ans**3 != abs(x):\n",
    "    print(x, 'is not a perfect cube')\n",
    "else:\n",
    "    if x < 0:\n",
    "        ans = -ans\n",
    "    print('Cube root of', x, 'is', ans)"
   ]
  },
  {
   "cell_type": "code",
   "execution_count": 7,
   "metadata": {},
   "outputs": [
    {
     "name": "stdout",
     "output_type": "stream",
     "text": [
      "./code/python/ch3_cube_root.py:4:6: E271 multiple spaces after keyword\n"
     ]
    }
   ],
   "source": [
    "!pycodestyle --first ./code/python/ch3_cube_root.py"
   ]
  },
  {
   "cell_type": "markdown",
   "metadata": {},
   "source": [
    "You can also make `pycodestyle` show the **source code** for each error, and even the relevant text from PEP 8:"
   ]
  },
  {
   "cell_type": "code",
   "execution_count": null,
   "metadata": {},
   "outputs": [],
   "source": [
    "!pycodestyle --show-source --show-pep8 ./code/python/ch3_cube_root.py"
   ]
  },
  {
   "cell_type": "markdown",
   "metadata": {},
   "source": [
    "you can display **how often** each error was found:"
   ]
  },
  {
   "cell_type": "code",
   "execution_count": null,
   "metadata": {},
   "outputs": [],
   "source": [
    "!pycodestyle --statistics ./code/python/ch3_cube_root.py"
   ]
  },
  {
   "cell_type": "markdown",
   "metadata": {},
   "source": [
    "#####  autopep8 usage\n",
    "\n",
    "To **modify** the source code file **in place** (with aggressive level 2）："
   ]
  },
  {
   "cell_type": "code",
   "execution_count": null,
   "metadata": {},
   "outputs": [],
   "source": [
    "!autopep8 --in-place --aggressive --aggressive ./code/python/ch3_cube_root.py"
   ]
  },
  {
   "cell_type": "markdown",
   "metadata": {},
   "source": [
    "##### The modified code by autopep8\n",
    "\n",
    ">**LINE**  magics: `%load`\n",
    ">\n",
    ">   https://ipython.readthedocs.io/en/stable/interactive/magics.html\n",
    ">\n",
    ">Load code into the current frontend.\n",
    ">\n",
    ">Usage:\n",
    ">\n",
    ">```python\n",
    ">%load [options] source\n",
    ">```\n",
    ">where source can be a filename, URL, input history range, macro, or element in the user namespace"
   ]
  },
  {
   "cell_type": "code",
   "execution_count": null,
   "metadata": {},
   "outputs": [],
   "source": [
    "%load ./code/python/ch3_cube_root.py"
   ]
  },
  {
   "cell_type": "code",
   "execution_count": null,
   "metadata": {},
   "outputs": [],
   "source": [
    "!pycodestyle --first ./code/python/ch3_cube_root.py"
   ]
  },
  {
   "cell_type": "code",
   "execution_count": null,
   "metadata": {},
   "outputs": [],
   "source": [
    "!pycodestyle --statistics ./code/python/ch3_cube_root.py"
   ]
  },
  {
   "cell_type": "markdown",
   "metadata": {},
   "source": [
    "##### Using pep8 within Visual Studio Code\n",
    "\n",
    "pep8 is unenabled by default within Visual Studio Code\n",
    "\n",
    "you may setting \n",
    "```json\n",
    " // Whether to lint Python files using pep8\n",
    "  \"python.linting.pep8Enabled\": true,\n",
    "```\n",
    "![autopep8](./img/vscode-pep8.jpg) "
   ]
  },
  {
   "cell_type": "markdown",
   "metadata": {},
   "source": [
    "##### Using pep8 within Jupyter Notebook\n",
    "\n",
    "Jupyter notebook extensions:\n",
    "\n",
    "* https://github.com/ipython-contrib/jupyter_contrib_nbextensions\n",
    "        \n",
    "This repository contains a collection of extensions that add functionality to the Jupyter notebook.\n",
    "\n",
    "* Install the python package\n",
    "\n",
    "```bash\n",
    ">python -m pip install jupyter_contrib_nbextensions\n",
    "```\n",
    "\n",
    "* Install javascript and css files\n",
    "\n",
    "```bash\n",
    ">jupyter contrib nbextension install --user\n",
    "```"
   ]
  },
  {
   "cell_type": "code",
   "execution_count": null,
   "metadata": {},
   "outputs": [],
   "source": [
    "x = 8\n",
    "ans = 0\n",
    "while     ans**3 < abs(x):\n",
    "\n",
    "    print('Value of the decrementing function abs(x) - ans**3 is',\n",
    "          abs(x) - ans**3)  # add the statement at the start of the loop\n",
    "    # test whether the decrementing function is indeed being decremented\n",
    "\n",
    "    ans = ans  # replace the statement ans = ans + 1 by ans = ans\n",
    "    # 4.Its value is decreased every time through the loop.\n",
    "    # 3.When its value is <=0, the loop terminates.\n",
    "\n",
    "if ans**3 != abs(x):\n",
    "    print(x, 'is not a perfect cube')\n",
    "else:\n",
    "    if x < 0:\n",
    "        ans = -ans\n",
    "    print('Cube root of', x, 'is', ans)"
   ]
  },
  {
   "cell_type": "markdown",
   "metadata": {},
   "source": [
    "## Pylint \n",
    "\n",
    "Pylint is a tool that checks for errors in Python code, tries to enforce a coding standard and looks for bad code smells\n",
    "\n",
    "http://www.pylint.org\n",
    "\n",
    "Install\n",
    "```bash\n",
    ">python -m pip install pylint \n",
    "```\n",
    "\n",
    "\n",
    "### Features\n",
    "\n",
    "* Coding Standard: [Python's PEP8 style guide](https://www.python.org/dev/peps/pep-0008/)\n",
    "\n",
    "* Editor integration:Visual Studio Code   https://code.visualstudio.com/docs/pyhon/linting#_pylint\n",
    "  \n",
    "  * Only **Pylint** is enabled by default\n",
    "\n",
    "```json  \n",
    "// Whether to lint Python files.\n",
    "  \"python.linting.enabled\": true,\n",
    " \n",
    " \n",
    "// Whether to lint Python files using pylint.\n",
    "  \"python.linting.pylintEnabled\": true  \n",
    "\n",
    "```  \n",
    "\n",
    "* UML diagrams: [Pyreverse: UML Diagrams for Python](https://www.logilab.org/blogentry/6883) \n",
    "\n",
    "  * Reference: https://github.com/PySEE/PyRankine/tree/master/step4/UML-STEP4-JSON.md\n",
    "\n",
    "### Pylint with Visual Studio Code\n",
    "\n",
    "![vscode-pylint](./img/vscode-pylint.jpg)"
   ]
  },
  {
   "cell_type": "markdown",
   "metadata": {},
   "source": [
    "## Google Python Style Guide\n",
    "\n",
    "Every major open-source project has its own style guide: a set of conventions (sometimes arbitrary) about how to write code for that project. It is much easier to understand a large codebase when all the code in it is in a consistent style.\n",
    "\n",
    "“Style” covers a lot of ground, from “use <b>camelCase</b> for variable names” to “never use global variables” to “never use exceptions.” This project holds the style guidelines we use for Google code. If you are modifying a project that originated at Google, you may be pointed to this page to see the style guides that apply to that project.\n",
    "\n",
    "\n",
    "* http://google.github.io/styleguide/pyguide.html\n",
    "\n",
    "* 中文： https://github.com/zh-google-styleguide/zh-google-styleguide\n",
    "\n",
    "   * Python https://zh-google-styleguide.readthedocs.io/en/latest/google-python-styleguide/"
   ]
  },
  {
   "cell_type": "code",
   "execution_count": null,
   "metadata": {},
   "outputs": [],
   "source": []
  }
 ],
 "metadata": {
  "kernelspec": {
   "display_name": "Python 3",
   "language": "python",
   "name": "python3"
  },
  "language_info": {
   "codemirror_mode": {
    "name": "ipython",
    "version": 3
   },
   "file_extension": ".py",
   "mimetype": "text/x-python",
   "name": "python",
   "nbconvert_exporter": "python",
   "pygments_lexer": "ipython3",
   "version": "3.7.2"
  },
  "toc": {
   "base_numbering": 1,
   "nav_menu": {},
   "number_sections": false,
   "sideBar": true,
   "skip_h1_title": false,
   "title_cell": "Table of Contents",
   "title_sidebar": "Contents",
   "toc_cell": false,
   "toc_position": {
    "height": "calc(100% - 180px)",
    "left": "10px",
    "top": "150px",
    "width": "307.2px"
   },
   "toc_section_display": true,
   "toc_window_display": true
  },
  "widgets": {
   "state": {},
   "version": "1.1.2"
  }
 },
 "nbformat": 4,
 "nbformat_minor": 1
}
